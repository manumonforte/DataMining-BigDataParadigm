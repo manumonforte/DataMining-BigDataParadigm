{
 "cells": [
  {
   "cell_type": "markdown",
   "metadata": {},
   "source": [
    "## Instalamos Paquetes y cargamos librerias"
   ]
  },
  {
   "cell_type": "code",
   "execution_count": 157,
   "metadata": {
    "scrolled": true
   },
   "outputs": [],
   "source": [
    "#Limpiamos memoria\n",
    "rm(list=ls());\n",
    "is.installed <- function(mypkg) {\n",
    "  is.element(mypkg, installed.packages()[,1]) \n",
    "}\n",
    "\n",
    "#Instalamos paquetes para agrupar csv\n",
    "if (!is.installed(\"data.table\")){\n",
    "  install.packages(\"data.table\",repos = \"http://cran.us.r-project.org\")\n",
    "};\n",
    "#Intslamos paquete para manipular ts\n",
    "if (!is.installed(\"xts\")){\n",
    "  install.packages(\"xts\",repos = \"http://cran.us.r-project.org\")\n",
    "};\n",
    "#Instalamos paquete para agrupar datos\n",
    "if (!is.installed(\"dplyr\")){\n",
    "  install.packages(\"dplyr\",repos = \"http://cran.us.r-project.org\")\n",
    "};\n",
    "\n",
    "# Instalamos paquete para leer exccels\n",
    "if (!is.installed(\"readxl\")){\n",
    "  install.packages(\"readxl\",repos = \"http://cran.us.r-project.org\")\n",
    "};\n"
   ]
  },
  {
   "cell_type": "code",
   "execution_count": 158,
   "metadata": {},
   "outputs": [],
   "source": [
    "# Cargamos las librerias\n",
    "library(data.table)\n",
    "library(xts)\n",
    "library(dplyr)    # loads %>%\n",
    "library(readxl)\n",
    "library(ggplot2)"
   ]
  },
  {
   "cell_type": "markdown",
   "metadata": {},
   "source": [
    "## Cargamos datos calidad del aire 2001-2018 Madrid"
   ]
  },
  {
   "cell_type": "code",
   "execution_count": 159,
   "metadata": {},
   "outputs": [],
   "source": [
    "#Cargamos los datos de los anos en un dataset (utilziamos read.csv ya que el separador es,)\n",
    "\n",
    "data2001<- read.csv(file = \"data/madrid_2001.csv\",header = TRUE);\n",
    "data2002<- read.csv(file = \"data/madrid_2002.csv\",header = TRUE);\n",
    "data2003<- read.csv(file = \"data/madrid_2003.csv\",header = TRUE);\n",
    "data2004<- read.csv(file = \"data/madrid_2004.csv\",header = TRUE);\n",
    "data2005<- read.csv(file = \"data/madrid_2005.csv\",header = TRUE);\n",
    "data2006<- read.csv(file = \"data/madrid_2006.csv\",header = TRUE);\n",
    "data2007<- read.csv(file = \"data/madrid_2007.csv\",header = TRUE);\n",
    "data2008<- read.csv(file = \"data/madrid_2008.csv\",header = TRUE);\n",
    "data2009<- read.csv(file = \"data/madrid_2009.csv\",header = TRUE);\n",
    "data2010<- read.csv(file = \"data/madrid_2010.csv\",header = TRUE);\n",
    "data2011<- read.csv(file = \"data/madrid_2011.csv\",header = TRUE);\n",
    "data2012<- read.csv(file = \"data/madrid_2012.csv\",header = TRUE);\n",
    "data2013<- read.csv(file = \"data/madrid_2013.csv\",header = TRUE);\n",
    "data2014<- read.csv(file = \"data/madrid_2014.csv\",header = TRUE);\n",
    "data2015<- read.csv(file = \"data/madrid_2015.csv\",header = TRUE);\n",
    "data2016<- read.csv(file = \"data/madrid_2016.csv\",header = TRUE);\n",
    "data2017<- read.csv(file = \"data/madrid_2017.csv\",header = TRUE);\n",
    "data2018<- read.csv(file = \"data/madrid_2018.csv\",header = TRUE);"
   ]
  },
  {
   "cell_type": "code",
   "execution_count": 160,
   "metadata": {},
   "outputs": [],
   "source": [
    "# unimos los datos \n",
    "data <- data.table::rbindlist(list(data2001,data2002,data2003,data2004,data2005,data2006,\n",
    "                                   data2007,data2008,data2009,data2010,data2011,data2012,\n",
    "                                   data2013,data2014,data2015,data2016,data2017,data2018),\n",
    "                                   fill = TRUE);\n",
    "\n",
    "# convertimos la lista en un dataset\n",
    "airMadrid <- as.data.frame(data); \n",
    "\n",
    "# liberamos memoria\n",
    "rm(list=ls(pattern=\"data\"))"
   ]
  },
  {
   "cell_type": "markdown",
   "metadata": {},
   "source": [
    "## Visualizacion inicial datos calidad del aire"
   ]
  },
  {
   "cell_type": "code",
   "execution_count": 161,
   "metadata": {},
   "outputs": [
    {
     "data": {
      "text/html": [
       "<table>\n",
       "<thead><tr><th scope=col>date</th><th scope=col>BEN</th><th scope=col>CO</th><th scope=col>EBE</th><th scope=col>MXY</th><th scope=col>NMHC</th><th scope=col>NO_2</th><th scope=col>NOx</th><th scope=col>OXY</th><th scope=col>O_3</th><th scope=col>PM10</th><th scope=col>PXY</th><th scope=col>SO_2</th><th scope=col>TCH</th><th scope=col>TOL</th><th scope=col>station</th><th scope=col>PM25</th><th scope=col>NO</th><th scope=col>CH4</th></tr></thead>\n",
       "<tbody>\n",
       "\t<tr><td>2001-08-01 01:00:00</td><td>  NA               </td><td>0.37               </td><td>  NA               </td><td>  NA               </td><td>  NA               </td><td>58.40              </td><td> 87.15             </td><td>  NA               </td><td>34.53              </td><td>105.00             </td><td>  NA               </td><td>6.34               </td><td>  NA               </td><td>   NA              </td><td>28079001           </td><td>NA                 </td><td>NA                 </td><td>NA                 </td></tr>\n",
       "\t<tr><td>2001-08-01 01:00:00</td><td>1.50               </td><td>0.34               </td><td>1.49               </td><td>4.10               </td><td>0.07               </td><td>56.25              </td><td> 75.17             </td><td>2.11               </td><td>42.16              </td><td>100.60             </td><td>1.73               </td><td>8.11               </td><td>1.24               </td><td>10.82              </td><td>28079035           </td><td>NA                 </td><td>NA                 </td><td>NA                 </td></tr>\n",
       "\t<tr><td>2001-08-01 01:00:00</td><td>  NA               </td><td>0.28               </td><td>  NA               </td><td>  NA               </td><td>  NA               </td><td>50.66              </td><td> 61.38             </td><td>  NA               </td><td>46.31              </td><td>100.10             </td><td>  NA               </td><td>7.85               </td><td>  NA               </td><td>   NA              </td><td>28079003           </td><td>NA                 </td><td>NA                 </td><td>NA                 </td></tr>\n",
       "\t<tr><td>2001-08-01 01:00:00</td><td>  NA               </td><td>0.47               </td><td>  NA               </td><td>  NA               </td><td>  NA               </td><td>69.79              </td><td> 73.45             </td><td>  NA               </td><td>40.65              </td><td> 69.78             </td><td>  NA               </td><td>6.46               </td><td>  NA               </td><td>   NA              </td><td>28079004           </td><td>NA                 </td><td>NA                 </td><td>NA                 </td></tr>\n",
       "\t<tr><td>2001-08-01 01:00:00</td><td>  NA               </td><td>0.39               </td><td>  NA               </td><td>  NA               </td><td>  NA               </td><td>22.83              </td><td> 24.80             </td><td>  NA               </td><td>66.31              </td><td> 75.18             </td><td>  NA               </td><td>8.80               </td><td>  NA               </td><td>   NA              </td><td>28079039           </td><td>NA                 </td><td>NA                 </td><td>NA                 </td></tr>\n",
       "\t<tr><td>2001-08-01 01:00:00</td><td>2.11               </td><td>0.63               </td><td>2.48               </td><td>5.94               </td><td>0.05               </td><td>66.26              </td><td>118.10             </td><td>3.15               </td><td>33.50              </td><td>122.70             </td><td>2.29               </td><td>6.36               </td><td>1.23               </td><td>13.28              </td><td>28079006           </td><td>NA                 </td><td>NA                 </td><td>NA                 </td></tr>\n",
       "</tbody>\n",
       "</table>\n"
      ],
      "text/latex": [
       "\\begin{tabular}{r|lllllllllllllllllll}\n",
       " date & BEN & CO & EBE & MXY & NMHC & NO\\_2 & NOx & OXY & O\\_3 & PM10 & PXY & SO\\_2 & TCH & TOL & station & PM25 & NO & CH4\\\\\n",
       "\\hline\n",
       "\t 2001-08-01 01:00:00 &   NA                & 0.37                &   NA                &   NA                &   NA                & 58.40               &  87.15              &   NA                & 34.53               & 105.00              &   NA                & 6.34                &   NA                &    NA               & 28079001            & NA                  & NA                  & NA                 \\\\\n",
       "\t 2001-08-01 01:00:00 & 1.50                & 0.34                & 1.49                & 4.10                & 0.07                & 56.25               &  75.17              & 2.11                & 42.16               & 100.60              & 1.73                & 8.11                & 1.24                & 10.82               & 28079035            & NA                  & NA                  & NA                 \\\\\n",
       "\t 2001-08-01 01:00:00 &   NA                & 0.28                &   NA                &   NA                &   NA                & 50.66               &  61.38              &   NA                & 46.31               & 100.10              &   NA                & 7.85                &   NA                &    NA               & 28079003            & NA                  & NA                  & NA                 \\\\\n",
       "\t 2001-08-01 01:00:00 &   NA                & 0.47                &   NA                &   NA                &   NA                & 69.79               &  73.45              &   NA                & 40.65               &  69.78              &   NA                & 6.46                &   NA                &    NA               & 28079004            & NA                  & NA                  & NA                 \\\\\n",
       "\t 2001-08-01 01:00:00 &   NA                & 0.39                &   NA                &   NA                &   NA                & 22.83               &  24.80              &   NA                & 66.31               &  75.18              &   NA                & 8.80                &   NA                &    NA               & 28079039            & NA                  & NA                  & NA                 \\\\\n",
       "\t 2001-08-01 01:00:00 & 2.11                & 0.63                & 2.48                & 5.94                & 0.05                & 66.26               & 118.10              & 3.15                & 33.50               & 122.70              & 2.29                & 6.36                & 1.23                & 13.28               & 28079006            & NA                  & NA                  & NA                 \\\\\n",
       "\\end{tabular}\n"
      ],
      "text/markdown": [
       "\n",
       "date | BEN | CO | EBE | MXY | NMHC | NO_2 | NOx | OXY | O_3 | PM10 | PXY | SO_2 | TCH | TOL | station | PM25 | NO | CH4 | \n",
       "|---|---|---|---|---|---|\n",
       "| 2001-08-01 01:00:00 |   NA                | 0.37                |   NA                |   NA                |   NA                | 58.40               |  87.15              |   NA                | 34.53               | 105.00              |   NA                | 6.34                |   NA                |    NA               | 28079001            | NA                  | NA                  | NA                  | \n",
       "| 2001-08-01 01:00:00 | 1.50                | 0.34                | 1.49                | 4.10                | 0.07                | 56.25               |  75.17              | 2.11                | 42.16               | 100.60              | 1.73                | 8.11                | 1.24                | 10.82               | 28079035            | NA                  | NA                  | NA                  | \n",
       "| 2001-08-01 01:00:00 |   NA                | 0.28                |   NA                |   NA                |   NA                | 50.66               |  61.38              |   NA                | 46.31               | 100.10              |   NA                | 7.85                |   NA                |    NA               | 28079003            | NA                  | NA                  | NA                  | \n",
       "| 2001-08-01 01:00:00 |   NA                | 0.47                |   NA                |   NA                |   NA                | 69.79               |  73.45              |   NA                | 40.65               |  69.78              |   NA                | 6.46                |   NA                |    NA               | 28079004            | NA                  | NA                  | NA                  | \n",
       "| 2001-08-01 01:00:00 |   NA                | 0.39                |   NA                |   NA                |   NA                | 22.83               |  24.80              |   NA                | 66.31               |  75.18              |   NA                | 8.80                |   NA                |    NA               | 28079039            | NA                  | NA                  | NA                  | \n",
       "| 2001-08-01 01:00:00 | 2.11                | 0.63                | 2.48                | 5.94                | 0.05                | 66.26               | 118.10              | 3.15                | 33.50               | 122.70              | 2.29                | 6.36                | 1.23                | 13.28               | 28079006            | NA                  | NA                  | NA                  | \n",
       "\n",
       "\n"
      ],
      "text/plain": [
       "  date                BEN  CO   EBE  MXY  NMHC NO_2  NOx    OXY  O_3   PM10  \n",
       "1 2001-08-01 01:00:00   NA 0.37   NA   NA   NA 58.40  87.15   NA 34.53 105.00\n",
       "2 2001-08-01 01:00:00 1.50 0.34 1.49 4.10 0.07 56.25  75.17 2.11 42.16 100.60\n",
       "3 2001-08-01 01:00:00   NA 0.28   NA   NA   NA 50.66  61.38   NA 46.31 100.10\n",
       "4 2001-08-01 01:00:00   NA 0.47   NA   NA   NA 69.79  73.45   NA 40.65  69.78\n",
       "5 2001-08-01 01:00:00   NA 0.39   NA   NA   NA 22.83  24.80   NA 66.31  75.18\n",
       "6 2001-08-01 01:00:00 2.11 0.63 2.48 5.94 0.05 66.26 118.10 3.15 33.50 122.70\n",
       "  PXY  SO_2 TCH  TOL   station  PM25 NO CH4\n",
       "1   NA 6.34   NA    NA 28079001 NA   NA NA \n",
       "2 1.73 8.11 1.24 10.82 28079035 NA   NA NA \n",
       "3   NA 7.85   NA    NA 28079003 NA   NA NA \n",
       "4   NA 6.46   NA    NA 28079004 NA   NA NA \n",
       "5   NA 8.80   NA    NA 28079039 NA   NA NA \n",
       "6 2.29 6.36 1.23 13.28 28079006 NA   NA NA "
      ]
     },
     "metadata": {},
     "output_type": "display_data"
    }
   ],
   "source": [
    "# observamos que todos los datos se han unido, aplicando head y tail al dataset \n",
    "# para ver cuando empiezan y acaban fechas\n",
    "\n",
    "head(airMadrid)"
   ]
  },
  {
   "cell_type": "code",
   "execution_count": 162,
   "metadata": {},
   "outputs": [
    {
     "data": {
      "text/html": [
       "<table>\n",
       "<thead><tr><th></th><th scope=col>date</th><th scope=col>BEN</th><th scope=col>CO</th><th scope=col>EBE</th><th scope=col>MXY</th><th scope=col>NMHC</th><th scope=col>NO_2</th><th scope=col>NOx</th><th scope=col>OXY</th><th scope=col>O_3</th><th scope=col>PM10</th><th scope=col>PXY</th><th scope=col>SO_2</th><th scope=col>TCH</th><th scope=col>TOL</th><th scope=col>station</th><th scope=col>PM25</th><th scope=col>NO</th><th scope=col>CH4</th></tr></thead>\n",
       "<tbody>\n",
       "\t<tr><th scope=row>3808219</th><td>2018-02-01 00:00:00</td><td>1.3                </td><td> NA                </td><td>1.2                </td><td>NA                 </td><td>0.13               </td><td> 94                </td><td>190                </td><td>NA                 </td><td>NA                 </td><td>35                 </td><td>NA                 </td><td>NA                 </td><td>1.68               </td><td>5.2                </td><td>28079055           </td><td>NA                 </td><td> 63                </td><td>1.55               </td></tr>\n",
       "\t<tr><th scope=row>3808220</th><td>2018-02-01 00:00:00</td><td> NA                </td><td>0.5                </td><td> NA                </td><td>NA                 </td><td>  NA               </td><td> 91                </td><td>192                </td><td>NA                 </td><td> 1                 </td><td>35                 </td><td>NA                 </td><td>NA                 </td><td>  NA               </td><td> NA                </td><td>28079056           </td><td>22                 </td><td> 66                </td><td>  NA               </td></tr>\n",
       "\t<tr><th scope=row>3808221</th><td>2018-02-01 00:00:00</td><td> NA                </td><td>0.7                </td><td> NA                </td><td>NA                 </td><td>  NA               </td><td>107                </td><td>241                </td><td>NA                 </td><td>NA                 </td><td>29                 </td><td>NA                 </td><td>15                 </td><td>  NA               </td><td> NA                </td><td>28079057           </td><td>NA                 </td><td> 87                </td><td>  NA               </td></tr>\n",
       "\t<tr><th scope=row>3808222</th><td>2018-02-01 00:00:00</td><td> NA                </td><td> NA                </td><td> NA                </td><td>NA                 </td><td>  NA               </td><td> 48                </td><td> 91                </td><td>NA                 </td><td> 2                 </td><td>NA                 </td><td>NA                 </td><td>NA                 </td><td>  NA               </td><td> NA                </td><td>28079058           </td><td>NA                 </td><td> 28                </td><td>  NA               </td></tr>\n",
       "\t<tr><th scope=row>3808223</th><td>2018-02-01 00:00:00</td><td> NA                </td><td> NA                </td><td> NA                </td><td>NA                 </td><td>  NA               </td><td>103                </td><td>320                </td><td>NA                 </td><td> 2                 </td><td>NA                 </td><td>NA                 </td><td>NA                 </td><td>  NA               </td><td> NA                </td><td>28079059           </td><td>NA                 </td><td>141                </td><td>  NA               </td></tr>\n",
       "\t<tr><th scope=row>3808224</th><td>2018-02-01 00:00:00</td><td> NA                </td><td> NA                </td><td> NA                </td><td>NA                 </td><td>  NA               </td><td> 96                </td><td>202                </td><td>NA                 </td><td> 3                 </td><td>26                 </td><td>NA                 </td><td>NA                 </td><td>  NA               </td><td> NA                </td><td>28079060           </td><td>NA                 </td><td> 69                </td><td>  NA               </td></tr>\n",
       "</tbody>\n",
       "</table>\n"
      ],
      "text/latex": [
       "\\begin{tabular}{r|lllllllllllllllllll}\n",
       "  & date & BEN & CO & EBE & MXY & NMHC & NO\\_2 & NOx & OXY & O\\_3 & PM10 & PXY & SO\\_2 & TCH & TOL & station & PM25 & NO & CH4\\\\\n",
       "\\hline\n",
       "\t3808219 & 2018-02-01 00:00:00 & 1.3                 &  NA                 & 1.2                 & NA                  & 0.13                &  94                 & 190                 & NA                  & NA                  & 35                  & NA                  & NA                  & 1.68                & 5.2                 & 28079055            & NA                  &  63                 & 1.55               \\\\\n",
       "\t3808220 & 2018-02-01 00:00:00 &  NA                 & 0.5                 &  NA                 & NA                  &   NA                &  91                 & 192                 & NA                  &  1                  & 35                  & NA                  & NA                  &   NA                &  NA                 & 28079056            & 22                  &  66                 &   NA               \\\\\n",
       "\t3808221 & 2018-02-01 00:00:00 &  NA                 & 0.7                 &  NA                 & NA                  &   NA                & 107                 & 241                 & NA                  & NA                  & 29                  & NA                  & 15                  &   NA                &  NA                 & 28079057            & NA                  &  87                 &   NA               \\\\\n",
       "\t3808222 & 2018-02-01 00:00:00 &  NA                 &  NA                 &  NA                 & NA                  &   NA                &  48                 &  91                 & NA                  &  2                  & NA                  & NA                  & NA                  &   NA                &  NA                 & 28079058            & NA                  &  28                 &   NA               \\\\\n",
       "\t3808223 & 2018-02-01 00:00:00 &  NA                 &  NA                 &  NA                 & NA                  &   NA                & 103                 & 320                 & NA                  &  2                  & NA                  & NA                  & NA                  &   NA                &  NA                 & 28079059            & NA                  & 141                 &   NA               \\\\\n",
       "\t3808224 & 2018-02-01 00:00:00 &  NA                 &  NA                 &  NA                 & NA                  &   NA                &  96                 & 202                 & NA                  &  3                  & 26                  & NA                  & NA                  &   NA                &  NA                 & 28079060            & NA                  &  69                 &   NA               \\\\\n",
       "\\end{tabular}\n"
      ],
      "text/markdown": [
       "\n",
       "| <!--/--> | date | BEN | CO | EBE | MXY | NMHC | NO_2 | NOx | OXY | O_3 | PM10 | PXY | SO_2 | TCH | TOL | station | PM25 | NO | CH4 | \n",
       "|---|---|---|---|---|---|\n",
       "| 3808219 | 2018-02-01 00:00:00 | 1.3                 |  NA                 | 1.2                 | NA                  | 0.13                |  94                 | 190                 | NA                  | NA                  | 35                  | NA                  | NA                  | 1.68                | 5.2                 | 28079055            | NA                  |  63                 | 1.55                | \n",
       "| 3808220 | 2018-02-01 00:00:00 |  NA                 | 0.5                 |  NA                 | NA                  |   NA                |  91                 | 192                 | NA                  |  1                  | 35                  | NA                  | NA                  |   NA                |  NA                 | 28079056            | 22                  |  66                 |   NA                | \n",
       "| 3808221 | 2018-02-01 00:00:00 |  NA                 | 0.7                 |  NA                 | NA                  |   NA                | 107                 | 241                 | NA                  | NA                  | 29                  | NA                  | 15                  |   NA                |  NA                 | 28079057            | NA                  |  87                 |   NA                | \n",
       "| 3808222 | 2018-02-01 00:00:00 |  NA                 |  NA                 |  NA                 | NA                  |   NA                |  48                 |  91                 | NA                  |  2                  | NA                  | NA                  | NA                  |   NA                |  NA                 | 28079058            | NA                  |  28                 |   NA                | \n",
       "| 3808223 | 2018-02-01 00:00:00 |  NA                 |  NA                 |  NA                 | NA                  |   NA                | 103                 | 320                 | NA                  |  2                  | NA                  | NA                  | NA                  |   NA                |  NA                 | 28079059            | NA                  | 141                 |   NA                | \n",
       "| 3808224 | 2018-02-01 00:00:00 |  NA                 |  NA                 |  NA                 | NA                  |   NA                |  96                 | 202                 | NA                  |  3                  | 26                  | NA                  | NA                  |   NA                |  NA                 | 28079060            | NA                  |  69                 |   NA                | \n",
       "\n",
       "\n"
      ],
      "text/plain": [
       "        date                BEN CO  EBE MXY NMHC NO_2 NOx OXY O_3 PM10 PXY SO_2\n",
       "3808219 2018-02-01 00:00:00 1.3  NA 1.2 NA  0.13  94  190 NA  NA  35   NA  NA  \n",
       "3808220 2018-02-01 00:00:00  NA 0.5  NA NA    NA  91  192 NA   1  35   NA  NA  \n",
       "3808221 2018-02-01 00:00:00  NA 0.7  NA NA    NA 107  241 NA  NA  29   NA  15  \n",
       "3808222 2018-02-01 00:00:00  NA  NA  NA NA    NA  48   91 NA   2  NA   NA  NA  \n",
       "3808223 2018-02-01 00:00:00  NA  NA  NA NA    NA 103  320 NA   2  NA   NA  NA  \n",
       "3808224 2018-02-01 00:00:00  NA  NA  NA NA    NA  96  202 NA   3  26   NA  NA  \n",
       "        TCH  TOL station  PM25 NO  CH4 \n",
       "3808219 1.68 5.2 28079055 NA    63 1.55\n",
       "3808220   NA  NA 28079056 22    66   NA\n",
       "3808221   NA  NA 28079057 NA    87   NA\n",
       "3808222   NA  NA 28079058 NA    28   NA\n",
       "3808223   NA  NA 28079059 NA   141   NA\n",
       "3808224   NA  NA 28079060 NA    69   NA"
      ]
     },
     "metadata": {},
     "output_type": "display_data"
    }
   ],
   "source": [
    "tail(airMadrid)"
   ]
  },
  {
   "cell_type": "markdown",
   "metadata": {},
   "source": [
    "## Carga datos Precipitaciones 2001-2018"
   ]
  },
  {
   "cell_type": "code",
   "execution_count": 163,
   "metadata": {},
   "outputs": [],
   "source": [
    "#Cargamos los datos de las precipitaciones\n",
    "rainfall_2001<- readxl::read_xlsx(\"data/rainfall_2001.xlsx\",col_names = TRUE);\n",
    "rainfall_2002<- readxl::read_xlsx(\"data/rainfall_2002.xlsx\",col_names = TRUE);\n",
    "rainfall_2003<- readxl::read_xlsx(\"data/rainfall_2003.xlsx\",col_names = TRUE);\n",
    "rainfall_2004<- readxl::read_xlsx(\"data/rainfall_2004.xlsx\",col_names = TRUE);\n",
    "rainfall_2005<- readxl::read_xlsx(\"data/rainfall_2005.xlsx\",col_names = TRUE);\n",
    "rainfall_2006<- readxl::read_xlsx(\"data/rainfall_2006.xlsx\",col_names = TRUE);\n",
    "rainfall_2007<- readxl::read_xlsx(\"data/rainfall_2007.xlsx\",col_names = TRUE);\n",
    "rainfall_2008<- readxl::read_xlsx(\"data/rainfall_2008.xlsx\",col_names = TRUE);\n",
    "rainfall_2009<- readxl::read_xlsx(\"data/rainfall_2009.xlsx\",col_names = TRUE);\n",
    "rainfall_2010<- readxl::read_xlsx(\"data/rainfall_2010.xlsx\",col_names = TRUE);\n",
    "rainfall_2011<- readxl::read_xlsx(\"data/rainfall_2011.xlsx\",col_names = TRUE);\n",
    "rainfall_2012<- readxl::read_xlsx(\"data/rainfall_2012.xlsx\",col_names = TRUE);\n",
    "rainfall_2013<- readxl::read_xlsx(\"data/rainfall_2013.xlsx\",col_names = TRUE);\n",
    "rainfall_2014<- readxl::read_xlsx(\"data/rainfall_2014.xlsx\",col_names = TRUE);\n",
    "rainfall_2015<- readxl::read_xlsx(\"data/rainfall_2015.xlsx\",col_names = TRUE);\n",
    "rainfall_2016<- readxl::read_xlsx(\"data/rainfall_2016.xlsx\",col_names = TRUE);\n",
    "rainfall_2017<- readxl::read_xlsx(\"data/rainfall_2017.xlsx\",col_names = TRUE);\n",
    "rainfall_2018<- readxl::read_xlsx(\"data/rainfall_2018.xlsx\",col_names = TRUE);"
   ]
  },
  {
   "cell_type": "code",
   "execution_count": 164,
   "metadata": {},
   "outputs": [],
   "source": [
    "# unimos los datos\n",
    "rainfall <- data.table::rbindlist(list(rainfall_2001,rainfall_2002,rainfall_2003,rainfall_2004,\n",
    "              rainfall_2005,rainfall_2006,rainfall_2007,rainfall_2008,rainfall_2009,rainfall_2010,\n",
    "              rainfall_2011,rainfall_2012,rainfall_2013,rainfall_2014,rainfall_2015,rainfall_2016,\n",
    "rainfall_2017,rainfall_2018), fill = TRUE)\n",
    "\n",
    "# convertimos la lista en un dataset\n",
    "datasetRainfall <- as.data.frame(rainfall);\n",
    "\n",
    "# liberamos memoria\n",
    "rm(list=ls(pattern=\"rainfall\"))\n",
    "\n",
    "# cambiamos nombre de las columnas\n",
    "data.table::setnames(datasetRainfall, \"FECHA\", \"date\")\n",
    "data.table::setnames(datasetRainfall, \"Precipitación: l/m2\", \"l/m2\")"
   ]
  },
  {
   "cell_type": "markdown",
   "metadata": {},
   "source": [
    "## Carga datos Viento 2001-2018"
   ]
  },
  {
   "cell_type": "code",
   "execution_count": 165,
   "metadata": {},
   "outputs": [],
   "source": [
    "#Cargamos los datos de las precipitaciones\n",
    "wind_2001<- readxl::read_xlsx(\"data/wind_2001.xlsx\",col_names = TRUE);\n",
    "wind_2002<- readxl::read_xlsx(\"data/wind_2002.xlsx\",col_names = TRUE);\n",
    "wind_2003<- readxl::read_xlsx(\"data/wind_2003.xlsx\",col_names = TRUE);\n",
    "wind_2004<- readxl::read_xlsx(\"data/wind_2004.xlsx\",col_names = TRUE);\n",
    "wind_2005<- readxl::read_xlsx(\"data/wind_2005.xlsx\",col_names = TRUE);\n",
    "wind_2006<- readxl::read_xlsx(\"data/wind_2006.xlsx\",col_names = TRUE);\n",
    "wind_2007<- readxl::read_xlsx(\"data/wind_2007.xlsx\",col_names = TRUE);\n",
    "wind_2008<- readxl::read_xlsx(\"data/wind_2008.xlsx\",col_names = TRUE);\n",
    "wind_2009<- readxl::read_xlsx(\"data/wind_2009.xlsx\",col_names = TRUE);\n",
    "wind_2010<- readxl::read_xlsx(\"data/wind_2010.xlsx\",col_names = TRUE);\n",
    "wind_2011<- readxl::read_xlsx(\"data/wind_2011.xlsx\",col_names = TRUE);\n",
    "wind_2012<- readxl::read_xlsx(\"data/wind_2012.xlsx\",col_names = TRUE);\n",
    "wind_2013<- readxl::read_xlsx(\"data/wind_2013.xlsx\",col_names = TRUE);\n",
    "wind_2014<- readxl::read_xlsx(\"data/wind_2014.xlsx\",col_names = TRUE);\n",
    "wind_2015<- readxl::read_xlsx(\"data/wind_2015.xlsx\",col_names = TRUE);\n",
    "wind_2016<- readxl::read_xlsx(\"data/wind_2016.xlsx\",col_names = TRUE);\n",
    "wind_2017<- readxl::read_xlsx(\"data/wind_2017.xlsx\",col_names = TRUE);\n",
    "wind_2018<- readxl::read_xlsx(\"data/wind_2018.xlsx\",col_names = TRUE);"
   ]
  },
  {
   "cell_type": "code",
   "execution_count": 166,
   "metadata": {},
   "outputs": [
    {
     "data": {
      "text/html": [
       "'character'"
      ],
      "text/latex": [
       "'character'"
      ],
      "text/markdown": [
       "'character'"
      ],
      "text/plain": [
       "[1] \"character\""
      ]
     },
     "metadata": {},
     "output_type": "display_data"
    },
    {
     "data": {
      "text/html": [
       "'double'"
      ],
      "text/latex": [
       "'double'"
      ],
      "text/markdown": [
       "'double'"
      ],
      "text/plain": [
       "[1] \"double\""
      ]
     },
     "metadata": {},
     "output_type": "display_data"
    }
   ],
   "source": [
    "wind <- data.table::rbindlist(list(wind_2001,wind_2002,wind_2003,wind_2004,\n",
    "              wind_2005,wind_2006,wind_2007,wind_2008,wind_2009,wind_2010,\n",
    "              wind_2011,wind_2012,wind_2013,wind_2014,wind_2015,wind_2016,\n",
    "wind_2017,wind_2018), fill = TRUE)\n",
    "\n",
    "dataFrameWind <- as.data.frame(wind);\n",
    "\n",
    "rm(list=ls(pattern=\"wind\"))\n",
    "\n",
    "wind <-dataFrameWind\n",
    "rm(dataFrameWind)\n",
    "\n",
    "# cambiamos nombre de las columnas\n",
    "data.table::setnames(wind, \"FECHA\", \"date\")\n",
    "data.table::setnames(wind, \"Veloc. Media (Km/h)\", \"Speed\")\n",
    "data.table::setnames(wind, \"Racha Max (Km/h)\", \"maxSpeed\")\n",
    "data.table::setnames(wind, \"Hora Racha\", \"time\")\n",
    "\n",
    "#Eliminamos columnas que no nos interesan\n",
    "wind$time = NULL\n",
    "wind$maxSpeed= NULL\n",
    "\n",
    "#Preparamos la fecha en formato Date para cruzar los datos\n",
    "wind$date <- as.Date(wind$date)\n",
    "\n",
    "#Ponemos la velocidad del viento en m/s para discretizar el mismo a posteriori, \n",
    "#primero convertimos la columna a tipo numerico ya que al leeerla la trata como character\n",
    "\n",
    "typeof(wind$Speed)\n",
    "wind$Speed <- as.numeric(wind$Speed)\n",
    "typeof(wind$Speed)\n",
    "       \n",
    "wind$Speed = wind$Speed * (1000/3600)"
   ]
  },
  {
   "cell_type": "markdown",
   "metadata": {},
   "source": [
    "## Visualizacion inicial datos precipitaciones"
   ]
  },
  {
   "cell_type": "code",
   "execution_count": 167,
   "metadata": {},
   "outputs": [
    {
     "data": {
      "text/html": [
       "<table>\n",
       "<thead><tr><th scope=col>date</th><th scope=col>l/m2</th></tr></thead>\n",
       "<tbody>\n",
       "\t<tr><td>2001-01-01</td><td>4.3       </td></tr>\n",
       "\t<tr><td>2001-01-02</td><td>0.1       </td></tr>\n",
       "\t<tr><td>2001-01-03</td><td>2.2       </td></tr>\n",
       "\t<tr><td>2001-01-04</td><td>2.4       </td></tr>\n",
       "\t<tr><td>2001-01-05</td><td>13.3      </td></tr>\n",
       "\t<tr><td>2001-01-06</td><td>0.0       </td></tr>\n",
       "</tbody>\n",
       "</table>\n"
      ],
      "text/latex": [
       "\\begin{tabular}{r|ll}\n",
       " date & l/m2\\\\\n",
       "\\hline\n",
       "\t 2001-01-01 & 4.3       \\\\\n",
       "\t 2001-01-02 & 0.1       \\\\\n",
       "\t 2001-01-03 & 2.2       \\\\\n",
       "\t 2001-01-04 & 2.4       \\\\\n",
       "\t 2001-01-05 & 13.3      \\\\\n",
       "\t 2001-01-06 & 0.0       \\\\\n",
       "\\end{tabular}\n"
      ],
      "text/markdown": [
       "\n",
       "date | l/m2 | \n",
       "|---|---|---|---|---|---|\n",
       "| 2001-01-01 | 4.3        | \n",
       "| 2001-01-02 | 0.1        | \n",
       "| 2001-01-03 | 2.2        | \n",
       "| 2001-01-04 | 2.4        | \n",
       "| 2001-01-05 | 13.3       | \n",
       "| 2001-01-06 | 0.0        | \n",
       "\n",
       "\n"
      ],
      "text/plain": [
       "  date       l/m2\n",
       "1 2001-01-01 4.3 \n",
       "2 2001-01-02 0.1 \n",
       "3 2001-01-03 2.2 \n",
       "4 2001-01-04 2.4 \n",
       "5 2001-01-05 13.3\n",
       "6 2001-01-06 0.0 "
      ]
     },
     "metadata": {},
     "output_type": "display_data"
    }
   ],
   "source": [
    "##observamos que todos los datos se han unido, aplicando head y tail al dataset \n",
    "# para ver cuando empiezan y acaban fechas\n",
    "head(datasetRainfall)"
   ]
  },
  {
   "cell_type": "code",
   "execution_count": 168,
   "metadata": {},
   "outputs": [
    {
     "data": {
      "text/html": [
       "<table>\n",
       "<thead><tr><th></th><th scope=col>date</th><th scope=col>l/m2</th></tr></thead>\n",
       "<tbody>\n",
       "\t<tr><th scope=row>5933</th><td>2018-12-26</td><td>0         </td></tr>\n",
       "\t<tr><th scope=row>5934</th><td>2018-12-27</td><td>0         </td></tr>\n",
       "\t<tr><th scope=row>5935</th><td>2018-12-28</td><td>0         </td></tr>\n",
       "\t<tr><th scope=row>5936</th><td>2018-12-29</td><td>0         </td></tr>\n",
       "\t<tr><th scope=row>5937</th><td>2018-12-30</td><td>0         </td></tr>\n",
       "\t<tr><th scope=row>5938</th><td>2018-12-31</td><td>0         </td></tr>\n",
       "</tbody>\n",
       "</table>\n"
      ],
      "text/latex": [
       "\\begin{tabular}{r|ll}\n",
       "  & date & l/m2\\\\\n",
       "\\hline\n",
       "\t5933 & 2018-12-26 & 0         \\\\\n",
       "\t5934 & 2018-12-27 & 0         \\\\\n",
       "\t5935 & 2018-12-28 & 0         \\\\\n",
       "\t5936 & 2018-12-29 & 0         \\\\\n",
       "\t5937 & 2018-12-30 & 0         \\\\\n",
       "\t5938 & 2018-12-31 & 0         \\\\\n",
       "\\end{tabular}\n"
      ],
      "text/markdown": [
       "\n",
       "| <!--/--> | date | l/m2 | \n",
       "|---|---|---|---|---|---|\n",
       "| 5933 | 2018-12-26 | 0          | \n",
       "| 5934 | 2018-12-27 | 0          | \n",
       "| 5935 | 2018-12-28 | 0          | \n",
       "| 5936 | 2018-12-29 | 0          | \n",
       "| 5937 | 2018-12-30 | 0          | \n",
       "| 5938 | 2018-12-31 | 0          | \n",
       "\n",
       "\n"
      ],
      "text/plain": [
       "     date       l/m2\n",
       "5933 2018-12-26 0   \n",
       "5934 2018-12-27 0   \n",
       "5935 2018-12-28 0   \n",
       "5936 2018-12-29 0   \n",
       "5937 2018-12-30 0   \n",
       "5938 2018-12-31 0   "
      ]
     },
     "metadata": {},
     "output_type": "display_data"
    }
   ],
   "source": [
    "tail(datasetRainfall)"
   ]
  },
  {
   "cell_type": "markdown",
   "metadata": {},
   "source": [
    "## Visualizacion inicial datos viento"
   ]
  },
  {
   "cell_type": "code",
   "execution_count": 169,
   "metadata": {},
   "outputs": [
    {
     "data": {
      "text/html": [
       "<table>\n",
       "<thead><tr><th scope=col>date</th><th scope=col>Speed</th></tr></thead>\n",
       "<tbody>\n",
       "\t<tr><td>2001-01-01</td><td>1.1       </td></tr>\n",
       "\t<tr><td>2001-01-02</td><td>3.6       </td></tr>\n",
       "\t<tr><td>2001-01-03</td><td>1.7       </td></tr>\n",
       "\t<tr><td>2001-01-04</td><td>3.3       </td></tr>\n",
       "\t<tr><td>2001-01-05</td><td>1.1       </td></tr>\n",
       "\t<tr><td>2001-01-06</td><td>2.5       </td></tr>\n",
       "</tbody>\n",
       "</table>\n"
      ],
      "text/latex": [
       "\\begin{tabular}{r|ll}\n",
       " date & Speed\\\\\n",
       "\\hline\n",
       "\t 2001-01-01 & 1.1       \\\\\n",
       "\t 2001-01-02 & 3.6       \\\\\n",
       "\t 2001-01-03 & 1.7       \\\\\n",
       "\t 2001-01-04 & 3.3       \\\\\n",
       "\t 2001-01-05 & 1.1       \\\\\n",
       "\t 2001-01-06 & 2.5       \\\\\n",
       "\\end{tabular}\n"
      ],
      "text/markdown": [
       "\n",
       "date | Speed | \n",
       "|---|---|---|---|---|---|\n",
       "| 2001-01-01 | 1.1        | \n",
       "| 2001-01-02 | 3.6        | \n",
       "| 2001-01-03 | 1.7        | \n",
       "| 2001-01-04 | 3.3        | \n",
       "| 2001-01-05 | 1.1        | \n",
       "| 2001-01-06 | 2.5        | \n",
       "\n",
       "\n"
      ],
      "text/plain": [
       "  date       Speed\n",
       "1 2001-01-01 1.1  \n",
       "2 2001-01-02 3.6  \n",
       "3 2001-01-03 1.7  \n",
       "4 2001-01-04 3.3  \n",
       "5 2001-01-05 1.1  \n",
       "6 2001-01-06 2.5  "
      ]
     },
     "metadata": {},
     "output_type": "display_data"
    },
    {
     "data": {
      "text/html": [
       "<table>\n",
       "<thead><tr><th></th><th scope=col>date</th><th scope=col>Speed</th></tr></thead>\n",
       "<tbody>\n",
       "\t<tr><th scope=row>5854</th><td>2018-12-26</td><td>0.6       </td></tr>\n",
       "\t<tr><th scope=row>5855</th><td>2018-12-27</td><td>0.6       </td></tr>\n",
       "\t<tr><th scope=row>5856</th><td>2018-12-28</td><td>1.4       </td></tr>\n",
       "\t<tr><th scope=row>5857</th><td>2018-12-29</td><td>1.7       </td></tr>\n",
       "\t<tr><th scope=row>5858</th><td>2018-12-30</td><td>1.1       </td></tr>\n",
       "\t<tr><th scope=row>5859</th><td>2018-12-31</td><td>0.3       </td></tr>\n",
       "</tbody>\n",
       "</table>\n"
      ],
      "text/latex": [
       "\\begin{tabular}{r|ll}\n",
       "  & date & Speed\\\\\n",
       "\\hline\n",
       "\t5854 & 2018-12-26 & 0.6       \\\\\n",
       "\t5855 & 2018-12-27 & 0.6       \\\\\n",
       "\t5856 & 2018-12-28 & 1.4       \\\\\n",
       "\t5857 & 2018-12-29 & 1.7       \\\\\n",
       "\t5858 & 2018-12-30 & 1.1       \\\\\n",
       "\t5859 & 2018-12-31 & 0.3       \\\\\n",
       "\\end{tabular}\n"
      ],
      "text/markdown": [
       "\n",
       "| <!--/--> | date | Speed | \n",
       "|---|---|---|---|---|---|\n",
       "| 5854 | 2018-12-26 | 0.6        | \n",
       "| 5855 | 2018-12-27 | 0.6        | \n",
       "| 5856 | 2018-12-28 | 1.4        | \n",
       "| 5857 | 2018-12-29 | 1.7        | \n",
       "| 5858 | 2018-12-30 | 1.1        | \n",
       "| 5859 | 2018-12-31 | 0.3        | \n",
       "\n",
       "\n"
      ],
      "text/plain": [
       "     date       Speed\n",
       "5854 2018-12-26 0.6  \n",
       "5855 2018-12-27 0.6  \n",
       "5856 2018-12-28 1.4  \n",
       "5857 2018-12-29 1.7  \n",
       "5858 2018-12-30 1.1  \n",
       "5859 2018-12-31 0.3  "
      ]
     },
     "metadata": {},
     "output_type": "display_data"
    }
   ],
   "source": [
    "##observamos que todos los datos se han unido, aplicando head y tail al dataset \n",
    "# para ver cuando empiezan y acaban fechas\n",
    "head(wind)\n",
    "tail(wind)"
   ]
  },
  {
   "cell_type": "markdown",
   "metadata": {},
   "source": [
    "## Limpieza de datos"
   ]
  },
  {
   "cell_type": "markdown",
   "metadata": {},
   "source": [
    "Primero debemos tranformar los NaN en NA para obtener los datos que puedens ser utilizados"
   ]
  },
  {
   "cell_type": "code",
   "execution_count": 170,
   "metadata": {},
   "outputs": [
    {
     "data": {
      "text/html": [
       "<table>\n",
       "<thead><tr><th></th><th scope=col>date</th><th scope=col>BEN</th><th scope=col>CO</th><th scope=col>EBE</th><th scope=col>MXY</th><th scope=col>NMHC</th><th scope=col>NO_2</th><th scope=col>NOx</th><th scope=col>OXY</th><th scope=col>O_3</th><th scope=col>PM10</th><th scope=col>PXY</th><th scope=col>SO_2</th><th scope=col>TCH</th><th scope=col>TOL</th><th scope=col>station</th><th scope=col>PM25</th><th scope=col>NO</th><th scope=col>CH4</th></tr></thead>\n",
       "<tbody>\n",
       "\t<tr><th scope=row>3808219</th><td>2018-02-01 00:00:00</td><td>1.3                </td><td> NA                </td><td>1.2                </td><td>NA                 </td><td>0.13               </td><td> 94                </td><td>190                </td><td>NA                 </td><td>NA                 </td><td>35                 </td><td>NA                 </td><td>NA                 </td><td>1.68               </td><td>5.2                </td><td>28079055           </td><td>NA                 </td><td> 63                </td><td>1.55               </td></tr>\n",
       "\t<tr><th scope=row>3808220</th><td>2018-02-01 00:00:00</td><td> NA                </td><td>0.5                </td><td> NA                </td><td>NA                 </td><td>  NA               </td><td> 91                </td><td>192                </td><td>NA                 </td><td> 1                 </td><td>35                 </td><td>NA                 </td><td>NA                 </td><td>  NA               </td><td> NA                </td><td>28079056           </td><td>22                 </td><td> 66                </td><td>  NA               </td></tr>\n",
       "\t<tr><th scope=row>3808221</th><td>2018-02-01 00:00:00</td><td> NA                </td><td>0.7                </td><td> NA                </td><td>NA                 </td><td>  NA               </td><td>107                </td><td>241                </td><td>NA                 </td><td>NA                 </td><td>29                 </td><td>NA                 </td><td>15                 </td><td>  NA               </td><td> NA                </td><td>28079057           </td><td>NA                 </td><td> 87                </td><td>  NA               </td></tr>\n",
       "\t<tr><th scope=row>3808222</th><td>2018-02-01 00:00:00</td><td> NA                </td><td> NA                </td><td> NA                </td><td>NA                 </td><td>  NA               </td><td> 48                </td><td> 91                </td><td>NA                 </td><td> 2                 </td><td>NA                 </td><td>NA                 </td><td>NA                 </td><td>  NA               </td><td> NA                </td><td>28079058           </td><td>NA                 </td><td> 28                </td><td>  NA               </td></tr>\n",
       "\t<tr><th scope=row>3808223</th><td>2018-02-01 00:00:00</td><td> NA                </td><td> NA                </td><td> NA                </td><td>NA                 </td><td>  NA               </td><td>103                </td><td>320                </td><td>NA                 </td><td> 2                 </td><td>NA                 </td><td>NA                 </td><td>NA                 </td><td>  NA               </td><td> NA                </td><td>28079059           </td><td>NA                 </td><td>141                </td><td>  NA               </td></tr>\n",
       "\t<tr><th scope=row>3808224</th><td>2018-02-01 00:00:00</td><td> NA                </td><td> NA                </td><td> NA                </td><td>NA                 </td><td>  NA               </td><td> 96                </td><td>202                </td><td>NA                 </td><td> 3                 </td><td>26                 </td><td>NA                 </td><td>NA                 </td><td>  NA               </td><td> NA                </td><td>28079060           </td><td>NA                 </td><td> 69                </td><td>  NA               </td></tr>\n",
       "</tbody>\n",
       "</table>\n"
      ],
      "text/latex": [
       "\\begin{tabular}{r|lllllllllllllllllll}\n",
       "  & date & BEN & CO & EBE & MXY & NMHC & NO\\_2 & NOx & OXY & O\\_3 & PM10 & PXY & SO\\_2 & TCH & TOL & station & PM25 & NO & CH4\\\\\n",
       "\\hline\n",
       "\t3808219 & 2018-02-01 00:00:00 & 1.3                 &  NA                 & 1.2                 & NA                  & 0.13                &  94                 & 190                 & NA                  & NA                  & 35                  & NA                  & NA                  & 1.68                & 5.2                 & 28079055            & NA                  &  63                 & 1.55               \\\\\n",
       "\t3808220 & 2018-02-01 00:00:00 &  NA                 & 0.5                 &  NA                 & NA                  &   NA                &  91                 & 192                 & NA                  &  1                  & 35                  & NA                  & NA                  &   NA                &  NA                 & 28079056            & 22                  &  66                 &   NA               \\\\\n",
       "\t3808221 & 2018-02-01 00:00:00 &  NA                 & 0.7                 &  NA                 & NA                  &   NA                & 107                 & 241                 & NA                  & NA                  & 29                  & NA                  & 15                  &   NA                &  NA                 & 28079057            & NA                  &  87                 &   NA               \\\\\n",
       "\t3808222 & 2018-02-01 00:00:00 &  NA                 &  NA                 &  NA                 & NA                  &   NA                &  48                 &  91                 & NA                  &  2                  & NA                  & NA                  & NA                  &   NA                &  NA                 & 28079058            & NA                  &  28                 &   NA               \\\\\n",
       "\t3808223 & 2018-02-01 00:00:00 &  NA                 &  NA                 &  NA                 & NA                  &   NA                & 103                 & 320                 & NA                  &  2                  & NA                  & NA                  & NA                  &   NA                &  NA                 & 28079059            & NA                  & 141                 &   NA               \\\\\n",
       "\t3808224 & 2018-02-01 00:00:00 &  NA                 &  NA                 &  NA                 & NA                  &   NA                &  96                 & 202                 & NA                  &  3                  & 26                  & NA                  & NA                  &   NA                &  NA                 & 28079060            & NA                  &  69                 &   NA               \\\\\n",
       "\\end{tabular}\n"
      ],
      "text/markdown": [
       "\n",
       "| <!--/--> | date | BEN | CO | EBE | MXY | NMHC | NO_2 | NOx | OXY | O_3 | PM10 | PXY | SO_2 | TCH | TOL | station | PM25 | NO | CH4 | \n",
       "|---|---|---|---|---|---|\n",
       "| 3808219 | 2018-02-01 00:00:00 | 1.3                 |  NA                 | 1.2                 | NA                  | 0.13                |  94                 | 190                 | NA                  | NA                  | 35                  | NA                  | NA                  | 1.68                | 5.2                 | 28079055            | NA                  |  63                 | 1.55                | \n",
       "| 3808220 | 2018-02-01 00:00:00 |  NA                 | 0.5                 |  NA                 | NA                  |   NA                |  91                 | 192                 | NA                  |  1                  | 35                  | NA                  | NA                  |   NA                |  NA                 | 28079056            | 22                  |  66                 |   NA                | \n",
       "| 3808221 | 2018-02-01 00:00:00 |  NA                 | 0.7                 |  NA                 | NA                  |   NA                | 107                 | 241                 | NA                  | NA                  | 29                  | NA                  | 15                  |   NA                |  NA                 | 28079057            | NA                  |  87                 |   NA                | \n",
       "| 3808222 | 2018-02-01 00:00:00 |  NA                 |  NA                 |  NA                 | NA                  |   NA                |  48                 |  91                 | NA                  |  2                  | NA                  | NA                  | NA                  |   NA                |  NA                 | 28079058            | NA                  |  28                 |   NA                | \n",
       "| 3808223 | 2018-02-01 00:00:00 |  NA                 |  NA                 |  NA                 | NA                  |   NA                | 103                 | 320                 | NA                  |  2                  | NA                  | NA                  | NA                  |   NA                |  NA                 | 28079059            | NA                  | 141                 |   NA                | \n",
       "| 3808224 | 2018-02-01 00:00:00 |  NA                 |  NA                 |  NA                 | NA                  |   NA                |  96                 | 202                 | NA                  |  3                  | 26                  | NA                  | NA                  |   NA                |  NA                 | 28079060            | NA                  |  69                 |   NA                | \n",
       "\n",
       "\n"
      ],
      "text/plain": [
       "        date                BEN CO  EBE MXY NMHC NO_2 NOx OXY O_3 PM10 PXY SO_2\n",
       "3808219 2018-02-01 00:00:00 1.3  NA 1.2 NA  0.13  94  190 NA  NA  35   NA  NA  \n",
       "3808220 2018-02-01 00:00:00  NA 0.5  NA NA    NA  91  192 NA   1  35   NA  NA  \n",
       "3808221 2018-02-01 00:00:00  NA 0.7  NA NA    NA 107  241 NA  NA  29   NA  15  \n",
       "3808222 2018-02-01 00:00:00  NA  NA  NA NA    NA  48   91 NA   2  NA   NA  NA  \n",
       "3808223 2018-02-01 00:00:00  NA  NA  NA NA    NA 103  320 NA   2  NA   NA  NA  \n",
       "3808224 2018-02-01 00:00:00  NA  NA  NA NA    NA  96  202 NA   3  26   NA  NA  \n",
       "        TCH  TOL station  PM25 NO  CH4 \n",
       "3808219 1.68 5.2 28079055 NA    63 1.55\n",
       "3808220   NA  NA 28079056 22    66   NA\n",
       "3808221   NA  NA 28079057 NA    87   NA\n",
       "3808222   NA  NA 28079058 NA    28   NA\n",
       "3808223   NA  NA 28079059 NA   141   NA\n",
       "3808224   NA  NA 28079060 NA    69   NA"
      ]
     },
     "metadata": {},
     "output_type": "display_data"
    }
   ],
   "source": [
    "is.nan.data.frame <- function(x)\n",
    "    do.call(cbind,lapply(x,is.nan))\n",
    "airMadrid <- as.data.frame(airMadrid)\n",
    "airMadrid[is.nan(airMadrid)] <- NA\n",
    "tail(airMadrid)"
   ]
  },
  {
   "cell_type": "code",
   "execution_count": 171,
   "metadata": {},
   "outputs": [
    {
     "data": {
      "text/html": [
       "<dl class=dl-horizontal>\n",
       "\t<dt>NO_2</dt>\n",
       "\t\t<dd>0.56</dd>\n",
       "\t<dt>O_3</dt>\n",
       "\t\t<dd>21.44</dd>\n",
       "\t<dt>PM10</dt>\n",
       "\t\t<dd>24.87</dd>\n",
       "\t<dt>SO_2</dt>\n",
       "\t\t<dd>27.11</dd>\n",
       "\t<dt>CO</dt>\n",
       "\t\t<dd>30.39</dd>\n",
       "\t<dt>NOx</dt>\n",
       "\t\t<dd>37.6</dd>\n",
       "\t<dt>NO</dt>\n",
       "\t\t<dd>59.76</dd>\n",
       "\t<dt>TCH</dt>\n",
       "\t\t<dd>71.47</dd>\n",
       "\t<dt>NMHC</dt>\n",
       "\t\t<dd>71.5</dd>\n",
       "\t<dt>BEN</dt>\n",
       "\t\t<dd>72.65</dd>\n",
       "\t<dt>TOL</dt>\n",
       "\t\t<dd>72.72</dd>\n",
       "\t<dt>EBE</dt>\n",
       "\t\t<dd>73.7</dd>\n",
       "\t<dt>PM25</dt>\n",
       "\t\t<dd>78.56</dd>\n",
       "\t<dt>OXY</dt>\n",
       "\t\t<dd>91.71</dd>\n",
       "\t<dt>PXY</dt>\n",
       "\t\t<dd>91.71</dd>\n",
       "\t<dt>MXY</dt>\n",
       "\t\t<dd>91.72</dd>\n",
       "\t<dt>CH4</dt>\n",
       "\t\t<dd>99.61</dd>\n",
       "</dl>\n"
      ],
      "text/latex": [
       "\\begin{description*}\n",
       "\\item[NO\\textbackslash{}\\_2] 0.56\n",
       "\\item[O\\textbackslash{}\\_3] 21.44\n",
       "\\item[PM10] 24.87\n",
       "\\item[SO\\textbackslash{}\\_2] 27.11\n",
       "\\item[CO] 30.39\n",
       "\\item[NOx] 37.6\n",
       "\\item[NO] 59.76\n",
       "\\item[TCH] 71.47\n",
       "\\item[NMHC] 71.5\n",
       "\\item[BEN] 72.65\n",
       "\\item[TOL] 72.72\n",
       "\\item[EBE] 73.7\n",
       "\\item[PM25] 78.56\n",
       "\\item[OXY] 91.71\n",
       "\\item[PXY] 91.71\n",
       "\\item[MXY] 91.72\n",
       "\\item[CH4] 99.61\n",
       "\\end{description*}\n"
      ],
      "text/markdown": [
       "NO_2\n",
       ":   0.56O_3\n",
       ":   21.44PM10\n",
       ":   24.87SO_2\n",
       ":   27.11CO\n",
       ":   30.39NOx\n",
       ":   37.6NO\n",
       ":   59.76TCH\n",
       ":   71.47NMHC\n",
       ":   71.5BEN\n",
       ":   72.65TOL\n",
       ":   72.72EBE\n",
       ":   73.7PM25\n",
       ":   78.56OXY\n",
       ":   91.71PXY\n",
       ":   91.71MXY\n",
       ":   91.72CH4\n",
       ":   99.61\n",
       "\n"
      ],
      "text/plain": [
       " NO_2   O_3  PM10  SO_2    CO   NOx    NO   TCH  NMHC   BEN   TOL   EBE  PM25 \n",
       " 0.56 21.44 24.87 27.11 30.39 37.60 59.76 71.47 71.50 72.65 72.72 73.70 78.56 \n",
       "  OXY   PXY   MXY   CH4 \n",
       "91.71 91.71 91.72 99.61 "
      ]
     },
     "metadata": {},
     "output_type": "display_data"
    }
   ],
   "source": [
    "#Limpieza de datos datasetMadrid\n",
    "\n",
    "#1) Calculamos el porcenje de NA para descartar aquellas columnas cuyo porcentage sea muy alto\n",
    "naPerColumn <- colSums(is.na(airMadrid))\n",
    "\n",
    "#2) Todos los gases tienen al menos un NA por , tanto, estudiamos gases a descartar, para ello\n",
    "#quitamos los demás parámetros\n",
    "percentageNA <- round(naPerColumn/nrow(airMadrid) *100, digits = 2)\n",
    "percentageNA <- percentageNA[percentageNA > 0]\n",
    "percentageNA <- percentageNA[order(percentageNA)]\n",
    "percentageNA"
   ]
  },
  {
   "cell_type": "code",
   "execution_count": 172,
   "metadata": {},
   "outputs": [
    {
     "data": {
      "image/png": "[encoded data removed]",
      "text/plain": [
       "Plot with title \"Porcentaje de NA\""
      ]
     },
     "metadata": {},
     "output_type": "display_data"
    }
   ],
   "source": [
    "#2)Pintamos grafica de barras para observar volumen NA en los gases contaminantes\n",
    "barplot(percentageNA, main =\"Porcentaje de NA\",xlab = \"Gas contaminante\",ylab = \"%\",\n",
    "        ylim = c(0,100), las=3, cex.names=.5, col = gray.colors(17))"
   ]
  },
  {
   "cell_type": "code",
   "execution_count": 173,
   "metadata": {},
   "outputs": [
    {
     "data": {
      "text/html": [
       "<dl class=dl-horizontal>\n",
       "\t<dt>NO_2</dt>\n",
       "\t\t<dd>0.56</dd>\n",
       "\t<dt>O_3</dt>\n",
       "\t\t<dd>21.44</dd>\n",
       "\t<dt>PM10</dt>\n",
       "\t\t<dd>24.87</dd>\n",
       "\t<dt>SO_2</dt>\n",
       "\t\t<dd>27.11</dd>\n",
       "\t<dt>CO</dt>\n",
       "\t\t<dd>30.39</dd>\n",
       "</dl>\n"
      ],
      "text/latex": [
       "\\begin{description*}\n",
       "\\item[NO\\textbackslash{}\\_2] 0.56\n",
       "\\item[O\\textbackslash{}\\_3] 21.44\n",
       "\\item[PM10] 24.87\n",
       "\\item[SO\\textbackslash{}\\_2] 27.11\n",
       "\\item[CO] 30.39\n",
       "\\end{description*}\n"
      ],
      "text/markdown": [
       "NO_2\n",
       ":   0.56O_3\n",
       ":   21.44PM10\n",
       ":   24.87SO_2\n",
       ":   27.11CO\n",
       ":   30.39\n",
       "\n"
      ],
      "text/plain": [
       " NO_2   O_3  PM10  SO_2    CO \n",
       " 0.56 21.44 24.87 27.11 30.39 "
      ]
     },
     "metadata": {},
     "output_type": "display_data"
    }
   ],
   "source": [
    "#Nos quedamos con aquellos gases que tengan menos del 35% de NA\n",
    "percentageNA[percentageNA < 35]"
   ]
  },
  {
   "cell_type": "code",
   "execution_count": 174,
   "metadata": {},
   "outputs": [
    {
     "data": {
      "text/html": [
       "<table>\n",
       "<thead><tr><th scope=col>date</th><th scope=col>BEN</th><th scope=col>CO</th><th scope=col>EBE</th><th scope=col>MXY</th><th scope=col>NMHC</th><th scope=col>NO_2</th><th scope=col>NOx</th><th scope=col>OXY</th><th scope=col>O_3</th><th scope=col>PM10</th><th scope=col>PXY</th><th scope=col>SO_2</th><th scope=col>TCH</th><th scope=col>TOL</th><th scope=col>station</th><th scope=col>PM25</th><th scope=col>NO</th><th scope=col>CH4</th></tr></thead>\n",
       "<tbody>\n",
       "\t<tr><td>2001-08-01 01:00:00</td><td>  NA               </td><td>0.37               </td><td>  NA               </td><td>  NA               </td><td>  NA               </td><td>58.40              </td><td> 87.15             </td><td>  NA               </td><td>34.53              </td><td>105.00             </td><td>  NA               </td><td> 6.34              </td><td>  NA               </td><td>   NA              </td><td>28079001           </td><td>NA                 </td><td>NA                 </td><td>NA                 </td></tr>\n",
       "\t<tr><td>2001-08-01 01:00:00</td><td>1.50               </td><td>0.34               </td><td>1.49               </td><td>4.10               </td><td>0.07               </td><td>56.25              </td><td> 75.17             </td><td>2.11               </td><td>42.16              </td><td>100.60             </td><td>1.73               </td><td> 8.11              </td><td>1.24               </td><td>10.82              </td><td>28079035           </td><td>NA                 </td><td>NA                 </td><td>NA                 </td></tr>\n",
       "\t<tr><td>2001-08-01 01:00:00</td><td>  NA               </td><td>0.28               </td><td>  NA               </td><td>  NA               </td><td>  NA               </td><td>50.66              </td><td> 61.38             </td><td>  NA               </td><td>46.31              </td><td>100.10             </td><td>  NA               </td><td> 7.85              </td><td>  NA               </td><td>   NA              </td><td>28079003           </td><td>NA                 </td><td>NA                 </td><td>NA                 </td></tr>\n",
       "\t<tr><td>2001-08-01 01:00:00</td><td>  NA               </td><td>0.47               </td><td>  NA               </td><td>  NA               </td><td>  NA               </td><td>69.79              </td><td> 73.45             </td><td>  NA               </td><td>40.65              </td><td> 69.78             </td><td>  NA               </td><td> 6.46              </td><td>  NA               </td><td>   NA              </td><td>28079004           </td><td>NA                 </td><td>NA                 </td><td>NA                 </td></tr>\n",
       "\t<tr><td>2001-08-01 01:00:00</td><td>  NA               </td><td>0.39               </td><td>  NA               </td><td>  NA               </td><td>  NA               </td><td>22.83              </td><td> 24.80             </td><td>  NA               </td><td>66.31              </td><td> 75.18             </td><td>  NA               </td><td> 8.80              </td><td>  NA               </td><td>   NA              </td><td>28079039           </td><td>NA                 </td><td>NA                 </td><td>NA                 </td></tr>\n",
       "\t<tr><td>2001-08-01 01:00:00</td><td>2.11               </td><td>0.63               </td><td>2.48               </td><td>5.94               </td><td>0.05               </td><td>66.26              </td><td>118.10             </td><td>3.15               </td><td>33.50              </td><td>122.70             </td><td>2.29               </td><td> 6.36              </td><td>1.23               </td><td>13.28              </td><td>28079006           </td><td>NA                 </td><td>NA                 </td><td>NA                 </td></tr>\n",
       "\t<tr><td>2001-08-01 01:00:00</td><td>  NA               </td><td>0.28               </td><td>  NA               </td><td>  NA               </td><td>  NA               </td><td>35.80              </td><td> 39.59             </td><td>  NA               </td><td>68.25              </td><td>124.90             </td><td>  NA               </td><td> 5.23              </td><td>  NA               </td><td>   NA              </td><td>28079007           </td><td>NA                 </td><td>NA                 </td><td>NA                 </td></tr>\n",
       "\t<tr><td>2001-08-01 01:00:00</td><td>  NA               </td><td>0.67               </td><td>  NA               </td><td>  NA               </td><td>  NA               </td><td>74.83              </td><td>112.00             </td><td>  NA               </td><td>26.41              </td><td>113.00             </td><td>  NA               </td><td>11.61              </td><td>  NA               </td><td>   NA              </td><td>28079009           </td><td>NA                 </td><td>NA                 </td><td>NA                 </td></tr>\n",
       "\t<tr><td>2001-08-01 01:00:00</td><td>  NA               </td><td>0.41               </td><td>  NA               </td><td>  NA               </td><td>  NA               </td><td>33.21              </td><td> 37.30             </td><td>  NA               </td><td>62.30              </td><td>125.30             </td><td>  NA               </td><td>10.87              </td><td>  NA               </td><td>   NA              </td><td>28079038           </td><td>NA                 </td><td>NA                 </td><td>NA                 </td></tr>\n",
       "\t<tr><td>2001-08-01 01:00:00</td><td>  NA               </td><td>0.17               </td><td>  NA               </td><td>  NA               </td><td>0.13               </td><td>24.13              </td><td> 36.97             </td><td>  NA               </td><td>46.20              </td><td> 95.59             </td><td>  NA               </td><td> 3.89              </td><td>1.44               </td><td>   NA              </td><td>28079011           </td><td>NA                 </td><td>NA                 </td><td>NA                 </td></tr>\n",
       "\t<tr><td>2001-08-01 01:00:00</td><td>  NA               </td><td>0.38               </td><td>  NA               </td><td>  NA               </td><td>0.02               </td><td>40.90              </td><td> 46.61             </td><td>  NA               </td><td>51.45              </td><td>109.20             </td><td>  NA               </td><td>14.36              </td><td>1.28               </td><td>   NA              </td><td>28079012           </td><td>NA                 </td><td>NA                 </td><td>NA                 </td></tr>\n",
       "\t<tr><td>2001-08-01 01:00:00</td><td>  NA               </td><td>0.17               </td><td>  NA               </td><td>  NA               </td><td>0.09               </td><td>30.63              </td><td> 33.77             </td><td>  NA               </td><td>59.83              </td><td>136.60             </td><td>  NA               </td><td> 3.93              </td><td>1.22               </td><td>   NA              </td><td>28079040           </td><td>NA                 </td><td>NA                 </td><td>NA                 </td></tr>\n",
       "\t<tr><td>2001-08-01 01:00:00</td><td>  NA               </td><td>0.18               </td><td>  NA               </td><td>  NA               </td><td>  NA               </td><td>30.92              </td><td> 33.02             </td><td>  NA               </td><td>69.57              </td><td>109.80             </td><td>  NA               </td><td> 6.74              </td><td>  NA               </td><td>   NA              </td><td>28079014           </td><td>NA                 </td><td>NA                 </td><td>NA                 </td></tr>\n",
       "\t<tr><td>2001-08-01 01:00:00</td><td>1.63               </td><td>0.24               </td><td>1.81               </td><td>  NA               </td><td>0.10               </td><td>33.87              </td><td> 45.97             </td><td>  NA               </td><td>45.12              </td><td> 94.85             </td><td>  NA               </td><td> 2.11              </td><td>1.30               </td><td>10.30              </td><td>28079015           </td><td>NA                 </td><td>NA                 </td><td>NA                 </td></tr>\n",
       "\t<tr><td>2001-08-01 01:00:00</td><td>  NA               </td><td>0.25               </td><td>  NA               </td><td>  NA               </td><td>  NA               </td><td>13.97              </td><td> 16.50             </td><td>  NA               </td><td>68.48              </td><td> 72.96             </td><td>  NA               </td><td> 5.98              </td><td>  NA               </td><td>   NA              </td><td>28079016           </td><td>NA                 </td><td>NA                 </td><td>NA                 </td></tr>\n",
       "\t<tr><td>2001-08-01 01:00:00</td><td>  NA               </td><td>0.17               </td><td>  NA               </td><td>  NA               </td><td>0.06               </td><td>28.98              </td><td> 31.48             </td><td>  NA               </td><td>48.29              </td><td>137.70             </td><td>  NA               </td><td> 7.73              </td><td>1.38               </td><td>   NA              </td><td>28079018           </td><td>NA                 </td><td>NA                 </td><td>NA                 </td></tr>\n",
       "\t<tr><td>2001-08-01 01:00:00</td><td>  NA               </td><td>0.26               </td><td>  NA               </td><td>  NA               </td><td>  NA               </td><td>44.77              </td><td> 47.58             </td><td>  NA               </td><td>56.64              </td><td> 92.99             </td><td>  NA               </td><td> 3.05              </td><td>  NA               </td><td>   NA              </td><td>28079019           </td><td>NA                 </td><td>NA                 </td><td>NA                 </td></tr>\n",
       "\t<tr><td>2001-08-01 01:00:00</td><td>  NA               </td><td>0.29               </td><td>  NA               </td><td>  NA               </td><td>  NA               </td><td>34.07              </td><td> 39.42             </td><td>  NA               </td><td>56.28              </td><td>107.20             </td><td>  NA               </td><td> 7.52              </td><td>  NA               </td><td>   NA              </td><td>28079036           </td><td>NA                 </td><td>NA                 </td><td>NA                 </td></tr>\n",
       "\t<tr><td>2001-08-01 01:00:00</td><td>  NA               </td><td>0.33               </td><td>  NA               </td><td>  NA               </td><td>  NA               </td><td>43.21              </td><td> 50.94             </td><td>  NA               </td><td>51.10              </td><td> 88.01             </td><td>  NA               </td><td>10.57              </td><td>  NA               </td><td>   NA              </td><td>28079021           </td><td>NA                 </td><td>NA                 </td><td>NA                 </td></tr>\n",
       "\t<tr><td>2001-08-01 01:00:00</td><td>0.83               </td><td>0.81               </td><td>  NA               </td><td>  NA               </td><td>  NA               </td><td>53.48              </td><td> 65.09             </td><td>  NA               </td><td>46.65              </td><td> 92.16             </td><td>  NA               </td><td>   NA              </td><td>  NA               </td><td> 6.27              </td><td>28079022           </td><td>NA                 </td><td>NA                 </td><td>NA                 </td></tr>\n",
       "\t<tr><td>2001-08-01 01:00:00</td><td>  NA               </td><td>0.18               </td><td>  NA               </td><td>  NA               </td><td>0.03               </td><td>16.29              </td><td> 17.47             </td><td>  NA               </td><td>65.39              </td><td> 59.67             </td><td>  NA               </td><td> 7.25              </td><td>1.22               </td><td>   NA              </td><td>28079023           </td><td>NA                 </td><td>NA                 </td><td>NA                 </td></tr>\n",
       "\t<tr><td>2001-08-01 01:00:00</td><td>0.80               </td><td>0.43               </td><td>0.71               </td><td>1.20               </td><td>0.10               </td><td>27.19              </td><td> 29.70             </td><td>0.76               </td><td>56.99              </td><td>114.30             </td><td>0.49               </td><td>10.84              </td><td>1.42               </td><td> 3.43              </td><td>28079024           </td><td>NA                 </td><td>NA                 </td><td>NA                 </td></tr>\n",
       "\t<tr><td>2001-08-01 01:00:00</td><td>0.89               </td><td>0.20               </td><td>0.54               </td><td>1.14               </td><td>  NA               </td><td>46.89              </td><td> 62.63             </td><td>0.78               </td><td>43.95              </td><td>    NA             </td><td>0.59               </td><td>19.82              </td><td>  NA               </td><td> 2.89              </td><td>28079025           </td><td>NA                 </td><td>NA                 </td><td>NA                 </td></tr>\n",
       "\t<tr><td>2001-08-01 01:00:00</td><td>1.29               </td><td>0.34               </td><td>1.41               </td><td>3.09               </td><td>0.07               </td><td>40.75              </td><td> 51.57             </td><td>1.70               </td><td>51.58              </td><td>102.20             </td><td>1.28               </td><td> 7.97              </td><td>1.30               </td><td> 7.83              </td><td>28079099           </td><td>NA                 </td><td>NA                 </td><td>NA                 </td></tr>\n",
       "\t<tr><td>2001-08-01 02:00:00</td><td>  NA               </td><td>0.42               </td><td>  NA               </td><td>  NA               </td><td>  NA               </td><td>65.76              </td><td> 93.83             </td><td>  NA               </td><td>27.93              </td><td> 69.75             </td><td>  NA               </td><td> 7.15              </td><td>  NA               </td><td>   NA              </td><td>28079001           </td><td>NA                 </td><td>NA                 </td><td>NA                 </td></tr>\n",
       "\t<tr><td>2001-08-01 02:00:00</td><td>0.87               </td><td>0.06               </td><td>0.88               </td><td>2.41               </td><td>0.01               </td><td>29.71              </td><td> 31.44             </td><td>1.20               </td><td>56.52              </td><td> 56.29             </td><td>1.02               </td><td> 6.90              </td><td>1.17               </td><td> 6.49              </td><td>28079035           </td><td>NA                 </td><td>NA                 </td><td>NA                 </td></tr>\n",
       "\t<tr><td>2001-08-01 02:00:00</td><td>  NA               </td><td>0.27               </td><td>  NA               </td><td>  NA               </td><td>  NA               </td><td>55.78              </td><td> 65.86             </td><td>  NA               </td><td>40.51              </td><td> 73.88             </td><td>  NA               </td><td> 7.52              </td><td>  NA               </td><td>   NA              </td><td>28079003           </td><td>NA                 </td><td>NA                 </td><td>NA                 </td></tr>\n",
       "\t<tr><td>2001-08-01 02:00:00</td><td>  NA               </td><td>0.33               </td><td>  NA               </td><td>  NA               </td><td>  NA               </td><td>64.11              </td><td> 66.85             </td><td>  NA               </td><td>45.23              </td><td> 47.51             </td><td>  NA               </td><td> 6.41              </td><td>  NA               </td><td>   NA              </td><td>28079004           </td><td>NA                 </td><td>NA                 </td><td>NA                 </td></tr>\n",
       "\t<tr><td>2001-08-01 02:00:00</td><td>  NA               </td><td>0.30               </td><td>  NA               </td><td>  NA               </td><td>  NA               </td><td>18.85              </td><td> 20.23             </td><td>  NA               </td><td>68.12              </td><td> 58.77             </td><td>  NA               </td><td> 8.97              </td><td>  NA               </td><td>   NA              </td><td>28079039           </td><td>NA                 </td><td>NA                 </td><td>NA                 </td></tr>\n",
       "\t<tr><td>2001-08-01 02:00:00</td><td>2.01               </td><td>0.42               </td><td>2.30               </td><td>5.50               </td><td>0.01               </td><td>56.60              </td><td> 88.44             </td><td>2.94               </td><td>43.54              </td><td> 72.49             </td><td>2.15               </td><td> 5.36              </td><td>1.19               </td><td>12.67              </td><td>28079006           </td><td>NA                 </td><td>NA                 </td><td>NA                 </td></tr>\n",
       "\t<tr><td>...</td><td>...</td><td>...</td><td>...</td><td>...</td><td>...</td><td>...</td><td>...</td><td>...</td><td>...</td><td>...</td><td>...</td><td>...</td><td>...</td><td>...</td><td>...</td><td>...</td><td>...</td><td>...</td></tr>\n",
       "\t<tr><td>2018-01-31 23:00:00</td><td>1.6                </td><td> NA                </td><td>1.3                </td><td>NA                 </td><td>0.22               </td><td>144                </td><td>485                </td><td>NA                 </td><td>NA                 </td><td>51                 </td><td>NA                 </td><td>NA                 </td><td>1.61               </td><td> 6.6               </td><td>28079055           </td><td>NA                 </td><td>222                </td><td>1.39               </td></tr>\n",
       "\t<tr><td>2018-01-31 23:00:00</td><td> NA                </td><td>0.8                </td><td> NA                </td><td>NA                 </td><td>  NA               </td><td>123                </td><td>334                </td><td>NA                 </td><td> 1                 </td><td>88                 </td><td>NA                 </td><td>NA                 </td><td>  NA               </td><td>  NA               </td><td>28079056           </td><td>49                 </td><td>138                </td><td>  NA               </td></tr>\n",
       "\t<tr><td>2018-01-31 23:00:00</td><td> NA                </td><td>1.2                </td><td> NA                </td><td>NA                 </td><td>  NA               </td><td>155                </td><td>529                </td><td>NA                 </td><td>NA                 </td><td>60                 </td><td>NA                 </td><td>22                 </td><td>  NA               </td><td>  NA               </td><td>28079057           </td><td>NA                 </td><td>244                </td><td>  NA               </td></tr>\n",
       "\t<tr><td>2018-01-31 23:00:00</td><td> NA                </td><td> NA                </td><td> NA                </td><td>NA                 </td><td>  NA               </td><td> 54                </td><td> 90                </td><td>NA                 </td><td> 2                 </td><td>NA                 </td><td>NA                 </td><td>NA                 </td><td>  NA               </td><td>  NA               </td><td>28079058           </td><td>NA                 </td><td> 24                </td><td>  NA               </td></tr>\n",
       "\t<tr><td>2018-01-31 23:00:00</td><td> NA                </td><td> NA                </td><td> NA                </td><td>NA                 </td><td>  NA               </td><td>121                </td><td>384                </td><td>NA                 </td><td> 2                 </td><td>NA                 </td><td>NA                 </td><td>NA                 </td><td>  NA               </td><td>  NA               </td><td>28079059           </td><td>NA                 </td><td>171                </td><td>  NA               </td></tr>\n",
       "\t<tr><td>2018-01-31 23:00:00</td><td> NA                </td><td> NA                </td><td> NA                </td><td>NA                 </td><td>  NA               </td><td>134                </td><td>452                </td><td>NA                 </td><td> 4                 </td><td>54                 </td><td>NA                 </td><td>NA                 </td><td>  NA               </td><td>  NA               </td><td>28079060           </td><td>NA                 </td><td>207                </td><td>  NA               </td></tr>\n",
       "\t<tr><td>2018-02-01 00:00:00</td><td> NA                </td><td>0.8                </td><td> NA                </td><td>NA                 </td><td>  NA               </td><td> 73                </td><td>262                </td><td>NA                 </td><td>NA                 </td><td>NA                 </td><td>NA                 </td><td> 7                 </td><td>  NA               </td><td>  NA               </td><td>28079004           </td><td>NA                 </td><td>123                </td><td>  NA               </td></tr>\n",
       "\t<tr><td>2018-02-01 00:00:00</td><td>3.2                </td><td>1.0                </td><td>2.1                </td><td>NA                 </td><td>0.19               </td><td>117                </td><td>309                </td><td>NA                 </td><td> 3                 </td><td>37                 </td><td>NA                 </td><td> 6                 </td><td>1.72               </td><td>13.0               </td><td>28079008           </td><td>24                 </td><td>125                </td><td>1.53               </td></tr>\n",
       "\t<tr><td>2018-02-01 00:00:00</td><td>1.5                </td><td> NA                </td><td>0.8                </td><td>NA                 </td><td>  NA               </td><td>108                </td><td>239                </td><td>NA                 </td><td>NA                 </td><td>NA                 </td><td>NA                 </td><td>NA                 </td><td>  NA               </td><td> 6.5               </td><td>28079011           </td><td>NA                 </td><td> 85                </td><td>  NA               </td></tr>\n",
       "\t<tr><td>2018-02-01 00:00:00</td><td> NA                </td><td>1.5                </td><td> NA                </td><td>NA                 </td><td>  NA               </td><td>153                </td><td>551                </td><td>NA                 </td><td> 1                 </td><td>NA                 </td><td>NA                 </td><td>NA                 </td><td>  NA               </td><td>  NA               </td><td>28079016           </td><td>NA                 </td><td>259                </td><td>  NA               </td></tr>\n",
       "\t<tr><td>2018-02-01 00:00:00</td><td> NA                </td><td> NA                </td><td> NA                </td><td>NA                 </td><td>  NA               </td><td>124                </td><td>471                </td><td>NA                 </td><td> 1                 </td><td>NA                 </td><td>NA                 </td><td>12                 </td><td>  NA               </td><td>  NA               </td><td>28079017           </td><td>NA                 </td><td>226                </td><td>  NA               </td></tr>\n",
       "\t<tr><td>2018-02-01 00:00:00</td><td>1.1                </td><td>0.6                </td><td>0.8                </td><td>NA                 </td><td>  NA               </td><td> 93                </td><td>227                </td><td>NA                 </td><td> 1                 </td><td>32                 </td><td>NA                 </td><td> 8                 </td><td>  NA               </td><td> 6.0               </td><td>28079018           </td><td>NA                 </td><td> 87                </td><td>  NA               </td></tr>\n",
       "\t<tr><td>2018-02-01 00:00:00</td><td>1.3                </td><td>0.4                </td><td>0.8                </td><td>NA                 </td><td>0.10               </td><td> 73                </td><td>155                </td><td>NA                 </td><td> 1                 </td><td>27                 </td><td>NA                 </td><td> 5                 </td><td>1.24               </td><td> 6.8               </td><td>28079024           </td><td>16                 </td><td> 54                </td><td>1.14               </td></tr>\n",
       "\t<tr><td>2018-02-01 00:00:00</td><td> NA                </td><td> NA                </td><td> NA                </td><td>NA                 </td><td>  NA               </td><td> 83                </td><td>182                </td><td>NA                 </td><td> 3                 </td><td>NA                 </td><td>NA                 </td><td>NA                 </td><td>  NA               </td><td>  NA               </td><td>28079027           </td><td>NA                 </td><td> 64                </td><td>  NA               </td></tr>\n",
       "\t<tr><td>2018-02-01 00:00:00</td><td> NA                </td><td>0.5                </td><td> NA                </td><td>NA                 </td><td>  NA               </td><td> 90                </td><td>269                </td><td>NA                 </td><td> 5                 </td><td>NA                 </td><td>NA                 </td><td>11                 </td><td>  NA               </td><td>  NA               </td><td>28079035           </td><td>NA                 </td><td>117                </td><td>  NA               </td></tr>\n",
       "\t<tr><td>2018-02-01 00:00:00</td><td> NA                </td><td>1.3                </td><td> NA                </td><td>NA                 </td><td>  NA               </td><td>158                </td><td>623                </td><td>NA                 </td><td>NA                 </td><td>64                 </td><td>NA                 </td><td>25                 </td><td>  NA               </td><td>  NA               </td><td>28079036           </td><td>NA                 </td><td>303                </td><td>  NA               </td></tr>\n",
       "\t<tr><td>2018-02-01 00:00:00</td><td>2.0                </td><td> NA                </td><td>1.6                </td><td>NA                 </td><td>  NA               </td><td> 99                </td><td>204                </td><td>NA                 </td><td>NA                 </td><td>30                 </td><td>NA                 </td><td> 7                 </td><td>  NA               </td><td>10.1               </td><td>28079038           </td><td>20                 </td><td> 68                </td><td>  NA               </td></tr>\n",
       "\t<tr><td>2018-02-01 00:00:00</td><td> NA                </td><td>0.9                </td><td> NA                </td><td>NA                 </td><td>  NA               </td><td>111                </td><td>331                </td><td>NA                 </td><td> 1                 </td><td>NA                 </td><td>NA                 </td><td>NA                 </td><td>  NA               </td><td>  NA               </td><td>28079039           </td><td>NA                 </td><td>144                </td><td>  NA               </td></tr>\n",
       "\t<tr><td>2018-02-01 00:00:00</td><td> NA                </td><td> NA                </td><td> NA                </td><td>NA                 </td><td>  NA               </td><td>141                </td><td>480                </td><td>NA                 </td><td>NA                 </td><td>64                 </td><td>NA                 </td><td>15                 </td><td>  NA               </td><td>  NA               </td><td>28079040           </td><td>NA                 </td><td>221                </td><td>  NA               </td></tr>\n",
       "\t<tr><td>2018-02-01 00:00:00</td><td> NA                </td><td> NA                </td><td> NA                </td><td>NA                 </td><td>  NA               </td><td> 94                </td><td>264                </td><td>NA                 </td><td>NA                 </td><td>41                 </td><td>NA                 </td><td>NA                 </td><td>  NA               </td><td>  NA               </td><td>28079047           </td><td>29                 </td><td>111                </td><td>  NA               </td></tr>\n",
       "\t<tr><td>2018-02-01 00:00:00</td><td> NA                </td><td> NA                </td><td> NA                </td><td>NA                 </td><td>  NA               </td><td>102                </td><td>217                </td><td>NA                 </td><td>NA                 </td><td>31                 </td><td>NA                 </td><td>NA                 </td><td>  NA               </td><td>  NA               </td><td>28079048           </td><td>20                 </td><td> 75                </td><td>  NA               </td></tr>\n",
       "\t<tr><td>2018-02-01 00:00:00</td><td> NA                </td><td> NA                </td><td> NA                </td><td>NA                 </td><td>  NA               </td><td>102                </td><td>325                </td><td>NA                 </td><td> 3                 </td><td>NA                 </td><td>NA                 </td><td>NA                 </td><td>  NA               </td><td>  NA               </td><td>28079049           </td><td>NA                 </td><td>145                </td><td>  NA               </td></tr>\n",
       "\t<tr><td>2018-02-01 00:00:00</td><td> NA                </td><td> NA                </td><td> NA                </td><td>NA                 </td><td>  NA               </td><td>109                </td><td>250                </td><td>NA                 </td><td>NA                 </td><td>31                 </td><td>NA                 </td><td>NA                 </td><td>  NA               </td><td>  NA               </td><td>28079050           </td><td>21                 </td><td> 92                </td><td>  NA               </td></tr>\n",
       "\t<tr><td>2018-02-01 00:00:00</td><td> NA                </td><td> NA                </td><td> NA                </td><td>NA                 </td><td>  NA               </td><td>145                </td><td>541                </td><td>NA                 </td><td> 2                 </td><td>NA                 </td><td>NA                 </td><td>NA                 </td><td>  NA               </td><td>  NA               </td><td>28079054           </td><td>NA                 </td><td>258                </td><td>  NA               </td></tr>\n",
       "\t<tr><td>2018-02-01 00:00:00</td><td>1.3                </td><td> NA                </td><td>1.2                </td><td>NA                 </td><td>0.13               </td><td> 94                </td><td>190                </td><td>NA                 </td><td>NA                 </td><td>35                 </td><td>NA                 </td><td>NA                 </td><td>1.68               </td><td> 5.2               </td><td>28079055           </td><td>NA                 </td><td> 63                </td><td>1.55               </td></tr>\n",
       "\t<tr><td>2018-02-01 00:00:00</td><td> NA                </td><td>0.5                </td><td> NA                </td><td>NA                 </td><td>  NA               </td><td> 91                </td><td>192                </td><td>NA                 </td><td> 1                 </td><td>35                 </td><td>NA                 </td><td>NA                 </td><td>  NA               </td><td>  NA               </td><td>28079056           </td><td>22                 </td><td> 66                </td><td>  NA               </td></tr>\n",
       "\t<tr><td>2018-02-01 00:00:00</td><td> NA                </td><td>0.7                </td><td> NA                </td><td>NA                 </td><td>  NA               </td><td>107                </td><td>241                </td><td>NA                 </td><td>NA                 </td><td>29                 </td><td>NA                 </td><td>15                 </td><td>  NA               </td><td>  NA               </td><td>28079057           </td><td>NA                 </td><td> 87                </td><td>  NA               </td></tr>\n",
       "\t<tr><td>2018-02-01 00:00:00</td><td> NA                </td><td> NA                </td><td> NA                </td><td>NA                 </td><td>  NA               </td><td> 48                </td><td> 91                </td><td>NA                 </td><td> 2                 </td><td>NA                 </td><td>NA                 </td><td>NA                 </td><td>  NA               </td><td>  NA               </td><td>28079058           </td><td>NA                 </td><td> 28                </td><td>  NA               </td></tr>\n",
       "\t<tr><td>2018-02-01 00:00:00</td><td> NA                </td><td> NA                </td><td> NA                </td><td>NA                 </td><td>  NA               </td><td>103                </td><td>320                </td><td>NA                 </td><td> 2                 </td><td>NA                 </td><td>NA                 </td><td>NA                 </td><td>  NA               </td><td>  NA               </td><td>28079059           </td><td>NA                 </td><td>141                </td><td>  NA               </td></tr>\n",
       "\t<tr><td>2018-02-01 00:00:00</td><td> NA                </td><td> NA                </td><td> NA                </td><td>NA                 </td><td>  NA               </td><td> 96                </td><td>202                </td><td>NA                 </td><td> 3                 </td><td>26                 </td><td>NA                 </td><td>NA                 </td><td>  NA               </td><td>  NA               </td><td>28079060           </td><td>NA                 </td><td> 69                </td><td>  NA               </td></tr>\n",
       "</tbody>\n",
       "</table>\n"
      ],
      "text/latex": [
       "\\begin{tabular}{r|lllllllllllllllllll}\n",
       " date & BEN & CO & EBE & MXY & NMHC & NO\\_2 & NOx & OXY & O\\_3 & PM10 & PXY & SO\\_2 & TCH & TOL & station & PM25 & NO & CH4\\\\\n",
       "\\hline\n",
       "\t 2001-08-01 01:00:00 &   NA                & 0.37                &   NA                &   NA                &   NA                & 58.40               &  87.15              &   NA                & 34.53               & 105.00              &   NA                &  6.34               &   NA                &    NA               & 28079001            & NA                  & NA                  & NA                 \\\\\n",
       "\t 2001-08-01 01:00:00 & 1.50                & 0.34                & 1.49                & 4.10                & 0.07                & 56.25               &  75.17              & 2.11                & 42.16               & 100.60              & 1.73                &  8.11               & 1.24                & 10.82               & 28079035            & NA                  & NA                  & NA                 \\\\\n",
       "\t 2001-08-01 01:00:00 &   NA                & 0.28                &   NA                &   NA                &   NA                & 50.66               &  61.38              &   NA                & 46.31               & 100.10              &   NA                &  7.85               &   NA                &    NA               & 28079003            & NA                  & NA                  & NA                 \\\\\n",
       "\t 2001-08-01 01:00:00 &   NA                & 0.47                &   NA                &   NA                &   NA                & 69.79               &  73.45              &   NA                & 40.65               &  69.78              &   NA                &  6.46               &   NA                &    NA               & 28079004            & NA                  & NA                  & NA                 \\\\\n",
       "\t 2001-08-01 01:00:00 &   NA                & 0.39                &   NA                &   NA                &   NA                & 22.83               &  24.80              &   NA                & 66.31               &  75.18              &   NA                &  8.80               &   NA                &    NA               & 28079039            & NA                  & NA                  & NA                 \\\\\n",
       "\t 2001-08-01 01:00:00 & 2.11                & 0.63                & 2.48                & 5.94                & 0.05                & 66.26               & 118.10              & 3.15                & 33.50               & 122.70              & 2.29                &  6.36               & 1.23                & 13.28               & 28079006            & NA                  & NA                  & NA                 \\\\\n",
       "\t 2001-08-01 01:00:00 &   NA                & 0.28                &   NA                &   NA                &   NA                & 35.80               &  39.59              &   NA                & 68.25               & 124.90              &   NA                &  5.23               &   NA                &    NA               & 28079007            & NA                  & NA                  & NA                 \\\\\n",
       "\t 2001-08-01 01:00:00 &   NA                & 0.67                &   NA                &   NA                &   NA                & 74.83               & 112.00              &   NA                & 26.41               & 113.00              &   NA                & 11.61               &   NA                &    NA               & 28079009            & NA                  & NA                  & NA                 \\\\\n",
       "\t 2001-08-01 01:00:00 &   NA                & 0.41                &   NA                &   NA                &   NA                & 33.21               &  37.30              &   NA                & 62.30               & 125.30              &   NA                & 10.87               &   NA                &    NA               & 28079038            & NA                  & NA                  & NA                 \\\\\n",
       "\t 2001-08-01 01:00:00 &   NA                & 0.17                &   NA                &   NA                & 0.13                & 24.13               &  36.97              &   NA                & 46.20               &  95.59              &   NA                &  3.89               & 1.44                &    NA               & 28079011            & NA                  & NA                  & NA                 \\\\\n",
       "\t 2001-08-01 01:00:00 &   NA                & 0.38                &   NA                &   NA                & 0.02                & 40.90               &  46.61              &   NA                & 51.45               & 109.20              &   NA                & 14.36               & 1.28                &    NA               & 28079012            & NA                  & NA                  & NA                 \\\\\n",
       "\t 2001-08-01 01:00:00 &   NA                & 0.17                &   NA                &   NA                & 0.09                & 30.63               &  33.77              &   NA                & 59.83               & 136.60              &   NA                &  3.93               & 1.22                &    NA               & 28079040            & NA                  & NA                  & NA                 \\\\\n",
       "\t 2001-08-01 01:00:00 &   NA                & 0.18                &   NA                &   NA                &   NA                & 30.92               &  33.02              &   NA                & 69.57               & 109.80              &   NA                &  6.74               &   NA                &    NA               & 28079014            & NA                  & NA                  & NA                 \\\\\n",
       "\t 2001-08-01 01:00:00 & 1.63                & 0.24                & 1.81                &   NA                & 0.10                & 33.87               &  45.97              &   NA                & 45.12               &  94.85              &   NA                &  2.11               & 1.30                & 10.30               & 28079015            & NA                  & NA                  & NA                 \\\\\n",
       "\t 2001-08-01 01:00:00 &   NA                & 0.25                &   NA                &   NA                &   NA                & 13.97               &  16.50              &   NA                & 68.48               &  72.96              &   NA                &  5.98               &   NA                &    NA               & 28079016            & NA                  & NA                  & NA                 \\\\\n",
       "\t 2001-08-01 01:00:00 &   NA                & 0.17                &   NA                &   NA                & 0.06                & 28.98               &  31.48              &   NA                & 48.29               & 137.70              &   NA                &  7.73               & 1.38                &    NA               & 28079018            & NA                  & NA                  & NA                 \\\\\n",
       "\t 2001-08-01 01:00:00 &   NA                & 0.26                &   NA                &   NA                &   NA                & 44.77               &  47.58              &   NA                & 56.64               &  92.99              &   NA                &  3.05               &   NA                &    NA               & 28079019            & NA                  & NA                  & NA                 \\\\\n",
       "\t 2001-08-01 01:00:00 &   NA                & 0.29                &   NA                &   NA                &   NA                & 34.07               &  39.42              &   NA                & 56.28               & 107.20              &   NA                &  7.52               &   NA                &    NA               & 28079036            & NA                  & NA                  & NA                 \\\\\n",
       "\t 2001-08-01 01:00:00 &   NA                & 0.33                &   NA                &   NA                &   NA                & 43.21               &  50.94              &   NA                & 51.10               &  88.01              &   NA                & 10.57               &   NA                &    NA               & 28079021            & NA                  & NA                  & NA                 \\\\\n",
       "\t 2001-08-01 01:00:00 & 0.83                & 0.81                &   NA                &   NA                &   NA                & 53.48               &  65.09              &   NA                & 46.65               &  92.16              &   NA                &    NA               &   NA                &  6.27               & 28079022            & NA                  & NA                  & NA                 \\\\\n",
       "\t 2001-08-01 01:00:00 &   NA                & 0.18                &   NA                &   NA                & 0.03                & 16.29               &  17.47              &   NA                & 65.39               &  59.67              &   NA                &  7.25               & 1.22                &    NA               & 28079023            & NA                  & NA                  & NA                 \\\\\n",
       "\t 2001-08-01 01:00:00 & 0.80                & 0.43                & 0.71                & 1.20                & 0.10                & 27.19               &  29.70              & 0.76                & 56.99               & 114.30              & 0.49                & 10.84               & 1.42                &  3.43               & 28079024            & NA                  & NA                  & NA                 \\\\\n",
       "\t 2001-08-01 01:00:00 & 0.89                & 0.20                & 0.54                & 1.14                &   NA                & 46.89               &  62.63              & 0.78                & 43.95               &     NA              & 0.59                & 19.82               &   NA                &  2.89               & 28079025            & NA                  & NA                  & NA                 \\\\\n",
       "\t 2001-08-01 01:00:00 & 1.29                & 0.34                & 1.41                & 3.09                & 0.07                & 40.75               &  51.57              & 1.70                & 51.58               & 102.20              & 1.28                &  7.97               & 1.30                &  7.83               & 28079099            & NA                  & NA                  & NA                 \\\\\n",
       "\t 2001-08-01 02:00:00 &   NA                & 0.42                &   NA                &   NA                &   NA                & 65.76               &  93.83              &   NA                & 27.93               &  69.75              &   NA                &  7.15               &   NA                &    NA               & 28079001            & NA                  & NA                  & NA                 \\\\\n",
       "\t 2001-08-01 02:00:00 & 0.87                & 0.06                & 0.88                & 2.41                & 0.01                & 29.71               &  31.44              & 1.20                & 56.52               &  56.29              & 1.02                &  6.90               & 1.17                &  6.49               & 28079035            & NA                  & NA                  & NA                 \\\\\n",
       "\t 2001-08-01 02:00:00 &   NA                & 0.27                &   NA                &   NA                &   NA                & 55.78               &  65.86              &   NA                & 40.51               &  73.88              &   NA                &  7.52               &   NA                &    NA               & 28079003            & NA                  & NA                  & NA                 \\\\\n",
       "\t 2001-08-01 02:00:00 &   NA                & 0.33                &   NA                &   NA                &   NA                & 64.11               &  66.85              &   NA                & 45.23               &  47.51              &   NA                &  6.41               &   NA                &    NA               & 28079004            & NA                  & NA                  & NA                 \\\\\n",
       "\t 2001-08-01 02:00:00 &   NA                & 0.30                &   NA                &   NA                &   NA                & 18.85               &  20.23              &   NA                & 68.12               &  58.77              &   NA                &  8.97               &   NA                &    NA               & 28079039            & NA                  & NA                  & NA                 \\\\\n",
       "\t 2001-08-01 02:00:00 & 2.01                & 0.42                & 2.30                & 5.50                & 0.01                & 56.60               &  88.44              & 2.94                & 43.54               &  72.49              & 2.15                &  5.36               & 1.19                & 12.67               & 28079006            & NA                  & NA                  & NA                 \\\\\n",
       "\t ... & ... & ... & ... & ... & ... & ... & ... & ... & ... & ... & ... & ... & ... & ... & ... & ... & ... & ...\\\\\n",
       "\t 2018-01-31 23:00:00 & 1.6                 &  NA                 & 1.3                 & NA                  & 0.22                & 144                 & 485                 & NA                  & NA                  & 51                  & NA                  & NA                  & 1.61                &  6.6                & 28079055            & NA                  & 222                 & 1.39               \\\\\n",
       "\t 2018-01-31 23:00:00 &  NA                 & 0.8                 &  NA                 & NA                  &   NA                & 123                 & 334                 & NA                  &  1                  & 88                  & NA                  & NA                  &   NA                &   NA                & 28079056            & 49                  & 138                 &   NA               \\\\\n",
       "\t 2018-01-31 23:00:00 &  NA                 & 1.2                 &  NA                 & NA                  &   NA                & 155                 & 529                 & NA                  & NA                  & 60                  & NA                  & 22                  &   NA                &   NA                & 28079057            & NA                  & 244                 &   NA               \\\\\n",
       "\t 2018-01-31 23:00:00 &  NA                 &  NA                 &  NA                 & NA                  &   NA                &  54                 &  90                 & NA                  &  2                  & NA                  & NA                  & NA                  &   NA                &   NA                & 28079058            & NA                  &  24                 &   NA               \\\\\n",
       "\t 2018-01-31 23:00:00 &  NA                 &  NA                 &  NA                 & NA                  &   NA                & 121                 & 384                 & NA                  &  2                  & NA                  & NA                  & NA                  &   NA                &   NA                & 28079059            & NA                  & 171                 &   NA               \\\\\n",
       "\t 2018-01-31 23:00:00 &  NA                 &  NA                 &  NA                 & NA                  &   NA                & 134                 & 452                 & NA                  &  4                  & 54                  & NA                  & NA                  &   NA                &   NA                & 28079060            & NA                  & 207                 &   NA               \\\\\n",
       "\t 2018-02-01 00:00:00 &  NA                 & 0.8                 &  NA                 & NA                  &   NA                &  73                 & 262                 & NA                  & NA                  & NA                  & NA                  &  7                  &   NA                &   NA                & 28079004            & NA                  & 123                 &   NA               \\\\\n",
       "\t 2018-02-01 00:00:00 & 3.2                 & 1.0                 & 2.1                 & NA                  & 0.19                & 117                 & 309                 & NA                  &  3                  & 37                  & NA                  &  6                  & 1.72                & 13.0                & 28079008            & 24                  & 125                 & 1.53               \\\\\n",
       "\t 2018-02-01 00:00:00 & 1.5                 &  NA                 & 0.8                 & NA                  &   NA                & 108                 & 239                 & NA                  & NA                  & NA                  & NA                  & NA                  &   NA                &  6.5                & 28079011            & NA                  &  85                 &   NA               \\\\\n",
       "\t 2018-02-01 00:00:00 &  NA                 & 1.5                 &  NA                 & NA                  &   NA                & 153                 & 551                 & NA                  &  1                  & NA                  & NA                  & NA                  &   NA                &   NA                & 28079016            & NA                  & 259                 &   NA               \\\\\n",
       "\t 2018-02-01 00:00:00 &  NA                 &  NA                 &  NA                 & NA                  &   NA                & 124                 & 471                 & NA                  &  1                  & NA                  & NA                  & 12                  &   NA                &   NA                & 28079017            & NA                  & 226                 &   NA               \\\\\n",
       "\t 2018-02-01 00:00:00 & 1.1                 & 0.6                 & 0.8                 & NA                  &   NA                &  93                 & 227                 & NA                  &  1                  & 32                  & NA                  &  8                  &   NA                &  6.0                & 28079018            & NA                  &  87                 &   NA               \\\\\n",
       "\t 2018-02-01 00:00:00 & 1.3                 & 0.4                 & 0.8                 & NA                  & 0.10                &  73                 & 155                 & NA                  &  1                  & 27                  & NA                  &  5                  & 1.24                &  6.8                & 28079024            & 16                  &  54                 & 1.14               \\\\\n",
       "\t 2018-02-01 00:00:00 &  NA                 &  NA                 &  NA                 & NA                  &   NA                &  83                 & 182                 & NA                  &  3                  & NA                  & NA                  & NA                  &   NA                &   NA                & 28079027            & NA                  &  64                 &   NA               \\\\\n",
       "\t 2018-02-01 00:00:00 &  NA                 & 0.5                 &  NA                 & NA                  &   NA                &  90                 & 269                 & NA                  &  5                  & NA                  & NA                  & 11                  &   NA                &   NA                & 28079035            & NA                  & 117                 &   NA               \\\\\n",
       "\t 2018-02-01 00:00:00 &  NA                 & 1.3                 &  NA                 & NA                  &   NA                & 158                 & 623                 & NA                  & NA                  & 64                  & NA                  & 25                  &   NA                &   NA                & 28079036            & NA                  & 303                 &   NA               \\\\\n",
       "\t 2018-02-01 00:00:00 & 2.0                 &  NA                 & 1.6                 & NA                  &   NA                &  99                 & 204                 & NA                  & NA                  & 30                  & NA                  &  7                  &   NA                & 10.1                & 28079038            & 20                  &  68                 &   NA               \\\\\n",
       "\t 2018-02-01 00:00:00 &  NA                 & 0.9                 &  NA                 & NA                  &   NA                & 111                 & 331                 & NA                  &  1                  & NA                  & NA                  & NA                  &   NA                &   NA                & 28079039            & NA                  & 144                 &   NA               \\\\\n",
       "\t 2018-02-01 00:00:00 &  NA                 &  NA                 &  NA                 & NA                  &   NA                & 141                 & 480                 & NA                  & NA                  & 64                  & NA                  & 15                  &   NA                &   NA                & 28079040            & NA                  & 221                 &   NA               \\\\\n",
       "\t 2018-02-01 00:00:00 &  NA                 &  NA                 &  NA                 & NA                  &   NA                &  94                 & 264                 & NA                  & NA                  & 41                  & NA                  & NA                  &   NA                &   NA                & 28079047            & 29                  & 111                 &   NA               \\\\\n",
       "\t 2018-02-01 00:00:00 &  NA                 &  NA                 &  NA                 & NA                  &   NA                & 102                 & 217                 & NA                  & NA                  & 31                  & NA                  & NA                  &   NA                &   NA                & 28079048            & 20                  &  75                 &   NA               \\\\\n",
       "\t 2018-02-01 00:00:00 &  NA                 &  NA                 &  NA                 & NA                  &   NA                & 102                 & 325                 & NA                  &  3                  & NA                  & NA                  & NA                  &   NA                &   NA                & 28079049            & NA                  & 145                 &   NA               \\\\\n",
       "\t 2018-02-01 00:00:00 &  NA                 &  NA                 &  NA                 & NA                  &   NA                & 109                 & 250                 & NA                  & NA                  & 31                  & NA                  & NA                  &   NA                &   NA                & 28079050            & 21                  &  92                 &   NA               \\\\\n",
       "\t 2018-02-01 00:00:00 &  NA                 &  NA                 &  NA                 & NA                  &   NA                & 145                 & 541                 & NA                  &  2                  & NA                  & NA                  & NA                  &   NA                &   NA                & 28079054            & NA                  & 258                 &   NA               \\\\\n",
       "\t 2018-02-01 00:00:00 & 1.3                 &  NA                 & 1.2                 & NA                  & 0.13                &  94                 & 190                 & NA                  & NA                  & 35                  & NA                  & NA                  & 1.68                &  5.2                & 28079055            & NA                  &  63                 & 1.55               \\\\\n",
       "\t 2018-02-01 00:00:00 &  NA                 & 0.5                 &  NA                 & NA                  &   NA                &  91                 & 192                 & NA                  &  1                  & 35                  & NA                  & NA                  &   NA                &   NA                & 28079056            & 22                  &  66                 &   NA               \\\\\n",
       "\t 2018-02-01 00:00:00 &  NA                 & 0.7                 &  NA                 & NA                  &   NA                & 107                 & 241                 & NA                  & NA                  & 29                  & NA                  & 15                  &   NA                &   NA                & 28079057            & NA                  &  87                 &   NA               \\\\\n",
       "\t 2018-02-01 00:00:00 &  NA                 &  NA                 &  NA                 & NA                  &   NA                &  48                 &  91                 & NA                  &  2                  & NA                  & NA                  & NA                  &   NA                &   NA                & 28079058            & NA                  &  28                 &   NA               \\\\\n",
       "\t 2018-02-01 00:00:00 &  NA                 &  NA                 &  NA                 & NA                  &   NA                & 103                 & 320                 & NA                  &  2                  & NA                  & NA                  & NA                  &   NA                &   NA                & 28079059            & NA                  & 141                 &   NA               \\\\\n",
       "\t 2018-02-01 00:00:00 &  NA                 &  NA                 &  NA                 & NA                  &   NA                &  96                 & 202                 & NA                  &  3                  & 26                  & NA                  & NA                  &   NA                &   NA                & 28079060            & NA                  &  69                 &   NA               \\\\\n",
       "\\end{tabular}\n"
      ],
      "text/markdown": [
       "\n",
       "date | BEN | CO | EBE | MXY | NMHC | NO_2 | NOx | OXY | O_3 | PM10 | PXY | SO_2 | TCH | TOL | station | PM25 | NO | CH4 | \n",
       "|---|---|---|---|---|---|---|---|---|---|---|---|---|---|---|---|---|---|---|---|---|---|---|---|---|---|---|---|---|---|---|---|---|---|---|---|---|---|---|---|---|---|---|---|---|---|---|---|---|---|---|---|---|---|---|---|---|---|---|---|---|\n",
       "| 2001-08-01 01:00:00 |   NA                | 0.37                |   NA                |   NA                |   NA                | 58.40               |  87.15              |   NA                | 34.53               | 105.00              |   NA                |  6.34               |   NA                |    NA               | 28079001            | NA                  | NA                  | NA                  | \n",
       "| 2001-08-01 01:00:00 | 1.50                | 0.34                | 1.49                | 4.10                | 0.07                | 56.25               |  75.17              | 2.11                | 42.16               | 100.60              | 1.73                |  8.11               | 1.24                | 10.82               | 28079035            | NA                  | NA                  | NA                  | \n",
       "| 2001-08-01 01:00:00 |   NA                | 0.28                |   NA                |   NA                |   NA                | 50.66               |  61.38              |   NA                | 46.31               | 100.10              |   NA                |  7.85               |   NA                |    NA               | 28079003            | NA                  | NA                  | NA                  | \n",
       "| 2001-08-01 01:00:00 |   NA                | 0.47                |   NA                |   NA                |   NA                | 69.79               |  73.45              |   NA                | 40.65               |  69.78              |   NA                |  6.46               |   NA                |    NA               | 28079004            | NA                  | NA                  | NA                  | \n",
       "| 2001-08-01 01:00:00 |   NA                | 0.39                |   NA                |   NA                |   NA                | 22.83               |  24.80              |   NA                | 66.31               |  75.18              |   NA                |  8.80               |   NA                |    NA               | 28079039            | NA                  | NA                  | NA                  | \n",
       "| 2001-08-01 01:00:00 | 2.11                | 0.63                | 2.48                | 5.94                | 0.05                | 66.26               | 118.10              | 3.15                | 33.50               | 122.70              | 2.29                |  6.36               | 1.23                | 13.28               | 28079006            | NA                  | NA                  | NA                  | \n",
       "| 2001-08-01 01:00:00 |   NA                | 0.28                |   NA                |   NA                |   NA                | 35.80               |  39.59              |   NA                | 68.25               | 124.90              |   NA                |  5.23               |   NA                |    NA               | 28079007            | NA                  | NA                  | NA                  | \n",
       "| 2001-08-01 01:00:00 |   NA                | 0.67                |   NA                |   NA                |   NA                | 74.83               | 112.00              |   NA                | 26.41               | 113.00              |   NA                | 11.61               |   NA                |    NA               | 28079009            | NA                  | NA                  | NA                  | \n",
       "| 2001-08-01 01:00:00 |   NA                | 0.41                |   NA                |   NA                |   NA                | 33.21               |  37.30              |   NA                | 62.30               | 125.30              |   NA                | 10.87               |   NA                |    NA               | 28079038            | NA                  | NA                  | NA                  | \n",
       "| 2001-08-01 01:00:00 |   NA                | 0.17                |   NA                |   NA                | 0.13                | 24.13               |  36.97              |   NA                | 46.20               |  95.59              |   NA                |  3.89               | 1.44                |    NA               | 28079011            | NA                  | NA                  | NA                  | \n",
       "| 2001-08-01 01:00:00 |   NA                | 0.38                |   NA                |   NA                | 0.02                | 40.90               |  46.61              |   NA                | 51.45               | 109.20              |   NA                | 14.36               | 1.28                |    NA               | 28079012            | NA                  | NA                  | NA                  | \n",
       "| 2001-08-01 01:00:00 |   NA                | 0.17                |   NA                |   NA                | 0.09                | 30.63               |  33.77              |   NA                | 59.83               | 136.60              |   NA                |  3.93               | 1.22                |    NA               | 28079040            | NA                  | NA                  | NA                  | \n",
       "| 2001-08-01 01:00:00 |   NA                | 0.18                |   NA                |   NA                |   NA                | 30.92               |  33.02              |   NA                | 69.57               | 109.80              |   NA                |  6.74               |   NA                |    NA               | 28079014            | NA                  | NA                  | NA                  | \n",
       "| 2001-08-01 01:00:00 | 1.63                | 0.24                | 1.81                |   NA                | 0.10                | 33.87               |  45.97              |   NA                | 45.12               |  94.85              |   NA                |  2.11               | 1.30                | 10.30               | 28079015            | NA                  | NA                  | NA                  | \n",
       "| 2001-08-01 01:00:00 |   NA                | 0.25                |   NA                |   NA                |   NA                | 13.97               |  16.50              |   NA                | 68.48               |  72.96              |   NA                |  5.98               |   NA                |    NA               | 28079016            | NA                  | NA                  | NA                  | \n",
       "| 2001-08-01 01:00:00 |   NA                | 0.17                |   NA                |   NA                | 0.06                | 28.98               |  31.48              |   NA                | 48.29               | 137.70              |   NA                |  7.73               | 1.38                |    NA               | 28079018            | NA                  | NA                  | NA                  | \n",
       "| 2001-08-01 01:00:00 |   NA                | 0.26                |   NA                |   NA                |   NA                | 44.77               |  47.58              |   NA                | 56.64               |  92.99              |   NA                |  3.05               |   NA                |    NA               | 28079019            | NA                  | NA                  | NA                  | \n",
       "| 2001-08-01 01:00:00 |   NA                | 0.29                |   NA                |   NA                |   NA                | 34.07               |  39.42              |   NA                | 56.28               | 107.20              |   NA                |  7.52               |   NA                |    NA               | 28079036            | NA                  | NA                  | NA                  | \n",
       "| 2001-08-01 01:00:00 |   NA                | 0.33                |   NA                |   NA                |   NA                | 43.21               |  50.94              |   NA                | 51.10               |  88.01              |   NA                | 10.57               |   NA                |    NA               | 28079021            | NA                  | NA                  | NA                  | \n",
       "| 2001-08-01 01:00:00 | 0.83                | 0.81                |   NA                |   NA                |   NA                | 53.48               |  65.09              |   NA                | 46.65               |  92.16              |   NA                |    NA               |   NA                |  6.27               | 28079022            | NA                  | NA                  | NA                  | \n",
       "| 2001-08-01 01:00:00 |   NA                | 0.18                |   NA                |   NA                | 0.03                | 16.29               |  17.47              |   NA                | 65.39               |  59.67              |   NA                |  7.25               | 1.22                |    NA               | 28079023            | NA                  | NA                  | NA                  | \n",
       "| 2001-08-01 01:00:00 | 0.80                | 0.43                | 0.71                | 1.20                | 0.10                | 27.19               |  29.70              | 0.76                | 56.99               | 114.30              | 0.49                | 10.84               | 1.42                |  3.43               | 28079024            | NA                  | NA                  | NA                  | \n",
       "| 2001-08-01 01:00:00 | 0.89                | 0.20                | 0.54                | 1.14                |   NA                | 46.89               |  62.63              | 0.78                | 43.95               |     NA              | 0.59                | 19.82               |   NA                |  2.89               | 28079025            | NA                  | NA                  | NA                  | \n",
       "| 2001-08-01 01:00:00 | 1.29                | 0.34                | 1.41                | 3.09                | 0.07                | 40.75               |  51.57              | 1.70                | 51.58               | 102.20              | 1.28                |  7.97               | 1.30                |  7.83               | 28079099            | NA                  | NA                  | NA                  | \n",
       "| 2001-08-01 02:00:00 |   NA                | 0.42                |   NA                |   NA                |   NA                | 65.76               |  93.83              |   NA                | 27.93               |  69.75              |   NA                |  7.15               |   NA                |    NA               | 28079001            | NA                  | NA                  | NA                  | \n",
       "| 2001-08-01 02:00:00 | 0.87                | 0.06                | 0.88                | 2.41                | 0.01                | 29.71               |  31.44              | 1.20                | 56.52               |  56.29              | 1.02                |  6.90               | 1.17                |  6.49               | 28079035            | NA                  | NA                  | NA                  | \n",
       "| 2001-08-01 02:00:00 |   NA                | 0.27                |   NA                |   NA                |   NA                | 55.78               |  65.86              |   NA                | 40.51               |  73.88              |   NA                |  7.52               |   NA                |    NA               | 28079003            | NA                  | NA                  | NA                  | \n",
       "| 2001-08-01 02:00:00 |   NA                | 0.33                |   NA                |   NA                |   NA                | 64.11               |  66.85              |   NA                | 45.23               |  47.51              |   NA                |  6.41               |   NA                |    NA               | 28079004            | NA                  | NA                  | NA                  | \n",
       "| 2001-08-01 02:00:00 |   NA                | 0.30                |   NA                |   NA                |   NA                | 18.85               |  20.23              |   NA                | 68.12               |  58.77              |   NA                |  8.97               |   NA                |    NA               | 28079039            | NA                  | NA                  | NA                  | \n",
       "| 2001-08-01 02:00:00 | 2.01                | 0.42                | 2.30                | 5.50                | 0.01                | 56.60               |  88.44              | 2.94                | 43.54               |  72.49              | 2.15                |  5.36               | 1.19                | 12.67               | 28079006            | NA                  | NA                  | NA                  | \n",
       "| ... | ... | ... | ... | ... | ... | ... | ... | ... | ... | ... | ... | ... | ... | ... | ... | ... | ... | ... | \n",
       "| 2018-01-31 23:00:00 | 1.6                 |  NA                 | 1.3                 | NA                  | 0.22                | 144                 | 485                 | NA                  | NA                  | 51                  | NA                  | NA                  | 1.61                |  6.6                | 28079055            | NA                  | 222                 | 1.39                | \n",
       "| 2018-01-31 23:00:00 |  NA                 | 0.8                 |  NA                 | NA                  |   NA                | 123                 | 334                 | NA                  |  1                  | 88                  | NA                  | NA                  |   NA                |   NA                | 28079056            | 49                  | 138                 |   NA                | \n",
       "| 2018-01-31 23:00:00 |  NA                 | 1.2                 |  NA                 | NA                  |   NA                | 155                 | 529                 | NA                  | NA                  | 60                  | NA                  | 22                  |   NA                |   NA                | 28079057            | NA                  | 244                 |   NA                | \n",
       "| 2018-01-31 23:00:00 |  NA                 |  NA                 |  NA                 | NA                  |   NA                |  54                 |  90                 | NA                  |  2                  | NA                  | NA                  | NA                  |   NA                |   NA                | 28079058            | NA                  |  24                 |   NA                | \n",
       "| 2018-01-31 23:00:00 |  NA                 |  NA                 |  NA                 | NA                  |   NA                | 121                 | 384                 | NA                  |  2                  | NA                  | NA                  | NA                  |   NA                |   NA                | 28079059            | NA                  | 171                 |   NA                | \n",
       "| 2018-01-31 23:00:00 |  NA                 |  NA                 |  NA                 | NA                  |   NA                | 134                 | 452                 | NA                  |  4                  | 54                  | NA                  | NA                  |   NA                |   NA                | 28079060            | NA                  | 207                 |   NA                | \n",
       "| 2018-02-01 00:00:00 |  NA                 | 0.8                 |  NA                 | NA                  |   NA                |  73                 | 262                 | NA                  | NA                  | NA                  | NA                  |  7                  |   NA                |   NA                | 28079004            | NA                  | 123                 |   NA                | \n",
       "| 2018-02-01 00:00:00 | 3.2                 | 1.0                 | 2.1                 | NA                  | 0.19                | 117                 | 309                 | NA                  |  3                  | 37                  | NA                  |  6                  | 1.72                | 13.0                | 28079008            | 24                  | 125                 | 1.53                | \n",
       "| 2018-02-01 00:00:00 | 1.5                 |  NA                 | 0.8                 | NA                  |   NA                | 108                 | 239                 | NA                  | NA                  | NA                  | NA                  | NA                  |   NA                |  6.5                | 28079011            | NA                  |  85                 |   NA                | \n",
       "| 2018-02-01 00:00:00 |  NA                 | 1.5                 |  NA                 | NA                  |   NA                | 153                 | 551                 | NA                  |  1                  | NA                  | NA                  | NA                  |   NA                |   NA                | 28079016            | NA                  | 259                 |   NA                | \n",
       "| 2018-02-01 00:00:00 |  NA                 |  NA                 |  NA                 | NA                  |   NA                | 124                 | 471                 | NA                  |  1                  | NA                  | NA                  | 12                  |   NA                |   NA                | 28079017            | NA                  | 226                 |   NA                | \n",
       "| 2018-02-01 00:00:00 | 1.1                 | 0.6                 | 0.8                 | NA                  |   NA                |  93                 | 227                 | NA                  |  1                  | 32                  | NA                  |  8                  |   NA                |  6.0                | 28079018            | NA                  |  87                 |   NA                | \n",
       "| 2018-02-01 00:00:00 | 1.3                 | 0.4                 | 0.8                 | NA                  | 0.10                |  73                 | 155                 | NA                  |  1                  | 27                  | NA                  |  5                  | 1.24                |  6.8                | 28079024            | 16                  |  54                 | 1.14                | \n",
       "| 2018-02-01 00:00:00 |  NA                 |  NA                 |  NA                 | NA                  |   NA                |  83                 | 182                 | NA                  |  3                  | NA                  | NA                  | NA                  |   NA                |   NA                | 28079027            | NA                  |  64                 |   NA                | \n",
       "| 2018-02-01 00:00:00 |  NA                 | 0.5                 |  NA                 | NA                  |   NA                |  90                 | 269                 | NA                  |  5                  | NA                  | NA                  | 11                  |   NA                |   NA                | 28079035            | NA                  | 117                 |   NA                | \n",
       "| 2018-02-01 00:00:00 |  NA                 | 1.3                 |  NA                 | NA                  |   NA                | 158                 | 623                 | NA                  | NA                  | 64                  | NA                  | 25                  |   NA                |   NA                | 28079036            | NA                  | 303                 |   NA                | \n",
       "| 2018-02-01 00:00:00 | 2.0                 |  NA                 | 1.6                 | NA                  |   NA                |  99                 | 204                 | NA                  | NA                  | 30                  | NA                  |  7                  |   NA                | 10.1                | 28079038            | 20                  |  68                 |   NA                | \n",
       "| 2018-02-01 00:00:00 |  NA                 | 0.9                 |  NA                 | NA                  |   NA                | 111                 | 331                 | NA                  |  1                  | NA                  | NA                  | NA                  |   NA                |   NA                | 28079039            | NA                  | 144                 |   NA                | \n",
       "| 2018-02-01 00:00:00 |  NA                 |  NA                 |  NA                 | NA                  |   NA                | 141                 | 480                 | NA                  | NA                  | 64                  | NA                  | 15                  |   NA                |   NA                | 28079040            | NA                  | 221                 |   NA                | \n",
       "| 2018-02-01 00:00:00 |  NA                 |  NA                 |  NA                 | NA                  |   NA                |  94                 | 264                 | NA                  | NA                  | 41                  | NA                  | NA                  |   NA                |   NA                | 28079047            | 29                  | 111                 |   NA                | \n",
       "| 2018-02-01 00:00:00 |  NA                 |  NA                 |  NA                 | NA                  |   NA                | 102                 | 217                 | NA                  | NA                  | 31                  | NA                  | NA                  |   NA                |   NA                | 28079048            | 20                  |  75                 |   NA                | \n",
       "| 2018-02-01 00:00:00 |  NA                 |  NA                 |  NA                 | NA                  |   NA                | 102                 | 325                 | NA                  |  3                  | NA                  | NA                  | NA                  |   NA                |   NA                | 28079049            | NA                  | 145                 |   NA                | \n",
       "| 2018-02-01 00:00:00 |  NA                 |  NA                 |  NA                 | NA                  |   NA                | 109                 | 250                 | NA                  | NA                  | 31                  | NA                  | NA                  |   NA                |   NA                | 28079050            | 21                  |  92                 |   NA                | \n",
       "| 2018-02-01 00:00:00 |  NA                 |  NA                 |  NA                 | NA                  |   NA                | 145                 | 541                 | NA                  |  2                  | NA                  | NA                  | NA                  |   NA                |   NA                | 28079054            | NA                  | 258                 |   NA                | \n",
       "| 2018-02-01 00:00:00 | 1.3                 |  NA                 | 1.2                 | NA                  | 0.13                |  94                 | 190                 | NA                  | NA                  | 35                  | NA                  | NA                  | 1.68                |  5.2                | 28079055            | NA                  |  63                 | 1.55                | \n",
       "| 2018-02-01 00:00:00 |  NA                 | 0.5                 |  NA                 | NA                  |   NA                |  91                 | 192                 | NA                  |  1                  | 35                  | NA                  | NA                  |   NA                |   NA                | 28079056            | 22                  |  66                 |   NA                | \n",
       "| 2018-02-01 00:00:00 |  NA                 | 0.7                 |  NA                 | NA                  |   NA                | 107                 | 241                 | NA                  | NA                  | 29                  | NA                  | 15                  |   NA                |   NA                | 28079057            | NA                  |  87                 |   NA                | \n",
       "| 2018-02-01 00:00:00 |  NA                 |  NA                 |  NA                 | NA                  |   NA                |  48                 |  91                 | NA                  |  2                  | NA                  | NA                  | NA                  |   NA                |   NA                | 28079058            | NA                  |  28                 |   NA                | \n",
       "| 2018-02-01 00:00:00 |  NA                 |  NA                 |  NA                 | NA                  |   NA                | 103                 | 320                 | NA                  |  2                  | NA                  | NA                  | NA                  |   NA                |   NA                | 28079059            | NA                  | 141                 |   NA                | \n",
       "| 2018-02-01 00:00:00 |  NA                 |  NA                 |  NA                 | NA                  |   NA                |  96                 | 202                 | NA                  |  3                  | 26                  | NA                  | NA                  |   NA                |   NA                | 28079060            | NA                  |  69                 |   NA                | \n",
       "\n",
       "\n"
      ],
      "text/plain": [
       "        date                BEN  CO   EBE  MXY  NMHC NO_2  NOx    OXY  O_3  \n",
       "1       2001-08-01 01:00:00   NA 0.37   NA   NA   NA 58.40  87.15   NA 34.53\n",
       "2       2001-08-01 01:00:00 1.50 0.34 1.49 4.10 0.07 56.25  75.17 2.11 42.16\n",
       "3       2001-08-01 01:00:00   NA 0.28   NA   NA   NA 50.66  61.38   NA 46.31\n",
       "4       2001-08-01 01:00:00   NA 0.47   NA   NA   NA 69.79  73.45   NA 40.65\n",
       "5       2001-08-01 01:00:00   NA 0.39   NA   NA   NA 22.83  24.80   NA 66.31\n",
       "6       2001-08-01 01:00:00 2.11 0.63 2.48 5.94 0.05 66.26 118.10 3.15 33.50\n",
       "7       2001-08-01 01:00:00   NA 0.28   NA   NA   NA 35.80  39.59   NA 68.25\n",
       "8       2001-08-01 01:00:00   NA 0.67   NA   NA   NA 74.83 112.00   NA 26.41\n",
       "9       2001-08-01 01:00:00   NA 0.41   NA   NA   NA 33.21  37.30   NA 62.30\n",
       "10      2001-08-01 01:00:00   NA 0.17   NA   NA 0.13 24.13  36.97   NA 46.20\n",
       "11      2001-08-01 01:00:00   NA 0.38   NA   NA 0.02 40.90  46.61   NA 51.45\n",
       "12      2001-08-01 01:00:00   NA 0.17   NA   NA 0.09 30.63  33.77   NA 59.83\n",
       "13      2001-08-01 01:00:00   NA 0.18   NA   NA   NA 30.92  33.02   NA 69.57\n",
       "14      2001-08-01 01:00:00 1.63 0.24 1.81   NA 0.10 33.87  45.97   NA 45.12\n",
       "15      2001-08-01 01:00:00   NA 0.25   NA   NA   NA 13.97  16.50   NA 68.48\n",
       "16      2001-08-01 01:00:00   NA 0.17   NA   NA 0.06 28.98  31.48   NA 48.29\n",
       "17      2001-08-01 01:00:00   NA 0.26   NA   NA   NA 44.77  47.58   NA 56.64\n",
       "18      2001-08-01 01:00:00   NA 0.29   NA   NA   NA 34.07  39.42   NA 56.28\n",
       "19      2001-08-01 01:00:00   NA 0.33   NA   NA   NA 43.21  50.94   NA 51.10\n",
       "20      2001-08-01 01:00:00 0.83 0.81   NA   NA   NA 53.48  65.09   NA 46.65\n",
       "21      2001-08-01 01:00:00   NA 0.18   NA   NA 0.03 16.29  17.47   NA 65.39\n",
       "22      2001-08-01 01:00:00 0.80 0.43 0.71 1.20 0.10 27.19  29.70 0.76 56.99\n",
       "23      2001-08-01 01:00:00 0.89 0.20 0.54 1.14   NA 46.89  62.63 0.78 43.95\n",
       "24      2001-08-01 01:00:00 1.29 0.34 1.41 3.09 0.07 40.75  51.57 1.70 51.58\n",
       "25      2001-08-01 02:00:00   NA 0.42   NA   NA   NA 65.76  93.83   NA 27.93\n",
       "26      2001-08-01 02:00:00 0.87 0.06 0.88 2.41 0.01 29.71  31.44 1.20 56.52\n",
       "27      2001-08-01 02:00:00   NA 0.27   NA   NA   NA 55.78  65.86   NA 40.51\n",
       "28      2001-08-01 02:00:00   NA 0.33   NA   NA   NA 64.11  66.85   NA 45.23\n",
       "29      2001-08-01 02:00:00   NA 0.30   NA   NA   NA 18.85  20.23   NA 68.12\n",
       "30      2001-08-01 02:00:00 2.01 0.42 2.30 5.50 0.01 56.60  88.44 2.94 43.54\n",
       "...     ...                 ...  ...  ...  ...  ...  ...   ...    ...  ...  \n",
       "3808195 2018-01-31 23:00:00 1.6   NA  1.3  NA   0.22 144   485    NA   NA   \n",
       "3808196 2018-01-31 23:00:00  NA  0.8   NA  NA     NA 123   334    NA    1   \n",
       "3808197 2018-01-31 23:00:00  NA  1.2   NA  NA     NA 155   529    NA   NA   \n",
       "3808198 2018-01-31 23:00:00  NA   NA   NA  NA     NA  54    90    NA    2   \n",
       "3808199 2018-01-31 23:00:00  NA   NA   NA  NA     NA 121   384    NA    2   \n",
       "3808200 2018-01-31 23:00:00  NA   NA   NA  NA     NA 134   452    NA    4   \n",
       "3808201 2018-02-01 00:00:00  NA  0.8   NA  NA     NA  73   262    NA   NA   \n",
       "3808202 2018-02-01 00:00:00 3.2  1.0  2.1  NA   0.19 117   309    NA    3   \n",
       "3808203 2018-02-01 00:00:00 1.5   NA  0.8  NA     NA 108   239    NA   NA   \n",
       "3808204 2018-02-01 00:00:00  NA  1.5   NA  NA     NA 153   551    NA    1   \n",
       "3808205 2018-02-01 00:00:00  NA   NA   NA  NA     NA 124   471    NA    1   \n",
       "3808206 2018-02-01 00:00:00 1.1  0.6  0.8  NA     NA  93   227    NA    1   \n",
       "3808207 2018-02-01 00:00:00 1.3  0.4  0.8  NA   0.10  73   155    NA    1   \n",
       "3808208 2018-02-01 00:00:00  NA   NA   NA  NA     NA  83   182    NA    3   \n",
       "3808209 2018-02-01 00:00:00  NA  0.5   NA  NA     NA  90   269    NA    5   \n",
       "3808210 2018-02-01 00:00:00  NA  1.3   NA  NA     NA 158   623    NA   NA   \n",
       "3808211 2018-02-01 00:00:00 2.0   NA  1.6  NA     NA  99   204    NA   NA   \n",
       "3808212 2018-02-01 00:00:00  NA  0.9   NA  NA     NA 111   331    NA    1   \n",
       "3808213 2018-02-01 00:00:00  NA   NA   NA  NA     NA 141   480    NA   NA   \n",
       "3808214 2018-02-01 00:00:00  NA   NA   NA  NA     NA  94   264    NA   NA   \n",
       "3808215 2018-02-01 00:00:00  NA   NA   NA  NA     NA 102   217    NA   NA   \n",
       "3808216 2018-02-01 00:00:00  NA   NA   NA  NA     NA 102   325    NA    3   \n",
       "3808217 2018-02-01 00:00:00  NA   NA   NA  NA     NA 109   250    NA   NA   \n",
       "3808218 2018-02-01 00:00:00  NA   NA   NA  NA     NA 145   541    NA    2   \n",
       "3808219 2018-02-01 00:00:00 1.3   NA  1.2  NA   0.13  94   190    NA   NA   \n",
       "3808220 2018-02-01 00:00:00  NA  0.5   NA  NA     NA  91   192    NA    1   \n",
       "3808221 2018-02-01 00:00:00  NA  0.7   NA  NA     NA 107   241    NA   NA   \n",
       "3808222 2018-02-01 00:00:00  NA   NA   NA  NA     NA  48    91    NA    2   \n",
       "3808223 2018-02-01 00:00:00  NA   NA   NA  NA     NA 103   320    NA    2   \n",
       "3808224 2018-02-01 00:00:00  NA   NA   NA  NA     NA  96   202    NA    3   \n",
       "        PM10   PXY  SO_2  TCH  TOL   station  PM25 NO  CH4 \n",
       "1       105.00   NA  6.34   NA    NA 28079001 NA   NA  NA  \n",
       "2       100.60 1.73  8.11 1.24 10.82 28079035 NA   NA  NA  \n",
       "3       100.10   NA  7.85   NA    NA 28079003 NA   NA  NA  \n",
       "4        69.78   NA  6.46   NA    NA 28079004 NA   NA  NA  \n",
       "5        75.18   NA  8.80   NA    NA 28079039 NA   NA  NA  \n",
       "6       122.70 2.29  6.36 1.23 13.28 28079006 NA   NA  NA  \n",
       "7       124.90   NA  5.23   NA    NA 28079007 NA   NA  NA  \n",
       "8       113.00   NA 11.61   NA    NA 28079009 NA   NA  NA  \n",
       "9       125.30   NA 10.87   NA    NA 28079038 NA   NA  NA  \n",
       "10       95.59   NA  3.89 1.44    NA 28079011 NA   NA  NA  \n",
       "11      109.20   NA 14.36 1.28    NA 28079012 NA   NA  NA  \n",
       "12      136.60   NA  3.93 1.22    NA 28079040 NA   NA  NA  \n",
       "13      109.80   NA  6.74   NA    NA 28079014 NA   NA  NA  \n",
       "14       94.85   NA  2.11 1.30 10.30 28079015 NA   NA  NA  \n",
       "15       72.96   NA  5.98   NA    NA 28079016 NA   NA  NA  \n",
       "16      137.70   NA  7.73 1.38    NA 28079018 NA   NA  NA  \n",
       "17       92.99   NA  3.05   NA    NA 28079019 NA   NA  NA  \n",
       "18      107.20   NA  7.52   NA    NA 28079036 NA   NA  NA  \n",
       "19       88.01   NA 10.57   NA    NA 28079021 NA   NA  NA  \n",
       "20       92.16   NA    NA   NA  6.27 28079022 NA   NA  NA  \n",
       "21       59.67   NA  7.25 1.22    NA 28079023 NA   NA  NA  \n",
       "22      114.30 0.49 10.84 1.42  3.43 28079024 NA   NA  NA  \n",
       "23          NA 0.59 19.82   NA  2.89 28079025 NA   NA  NA  \n",
       "24      102.20 1.28  7.97 1.30  7.83 28079099 NA   NA  NA  \n",
       "25       69.75   NA  7.15   NA    NA 28079001 NA   NA  NA  \n",
       "26       56.29 1.02  6.90 1.17  6.49 28079035 NA   NA  NA  \n",
       "27       73.88   NA  7.52   NA    NA 28079003 NA   NA  NA  \n",
       "28       47.51   NA  6.41   NA    NA 28079004 NA   NA  NA  \n",
       "29       58.77   NA  8.97   NA    NA 28079039 NA   NA  NA  \n",
       "30       72.49 2.15  5.36 1.19 12.67 28079006 NA   NA  NA  \n",
       "...     ...    ...  ...   ...  ...   ...      ...  ... ... \n",
       "3808195 51     NA   NA    1.61  6.6  28079055 NA   222 1.39\n",
       "3808196 88     NA   NA      NA   NA  28079056 49   138   NA\n",
       "3808197 60     NA   22      NA   NA  28079057 NA   244   NA\n",
       "3808198 NA     NA   NA      NA   NA  28079058 NA    24   NA\n",
       "3808199 NA     NA   NA      NA   NA  28079059 NA   171   NA\n",
       "3808200 54     NA   NA      NA   NA  28079060 NA   207   NA\n",
       "3808201 NA     NA    7      NA   NA  28079004 NA   123   NA\n",
       "3808202 37     NA    6    1.72 13.0  28079008 24   125 1.53\n",
       "3808203 NA     NA   NA      NA  6.5  28079011 NA    85   NA\n",
       "3808204 NA     NA   NA      NA   NA  28079016 NA   259   NA\n",
       "3808205 NA     NA   12      NA   NA  28079017 NA   226   NA\n",
       "3808206 32     NA    8      NA  6.0  28079018 NA    87   NA\n",
       "3808207 27     NA    5    1.24  6.8  28079024 16    54 1.14\n",
       "3808208 NA     NA   NA      NA   NA  28079027 NA    64   NA\n",
       "3808209 NA     NA   11      NA   NA  28079035 NA   117   NA\n",
       "3808210 64     NA   25      NA   NA  28079036 NA   303   NA\n",
       "3808211 30     NA    7      NA 10.1  28079038 20    68   NA\n",
       "3808212 NA     NA   NA      NA   NA  28079039 NA   144   NA\n",
       "3808213 64     NA   15      NA   NA  28079040 NA   221   NA\n",
       "3808214 41     NA   NA      NA   NA  28079047 29   111   NA\n",
       "3808215 31     NA   NA      NA   NA  28079048 20    75   NA\n",
       "3808216 NA     NA   NA      NA   NA  28079049 NA   145   NA\n",
       "3808217 31     NA   NA      NA   NA  28079050 21    92   NA\n",
       "3808218 NA     NA   NA      NA   NA  28079054 NA   258   NA\n",
       "3808219 35     NA   NA    1.68  5.2  28079055 NA    63 1.55\n",
       "3808220 35     NA   NA      NA   NA  28079056 22    66   NA\n",
       "3808221 29     NA   15      NA   NA  28079057 NA    87   NA\n",
       "3808222 NA     NA   NA      NA   NA  28079058 NA    28   NA\n",
       "3808223 NA     NA   NA      NA   NA  28079059 NA   141   NA\n",
       "3808224 26     NA   NA      NA   NA  28079060 NA    69   NA"
      ]
     },
     "metadata": {},
     "output_type": "display_data"
    },
    {
     "data": {
      "text/html": [
       "<table>\n",
       "<thead><tr><th scope=col>date</th><th scope=col>CO</th><th scope=col>NO_2</th><th scope=col>O_3</th><th scope=col>PM10</th><th scope=col>SO_2</th><th scope=col>station</th></tr></thead>\n",
       "<tbody>\n",
       "\t<tr><td>2001-08-01 01:00:00</td><td>0.37               </td><td>58.40              </td><td>34.53              </td><td>105.00             </td><td>6.34               </td><td>28079001           </td></tr>\n",
       "\t<tr><td>2001-08-01 01:00:00</td><td>0.34               </td><td>56.25              </td><td>42.16              </td><td>100.60             </td><td>8.11               </td><td>28079035           </td></tr>\n",
       "\t<tr><td>2001-08-01 01:00:00</td><td>0.28               </td><td>50.66              </td><td>46.31              </td><td>100.10             </td><td>7.85               </td><td>28079003           </td></tr>\n",
       "\t<tr><td>2001-08-01 01:00:00</td><td>0.47               </td><td>69.79              </td><td>40.65              </td><td> 69.78             </td><td>6.46               </td><td>28079004           </td></tr>\n",
       "\t<tr><td>2001-08-01 01:00:00</td><td>0.39               </td><td>22.83              </td><td>66.31              </td><td> 75.18             </td><td>8.80               </td><td>28079039           </td></tr>\n",
       "\t<tr><td>2001-08-01 01:00:00</td><td>0.63               </td><td>66.26              </td><td>33.50              </td><td>122.70             </td><td>6.36               </td><td>28079006           </td></tr>\n",
       "</tbody>\n",
       "</table>\n"
      ],
      "text/latex": [
       "\\begin{tabular}{r|lllllll}\n",
       " date & CO & NO\\_2 & O\\_3 & PM10 & SO\\_2 & station\\\\\n",
       "\\hline\n",
       "\t 2001-08-01 01:00:00 & 0.37                & 58.40               & 34.53               & 105.00              & 6.34                & 28079001           \\\\\n",
       "\t 2001-08-01 01:00:00 & 0.34                & 56.25               & 42.16               & 100.60              & 8.11                & 28079035           \\\\\n",
       "\t 2001-08-01 01:00:00 & 0.28                & 50.66               & 46.31               & 100.10              & 7.85                & 28079003           \\\\\n",
       "\t 2001-08-01 01:00:00 & 0.47                & 69.79               & 40.65               &  69.78              & 6.46                & 28079004           \\\\\n",
       "\t 2001-08-01 01:00:00 & 0.39                & 22.83               & 66.31               &  75.18              & 8.80                & 28079039           \\\\\n",
       "\t 2001-08-01 01:00:00 & 0.63                & 66.26               & 33.50               & 122.70              & 6.36                & 28079006           \\\\\n",
       "\\end{tabular}\n"
      ],
      "text/markdown": [
       "\n",
       "date | CO | NO_2 | O_3 | PM10 | SO_2 | station | \n",
       "|---|---|---|---|---|---|\n",
       "| 2001-08-01 01:00:00 | 0.37                | 58.40               | 34.53               | 105.00              | 6.34                | 28079001            | \n",
       "| 2001-08-01 01:00:00 | 0.34                | 56.25               | 42.16               | 100.60              | 8.11                | 28079035            | \n",
       "| 2001-08-01 01:00:00 | 0.28                | 50.66               | 46.31               | 100.10              | 7.85                | 28079003            | \n",
       "| 2001-08-01 01:00:00 | 0.47                | 69.79               | 40.65               |  69.78              | 6.46                | 28079004            | \n",
       "| 2001-08-01 01:00:00 | 0.39                | 22.83               | 66.31               |  75.18              | 8.80                | 28079039            | \n",
       "| 2001-08-01 01:00:00 | 0.63                | 66.26               | 33.50               | 122.70              | 6.36                | 28079006            | \n",
       "\n",
       "\n"
      ],
      "text/plain": [
       "  date                CO   NO_2  O_3   PM10   SO_2 station \n",
       "1 2001-08-01 01:00:00 0.37 58.40 34.53 105.00 6.34 28079001\n",
       "2 2001-08-01 01:00:00 0.34 56.25 42.16 100.60 8.11 28079035\n",
       "3 2001-08-01 01:00:00 0.28 50.66 46.31 100.10 7.85 28079003\n",
       "4 2001-08-01 01:00:00 0.47 69.79 40.65  69.78 6.46 28079004\n",
       "5 2001-08-01 01:00:00 0.39 22.83 66.31  75.18 8.80 28079039\n",
       "6 2001-08-01 01:00:00 0.63 66.26 33.50 122.70 6.36 28079006"
      ]
     },
     "metadata": {},
     "output_type": "display_data"
    },
    {
     "data": {
      "text/html": [
       "<table>\n",
       "<thead><tr><th></th><th scope=col>date</th><th scope=col>CO</th><th scope=col>NO_2</th><th scope=col>O_3</th><th scope=col>PM10</th><th scope=col>SO_2</th><th scope=col>station</th></tr></thead>\n",
       "<tbody>\n",
       "\t<tr><th scope=row>3808219</th><td>2018-02-01 00:00:00</td><td> NA                </td><td> 94                </td><td>NA                 </td><td>35                 </td><td>NA                 </td><td>28079055           </td></tr>\n",
       "\t<tr><th scope=row>3808220</th><td>2018-02-01 00:00:00</td><td>0.5                </td><td> 91                </td><td> 1                 </td><td>35                 </td><td>NA                 </td><td>28079056           </td></tr>\n",
       "\t<tr><th scope=row>3808221</th><td>2018-02-01 00:00:00</td><td>0.7                </td><td>107                </td><td>NA                 </td><td>29                 </td><td>15                 </td><td>28079057           </td></tr>\n",
       "\t<tr><th scope=row>3808222</th><td>2018-02-01 00:00:00</td><td> NA                </td><td> 48                </td><td> 2                 </td><td>NA                 </td><td>NA                 </td><td>28079058           </td></tr>\n",
       "\t<tr><th scope=row>3808223</th><td>2018-02-01 00:00:00</td><td> NA                </td><td>103                </td><td> 2                 </td><td>NA                 </td><td>NA                 </td><td>28079059           </td></tr>\n",
       "\t<tr><th scope=row>3808224</th><td>2018-02-01 00:00:00</td><td> NA                </td><td> 96                </td><td> 3                 </td><td>26                 </td><td>NA                 </td><td>28079060           </td></tr>\n",
       "</tbody>\n",
       "</table>\n"
      ],
      "text/latex": [
       "\\begin{tabular}{r|lllllll}\n",
       "  & date & CO & NO\\_2 & O\\_3 & PM10 & SO\\_2 & station\\\\\n",
       "\\hline\n",
       "\t3808219 & 2018-02-01 00:00:00 &  NA                 &  94                 & NA                  & 35                  & NA                  & 28079055           \\\\\n",
       "\t3808220 & 2018-02-01 00:00:00 & 0.5                 &  91                 &  1                  & 35                  & NA                  & 28079056           \\\\\n",
       "\t3808221 & 2018-02-01 00:00:00 & 0.7                 & 107                 & NA                  & 29                  & 15                  & 28079057           \\\\\n",
       "\t3808222 & 2018-02-01 00:00:00 &  NA                 &  48                 &  2                  & NA                  & NA                  & 28079058           \\\\\n",
       "\t3808223 & 2018-02-01 00:00:00 &  NA                 & 103                 &  2                  & NA                  & NA                  & 28079059           \\\\\n",
       "\t3808224 & 2018-02-01 00:00:00 &  NA                 &  96                 &  3                  & 26                  & NA                  & 28079060           \\\\\n",
       "\\end{tabular}\n"
      ],
      "text/markdown": [
       "\n",
       "| <!--/--> | date | CO | NO_2 | O_3 | PM10 | SO_2 | station | \n",
       "|---|---|---|---|---|---|\n",
       "| 3808219 | 2018-02-01 00:00:00 |  NA                 |  94                 | NA                  | 35                  | NA                  | 28079055            | \n",
       "| 3808220 | 2018-02-01 00:00:00 | 0.5                 |  91                 |  1                  | 35                  | NA                  | 28079056            | \n",
       "| 3808221 | 2018-02-01 00:00:00 | 0.7                 | 107                 | NA                  | 29                  | 15                  | 28079057            | \n",
       "| 3808222 | 2018-02-01 00:00:00 |  NA                 |  48                 |  2                  | NA                  | NA                  | 28079058            | \n",
       "| 3808223 | 2018-02-01 00:00:00 |  NA                 | 103                 |  2                  | NA                  | NA                  | 28079059            | \n",
       "| 3808224 | 2018-02-01 00:00:00 |  NA                 |  96                 |  3                  | 26                  | NA                  | 28079060            | \n",
       "\n",
       "\n"
      ],
      "text/plain": [
       "        date                CO  NO_2 O_3 PM10 SO_2 station \n",
       "3808219 2018-02-01 00:00:00  NA  94  NA  35   NA   28079055\n",
       "3808220 2018-02-01 00:00:00 0.5  91   1  35   NA   28079056\n",
       "3808221 2018-02-01 00:00:00 0.7 107  NA  29   15   28079057\n",
       "3808222 2018-02-01 00:00:00  NA  48   2  NA   NA   28079058\n",
       "3808223 2018-02-01 00:00:00  NA 103   2  NA   NA   28079059\n",
       "3808224 2018-02-01 00:00:00  NA  96   3  26   NA   28079060"
      ]
     },
     "metadata": {},
     "output_type": "display_data"
    }
   ],
   "source": [
    "airMadrid#Procedemos a quitar el resto de columnas\n",
    "airMadrid$BEN = NULL;\n",
    "airMadrid$EBE = NULL;\n",
    "airMadrid$MXY = NULL;\n",
    "airMadrid$NMHC = NULL;\n",
    "airMadrid$NOx = NULL;\n",
    "airMadrid$OXY = NULL;\n",
    "airMadrid$PXY = NULL;\n",
    "airMadrid$TCH = NULL;\n",
    "airMadrid$TOL = NULL;\n",
    "airMadrid$PM25 = NULL;\n",
    "airMadrid$NO = NULL;\n",
    "airMadrid$CH4 = NULL;\n",
    "\n",
    "#Mostramos dataframe para observar cambios\n",
    "head(airMadrid)\n",
    "tail(airMadrid)"
   ]
  },
  {
   "cell_type": "code",
   "execution_count": 175,
   "metadata": {},
   "outputs": [],
   "source": [
    "# Liberamos memoria\n",
    "rm(percentageNA)\n",
    "rm(naPerColumn)"
   ]
  },
  {
   "cell_type": "markdown",
   "metadata": {},
   "source": [
    "## Agrupacion de datos"
   ]
  },
  {
   "cell_type": "code",
   "execution_count": 176,
   "metadata": {},
   "outputs": [
    {
     "data": {
      "text/html": [
       "<table>\n",
       "<thead><tr><th></th><th scope=col>date</th><th scope=col>CO</th><th scope=col>NO_2</th><th scope=col>O_3</th><th scope=col>PM10</th><th scope=col>SO_2</th><th scope=col>station</th></tr></thead>\n",
       "<tbody>\n",
       "\t<tr><th scope=row>1</th><td>2001-08-01 01:00:00</td><td>0.37               </td><td> 58.40             </td><td>34.53              </td><td>105.00             </td><td> 6.34              </td><td>28079001           </td></tr>\n",
       "\t<tr><th scope=row>25</th><td>2001-08-01 02:00:00</td><td>0.42               </td><td> 65.76             </td><td>27.93              </td><td> 69.75             </td><td> 7.15              </td><td>28079001           </td></tr>\n",
       "\t<tr><th scope=row>49</th><td>2001-08-01 03:00:00</td><td>0.32               </td><td> 61.09             </td><td>32.07              </td><td> 56.22             </td><td> 6.26              </td><td>28079001           </td></tr>\n",
       "\t<tr><th scope=row>73</th><td>2001-08-01 04:00:00</td><td>0.23               </td><td> 47.02             </td><td>42.21              </td><td> 50.69             </td><td> 5.19              </td><td>28079001           </td></tr>\n",
       "\t<tr><th scope=row>97</th><td>2001-08-01 05:00:00</td><td>0.19               </td><td> 47.17             </td><td>48.46              </td><td> 49.49             </td><td> 5.03              </td><td>28079001           </td></tr>\n",
       "\t<tr><th scope=row>121</th><td>2001-08-01 06:00:00</td><td>0.06               </td><td> 63.83             </td><td>40.80              </td><td> 43.47             </td><td> 5.24              </td><td>28079001           </td></tr>\n",
       "\t<tr><th scope=row>145</th><td>2001-08-01 07:00:00</td><td>0.28               </td><td> 91.74             </td><td>22.18              </td><td> 42.19             </td><td> 7.37              </td><td>28079001           </td></tr>\n",
       "\t<tr><th scope=row>169</th><td>2001-08-01 08:00:00</td><td>0.89               </td><td>127.80             </td><td>11.98              </td><td> 45.72             </td><td>11.37              </td><td>28079001           </td></tr>\n",
       "\t<tr><th scope=row>193</th><td>2001-08-01 09:00:00</td><td>1.51               </td><td>129.50             </td><td> 9.71              </td><td> 68.46             </td><td>15.57              </td><td>28079001           </td></tr>\n",
       "\t<tr><th scope=row>217</th><td>2001-08-01 10:00:00</td><td>1.80               </td><td>127.70             </td><td> 8.86              </td><td> 91.84             </td><td>19.47              </td><td>28079001           </td></tr>\n",
       "\t<tr><th scope=row>241</th><td>2001-08-01 11:00:00</td><td>1.26               </td><td>119.90             </td><td>11.65              </td><td> 85.32             </td><td>14.74              </td><td>28079001           </td></tr>\n",
       "\t<tr><th scope=row>265</th><td>2001-08-01 12:00:00</td><td>0.99               </td><td>120.20             </td><td>16.56              </td><td> 88.68             </td><td>12.77              </td><td>28079001           </td></tr>\n",
       "\t<tr><th scope=row>289</th><td>2001-08-01 13:00:00</td><td>0.91               </td><td>109.80             </td><td>25.13              </td><td> 70.78             </td><td>10.05              </td><td>28079001           </td></tr>\n",
       "\t<tr><th scope=row>313</th><td>2001-08-01 14:00:00</td><td>1.15               </td><td>114.70             </td><td>21.74              </td><td> 69.81             </td><td>11.03              </td><td>28079001           </td></tr>\n",
       "\t<tr><th scope=row>337</th><td>2001-08-01 15:00:00</td><td>1.23               </td><td>114.80             </td><td>21.18              </td><td> 76.04             </td><td>11.15              </td><td>28079001           </td></tr>\n",
       "\t<tr><th scope=row>361</th><td>2001-08-01 16:00:00</td><td>1.09               </td><td>110.60             </td><td>21.95              </td><td> 93.53             </td><td>11.28              </td><td>28079001           </td></tr>\n",
       "\t<tr><th scope=row>385</th><td>2001-08-01 17:00:00</td><td>0.69               </td><td> 93.50             </td><td>35.23              </td><td>106.80             </td><td>10.12              </td><td>28079001           </td></tr>\n",
       "\t<tr><th scope=row>409</th><td>2001-08-01 18:00:00</td><td>0.76               </td><td>103.30             </td><td>37.40              </td><td> 97.52             </td><td> 9.79              </td><td>28079001           </td></tr>\n",
       "\t<tr><th scope=row>433</th><td>2001-08-01 19:00:00</td><td>0.97               </td><td>117.70             </td><td>31.63              </td><td> 96.42             </td><td>11.80              </td><td>28079001           </td></tr>\n",
       "\t<tr><th scope=row>457</th><td>2001-08-01 20:00:00</td><td>1.11               </td><td>116.50             </td><td>26.72              </td><td> 73.99             </td><td>11.62              </td><td>28079001           </td></tr>\n",
       "\t<tr><th scope=row>481</th><td>2001-08-01 21:00:00</td><td>1.47               </td><td>121.10             </td><td>23.21              </td><td> 53.86             </td><td>11.58              </td><td>28079001           </td></tr>\n",
       "\t<tr><th scope=row>505</th><td>2001-08-01 22:00:00</td><td>1.73               </td><td>134.30             </td><td>15.83              </td><td> 48.50             </td><td>13.40              </td><td>28079001           </td></tr>\n",
       "\t<tr><th scope=row>529</th><td>2001-08-01 23:00:00</td><td>1.79               </td><td>134.10             </td><td>11.26              </td><td> 65.28             </td><td>15.04              </td><td>28079001           </td></tr>\n",
       "\t<tr><th scope=row>553</th><td>2001-08-02 00:00:00</td><td>1.34               </td><td>113.50             </td><td>14.47              </td><td> 62.23             </td><td>10.91              </td><td>28079001           </td></tr>\n",
       "</tbody>\n",
       "</table>\n"
      ],
      "text/latex": [
       "\\begin{tabular}{r|lllllll}\n",
       "  & date & CO & NO\\_2 & O\\_3 & PM10 & SO\\_2 & station\\\\\n",
       "\\hline\n",
       "\t1 & 2001-08-01 01:00:00 & 0.37                &  58.40              & 34.53               & 105.00              &  6.34               & 28079001           \\\\\n",
       "\t25 & 2001-08-01 02:00:00 & 0.42                &  65.76              & 27.93               &  69.75              &  7.15               & 28079001           \\\\\n",
       "\t49 & 2001-08-01 03:00:00 & 0.32                &  61.09              & 32.07               &  56.22              &  6.26               & 28079001           \\\\\n",
       "\t73 & 2001-08-01 04:00:00 & 0.23                &  47.02              & 42.21               &  50.69              &  5.19               & 28079001           \\\\\n",
       "\t97 & 2001-08-01 05:00:00 & 0.19                &  47.17              & 48.46               &  49.49              &  5.03               & 28079001           \\\\\n",
       "\t121 & 2001-08-01 06:00:00 & 0.06                &  63.83              & 40.80               &  43.47              &  5.24               & 28079001           \\\\\n",
       "\t145 & 2001-08-01 07:00:00 & 0.28                &  91.74              & 22.18               &  42.19              &  7.37               & 28079001           \\\\\n",
       "\t169 & 2001-08-01 08:00:00 & 0.89                & 127.80              & 11.98               &  45.72              & 11.37               & 28079001           \\\\\n",
       "\t193 & 2001-08-01 09:00:00 & 1.51                & 129.50              &  9.71               &  68.46              & 15.57               & 28079001           \\\\\n",
       "\t217 & 2001-08-01 10:00:00 & 1.80                & 127.70              &  8.86               &  91.84              & 19.47               & 28079001           \\\\\n",
       "\t241 & 2001-08-01 11:00:00 & 1.26                & 119.90              & 11.65               &  85.32              & 14.74               & 28079001           \\\\\n",
       "\t265 & 2001-08-01 12:00:00 & 0.99                & 120.20              & 16.56               &  88.68              & 12.77               & 28079001           \\\\\n",
       "\t289 & 2001-08-01 13:00:00 & 0.91                & 109.80              & 25.13               &  70.78              & 10.05               & 28079001           \\\\\n",
       "\t313 & 2001-08-01 14:00:00 & 1.15                & 114.70              & 21.74               &  69.81              & 11.03               & 28079001           \\\\\n",
       "\t337 & 2001-08-01 15:00:00 & 1.23                & 114.80              & 21.18               &  76.04              & 11.15               & 28079001           \\\\\n",
       "\t361 & 2001-08-01 16:00:00 & 1.09                & 110.60              & 21.95               &  93.53              & 11.28               & 28079001           \\\\\n",
       "\t385 & 2001-08-01 17:00:00 & 0.69                &  93.50              & 35.23               & 106.80              & 10.12               & 28079001           \\\\\n",
       "\t409 & 2001-08-01 18:00:00 & 0.76                & 103.30              & 37.40               &  97.52              &  9.79               & 28079001           \\\\\n",
       "\t433 & 2001-08-01 19:00:00 & 0.97                & 117.70              & 31.63               &  96.42              & 11.80               & 28079001           \\\\\n",
       "\t457 & 2001-08-01 20:00:00 & 1.11                & 116.50              & 26.72               &  73.99              & 11.62               & 28079001           \\\\\n",
       "\t481 & 2001-08-01 21:00:00 & 1.47                & 121.10              & 23.21               &  53.86              & 11.58               & 28079001           \\\\\n",
       "\t505 & 2001-08-01 22:00:00 & 1.73                & 134.30              & 15.83               &  48.50              & 13.40               & 28079001           \\\\\n",
       "\t529 & 2001-08-01 23:00:00 & 1.79                & 134.10              & 11.26               &  65.28              & 15.04               & 28079001           \\\\\n",
       "\t553 & 2001-08-02 00:00:00 & 1.34                & 113.50              & 14.47               &  62.23              & 10.91               & 28079001           \\\\\n",
       "\\end{tabular}\n"
      ],
      "text/markdown": [
       "\n",
       "| <!--/--> | date | CO | NO_2 | O_3 | PM10 | SO_2 | station | \n",
       "|---|---|---|---|---|---|---|---|---|---|---|---|---|---|---|---|---|---|---|---|---|---|---|---|\n",
       "| 1 | 2001-08-01 01:00:00 | 0.37                |  58.40              | 34.53               | 105.00              |  6.34               | 28079001            | \n",
       "| 25 | 2001-08-01 02:00:00 | 0.42                |  65.76              | 27.93               |  69.75              |  7.15               | 28079001            | \n",
       "| 49 | 2001-08-01 03:00:00 | 0.32                |  61.09              | 32.07               |  56.22              |  6.26               | 28079001            | \n",
       "| 73 | 2001-08-01 04:00:00 | 0.23                |  47.02              | 42.21               |  50.69              |  5.19               | 28079001            | \n",
       "| 97 | 2001-08-01 05:00:00 | 0.19                |  47.17              | 48.46               |  49.49              |  5.03               | 28079001            | \n",
       "| 121 | 2001-08-01 06:00:00 | 0.06                |  63.83              | 40.80               |  43.47              |  5.24               | 28079001            | \n",
       "| 145 | 2001-08-01 07:00:00 | 0.28                |  91.74              | 22.18               |  42.19              |  7.37               | 28079001            | \n",
       "| 169 | 2001-08-01 08:00:00 | 0.89                | 127.80              | 11.98               |  45.72              | 11.37               | 28079001            | \n",
       "| 193 | 2001-08-01 09:00:00 | 1.51                | 129.50              |  9.71               |  68.46              | 15.57               | 28079001            | \n",
       "| 217 | 2001-08-01 10:00:00 | 1.80                | 127.70              |  8.86               |  91.84              | 19.47               | 28079001            | \n",
       "| 241 | 2001-08-01 11:00:00 | 1.26                | 119.90              | 11.65               |  85.32              | 14.74               | 28079001            | \n",
       "| 265 | 2001-08-01 12:00:00 | 0.99                | 120.20              | 16.56               |  88.68              | 12.77               | 28079001            | \n",
       "| 289 | 2001-08-01 13:00:00 | 0.91                | 109.80              | 25.13               |  70.78              | 10.05               | 28079001            | \n",
       "| 313 | 2001-08-01 14:00:00 | 1.15                | 114.70              | 21.74               |  69.81              | 11.03               | 28079001            | \n",
       "| 337 | 2001-08-01 15:00:00 | 1.23                | 114.80              | 21.18               |  76.04              | 11.15               | 28079001            | \n",
       "| 361 | 2001-08-01 16:00:00 | 1.09                | 110.60              | 21.95               |  93.53              | 11.28               | 28079001            | \n",
       "| 385 | 2001-08-01 17:00:00 | 0.69                |  93.50              | 35.23               | 106.80              | 10.12               | 28079001            | \n",
       "| 409 | 2001-08-01 18:00:00 | 0.76                | 103.30              | 37.40               |  97.52              |  9.79               | 28079001            | \n",
       "| 433 | 2001-08-01 19:00:00 | 0.97                | 117.70              | 31.63               |  96.42              | 11.80               | 28079001            | \n",
       "| 457 | 2001-08-01 20:00:00 | 1.11                | 116.50              | 26.72               |  73.99              | 11.62               | 28079001            | \n",
       "| 481 | 2001-08-01 21:00:00 | 1.47                | 121.10              | 23.21               |  53.86              | 11.58               | 28079001            | \n",
       "| 505 | 2001-08-01 22:00:00 | 1.73                | 134.30              | 15.83               |  48.50              | 13.40               | 28079001            | \n",
       "| 529 | 2001-08-01 23:00:00 | 1.79                | 134.10              | 11.26               |  65.28              | 15.04               | 28079001            | \n",
       "| 553 | 2001-08-02 00:00:00 | 1.34                | 113.50              | 14.47               |  62.23              | 10.91               | 28079001            | \n",
       "\n",
       "\n"
      ],
      "text/plain": [
       "    date                CO   NO_2   O_3   PM10   SO_2  station \n",
       "1   2001-08-01 01:00:00 0.37  58.40 34.53 105.00  6.34 28079001\n",
       "25  2001-08-01 02:00:00 0.42  65.76 27.93  69.75  7.15 28079001\n",
       "49  2001-08-01 03:00:00 0.32  61.09 32.07  56.22  6.26 28079001\n",
       "73  2001-08-01 04:00:00 0.23  47.02 42.21  50.69  5.19 28079001\n",
       "97  2001-08-01 05:00:00 0.19  47.17 48.46  49.49  5.03 28079001\n",
       "121 2001-08-01 06:00:00 0.06  63.83 40.80  43.47  5.24 28079001\n",
       "145 2001-08-01 07:00:00 0.28  91.74 22.18  42.19  7.37 28079001\n",
       "169 2001-08-01 08:00:00 0.89 127.80 11.98  45.72 11.37 28079001\n",
       "193 2001-08-01 09:00:00 1.51 129.50  9.71  68.46 15.57 28079001\n",
       "217 2001-08-01 10:00:00 1.80 127.70  8.86  91.84 19.47 28079001\n",
       "241 2001-08-01 11:00:00 1.26 119.90 11.65  85.32 14.74 28079001\n",
       "265 2001-08-01 12:00:00 0.99 120.20 16.56  88.68 12.77 28079001\n",
       "289 2001-08-01 13:00:00 0.91 109.80 25.13  70.78 10.05 28079001\n",
       "313 2001-08-01 14:00:00 1.15 114.70 21.74  69.81 11.03 28079001\n",
       "337 2001-08-01 15:00:00 1.23 114.80 21.18  76.04 11.15 28079001\n",
       "361 2001-08-01 16:00:00 1.09 110.60 21.95  93.53 11.28 28079001\n",
       "385 2001-08-01 17:00:00 0.69  93.50 35.23 106.80 10.12 28079001\n",
       "409 2001-08-01 18:00:00 0.76 103.30 37.40  97.52  9.79 28079001\n",
       "433 2001-08-01 19:00:00 0.97 117.70 31.63  96.42 11.80 28079001\n",
       "457 2001-08-01 20:00:00 1.11 116.50 26.72  73.99 11.62 28079001\n",
       "481 2001-08-01 21:00:00 1.47 121.10 23.21  53.86 11.58 28079001\n",
       "505 2001-08-01 22:00:00 1.73 134.30 15.83  48.50 13.40 28079001\n",
       "529 2001-08-01 23:00:00 1.79 134.10 11.26  65.28 15.04 28079001\n",
       "553 2001-08-02 00:00:00 1.34 113.50 14.47  62.23 10.91 28079001"
      ]
     },
     "metadata": {},
     "output_type": "display_data"
    },
    {
     "data": {
      "text/html": [
       "<table>\n",
       "<thead><tr><th></th><th scope=col>date</th><th scope=col>CO</th><th scope=col>NO_2</th><th scope=col>O_3</th><th scope=col>PM10</th><th scope=col>SO_2</th><th scope=col>station</th></tr></thead>\n",
       "<tbody>\n",
       "\t<tr><th scope=row>2268754</th><td>2010-07-31 19:00:00</td><td>0.22               </td><td>17.83              </td><td>120.20             </td><td>20.17              </td><td>6.93               </td><td>28079099           </td></tr>\n",
       "\t<tr><th scope=row>2268776</th><td>2010-07-31 20:00:00</td><td>0.23               </td><td>22.57              </td><td>112.70             </td><td>13.95              </td><td>6.88               </td><td>28079099           </td></tr>\n",
       "\t<tr><th scope=row>2268798</th><td>2010-07-31 21:00:00</td><td>0.27               </td><td>33.91              </td><td> 98.27             </td><td>22.44              </td><td>6.84               </td><td>28079099           </td></tr>\n",
       "\t<tr><th scope=row>2268820</th><td>2010-07-31 22:00:00</td><td>0.38               </td><td>64.05              </td><td> 69.79             </td><td>52.17              </td><td>6.97               </td><td>28079099           </td></tr>\n",
       "\t<tr><th scope=row>2268842</th><td>2010-07-31 23:00:00</td><td>0.50               </td><td>86.81              </td><td> 49.55             </td><td>54.36              </td><td>7.12               </td><td>28079099           </td></tr>\n",
       "\t<tr><th scope=row>2268864</th><td>2010-08-01 00:00:00</td><td>0.43               </td><td>76.33              </td><td> 52.26             </td><td>47.15              </td><td>7.03               </td><td>28079099           </td></tr>\n",
       "</tbody>\n",
       "</table>\n"
      ],
      "text/latex": [
       "\\begin{tabular}{r|lllllll}\n",
       "  & date & CO & NO\\_2 & O\\_3 & PM10 & SO\\_2 & station\\\\\n",
       "\\hline\n",
       "\t2268754 & 2010-07-31 19:00:00 & 0.22                & 17.83               & 120.20              & 20.17               & 6.93                & 28079099           \\\\\n",
       "\t2268776 & 2010-07-31 20:00:00 & 0.23                & 22.57               & 112.70              & 13.95               & 6.88                & 28079099           \\\\\n",
       "\t2268798 & 2010-07-31 21:00:00 & 0.27                & 33.91               &  98.27              & 22.44               & 6.84                & 28079099           \\\\\n",
       "\t2268820 & 2010-07-31 22:00:00 & 0.38                & 64.05               &  69.79              & 52.17               & 6.97                & 28079099           \\\\\n",
       "\t2268842 & 2010-07-31 23:00:00 & 0.50                & 86.81               &  49.55              & 54.36               & 7.12                & 28079099           \\\\\n",
       "\t2268864 & 2010-08-01 00:00:00 & 0.43                & 76.33               &  52.26              & 47.15               & 7.03                & 28079099           \\\\\n",
       "\\end{tabular}\n"
      ],
      "text/markdown": [
       "\n",
       "| <!--/--> | date | CO | NO_2 | O_3 | PM10 | SO_2 | station | \n",
       "|---|---|---|---|---|---|\n",
       "| 2268754 | 2010-07-31 19:00:00 | 0.22                | 17.83               | 120.20              | 20.17               | 6.93                | 28079099            | \n",
       "| 2268776 | 2010-07-31 20:00:00 | 0.23                | 22.57               | 112.70              | 13.95               | 6.88                | 28079099            | \n",
       "| 2268798 | 2010-07-31 21:00:00 | 0.27                | 33.91               |  98.27              | 22.44               | 6.84                | 28079099            | \n",
       "| 2268820 | 2010-07-31 22:00:00 | 0.38                | 64.05               |  69.79              | 52.17               | 6.97                | 28079099            | \n",
       "| 2268842 | 2010-07-31 23:00:00 | 0.50                | 86.81               |  49.55              | 54.36               | 7.12                | 28079099            | \n",
       "| 2268864 | 2010-08-01 00:00:00 | 0.43                | 76.33               |  52.26              | 47.15               | 7.03                | 28079099            | \n",
       "\n",
       "\n"
      ],
      "text/plain": [
       "        date                CO   NO_2  O_3    PM10  SO_2 station \n",
       "2268754 2010-07-31 19:00:00 0.22 17.83 120.20 20.17 6.93 28079099\n",
       "2268776 2010-07-31 20:00:00 0.23 22.57 112.70 13.95 6.88 28079099\n",
       "2268798 2010-07-31 21:00:00 0.27 33.91  98.27 22.44 6.84 28079099\n",
       "2268820 2010-07-31 22:00:00 0.38 64.05  69.79 52.17 6.97 28079099\n",
       "2268842 2010-07-31 23:00:00 0.50 86.81  49.55 54.36 7.12 28079099\n",
       "2268864 2010-08-01 00:00:00 0.43 76.33  52.26 47.15 7.03 28079099"
      ]
     },
     "metadata": {},
     "output_type": "display_data"
    }
   ],
   "source": [
    "##Se ordenan los datos por estacion, después se comprimen todas las horas \n",
    "##de un dia para cada estacion en un solo dia\n",
    "\n",
    "airMadrid<- airMadrid[order(airMadrid$station),]\n",
    "head(airMadrid, n=24)\n",
    "tail(airMadrid)"
   ]
  },
  {
   "cell_type": "markdown",
   "metadata": {},
   "source": [
    "### Cambios de formato en la fecha"
   ]
  },
  {
   "cell_type": "code",
   "execution_count": 177,
   "metadata": {},
   "outputs": [],
   "source": [
    "airMadrid$date <- as.Date(airMadrid$date, format = \"%Y-%m-%d\")"
   ]
  },
  {
   "cell_type": "code",
   "execution_count": 178,
   "metadata": {},
   "outputs": [
    {
     "data": {
      "text/html": [
       "<table>\n",
       "<thead><tr><th></th><th scope=col>date</th><th scope=col>CO</th><th scope=col>NO_2</th><th scope=col>O_3</th><th scope=col>PM10</th><th scope=col>SO_2</th><th scope=col>station</th></tr></thead>\n",
       "<tbody>\n",
       "\t<tr><th scope=row>1</th><td>2001-08-01</td><td>0.37      </td><td> 58.40    </td><td>34.53     </td><td>105.00    </td><td> 6.34     </td><td>28079001  </td></tr>\n",
       "\t<tr><th scope=row>25</th><td>2001-08-01</td><td>0.42      </td><td> 65.76    </td><td>27.93     </td><td> 69.75    </td><td> 7.15     </td><td>28079001  </td></tr>\n",
       "\t<tr><th scope=row>49</th><td>2001-08-01</td><td>0.32      </td><td> 61.09    </td><td>32.07     </td><td> 56.22    </td><td> 6.26     </td><td>28079001  </td></tr>\n",
       "\t<tr><th scope=row>73</th><td>2001-08-01</td><td>0.23      </td><td> 47.02    </td><td>42.21     </td><td> 50.69    </td><td> 5.19     </td><td>28079001  </td></tr>\n",
       "\t<tr><th scope=row>97</th><td>2001-08-01</td><td>0.19      </td><td> 47.17    </td><td>48.46     </td><td> 49.49    </td><td> 5.03     </td><td>28079001  </td></tr>\n",
       "\t<tr><th scope=row>121</th><td>2001-08-01</td><td>0.06      </td><td> 63.83    </td><td>40.80     </td><td> 43.47    </td><td> 5.24     </td><td>28079001  </td></tr>\n",
       "\t<tr><th scope=row>145</th><td>2001-08-01</td><td>0.28      </td><td> 91.74    </td><td>22.18     </td><td> 42.19    </td><td> 7.37     </td><td>28079001  </td></tr>\n",
       "\t<tr><th scope=row>169</th><td>2001-08-01</td><td>0.89      </td><td>127.80    </td><td>11.98     </td><td> 45.72    </td><td>11.37     </td><td>28079001  </td></tr>\n",
       "\t<tr><th scope=row>193</th><td>2001-08-01</td><td>1.51      </td><td>129.50    </td><td> 9.71     </td><td> 68.46    </td><td>15.57     </td><td>28079001  </td></tr>\n",
       "\t<tr><th scope=row>217</th><td>2001-08-01</td><td>1.80      </td><td>127.70    </td><td> 8.86     </td><td> 91.84    </td><td>19.47     </td><td>28079001  </td></tr>\n",
       "\t<tr><th scope=row>241</th><td>2001-08-01</td><td>1.26      </td><td>119.90    </td><td>11.65     </td><td> 85.32    </td><td>14.74     </td><td>28079001  </td></tr>\n",
       "\t<tr><th scope=row>265</th><td>2001-08-01</td><td>0.99      </td><td>120.20    </td><td>16.56     </td><td> 88.68    </td><td>12.77     </td><td>28079001  </td></tr>\n",
       "\t<tr><th scope=row>289</th><td>2001-08-01</td><td>0.91      </td><td>109.80    </td><td>25.13     </td><td> 70.78    </td><td>10.05     </td><td>28079001  </td></tr>\n",
       "\t<tr><th scope=row>313</th><td>2001-08-01</td><td>1.15      </td><td>114.70    </td><td>21.74     </td><td> 69.81    </td><td>11.03     </td><td>28079001  </td></tr>\n",
       "\t<tr><th scope=row>337</th><td>2001-08-01</td><td>1.23      </td><td>114.80    </td><td>21.18     </td><td> 76.04    </td><td>11.15     </td><td>28079001  </td></tr>\n",
       "\t<tr><th scope=row>361</th><td>2001-08-01</td><td>1.09      </td><td>110.60    </td><td>21.95     </td><td> 93.53    </td><td>11.28     </td><td>28079001  </td></tr>\n",
       "\t<tr><th scope=row>385</th><td>2001-08-01</td><td>0.69      </td><td> 93.50    </td><td>35.23     </td><td>106.80    </td><td>10.12     </td><td>28079001  </td></tr>\n",
       "\t<tr><th scope=row>409</th><td>2001-08-01</td><td>0.76      </td><td>103.30    </td><td>37.40     </td><td> 97.52    </td><td> 9.79     </td><td>28079001  </td></tr>\n",
       "\t<tr><th scope=row>433</th><td>2001-08-01</td><td>0.97      </td><td>117.70    </td><td>31.63     </td><td> 96.42    </td><td>11.80     </td><td>28079001  </td></tr>\n",
       "\t<tr><th scope=row>457</th><td>2001-08-01</td><td>1.11      </td><td>116.50    </td><td>26.72     </td><td> 73.99    </td><td>11.62     </td><td>28079001  </td></tr>\n",
       "\t<tr><th scope=row>481</th><td>2001-08-01</td><td>1.47      </td><td>121.10    </td><td>23.21     </td><td> 53.86    </td><td>11.58     </td><td>28079001  </td></tr>\n",
       "\t<tr><th scope=row>505</th><td>2001-08-01</td><td>1.73      </td><td>134.30    </td><td>15.83     </td><td> 48.50    </td><td>13.40     </td><td>28079001  </td></tr>\n",
       "\t<tr><th scope=row>529</th><td>2001-08-01</td><td>1.79      </td><td>134.10    </td><td>11.26     </td><td> 65.28    </td><td>15.04     </td><td>28079001  </td></tr>\n",
       "\t<tr><th scope=row>553</th><td>2001-08-02</td><td>1.34      </td><td>113.50    </td><td>14.47     </td><td> 62.23    </td><td>10.91     </td><td>28079001  </td></tr>\n",
       "</tbody>\n",
       "</table>\n"
      ],
      "text/latex": [
       "\\begin{tabular}{r|lllllll}\n",
       "  & date & CO & NO\\_2 & O\\_3 & PM10 & SO\\_2 & station\\\\\n",
       "\\hline\n",
       "\t1 & 2001-08-01 & 0.37       &  58.40     & 34.53      & 105.00     &  6.34      & 28079001  \\\\\n",
       "\t25 & 2001-08-01 & 0.42       &  65.76     & 27.93      &  69.75     &  7.15      & 28079001  \\\\\n",
       "\t49 & 2001-08-01 & 0.32       &  61.09     & 32.07      &  56.22     &  6.26      & 28079001  \\\\\n",
       "\t73 & 2001-08-01 & 0.23       &  47.02     & 42.21      &  50.69     &  5.19      & 28079001  \\\\\n",
       "\t97 & 2001-08-01 & 0.19       &  47.17     & 48.46      &  49.49     &  5.03      & 28079001  \\\\\n",
       "\t121 & 2001-08-01 & 0.06       &  63.83     & 40.80      &  43.47     &  5.24      & 28079001  \\\\\n",
       "\t145 & 2001-08-01 & 0.28       &  91.74     & 22.18      &  42.19     &  7.37      & 28079001  \\\\\n",
       "\t169 & 2001-08-01 & 0.89       & 127.80     & 11.98      &  45.72     & 11.37      & 28079001  \\\\\n",
       "\t193 & 2001-08-01 & 1.51       & 129.50     &  9.71      &  68.46     & 15.57      & 28079001  \\\\\n",
       "\t217 & 2001-08-01 & 1.80       & 127.70     &  8.86      &  91.84     & 19.47      & 28079001  \\\\\n",
       "\t241 & 2001-08-01 & 1.26       & 119.90     & 11.65      &  85.32     & 14.74      & 28079001  \\\\\n",
       "\t265 & 2001-08-01 & 0.99       & 120.20     & 16.56      &  88.68     & 12.77      & 28079001  \\\\\n",
       "\t289 & 2001-08-01 & 0.91       & 109.80     & 25.13      &  70.78     & 10.05      & 28079001  \\\\\n",
       "\t313 & 2001-08-01 & 1.15       & 114.70     & 21.74      &  69.81     & 11.03      & 28079001  \\\\\n",
       "\t337 & 2001-08-01 & 1.23       & 114.80     & 21.18      &  76.04     & 11.15      & 28079001  \\\\\n",
       "\t361 & 2001-08-01 & 1.09       & 110.60     & 21.95      &  93.53     & 11.28      & 28079001  \\\\\n",
       "\t385 & 2001-08-01 & 0.69       &  93.50     & 35.23      & 106.80     & 10.12      & 28079001  \\\\\n",
       "\t409 & 2001-08-01 & 0.76       & 103.30     & 37.40      &  97.52     &  9.79      & 28079001  \\\\\n",
       "\t433 & 2001-08-01 & 0.97       & 117.70     & 31.63      &  96.42     & 11.80      & 28079001  \\\\\n",
       "\t457 & 2001-08-01 & 1.11       & 116.50     & 26.72      &  73.99     & 11.62      & 28079001  \\\\\n",
       "\t481 & 2001-08-01 & 1.47       & 121.10     & 23.21      &  53.86     & 11.58      & 28079001  \\\\\n",
       "\t505 & 2001-08-01 & 1.73       & 134.30     & 15.83      &  48.50     & 13.40      & 28079001  \\\\\n",
       "\t529 & 2001-08-01 & 1.79       & 134.10     & 11.26      &  65.28     & 15.04      & 28079001  \\\\\n",
       "\t553 & 2001-08-02 & 1.34       & 113.50     & 14.47      &  62.23     & 10.91      & 28079001  \\\\\n",
       "\\end{tabular}\n"
      ],
      "text/markdown": [
       "\n",
       "| <!--/--> | date | CO | NO_2 | O_3 | PM10 | SO_2 | station | \n",
       "|---|---|---|---|---|---|---|---|---|---|---|---|---|---|---|---|---|---|---|---|---|---|---|---|\n",
       "| 1 | 2001-08-01 | 0.37       |  58.40     | 34.53      | 105.00     |  6.34      | 28079001   | \n",
       "| 25 | 2001-08-01 | 0.42       |  65.76     | 27.93      |  69.75     |  7.15      | 28079001   | \n",
       "| 49 | 2001-08-01 | 0.32       |  61.09     | 32.07      |  56.22     |  6.26      | 28079001   | \n",
       "| 73 | 2001-08-01 | 0.23       |  47.02     | 42.21      |  50.69     |  5.19      | 28079001   | \n",
       "| 97 | 2001-08-01 | 0.19       |  47.17     | 48.46      |  49.49     |  5.03      | 28079001   | \n",
       "| 121 | 2001-08-01 | 0.06       |  63.83     | 40.80      |  43.47     |  5.24      | 28079001   | \n",
       "| 145 | 2001-08-01 | 0.28       |  91.74     | 22.18      |  42.19     |  7.37      | 28079001   | \n",
       "| 169 | 2001-08-01 | 0.89       | 127.80     | 11.98      |  45.72     | 11.37      | 28079001   | \n",
       "| 193 | 2001-08-01 | 1.51       | 129.50     |  9.71      |  68.46     | 15.57      | 28079001   | \n",
       "| 217 | 2001-08-01 | 1.80       | 127.70     |  8.86      |  91.84     | 19.47      | 28079001   | \n",
       "| 241 | 2001-08-01 | 1.26       | 119.90     | 11.65      |  85.32     | 14.74      | 28079001   | \n",
       "| 265 | 2001-08-01 | 0.99       | 120.20     | 16.56      |  88.68     | 12.77      | 28079001   | \n",
       "| 289 | 2001-08-01 | 0.91       | 109.80     | 25.13      |  70.78     | 10.05      | 28079001   | \n",
       "| 313 | 2001-08-01 | 1.15       | 114.70     | 21.74      |  69.81     | 11.03      | 28079001   | \n",
       "| 337 | 2001-08-01 | 1.23       | 114.80     | 21.18      |  76.04     | 11.15      | 28079001   | \n",
       "| 361 | 2001-08-01 | 1.09       | 110.60     | 21.95      |  93.53     | 11.28      | 28079001   | \n",
       "| 385 | 2001-08-01 | 0.69       |  93.50     | 35.23      | 106.80     | 10.12      | 28079001   | \n",
       "| 409 | 2001-08-01 | 0.76       | 103.30     | 37.40      |  97.52     |  9.79      | 28079001   | \n",
       "| 433 | 2001-08-01 | 0.97       | 117.70     | 31.63      |  96.42     | 11.80      | 28079001   | \n",
       "| 457 | 2001-08-01 | 1.11       | 116.50     | 26.72      |  73.99     | 11.62      | 28079001   | \n",
       "| 481 | 2001-08-01 | 1.47       | 121.10     | 23.21      |  53.86     | 11.58      | 28079001   | \n",
       "| 505 | 2001-08-01 | 1.73       | 134.30     | 15.83      |  48.50     | 13.40      | 28079001   | \n",
       "| 529 | 2001-08-01 | 1.79       | 134.10     | 11.26      |  65.28     | 15.04      | 28079001   | \n",
       "| 553 | 2001-08-02 | 1.34       | 113.50     | 14.47      |  62.23     | 10.91      | 28079001   | \n",
       "\n",
       "\n"
      ],
      "text/plain": [
       "    date       CO   NO_2   O_3   PM10   SO_2  station \n",
       "1   2001-08-01 0.37  58.40 34.53 105.00  6.34 28079001\n",
       "25  2001-08-01 0.42  65.76 27.93  69.75  7.15 28079001\n",
       "49  2001-08-01 0.32  61.09 32.07  56.22  6.26 28079001\n",
       "73  2001-08-01 0.23  47.02 42.21  50.69  5.19 28079001\n",
       "97  2001-08-01 0.19  47.17 48.46  49.49  5.03 28079001\n",
       "121 2001-08-01 0.06  63.83 40.80  43.47  5.24 28079001\n",
       "145 2001-08-01 0.28  91.74 22.18  42.19  7.37 28079001\n",
       "169 2001-08-01 0.89 127.80 11.98  45.72 11.37 28079001\n",
       "193 2001-08-01 1.51 129.50  9.71  68.46 15.57 28079001\n",
       "217 2001-08-01 1.80 127.70  8.86  91.84 19.47 28079001\n",
       "241 2001-08-01 1.26 119.90 11.65  85.32 14.74 28079001\n",
       "265 2001-08-01 0.99 120.20 16.56  88.68 12.77 28079001\n",
       "289 2001-08-01 0.91 109.80 25.13  70.78 10.05 28079001\n",
       "313 2001-08-01 1.15 114.70 21.74  69.81 11.03 28079001\n",
       "337 2001-08-01 1.23 114.80 21.18  76.04 11.15 28079001\n",
       "361 2001-08-01 1.09 110.60 21.95  93.53 11.28 28079001\n",
       "385 2001-08-01 0.69  93.50 35.23 106.80 10.12 28079001\n",
       "409 2001-08-01 0.76 103.30 37.40  97.52  9.79 28079001\n",
       "433 2001-08-01 0.97 117.70 31.63  96.42 11.80 28079001\n",
       "457 2001-08-01 1.11 116.50 26.72  73.99 11.62 28079001\n",
       "481 2001-08-01 1.47 121.10 23.21  53.86 11.58 28079001\n",
       "505 2001-08-01 1.73 134.30 15.83  48.50 13.40 28079001\n",
       "529 2001-08-01 1.79 134.10 11.26  65.28 15.04 28079001\n",
       "553 2001-08-02 1.34 113.50 14.47  62.23 10.91 28079001"
      ]
     },
     "metadata": {},
     "output_type": "display_data"
    },
    {
     "data": {
      "text/html": [
       "<table>\n",
       "<thead><tr><th></th><th scope=col>date</th><th scope=col>CO</th><th scope=col>NO_2</th><th scope=col>O_3</th><th scope=col>PM10</th><th scope=col>SO_2</th><th scope=col>station</th></tr></thead>\n",
       "<tbody>\n",
       "\t<tr><th scope=row>2268754</th><td>2010-07-31</td><td>0.22      </td><td>17.83     </td><td>120.20    </td><td>20.17     </td><td>6.93      </td><td>28079099  </td></tr>\n",
       "\t<tr><th scope=row>2268776</th><td>2010-07-31</td><td>0.23      </td><td>22.57     </td><td>112.70    </td><td>13.95     </td><td>6.88      </td><td>28079099  </td></tr>\n",
       "\t<tr><th scope=row>2268798</th><td>2010-07-31</td><td>0.27      </td><td>33.91     </td><td> 98.27    </td><td>22.44     </td><td>6.84      </td><td>28079099  </td></tr>\n",
       "\t<tr><th scope=row>2268820</th><td>2010-07-31</td><td>0.38      </td><td>64.05     </td><td> 69.79    </td><td>52.17     </td><td>6.97      </td><td>28079099  </td></tr>\n",
       "\t<tr><th scope=row>2268842</th><td>2010-07-31</td><td>0.50      </td><td>86.81     </td><td> 49.55    </td><td>54.36     </td><td>7.12      </td><td>28079099  </td></tr>\n",
       "\t<tr><th scope=row>2268864</th><td>2010-08-01</td><td>0.43      </td><td>76.33     </td><td> 52.26    </td><td>47.15     </td><td>7.03      </td><td>28079099  </td></tr>\n",
       "</tbody>\n",
       "</table>\n"
      ],
      "text/latex": [
       "\\begin{tabular}{r|lllllll}\n",
       "  & date & CO & NO\\_2 & O\\_3 & PM10 & SO\\_2 & station\\\\\n",
       "\\hline\n",
       "\t2268754 & 2010-07-31 & 0.22       & 17.83      & 120.20     & 20.17      & 6.93       & 28079099  \\\\\n",
       "\t2268776 & 2010-07-31 & 0.23       & 22.57      & 112.70     & 13.95      & 6.88       & 28079099  \\\\\n",
       "\t2268798 & 2010-07-31 & 0.27       & 33.91      &  98.27     & 22.44      & 6.84       & 28079099  \\\\\n",
       "\t2268820 & 2010-07-31 & 0.38       & 64.05      &  69.79     & 52.17      & 6.97       & 28079099  \\\\\n",
       "\t2268842 & 2010-07-31 & 0.50       & 86.81      &  49.55     & 54.36      & 7.12       & 28079099  \\\\\n",
       "\t2268864 & 2010-08-01 & 0.43       & 76.33      &  52.26     & 47.15      & 7.03       & 28079099  \\\\\n",
       "\\end{tabular}\n"
      ],
      "text/markdown": [
       "\n",
       "| <!--/--> | date | CO | NO_2 | O_3 | PM10 | SO_2 | station | \n",
       "|---|---|---|---|---|---|\n",
       "| 2268754 | 2010-07-31 | 0.22       | 17.83      | 120.20     | 20.17      | 6.93       | 28079099   | \n",
       "| 2268776 | 2010-07-31 | 0.23       | 22.57      | 112.70     | 13.95      | 6.88       | 28079099   | \n",
       "| 2268798 | 2010-07-31 | 0.27       | 33.91      |  98.27     | 22.44      | 6.84       | 28079099   | \n",
       "| 2268820 | 2010-07-31 | 0.38       | 64.05      |  69.79     | 52.17      | 6.97       | 28079099   | \n",
       "| 2268842 | 2010-07-31 | 0.50       | 86.81      |  49.55     | 54.36      | 7.12       | 28079099   | \n",
       "| 2268864 | 2010-08-01 | 0.43       | 76.33      |  52.26     | 47.15      | 7.03       | 28079099   | \n",
       "\n",
       "\n"
      ],
      "text/plain": [
       "        date       CO   NO_2  O_3    PM10  SO_2 station \n",
       "2268754 2010-07-31 0.22 17.83 120.20 20.17 6.93 28079099\n",
       "2268776 2010-07-31 0.23 22.57 112.70 13.95 6.88 28079099\n",
       "2268798 2010-07-31 0.27 33.91  98.27 22.44 6.84 28079099\n",
       "2268820 2010-07-31 0.38 64.05  69.79 52.17 6.97 28079099\n",
       "2268842 2010-07-31 0.50 86.81  49.55 54.36 7.12 28079099\n",
       "2268864 2010-08-01 0.43 76.33  52.26 47.15 7.03 28079099"
      ]
     },
     "metadata": {},
     "output_type": "display_data"
    }
   ],
   "source": [
    "head(airMadrid, n = 24)\n",
    "tail(airMadrid)"
   ]
  },
  {
   "cell_type": "code",
   "execution_count": 179,
   "metadata": {},
   "outputs": [
    {
     "data": {
      "text/html": [
       "<table>\n",
       "<thead><tr><th scope=col>station</th><th scope=col>date</th><th scope=col>CO</th><th scope=col>NO_2</th><th scope=col>O_3</th><th scope=col>PM10</th><th scope=col>SO_2</th></tr></thead>\n",
       "<tbody>\n",
       "\t<tr><td>28079001  </td><td>2001-01-02</td><td>1.243333  </td><td>84.53750  </td><td>12.576667 </td><td>36.92455  </td><td>20.28083  </td></tr>\n",
       "\t<tr><td>28079001  </td><td>2001-01-03</td><td>1.242917  </td><td>79.75125  </td><td>10.961250 </td><td>37.21292  </td><td>16.23917  </td></tr>\n",
       "\t<tr><td>28079001  </td><td>2001-01-04</td><td>1.134167  </td><td>75.39250  </td><td>12.002917 </td><td>35.03667  </td><td>16.75125  </td></tr>\n",
       "\t<tr><td>28079001  </td><td>2001-01-05</td><td>1.535833  </td><td>77.14083  </td><td> 8.755833 </td><td>34.27625  </td><td>16.00958  </td></tr>\n",
       "\t<tr><td>28079001  </td><td>2001-01-06</td><td>1.009167  </td><td>64.47708  </td><td>13.955417 </td><td>17.03792  </td><td>15.35417  </td></tr>\n",
       "\t<tr><td>28079001  </td><td>2001-01-07</td><td>1.016250  </td><td>67.06125  </td><td>12.776250 </td><td>20.45500  </td><td>18.43042  </td></tr>\n",
       "</tbody>\n",
       "</table>\n"
      ],
      "text/latex": [
       "\\begin{tabular}{r|lllllll}\n",
       " station & date & CO & NO\\_2 & O\\_3 & PM10 & SO\\_2\\\\\n",
       "\\hline\n",
       "\t 28079001   & 2001-01-02 & 1.243333   & 84.53750   & 12.576667  & 36.92455   & 20.28083  \\\\\n",
       "\t 28079001   & 2001-01-03 & 1.242917   & 79.75125   & 10.961250  & 37.21292   & 16.23917  \\\\\n",
       "\t 28079001   & 2001-01-04 & 1.134167   & 75.39250   & 12.002917  & 35.03667   & 16.75125  \\\\\n",
       "\t 28079001   & 2001-01-05 & 1.535833   & 77.14083   &  8.755833  & 34.27625   & 16.00958  \\\\\n",
       "\t 28079001   & 2001-01-06 & 1.009167   & 64.47708   & 13.955417  & 17.03792   & 15.35417  \\\\\n",
       "\t 28079001   & 2001-01-07 & 1.016250   & 67.06125   & 12.776250  & 20.45500   & 18.43042  \\\\\n",
       "\\end{tabular}\n"
      ],
      "text/markdown": [
       "\n",
       "station | date | CO | NO_2 | O_3 | PM10 | SO_2 | \n",
       "|---|---|---|---|---|---|\n",
       "| 28079001   | 2001-01-02 | 1.243333   | 84.53750   | 12.576667  | 36.92455   | 20.28083   | \n",
       "| 28079001   | 2001-01-03 | 1.242917   | 79.75125   | 10.961250  | 37.21292   | 16.23917   | \n",
       "| 28079001   | 2001-01-04 | 1.134167   | 75.39250   | 12.002917  | 35.03667   | 16.75125   | \n",
       "| 28079001   | 2001-01-05 | 1.535833   | 77.14083   |  8.755833  | 34.27625   | 16.00958   | \n",
       "| 28079001   | 2001-01-06 | 1.009167   | 64.47708   | 13.955417  | 17.03792   | 15.35417   | \n",
       "| 28079001   | 2001-01-07 | 1.016250   | 67.06125   | 12.776250  | 20.45500   | 18.43042   | \n",
       "\n",
       "\n"
      ],
      "text/plain": [
       "  station  date       CO       NO_2     O_3       PM10     SO_2    \n",
       "1 28079001 2001-01-02 1.243333 84.53750 12.576667 36.92455 20.28083\n",
       "2 28079001 2001-01-03 1.242917 79.75125 10.961250 37.21292 16.23917\n",
       "3 28079001 2001-01-04 1.134167 75.39250 12.002917 35.03667 16.75125\n",
       "4 28079001 2001-01-05 1.535833 77.14083  8.755833 34.27625 16.00958\n",
       "5 28079001 2001-01-06 1.009167 64.47708 13.955417 17.03792 15.35417\n",
       "6 28079001 2001-01-07 1.016250 67.06125 12.776250 20.45500 18.43042"
      ]
     },
     "metadata": {},
     "output_type": "display_data"
    },
    {
     "data": {
      "text/html": [
       "<table>\n",
       "<thead><tr><th scope=col>station</th><th scope=col>date</th><th scope=col>CO</th><th scope=col>NO_2</th><th scope=col>O_3</th><th scope=col>PM10</th><th scope=col>SO_2</th></tr></thead>\n",
       "<tbody>\n",
       "\t<tr><td>28079099  </td><td>2010-12-27</td><td>0.6770833 </td><td>83.11375  </td><td> 7.620417 </td><td>31.41708  </td><td>15.32375  </td></tr>\n",
       "\t<tr><td>28079099  </td><td>2010-12-28</td><td>0.7100000 </td><td>86.31750  </td><td> 7.642500 </td><td>35.74667  </td><td>18.47833  </td></tr>\n",
       "\t<tr><td>28079099  </td><td>2010-12-29</td><td>0.7404167 </td><td>82.27375  </td><td> 9.689583 </td><td>31.68542  </td><td>18.05083  </td></tr>\n",
       "\t<tr><td>28079099  </td><td>2010-12-30</td><td>0.6145833 </td><td>68.60792  </td><td> 7.415417 </td><td>25.95917  </td><td>13.35000  </td></tr>\n",
       "\t<tr><td>28079099  </td><td>2010-12-31</td><td>0.4387500 </td><td>55.20375  </td><td>14.215417 </td><td>14.84542  </td><td>10.28958  </td></tr>\n",
       "\t<tr><td>28079099  </td><td>2011-01-01</td><td>0.4800000 </td><td>53.53000  </td><td> 6.850000 </td><td>19.45000  </td><td>11.71000  </td></tr>\n",
       "</tbody>\n",
       "</table>\n"
      ],
      "text/latex": [
       "\\begin{tabular}{r|lllllll}\n",
       " station & date & CO & NO\\_2 & O\\_3 & PM10 & SO\\_2\\\\\n",
       "\\hline\n",
       "\t 28079099   & 2010-12-27 & 0.6770833  & 83.11375   &  7.620417  & 31.41708   & 15.32375  \\\\\n",
       "\t 28079099   & 2010-12-28 & 0.7100000  & 86.31750   &  7.642500  & 35.74667   & 18.47833  \\\\\n",
       "\t 28079099   & 2010-12-29 & 0.7404167  & 82.27375   &  9.689583  & 31.68542   & 18.05083  \\\\\n",
       "\t 28079099   & 2010-12-30 & 0.6145833  & 68.60792   &  7.415417  & 25.95917   & 13.35000  \\\\\n",
       "\t 28079099   & 2010-12-31 & 0.4387500  & 55.20375   & 14.215417  & 14.84542   & 10.28958  \\\\\n",
       "\t 28079099   & 2011-01-01 & 0.4800000  & 53.53000   &  6.850000  & 19.45000   & 11.71000  \\\\\n",
       "\\end{tabular}\n"
      ],
      "text/markdown": [
       "\n",
       "station | date | CO | NO_2 | O_3 | PM10 | SO_2 | \n",
       "|---|---|---|---|---|---|\n",
       "| 28079099   | 2010-12-27 | 0.6770833  | 83.11375   |  7.620417  | 31.41708   | 15.32375   | \n",
       "| 28079099   | 2010-12-28 | 0.7100000  | 86.31750   |  7.642500  | 35.74667   | 18.47833   | \n",
       "| 28079099   | 2010-12-29 | 0.7404167  | 82.27375   |  9.689583  | 31.68542   | 18.05083   | \n",
       "| 28079099   | 2010-12-30 | 0.6145833  | 68.60792   |  7.415417  | 25.95917   | 13.35000   | \n",
       "| 28079099   | 2010-12-31 | 0.4387500  | 55.20375   | 14.215417  | 14.84542   | 10.28958   | \n",
       "| 28079099   | 2011-01-01 | 0.4800000  | 53.53000   |  6.850000  | 19.45000   | 11.71000   | \n",
       "\n",
       "\n"
      ],
      "text/plain": [
       "  station  date       CO        NO_2     O_3       PM10     SO_2    \n",
       "1 28079099 2010-12-27 0.6770833 83.11375  7.620417 31.41708 15.32375\n",
       "2 28079099 2010-12-28 0.7100000 86.31750  7.642500 35.74667 18.47833\n",
       "3 28079099 2010-12-29 0.7404167 82.27375  9.689583 31.68542 18.05083\n",
       "4 28079099 2010-12-30 0.6145833 68.60792  7.415417 25.95917 13.35000\n",
       "5 28079099 2010-12-31 0.4387500 55.20375 14.215417 14.84542 10.28958\n",
       "6 28079099 2011-01-01 0.4800000 53.53000  6.850000 19.45000 11.71000"
      ]
     },
     "metadata": {},
     "output_type": "display_data"
    }
   ],
   "source": [
    "madrid <- airMadrid %>%\n",
    "  group_by(station,date) %>%\n",
    "  summarise(CO = mean(CO, na.rm = TRUE),\n",
    "            NO_2 = mean(NO_2, na.rm = TRUE),\n",
    "            O_3 = mean(O_3, na.rm = TRUE),\n",
    "            PM10 = mean(PM10, na.rm = TRUE),\n",
    "            SO_2 = mean(SO_2, na.rm = TRUE))\n",
    "head(madrid)\n",
    "tail(madrid)\n",
    "rm(airMadrid)"
   ]
  },
  {
   "cell_type": "markdown",
   "metadata": {},
   "source": [
    "#### Observamos que la estacion `28079099` no tiene muestras desde 2011, se debe a que fue dada de baja ese año por lo que se procede a eliminar del estudio. A continuación mostramos el final del data.frame para observar que ya no se encuentra dicha estación."
   ]
  },
  {
   "cell_type": "code",
   "execution_count": 180,
   "metadata": {},
   "outputs": [
    {
     "data": {
      "text/html": [
       "<table>\n",
       "<thead><tr><th scope=col>station</th><th scope=col>date</th><th scope=col>CO</th><th scope=col>NO_2</th><th scope=col>O_3</th><th scope=col>PM10</th><th scope=col>SO_2</th></tr></thead>\n",
       "<tbody>\n",
       "\t<tr><td>28079060  </td><td>2018-04-26</td><td>NaN       </td><td>29.041667 </td><td>77.25000  </td><td>42.54167  </td><td>NaN       </td></tr>\n",
       "\t<tr><td>28079060  </td><td>2018-04-27</td><td>NaN       </td><td>20.958333 </td><td>81.83333  </td><td>29.57143  </td><td>NaN       </td></tr>\n",
       "\t<tr><td>28079060  </td><td>2018-04-28</td><td>NaN       </td><td> 8.375000 </td><td>87.20833  </td><td>10.33333  </td><td>NaN       </td></tr>\n",
       "\t<tr><td>28079060  </td><td>2018-04-29</td><td>NaN       </td><td> 6.958333 </td><td>93.08333  </td><td>14.45833  </td><td>NaN       </td></tr>\n",
       "\t<tr><td>28079060  </td><td>2018-04-30</td><td>NaN       </td><td>13.708333 </td><td>83.33333  </td><td>12.91667  </td><td>NaN       </td></tr>\n",
       "\t<tr><td>28079060  </td><td>2018-05-01</td><td>NaN       </td><td>14.000000 </td><td>81.00000  </td><td> 6.00000  </td><td>NaN       </td></tr>\n",
       "</tbody>\n",
       "</table>\n"
      ],
      "text/latex": [
       "\\begin{tabular}{r|lllllll}\n",
       " station & date & CO & NO\\_2 & O\\_3 & PM10 & SO\\_2\\\\\n",
       "\\hline\n",
       "\t 28079060   & 2018-04-26 & NaN        & 29.041667  & 77.25000   & 42.54167   & NaN       \\\\\n",
       "\t 28079060   & 2018-04-27 & NaN        & 20.958333  & 81.83333   & 29.57143   & NaN       \\\\\n",
       "\t 28079060   & 2018-04-28 & NaN        &  8.375000  & 87.20833   & 10.33333   & NaN       \\\\\n",
       "\t 28079060   & 2018-04-29 & NaN        &  6.958333  & 93.08333   & 14.45833   & NaN       \\\\\n",
       "\t 28079060   & 2018-04-30 & NaN        & 13.708333  & 83.33333   & 12.91667   & NaN       \\\\\n",
       "\t 28079060   & 2018-05-01 & NaN        & 14.000000  & 81.00000   &  6.00000   & NaN       \\\\\n",
       "\\end{tabular}\n"
      ],
      "text/markdown": [
       "\n",
       "station | date | CO | NO_2 | O_3 | PM10 | SO_2 | \n",
       "|---|---|---|---|---|---|\n",
       "| 28079060   | 2018-04-26 | NaN        | 29.041667  | 77.25000   | 42.54167   | NaN        | \n",
       "| 28079060   | 2018-04-27 | NaN        | 20.958333  | 81.83333   | 29.57143   | NaN        | \n",
       "| 28079060   | 2018-04-28 | NaN        |  8.375000  | 87.20833   | 10.33333   | NaN        | \n",
       "| 28079060   | 2018-04-29 | NaN        |  6.958333  | 93.08333   | 14.45833   | NaN        | \n",
       "| 28079060   | 2018-04-30 | NaN        | 13.708333  | 83.33333   | 12.91667   | NaN        | \n",
       "| 28079060   | 2018-05-01 | NaN        | 14.000000  | 81.00000   |  6.00000   | NaN        | \n",
       "\n",
       "\n"
      ],
      "text/plain": [
       "  station  date       CO  NO_2      O_3      PM10     SO_2\n",
       "1 28079060 2018-04-26 NaN 29.041667 77.25000 42.54167 NaN \n",
       "2 28079060 2018-04-27 NaN 20.958333 81.83333 29.57143 NaN \n",
       "3 28079060 2018-04-28 NaN  8.375000 87.20833 10.33333 NaN \n",
       "4 28079060 2018-04-29 NaN  6.958333 93.08333 14.45833 NaN \n",
       "5 28079060 2018-04-30 NaN 13.708333 83.33333 12.91667 NaN \n",
       "6 28079060 2018-05-01 NaN 14.000000 81.00000  6.00000 NaN "
      ]
     },
     "metadata": {},
     "output_type": "display_data"
    }
   ],
   "source": [
    "madrid <-  madrid[!madrid$station == 28079099,]\n",
    "tail(madrid)"
   ]
  },
  {
   "cell_type": "code",
   "execution_count": 181,
   "metadata": {},
   "outputs": [
    {
     "data": {
      "text/html": [
       "<table>\n",
       "<thead><tr><th scope=col>date</th><th scope=col>l/m2</th></tr></thead>\n",
       "<tbody>\n",
       "\t<tr><td>2001-01-01</td><td>4.3       </td></tr>\n",
       "\t<tr><td>2001-01-02</td><td>0.1       </td></tr>\n",
       "\t<tr><td>2001-01-03</td><td>2.2       </td></tr>\n",
       "\t<tr><td>2001-01-04</td><td>2.4       </td></tr>\n",
       "\t<tr><td>2001-01-05</td><td>13.3      </td></tr>\n",
       "\t<tr><td>2001-01-06</td><td>0.0       </td></tr>\n",
       "</tbody>\n",
       "</table>\n"
      ],
      "text/latex": [
       "\\begin{tabular}{r|ll}\n",
       " date & l/m2\\\\\n",
       "\\hline\n",
       "\t 2001-01-01 & 4.3       \\\\\n",
       "\t 2001-01-02 & 0.1       \\\\\n",
       "\t 2001-01-03 & 2.2       \\\\\n",
       "\t 2001-01-04 & 2.4       \\\\\n",
       "\t 2001-01-05 & 13.3      \\\\\n",
       "\t 2001-01-06 & 0.0       \\\\\n",
       "\\end{tabular}\n"
      ],
      "text/markdown": [
       "\n",
       "date | l/m2 | \n",
       "|---|---|---|---|---|---|\n",
       "| 2001-01-01 | 4.3        | \n",
       "| 2001-01-02 | 0.1        | \n",
       "| 2001-01-03 | 2.2        | \n",
       "| 2001-01-04 | 2.4        | \n",
       "| 2001-01-05 | 13.3       | \n",
       "| 2001-01-06 | 0.0        | \n",
       "\n",
       "\n"
      ],
      "text/plain": [
       "  date       l/m2\n",
       "1 2001-01-01 4.3 \n",
       "2 2001-01-02 0.1 \n",
       "3 2001-01-03 2.2 \n",
       "4 2001-01-04 2.4 \n",
       "5 2001-01-05 13.3\n",
       "6 2001-01-06 0.0 "
      ]
     },
     "metadata": {},
     "output_type": "display_data"
    }
   ],
   "source": [
    "datasetRainfall$date <- as.Date(datasetRainfall$date)\n",
    "rainfall<-datasetRainfall\n",
    "rm(datasetRainfall)\n",
    "head(rainfall)"
   ]
  },
  {
   "cell_type": "markdown",
   "metadata": {},
   "source": [
    "## Discretizamos la calidad del aire\n",
    "Para ello nos guiraremos de la siguiente tabla, de cada fila se escogerá el mayor de todos los contaminantes y se comparara con la tabla adjunta:"
   ]
  },
  {
   "attachments": {
    "airIndex.png": {
     "image/png": "[encoded data removed]"
    }
   },
   "cell_type": "markdown",
   "metadata": {},
   "source": [
    "![airIndex.png](attachment:airIndex.png)\n",
    "\n",
    "Fuente: https://www.epa.vic.gov.au/your-environment/air/air-pollution/air-quality-index/calculating-a-station-air-quality-index"
   ]
  },
  {
   "cell_type": "markdown",
   "metadata": {},
   "source": [
    "Para ello cogemos el maximo valor de cada fila entre los gases y lo añadimos como una columna nueva al data frame"
   ]
  },
  {
   "cell_type": "code",
   "execution_count": 182,
   "metadata": {},
   "outputs": [
    {
     "data": {
      "text/html": [
       "<table>\n",
       "<thead><tr><th scope=col>station</th><th scope=col>date</th><th scope=col>CO</th><th scope=col>NO_2</th><th scope=col>O_3</th><th scope=col>PM10</th><th scope=col>SO_2</th><th scope=col>worseAirIndex</th></tr></thead>\n",
       "<tbody>\n",
       "\t<tr><td>28079001  </td><td>2001-01-02</td><td>1.243333  </td><td>84.53750  </td><td>12.576667 </td><td>36.92455  </td><td>20.28083  </td><td>84.53750  </td></tr>\n",
       "\t<tr><td>28079001  </td><td>2001-01-03</td><td>1.242917  </td><td>79.75125  </td><td>10.961250 </td><td>37.21292  </td><td>16.23917  </td><td>79.75125  </td></tr>\n",
       "\t<tr><td>28079001  </td><td>2001-01-04</td><td>1.134167  </td><td>75.39250  </td><td>12.002917 </td><td>35.03667  </td><td>16.75125  </td><td>75.39250  </td></tr>\n",
       "\t<tr><td>28079001  </td><td>2001-01-05</td><td>1.535833  </td><td>77.14083  </td><td> 8.755833 </td><td>34.27625  </td><td>16.00958  </td><td>77.14083  </td></tr>\n",
       "\t<tr><td>28079001  </td><td>2001-01-06</td><td>1.009167  </td><td>64.47708  </td><td>13.955417 </td><td>17.03792  </td><td>15.35417  </td><td>64.47708  </td></tr>\n",
       "\t<tr><td>28079001  </td><td>2001-01-07</td><td>1.016250  </td><td>67.06125  </td><td>12.776250 </td><td>20.45500  </td><td>18.43042  </td><td>67.06125  </td></tr>\n",
       "</tbody>\n",
       "</table>\n"
      ],
      "text/latex": [
       "\\begin{tabular}{r|llllllll}\n",
       " station & date & CO & NO\\_2 & O\\_3 & PM10 & SO\\_2 & worseAirIndex\\\\\n",
       "\\hline\n",
       "\t 28079001   & 2001-01-02 & 1.243333   & 84.53750   & 12.576667  & 36.92455   & 20.28083   & 84.53750  \\\\\n",
       "\t 28079001   & 2001-01-03 & 1.242917   & 79.75125   & 10.961250  & 37.21292   & 16.23917   & 79.75125  \\\\\n",
       "\t 28079001   & 2001-01-04 & 1.134167   & 75.39250   & 12.002917  & 35.03667   & 16.75125   & 75.39250  \\\\\n",
       "\t 28079001   & 2001-01-05 & 1.535833   & 77.14083   &  8.755833  & 34.27625   & 16.00958   & 77.14083  \\\\\n",
       "\t 28079001   & 2001-01-06 & 1.009167   & 64.47708   & 13.955417  & 17.03792   & 15.35417   & 64.47708  \\\\\n",
       "\t 28079001   & 2001-01-07 & 1.016250   & 67.06125   & 12.776250  & 20.45500   & 18.43042   & 67.06125  \\\\\n",
       "\\end{tabular}\n"
      ],
      "text/markdown": [
       "\n",
       "station | date | CO | NO_2 | O_3 | PM10 | SO_2 | worseAirIndex | \n",
       "|---|---|---|---|---|---|\n",
       "| 28079001   | 2001-01-02 | 1.243333   | 84.53750   | 12.576667  | 36.92455   | 20.28083   | 84.53750   | \n",
       "| 28079001   | 2001-01-03 | 1.242917   | 79.75125   | 10.961250  | 37.21292   | 16.23917   | 79.75125   | \n",
       "| 28079001   | 2001-01-04 | 1.134167   | 75.39250   | 12.002917  | 35.03667   | 16.75125   | 75.39250   | \n",
       "| 28079001   | 2001-01-05 | 1.535833   | 77.14083   |  8.755833  | 34.27625   | 16.00958   | 77.14083   | \n",
       "| 28079001   | 2001-01-06 | 1.009167   | 64.47708   | 13.955417  | 17.03792   | 15.35417   | 64.47708   | \n",
       "| 28079001   | 2001-01-07 | 1.016250   | 67.06125   | 12.776250  | 20.45500   | 18.43042   | 67.06125   | \n",
       "\n",
       "\n"
      ],
      "text/plain": [
       "  station  date       CO       NO_2     O_3       PM10     SO_2    \n",
       "1 28079001 2001-01-02 1.243333 84.53750 12.576667 36.92455 20.28083\n",
       "2 28079001 2001-01-03 1.242917 79.75125 10.961250 37.21292 16.23917\n",
       "3 28079001 2001-01-04 1.134167 75.39250 12.002917 35.03667 16.75125\n",
       "4 28079001 2001-01-05 1.535833 77.14083  8.755833 34.27625 16.00958\n",
       "5 28079001 2001-01-06 1.009167 64.47708 13.955417 17.03792 15.35417\n",
       "6 28079001 2001-01-07 1.016250 67.06125 12.776250 20.45500 18.43042\n",
       "  worseAirIndex\n",
       "1 84.53750     \n",
       "2 79.75125     \n",
       "3 75.39250     \n",
       "4 77.14083     \n",
       "5 64.47708     \n",
       "6 67.06125     "
      ]
     },
     "metadata": {},
     "output_type": "display_data"
    }
   ],
   "source": [
    "auxData <- madrid\n",
    "auxData$date=NULL\n",
    "auxData$station = NULL\n",
    "auxData[, \"worseAirIndex\"] <- apply(auxData ,1, max)\n",
    "auxData$CO=NULL\n",
    "auxData$NO_2 = NULL\n",
    "auxData$O_3 = NULL\n",
    "auxData$PM10 = NULL\n",
    "auxData$SO_2 = NULL\n",
    "madrid <- cbind(madrid,auxData)\n",
    "head(madrid)"
   ]
  },
  {
   "cell_type": "markdown",
   "metadata": {},
   "source": [
    "A continuación discretizamos la columna anterior, creando una nueva columna con los siguientes valores:\n",
    "\n",
    "    Very good(VG)  \n",
    "    Good (G)  \n",
    "    Fair(F)  \n",
    "    Poor (P)  \n",
    "    Very Poor (VP)  "
   ]
  },
  {
   "cell_type": "code",
   "execution_count": 183,
   "metadata": {},
   "outputs": [
    {
     "data": {
      "text/html": [
       "<table>\n",
       "<thead><tr><th scope=col>station</th><th scope=col>date</th><th scope=col>CO</th><th scope=col>NO_2</th><th scope=col>O_3</th><th scope=col>PM10</th><th scope=col>SO_2</th><th scope=col>worseAirIndex</th><th scope=col>AirIndexQuality</th></tr></thead>\n",
       "<tbody>\n",
       "\t<tr><td>28079001  </td><td>2001-01-02</td><td>1.243333  </td><td>84.53750  </td><td>12.576667 </td><td>36.92455  </td><td>20.28083  </td><td>84.53750  </td><td>84.53750  </td></tr>\n",
       "\t<tr><td>28079001  </td><td>2001-01-03</td><td>1.242917  </td><td>79.75125  </td><td>10.961250 </td><td>37.21292  </td><td>16.23917  </td><td>79.75125  </td><td>79.75125  </td></tr>\n",
       "\t<tr><td>28079001  </td><td>2001-01-04</td><td>1.134167  </td><td>75.39250  </td><td>12.002917 </td><td>35.03667  </td><td>16.75125  </td><td>75.39250  </td><td>75.39250  </td></tr>\n",
       "\t<tr><td>28079001  </td><td>2001-01-05</td><td>1.535833  </td><td>77.14083  </td><td> 8.755833 </td><td>34.27625  </td><td>16.00958  </td><td>77.14083  </td><td>77.14083  </td></tr>\n",
       "\t<tr><td>28079001  </td><td>2001-01-06</td><td>1.009167  </td><td>64.47708  </td><td>13.955417 </td><td>17.03792  </td><td>15.35417  </td><td>64.47708  </td><td>64.47708  </td></tr>\n",
       "\t<tr><td>28079001  </td><td>2001-01-07</td><td>1.016250  </td><td>67.06125  </td><td>12.776250 </td><td>20.45500  </td><td>18.43042  </td><td>67.06125  </td><td>67.06125  </td></tr>\n",
       "</tbody>\n",
       "</table>\n"
      ],
      "text/latex": [
       "\\begin{tabular}{r|lllllllll}\n",
       " station & date & CO & NO\\_2 & O\\_3 & PM10 & SO\\_2 & worseAirIndex & AirIndexQuality\\\\\n",
       "\\hline\n",
       "\t 28079001   & 2001-01-02 & 1.243333   & 84.53750   & 12.576667  & 36.92455   & 20.28083   & 84.53750   & 84.53750  \\\\\n",
       "\t 28079001   & 2001-01-03 & 1.242917   & 79.75125   & 10.961250  & 37.21292   & 16.23917   & 79.75125   & 79.75125  \\\\\n",
       "\t 28079001   & 2001-01-04 & 1.134167   & 75.39250   & 12.002917  & 35.03667   & 16.75125   & 75.39250   & 75.39250  \\\\\n",
       "\t 28079001   & 2001-01-05 & 1.535833   & 77.14083   &  8.755833  & 34.27625   & 16.00958   & 77.14083   & 77.14083  \\\\\n",
       "\t 28079001   & 2001-01-06 & 1.009167   & 64.47708   & 13.955417  & 17.03792   & 15.35417   & 64.47708   & 64.47708  \\\\\n",
       "\t 28079001   & 2001-01-07 & 1.016250   & 67.06125   & 12.776250  & 20.45500   & 18.43042   & 67.06125   & 67.06125  \\\\\n",
       "\\end{tabular}\n"
      ],
      "text/markdown": [
       "\n",
       "station | date | CO | NO_2 | O_3 | PM10 | SO_2 | worseAirIndex | AirIndexQuality | \n",
       "|---|---|---|---|---|---|\n",
       "| 28079001   | 2001-01-02 | 1.243333   | 84.53750   | 12.576667  | 36.92455   | 20.28083   | 84.53750   | 84.53750   | \n",
       "| 28079001   | 2001-01-03 | 1.242917   | 79.75125   | 10.961250  | 37.21292   | 16.23917   | 79.75125   | 79.75125   | \n",
       "| 28079001   | 2001-01-04 | 1.134167   | 75.39250   | 12.002917  | 35.03667   | 16.75125   | 75.39250   | 75.39250   | \n",
       "| 28079001   | 2001-01-05 | 1.535833   | 77.14083   |  8.755833  | 34.27625   | 16.00958   | 77.14083   | 77.14083   | \n",
       "| 28079001   | 2001-01-06 | 1.009167   | 64.47708   | 13.955417  | 17.03792   | 15.35417   | 64.47708   | 64.47708   | \n",
       "| 28079001   | 2001-01-07 | 1.016250   | 67.06125   | 12.776250  | 20.45500   | 18.43042   | 67.06125   | 67.06125   | \n",
       "\n",
       "\n"
      ],
      "text/plain": [
       "  station  date       CO       NO_2     O_3       PM10     SO_2    \n",
       "1 28079001 2001-01-02 1.243333 84.53750 12.576667 36.92455 20.28083\n",
       "2 28079001 2001-01-03 1.242917 79.75125 10.961250 37.21292 16.23917\n",
       "3 28079001 2001-01-04 1.134167 75.39250 12.002917 35.03667 16.75125\n",
       "4 28079001 2001-01-05 1.535833 77.14083  8.755833 34.27625 16.00958\n",
       "5 28079001 2001-01-06 1.009167 64.47708 13.955417 17.03792 15.35417\n",
       "6 28079001 2001-01-07 1.016250 67.06125 12.776250 20.45500 18.43042\n",
       "  worseAirIndex AirIndexQuality\n",
       "1 84.53750      84.53750       \n",
       "2 79.75125      79.75125       \n",
       "3 75.39250      75.39250       \n",
       "4 77.14083      77.14083       \n",
       "5 64.47708      64.47708       \n",
       "6 67.06125      67.06125       "
      ]
     },
     "metadata": {},
     "output_type": "display_data"
    }
   ],
   "source": [
    "madrid[,\"AirIndexQuality\"] <- madrid$worseAirIndex\n",
    "head(madrid)"
   ]
  },
  {
   "cell_type": "code",
   "execution_count": 184,
   "metadata": {},
   "outputs": [
    {
     "data": {
      "text/html": [
       "<table>\n",
       "<thead><tr><th scope=col>station</th><th scope=col>date</th><th scope=col>CO</th><th scope=col>NO_2</th><th scope=col>O_3</th><th scope=col>PM10</th><th scope=col>SO_2</th><th scope=col>worseAirIndex</th><th scope=col>AirIndexQuality</th></tr></thead>\n",
       "<tbody>\n",
       "\t<tr><td>28079001  </td><td>2001-01-02</td><td>1.243333  </td><td> 84.53750 </td><td>12.576667 </td><td>36.92455  </td><td>20.28083  </td><td> 84.53750 </td><td>FAIR      </td></tr>\n",
       "\t<tr><td>28079001  </td><td>2001-01-03</td><td>1.242917  </td><td> 79.75125 </td><td>10.961250 </td><td>37.21292  </td><td>16.23917  </td><td> 79.75125 </td><td>FAIR      </td></tr>\n",
       "\t<tr><td>28079001  </td><td>2001-01-04</td><td>1.134167  </td><td> 75.39250 </td><td>12.002917 </td><td>35.03667  </td><td>16.75125  </td><td> 75.39250 </td><td>FAIR      </td></tr>\n",
       "\t<tr><td>28079001  </td><td>2001-01-05</td><td>1.535833  </td><td> 77.14083 </td><td> 8.755833 </td><td>34.27625  </td><td>16.00958  </td><td> 77.14083 </td><td>FAIR      </td></tr>\n",
       "\t<tr><td>28079001  </td><td>2001-01-06</td><td>1.009167  </td><td> 64.47708 </td><td>13.955417 </td><td>17.03792  </td><td>15.35417  </td><td> 64.47708 </td><td>GOOD      </td></tr>\n",
       "\t<tr><td>28079001  </td><td>2001-01-07</td><td>1.016250  </td><td> 67.06125 </td><td>12.776250 </td><td>20.45500  </td><td>18.43042  </td><td> 67.06125 </td><td>FAIR      </td></tr>\n",
       "\t<tr><td>28079001  </td><td>2001-01-08</td><td>1.293750  </td><td> 92.57000 </td><td>10.875833 </td><td>45.59958  </td><td>26.75167  </td><td> 92.57000 </td><td>FAIR      </td></tr>\n",
       "\t<tr><td>28079001  </td><td>2001-01-09</td><td>1.077500  </td><td> 86.45833 </td><td> 8.231667 </td><td>36.99667  </td><td>26.33458  </td><td> 86.45833 </td><td>FAIR      </td></tr>\n",
       "\t<tr><td>28079001  </td><td>2001-01-10</td><td>1.515000  </td><td> 82.86792 </td><td> 8.295833 </td><td>47.54792  </td><td>31.42792  </td><td> 82.86792 </td><td>FAIR      </td></tr>\n",
       "\t<tr><td>28079001  </td><td>2001-01-11</td><td>1.171667  </td><td> 79.23583 </td><td>10.407917 </td><td>30.21208  </td><td>16.73333  </td><td> 79.23583 </td><td>FAIR      </td></tr>\n",
       "\t<tr><td>28079001  </td><td>2001-01-12</td><td>1.402174  </td><td> 84.44478 </td><td>10.205217 </td><td>31.57591  </td><td>26.87913  </td><td> 84.44478 </td><td>FAIR      </td></tr>\n",
       "\t<tr><td>28079001  </td><td>2001-01-13</td><td>2.053750  </td><td> 90.05333 </td><td> 8.875417 </td><td>57.96167  </td><td>41.49750  </td><td> 90.05333 </td><td>FAIR      </td></tr>\n",
       "\t<tr><td>28079001  </td><td>2001-01-14</td><td>2.100417  </td><td> 86.15625 </td><td> 9.619583 </td><td>53.08000  </td><td>39.88083  </td><td> 86.15625 </td><td>FAIR      </td></tr>\n",
       "\t<tr><td>28079001  </td><td>2001-01-15</td><td>1.491667  </td><td> 73.92500 </td><td> 8.358750 </td><td>47.95417  </td><td>25.94708  </td><td> 73.92500 </td><td>FAIR      </td></tr>\n",
       "\t<tr><td>28079001  </td><td>2001-01-16</td><td>1.399583  </td><td> 70.04375 </td><td> 9.878750 </td><td>36.08667  </td><td>18.72583  </td><td> 70.04375 </td><td>FAIR      </td></tr>\n",
       "\t<tr><td>28079001  </td><td>2001-01-17</td><td>1.340833  </td><td> 73.19792 </td><td>10.449583 </td><td>38.70250  </td><td>18.77333  </td><td> 73.19792 </td><td>FAIR      </td></tr>\n",
       "\t<tr><td>28079001  </td><td>2001-01-18</td><td>1.378333  </td><td> 83.40000 </td><td> 9.953750 </td><td>31.48667  </td><td>18.01417  </td><td> 83.40000 </td><td>FAIR      </td></tr>\n",
       "\t<tr><td>28079001  </td><td>2001-01-19</td><td>1.710833  </td><td> 87.77667 </td><td> 9.815417 </td><td>43.07167  </td><td>31.26917  </td><td> 87.77667 </td><td>FAIR      </td></tr>\n",
       "\t<tr><td>28079001  </td><td>2001-01-20</td><td>2.185833  </td><td> 98.15542 </td><td> 9.515000 </td><td>60.06625  </td><td>40.08417  </td><td> 98.15542 </td><td>FAIR      </td></tr>\n",
       "\t<tr><td>28079001  </td><td>2001-01-21</td><td>2.785417  </td><td>100.18500 </td><td>10.058333 </td><td>75.23583  </td><td>46.71292  </td><td>100.18500 </td><td>POOR      </td></tr>\n",
       "\t<tr><td>28079001  </td><td>2001-01-22</td><td>2.583333  </td><td>104.06417 </td><td> 8.209167 </td><td>82.48792  </td><td>41.44500  </td><td>104.06417 </td><td>POOR      </td></tr>\n",
       "\t<tr><td>28079001  </td><td>2001-01-23</td><td>1.349583  </td><td> 75.53250 </td><td>10.125833 </td><td>26.37833  </td><td>17.29833  </td><td> 75.53250 </td><td>FAIR      </td></tr>\n",
       "\t<tr><td>28079001  </td><td>2001-01-24</td><td>1.082500  </td><td> 69.93042 </td><td>12.503750 </td><td>25.55500  </td><td>18.89542  </td><td> 69.93042 </td><td>FAIR      </td></tr>\n",
       "\t<tr><td>28079001  </td><td>2001-01-25</td><td>1.111250  </td><td> 44.41500 </td><td>16.238333 </td><td>27.41375  </td><td>16.06417  </td><td> 44.41500 </td><td>GOOD      </td></tr>\n",
       "</tbody>\n",
       "</table>\n"
      ],
      "text/latex": [
       "\\begin{tabular}{r|lllllllll}\n",
       " station & date & CO & NO\\_2 & O\\_3 & PM10 & SO\\_2 & worseAirIndex & AirIndexQuality\\\\\n",
       "\\hline\n",
       "\t 28079001   & 2001-01-02 & 1.243333   &  84.53750  & 12.576667  & 36.92455   & 20.28083   &  84.53750  & FAIR      \\\\\n",
       "\t 28079001   & 2001-01-03 & 1.242917   &  79.75125  & 10.961250  & 37.21292   & 16.23917   &  79.75125  & FAIR      \\\\\n",
       "\t 28079001   & 2001-01-04 & 1.134167   &  75.39250  & 12.002917  & 35.03667   & 16.75125   &  75.39250  & FAIR      \\\\\n",
       "\t 28079001   & 2001-01-05 & 1.535833   &  77.14083  &  8.755833  & 34.27625   & 16.00958   &  77.14083  & FAIR      \\\\\n",
       "\t 28079001   & 2001-01-06 & 1.009167   &  64.47708  & 13.955417  & 17.03792   & 15.35417   &  64.47708  & GOOD      \\\\\n",
       "\t 28079001   & 2001-01-07 & 1.016250   &  67.06125  & 12.776250  & 20.45500   & 18.43042   &  67.06125  & FAIR      \\\\\n",
       "\t 28079001   & 2001-01-08 & 1.293750   &  92.57000  & 10.875833  & 45.59958   & 26.75167   &  92.57000  & FAIR      \\\\\n",
       "\t 28079001   & 2001-01-09 & 1.077500   &  86.45833  &  8.231667  & 36.99667   & 26.33458   &  86.45833  & FAIR      \\\\\n",
       "\t 28079001   & 2001-01-10 & 1.515000   &  82.86792  &  8.295833  & 47.54792   & 31.42792   &  82.86792  & FAIR      \\\\\n",
       "\t 28079001   & 2001-01-11 & 1.171667   &  79.23583  & 10.407917  & 30.21208   & 16.73333   &  79.23583  & FAIR      \\\\\n",
       "\t 28079001   & 2001-01-12 & 1.402174   &  84.44478  & 10.205217  & 31.57591   & 26.87913   &  84.44478  & FAIR      \\\\\n",
       "\t 28079001   & 2001-01-13 & 2.053750   &  90.05333  &  8.875417  & 57.96167   & 41.49750   &  90.05333  & FAIR      \\\\\n",
       "\t 28079001   & 2001-01-14 & 2.100417   &  86.15625  &  9.619583  & 53.08000   & 39.88083   &  86.15625  & FAIR      \\\\\n",
       "\t 28079001   & 2001-01-15 & 1.491667   &  73.92500  &  8.358750  & 47.95417   & 25.94708   &  73.92500  & FAIR      \\\\\n",
       "\t 28079001   & 2001-01-16 & 1.399583   &  70.04375  &  9.878750  & 36.08667   & 18.72583   &  70.04375  & FAIR      \\\\\n",
       "\t 28079001   & 2001-01-17 & 1.340833   &  73.19792  & 10.449583  & 38.70250   & 18.77333   &  73.19792  & FAIR      \\\\\n",
       "\t 28079001   & 2001-01-18 & 1.378333   &  83.40000  &  9.953750  & 31.48667   & 18.01417   &  83.40000  & FAIR      \\\\\n",
       "\t 28079001   & 2001-01-19 & 1.710833   &  87.77667  &  9.815417  & 43.07167   & 31.26917   &  87.77667  & FAIR      \\\\\n",
       "\t 28079001   & 2001-01-20 & 2.185833   &  98.15542  &  9.515000  & 60.06625   & 40.08417   &  98.15542  & FAIR      \\\\\n",
       "\t 28079001   & 2001-01-21 & 2.785417   & 100.18500  & 10.058333  & 75.23583   & 46.71292   & 100.18500  & POOR      \\\\\n",
       "\t 28079001   & 2001-01-22 & 2.583333   & 104.06417  &  8.209167  & 82.48792   & 41.44500   & 104.06417  & POOR      \\\\\n",
       "\t 28079001   & 2001-01-23 & 1.349583   &  75.53250  & 10.125833  & 26.37833   & 17.29833   &  75.53250  & FAIR      \\\\\n",
       "\t 28079001   & 2001-01-24 & 1.082500   &  69.93042  & 12.503750  & 25.55500   & 18.89542   &  69.93042  & FAIR      \\\\\n",
       "\t 28079001   & 2001-01-25 & 1.111250   &  44.41500  & 16.238333  & 27.41375   & 16.06417   &  44.41500  & GOOD      \\\\\n",
       "\\end{tabular}\n"
      ],
      "text/markdown": [
       "\n",
       "station | date | CO | NO_2 | O_3 | PM10 | SO_2 | worseAirIndex | AirIndexQuality | \n",
       "|---|---|---|---|---|---|---|---|---|---|---|---|---|---|---|---|---|---|---|---|---|---|---|---|\n",
       "| 28079001   | 2001-01-02 | 1.243333   |  84.53750  | 12.576667  | 36.92455   | 20.28083   |  84.53750  | FAIR       | \n",
       "| 28079001   | 2001-01-03 | 1.242917   |  79.75125  | 10.961250  | 37.21292   | 16.23917   |  79.75125  | FAIR       | \n",
       "| 28079001   | 2001-01-04 | 1.134167   |  75.39250  | 12.002917  | 35.03667   | 16.75125   |  75.39250  | FAIR       | \n",
       "| 28079001   | 2001-01-05 | 1.535833   |  77.14083  |  8.755833  | 34.27625   | 16.00958   |  77.14083  | FAIR       | \n",
       "| 28079001   | 2001-01-06 | 1.009167   |  64.47708  | 13.955417  | 17.03792   | 15.35417   |  64.47708  | GOOD       | \n",
       "| 28079001   | 2001-01-07 | 1.016250   |  67.06125  | 12.776250  | 20.45500   | 18.43042   |  67.06125  | FAIR       | \n",
       "| 28079001   | 2001-01-08 | 1.293750   |  92.57000  | 10.875833  | 45.59958   | 26.75167   |  92.57000  | FAIR       | \n",
       "| 28079001   | 2001-01-09 | 1.077500   |  86.45833  |  8.231667  | 36.99667   | 26.33458   |  86.45833  | FAIR       | \n",
       "| 28079001   | 2001-01-10 | 1.515000   |  82.86792  |  8.295833  | 47.54792   | 31.42792   |  82.86792  | FAIR       | \n",
       "| 28079001   | 2001-01-11 | 1.171667   |  79.23583  | 10.407917  | 30.21208   | 16.73333   |  79.23583  | FAIR       | \n",
       "| 28079001   | 2001-01-12 | 1.402174   |  84.44478  | 10.205217  | 31.57591   | 26.87913   |  84.44478  | FAIR       | \n",
       "| 28079001   | 2001-01-13 | 2.053750   |  90.05333  |  8.875417  | 57.96167   | 41.49750   |  90.05333  | FAIR       | \n",
       "| 28079001   | 2001-01-14 | 2.100417   |  86.15625  |  9.619583  | 53.08000   | 39.88083   |  86.15625  | FAIR       | \n",
       "| 28079001   | 2001-01-15 | 1.491667   |  73.92500  |  8.358750  | 47.95417   | 25.94708   |  73.92500  | FAIR       | \n",
       "| 28079001   | 2001-01-16 | 1.399583   |  70.04375  |  9.878750  | 36.08667   | 18.72583   |  70.04375  | FAIR       | \n",
       "| 28079001   | 2001-01-17 | 1.340833   |  73.19792  | 10.449583  | 38.70250   | 18.77333   |  73.19792  | FAIR       | \n",
       "| 28079001   | 2001-01-18 | 1.378333   |  83.40000  |  9.953750  | 31.48667   | 18.01417   |  83.40000  | FAIR       | \n",
       "| 28079001   | 2001-01-19 | 1.710833   |  87.77667  |  9.815417  | 43.07167   | 31.26917   |  87.77667  | FAIR       | \n",
       "| 28079001   | 2001-01-20 | 2.185833   |  98.15542  |  9.515000  | 60.06625   | 40.08417   |  98.15542  | FAIR       | \n",
       "| 28079001   | 2001-01-21 | 2.785417   | 100.18500  | 10.058333  | 75.23583   | 46.71292   | 100.18500  | POOR       | \n",
       "| 28079001   | 2001-01-22 | 2.583333   | 104.06417  |  8.209167  | 82.48792   | 41.44500   | 104.06417  | POOR       | \n",
       "| 28079001   | 2001-01-23 | 1.349583   |  75.53250  | 10.125833  | 26.37833   | 17.29833   |  75.53250  | FAIR       | \n",
       "| 28079001   | 2001-01-24 | 1.082500   |  69.93042  | 12.503750  | 25.55500   | 18.89542   |  69.93042  | FAIR       | \n",
       "| 28079001   | 2001-01-25 | 1.111250   |  44.41500  | 16.238333  | 27.41375   | 16.06417   |  44.41500  | GOOD       | \n",
       "\n",
       "\n"
      ],
      "text/plain": [
       "   station  date       CO       NO_2      O_3       PM10     SO_2    \n",
       "1  28079001 2001-01-02 1.243333  84.53750 12.576667 36.92455 20.28083\n",
       "2  28079001 2001-01-03 1.242917  79.75125 10.961250 37.21292 16.23917\n",
       "3  28079001 2001-01-04 1.134167  75.39250 12.002917 35.03667 16.75125\n",
       "4  28079001 2001-01-05 1.535833  77.14083  8.755833 34.27625 16.00958\n",
       "5  28079001 2001-01-06 1.009167  64.47708 13.955417 17.03792 15.35417\n",
       "6  28079001 2001-01-07 1.016250  67.06125 12.776250 20.45500 18.43042\n",
       "7  28079001 2001-01-08 1.293750  92.57000 10.875833 45.59958 26.75167\n",
       "8  28079001 2001-01-09 1.077500  86.45833  8.231667 36.99667 26.33458\n",
       "9  28079001 2001-01-10 1.515000  82.86792  8.295833 47.54792 31.42792\n",
       "10 28079001 2001-01-11 1.171667  79.23583 10.407917 30.21208 16.73333\n",
       "11 28079001 2001-01-12 1.402174  84.44478 10.205217 31.57591 26.87913\n",
       "12 28079001 2001-01-13 2.053750  90.05333  8.875417 57.96167 41.49750\n",
       "13 28079001 2001-01-14 2.100417  86.15625  9.619583 53.08000 39.88083\n",
       "14 28079001 2001-01-15 1.491667  73.92500  8.358750 47.95417 25.94708\n",
       "15 28079001 2001-01-16 1.399583  70.04375  9.878750 36.08667 18.72583\n",
       "16 28079001 2001-01-17 1.340833  73.19792 10.449583 38.70250 18.77333\n",
       "17 28079001 2001-01-18 1.378333  83.40000  9.953750 31.48667 18.01417\n",
       "18 28079001 2001-01-19 1.710833  87.77667  9.815417 43.07167 31.26917\n",
       "19 28079001 2001-01-20 2.185833  98.15542  9.515000 60.06625 40.08417\n",
       "20 28079001 2001-01-21 2.785417 100.18500 10.058333 75.23583 46.71292\n",
       "21 28079001 2001-01-22 2.583333 104.06417  8.209167 82.48792 41.44500\n",
       "22 28079001 2001-01-23 1.349583  75.53250 10.125833 26.37833 17.29833\n",
       "23 28079001 2001-01-24 1.082500  69.93042 12.503750 25.55500 18.89542\n",
       "24 28079001 2001-01-25 1.111250  44.41500 16.238333 27.41375 16.06417\n",
       "   worseAirIndex AirIndexQuality\n",
       "1   84.53750     FAIR           \n",
       "2   79.75125     FAIR           \n",
       "3   75.39250     FAIR           \n",
       "4   77.14083     FAIR           \n",
       "5   64.47708     GOOD           \n",
       "6   67.06125     FAIR           \n",
       "7   92.57000     FAIR           \n",
       "8   86.45833     FAIR           \n",
       "9   82.86792     FAIR           \n",
       "10  79.23583     FAIR           \n",
       "11  84.44478     FAIR           \n",
       "12  90.05333     FAIR           \n",
       "13  86.15625     FAIR           \n",
       "14  73.92500     FAIR           \n",
       "15  70.04375     FAIR           \n",
       "16  73.19792     FAIR           \n",
       "17  83.40000     FAIR           \n",
       "18  87.77667     FAIR           \n",
       "19  98.15542     FAIR           \n",
       "20 100.18500     POOR           \n",
       "21 104.06417     POOR           \n",
       "22  75.53250     FAIR           \n",
       "23  69.93042     FAIR           \n",
       "24  44.41500     GOOD           "
      ]
     },
     "metadata": {},
     "output_type": "display_data"
    }
   ],
   "source": [
    "madrid <- madrid %>%\n",
    "        mutate(AirIndexQuality = case_when (\n",
    "        \n",
    "        AirIndexQuality>=0 & AirIndexQuality <=33       ~\"VERY GOOD\",\n",
    "        AirIndexQuality >=34 & AirIndexQuality <=66     ~\"GOOD\",\n",
    "        AirIndexQuality >=37 & AirIndexQuality <=99     ~\"FAIR\",\n",
    "        AirIndexQuality >=100 & AirIndexQuality <=149   ~\"POOR\",\n",
    "        AirIndexQuality >=150                           ~\"VERY POOR\",\n",
    "        TRUE                                            ~\"NA\",\n",
    "        ))\n",
    "\n",
    "    \n",
    "head(madrid, n = 24)"
   ]
  },
  {
   "cell_type": "code",
   "execution_count": 185,
   "metadata": {},
   "outputs": [],
   "source": [
    "## Discretizamos la fuerza del viento"
   ]
  },
  {
   "cell_type": "markdown",
   "metadata": {},
   "source": [
    "Para ello nos guiraremos de la siguiente tabla, de cada fila se escogerá el viento y se comparara con la tabla adjunta:"
   ]
  },
  {
   "attachments": {
    "viento.PNG": {
     "image/png": "[encoded data removed]"
    }
   },
   "cell_type": "markdown",
   "metadata": {},
   "source": [
    "![viento.PNG](attachment:viento.PNG)"
   ]
  },
  {
   "cell_type": "markdown",
   "metadata": {},
   "source": [
    "A continuación discretizamos la columna anterior, creando una nueva columna con los siguientes valores:\n",
    "\n",
    "    Calm (C)  \n",
    "    Ligth Air (LA)  \n",
    "    Ligth Breeze (LB) \n",
    "    Gentle Breeze (GB)\n",
    "    Moderate Breeze (MB)\n",
    "    Fresh Breeze (FB)\n",
    "    Strong Breeze (SB)\n",
    "    Near Gale (NG)\n",
    "    Gale (G)\n",
    "    Strong Gale (SG)\n",
    "    Strom (S)\n",
    "    Violent Storm (VS)\n",
    "    Hurricane Force (HF) "
   ]
  },
  {
   "cell_type": "code",
   "execution_count": 186,
   "metadata": {},
   "outputs": [
    {
     "data": {
      "text/html": [
       "<table>\n",
       "<thead><tr><th scope=col>date</th><th scope=col>Speed</th><th scope=col>WindIndexQuality</th></tr></thead>\n",
       "<tbody>\n",
       "\t<tr><td>2001-01-01</td><td>1.1       </td><td>LIGHT WIND</td></tr>\n",
       "\t<tr><td>2001-01-02</td><td>3.6       </td><td>LIGHT WIND</td></tr>\n",
       "\t<tr><td>2001-01-03</td><td>1.7       </td><td>LIGHT WIND</td></tr>\n",
       "\t<tr><td>2001-01-04</td><td>3.3       </td><td>LIGHT WIND</td></tr>\n",
       "\t<tr><td>2001-01-05</td><td>1.1       </td><td>LIGHT WIND</td></tr>\n",
       "\t<tr><td>2001-01-06</td><td>2.5       </td><td>LIGHT WIND</td></tr>\n",
       "</tbody>\n",
       "</table>\n"
      ],
      "text/latex": [
       "\\begin{tabular}{r|lll}\n",
       " date & Speed & WindIndexQuality\\\\\n",
       "\\hline\n",
       "\t 2001-01-01 & 1.1        & LIGHT WIND\\\\\n",
       "\t 2001-01-02 & 3.6        & LIGHT WIND\\\\\n",
       "\t 2001-01-03 & 1.7        & LIGHT WIND\\\\\n",
       "\t 2001-01-04 & 3.3        & LIGHT WIND\\\\\n",
       "\t 2001-01-05 & 1.1        & LIGHT WIND\\\\\n",
       "\t 2001-01-06 & 2.5        & LIGHT WIND\\\\\n",
       "\\end{tabular}\n"
      ],
      "text/markdown": [
       "\n",
       "date | Speed | WindIndexQuality | \n",
       "|---|---|---|---|---|---|\n",
       "| 2001-01-01 | 1.1        | LIGHT WIND | \n",
       "| 2001-01-02 | 3.6        | LIGHT WIND | \n",
       "| 2001-01-03 | 1.7        | LIGHT WIND | \n",
       "| 2001-01-04 | 3.3        | LIGHT WIND | \n",
       "| 2001-01-05 | 1.1        | LIGHT WIND | \n",
       "| 2001-01-06 | 2.5        | LIGHT WIND | \n",
       "\n",
       "\n"
      ],
      "text/plain": [
       "  date       Speed WindIndexQuality\n",
       "1 2001-01-01 1.1   LIGHT WIND      \n",
       "2 2001-01-02 3.6   LIGHT WIND      \n",
       "3 2001-01-03 1.7   LIGHT WIND      \n",
       "4 2001-01-04 3.3   LIGHT WIND      \n",
       "5 2001-01-05 1.1   LIGHT WIND      \n",
       "6 2001-01-06 2.5   LIGHT WIND      "
      ]
     },
     "metadata": {},
     "output_type": "display_data"
    },
    {
     "data": {
      "text/html": [
       "<table>\n",
       "<thead><tr><th></th><th scope=col>date</th><th scope=col>Speed</th><th scope=col>WindIndexQuality</th></tr></thead>\n",
       "<tbody>\n",
       "\t<tr><th scope=row>5854</th><td>2018-12-26</td><td>0.6       </td><td>LIGHT WIND</td></tr>\n",
       "\t<tr><th scope=row>5855</th><td>2018-12-27</td><td>0.6       </td><td>LIGHT WIND</td></tr>\n",
       "\t<tr><th scope=row>5856</th><td>2018-12-28</td><td>1.4       </td><td>LIGHT WIND</td></tr>\n",
       "\t<tr><th scope=row>5857</th><td>2018-12-29</td><td>1.7       </td><td>LIGHT WIND</td></tr>\n",
       "\t<tr><th scope=row>5858</th><td>2018-12-30</td><td>1.1       </td><td>LIGHT WIND</td></tr>\n",
       "\t<tr><th scope=row>5859</th><td>2018-12-31</td><td>0.3       </td><td>LIGHT WIND</td></tr>\n",
       "</tbody>\n",
       "</table>\n"
      ],
      "text/latex": [
       "\\begin{tabular}{r|lll}\n",
       "  & date & Speed & WindIndexQuality\\\\\n",
       "\\hline\n",
       "\t5854 & 2018-12-26 & 0.6        & LIGHT WIND\\\\\n",
       "\t5855 & 2018-12-27 & 0.6        & LIGHT WIND\\\\\n",
       "\t5856 & 2018-12-28 & 1.4        & LIGHT WIND\\\\\n",
       "\t5857 & 2018-12-29 & 1.7        & LIGHT WIND\\\\\n",
       "\t5858 & 2018-12-30 & 1.1        & LIGHT WIND\\\\\n",
       "\t5859 & 2018-12-31 & 0.3        & LIGHT WIND\\\\\n",
       "\\end{tabular}\n"
      ],
      "text/markdown": [
       "\n",
       "| <!--/--> | date | Speed | WindIndexQuality | \n",
       "|---|---|---|---|---|---|\n",
       "| 5854 | 2018-12-26 | 0.6        | LIGHT WIND | \n",
       "| 5855 | 2018-12-27 | 0.6        | LIGHT WIND | \n",
       "| 5856 | 2018-12-28 | 1.4        | LIGHT WIND | \n",
       "| 5857 | 2018-12-29 | 1.7        | LIGHT WIND | \n",
       "| 5858 | 2018-12-30 | 1.1        | LIGHT WIND | \n",
       "| 5859 | 2018-12-31 | 0.3        | LIGHT WIND | \n",
       "\n",
       "\n"
      ],
      "text/plain": [
       "     date       Speed WindIndexQuality\n",
       "5854 2018-12-26 0.6   LIGHT WIND      \n",
       "5855 2018-12-27 0.6   LIGHT WIND      \n",
       "5856 2018-12-28 1.4   LIGHT WIND      \n",
       "5857 2018-12-29 1.7   LIGHT WIND      \n",
       "5858 2018-12-30 1.1   LIGHT WIND      \n",
       "5859 2018-12-31 0.3   LIGHT WIND      "
      ]
     },
     "metadata": {},
     "output_type": "display_data"
    }
   ],
   "source": [
    "wind[,\"WindIndexQuality\"] <- wind$Speed\n",
    "# if(wind$Speed < 0.3){\n",
    "#    wind$WindIndexQuality <- 'C'\n",
    "#} else if(wind$Speed >=0.3 & wind$Speed <=1.5){\n",
    "#    wind$WindIndexQuality <- 'LA'\n",
    "#} else if(wind$Speed >=1.6 & wind$Speed <=3.3){\n",
    "#    wind$WindIndexQuality <- 'LB'\n",
    "#} else if(wind$Speed >=3.4 & wind$Speed <=5.5){\n",
    "#    wind$indexQuality <- 'GB'\n",
    "#} else if(wind$Speed >=5.6 & wind$Speed <=7.9){\n",
    "#    wind$indexQuality <- 'MB'\n",
    "#} else if(wind$Speed >=8 & wind$Speed <=10.7){\n",
    "#    wind$indexQuality <- 'FB'\n",
    "#} else if(wind$Speed >=10.8 & wind$Speed <=13.8){\n",
    "#    wind$indexQuality <- 'SB'\n",
    "#} else if(wind$Speed >=13.9 & wind$Speed <=17.1){\n",
    "#    wind$indexQuality <- 'NG'\n",
    "#} else if(wind$Speed >=17.2 & wind$Speed <=20.7){\n",
    "#    wind$indexQuality <- 'G'\n",
    "#} else if(wind$Speed >=20.8 & wind$Speed <=24.4){\n",
    "#    wind$indexQuality <- 'SG'\n",
    "#} else if(wind$Speed >=24.5 & wind$Speed <=28.4){\n",
    "#    wind$indexQuality <- 'S'\n",
    "#} else if(wind$Speed >=28.5 & wind$Speed <=32.6){\n",
    "#    wind$indexQuality <- 'VS'\n",
    "#} else if(wind$Speed >= 32.7){\n",
    "#    wind$indexQuality <- 'HF'\n",
    "#}\n",
    "\n",
    "wind <- wind %>%\n",
    "        mutate(WindIndexQuality = case_when (\n",
    "        \n",
    "        WindIndexQuality >=0.0 & WindIndexQuality  <=10.7       ~\"LIGHT WIND\",\n",
    "        WindIndexQuality >=10.8 & WindIndexQuality <=17.1       ~\"ADVISORY FORCE\",\n",
    "        WindIndexQuality >=17.2 & WindIndexQuality <=24.4       ~\"GALE FORCE\",\n",
    "        WindIndexQuality >=24.5 & WindIndexQuality <=32.6       ~\"STORM FORCE\",\n",
    "        WindIndexQuality >=32.7                                 ~\"HURRICANE FORCE\",\n",
    "        TRUE                                                    ~\"NA\",\n",
    "        ))\n",
    "head(wind)\n",
    "tail(wind)"
   ]
  },
  {
   "cell_type": "markdown",
   "metadata": {},
   "source": [
    "## Cruzamos los datos"
   ]
  },
  {
   "cell_type": "code",
   "execution_count": 187,
   "metadata": {},
   "outputs": [
    {
     "data": {
      "text/html": [
       "<table>\n",
       "<thead><tr><th scope=col>date</th><th scope=col>station</th><th scope=col>CO</th><th scope=col>NO_2</th><th scope=col>O_3</th><th scope=col>PM10</th><th scope=col>SO_2</th><th scope=col>worseAirIndex</th><th scope=col>AirIndexQuality</th><th scope=col>l/m2</th></tr></thead>\n",
       "<tbody>\n",
       "\t<tr><td>2001-01-01</td><td>28079004  </td><td>0.8095652 </td><td>57.81739  </td><td>18.35783  </td><td>17.19826  </td><td>16.983044 </td><td>57.81739  </td><td>GOOD      </td><td>4.3       </td></tr>\n",
       "\t<tr><td>2001-01-01</td><td>28079014  </td><td>1.2600000 </td><td>44.12000  </td><td>31.82913  </td><td>18.61261  </td><td> 8.009565 </td><td>44.12000  </td><td>GOOD      </td><td>4.3       </td></tr>\n",
       "\t<tr><td>2001-01-01</td><td>28079017  </td><td>1.0052174 </td><td>46.15174  </td><td>22.47435  </td><td>17.39130  </td><td>12.387826 </td><td>46.15174  </td><td>GOOD      </td><td>4.3       </td></tr>\n",
       "\t<tr><td>2001-01-01</td><td>28079012  </td><td>1.5647826 </td><td>49.00783  </td><td>10.75478  </td><td>23.59696  </td><td>35.703043 </td><td>49.00783  </td><td>GOOD      </td><td>4.3       </td></tr>\n",
       "\t<tr><td>2001-01-01</td><td>28079003  </td><td>0.6500000 </td><td>44.35609  </td><td>24.89174  </td><td>20.22304  </td><td>22.549130 </td><td>44.35609  </td><td>GOOD      </td><td>4.3       </td></tr>\n",
       "\t<tr><td>2001-01-01</td><td>28079024  </td><td>0.7260870 </td><td>31.98130  </td><td>23.72609  </td><td>15.10261  </td><td>10.258261 </td><td>31.98130  </td><td>VERY GOOD </td><td>4.3       </td></tr>\n",
       "</tbody>\n",
       "</table>\n"
      ],
      "text/latex": [
       "\\begin{tabular}{r|llllllllll}\n",
       " date & station & CO & NO\\_2 & O\\_3 & PM10 & SO\\_2 & worseAirIndex & AirIndexQuality & l/m2\\\\\n",
       "\\hline\n",
       "\t 2001-01-01 & 28079004   & 0.8095652  & 57.81739   & 18.35783   & 17.19826   & 16.983044  & 57.81739   & GOOD       & 4.3       \\\\\n",
       "\t 2001-01-01 & 28079014   & 1.2600000  & 44.12000   & 31.82913   & 18.61261   &  8.009565  & 44.12000   & GOOD       & 4.3       \\\\\n",
       "\t 2001-01-01 & 28079017   & 1.0052174  & 46.15174   & 22.47435   & 17.39130   & 12.387826  & 46.15174   & GOOD       & 4.3       \\\\\n",
       "\t 2001-01-01 & 28079012   & 1.5647826  & 49.00783   & 10.75478   & 23.59696   & 35.703043  & 49.00783   & GOOD       & 4.3       \\\\\n",
       "\t 2001-01-01 & 28079003   & 0.6500000  & 44.35609   & 24.89174   & 20.22304   & 22.549130  & 44.35609   & GOOD       & 4.3       \\\\\n",
       "\t 2001-01-01 & 28079024   & 0.7260870  & 31.98130   & 23.72609   & 15.10261   & 10.258261  & 31.98130   & VERY GOOD  & 4.3       \\\\\n",
       "\\end{tabular}\n"
      ],
      "text/markdown": [
       "\n",
       "date | station | CO | NO_2 | O_3 | PM10 | SO_2 | worseAirIndex | AirIndexQuality | l/m2 | \n",
       "|---|---|---|---|---|---|\n",
       "| 2001-01-01 | 28079004   | 0.8095652  | 57.81739   | 18.35783   | 17.19826   | 16.983044  | 57.81739   | GOOD       | 4.3        | \n",
       "| 2001-01-01 | 28079014   | 1.2600000  | 44.12000   | 31.82913   | 18.61261   |  8.009565  | 44.12000   | GOOD       | 4.3        | \n",
       "| 2001-01-01 | 28079017   | 1.0052174  | 46.15174   | 22.47435   | 17.39130   | 12.387826  | 46.15174   | GOOD       | 4.3        | \n",
       "| 2001-01-01 | 28079012   | 1.5647826  | 49.00783   | 10.75478   | 23.59696   | 35.703043  | 49.00783   | GOOD       | 4.3        | \n",
       "| 2001-01-01 | 28079003   | 0.6500000  | 44.35609   | 24.89174   | 20.22304   | 22.549130  | 44.35609   | GOOD       | 4.3        | \n",
       "| 2001-01-01 | 28079024   | 0.7260870  | 31.98130   | 23.72609   | 15.10261   | 10.258261  | 31.98130   | VERY GOOD  | 4.3        | \n",
       "\n",
       "\n"
      ],
      "text/plain": [
       "  date       station  CO        NO_2     O_3      PM10     SO_2     \n",
       "1 2001-01-01 28079004 0.8095652 57.81739 18.35783 17.19826 16.983044\n",
       "2 2001-01-01 28079014 1.2600000 44.12000 31.82913 18.61261  8.009565\n",
       "3 2001-01-01 28079017 1.0052174 46.15174 22.47435 17.39130 12.387826\n",
       "4 2001-01-01 28079012 1.5647826 49.00783 10.75478 23.59696 35.703043\n",
       "5 2001-01-01 28079003 0.6500000 44.35609 24.89174 20.22304 22.549130\n",
       "6 2001-01-01 28079024 0.7260870 31.98130 23.72609 15.10261 10.258261\n",
       "  worseAirIndex AirIndexQuality l/m2\n",
       "1 57.81739      GOOD            4.3 \n",
       "2 44.12000      GOOD            4.3 \n",
       "3 46.15174      GOOD            4.3 \n",
       "4 49.00783      GOOD            4.3 \n",
       "5 44.35609      GOOD            4.3 \n",
       "6 31.98130      VERY GOOD       4.3 "
      ]
     },
     "metadata": {},
     "output_type": "display_data"
    }
   ],
   "source": [
    "# Cruzamos los datos de las precipitaciones y la contaminacion por fecha \n",
    "data <- merge ( x = madrid, y = rainfall, by = \"date\",)\n",
    "head(data)"
   ]
  },
  {
   "cell_type": "code",
   "execution_count": 188,
   "metadata": {},
   "outputs": [
    {
     "data": {
      "text/html": [
       "<table>\n",
       "<thead><tr><th></th><th scope=col>date</th><th scope=col>station</th><th scope=col>CO</th><th scope=col>NO_2</th><th scope=col>O_3</th><th scope=col>PM10</th><th scope=col>SO_2</th><th scope=col>worseAirIndex</th><th scope=col>AirIndexQuality</th><th scope=col>l/m2</th><th scope=col>Speed</th><th scope=col>WindIndexQuality</th></tr></thead>\n",
       "<tbody>\n",
       "\t<tr><th scope=row>42</th><td>2001-01-02</td><td>28079001  </td><td>1.243333  </td><td>84.53750  </td><td>12.576667 </td><td>36.92455  </td><td>20.28083  </td><td>84.53750  </td><td>FAIR      </td><td>0.1       </td><td>3.6       </td><td>LIGHT WIND</td></tr>\n",
       "\t<tr><th scope=row>57</th><td>2001-01-03</td><td>28079001  </td><td>1.242917  </td><td>79.75125  </td><td>10.961250 </td><td>37.21292  </td><td>16.23917  </td><td>79.75125  </td><td>FAIR      </td><td>2.2       </td><td>1.7       </td><td>LIGHT WIND</td></tr>\n",
       "\t<tr><th scope=row>84</th><td>2001-01-04</td><td>28079001  </td><td>1.134167  </td><td>75.39250  </td><td>12.002917 </td><td>35.03667  </td><td>16.75125  </td><td>75.39250  </td><td>FAIR      </td><td>2.4       </td><td>3.3       </td><td>LIGHT WIND</td></tr>\n",
       "\t<tr><th scope=row>105</th><td>2001-01-05</td><td>28079001  </td><td>1.535833  </td><td>77.14083  </td><td> 8.755833 </td><td>34.27625  </td><td>16.00958  </td><td>77.14083  </td><td>FAIR      </td><td>13.3      </td><td>1.1       </td><td>LIGHT WIND</td></tr>\n",
       "\t<tr><th scope=row>139</th><td>2001-01-06</td><td>28079001  </td><td>1.009167  </td><td>64.47708  </td><td>13.955417 </td><td>17.03792  </td><td>15.35417  </td><td>64.47708  </td><td>GOOD      </td><td>0.0       </td><td>2.5       </td><td>LIGHT WIND</td></tr>\n",
       "\t<tr><th scope=row>158</th><td>2001-01-07</td><td>28079001  </td><td>1.016250  </td><td>67.06125  </td><td>12.776250 </td><td>20.45500  </td><td>18.43042  </td><td>67.06125  </td><td>FAIR      </td><td>0.0       </td><td>2.2       </td><td>LIGHT WIND</td></tr>\n",
       "</tbody>\n",
       "</table>\n"
      ],
      "text/latex": [
       "\\begin{tabular}{r|llllllllllll}\n",
       "  & date & station & CO & NO\\_2 & O\\_3 & PM10 & SO\\_2 & worseAirIndex & AirIndexQuality & l/m2 & Speed & WindIndexQuality\\\\\n",
       "\\hline\n",
       "\t42 & 2001-01-02 & 28079001   & 1.243333   & 84.53750   & 12.576667  & 36.92455   & 20.28083   & 84.53750   & FAIR       & 0.1        & 3.6        & LIGHT WIND\\\\\n",
       "\t57 & 2001-01-03 & 28079001   & 1.242917   & 79.75125   & 10.961250  & 37.21292   & 16.23917   & 79.75125   & FAIR       & 2.2        & 1.7        & LIGHT WIND\\\\\n",
       "\t84 & 2001-01-04 & 28079001   & 1.134167   & 75.39250   & 12.002917  & 35.03667   & 16.75125   & 75.39250   & FAIR       & 2.4        & 3.3        & LIGHT WIND\\\\\n",
       "\t105 & 2001-01-05 & 28079001   & 1.535833   & 77.14083   &  8.755833  & 34.27625   & 16.00958   & 77.14083   & FAIR       & 13.3       & 1.1        & LIGHT WIND\\\\\n",
       "\t139 & 2001-01-06 & 28079001   & 1.009167   & 64.47708   & 13.955417  & 17.03792   & 15.35417   & 64.47708   & GOOD       & 0.0        & 2.5        & LIGHT WIND\\\\\n",
       "\t158 & 2001-01-07 & 28079001   & 1.016250   & 67.06125   & 12.776250  & 20.45500   & 18.43042   & 67.06125   & FAIR       & 0.0        & 2.2        & LIGHT WIND\\\\\n",
       "\\end{tabular}\n"
      ],
      "text/markdown": [
       "\n",
       "| <!--/--> | date | station | CO | NO_2 | O_3 | PM10 | SO_2 | worseAirIndex | AirIndexQuality | l/m2 | Speed | WindIndexQuality | \n",
       "|---|---|---|---|---|---|\n",
       "| 42 | 2001-01-02 | 28079001   | 1.243333   | 84.53750   | 12.576667  | 36.92455   | 20.28083   | 84.53750   | FAIR       | 0.1        | 3.6        | LIGHT WIND | \n",
       "| 57 | 2001-01-03 | 28079001   | 1.242917   | 79.75125   | 10.961250  | 37.21292   | 16.23917   | 79.75125   | FAIR       | 2.2        | 1.7        | LIGHT WIND | \n",
       "| 84 | 2001-01-04 | 28079001   | 1.134167   | 75.39250   | 12.002917  | 35.03667   | 16.75125   | 75.39250   | FAIR       | 2.4        | 3.3        | LIGHT WIND | \n",
       "| 105 | 2001-01-05 | 28079001   | 1.535833   | 77.14083   |  8.755833  | 34.27625   | 16.00958   | 77.14083   | FAIR       | 13.3       | 1.1        | LIGHT WIND | \n",
       "| 139 | 2001-01-06 | 28079001   | 1.009167   | 64.47708   | 13.955417  | 17.03792   | 15.35417   | 64.47708   | GOOD       | 0.0        | 2.5        | LIGHT WIND | \n",
       "| 158 | 2001-01-07 | 28079001   | 1.016250   | 67.06125   | 12.776250  | 20.45500   | 18.43042   | 67.06125   | FAIR       | 0.0        | 2.2        | LIGHT WIND | \n",
       "\n",
       "\n"
      ],
      "text/plain": [
       "    date       station  CO       NO_2     O_3       PM10     SO_2    \n",
       "42  2001-01-02 28079001 1.243333 84.53750 12.576667 36.92455 20.28083\n",
       "57  2001-01-03 28079001 1.242917 79.75125 10.961250 37.21292 16.23917\n",
       "84  2001-01-04 28079001 1.134167 75.39250 12.002917 35.03667 16.75125\n",
       "105 2001-01-05 28079001 1.535833 77.14083  8.755833 34.27625 16.00958\n",
       "139 2001-01-06 28079001 1.009167 64.47708 13.955417 17.03792 15.35417\n",
       "158 2001-01-07 28079001 1.016250 67.06125 12.776250 20.45500 18.43042\n",
       "    worseAirIndex AirIndexQuality l/m2 Speed WindIndexQuality\n",
       "42  84.53750      FAIR            0.1  3.6   LIGHT WIND      \n",
       "57  79.75125      FAIR            2.2  1.7   LIGHT WIND      \n",
       "84  75.39250      FAIR            2.4  3.3   LIGHT WIND      \n",
       "105 77.14083      FAIR            13.3 1.1   LIGHT WIND      \n",
       "139 64.47708      GOOD            0.0  2.5   LIGHT WIND      \n",
       "158 67.06125      FAIR            0.0  2.2   LIGHT WIND      "
      ]
     },
     "metadata": {},
     "output_type": "display_data"
    }
   ],
   "source": [
    "# Cruzamos los datos con el viento\n",
    "data <- merge ( x = data, y = wind, by = \"date\",)\n",
    "data <- data[order(data$station),]\n",
    "head(data)"
   ]
  },
  {
   "cell_type": "code",
   "execution_count": 189,
   "metadata": {},
   "outputs": [],
   "source": [
    "data$worseAirIndex = NULL\n",
    "data$Speed = NULL"
   ]
  },
  {
   "cell_type": "code",
   "execution_count": 190,
   "metadata": {},
   "outputs": [
    {
     "data": {
      "text/html": [
       "<table>\n",
       "<thead><tr><th></th><th scope=col>date</th><th scope=col>station</th><th scope=col>CO</th><th scope=col>NO_2</th><th scope=col>O_3</th><th scope=col>PM10</th><th scope=col>SO_2</th><th scope=col>AirIndexQuality</th><th scope=col>l/m2</th><th scope=col>WindIndexQuality</th></tr></thead>\n",
       "<tbody>\n",
       "\t<tr><th scope=row>42</th><td>2001-01-02</td><td>28079001  </td><td>1.243333  </td><td>84.53750  </td><td>12.576667 </td><td>36.92455  </td><td>20.28083  </td><td>FAIR      </td><td>0.1       </td><td>LIGHT WIND</td></tr>\n",
       "\t<tr><th scope=row>57</th><td>2001-01-03</td><td>28079001  </td><td>1.242917  </td><td>79.75125  </td><td>10.961250 </td><td>37.21292  </td><td>16.23917  </td><td>FAIR      </td><td>2.2       </td><td>LIGHT WIND</td></tr>\n",
       "\t<tr><th scope=row>84</th><td>2001-01-04</td><td>28079001  </td><td>1.134167  </td><td>75.39250  </td><td>12.002917 </td><td>35.03667  </td><td>16.75125  </td><td>FAIR      </td><td>2.4       </td><td>LIGHT WIND</td></tr>\n",
       "\t<tr><th scope=row>105</th><td>2001-01-05</td><td>28079001  </td><td>1.535833  </td><td>77.14083  </td><td> 8.755833 </td><td>34.27625  </td><td>16.00958  </td><td>FAIR      </td><td>13.3      </td><td>LIGHT WIND</td></tr>\n",
       "\t<tr><th scope=row>139</th><td>2001-01-06</td><td>28079001  </td><td>1.009167  </td><td>64.47708  </td><td>13.955417 </td><td>17.03792  </td><td>15.35417  </td><td>GOOD      </td><td>0.0       </td><td>LIGHT WIND</td></tr>\n",
       "\t<tr><th scope=row>158</th><td>2001-01-07</td><td>28079001  </td><td>1.016250  </td><td>67.06125  </td><td>12.776250 </td><td>20.45500  </td><td>18.43042  </td><td>FAIR      </td><td>0.0       </td><td>LIGHT WIND</td></tr>\n",
       "</tbody>\n",
       "</table>\n"
      ],
      "text/latex": [
       "\\begin{tabular}{r|llllllllll}\n",
       "  & date & station & CO & NO\\_2 & O\\_3 & PM10 & SO\\_2 & AirIndexQuality & l/m2 & WindIndexQuality\\\\\n",
       "\\hline\n",
       "\t42 & 2001-01-02 & 28079001   & 1.243333   & 84.53750   & 12.576667  & 36.92455   & 20.28083   & FAIR       & 0.1        & LIGHT WIND\\\\\n",
       "\t57 & 2001-01-03 & 28079001   & 1.242917   & 79.75125   & 10.961250  & 37.21292   & 16.23917   & FAIR       & 2.2        & LIGHT WIND\\\\\n",
       "\t84 & 2001-01-04 & 28079001   & 1.134167   & 75.39250   & 12.002917  & 35.03667   & 16.75125   & FAIR       & 2.4        & LIGHT WIND\\\\\n",
       "\t105 & 2001-01-05 & 28079001   & 1.535833   & 77.14083   &  8.755833  & 34.27625   & 16.00958   & FAIR       & 13.3       & LIGHT WIND\\\\\n",
       "\t139 & 2001-01-06 & 28079001   & 1.009167   & 64.47708   & 13.955417  & 17.03792   & 15.35417   & GOOD       & 0.0        & LIGHT WIND\\\\\n",
       "\t158 & 2001-01-07 & 28079001   & 1.016250   & 67.06125   & 12.776250  & 20.45500   & 18.43042   & FAIR       & 0.0        & LIGHT WIND\\\\\n",
       "\\end{tabular}\n"
      ],
      "text/markdown": [
       "\n",
       "| <!--/--> | date | station | CO | NO_2 | O_3 | PM10 | SO_2 | AirIndexQuality | l/m2 | WindIndexQuality | \n",
       "|---|---|---|---|---|---|\n",
       "| 42 | 2001-01-02 | 28079001   | 1.243333   | 84.53750   | 12.576667  | 36.92455   | 20.28083   | FAIR       | 0.1        | LIGHT WIND | \n",
       "| 57 | 2001-01-03 | 28079001   | 1.242917   | 79.75125   | 10.961250  | 37.21292   | 16.23917   | FAIR       | 2.2        | LIGHT WIND | \n",
       "| 84 | 2001-01-04 | 28079001   | 1.134167   | 75.39250   | 12.002917  | 35.03667   | 16.75125   | FAIR       | 2.4        | LIGHT WIND | \n",
       "| 105 | 2001-01-05 | 28079001   | 1.535833   | 77.14083   |  8.755833  | 34.27625   | 16.00958   | FAIR       | 13.3       | LIGHT WIND | \n",
       "| 139 | 2001-01-06 | 28079001   | 1.009167   | 64.47708   | 13.955417  | 17.03792   | 15.35417   | GOOD       | 0.0        | LIGHT WIND | \n",
       "| 158 | 2001-01-07 | 28079001   | 1.016250   | 67.06125   | 12.776250  | 20.45500   | 18.43042   | FAIR       | 0.0        | LIGHT WIND | \n",
       "\n",
       "\n"
      ],
      "text/plain": [
       "    date       station  CO       NO_2     O_3       PM10     SO_2    \n",
       "42  2001-01-02 28079001 1.243333 84.53750 12.576667 36.92455 20.28083\n",
       "57  2001-01-03 28079001 1.242917 79.75125 10.961250 37.21292 16.23917\n",
       "84  2001-01-04 28079001 1.134167 75.39250 12.002917 35.03667 16.75125\n",
       "105 2001-01-05 28079001 1.535833 77.14083  8.755833 34.27625 16.00958\n",
       "139 2001-01-06 28079001 1.009167 64.47708 13.955417 17.03792 15.35417\n",
       "158 2001-01-07 28079001 1.016250 67.06125 12.776250 20.45500 18.43042\n",
       "    AirIndexQuality l/m2 WindIndexQuality\n",
       "42  FAIR            0.1  LIGHT WIND      \n",
       "57  FAIR            2.2  LIGHT WIND      \n",
       "84  FAIR            2.4  LIGHT WIND      \n",
       "105 FAIR            13.3 LIGHT WIND      \n",
       "139 GOOD            0.0  LIGHT WIND      \n",
       "158 FAIR            0.0  LIGHT WIND      "
      ]
     },
     "metadata": {},
     "output_type": "display_data"
    },
    {
     "data": {
      "text/html": [
       "<table>\n",
       "<thead><tr><th></th><th scope=col>date</th><th scope=col>station</th><th scope=col>CO</th><th scope=col>NO_2</th><th scope=col>O_3</th><th scope=col>PM10</th><th scope=col>SO_2</th><th scope=col>AirIndexQuality</th><th scope=col>l/m2</th><th scope=col>WindIndexQuality</th></tr></thead>\n",
       "<tbody>\n",
       "\t<tr><th scope=row>137042</th><td>2018-04-26</td><td>28079060  </td><td>NaN       </td><td>29.041667 </td><td>77.25000  </td><td>42.54167  </td><td>NaN       </td><td>NA        </td><td>0         </td><td>LIGHT WIND</td></tr>\n",
       "\t<tr><th scope=row>137062</th><td>2018-04-27</td><td>28079060  </td><td>NaN       </td><td>20.958333 </td><td>81.83333  </td><td>29.57143  </td><td>NaN       </td><td>NA        </td><td>0         </td><td>LIGHT WIND</td></tr>\n",
       "\t<tr><th scope=row>137086</th><td>2018-04-28</td><td>28079060  </td><td>NaN       </td><td> 8.375000 </td><td>87.20833  </td><td>10.33333  </td><td>NaN       </td><td>NA        </td><td>0         </td><td>LIGHT WIND</td></tr>\n",
       "\t<tr><th scope=row>137104</th><td>2018-04-29</td><td>28079060  </td><td>NaN       </td><td> 6.958333 </td><td>93.08333  </td><td>14.45833  </td><td>NaN       </td><td>NA        </td><td>13        </td><td>LIGHT WIND</td></tr>\n",
       "\t<tr><th scope=row>137135</th><td>2018-04-30</td><td>28079060  </td><td>NaN       </td><td>13.708333 </td><td>83.33333  </td><td>12.91667  </td><td>NaN       </td><td>NA        </td><td>4.8       </td><td>LIGHT WIND</td></tr>\n",
       "\t<tr><th scope=row>137174</th><td>2018-05-01</td><td>28079060  </td><td>NaN       </td><td>14.000000 </td><td>81.00000  </td><td> 6.00000  </td><td>NaN       </td><td>NA        </td><td>0.2       </td><td>LIGHT WIND</td></tr>\n",
       "</tbody>\n",
       "</table>\n"
      ],
      "text/latex": [
       "\\begin{tabular}{r|llllllllll}\n",
       "  & date & station & CO & NO\\_2 & O\\_3 & PM10 & SO\\_2 & AirIndexQuality & l/m2 & WindIndexQuality\\\\\n",
       "\\hline\n",
       "\t137042 & 2018-04-26 & 28079060   & NaN        & 29.041667  & 77.25000   & 42.54167   & NaN        & NA         & 0          & LIGHT WIND\\\\\n",
       "\t137062 & 2018-04-27 & 28079060   & NaN        & 20.958333  & 81.83333   & 29.57143   & NaN        & NA         & 0          & LIGHT WIND\\\\\n",
       "\t137086 & 2018-04-28 & 28079060   & NaN        &  8.375000  & 87.20833   & 10.33333   & NaN        & NA         & 0          & LIGHT WIND\\\\\n",
       "\t137104 & 2018-04-29 & 28079060   & NaN        &  6.958333  & 93.08333   & 14.45833   & NaN        & NA         & 13         & LIGHT WIND\\\\\n",
       "\t137135 & 2018-04-30 & 28079060   & NaN        & 13.708333  & 83.33333   & 12.91667   & NaN        & NA         & 4.8        & LIGHT WIND\\\\\n",
       "\t137174 & 2018-05-01 & 28079060   & NaN        & 14.000000  & 81.00000   &  6.00000   & NaN        & NA         & 0.2        & LIGHT WIND\\\\\n",
       "\\end{tabular}\n"
      ],
      "text/markdown": [
       "\n",
       "| <!--/--> | date | station | CO | NO_2 | O_3 | PM10 | SO_2 | AirIndexQuality | l/m2 | WindIndexQuality | \n",
       "|---|---|---|---|---|---|\n",
       "| 137042 | 2018-04-26 | 28079060   | NaN        | 29.041667  | 77.25000   | 42.54167   | NaN        | NA         | 0          | LIGHT WIND | \n",
       "| 137062 | 2018-04-27 | 28079060   | NaN        | 20.958333  | 81.83333   | 29.57143   | NaN        | NA         | 0          | LIGHT WIND | \n",
       "| 137086 | 2018-04-28 | 28079060   | NaN        |  8.375000  | 87.20833   | 10.33333   | NaN        | NA         | 0          | LIGHT WIND | \n",
       "| 137104 | 2018-04-29 | 28079060   | NaN        |  6.958333  | 93.08333   | 14.45833   | NaN        | NA         | 13         | LIGHT WIND | \n",
       "| 137135 | 2018-04-30 | 28079060   | NaN        | 13.708333  | 83.33333   | 12.91667   | NaN        | NA         | 4.8        | LIGHT WIND | \n",
       "| 137174 | 2018-05-01 | 28079060   | NaN        | 14.000000  | 81.00000   |  6.00000   | NaN        | NA         | 0.2        | LIGHT WIND | \n",
       "\n",
       "\n"
      ],
      "text/plain": [
       "       date       station  CO  NO_2      O_3      PM10     SO_2 AirIndexQuality\n",
       "137042 2018-04-26 28079060 NaN 29.041667 77.25000 42.54167 NaN  NA             \n",
       "137062 2018-04-27 28079060 NaN 20.958333 81.83333 29.57143 NaN  NA             \n",
       "137086 2018-04-28 28079060 NaN  8.375000 87.20833 10.33333 NaN  NA             \n",
       "137104 2018-04-29 28079060 NaN  6.958333 93.08333 14.45833 NaN  NA             \n",
       "137135 2018-04-30 28079060 NaN 13.708333 83.33333 12.91667 NaN  NA             \n",
       "137174 2018-05-01 28079060 NaN 14.000000 81.00000  6.00000 NaN  NA             \n",
       "       l/m2 WindIndexQuality\n",
       "137042 0    LIGHT WIND      \n",
       "137062 0    LIGHT WIND      \n",
       "137086 0    LIGHT WIND      \n",
       "137104 13   LIGHT WIND      \n",
       "137135 4.8  LIGHT WIND      \n",
       "137174 0.2  LIGHT WIND      "
      ]
     },
     "metadata": {},
     "output_type": "display_data"
    }
   ],
   "source": [
    "head(data)\n",
    "tail(data)"
   ]
  },
  {
   "cell_type": "code",
   "execution_count": null,
   "metadata": {},
   "outputs": [],
   "source": []
  },
  {
   "cell_type": "code",
   "execution_count": null,
   "metadata": {},
   "outputs": [],
   "source": []
  },
  {
   "cell_type": "code",
   "execution_count": null,
   "metadata": {},
   "outputs": [],
   "source": []
  }
 ],
 "metadata": {
  "kernelspec": {
   "display_name": "R",
   "language": "R",
   "name": "ir"
  },
  "language_info": {
   "codemirror_mode": "r",
   "file_extension": ".r",
   "mimetype": "text/x-r-source",
   "name": "R",
   "pygments_lexer": "r",
   "version": "3.5.1"
  }
 },
 "nbformat": 4,
 "nbformat_minor": 2
}

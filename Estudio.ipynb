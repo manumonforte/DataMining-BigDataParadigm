{
 "cells": [
  {
   "cell_type": "markdown",
   "metadata": {},
   "source": [
    "## Instalamos Paquetes"
   ]
  },
  {
   "cell_type": "code",
   "execution_count": 31,
   "metadata": {
    "scrolled": true
   },
   "outputs": [],
   "source": [
    "#Limpiamos memoria\n",
    "rm(list=ls());\n",
    "is.installed <- function(mypkg) {\n",
    "  is.element(mypkg, installed.packages()[,1]) \n",
    "}\n",
    "\n",
    "#Instalamos paquetes para agrupar csv\n",
    "if (!is.installed(\"data.table\")){\n",
    "  install.packages(\"data.table\",repos = \"http://cran.us.r-project.org\")\n",
    "};\n",
    "#Intslamos paquete para manipular ts\n",
    "if (!is.installed(\"xts\")){\n",
    "  install.packages(\"xts\",repos = \"http://cran.us.r-project.org\")\n",
    "};\n",
    "#Instalamos paquete para agrupar datos\n",
    "if (!is.installed(\"dplyr\")){\n",
    "  install.packages(\"dplyr\",repos = \"http://cran.us.r-project.org\")\n",
    "};\n",
    "\n",
    "# Instalamos paquete para leer exccels\n",
    "if (!is.installed(\"readxl\")){\n",
    "  install.packages(\"readxl\",repos = \"http://cran.us.r-project.org\")\n",
    "};\n",
    "\n",
    "\n",
    "# Cargamos las librerias\n",
    "library(data.table)\n",
    "library(xts)\n",
    "library(dplyr)    # loads %>%\n",
    "library(readxl)"
   ]
  },
  {
   "cell_type": "markdown",
   "metadata": {},
   "source": [
    "## Carga Datos Calidad del aire 2001-2018"
   ]
  },
  {
   "cell_type": "code",
   "execution_count": 32,
   "metadata": {
    "collapsed": true
   },
   "outputs": [],
   "source": [
    "#Cargamos los datos de los anos en un dataset (utilziamos read.csv ya que el separador es,)\n",
    "data2001<- read.csv(file = \"data/madrid_2001.csv\",header = TRUE);\n",
    "data2002<- read.csv(file = \"data/madrid_2002.csv\",header = TRUE);\n",
    "data2003<- read.csv(file = \"data/madrid_2003.csv\",header = TRUE);\n",
    "data2004<- read.csv(file = \"data/madrid_2004.csv\",header = TRUE);\n",
    "data2005<- read.csv(file = \"data/madrid_2005.csv\",header = TRUE);\n",
    "data2006<- read.csv(file = \"data/madrid_2006.csv\",header = TRUE);\n",
    "data2007<- read.csv(file = \"data/madrid_2007.csv\",header = TRUE);\n",
    "data2008<- read.csv(file = \"data/madrid_2008.csv\",header = TRUE);\n",
    "data2009<- read.csv(file = \"data/madrid_2009.csv\",header = TRUE);\n",
    "data2010<- read.csv(file = \"data/madrid_2010.csv\",header = TRUE);\n",
    "data2011<- read.csv(file = \"data/madrid_2011.csv\",header = TRUE);\n",
    "data2012<- read.csv(file = \"data/madrid_2012.csv\",header = TRUE);\n",
    "data2013<- read.csv(file = \"data/madrid_2013.csv\",header = TRUE);\n",
    "data2014<- read.csv(file = \"data/madrid_2014.csv\",header = TRUE);\n",
    "data2015<- read.csv(file = \"data/madrid_2015.csv\",header = TRUE);\n",
    "data2016<- read.csv(file = \"data/madrid_2016.csv\",header = TRUE);\n",
    "data2017<- read.csv(file = \"data/madrid_2017.csv\",header = TRUE);\n",
    "data2018<- read.csv(file = \"data/madrid_2018.csv\",header = TRUE);"
   ]
  },
  {
   "cell_type": "code",
   "execution_count": 33,
   "metadata": {
    "collapsed": true
   },
   "outputs": [],
   "source": [
    "#unimos los datos en una lista para luego introducirla en un dataset\n",
    "data <- data.table::rbindlist(list(data2001,data2002,data2003,data2004,data2005,data2006,data2007,data2008,data2009,data2010,data2011,data2012,\n",
    "data2013,data2014,data2015,data2016,data2017,data2018), fill = TRUE);\n",
    "datasetMadrid <- as.data.frame(data); "
   ]
  },
  {
   "cell_type": "code",
   "execution_count": 34,
   "metadata": {},
   "outputs": [
    {
     "data": {
      "text/html": [
       "<table>\n",
       "<thead><tr><th scope=col>date</th><th scope=col>BEN</th><th scope=col>CO</th><th scope=col>EBE</th><th scope=col>MXY</th><th scope=col>NMHC</th><th scope=col>NO_2</th><th scope=col>NOx</th><th scope=col>OXY</th><th scope=col>O_3</th><th scope=col>PM10</th><th scope=col>PXY</th><th scope=col>SO_2</th><th scope=col>TCH</th><th scope=col>TOL</th><th scope=col>station</th><th scope=col>PM25</th><th scope=col>NO</th><th scope=col>CH4</th></tr></thead>\n",
       "<tbody>\n",
       "\t<tr><td>2001-08-01 01:00:00</td><td>  NA               </td><td>0,37               </td><td>  NA               </td><td>  NA               </td><td>  NA               </td><td>58,40              </td><td> 87,15             </td><td>  NA               </td><td>34,53              </td><td>105,00             </td><td>  NA               </td><td>6,34               </td><td>  NA               </td><td>   NA              </td><td>28079001           </td><td>NA                 </td><td>NA                 </td><td>NA                 </td></tr>\n",
       "\t<tr><td>2001-08-01 01:00:00</td><td>1,50               </td><td>0,34               </td><td>1,49               </td><td>4,10               </td><td>0,07               </td><td>56,25              </td><td> 75,17             </td><td>2,11               </td><td>42,16              </td><td>100,60             </td><td>1,73               </td><td>8,11               </td><td>1,24               </td><td>10,82              </td><td>28079035           </td><td>NA                 </td><td>NA                 </td><td>NA                 </td></tr>\n",
       "\t<tr><td>2001-08-01 01:00:00</td><td>  NA               </td><td>0,28               </td><td>  NA               </td><td>  NA               </td><td>  NA               </td><td>50,66              </td><td> 61,38             </td><td>  NA               </td><td>46,31              </td><td>100,10             </td><td>  NA               </td><td>7,85               </td><td>  NA               </td><td>   NA              </td><td>28079003           </td><td>NA                 </td><td>NA                 </td><td>NA                 </td></tr>\n",
       "\t<tr><td>2001-08-01 01:00:00</td><td>  NA               </td><td>0,47               </td><td>  NA               </td><td>  NA               </td><td>  NA               </td><td>69,79              </td><td> 73,45             </td><td>  NA               </td><td>40,65              </td><td> 69,78             </td><td>  NA               </td><td>6,46               </td><td>  NA               </td><td>   NA              </td><td>28079004           </td><td>NA                 </td><td>NA                 </td><td>NA                 </td></tr>\n",
       "\t<tr><td>2001-08-01 01:00:00</td><td>  NA               </td><td>0,39               </td><td>  NA               </td><td>  NA               </td><td>  NA               </td><td>22,83              </td><td> 24,80             </td><td>  NA               </td><td>66,31              </td><td> 75,18             </td><td>  NA               </td><td>8,80               </td><td>  NA               </td><td>   NA              </td><td>28079039           </td><td>NA                 </td><td>NA                 </td><td>NA                 </td></tr>\n",
       "\t<tr><td>2001-08-01 01:00:00</td><td>2,11               </td><td>0,63               </td><td>2,48               </td><td>5,94               </td><td>0,05               </td><td>66,26              </td><td>118,10             </td><td>3,15               </td><td>33,50              </td><td>122,70             </td><td>2,29               </td><td>6,36               </td><td>1,23               </td><td>13,28              </td><td>28079006           </td><td>NA                 </td><td>NA                 </td><td>NA                 </td></tr>\n",
       "</tbody>\n",
       "</table>\n"
      ],
      "text/latex": [
       "\\begin{tabular}{r|lllllllllllllllllll}\n",
       " date & BEN & CO & EBE & MXY & NMHC & NO\\_2 & NOx & OXY & O\\_3 & PM10 & PXY & SO\\_2 & TCH & TOL & station & PM25 & NO & CH4\\\\\n",
       "\\hline\n",
       "\t 2001-08-01 01:00:00 &   NA                & 0,37                &   NA                &   NA                &   NA                & 58,40               &  87,15              &   NA                & 34,53               & 105,00              &   NA                & 6,34                &   NA                &    NA               & 28079001            & NA                  & NA                  & NA                 \\\\\n",
       "\t 2001-08-01 01:00:00 & 1,50                & 0,34                & 1,49                & 4,10                & 0,07                & 56,25               &  75,17              & 2,11                & 42,16               & 100,60              & 1,73                & 8,11                & 1,24                & 10,82               & 28079035            & NA                  & NA                  & NA                 \\\\\n",
       "\t 2001-08-01 01:00:00 &   NA                & 0,28                &   NA                &   NA                &   NA                & 50,66               &  61,38              &   NA                & 46,31               & 100,10              &   NA                & 7,85                &   NA                &    NA               & 28079003            & NA                  & NA                  & NA                 \\\\\n",
       "\t 2001-08-01 01:00:00 &   NA                & 0,47                &   NA                &   NA                &   NA                & 69,79               &  73,45              &   NA                & 40,65               &  69,78              &   NA                & 6,46                &   NA                &    NA               & 28079004            & NA                  & NA                  & NA                 \\\\\n",
       "\t 2001-08-01 01:00:00 &   NA                & 0,39                &   NA                &   NA                &   NA                & 22,83               &  24,80              &   NA                & 66,31               &  75,18              &   NA                & 8,80                &   NA                &    NA               & 28079039            & NA                  & NA                  & NA                 \\\\\n",
       "\t 2001-08-01 01:00:00 & 2,11                & 0,63                & 2,48                & 5,94                & 0,05                & 66,26               & 118,10              & 3,15                & 33,50               & 122,70              & 2,29                & 6,36                & 1,23                & 13,28               & 28079006            & NA                  & NA                  & NA                 \\\\\n",
       "\\end{tabular}\n"
      ],
      "text/markdown": [
       "\n",
       "date | BEN | CO | EBE | MXY | NMHC | NO_2 | NOx | OXY | O_3 | PM10 | PXY | SO_2 | TCH | TOL | station | PM25 | NO | CH4 | \n",
       "|---|---|---|---|---|---|\n",
       "| 2001-08-01 01:00:00 |   NA                | 0,37                |   NA                |   NA                |   NA                | 58,40               |  87,15              |   NA                | 34,53               | 105,00              |   NA                | 6,34                |   NA                |    NA               | 28079001            | NA                  | NA                  | NA                  | \n",
       "| 2001-08-01 01:00:00 | 1,50                | 0,34                | 1,49                | 4,10                | 0,07                | 56,25               |  75,17              | 2,11                | 42,16               | 100,60              | 1,73                | 8,11                | 1,24                | 10,82               | 28079035            | NA                  | NA                  | NA                  | \n",
       "| 2001-08-01 01:00:00 |   NA                | 0,28                |   NA                |   NA                |   NA                | 50,66               |  61,38              |   NA                | 46,31               | 100,10              |   NA                | 7,85                |   NA                |    NA               | 28079003            | NA                  | NA                  | NA                  | \n",
       "| 2001-08-01 01:00:00 |   NA                | 0,47                |   NA                |   NA                |   NA                | 69,79               |  73,45              |   NA                | 40,65               |  69,78              |   NA                | 6,46                |   NA                |    NA               | 28079004            | NA                  | NA                  | NA                  | \n",
       "| 2001-08-01 01:00:00 |   NA                | 0,39                |   NA                |   NA                |   NA                | 22,83               |  24,80              |   NA                | 66,31               |  75,18              |   NA                | 8,80                |   NA                |    NA               | 28079039            | NA                  | NA                  | NA                  | \n",
       "| 2001-08-01 01:00:00 | 2,11                | 0,63                | 2,48                | 5,94                | 0,05                | 66,26               | 118,10              | 3,15                | 33,50               | 122,70              | 2,29                | 6,36                | 1,23                | 13,28               | 28079006            | NA                  | NA                  | NA                  | \n",
       "\n",
       "\n"
      ],
      "text/plain": [
       "  date                BEN  CO   EBE  MXY  NMHC NO_2  NOx    OXY  O_3   PM10  \n",
       "1 2001-08-01 01:00:00   NA 0,37   NA   NA   NA 58,40  87,15   NA 34,53 105,00\n",
       "2 2001-08-01 01:00:00 1,50 0,34 1,49 4,10 0,07 56,25  75,17 2,11 42,16 100,60\n",
       "3 2001-08-01 01:00:00   NA 0,28   NA   NA   NA 50,66  61,38   NA 46,31 100,10\n",
       "4 2001-08-01 01:00:00   NA 0,47   NA   NA   NA 69,79  73,45   NA 40,65  69,78\n",
       "5 2001-08-01 01:00:00   NA 0,39   NA   NA   NA 22,83  24,80   NA 66,31  75,18\n",
       "6 2001-08-01 01:00:00 2,11 0,63 2,48 5,94 0,05 66,26 118,10 3,15 33,50 122,70\n",
       "  PXY  SO_2 TCH  TOL   station  PM25 NO CH4\n",
       "1   NA 6,34   NA    NA 28079001 NA   NA NA \n",
       "2 1,73 8,11 1,24 10,82 28079035 NA   NA NA \n",
       "3   NA 7,85   NA    NA 28079003 NA   NA NA \n",
       "4   NA 6,46   NA    NA 28079004 NA   NA NA \n",
       "5   NA 8,80   NA    NA 28079039 NA   NA NA \n",
       "6 2,29 6,36 1,23 13,28 28079006 NA   NA NA "
      ]
     },
     "metadata": {},
     "output_type": "display_data"
    }
   ],
   "source": [
    "##observamos que todos los datos se han unido, aplicando head y tail al dataset para ver cuando empiezan y acaban fechas\n",
    "head(datasetMadrid)"
   ]
  },
  {
   "cell_type": "code",
   "execution_count": 35,
   "metadata": {},
   "outputs": [
    {
     "data": {
      "text/html": [
       "<table>\n",
       "<thead><tr><th></th><th scope=col>date</th><th scope=col>BEN</th><th scope=col>CO</th><th scope=col>EBE</th><th scope=col>MXY</th><th scope=col>NMHC</th><th scope=col>NO_2</th><th scope=col>NOx</th><th scope=col>OXY</th><th scope=col>O_3</th><th scope=col>PM10</th><th scope=col>PXY</th><th scope=col>SO_2</th><th scope=col>TCH</th><th scope=col>TOL</th><th scope=col>station</th><th scope=col>PM25</th><th scope=col>NO</th><th scope=col>CH4</th></tr></thead>\n",
       "<tbody>\n",
       "\t<tr><th scope=row>3808219</th><td>2018-02-01 00:00:00</td><td>1,3                </td><td> NA                </td><td>1,2                </td><td>NA                 </td><td>0,13               </td><td> 94                </td><td>190                </td><td>NA                 </td><td>NA                 </td><td>35                 </td><td>NA                 </td><td>NA                 </td><td>1,68               </td><td>5,2                </td><td>28079055           </td><td>NA                 </td><td> 63                </td><td>1,55               </td></tr>\n",
       "\t<tr><th scope=row>3808220</th><td>2018-02-01 00:00:00</td><td> NA                </td><td>0,5                </td><td> NA                </td><td>NA                 </td><td>  NA               </td><td> 91                </td><td>192                </td><td>NA                 </td><td> 1                 </td><td>35                 </td><td>NA                 </td><td>NA                 </td><td>  NA               </td><td> NA                </td><td>28079056           </td><td>22                 </td><td> 66                </td><td>  NA               </td></tr>\n",
       "\t<tr><th scope=row>3808221</th><td>2018-02-01 00:00:00</td><td> NA                </td><td>0,7                </td><td> NA                </td><td>NA                 </td><td>  NA               </td><td>107                </td><td>241                </td><td>NA                 </td><td>NA                 </td><td>29                 </td><td>NA                 </td><td>15                 </td><td>  NA               </td><td> NA                </td><td>28079057           </td><td>NA                 </td><td> 87                </td><td>  NA               </td></tr>\n",
       "\t<tr><th scope=row>3808222</th><td>2018-02-01 00:00:00</td><td> NA                </td><td> NA                </td><td> NA                </td><td>NA                 </td><td>  NA               </td><td> 48                </td><td> 91                </td><td>NA                 </td><td> 2                 </td><td>NA                 </td><td>NA                 </td><td>NA                 </td><td>  NA               </td><td> NA                </td><td>28079058           </td><td>NA                 </td><td> 28                </td><td>  NA               </td></tr>\n",
       "\t<tr><th scope=row>3808223</th><td>2018-02-01 00:00:00</td><td> NA                </td><td> NA                </td><td> NA                </td><td>NA                 </td><td>  NA               </td><td>103                </td><td>320                </td><td>NA                 </td><td> 2                 </td><td>NA                 </td><td>NA                 </td><td>NA                 </td><td>  NA               </td><td> NA                </td><td>28079059           </td><td>NA                 </td><td>141                </td><td>  NA               </td></tr>\n",
       "\t<tr><th scope=row>3808224</th><td>2018-02-01 00:00:00</td><td> NA                </td><td> NA                </td><td> NA                </td><td>NA                 </td><td>  NA               </td><td> 96                </td><td>202                </td><td>NA                 </td><td> 3                 </td><td>26                 </td><td>NA                 </td><td>NA                 </td><td>  NA               </td><td> NA                </td><td>28079060           </td><td>NA                 </td><td> 69                </td><td>  NA               </td></tr>\n",
       "</tbody>\n",
       "</table>\n"
      ],
      "text/latex": [
       "\\begin{tabular}{r|lllllllllllllllllll}\n",
       "  & date & BEN & CO & EBE & MXY & NMHC & NO\\_2 & NOx & OXY & O\\_3 & PM10 & PXY & SO\\_2 & TCH & TOL & station & PM25 & NO & CH4\\\\\n",
       "\\hline\n",
       "\t3808219 & 2018-02-01 00:00:00 & 1,3                 &  NA                 & 1,2                 & NA                  & 0,13                &  94                 & 190                 & NA                  & NA                  & 35                  & NA                  & NA                  & 1,68                & 5,2                 & 28079055            & NA                  &  63                 & 1,55               \\\\\n",
       "\t3808220 & 2018-02-01 00:00:00 &  NA                 & 0,5                 &  NA                 & NA                  &   NA                &  91                 & 192                 & NA                  &  1                  & 35                  & NA                  & NA                  &   NA                &  NA                 & 28079056            & 22                  &  66                 &   NA               \\\\\n",
       "\t3808221 & 2018-02-01 00:00:00 &  NA                 & 0,7                 &  NA                 & NA                  &   NA                & 107                 & 241                 & NA                  & NA                  & 29                  & NA                  & 15                  &   NA                &  NA                 & 28079057            & NA                  &  87                 &   NA               \\\\\n",
       "\t3808222 & 2018-02-01 00:00:00 &  NA                 &  NA                 &  NA                 & NA                  &   NA                &  48                 &  91                 & NA                  &  2                  & NA                  & NA                  & NA                  &   NA                &  NA                 & 28079058            & NA                  &  28                 &   NA               \\\\\n",
       "\t3808223 & 2018-02-01 00:00:00 &  NA                 &  NA                 &  NA                 & NA                  &   NA                & 103                 & 320                 & NA                  &  2                  & NA                  & NA                  & NA                  &   NA                &  NA                 & 28079059            & NA                  & 141                 &   NA               \\\\\n",
       "\t3808224 & 2018-02-01 00:00:00 &  NA                 &  NA                 &  NA                 & NA                  &   NA                &  96                 & 202                 & NA                  &  3                  & 26                  & NA                  & NA                  &   NA                &  NA                 & 28079060            & NA                  &  69                 &   NA               \\\\\n",
       "\\end{tabular}\n"
      ],
      "text/markdown": [
       "\n",
       "| <!--/--> | date | BEN | CO | EBE | MXY | NMHC | NO_2 | NOx | OXY | O_3 | PM10 | PXY | SO_2 | TCH | TOL | station | PM25 | NO | CH4 | \n",
       "|---|---|---|---|---|---|\n",
       "| 3808219 | 2018-02-01 00:00:00 | 1,3                 |  NA                 | 1,2                 | NA                  | 0,13                |  94                 | 190                 | NA                  | NA                  | 35                  | NA                  | NA                  | 1,68                | 5,2                 | 28079055            | NA                  |  63                 | 1,55                | \n",
       "| 3808220 | 2018-02-01 00:00:00 |  NA                 | 0,5                 |  NA                 | NA                  |   NA                |  91                 | 192                 | NA                  |  1                  | 35                  | NA                  | NA                  |   NA                |  NA                 | 28079056            | 22                  |  66                 |   NA                | \n",
       "| 3808221 | 2018-02-01 00:00:00 |  NA                 | 0,7                 |  NA                 | NA                  |   NA                | 107                 | 241                 | NA                  | NA                  | 29                  | NA                  | 15                  |   NA                |  NA                 | 28079057            | NA                  |  87                 |   NA                | \n",
       "| 3808222 | 2018-02-01 00:00:00 |  NA                 |  NA                 |  NA                 | NA                  |   NA                |  48                 |  91                 | NA                  |  2                  | NA                  | NA                  | NA                  |   NA                |  NA                 | 28079058            | NA                  |  28                 |   NA                | \n",
       "| 3808223 | 2018-02-01 00:00:00 |  NA                 |  NA                 |  NA                 | NA                  |   NA                | 103                 | 320                 | NA                  |  2                  | NA                  | NA                  | NA                  |   NA                |  NA                 | 28079059            | NA                  | 141                 |   NA                | \n",
       "| 3808224 | 2018-02-01 00:00:00 |  NA                 |  NA                 |  NA                 | NA                  |   NA                |  96                 | 202                 | NA                  |  3                  | 26                  | NA                  | NA                  |   NA                |  NA                 | 28079060            | NA                  |  69                 |   NA                | \n",
       "\n",
       "\n"
      ],
      "text/plain": [
       "        date                BEN CO  EBE MXY NMHC NO_2 NOx OXY O_3 PM10 PXY SO_2\n",
       "3808219 2018-02-01 00:00:00 1,3  NA 1,2 NA  0,13  94  190 NA  NA  35   NA  NA  \n",
       "3808220 2018-02-01 00:00:00  NA 0,5  NA NA    NA  91  192 NA   1  35   NA  NA  \n",
       "3808221 2018-02-01 00:00:00  NA 0,7  NA NA    NA 107  241 NA  NA  29   NA  15  \n",
       "3808222 2018-02-01 00:00:00  NA  NA  NA NA    NA  48   91 NA   2  NA   NA  NA  \n",
       "3808223 2018-02-01 00:00:00  NA  NA  NA NA    NA 103  320 NA   2  NA   NA  NA  \n",
       "3808224 2018-02-01 00:00:00  NA  NA  NA NA    NA  96  202 NA   3  26   NA  NA  \n",
       "        TCH  TOL station  PM25 NO  CH4 \n",
       "3808219 1,68 5,2 28079055 NA    63 1,55\n",
       "3808220   NA  NA 28079056 22    66   NA\n",
       "3808221   NA  NA 28079057 NA    87   NA\n",
       "3808222   NA  NA 28079058 NA    28   NA\n",
       "3808223   NA  NA 28079059 NA   141   NA\n",
       "3808224   NA  NA 28079060 NA    69   NA"
      ]
     },
     "metadata": {},
     "output_type": "display_data"
    }
   ],
   "source": [
    "tail(datasetMadrid)"
   ]
  },
  {
   "cell_type": "markdown",
   "metadata": {},
   "source": [
    "## Carga Datos Precipitaciones 2001-2018"
   ]
  },
  {
   "cell_type": "code",
   "execution_count": 36,
   "metadata": {
    "collapsed": true
   },
   "outputs": [],
   "source": [
    "#Cargamos los datos de las precipitaciones\n",
    "rainfall_2001<- readxl::read_xlsx(\"data/rainfall_2001.xlsx\",col_names = TRUE);\n",
    "rainfall_2002<- readxl::read_xlsx(\"data/rainfall_2002.xlsx\",col_names = TRUE);\n",
    "rainfall_2003<- readxl::read_xlsx(\"data/rainfall_2003.xlsx\",col_names = TRUE);\n",
    "rainfall_2004<- readxl::read_xlsx(\"data/rainfall_2004.xlsx\",col_names = TRUE);\n",
    "rainfall_2005<- readxl::read_xlsx(\"data/rainfall_2005.xlsx\",col_names = TRUE);\n",
    "rainfall_2006<- readxl::read_xlsx(\"data/rainfall_2006.xlsx\",col_names = TRUE);\n",
    "rainfall_2007<- readxl::read_xlsx(\"data/rainfall_2007.xlsx\",col_names = TRUE);\n",
    "rainfall_2008<- readxl::read_xlsx(\"data/rainfall_2008.xlsx\",col_names = TRUE);\n",
    "rainfall_2009<- readxl::read_xlsx(\"data/rainfall_2009.xlsx\",col_names = TRUE);\n",
    "rainfall_2010<- readxl::read_xlsx(\"data/rainfall_2010.xlsx\",col_names = TRUE);\n",
    "rainfall_2011<- readxl::read_xlsx(\"data/rainfall_2011.xlsx\",col_names = TRUE);\n",
    "rainfall_2012<- readxl::read_xlsx(\"data/rainfall_2012.xlsx\",col_names = TRUE);\n",
    "rainfall_2013<- readxl::read_xlsx(\"data/rainfall_2013.xlsx\",col_names = TRUE);\n",
    "rainfall_2014<- readxl::read_xlsx(\"data/rainfall_2014.xlsx\",col_names = TRUE);\n",
    "rainfall_2015<- readxl::read_xlsx(\"data/rainfall_2015.xlsx\",col_names = TRUE);\n",
    "rainfall_2016<- readxl::read_xlsx(\"data/rainfall_2016.xlsx\",col_names = TRUE);\n",
    "rainfall_2017<- readxl::read_xlsx(\"data/rainfall_2017.xlsx\",col_names = TRUE);\n",
    "rainfall_2018<- readxl::read_xlsx(\"data/rainfall_2018.xlsx\",col_names = TRUE);"
   ]
  },
  {
   "cell_type": "code",
   "execution_count": 37,
   "metadata": {
    "collapsed": true
   },
   "outputs": [],
   "source": [
    "rainfall <- data.table::rbindlist(list(rainfall_2001,rainfall_2002,rainfall_2003,rainfall_2004,\n",
    "              rainfall_2005,rainfall_2006,rainfall_2007,rainfall_2008,rainfall_2009,rainfall_2010,\n",
    "              rainfall_2011,rainfall_2012,rainfall_2013,rainfall_2014,rainfall_2015,rainfall_2016,\n",
    "rainfall_2017,rainfall_2018), fill = TRUE)\n",
    "datasetRainfall <- as.data.frame(rainfall);\n",
    "rm(rainfall)\n",
    "data.table::setnames(datasetRainfall, \"FECHA\", \"date\")\n",
    "data.table::setnames(datasetRainfall, \"Precipitación: l/m2\", \"l/m2\")"
   ]
  },
  {
   "cell_type": "code",
   "execution_count": 38,
   "metadata": {},
   "outputs": [
    {
     "data": {
      "text/html": [
       "<table>\n",
       "<thead><tr><th scope=col>date</th><th scope=col>l/m2</th></tr></thead>\n",
       "<tbody>\n",
       "\t<tr><td>2001-01-01</td><td>4.3       </td></tr>\n",
       "\t<tr><td>2001-01-02</td><td>0.1       </td></tr>\n",
       "\t<tr><td>2001-01-03</td><td>2.2       </td></tr>\n",
       "\t<tr><td>2001-01-04</td><td>2.4       </td></tr>\n",
       "\t<tr><td>2001-01-05</td><td>13.3      </td></tr>\n",
       "\t<tr><td>2001-01-06</td><td>0.0       </td></tr>\n",
       "</tbody>\n",
       "</table>\n"
      ],
      "text/latex": [
       "\\begin{tabular}{r|ll}\n",
       " date & l/m2\\\\\n",
       "\\hline\n",
       "\t 2001-01-01 & 4.3       \\\\\n",
       "\t 2001-01-02 & 0.1       \\\\\n",
       "\t 2001-01-03 & 2.2       \\\\\n",
       "\t 2001-01-04 & 2.4       \\\\\n",
       "\t 2001-01-05 & 13.3      \\\\\n",
       "\t 2001-01-06 & 0.0       \\\\\n",
       "\\end{tabular}\n"
      ],
      "text/markdown": [
       "\n",
       "date | l/m2 | \n",
       "|---|---|---|---|---|---|\n",
       "| 2001-01-01 | 4.3        | \n",
       "| 2001-01-02 | 0.1        | \n",
       "| 2001-01-03 | 2.2        | \n",
       "| 2001-01-04 | 2.4        | \n",
       "| 2001-01-05 | 13.3       | \n",
       "| 2001-01-06 | 0.0        | \n",
       "\n",
       "\n"
      ],
      "text/plain": [
       "  date       l/m2\n",
       "1 2001-01-01 4.3 \n",
       "2 2001-01-02 0.1 \n",
       "3 2001-01-03 2.2 \n",
       "4 2001-01-04 2.4 \n",
       "5 2001-01-05 13.3\n",
       "6 2001-01-06 0.0 "
      ]
     },
     "metadata": {},
     "output_type": "display_data"
    }
   ],
   "source": [
    "##observamos que todos los datos se han unido, aplicando head y tail al dataset para ver cuando empiezan y acaban fechas\n",
    "head(datasetRainfall)"
   ]
  },
  {
   "cell_type": "code",
   "execution_count": 39,
   "metadata": {},
   "outputs": [
    {
     "data": {
      "text/html": [
       "<table>\n",
       "<thead><tr><th></th><th scope=col>date</th><th scope=col>l/m2</th></tr></thead>\n",
       "<tbody>\n",
       "\t<tr><th scope=row>5933</th><td>2018-12-26</td><td>0         </td></tr>\n",
       "\t<tr><th scope=row>5934</th><td>2018-12-27</td><td>0         </td></tr>\n",
       "\t<tr><th scope=row>5935</th><td>2018-12-28</td><td>0         </td></tr>\n",
       "\t<tr><th scope=row>5936</th><td>2018-12-29</td><td>0         </td></tr>\n",
       "\t<tr><th scope=row>5937</th><td>2018-12-30</td><td>0         </td></tr>\n",
       "\t<tr><th scope=row>5938</th><td>2018-12-31</td><td>0         </td></tr>\n",
       "</tbody>\n",
       "</table>\n"
      ],
      "text/latex": [
       "\\begin{tabular}{r|ll}\n",
       "  & date & l/m2\\\\\n",
       "\\hline\n",
       "\t5933 & 2018-12-26 & 0         \\\\\n",
       "\t5934 & 2018-12-27 & 0         \\\\\n",
       "\t5935 & 2018-12-28 & 0         \\\\\n",
       "\t5936 & 2018-12-29 & 0         \\\\\n",
       "\t5937 & 2018-12-30 & 0         \\\\\n",
       "\t5938 & 2018-12-31 & 0         \\\\\n",
       "\\end{tabular}\n"
      ],
      "text/markdown": [
       "\n",
       "| <!--/--> | date | l/m2 | \n",
       "|---|---|---|---|---|---|\n",
       "| 5933 | 2018-12-26 | 0          | \n",
       "| 5934 | 2018-12-27 | 0          | \n",
       "| 5935 | 2018-12-28 | 0          | \n",
       "| 5936 | 2018-12-29 | 0          | \n",
       "| 5937 | 2018-12-30 | 0          | \n",
       "| 5938 | 2018-12-31 | 0          | \n",
       "\n",
       "\n"
      ],
      "text/plain": [
       "     date       l/m2\n",
       "5933 2018-12-26 0   \n",
       "5934 2018-12-27 0   \n",
       "5935 2018-12-28 0   \n",
       "5936 2018-12-29 0   \n",
       "5937 2018-12-30 0   \n",
       "5938 2018-12-31 0   "
      ]
     },
     "metadata": {},
     "output_type": "display_data"
    }
   ],
   "source": [
    "tail(datasetRainfall)"
   ]
  },
  {
   "cell_type": "code",
   "execution_count": 40,
   "metadata": {
    "collapsed": true
   },
   "outputs": [],
   "source": [
    "#Liberamos memoria de los datos \n",
    "rm(list=ls(pat=\"20\"))\n",
    "rm(data)"
   ]
  },
  {
   "cell_type": "markdown",
   "metadata": {},
   "source": [
    "## Limpieza de datos"
   ]
  },
  {
   "cell_type": "markdown",
   "metadata": {},
   "source": [
    "Primero debemos tranformar los NaN en NA para obtener los datos que puedens er utilizados"
   ]
  },
  {
   "cell_type": "code",
   "execution_count": 41,
   "metadata": {},
   "outputs": [
    {
     "data": {
      "text/html": [
       "<table>\n",
       "<thead><tr><th></th><th scope=col>date</th><th scope=col>BEN</th><th scope=col>CO</th><th scope=col>EBE</th><th scope=col>MXY</th><th scope=col>NMHC</th><th scope=col>NO_2</th><th scope=col>NOx</th><th scope=col>OXY</th><th scope=col>O_3</th><th scope=col>PM10</th><th scope=col>PXY</th><th scope=col>SO_2</th><th scope=col>TCH</th><th scope=col>TOL</th><th scope=col>station</th><th scope=col>PM25</th><th scope=col>NO</th><th scope=col>CH4</th></tr></thead>\n",
       "<tbody>\n",
       "\t<tr><th scope=row>3808219</th><td>2018-02-01 00:00:00</td><td>1,3                </td><td> NA                </td><td>1,2                </td><td>NA                 </td><td>0,13               </td><td> 94                </td><td>190                </td><td>NA                 </td><td>NA                 </td><td>35                 </td><td>NA                 </td><td>NA                 </td><td>1,68               </td><td>5,2                </td><td>28079055           </td><td>NA                 </td><td> 63                </td><td>1,55               </td></tr>\n",
       "\t<tr><th scope=row>3808220</th><td>2018-02-01 00:00:00</td><td> NA                </td><td>0,5                </td><td> NA                </td><td>NA                 </td><td>  NA               </td><td> 91                </td><td>192                </td><td>NA                 </td><td> 1                 </td><td>35                 </td><td>NA                 </td><td>NA                 </td><td>  NA               </td><td> NA                </td><td>28079056           </td><td>22                 </td><td> 66                </td><td>  NA               </td></tr>\n",
       "\t<tr><th scope=row>3808221</th><td>2018-02-01 00:00:00</td><td> NA                </td><td>0,7                </td><td> NA                </td><td>NA                 </td><td>  NA               </td><td>107                </td><td>241                </td><td>NA                 </td><td>NA                 </td><td>29                 </td><td>NA                 </td><td>15                 </td><td>  NA               </td><td> NA                </td><td>28079057           </td><td>NA                 </td><td> 87                </td><td>  NA               </td></tr>\n",
       "\t<tr><th scope=row>3808222</th><td>2018-02-01 00:00:00</td><td> NA                </td><td> NA                </td><td> NA                </td><td>NA                 </td><td>  NA               </td><td> 48                </td><td> 91                </td><td>NA                 </td><td> 2                 </td><td>NA                 </td><td>NA                 </td><td>NA                 </td><td>  NA               </td><td> NA                </td><td>28079058           </td><td>NA                 </td><td> 28                </td><td>  NA               </td></tr>\n",
       "\t<tr><th scope=row>3808223</th><td>2018-02-01 00:00:00</td><td> NA                </td><td> NA                </td><td> NA                </td><td>NA                 </td><td>  NA               </td><td>103                </td><td>320                </td><td>NA                 </td><td> 2                 </td><td>NA                 </td><td>NA                 </td><td>NA                 </td><td>  NA               </td><td> NA                </td><td>28079059           </td><td>NA                 </td><td>141                </td><td>  NA               </td></tr>\n",
       "\t<tr><th scope=row>3808224</th><td>2018-02-01 00:00:00</td><td> NA                </td><td> NA                </td><td> NA                </td><td>NA                 </td><td>  NA               </td><td> 96                </td><td>202                </td><td>NA                 </td><td> 3                 </td><td>26                 </td><td>NA                 </td><td>NA                 </td><td>  NA               </td><td> NA                </td><td>28079060           </td><td>NA                 </td><td> 69                </td><td>  NA               </td></tr>\n",
       "</tbody>\n",
       "</table>\n"
      ],
      "text/latex": [
       "\\begin{tabular}{r|lllllllllllllllllll}\n",
       "  & date & BEN & CO & EBE & MXY & NMHC & NO\\_2 & NOx & OXY & O\\_3 & PM10 & PXY & SO\\_2 & TCH & TOL & station & PM25 & NO & CH4\\\\\n",
       "\\hline\n",
       "\t3808219 & 2018-02-01 00:00:00 & 1,3                 &  NA                 & 1,2                 & NA                  & 0,13                &  94                 & 190                 & NA                  & NA                  & 35                  & NA                  & NA                  & 1,68                & 5,2                 & 28079055            & NA                  &  63                 & 1,55               \\\\\n",
       "\t3808220 & 2018-02-01 00:00:00 &  NA                 & 0,5                 &  NA                 & NA                  &   NA                &  91                 & 192                 & NA                  &  1                  & 35                  & NA                  & NA                  &   NA                &  NA                 & 28079056            & 22                  &  66                 &   NA               \\\\\n",
       "\t3808221 & 2018-02-01 00:00:00 &  NA                 & 0,7                 &  NA                 & NA                  &   NA                & 107                 & 241                 & NA                  & NA                  & 29                  & NA                  & 15                  &   NA                &  NA                 & 28079057            & NA                  &  87                 &   NA               \\\\\n",
       "\t3808222 & 2018-02-01 00:00:00 &  NA                 &  NA                 &  NA                 & NA                  &   NA                &  48                 &  91                 & NA                  &  2                  & NA                  & NA                  & NA                  &   NA                &  NA                 & 28079058            & NA                  &  28                 &   NA               \\\\\n",
       "\t3808223 & 2018-02-01 00:00:00 &  NA                 &  NA                 &  NA                 & NA                  &   NA                & 103                 & 320                 & NA                  &  2                  & NA                  & NA                  & NA                  &   NA                &  NA                 & 28079059            & NA                  & 141                 &   NA               \\\\\n",
       "\t3808224 & 2018-02-01 00:00:00 &  NA                 &  NA                 &  NA                 & NA                  &   NA                &  96                 & 202                 & NA                  &  3                  & 26                  & NA                  & NA                  &   NA                &  NA                 & 28079060            & NA                  &  69                 &   NA               \\\\\n",
       "\\end{tabular}\n"
      ],
      "text/markdown": [
       "\n",
       "| <!--/--> | date | BEN | CO | EBE | MXY | NMHC | NO_2 | NOx | OXY | O_3 | PM10 | PXY | SO_2 | TCH | TOL | station | PM25 | NO | CH4 | \n",
       "|---|---|---|---|---|---|\n",
       "| 3808219 | 2018-02-01 00:00:00 | 1,3                 |  NA                 | 1,2                 | NA                  | 0,13                |  94                 | 190                 | NA                  | NA                  | 35                  | NA                  | NA                  | 1,68                | 5,2                 | 28079055            | NA                  |  63                 | 1,55                | \n",
       "| 3808220 | 2018-02-01 00:00:00 |  NA                 | 0,5                 |  NA                 | NA                  |   NA                |  91                 | 192                 | NA                  |  1                  | 35                  | NA                  | NA                  |   NA                |  NA                 | 28079056            | 22                  |  66                 |   NA                | \n",
       "| 3808221 | 2018-02-01 00:00:00 |  NA                 | 0,7                 |  NA                 | NA                  |   NA                | 107                 | 241                 | NA                  | NA                  | 29                  | NA                  | 15                  |   NA                |  NA                 | 28079057            | NA                  |  87                 |   NA                | \n",
       "| 3808222 | 2018-02-01 00:00:00 |  NA                 |  NA                 |  NA                 | NA                  |   NA                |  48                 |  91                 | NA                  |  2                  | NA                  | NA                  | NA                  |   NA                |  NA                 | 28079058            | NA                  |  28                 |   NA                | \n",
       "| 3808223 | 2018-02-01 00:00:00 |  NA                 |  NA                 |  NA                 | NA                  |   NA                | 103                 | 320                 | NA                  |  2                  | NA                  | NA                  | NA                  |   NA                |  NA                 | 28079059            | NA                  | 141                 |   NA                | \n",
       "| 3808224 | 2018-02-01 00:00:00 |  NA                 |  NA                 |  NA                 | NA                  |   NA                |  96                 | 202                 | NA                  |  3                  | 26                  | NA                  | NA                  |   NA                |  NA                 | 28079060            | NA                  |  69                 |   NA                | \n",
       "\n",
       "\n"
      ],
      "text/plain": [
       "        date                BEN CO  EBE MXY NMHC NO_2 NOx OXY O_3 PM10 PXY SO_2\n",
       "3808219 2018-02-01 00:00:00 1,3  NA 1,2 NA  0,13  94  190 NA  NA  35   NA  NA  \n",
       "3808220 2018-02-01 00:00:00  NA 0,5  NA NA    NA  91  192 NA   1  35   NA  NA  \n",
       "3808221 2018-02-01 00:00:00  NA 0,7  NA NA    NA 107  241 NA  NA  29   NA  15  \n",
       "3808222 2018-02-01 00:00:00  NA  NA  NA NA    NA  48   91 NA   2  NA   NA  NA  \n",
       "3808223 2018-02-01 00:00:00  NA  NA  NA NA    NA 103  320 NA   2  NA   NA  NA  \n",
       "3808224 2018-02-01 00:00:00  NA  NA  NA NA    NA  96  202 NA   3  26   NA  NA  \n",
       "        TCH  TOL station  PM25 NO  CH4 \n",
       "3808219 1,68 5,2 28079055 NA    63 1,55\n",
       "3808220   NA  NA 28079056 22    66   NA\n",
       "3808221   NA  NA 28079057 NA    87   NA\n",
       "3808222   NA  NA 28079058 NA    28   NA\n",
       "3808223   NA  NA 28079059 NA   141   NA\n",
       "3808224   NA  NA 28079060 NA    69   NA"
      ]
     },
     "metadata": {},
     "output_type": "display_data"
    }
   ],
   "source": [
    "is.nan.data.frame <- function(x)\n",
    "    do.call(cbind,lapply(x,is.nan))\n",
    "datasetMadrid <- as.data.frame(datasetMadrid)\n",
    "datasetMadrid[is.nan(datasetMadrid)] <- NA\n",
    "tail(datasetMadrid)"
   ]
  },
  {
   "cell_type": "code",
   "execution_count": 42,
   "metadata": {},
   "outputs": [
    {
     "data": {
      "text/html": [
       "<dl class=dl-horizontal>\n",
       "\t<dt>BEN</dt>\n",
       "\t\t<dd>72,6464619728251</dd>\n",
       "\t<dt>CO</dt>\n",
       "\t\t<dd>30,3871831068761</dd>\n",
       "\t<dt>EBE</dt>\n",
       "\t\t<dd>73,6957699967229</dd>\n",
       "\t<dt>MXY</dt>\n",
       "\t\t<dd>91,7175302713286</dd>\n",
       "\t<dt>NMHC</dt>\n",
       "\t\t<dd>71,5008360852723</dd>\n",
       "\t<dt>NO_2</dt>\n",
       "\t\t<dd>0,556007209659936</dd>\n",
       "\t<dt>NOx</dt>\n",
       "\t\t<dd>37,6014908786878</dd>\n",
       "\t<dt>OXY</dt>\n",
       "\t\t<dd>91,7101777626526</dd>\n",
       "\t<dt>O_3</dt>\n",
       "\t\t<dd>21,4402304066147</dd>\n",
       "\t<dt>PM10</dt>\n",
       "\t\t<dd>24,8664206727335</dd>\n",
       "\t<dt>PXY</dt>\n",
       "\t\t<dd>91,7130925071634</dd>\n",
       "\t<dt>SO_2</dt>\n",
       "\t\t<dd>27,1061786281479</dd>\n",
       "\t<dt>TCH</dt>\n",
       "\t\t<dd>71,4711897199324</dd>\n",
       "\t<dt>TOL</dt>\n",
       "\t\t<dd>72,7188054064047</dd>\n",
       "\t<dt>PM25</dt>\n",
       "\t\t<dd>78,5615552026351</dd>\n",
       "\t<dt>NO</dt>\n",
       "\t\t<dd>59,7608491517306</dd>\n",
       "\t<dt>CH4</dt>\n",
       "\t\t<dd>99,6100544505785</dd>\n",
       "</dl>\n"
      ],
      "text/latex": [
       "\\begin{description*}\n",
       "\\item[BEN] 72,6464619728251\n",
       "\\item[CO] 30,3871831068761\n",
       "\\item[EBE] 73,6957699967229\n",
       "\\item[MXY] 91,7175302713286\n",
       "\\item[NMHC] 71,5008360852723\n",
       "\\item[NO\\textbackslash{}\\_2] 0,556007209659936\n",
       "\\item[NOx] 37,6014908786878\n",
       "\\item[OXY] 91,7101777626526\n",
       "\\item[O\\textbackslash{}\\_3] 21,4402304066147\n",
       "\\item[PM10] 24,8664206727335\n",
       "\\item[PXY] 91,7130925071634\n",
       "\\item[SO\\textbackslash{}\\_2] 27,1061786281479\n",
       "\\item[TCH] 71,4711897199324\n",
       "\\item[TOL] 72,7188054064047\n",
       "\\item[PM25] 78,5615552026351\n",
       "\\item[NO] 59,7608491517306\n",
       "\\item[CH4] 99,6100544505785\n",
       "\\end{description*}\n"
      ],
      "text/markdown": [
       "BEN\n",
       ":   72,6464619728251CO\n",
       ":   30,3871831068761EBE\n",
       ":   73,6957699967229MXY\n",
       ":   91,7175302713286NMHC\n",
       ":   71,5008360852723NO_2\n",
       ":   0,556007209659936NOx\n",
       ":   37,6014908786878OXY\n",
       ":   91,7101777626526O_3\n",
       ":   21,4402304066147PM10\n",
       ":   24,8664206727335PXY\n",
       ":   91,7130925071634SO_2\n",
       ":   27,1061786281479TCH\n",
       ":   71,4711897199324TOL\n",
       ":   72,7188054064047PM25\n",
       ":   78,5615552026351NO\n",
       ":   59,7608491517306CH4\n",
       ":   99,6100544505785\n",
       "\n"
      ],
      "text/plain": [
       "       BEN         CO        EBE        MXY       NMHC       NO_2        NOx \n",
       "72,6464620 30,3871831 73,6957700 91,7175303 71,5008361  0,5560072 37,6014909 \n",
       "       OXY        O_3       PM10        PXY       SO_2        TCH        TOL \n",
       "91,7101778 21,4402304 24,8664207 91,7130925 27,1061786 71,4711897 72,7188054 \n",
       "      PM25         NO        CH4 \n",
       "78,5615552 59,7608492 99,6100545 "
      ]
     },
     "metadata": {},
     "output_type": "display_data"
    }
   ],
   "source": [
    "#Limpieza de datos datasetMadrid\n",
    "#1) Calculamos el porcenje de NA para descartar aquellas columnas cuyo porcentage sea muy alto\n",
    "naPerColumn <- colSums(is.na(datasetMadrid))\n",
    "#2) Todos los gases tienen al menos un NA por , tanto, estudiamos gases a descartar, para ello\n",
    "#quitamos los demás parámetros\n",
    "percentageNA <- naPerColumn/nrow(datasetMadrid) *100\n",
    "percentageNA <- percentageNA[percentageNA > 0]\n",
    "percentageNA"
   ]
  },
  {
   "cell_type": "code",
   "execution_count": 43,
   "metadata": {},
   "outputs": [
    {
     "data": {
      "image/png": "[encoded data removed]",
      "text/plain": [
       "Plot with title “Percentage of NA”"
      ]
     },
     "metadata": {},
     "output_type": "display_data"
    }
   ],
   "source": [
    "#2)Pintamos grafica de barras para observar volumen NA en los gases contaminantes\n",
    "barplot(percentageNA, main =\"Percentage of NA\",xlab = \"Pollution gas\",ylab = \"%\", las=3, cex.names=.5)"
   ]
  },
  {
   "cell_type": "code",
   "execution_count": 44,
   "metadata": {},
   "outputs": [
    {
     "data": {
      "text/html": [
       "<dl class=dl-horizontal>\n",
       "\t<dt>CO</dt>\n",
       "\t\t<dd>30,3871831068761</dd>\n",
       "\t<dt>NO_2</dt>\n",
       "\t\t<dd>0,556007209659936</dd>\n",
       "\t<dt>O_3</dt>\n",
       "\t\t<dd>21,4402304066147</dd>\n",
       "\t<dt>PM10</dt>\n",
       "\t\t<dd>24,8664206727335</dd>\n",
       "\t<dt>SO_2</dt>\n",
       "\t\t<dd>27,1061786281479</dd>\n",
       "</dl>\n"
      ],
      "text/latex": [
       "\\begin{description*}\n",
       "\\item[CO] 30,3871831068761\n",
       "\\item[NO\\textbackslash{}\\_2] 0,556007209659936\n",
       "\\item[O\\textbackslash{}\\_3] 21,4402304066147\n",
       "\\item[PM10] 24,8664206727335\n",
       "\\item[SO\\textbackslash{}\\_2] 27,1061786281479\n",
       "\\end{description*}\n"
      ],
      "text/markdown": [
       "CO\n",
       ":   30,3871831068761NO_2\n",
       ":   0,556007209659936O_3\n",
       ":   21,4402304066147PM10\n",
       ":   24,8664206727335SO_2\n",
       ":   27,1061786281479\n",
       "\n"
      ],
      "text/plain": [
       "        CO       NO_2        O_3       PM10       SO_2 \n",
       "30,3871831  0,5560072 21,4402304 24,8664207 27,1061786 "
      ]
     },
     "metadata": {},
     "output_type": "display_data"
    }
   ],
   "source": [
    "#Nos quedamos con aquellos gases que tengan menos del 35% de NA\n",
    "percentageNA[percentageNA < 35]"
   ]
  },
  {
   "cell_type": "code",
   "execution_count": 45,
   "metadata": {},
   "outputs": [
    {
     "data": {
      "text/html": [
       "<table>\n",
       "<thead><tr><th scope=col>date</th><th scope=col>CO</th><th scope=col>NO_2</th><th scope=col>O_3</th><th scope=col>PM10</th><th scope=col>SO_2</th><th scope=col>station</th></tr></thead>\n",
       "<tbody>\n",
       "\t<tr><td>2001-08-01 01:00:00</td><td>0,37               </td><td>58,40              </td><td>34,53              </td><td>105,00             </td><td>6,34               </td><td>28079001           </td></tr>\n",
       "\t<tr><td>2001-08-01 01:00:00</td><td>0,34               </td><td>56,25              </td><td>42,16              </td><td>100,60             </td><td>8,11               </td><td>28079035           </td></tr>\n",
       "\t<tr><td>2001-08-01 01:00:00</td><td>0,28               </td><td>50,66              </td><td>46,31              </td><td>100,10             </td><td>7,85               </td><td>28079003           </td></tr>\n",
       "\t<tr><td>2001-08-01 01:00:00</td><td>0,47               </td><td>69,79              </td><td>40,65              </td><td> 69,78             </td><td>6,46               </td><td>28079004           </td></tr>\n",
       "\t<tr><td>2001-08-01 01:00:00</td><td>0,39               </td><td>22,83              </td><td>66,31              </td><td> 75,18             </td><td>8,80               </td><td>28079039           </td></tr>\n",
       "\t<tr><td>2001-08-01 01:00:00</td><td>0,63               </td><td>66,26              </td><td>33,50              </td><td>122,70             </td><td>6,36               </td><td>28079006           </td></tr>\n",
       "</tbody>\n",
       "</table>\n"
      ],
      "text/latex": [
       "\\begin{tabular}{r|lllllll}\n",
       " date & CO & NO\\_2 & O\\_3 & PM10 & SO\\_2 & station\\\\\n",
       "\\hline\n",
       "\t 2001-08-01 01:00:00 & 0,37                & 58,40               & 34,53               & 105,00              & 6,34                & 28079001           \\\\\n",
       "\t 2001-08-01 01:00:00 & 0,34                & 56,25               & 42,16               & 100,60              & 8,11                & 28079035           \\\\\n",
       "\t 2001-08-01 01:00:00 & 0,28                & 50,66               & 46,31               & 100,10              & 7,85                & 28079003           \\\\\n",
       "\t 2001-08-01 01:00:00 & 0,47                & 69,79               & 40,65               &  69,78              & 6,46                & 28079004           \\\\\n",
       "\t 2001-08-01 01:00:00 & 0,39                & 22,83               & 66,31               &  75,18              & 8,80                & 28079039           \\\\\n",
       "\t 2001-08-01 01:00:00 & 0,63                & 66,26               & 33,50               & 122,70              & 6,36                & 28079006           \\\\\n",
       "\\end{tabular}\n"
      ],
      "text/markdown": [
       "\n",
       "date | CO | NO_2 | O_3 | PM10 | SO_2 | station | \n",
       "|---|---|---|---|---|---|\n",
       "| 2001-08-01 01:00:00 | 0,37                | 58,40               | 34,53               | 105,00              | 6,34                | 28079001            | \n",
       "| 2001-08-01 01:00:00 | 0,34                | 56,25               | 42,16               | 100,60              | 8,11                | 28079035            | \n",
       "| 2001-08-01 01:00:00 | 0,28                | 50,66               | 46,31               | 100,10              | 7,85                | 28079003            | \n",
       "| 2001-08-01 01:00:00 | 0,47                | 69,79               | 40,65               |  69,78              | 6,46                | 28079004            | \n",
       "| 2001-08-01 01:00:00 | 0,39                | 22,83               | 66,31               |  75,18              | 8,80                | 28079039            | \n",
       "| 2001-08-01 01:00:00 | 0,63                | 66,26               | 33,50               | 122,70              | 6,36                | 28079006            | \n",
       "\n",
       "\n"
      ],
      "text/plain": [
       "  date                CO   NO_2  O_3   PM10   SO_2 station \n",
       "1 2001-08-01 01:00:00 0,37 58,40 34,53 105,00 6,34 28079001\n",
       "2 2001-08-01 01:00:00 0,34 56,25 42,16 100,60 8,11 28079035\n",
       "3 2001-08-01 01:00:00 0,28 50,66 46,31 100,10 7,85 28079003\n",
       "4 2001-08-01 01:00:00 0,47 69,79 40,65  69,78 6,46 28079004\n",
       "5 2001-08-01 01:00:00 0,39 22,83 66,31  75,18 8,80 28079039\n",
       "6 2001-08-01 01:00:00 0,63 66,26 33,50 122,70 6,36 28079006"
      ]
     },
     "metadata": {},
     "output_type": "display_data"
    },
    {
     "data": {
      "text/html": [
       "<table>\n",
       "<thead><tr><th></th><th scope=col>date</th><th scope=col>CO</th><th scope=col>NO_2</th><th scope=col>O_3</th><th scope=col>PM10</th><th scope=col>SO_2</th><th scope=col>station</th></tr></thead>\n",
       "<tbody>\n",
       "\t<tr><th scope=row>3808219</th><td>2018-02-01 00:00:00</td><td> NA                </td><td> 94                </td><td>NA                 </td><td>35                 </td><td>NA                 </td><td>28079055           </td></tr>\n",
       "\t<tr><th scope=row>3808220</th><td>2018-02-01 00:00:00</td><td>0,5                </td><td> 91                </td><td> 1                 </td><td>35                 </td><td>NA                 </td><td>28079056           </td></tr>\n",
       "\t<tr><th scope=row>3808221</th><td>2018-02-01 00:00:00</td><td>0,7                </td><td>107                </td><td>NA                 </td><td>29                 </td><td>15                 </td><td>28079057           </td></tr>\n",
       "\t<tr><th scope=row>3808222</th><td>2018-02-01 00:00:00</td><td> NA                </td><td> 48                </td><td> 2                 </td><td>NA                 </td><td>NA                 </td><td>28079058           </td></tr>\n",
       "\t<tr><th scope=row>3808223</th><td>2018-02-01 00:00:00</td><td> NA                </td><td>103                </td><td> 2                 </td><td>NA                 </td><td>NA                 </td><td>28079059           </td></tr>\n",
       "\t<tr><th scope=row>3808224</th><td>2018-02-01 00:00:00</td><td> NA                </td><td> 96                </td><td> 3                 </td><td>26                 </td><td>NA                 </td><td>28079060           </td></tr>\n",
       "</tbody>\n",
       "</table>\n"
      ],
      "text/latex": [
       "\\begin{tabular}{r|lllllll}\n",
       "  & date & CO & NO\\_2 & O\\_3 & PM10 & SO\\_2 & station\\\\\n",
       "\\hline\n",
       "\t3808219 & 2018-02-01 00:00:00 &  NA                 &  94                 & NA                  & 35                  & NA                  & 28079055           \\\\\n",
       "\t3808220 & 2018-02-01 00:00:00 & 0,5                 &  91                 &  1                  & 35                  & NA                  & 28079056           \\\\\n",
       "\t3808221 & 2018-02-01 00:00:00 & 0,7                 & 107                 & NA                  & 29                  & 15                  & 28079057           \\\\\n",
       "\t3808222 & 2018-02-01 00:00:00 &  NA                 &  48                 &  2                  & NA                  & NA                  & 28079058           \\\\\n",
       "\t3808223 & 2018-02-01 00:00:00 &  NA                 & 103                 &  2                  & NA                  & NA                  & 28079059           \\\\\n",
       "\t3808224 & 2018-02-01 00:00:00 &  NA                 &  96                 &  3                  & 26                  & NA                  & 28079060           \\\\\n",
       "\\end{tabular}\n"
      ],
      "text/markdown": [
       "\n",
       "| <!--/--> | date | CO | NO_2 | O_3 | PM10 | SO_2 | station | \n",
       "|---|---|---|---|---|---|\n",
       "| 3808219 | 2018-02-01 00:00:00 |  NA                 |  94                 | NA                  | 35                  | NA                  | 28079055            | \n",
       "| 3808220 | 2018-02-01 00:00:00 | 0,5                 |  91                 |  1                  | 35                  | NA                  | 28079056            | \n",
       "| 3808221 | 2018-02-01 00:00:00 | 0,7                 | 107                 | NA                  | 29                  | 15                  | 28079057            | \n",
       "| 3808222 | 2018-02-01 00:00:00 |  NA                 |  48                 |  2                  | NA                  | NA                  | 28079058            | \n",
       "| 3808223 | 2018-02-01 00:00:00 |  NA                 | 103                 |  2                  | NA                  | NA                  | 28079059            | \n",
       "| 3808224 | 2018-02-01 00:00:00 |  NA                 |  96                 |  3                  | 26                  | NA                  | 28079060            | \n",
       "\n",
       "\n"
      ],
      "text/plain": [
       "        date                CO  NO_2 O_3 PM10 SO_2 station \n",
       "3808219 2018-02-01 00:00:00  NA  94  NA  35   NA   28079055\n",
       "3808220 2018-02-01 00:00:00 0,5  91   1  35   NA   28079056\n",
       "3808221 2018-02-01 00:00:00 0,7 107  NA  29   15   28079057\n",
       "3808222 2018-02-01 00:00:00  NA  48   2  NA   NA   28079058\n",
       "3808223 2018-02-01 00:00:00  NA 103   2  NA   NA   28079059\n",
       "3808224 2018-02-01 00:00:00  NA  96   3  26   NA   28079060"
      ]
     },
     "metadata": {},
     "output_type": "display_data"
    }
   ],
   "source": [
    "#Procedemos a quitar el resto de columnas\n",
    "datasetMadrid$BEN = NULL;\n",
    "datasetMadrid$EBE = NULL;\n",
    "datasetMadrid$MXY = NULL;\n",
    "datasetMadrid$NMHC = NULL;\n",
    "datasetMadrid$NOx = NULL;\n",
    "datasetMadrid$OXY = NULL;\n",
    "datasetMadrid$PXY = NULL;\n",
    "datasetMadrid$TCH = NULL;\n",
    "datasetMadrid$TOL = NULL;\n",
    "datasetMadrid$PM25 = NULL;\n",
    "datasetMadrid$NO = NULL;\n",
    "datasetMadrid$CH4 = NULL;\n",
    "#Mostramos dataframe para observar cambios\n",
    "head(datasetMadrid)\n",
    "tail(datasetMadrid)"
   ]
  },
  {
   "cell_type": "markdown",
   "metadata": {},
   "source": [
    "## Agrupacion de datos\n",
    "Se ordenan los datos por estacion, después de ellos se comprimen todas las horas de un dia de la estación, en un dia"
   ]
  },
  {
   "cell_type": "code",
   "execution_count": 46,
   "metadata": {},
   "outputs": [
    {
     "data": {
      "text/html": [
       "<table>\n",
       "<thead><tr><th></th><th scope=col>date</th><th scope=col>CO</th><th scope=col>NO_2</th><th scope=col>O_3</th><th scope=col>PM10</th><th scope=col>SO_2</th><th scope=col>station</th></tr></thead>\n",
       "<tbody>\n",
       "\t<tr><th scope=row>1</th><td>2001-08-01 01:00:00</td><td>0,37               </td><td> 58,40             </td><td>34,53              </td><td>105,00             </td><td> 6,34              </td><td>28079001           </td></tr>\n",
       "\t<tr><th scope=row>25</th><td>2001-08-01 02:00:00</td><td>0,42               </td><td> 65,76             </td><td>27,93              </td><td> 69,75             </td><td> 7,15              </td><td>28079001           </td></tr>\n",
       "\t<tr><th scope=row>49</th><td>2001-08-01 03:00:00</td><td>0,32               </td><td> 61,09             </td><td>32,07              </td><td> 56,22             </td><td> 6,26              </td><td>28079001           </td></tr>\n",
       "\t<tr><th scope=row>73</th><td>2001-08-01 04:00:00</td><td>0,23               </td><td> 47,02             </td><td>42,21              </td><td> 50,69             </td><td> 5,19              </td><td>28079001           </td></tr>\n",
       "\t<tr><th scope=row>97</th><td>2001-08-01 05:00:00</td><td>0,19               </td><td> 47,17             </td><td>48,46              </td><td> 49,49             </td><td> 5,03              </td><td>28079001           </td></tr>\n",
       "\t<tr><th scope=row>121</th><td>2001-08-01 06:00:00</td><td>0,06               </td><td> 63,83             </td><td>40,80              </td><td> 43,47             </td><td> 5,24              </td><td>28079001           </td></tr>\n",
       "\t<tr><th scope=row>145</th><td>2001-08-01 07:00:00</td><td>0,28               </td><td> 91,74             </td><td>22,18              </td><td> 42,19             </td><td> 7,37              </td><td>28079001           </td></tr>\n",
       "\t<tr><th scope=row>169</th><td>2001-08-01 08:00:00</td><td>0,89               </td><td>127,80             </td><td>11,98              </td><td> 45,72             </td><td>11,37              </td><td>28079001           </td></tr>\n",
       "\t<tr><th scope=row>193</th><td>2001-08-01 09:00:00</td><td>1,51               </td><td>129,50             </td><td> 9,71              </td><td> 68,46             </td><td>15,57              </td><td>28079001           </td></tr>\n",
       "\t<tr><th scope=row>217</th><td>2001-08-01 10:00:00</td><td>1,80               </td><td>127,70             </td><td> 8,86              </td><td> 91,84             </td><td>19,47              </td><td>28079001           </td></tr>\n",
       "\t<tr><th scope=row>241</th><td>2001-08-01 11:00:00</td><td>1,26               </td><td>119,90             </td><td>11,65              </td><td> 85,32             </td><td>14,74              </td><td>28079001           </td></tr>\n",
       "\t<tr><th scope=row>265</th><td>2001-08-01 12:00:00</td><td>0,99               </td><td>120,20             </td><td>16,56              </td><td> 88,68             </td><td>12,77              </td><td>28079001           </td></tr>\n",
       "\t<tr><th scope=row>289</th><td>2001-08-01 13:00:00</td><td>0,91               </td><td>109,80             </td><td>25,13              </td><td> 70,78             </td><td>10,05              </td><td>28079001           </td></tr>\n",
       "\t<tr><th scope=row>313</th><td>2001-08-01 14:00:00</td><td>1,15               </td><td>114,70             </td><td>21,74              </td><td> 69,81             </td><td>11,03              </td><td>28079001           </td></tr>\n",
       "\t<tr><th scope=row>337</th><td>2001-08-01 15:00:00</td><td>1,23               </td><td>114,80             </td><td>21,18              </td><td> 76,04             </td><td>11,15              </td><td>28079001           </td></tr>\n",
       "\t<tr><th scope=row>361</th><td>2001-08-01 16:00:00</td><td>1,09               </td><td>110,60             </td><td>21,95              </td><td> 93,53             </td><td>11,28              </td><td>28079001           </td></tr>\n",
       "\t<tr><th scope=row>385</th><td>2001-08-01 17:00:00</td><td>0,69               </td><td> 93,50             </td><td>35,23              </td><td>106,80             </td><td>10,12              </td><td>28079001           </td></tr>\n",
       "\t<tr><th scope=row>409</th><td>2001-08-01 18:00:00</td><td>0,76               </td><td>103,30             </td><td>37,40              </td><td> 97,52             </td><td> 9,79              </td><td>28079001           </td></tr>\n",
       "\t<tr><th scope=row>433</th><td>2001-08-01 19:00:00</td><td>0,97               </td><td>117,70             </td><td>31,63              </td><td> 96,42             </td><td>11,80              </td><td>28079001           </td></tr>\n",
       "\t<tr><th scope=row>457</th><td>2001-08-01 20:00:00</td><td>1,11               </td><td>116,50             </td><td>26,72              </td><td> 73,99             </td><td>11,62              </td><td>28079001           </td></tr>\n",
       "\t<tr><th scope=row>481</th><td>2001-08-01 21:00:00</td><td>1,47               </td><td>121,10             </td><td>23,21              </td><td> 53,86             </td><td>11,58              </td><td>28079001           </td></tr>\n",
       "\t<tr><th scope=row>505</th><td>2001-08-01 22:00:00</td><td>1,73               </td><td>134,30             </td><td>15,83              </td><td> 48,50             </td><td>13,40              </td><td>28079001           </td></tr>\n",
       "\t<tr><th scope=row>529</th><td>2001-08-01 23:00:00</td><td>1,79               </td><td>134,10             </td><td>11,26              </td><td> 65,28             </td><td>15,04              </td><td>28079001           </td></tr>\n",
       "\t<tr><th scope=row>553</th><td>2001-08-02 00:00:00</td><td>1,34               </td><td>113,50             </td><td>14,47              </td><td> 62,23             </td><td>10,91              </td><td>28079001           </td></tr>\n",
       "</tbody>\n",
       "</table>\n"
      ],
      "text/latex": [
       "\\begin{tabular}{r|lllllll}\n",
       "  & date & CO & NO\\_2 & O\\_3 & PM10 & SO\\_2 & station\\\\\n",
       "\\hline\n",
       "\t1 & 2001-08-01 01:00:00 & 0,37                &  58,40              & 34,53               & 105,00              &  6,34               & 28079001           \\\\\n",
       "\t25 & 2001-08-01 02:00:00 & 0,42                &  65,76              & 27,93               &  69,75              &  7,15               & 28079001           \\\\\n",
       "\t49 & 2001-08-01 03:00:00 & 0,32                &  61,09              & 32,07               &  56,22              &  6,26               & 28079001           \\\\\n",
       "\t73 & 2001-08-01 04:00:00 & 0,23                &  47,02              & 42,21               &  50,69              &  5,19               & 28079001           \\\\\n",
       "\t97 & 2001-08-01 05:00:00 & 0,19                &  47,17              & 48,46               &  49,49              &  5,03               & 28079001           \\\\\n",
       "\t121 & 2001-08-01 06:00:00 & 0,06                &  63,83              & 40,80               &  43,47              &  5,24               & 28079001           \\\\\n",
       "\t145 & 2001-08-01 07:00:00 & 0,28                &  91,74              & 22,18               &  42,19              &  7,37               & 28079001           \\\\\n",
       "\t169 & 2001-08-01 08:00:00 & 0,89                & 127,80              & 11,98               &  45,72              & 11,37               & 28079001           \\\\\n",
       "\t193 & 2001-08-01 09:00:00 & 1,51                & 129,50              &  9,71               &  68,46              & 15,57               & 28079001           \\\\\n",
       "\t217 & 2001-08-01 10:00:00 & 1,80                & 127,70              &  8,86               &  91,84              & 19,47               & 28079001           \\\\\n",
       "\t241 & 2001-08-01 11:00:00 & 1,26                & 119,90              & 11,65               &  85,32              & 14,74               & 28079001           \\\\\n",
       "\t265 & 2001-08-01 12:00:00 & 0,99                & 120,20              & 16,56               &  88,68              & 12,77               & 28079001           \\\\\n",
       "\t289 & 2001-08-01 13:00:00 & 0,91                & 109,80              & 25,13               &  70,78              & 10,05               & 28079001           \\\\\n",
       "\t313 & 2001-08-01 14:00:00 & 1,15                & 114,70              & 21,74               &  69,81              & 11,03               & 28079001           \\\\\n",
       "\t337 & 2001-08-01 15:00:00 & 1,23                & 114,80              & 21,18               &  76,04              & 11,15               & 28079001           \\\\\n",
       "\t361 & 2001-08-01 16:00:00 & 1,09                & 110,60              & 21,95               &  93,53              & 11,28               & 28079001           \\\\\n",
       "\t385 & 2001-08-01 17:00:00 & 0,69                &  93,50              & 35,23               & 106,80              & 10,12               & 28079001           \\\\\n",
       "\t409 & 2001-08-01 18:00:00 & 0,76                & 103,30              & 37,40               &  97,52              &  9,79               & 28079001           \\\\\n",
       "\t433 & 2001-08-01 19:00:00 & 0,97                & 117,70              & 31,63               &  96,42              & 11,80               & 28079001           \\\\\n",
       "\t457 & 2001-08-01 20:00:00 & 1,11                & 116,50              & 26,72               &  73,99              & 11,62               & 28079001           \\\\\n",
       "\t481 & 2001-08-01 21:00:00 & 1,47                & 121,10              & 23,21               &  53,86              & 11,58               & 28079001           \\\\\n",
       "\t505 & 2001-08-01 22:00:00 & 1,73                & 134,30              & 15,83               &  48,50              & 13,40               & 28079001           \\\\\n",
       "\t529 & 2001-08-01 23:00:00 & 1,79                & 134,10              & 11,26               &  65,28              & 15,04               & 28079001           \\\\\n",
       "\t553 & 2001-08-02 00:00:00 & 1,34                & 113,50              & 14,47               &  62,23              & 10,91               & 28079001           \\\\\n",
       "\\end{tabular}\n"
      ],
      "text/markdown": [
       "\n",
       "| <!--/--> | date | CO | NO_2 | O_3 | PM10 | SO_2 | station | \n",
       "|---|---|---|---|---|---|---|---|---|---|---|---|---|---|---|---|---|---|---|---|---|---|---|---|\n",
       "| 1 | 2001-08-01 01:00:00 | 0,37                |  58,40              | 34,53               | 105,00              |  6,34               | 28079001            | \n",
       "| 25 | 2001-08-01 02:00:00 | 0,42                |  65,76              | 27,93               |  69,75              |  7,15               | 28079001            | \n",
       "| 49 | 2001-08-01 03:00:00 | 0,32                |  61,09              | 32,07               |  56,22              |  6,26               | 28079001            | \n",
       "| 73 | 2001-08-01 04:00:00 | 0,23                |  47,02              | 42,21               |  50,69              |  5,19               | 28079001            | \n",
       "| 97 | 2001-08-01 05:00:00 | 0,19                |  47,17              | 48,46               |  49,49              |  5,03               | 28079001            | \n",
       "| 121 | 2001-08-01 06:00:00 | 0,06                |  63,83              | 40,80               |  43,47              |  5,24               | 28079001            | \n",
       "| 145 | 2001-08-01 07:00:00 | 0,28                |  91,74              | 22,18               |  42,19              |  7,37               | 28079001            | \n",
       "| 169 | 2001-08-01 08:00:00 | 0,89                | 127,80              | 11,98               |  45,72              | 11,37               | 28079001            | \n",
       "| 193 | 2001-08-01 09:00:00 | 1,51                | 129,50              |  9,71               |  68,46              | 15,57               | 28079001            | \n",
       "| 217 | 2001-08-01 10:00:00 | 1,80                | 127,70              |  8,86               |  91,84              | 19,47               | 28079001            | \n",
       "| 241 | 2001-08-01 11:00:00 | 1,26                | 119,90              | 11,65               |  85,32              | 14,74               | 28079001            | \n",
       "| 265 | 2001-08-01 12:00:00 | 0,99                | 120,20              | 16,56               |  88,68              | 12,77               | 28079001            | \n",
       "| 289 | 2001-08-01 13:00:00 | 0,91                | 109,80              | 25,13               |  70,78              | 10,05               | 28079001            | \n",
       "| 313 | 2001-08-01 14:00:00 | 1,15                | 114,70              | 21,74               |  69,81              | 11,03               | 28079001            | \n",
       "| 337 | 2001-08-01 15:00:00 | 1,23                | 114,80              | 21,18               |  76,04              | 11,15               | 28079001            | \n",
       "| 361 | 2001-08-01 16:00:00 | 1,09                | 110,60              | 21,95               |  93,53              | 11,28               | 28079001            | \n",
       "| 385 | 2001-08-01 17:00:00 | 0,69                |  93,50              | 35,23               | 106,80              | 10,12               | 28079001            | \n",
       "| 409 | 2001-08-01 18:00:00 | 0,76                | 103,30              | 37,40               |  97,52              |  9,79               | 28079001            | \n",
       "| 433 | 2001-08-01 19:00:00 | 0,97                | 117,70              | 31,63               |  96,42              | 11,80               | 28079001            | \n",
       "| 457 | 2001-08-01 20:00:00 | 1,11                | 116,50              | 26,72               |  73,99              | 11,62               | 28079001            | \n",
       "| 481 | 2001-08-01 21:00:00 | 1,47                | 121,10              | 23,21               |  53,86              | 11,58               | 28079001            | \n",
       "| 505 | 2001-08-01 22:00:00 | 1,73                | 134,30              | 15,83               |  48,50              | 13,40               | 28079001            | \n",
       "| 529 | 2001-08-01 23:00:00 | 1,79                | 134,10              | 11,26               |  65,28              | 15,04               | 28079001            | \n",
       "| 553 | 2001-08-02 00:00:00 | 1,34                | 113,50              | 14,47               |  62,23              | 10,91               | 28079001            | \n",
       "\n",
       "\n"
      ],
      "text/plain": [
       "    date                CO   NO_2   O_3   PM10   SO_2  station \n",
       "1   2001-08-01 01:00:00 0,37  58,40 34,53 105,00  6,34 28079001\n",
       "25  2001-08-01 02:00:00 0,42  65,76 27,93  69,75  7,15 28079001\n",
       "49  2001-08-01 03:00:00 0,32  61,09 32,07  56,22  6,26 28079001\n",
       "73  2001-08-01 04:00:00 0,23  47,02 42,21  50,69  5,19 28079001\n",
       "97  2001-08-01 05:00:00 0,19  47,17 48,46  49,49  5,03 28079001\n",
       "121 2001-08-01 06:00:00 0,06  63,83 40,80  43,47  5,24 28079001\n",
       "145 2001-08-01 07:00:00 0,28  91,74 22,18  42,19  7,37 28079001\n",
       "169 2001-08-01 08:00:00 0,89 127,80 11,98  45,72 11,37 28079001\n",
       "193 2001-08-01 09:00:00 1,51 129,50  9,71  68,46 15,57 28079001\n",
       "217 2001-08-01 10:00:00 1,80 127,70  8,86  91,84 19,47 28079001\n",
       "241 2001-08-01 11:00:00 1,26 119,90 11,65  85,32 14,74 28079001\n",
       "265 2001-08-01 12:00:00 0,99 120,20 16,56  88,68 12,77 28079001\n",
       "289 2001-08-01 13:00:00 0,91 109,80 25,13  70,78 10,05 28079001\n",
       "313 2001-08-01 14:00:00 1,15 114,70 21,74  69,81 11,03 28079001\n",
       "337 2001-08-01 15:00:00 1,23 114,80 21,18  76,04 11,15 28079001\n",
       "361 2001-08-01 16:00:00 1,09 110,60 21,95  93,53 11,28 28079001\n",
       "385 2001-08-01 17:00:00 0,69  93,50 35,23 106,80 10,12 28079001\n",
       "409 2001-08-01 18:00:00 0,76 103,30 37,40  97,52  9,79 28079001\n",
       "433 2001-08-01 19:00:00 0,97 117,70 31,63  96,42 11,80 28079001\n",
       "457 2001-08-01 20:00:00 1,11 116,50 26,72  73,99 11,62 28079001\n",
       "481 2001-08-01 21:00:00 1,47 121,10 23,21  53,86 11,58 28079001\n",
       "505 2001-08-01 22:00:00 1,73 134,30 15,83  48,50 13,40 28079001\n",
       "529 2001-08-01 23:00:00 1,79 134,10 11,26  65,28 15,04 28079001\n",
       "553 2001-08-02 00:00:00 1,34 113,50 14,47  62,23 10,91 28079001"
      ]
     },
     "metadata": {},
     "output_type": "display_data"
    },
    {
     "data": {
      "text/html": [
       "<table>\n",
       "<thead><tr><th></th><th scope=col>date</th><th scope=col>CO</th><th scope=col>NO_2</th><th scope=col>O_3</th><th scope=col>PM10</th><th scope=col>SO_2</th><th scope=col>station</th></tr></thead>\n",
       "<tbody>\n",
       "\t<tr><th scope=row>2268754</th><td>2010-07-31 19:00:00</td><td>0,22               </td><td>17,83              </td><td>120,20             </td><td>20,17              </td><td>6,93               </td><td>28079099           </td></tr>\n",
       "\t<tr><th scope=row>2268776</th><td>2010-07-31 20:00:00</td><td>0,23               </td><td>22,57              </td><td>112,70             </td><td>13,95              </td><td>6,88               </td><td>28079099           </td></tr>\n",
       "\t<tr><th scope=row>2268798</th><td>2010-07-31 21:00:00</td><td>0,27               </td><td>33,91              </td><td> 98,27             </td><td>22,44              </td><td>6,84               </td><td>28079099           </td></tr>\n",
       "\t<tr><th scope=row>2268820</th><td>2010-07-31 22:00:00</td><td>0,38               </td><td>64,05              </td><td> 69,79             </td><td>52,17              </td><td>6,97               </td><td>28079099           </td></tr>\n",
       "\t<tr><th scope=row>2268842</th><td>2010-07-31 23:00:00</td><td>0,50               </td><td>86,81              </td><td> 49,55             </td><td>54,36              </td><td>7,12               </td><td>28079099           </td></tr>\n",
       "\t<tr><th scope=row>2268864</th><td>2010-08-01 00:00:00</td><td>0,43               </td><td>76,33              </td><td> 52,26             </td><td>47,15              </td><td>7,03               </td><td>28079099           </td></tr>\n",
       "</tbody>\n",
       "</table>\n"
      ],
      "text/latex": [
       "\\begin{tabular}{r|lllllll}\n",
       "  & date & CO & NO\\_2 & O\\_3 & PM10 & SO\\_2 & station\\\\\n",
       "\\hline\n",
       "\t2268754 & 2010-07-31 19:00:00 & 0,22                & 17,83               & 120,20              & 20,17               & 6,93                & 28079099           \\\\\n",
       "\t2268776 & 2010-07-31 20:00:00 & 0,23                & 22,57               & 112,70              & 13,95               & 6,88                & 28079099           \\\\\n",
       "\t2268798 & 2010-07-31 21:00:00 & 0,27                & 33,91               &  98,27              & 22,44               & 6,84                & 28079099           \\\\\n",
       "\t2268820 & 2010-07-31 22:00:00 & 0,38                & 64,05               &  69,79              & 52,17               & 6,97                & 28079099           \\\\\n",
       "\t2268842 & 2010-07-31 23:00:00 & 0,50                & 86,81               &  49,55              & 54,36               & 7,12                & 28079099           \\\\\n",
       "\t2268864 & 2010-08-01 00:00:00 & 0,43                & 76,33               &  52,26              & 47,15               & 7,03                & 28079099           \\\\\n",
       "\\end{tabular}\n"
      ],
      "text/markdown": [
       "\n",
       "| <!--/--> | date | CO | NO_2 | O_3 | PM10 | SO_2 | station | \n",
       "|---|---|---|---|---|---|\n",
       "| 2268754 | 2010-07-31 19:00:00 | 0,22                | 17,83               | 120,20              | 20,17               | 6,93                | 28079099            | \n",
       "| 2268776 | 2010-07-31 20:00:00 | 0,23                | 22,57               | 112,70              | 13,95               | 6,88                | 28079099            | \n",
       "| 2268798 | 2010-07-31 21:00:00 | 0,27                | 33,91               |  98,27              | 22,44               | 6,84                | 28079099            | \n",
       "| 2268820 | 2010-07-31 22:00:00 | 0,38                | 64,05               |  69,79              | 52,17               | 6,97                | 28079099            | \n",
       "| 2268842 | 2010-07-31 23:00:00 | 0,50                | 86,81               |  49,55              | 54,36               | 7,12                | 28079099            | \n",
       "| 2268864 | 2010-08-01 00:00:00 | 0,43                | 76,33               |  52,26              | 47,15               | 7,03                | 28079099            | \n",
       "\n",
       "\n"
      ],
      "text/plain": [
       "        date                CO   NO_2  O_3    PM10  SO_2 station \n",
       "2268754 2010-07-31 19:00:00 0,22 17,83 120,20 20,17 6,93 28079099\n",
       "2268776 2010-07-31 20:00:00 0,23 22,57 112,70 13,95 6,88 28079099\n",
       "2268798 2010-07-31 21:00:00 0,27 33,91  98,27 22,44 6,84 28079099\n",
       "2268820 2010-07-31 22:00:00 0,38 64,05  69,79 52,17 6,97 28079099\n",
       "2268842 2010-07-31 23:00:00 0,50 86,81  49,55 54,36 7,12 28079099\n",
       "2268864 2010-08-01 00:00:00 0,43 76,33  52,26 47,15 7,03 28079099"
      ]
     },
     "metadata": {},
     "output_type": "display_data"
    }
   ],
   "source": [
    "datasetMadrid<- datasetMadrid[order(datasetMadrid$station),]\n",
    "head(datasetMadrid, n=24)\n",
    "tail(datasetMadrid)"
   ]
  },
  {
   "cell_type": "code",
   "execution_count": 47,
   "metadata": {
    "collapsed": true
   },
   "outputs": [],
   "source": [
    "datasetMadrid$date <- as.POSIXct(datasetMadrid$date, format = \"%Y-%m-%d %H:%M:%S\")\n",
    "datasetMadrid$date <- format(datasetMadrid$date, \"%Y-%m-%d\")\n",
    "datasetMadrid$date <- as.Date(datasetMadrid$date)"
   ]
  },
  {
   "cell_type": "code",
   "execution_count": 48,
   "metadata": {},
   "outputs": [
    {
     "data": {
      "text/html": [
       "<table>\n",
       "<thead><tr><th></th><th scope=col>date</th><th scope=col>CO</th><th scope=col>NO_2</th><th scope=col>O_3</th><th scope=col>PM10</th><th scope=col>SO_2</th><th scope=col>station</th></tr></thead>\n",
       "<tbody>\n",
       "\t<tr><th scope=row>1</th><td>2001-08-01</td><td>0,37      </td><td> 58,40    </td><td>34,53     </td><td>105,00    </td><td> 6,34     </td><td>28079001  </td></tr>\n",
       "\t<tr><th scope=row>25</th><td>2001-08-01</td><td>0,42      </td><td> 65,76    </td><td>27,93     </td><td> 69,75    </td><td> 7,15     </td><td>28079001  </td></tr>\n",
       "\t<tr><th scope=row>49</th><td>2001-08-01</td><td>0,32      </td><td> 61,09    </td><td>32,07     </td><td> 56,22    </td><td> 6,26     </td><td>28079001  </td></tr>\n",
       "\t<tr><th scope=row>73</th><td>2001-08-01</td><td>0,23      </td><td> 47,02    </td><td>42,21     </td><td> 50,69    </td><td> 5,19     </td><td>28079001  </td></tr>\n",
       "\t<tr><th scope=row>97</th><td>2001-08-01</td><td>0,19      </td><td> 47,17    </td><td>48,46     </td><td> 49,49    </td><td> 5,03     </td><td>28079001  </td></tr>\n",
       "\t<tr><th scope=row>121</th><td>2001-08-01</td><td>0,06      </td><td> 63,83    </td><td>40,80     </td><td> 43,47    </td><td> 5,24     </td><td>28079001  </td></tr>\n",
       "\t<tr><th scope=row>145</th><td>2001-08-01</td><td>0,28      </td><td> 91,74    </td><td>22,18     </td><td> 42,19    </td><td> 7,37     </td><td>28079001  </td></tr>\n",
       "\t<tr><th scope=row>169</th><td>2001-08-01</td><td>0,89      </td><td>127,80    </td><td>11,98     </td><td> 45,72    </td><td>11,37     </td><td>28079001  </td></tr>\n",
       "\t<tr><th scope=row>193</th><td>2001-08-01</td><td>1,51      </td><td>129,50    </td><td> 9,71     </td><td> 68,46    </td><td>15,57     </td><td>28079001  </td></tr>\n",
       "\t<tr><th scope=row>217</th><td>2001-08-01</td><td>1,80      </td><td>127,70    </td><td> 8,86     </td><td> 91,84    </td><td>19,47     </td><td>28079001  </td></tr>\n",
       "\t<tr><th scope=row>241</th><td>2001-08-01</td><td>1,26      </td><td>119,90    </td><td>11,65     </td><td> 85,32    </td><td>14,74     </td><td>28079001  </td></tr>\n",
       "\t<tr><th scope=row>265</th><td>2001-08-01</td><td>0,99      </td><td>120,20    </td><td>16,56     </td><td> 88,68    </td><td>12,77     </td><td>28079001  </td></tr>\n",
       "\t<tr><th scope=row>289</th><td>2001-08-01</td><td>0,91      </td><td>109,80    </td><td>25,13     </td><td> 70,78    </td><td>10,05     </td><td>28079001  </td></tr>\n",
       "\t<tr><th scope=row>313</th><td>2001-08-01</td><td>1,15      </td><td>114,70    </td><td>21,74     </td><td> 69,81    </td><td>11,03     </td><td>28079001  </td></tr>\n",
       "\t<tr><th scope=row>337</th><td>2001-08-01</td><td>1,23      </td><td>114,80    </td><td>21,18     </td><td> 76,04    </td><td>11,15     </td><td>28079001  </td></tr>\n",
       "\t<tr><th scope=row>361</th><td>2001-08-01</td><td>1,09      </td><td>110,60    </td><td>21,95     </td><td> 93,53    </td><td>11,28     </td><td>28079001  </td></tr>\n",
       "\t<tr><th scope=row>385</th><td>2001-08-01</td><td>0,69      </td><td> 93,50    </td><td>35,23     </td><td>106,80    </td><td>10,12     </td><td>28079001  </td></tr>\n",
       "\t<tr><th scope=row>409</th><td>2001-08-01</td><td>0,76      </td><td>103,30    </td><td>37,40     </td><td> 97,52    </td><td> 9,79     </td><td>28079001  </td></tr>\n",
       "\t<tr><th scope=row>433</th><td>2001-08-01</td><td>0,97      </td><td>117,70    </td><td>31,63     </td><td> 96,42    </td><td>11,80     </td><td>28079001  </td></tr>\n",
       "\t<tr><th scope=row>457</th><td>2001-08-01</td><td>1,11      </td><td>116,50    </td><td>26,72     </td><td> 73,99    </td><td>11,62     </td><td>28079001  </td></tr>\n",
       "\t<tr><th scope=row>481</th><td>2001-08-01</td><td>1,47      </td><td>121,10    </td><td>23,21     </td><td> 53,86    </td><td>11,58     </td><td>28079001  </td></tr>\n",
       "\t<tr><th scope=row>505</th><td>2001-08-01</td><td>1,73      </td><td>134,30    </td><td>15,83     </td><td> 48,50    </td><td>13,40     </td><td>28079001  </td></tr>\n",
       "\t<tr><th scope=row>529</th><td>2001-08-01</td><td>1,79      </td><td>134,10    </td><td>11,26     </td><td> 65,28    </td><td>15,04     </td><td>28079001  </td></tr>\n",
       "\t<tr><th scope=row>553</th><td>2001-08-02</td><td>1,34      </td><td>113,50    </td><td>14,47     </td><td> 62,23    </td><td>10,91     </td><td>28079001  </td></tr>\n",
       "</tbody>\n",
       "</table>\n"
      ],
      "text/latex": [
       "\\begin{tabular}{r|lllllll}\n",
       "  & date & CO & NO\\_2 & O\\_3 & PM10 & SO\\_2 & station\\\\\n",
       "\\hline\n",
       "\t1 & 2001-08-01 & 0,37       &  58,40     & 34,53      & 105,00     &  6,34      & 28079001  \\\\\n",
       "\t25 & 2001-08-01 & 0,42       &  65,76     & 27,93      &  69,75     &  7,15      & 28079001  \\\\\n",
       "\t49 & 2001-08-01 & 0,32       &  61,09     & 32,07      &  56,22     &  6,26      & 28079001  \\\\\n",
       "\t73 & 2001-08-01 & 0,23       &  47,02     & 42,21      &  50,69     &  5,19      & 28079001  \\\\\n",
       "\t97 & 2001-08-01 & 0,19       &  47,17     & 48,46      &  49,49     &  5,03      & 28079001  \\\\\n",
       "\t121 & 2001-08-01 & 0,06       &  63,83     & 40,80      &  43,47     &  5,24      & 28079001  \\\\\n",
       "\t145 & 2001-08-01 & 0,28       &  91,74     & 22,18      &  42,19     &  7,37      & 28079001  \\\\\n",
       "\t169 & 2001-08-01 & 0,89       & 127,80     & 11,98      &  45,72     & 11,37      & 28079001  \\\\\n",
       "\t193 & 2001-08-01 & 1,51       & 129,50     &  9,71      &  68,46     & 15,57      & 28079001  \\\\\n",
       "\t217 & 2001-08-01 & 1,80       & 127,70     &  8,86      &  91,84     & 19,47      & 28079001  \\\\\n",
       "\t241 & 2001-08-01 & 1,26       & 119,90     & 11,65      &  85,32     & 14,74      & 28079001  \\\\\n",
       "\t265 & 2001-08-01 & 0,99       & 120,20     & 16,56      &  88,68     & 12,77      & 28079001  \\\\\n",
       "\t289 & 2001-08-01 & 0,91       & 109,80     & 25,13      &  70,78     & 10,05      & 28079001  \\\\\n",
       "\t313 & 2001-08-01 & 1,15       & 114,70     & 21,74      &  69,81     & 11,03      & 28079001  \\\\\n",
       "\t337 & 2001-08-01 & 1,23       & 114,80     & 21,18      &  76,04     & 11,15      & 28079001  \\\\\n",
       "\t361 & 2001-08-01 & 1,09       & 110,60     & 21,95      &  93,53     & 11,28      & 28079001  \\\\\n",
       "\t385 & 2001-08-01 & 0,69       &  93,50     & 35,23      & 106,80     & 10,12      & 28079001  \\\\\n",
       "\t409 & 2001-08-01 & 0,76       & 103,30     & 37,40      &  97,52     &  9,79      & 28079001  \\\\\n",
       "\t433 & 2001-08-01 & 0,97       & 117,70     & 31,63      &  96,42     & 11,80      & 28079001  \\\\\n",
       "\t457 & 2001-08-01 & 1,11       & 116,50     & 26,72      &  73,99     & 11,62      & 28079001  \\\\\n",
       "\t481 & 2001-08-01 & 1,47       & 121,10     & 23,21      &  53,86     & 11,58      & 28079001  \\\\\n",
       "\t505 & 2001-08-01 & 1,73       & 134,30     & 15,83      &  48,50     & 13,40      & 28079001  \\\\\n",
       "\t529 & 2001-08-01 & 1,79       & 134,10     & 11,26      &  65,28     & 15,04      & 28079001  \\\\\n",
       "\t553 & 2001-08-02 & 1,34       & 113,50     & 14,47      &  62,23     & 10,91      & 28079001  \\\\\n",
       "\\end{tabular}\n"
      ],
      "text/markdown": [
       "\n",
       "| <!--/--> | date | CO | NO_2 | O_3 | PM10 | SO_2 | station | \n",
       "|---|---|---|---|---|---|---|---|---|---|---|---|---|---|---|---|---|---|---|---|---|---|---|---|\n",
       "| 1 | 2001-08-01 | 0,37       |  58,40     | 34,53      | 105,00     |  6,34      | 28079001   | \n",
       "| 25 | 2001-08-01 | 0,42       |  65,76     | 27,93      |  69,75     |  7,15      | 28079001   | \n",
       "| 49 | 2001-08-01 | 0,32       |  61,09     | 32,07      |  56,22     |  6,26      | 28079001   | \n",
       "| 73 | 2001-08-01 | 0,23       |  47,02     | 42,21      |  50,69     |  5,19      | 28079001   | \n",
       "| 97 | 2001-08-01 | 0,19       |  47,17     | 48,46      |  49,49     |  5,03      | 28079001   | \n",
       "| 121 | 2001-08-01 | 0,06       |  63,83     | 40,80      |  43,47     |  5,24      | 28079001   | \n",
       "| 145 | 2001-08-01 | 0,28       |  91,74     | 22,18      |  42,19     |  7,37      | 28079001   | \n",
       "| 169 | 2001-08-01 | 0,89       | 127,80     | 11,98      |  45,72     | 11,37      | 28079001   | \n",
       "| 193 | 2001-08-01 | 1,51       | 129,50     |  9,71      |  68,46     | 15,57      | 28079001   | \n",
       "| 217 | 2001-08-01 | 1,80       | 127,70     |  8,86      |  91,84     | 19,47      | 28079001   | \n",
       "| 241 | 2001-08-01 | 1,26       | 119,90     | 11,65      |  85,32     | 14,74      | 28079001   | \n",
       "| 265 | 2001-08-01 | 0,99       | 120,20     | 16,56      |  88,68     | 12,77      | 28079001   | \n",
       "| 289 | 2001-08-01 | 0,91       | 109,80     | 25,13      |  70,78     | 10,05      | 28079001   | \n",
       "| 313 | 2001-08-01 | 1,15       | 114,70     | 21,74      |  69,81     | 11,03      | 28079001   | \n",
       "| 337 | 2001-08-01 | 1,23       | 114,80     | 21,18      |  76,04     | 11,15      | 28079001   | \n",
       "| 361 | 2001-08-01 | 1,09       | 110,60     | 21,95      |  93,53     | 11,28      | 28079001   | \n",
       "| 385 | 2001-08-01 | 0,69       |  93,50     | 35,23      | 106,80     | 10,12      | 28079001   | \n",
       "| 409 | 2001-08-01 | 0,76       | 103,30     | 37,40      |  97,52     |  9,79      | 28079001   | \n",
       "| 433 | 2001-08-01 | 0,97       | 117,70     | 31,63      |  96,42     | 11,80      | 28079001   | \n",
       "| 457 | 2001-08-01 | 1,11       | 116,50     | 26,72      |  73,99     | 11,62      | 28079001   | \n",
       "| 481 | 2001-08-01 | 1,47       | 121,10     | 23,21      |  53,86     | 11,58      | 28079001   | \n",
       "| 505 | 2001-08-01 | 1,73       | 134,30     | 15,83      |  48,50     | 13,40      | 28079001   | \n",
       "| 529 | 2001-08-01 | 1,79       | 134,10     | 11,26      |  65,28     | 15,04      | 28079001   | \n",
       "| 553 | 2001-08-02 | 1,34       | 113,50     | 14,47      |  62,23     | 10,91      | 28079001   | \n",
       "\n",
       "\n"
      ],
      "text/plain": [
       "    date       CO   NO_2   O_3   PM10   SO_2  station \n",
       "1   2001-08-01 0,37  58,40 34,53 105,00  6,34 28079001\n",
       "25  2001-08-01 0,42  65,76 27,93  69,75  7,15 28079001\n",
       "49  2001-08-01 0,32  61,09 32,07  56,22  6,26 28079001\n",
       "73  2001-08-01 0,23  47,02 42,21  50,69  5,19 28079001\n",
       "97  2001-08-01 0,19  47,17 48,46  49,49  5,03 28079001\n",
       "121 2001-08-01 0,06  63,83 40,80  43,47  5,24 28079001\n",
       "145 2001-08-01 0,28  91,74 22,18  42,19  7,37 28079001\n",
       "169 2001-08-01 0,89 127,80 11,98  45,72 11,37 28079001\n",
       "193 2001-08-01 1,51 129,50  9,71  68,46 15,57 28079001\n",
       "217 2001-08-01 1,80 127,70  8,86  91,84 19,47 28079001\n",
       "241 2001-08-01 1,26 119,90 11,65  85,32 14,74 28079001\n",
       "265 2001-08-01 0,99 120,20 16,56  88,68 12,77 28079001\n",
       "289 2001-08-01 0,91 109,80 25,13  70,78 10,05 28079001\n",
       "313 2001-08-01 1,15 114,70 21,74  69,81 11,03 28079001\n",
       "337 2001-08-01 1,23 114,80 21,18  76,04 11,15 28079001\n",
       "361 2001-08-01 1,09 110,60 21,95  93,53 11,28 28079001\n",
       "385 2001-08-01 0,69  93,50 35,23 106,80 10,12 28079001\n",
       "409 2001-08-01 0,76 103,30 37,40  97,52  9,79 28079001\n",
       "433 2001-08-01 0,97 117,70 31,63  96,42 11,80 28079001\n",
       "457 2001-08-01 1,11 116,50 26,72  73,99 11,62 28079001\n",
       "481 2001-08-01 1,47 121,10 23,21  53,86 11,58 28079001\n",
       "505 2001-08-01 1,73 134,30 15,83  48,50 13,40 28079001\n",
       "529 2001-08-01 1,79 134,10 11,26  65,28 15,04 28079001\n",
       "553 2001-08-02 1,34 113,50 14,47  62,23 10,91 28079001"
      ]
     },
     "metadata": {},
     "output_type": "display_data"
    },
    {
     "data": {
      "text/html": [
       "<table>\n",
       "<thead><tr><th></th><th scope=col>date</th><th scope=col>CO</th><th scope=col>NO_2</th><th scope=col>O_3</th><th scope=col>PM10</th><th scope=col>SO_2</th><th scope=col>station</th></tr></thead>\n",
       "<tbody>\n",
       "\t<tr><th scope=row>2268754</th><td>2010-07-31</td><td>0,22      </td><td>17,83     </td><td>120,20    </td><td>20,17     </td><td>6,93      </td><td>28079099  </td></tr>\n",
       "\t<tr><th scope=row>2268776</th><td>2010-07-31</td><td>0,23      </td><td>22,57     </td><td>112,70    </td><td>13,95     </td><td>6,88      </td><td>28079099  </td></tr>\n",
       "\t<tr><th scope=row>2268798</th><td>2010-07-31</td><td>0,27      </td><td>33,91     </td><td> 98,27    </td><td>22,44     </td><td>6,84      </td><td>28079099  </td></tr>\n",
       "\t<tr><th scope=row>2268820</th><td>2010-07-31</td><td>0,38      </td><td>64,05     </td><td> 69,79    </td><td>52,17     </td><td>6,97      </td><td>28079099  </td></tr>\n",
       "\t<tr><th scope=row>2268842</th><td>2010-07-31</td><td>0,50      </td><td>86,81     </td><td> 49,55    </td><td>54,36     </td><td>7,12      </td><td>28079099  </td></tr>\n",
       "\t<tr><th scope=row>2268864</th><td>2010-08-01</td><td>0,43      </td><td>76,33     </td><td> 52,26    </td><td>47,15     </td><td>7,03      </td><td>28079099  </td></tr>\n",
       "</tbody>\n",
       "</table>\n"
      ],
      "text/latex": [
       "\\begin{tabular}{r|lllllll}\n",
       "  & date & CO & NO\\_2 & O\\_3 & PM10 & SO\\_2 & station\\\\\n",
       "\\hline\n",
       "\t2268754 & 2010-07-31 & 0,22       & 17,83      & 120,20     & 20,17      & 6,93       & 28079099  \\\\\n",
       "\t2268776 & 2010-07-31 & 0,23       & 22,57      & 112,70     & 13,95      & 6,88       & 28079099  \\\\\n",
       "\t2268798 & 2010-07-31 & 0,27       & 33,91      &  98,27     & 22,44      & 6,84       & 28079099  \\\\\n",
       "\t2268820 & 2010-07-31 & 0,38       & 64,05      &  69,79     & 52,17      & 6,97       & 28079099  \\\\\n",
       "\t2268842 & 2010-07-31 & 0,50       & 86,81      &  49,55     & 54,36      & 7,12       & 28079099  \\\\\n",
       "\t2268864 & 2010-08-01 & 0,43       & 76,33      &  52,26     & 47,15      & 7,03       & 28079099  \\\\\n",
       "\\end{tabular}\n"
      ],
      "text/markdown": [
       "\n",
       "| <!--/--> | date | CO | NO_2 | O_3 | PM10 | SO_2 | station | \n",
       "|---|---|---|---|---|---|\n",
       "| 2268754 | 2010-07-31 | 0,22       | 17,83      | 120,20     | 20,17      | 6,93       | 28079099   | \n",
       "| 2268776 | 2010-07-31 | 0,23       | 22,57      | 112,70     | 13,95      | 6,88       | 28079099   | \n",
       "| 2268798 | 2010-07-31 | 0,27       | 33,91      |  98,27     | 22,44      | 6,84       | 28079099   | \n",
       "| 2268820 | 2010-07-31 | 0,38       | 64,05      |  69,79     | 52,17      | 6,97       | 28079099   | \n",
       "| 2268842 | 2010-07-31 | 0,50       | 86,81      |  49,55     | 54,36      | 7,12       | 28079099   | \n",
       "| 2268864 | 2010-08-01 | 0,43       | 76,33      |  52,26     | 47,15      | 7,03       | 28079099   | \n",
       "\n",
       "\n"
      ],
      "text/plain": [
       "        date       CO   NO_2  O_3    PM10  SO_2 station \n",
       "2268754 2010-07-31 0,22 17,83 120,20 20,17 6,93 28079099\n",
       "2268776 2010-07-31 0,23 22,57 112,70 13,95 6,88 28079099\n",
       "2268798 2010-07-31 0,27 33,91  98,27 22,44 6,84 28079099\n",
       "2268820 2010-07-31 0,38 64,05  69,79 52,17 6,97 28079099\n",
       "2268842 2010-07-31 0,50 86,81  49,55 54,36 7,12 28079099\n",
       "2268864 2010-08-01 0,43 76,33  52,26 47,15 7,03 28079099"
      ]
     },
     "metadata": {},
     "output_type": "display_data"
    }
   ],
   "source": [
    "head(datasetMadrid, n = 24)\n",
    "tail(datasetMadrid)"
   ]
  },
  {
   "cell_type": "code",
   "execution_count": 49,
   "metadata": {},
   "outputs": [
    {
     "data": {
      "text/html": [
       "<table>\n",
       "<thead><tr><th scope=col>station</th><th scope=col>date</th><th scope=col>CO</th><th scope=col>NO_2</th><th scope=col>O_3</th><th scope=col>PM10</th><th scope=col>SO_2</th></tr></thead>\n",
       "<tbody>\n",
       "\t<tr><td>28079001  </td><td>2001-01-02</td><td>1,243333  </td><td>84,53750  </td><td>12,576667 </td><td>36,92455  </td><td>20,28083  </td></tr>\n",
       "\t<tr><td>28079001  </td><td>2001-01-03</td><td>1,242917  </td><td>79,75125  </td><td>10,961250 </td><td>37,21292  </td><td>16,23917  </td></tr>\n",
       "\t<tr><td>28079001  </td><td>2001-01-04</td><td>1,134167  </td><td>75,39250  </td><td>12,002917 </td><td>35,03667  </td><td>16,75125  </td></tr>\n",
       "\t<tr><td>28079001  </td><td>2001-01-05</td><td>1,535833  </td><td>77,14083  </td><td> 8,755833 </td><td>34,27625  </td><td>16,00958  </td></tr>\n",
       "\t<tr><td>28079001  </td><td>2001-01-06</td><td>1,009167  </td><td>64,47708  </td><td>13,955417 </td><td>17,03792  </td><td>15,35417  </td></tr>\n",
       "\t<tr><td>28079001  </td><td>2001-01-07</td><td>1,016250  </td><td>67,06125  </td><td>12,776250 </td><td>20,45500  </td><td>18,43042  </td></tr>\n",
       "</tbody>\n",
       "</table>\n"
      ],
      "text/latex": [
       "\\begin{tabular}{r|lllllll}\n",
       " station & date & CO & NO\\_2 & O\\_3 & PM10 & SO\\_2\\\\\n",
       "\\hline\n",
       "\t 28079001   & 2001-01-02 & 1,243333   & 84,53750   & 12,576667  & 36,92455   & 20,28083  \\\\\n",
       "\t 28079001   & 2001-01-03 & 1,242917   & 79,75125   & 10,961250  & 37,21292   & 16,23917  \\\\\n",
       "\t 28079001   & 2001-01-04 & 1,134167   & 75,39250   & 12,002917  & 35,03667   & 16,75125  \\\\\n",
       "\t 28079001   & 2001-01-05 & 1,535833   & 77,14083   &  8,755833  & 34,27625   & 16,00958  \\\\\n",
       "\t 28079001   & 2001-01-06 & 1,009167   & 64,47708   & 13,955417  & 17,03792   & 15,35417  \\\\\n",
       "\t 28079001   & 2001-01-07 & 1,016250   & 67,06125   & 12,776250  & 20,45500   & 18,43042  \\\\\n",
       "\\end{tabular}\n"
      ],
      "text/markdown": [
       "\n",
       "station | date | CO | NO_2 | O_3 | PM10 | SO_2 | \n",
       "|---|---|---|---|---|---|\n",
       "| 28079001   | 2001-01-02 | 1,243333   | 84,53750   | 12,576667  | 36,92455   | 20,28083   | \n",
       "| 28079001   | 2001-01-03 | 1,242917   | 79,75125   | 10,961250  | 37,21292   | 16,23917   | \n",
       "| 28079001   | 2001-01-04 | 1,134167   | 75,39250   | 12,002917  | 35,03667   | 16,75125   | \n",
       "| 28079001   | 2001-01-05 | 1,535833   | 77,14083   |  8,755833  | 34,27625   | 16,00958   | \n",
       "| 28079001   | 2001-01-06 | 1,009167   | 64,47708   | 13,955417  | 17,03792   | 15,35417   | \n",
       "| 28079001   | 2001-01-07 | 1,016250   | 67,06125   | 12,776250  | 20,45500   | 18,43042   | \n",
       "\n",
       "\n"
      ],
      "text/plain": [
       "  station  date       CO       NO_2     O_3       PM10     SO_2    \n",
       "1 28079001 2001-01-02 1,243333 84,53750 12,576667 36,92455 20,28083\n",
       "2 28079001 2001-01-03 1,242917 79,75125 10,961250 37,21292 16,23917\n",
       "3 28079001 2001-01-04 1,134167 75,39250 12,002917 35,03667 16,75125\n",
       "4 28079001 2001-01-05 1,535833 77,14083  8,755833 34,27625 16,00958\n",
       "5 28079001 2001-01-06 1,009167 64,47708 13,955417 17,03792 15,35417\n",
       "6 28079001 2001-01-07 1,016250 67,06125 12,776250 20,45500 18,43042"
      ]
     },
     "metadata": {},
     "output_type": "display_data"
    },
    {
     "data": {
      "text/html": [
       "<table>\n",
       "<thead><tr><th scope=col>station</th><th scope=col>date</th><th scope=col>CO</th><th scope=col>NO_2</th><th scope=col>O_3</th><th scope=col>PM10</th><th scope=col>SO_2</th></tr></thead>\n",
       "<tbody>\n",
       "\t<tr><td>28079099  </td><td>2010-12-27</td><td>0,6770833 </td><td>83,11375  </td><td> 7,620417 </td><td>31,41708  </td><td>15,32375  </td></tr>\n",
       "\t<tr><td>28079099  </td><td>2010-12-28</td><td>0,7100000 </td><td>86,31750  </td><td> 7,642500 </td><td>35,74667  </td><td>18,47833  </td></tr>\n",
       "\t<tr><td>28079099  </td><td>2010-12-29</td><td>0,7404167 </td><td>82,27375  </td><td> 9,689583 </td><td>31,68542  </td><td>18,05083  </td></tr>\n",
       "\t<tr><td>28079099  </td><td>2010-12-30</td><td>0,6145833 </td><td>68,60792  </td><td> 7,415417 </td><td>25,95917  </td><td>13,35000  </td></tr>\n",
       "\t<tr><td>28079099  </td><td>2010-12-31</td><td>0,4387500 </td><td>55,20375  </td><td>14,215417 </td><td>14,84542  </td><td>10,28958  </td></tr>\n",
       "\t<tr><td>28079099  </td><td>2011-01-01</td><td>0,4800000 </td><td>53,53000  </td><td> 6,850000 </td><td>19,45000  </td><td>11,71000  </td></tr>\n",
       "</tbody>\n",
       "</table>\n"
      ],
      "text/latex": [
       "\\begin{tabular}{r|lllllll}\n",
       " station & date & CO & NO\\_2 & O\\_3 & PM10 & SO\\_2\\\\\n",
       "\\hline\n",
       "\t 28079099   & 2010-12-27 & 0,6770833  & 83,11375   &  7,620417  & 31,41708   & 15,32375  \\\\\n",
       "\t 28079099   & 2010-12-28 & 0,7100000  & 86,31750   &  7,642500  & 35,74667   & 18,47833  \\\\\n",
       "\t 28079099   & 2010-12-29 & 0,7404167  & 82,27375   &  9,689583  & 31,68542   & 18,05083  \\\\\n",
       "\t 28079099   & 2010-12-30 & 0,6145833  & 68,60792   &  7,415417  & 25,95917   & 13,35000  \\\\\n",
       "\t 28079099   & 2010-12-31 & 0,4387500  & 55,20375   & 14,215417  & 14,84542   & 10,28958  \\\\\n",
       "\t 28079099   & 2011-01-01 & 0,4800000  & 53,53000   &  6,850000  & 19,45000   & 11,71000  \\\\\n",
       "\\end{tabular}\n"
      ],
      "text/markdown": [
       "\n",
       "station | date | CO | NO_2 | O_3 | PM10 | SO_2 | \n",
       "|---|---|---|---|---|---|\n",
       "| 28079099   | 2010-12-27 | 0,6770833  | 83,11375   |  7,620417  | 31,41708   | 15,32375   | \n",
       "| 28079099   | 2010-12-28 | 0,7100000  | 86,31750   |  7,642500  | 35,74667   | 18,47833   | \n",
       "| 28079099   | 2010-12-29 | 0,7404167  | 82,27375   |  9,689583  | 31,68542   | 18,05083   | \n",
       "| 28079099   | 2010-12-30 | 0,6145833  | 68,60792   |  7,415417  | 25,95917   | 13,35000   | \n",
       "| 28079099   | 2010-12-31 | 0,4387500  | 55,20375   | 14,215417  | 14,84542   | 10,28958   | \n",
       "| 28079099   | 2011-01-01 | 0,4800000  | 53,53000   |  6,850000  | 19,45000   | 11,71000   | \n",
       "\n",
       "\n"
      ],
      "text/plain": [
       "  station  date       CO        NO_2     O_3       PM10     SO_2    \n",
       "1 28079099 2010-12-27 0,6770833 83,11375  7,620417 31,41708 15,32375\n",
       "2 28079099 2010-12-28 0,7100000 86,31750  7,642500 35,74667 18,47833\n",
       "3 28079099 2010-12-29 0,7404167 82,27375  9,689583 31,68542 18,05083\n",
       "4 28079099 2010-12-30 0,6145833 68,60792  7,415417 25,95917 13,35000\n",
       "5 28079099 2010-12-31 0,4387500 55,20375 14,215417 14,84542 10,28958\n",
       "6 28079099 2011-01-01 0,4800000 53,53000  6,850000 19,45000 11,71000"
      ]
     },
     "metadata": {},
     "output_type": "display_data"
    }
   ],
   "source": [
    "madrid <- datasetMadrid %>%\n",
    "  group_by(station,date) %>%\n",
    "  summarise(CO = mean(CO, na.rm = TRUE),\n",
    "            NO_2 = mean(NO_2, na.rm = TRUE),\n",
    "            O_3 = mean(O_3, na.rm = TRUE),\n",
    "            PM10 = mean(PM10, na.rm = TRUE),\n",
    "            SO_2 = mean(SO_2, na.rm = TRUE))\n",
    "head(madrid)\n",
    "tail(madrid)\n",
    "rm(datasetMadrid)"
   ]
  },
  {
   "cell_type": "markdown",
   "metadata": {},
   "source": [
    "Observamos que la estacion `28079099` no tiene muestras desde 2011, se debe a que fue dada de baja ese año por lo que se procede a eliminar del estudio. A continuación mostramos el final del data.frame para observar que ya no se encuentra dicha estación."
   ]
  },
  {
   "cell_type": "code",
   "execution_count": 50,
   "metadata": {},
   "outputs": [
    {
     "data": {
      "text/html": [
       "<table>\n",
       "<thead><tr><th scope=col>station</th><th scope=col>date</th><th scope=col>CO</th><th scope=col>NO_2</th><th scope=col>O_3</th><th scope=col>PM10</th><th scope=col>SO_2</th></tr></thead>\n",
       "<tbody>\n",
       "\t<tr><td>28079060  </td><td>2018-04-26</td><td>NaN       </td><td>29,041667 </td><td>77,25000  </td><td>42,54167  </td><td>NaN       </td></tr>\n",
       "\t<tr><td>28079060  </td><td>2018-04-27</td><td>NaN       </td><td>20,958333 </td><td>81,83333  </td><td>29,57143  </td><td>NaN       </td></tr>\n",
       "\t<tr><td>28079060  </td><td>2018-04-28</td><td>NaN       </td><td> 8,375000 </td><td>87,20833  </td><td>10,33333  </td><td>NaN       </td></tr>\n",
       "\t<tr><td>28079060  </td><td>2018-04-29</td><td>NaN       </td><td> 6,958333 </td><td>93,08333  </td><td>14,45833  </td><td>NaN       </td></tr>\n",
       "\t<tr><td>28079060  </td><td>2018-04-30</td><td>NaN       </td><td>13,708333 </td><td>83,33333  </td><td>12,91667  </td><td>NaN       </td></tr>\n",
       "\t<tr><td>28079060  </td><td>2018-05-01</td><td>NaN       </td><td>14,000000 </td><td>81,00000  </td><td> 6,00000  </td><td>NaN       </td></tr>\n",
       "</tbody>\n",
       "</table>\n"
      ],
      "text/latex": [
       "\\begin{tabular}{r|lllllll}\n",
       " station & date & CO & NO\\_2 & O\\_3 & PM10 & SO\\_2\\\\\n",
       "\\hline\n",
       "\t 28079060   & 2018-04-26 & NaN        & 29,041667  & 77,25000   & 42,54167   & NaN       \\\\\n",
       "\t 28079060   & 2018-04-27 & NaN        & 20,958333  & 81,83333   & 29,57143   & NaN       \\\\\n",
       "\t 28079060   & 2018-04-28 & NaN        &  8,375000  & 87,20833   & 10,33333   & NaN       \\\\\n",
       "\t 28079060   & 2018-04-29 & NaN        &  6,958333  & 93,08333   & 14,45833   & NaN       \\\\\n",
       "\t 28079060   & 2018-04-30 & NaN        & 13,708333  & 83,33333   & 12,91667   & NaN       \\\\\n",
       "\t 28079060   & 2018-05-01 & NaN        & 14,000000  & 81,00000   &  6,00000   & NaN       \\\\\n",
       "\\end{tabular}\n"
      ],
      "text/markdown": [
       "\n",
       "station | date | CO | NO_2 | O_3 | PM10 | SO_2 | \n",
       "|---|---|---|---|---|---|\n",
       "| 28079060   | 2018-04-26 | NaN        | 29,041667  | 77,25000   | 42,54167   | NaN        | \n",
       "| 28079060   | 2018-04-27 | NaN        | 20,958333  | 81,83333   | 29,57143   | NaN        | \n",
       "| 28079060   | 2018-04-28 | NaN        |  8,375000  | 87,20833   | 10,33333   | NaN        | \n",
       "| 28079060   | 2018-04-29 | NaN        |  6,958333  | 93,08333   | 14,45833   | NaN        | \n",
       "| 28079060   | 2018-04-30 | NaN        | 13,708333  | 83,33333   | 12,91667   | NaN        | \n",
       "| 28079060   | 2018-05-01 | NaN        | 14,000000  | 81,00000   |  6,00000   | NaN        | \n",
       "\n",
       "\n"
      ],
      "text/plain": [
       "  station  date       CO  NO_2      O_3      PM10     SO_2\n",
       "1 28079060 2018-04-26 NaN 29,041667 77,25000 42,54167 NaN \n",
       "2 28079060 2018-04-27 NaN 20,958333 81,83333 29,57143 NaN \n",
       "3 28079060 2018-04-28 NaN  8,375000 87,20833 10,33333 NaN \n",
       "4 28079060 2018-04-29 NaN  6,958333 93,08333 14,45833 NaN \n",
       "5 28079060 2018-04-30 NaN 13,708333 83,33333 12,91667 NaN \n",
       "6 28079060 2018-05-01 NaN 14,000000 81,00000  6,00000 NaN "
      ]
     },
     "metadata": {},
     "output_type": "display_data"
    }
   ],
   "source": [
    "madrid <-  madrid[!madrid$station == 28079099,]\n",
    "tail(madrid)"
   ]
  },
  {
   "cell_type": "code",
   "execution_count": 51,
   "metadata": {
    "scrolled": true
   },
   "outputs": [
    {
     "data": {
      "text/html": [
       "<table>\n",
       "<thead><tr><th scope=col>date</th><th scope=col>l/m2</th></tr></thead>\n",
       "<tbody>\n",
       "\t<tr><td>2001-01-01</td><td>4.3       </td></tr>\n",
       "\t<tr><td>2001-01-02</td><td>0.1       </td></tr>\n",
       "\t<tr><td>2001-01-03</td><td>2.2       </td></tr>\n",
       "\t<tr><td>2001-01-04</td><td>2.4       </td></tr>\n",
       "\t<tr><td>2001-01-05</td><td>13.3      </td></tr>\n",
       "\t<tr><td>2001-01-06</td><td>0.0       </td></tr>\n",
       "</tbody>\n",
       "</table>\n"
      ],
      "text/latex": [
       "\\begin{tabular}{r|ll}\n",
       " date & l/m2\\\\\n",
       "\\hline\n",
       "\t 2001-01-01 & 4.3       \\\\\n",
       "\t 2001-01-02 & 0.1       \\\\\n",
       "\t 2001-01-03 & 2.2       \\\\\n",
       "\t 2001-01-04 & 2.4       \\\\\n",
       "\t 2001-01-05 & 13.3      \\\\\n",
       "\t 2001-01-06 & 0.0       \\\\\n",
       "\\end{tabular}\n"
      ],
      "text/markdown": [
       "\n",
       "date | l/m2 | \n",
       "|---|---|---|---|---|---|\n",
       "| 2001-01-01 | 4.3        | \n",
       "| 2001-01-02 | 0.1        | \n",
       "| 2001-01-03 | 2.2        | \n",
       "| 2001-01-04 | 2.4        | \n",
       "| 2001-01-05 | 13.3       | \n",
       "| 2001-01-06 | 0.0        | \n",
       "\n",
       "\n"
      ],
      "text/plain": [
       "  date       l/m2\n",
       "1 2001-01-01 4.3 \n",
       "2 2001-01-02 0.1 \n",
       "3 2001-01-03 2.2 \n",
       "4 2001-01-04 2.4 \n",
       "5 2001-01-05 13.3\n",
       "6 2001-01-06 0.0 "
      ]
     },
     "metadata": {},
     "output_type": "display_data"
    }
   ],
   "source": [
    "datasetRainfall$date <- as.Date(datasetRainfall$date)\n",
    "head(datasetRainfall)"
   ]
  },
  {
   "cell_type": "code",
   "execution_count": 52,
   "metadata": {
    "collapsed": true
   },
   "outputs": [],
   "source": [
    "#Procedemos a limpiar memoria de nuevo\n",
    "rainfall<-datasetRainfall\n",
    "rm(datasetRainfall)\n",
    "rm(percentageNA)\n",
    "rm(naPerColumn)"
   ]
  },
  {
   "cell_type": "code",
   "execution_count": 56,
   "metadata": {},
   "outputs": [
    {
     "data": {
      "text/html": [
       "<table>\n",
       "<thead><tr><th></th><th scope=col>date</th><th scope=col>station</th><th scope=col>CO</th><th scope=col>NO_2</th><th scope=col>O_3</th><th scope=col>PM10</th><th scope=col>SO_2</th><th scope=col>l/m2</th></tr></thead>\n",
       "<tbody>\n",
       "\t<tr><th scope=row>32</th><td>2001-01-02</td><td>28079001  </td><td>1,243333  </td><td>84,53750  </td><td>12,576667 </td><td>36,92455  </td><td>20,28083  </td><td>0.1       </td></tr>\n",
       "\t<tr><th scope=row>57</th><td>2001-01-03</td><td>28079001  </td><td>1,242917  </td><td>79,75125  </td><td>10,961250 </td><td>37,21292  </td><td>16,23917  </td><td>2.2       </td></tr>\n",
       "\t<tr><th scope=row>80</th><td>2001-01-04</td><td>28079001  </td><td>1,134167  </td><td>75,39250  </td><td>12,002917 </td><td>35,03667  </td><td>16,75125  </td><td>2.4       </td></tr>\n",
       "\t<tr><th scope=row>116</th><td>2001-01-05</td><td>28079001  </td><td>1,535833  </td><td>77,14083  </td><td> 8,755833 </td><td>34,27625  </td><td>16,00958  </td><td>13.3      </td></tr>\n",
       "\t<tr><th scope=row>138</th><td>2001-01-06</td><td>28079001  </td><td>1,009167  </td><td>64,47708  </td><td>13,955417 </td><td>17,03792  </td><td>15,35417  </td><td>0.0       </td></tr>\n",
       "\t<tr><th scope=row>168</th><td>2001-01-07</td><td>28079001  </td><td>1,016250  </td><td>67,06125  </td><td>12,776250 </td><td>20,45500  </td><td>18,43042  </td><td>0.0       </td></tr>\n",
       "</tbody>\n",
       "</table>\n"
      ],
      "text/latex": [
       "\\begin{tabular}{r|llllllll}\n",
       "  & date & station & CO & NO\\_2 & O\\_3 & PM10 & SO\\_2 & l/m2\\\\\n",
       "\\hline\n",
       "\t32 & 2001-01-02 & 28079001   & 1,243333   & 84,53750   & 12,576667  & 36,92455   & 20,28083   & 0.1       \\\\\n",
       "\t57 & 2001-01-03 & 28079001   & 1,242917   & 79,75125   & 10,961250  & 37,21292   & 16,23917   & 2.2       \\\\\n",
       "\t80 & 2001-01-04 & 28079001   & 1,134167   & 75,39250   & 12,002917  & 35,03667   & 16,75125   & 2.4       \\\\\n",
       "\t116 & 2001-01-05 & 28079001   & 1,535833   & 77,14083   &  8,755833  & 34,27625   & 16,00958   & 13.3      \\\\\n",
       "\t138 & 2001-01-06 & 28079001   & 1,009167   & 64,47708   & 13,955417  & 17,03792   & 15,35417   & 0.0       \\\\\n",
       "\t168 & 2001-01-07 & 28079001   & 1,016250   & 67,06125   & 12,776250  & 20,45500   & 18,43042   & 0.0       \\\\\n",
       "\\end{tabular}\n"
      ],
      "text/markdown": [
       "\n",
       "| <!--/--> | date | station | CO | NO_2 | O_3 | PM10 | SO_2 | l/m2 | \n",
       "|---|---|---|---|---|---|\n",
       "| 32 | 2001-01-02 | 28079001   | 1,243333   | 84,53750   | 12,576667  | 36,92455   | 20,28083   | 0.1        | \n",
       "| 57 | 2001-01-03 | 28079001   | 1,242917   | 79,75125   | 10,961250  | 37,21292   | 16,23917   | 2.2        | \n",
       "| 80 | 2001-01-04 | 28079001   | 1,134167   | 75,39250   | 12,002917  | 35,03667   | 16,75125   | 2.4        | \n",
       "| 116 | 2001-01-05 | 28079001   | 1,535833   | 77,14083   |  8,755833  | 34,27625   | 16,00958   | 13.3       | \n",
       "| 138 | 2001-01-06 | 28079001   | 1,009167   | 64,47708   | 13,955417  | 17,03792   | 15,35417   | 0.0        | \n",
       "| 168 | 2001-01-07 | 28079001   | 1,016250   | 67,06125   | 12,776250  | 20,45500   | 18,43042   | 0.0        | \n",
       "\n",
       "\n"
      ],
      "text/plain": [
       "    date       station  CO       NO_2     O_3       PM10     SO_2     l/m2\n",
       "32  2001-01-02 28079001 1,243333 84,53750 12,576667 36,92455 20,28083 0.1 \n",
       "57  2001-01-03 28079001 1,242917 79,75125 10,961250 37,21292 16,23917 2.2 \n",
       "80  2001-01-04 28079001 1,134167 75,39250 12,002917 35,03667 16,75125 2.4 \n",
       "116 2001-01-05 28079001 1,535833 77,14083  8,755833 34,27625 16,00958 13.3\n",
       "138 2001-01-06 28079001 1,009167 64,47708 13,955417 17,03792 15,35417 0.0 \n",
       "168 2001-01-07 28079001 1,016250 67,06125 12,776250 20,45500 18,43042 0.0 "
      ]
     },
     "metadata": {},
     "output_type": "display_data"
    }
   ],
   "source": [
    "#Cruzamos los datos de las precipitaciones y la contaminacion por fecha \n",
    "data <- merge ( x = madrid, y = rainfall, by = \"date\")\n",
    "head(data[order(data$station),])"
   ]
  },
  {
   "cell_type": "code",
   "execution_count": null,
   "metadata": {
    "collapsed": true
   },
   "outputs": [],
   "source": []
  }
 ],
 "metadata": {
  "kernelspec": {
   "display_name": "R",
   "language": "R",
   "name": "ir"
  },
  "language_info": {
   "codemirror_mode": "r",
   "file_extension": ".r",
   "mimetype": "text/x-r-source",
   "name": "R",
   "pygments_lexer": "r",
   "version": "3.5.1"
  }
 },
 "nbformat": 4,
 "nbformat_minor": 2
}

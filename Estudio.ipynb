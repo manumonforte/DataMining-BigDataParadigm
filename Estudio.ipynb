{
 "cells": [
  {
   "cell_type": "markdown",
   "metadata": {},
   "source": [
    "# Influencia del viendo y precipitaciones en la calidad del aire"
   ]
  },
  {
   "cell_type": "markdown",
   "metadata": {},
   "source": [
    "Durante la elaboración de este estudio se utilizará la metodología SEMMA (Sample,  Explore,  Modify, Model, Assess),en cada una de las fases se irá explicando los pasos realizados.\n",
    "\n",
    "Como paso previo al estudio, se realizará la carga de paquetes y librerías necesarias para el mismo."
   ]
  },
  {
   "cell_type": "markdown",
   "metadata": {},
   "source": [
    "## Instalamos Paquetes y cargamos librerias"
   ]
  },
  {
   "cell_type": "code",
   "execution_count": 626,
   "metadata": {
    "scrolled": true
   },
   "outputs": [],
   "source": [
    "#Limpiamos memoria\n",
    "rm(list=ls());\n",
    "is.installed <- function(mypkg) {\n",
    "  is.element(mypkg, installed.packages()[,1]) \n",
    "}\n",
    "\n",
    "#Instalamos paquetes para agrupar csv\n",
    "if (!is.installed(\"data.table\")){\n",
    "  install.packages(\"data.table\",repos = \"http://cran.us.r-project.org\")\n",
    "};\n",
    "#Intslamos paquete para manipular ts\n",
    "if (!is.installed(\"xts\")){\n",
    "  install.packages(\"xts\",repos = \"http://cran.us.r-project.org\")\n",
    "};\n",
    "#Instalamos paquete para agrupar datos\n",
    "if (!is.installed(\"dplyr\")){\n",
    "  install.packages(\"dplyr\",repos = \"http://cran.us.r-project.org\")\n",
    "};\n",
    "# Instalamos paquete para leer exccels\n",
    "if (!is.installed(\"readxl\")){\n",
    "  install.packages(\"readxl\",repos = \"http://cran.us.r-project.org\")\n",
    "};\n",
    "#Instalamos paquetes para modelo predictivo de arbol\n",
    "if (!is.installed(\"party\")){\n",
    "  install.packages(\"party\",repos = \"http://cran.us.r-project.org\")\n",
    "};\n",
    "if (!is.installed(\"rpart\")){\n",
    "  install.packages(\"rpart\",repos = \"http://cran.us.r-project.org\")\n",
    "};\n",
    "if (!is.installed(\"randomForest\")){\n",
    "  install.packages(\"randomForest\",repos = \"http://cran.us.r-project.org\")\n",
    "};\n",
    "if (!is.installed(\"rpart.plot\")){\n",
    "  install.packages(\"rpart.plot\",repos = \"http://cran.us.r-project.org\")\n",
    "};\n",
    "if (!is.installed(\"rattle\")){\n",
    "  install.packages(\"rattle\",repos = \"http://cran.us.r-project.org\")\n",
    "};\n",
    "if (!is.installed(\"RColorBrewer\")){\n",
    "  install.packages(\"RColorBrewer\",repos = \"http://cran.us.r-project.org\")\n",
    "};\n",
    "if (!is.installed(\"tidyr\")){\n",
    "  install.packages(\"tidyr\",repos = \"http://cran.us.r-project.org\")\n",
    "};"
   ]
  },
  {
   "cell_type": "code",
   "execution_count": 627,
   "metadata": {},
   "outputs": [],
   "source": [
    "# Cargamos las librerias\n",
    "library(data.table)\n",
    "library(xts)\n",
    "library(dplyr)    # loads %>%\n",
    "library(readxl)\n",
    "library(ggplot2)\n",
    "library(party)\n",
    "library(rpart)\n",
    "library(randomForest)\n",
    "library(rpart.plot)\n",
    "library(rattle)\n",
    "library(RColorBrewer)\n",
    "library(tidyr)"
   ]
  },
  {
   "cell_type": "markdown",
   "metadata": {},
   "source": [
    "## 1º FASE: Sample"
   ]
  },
  {
   "cell_type": "markdown",
   "metadata": {},
   "source": [
    "Se toma una muestra de los datos y se crea con ellos un dataset (más) reducido. Las muestras deben ser lo suficientemente grandes como para contener toda la información significativa pero también lo suficientemente pequeñas como para poder procesarlas rápidamente.\n"
   ]
  },
  {
   "cell_type": "markdown",
   "metadata": {},
   "source": [
    "### Cargamos datos calidad del aire 2001-2018 Madrid"
   ]
  },
  {
   "cell_type": "markdown",
   "metadata": {},
   "source": [
    "Cargamos en un dataframe las mediciones de los contaminantes de Madrid entre 2001-2018"
   ]
  },
  {
   "cell_type": "code",
   "execution_count": 628,
   "metadata": {},
   "outputs": [],
   "source": [
    "#Cargamos los datos de los anos en un dataset (utilziamos read.csv ya que el separador es,)\n",
    "\n",
    "data2001<- read.csv(file = \"data/madrid_2001.csv\",header = TRUE);\n",
    "data2002<- read.csv(file = \"data/madrid_2002.csv\",header = TRUE);\n",
    "data2003<- read.csv(file = \"data/madrid_2003.csv\",header = TRUE);\n",
    "data2004<- read.csv(file = \"data/madrid_2004.csv\",header = TRUE);\n",
    "data2005<- read.csv(file = \"data/madrid_2005.csv\",header = TRUE);\n",
    "data2006<- read.csv(file = \"data/madrid_2006.csv\",header = TRUE);\n",
    "data2007<- read.csv(file = \"data/madrid_2007.csv\",header = TRUE);\n",
    "data2008<- read.csv(file = \"data/madrid_2008.csv\",header = TRUE);\n",
    "data2009<- read.csv(file = \"data/madrid_2009.csv\",header = TRUE);\n",
    "data2010<- read.csv(file = \"data/madrid_2010.csv\",header = TRUE);\n",
    "data2011<- read.csv(file = \"data/madrid_2011.csv\",header = TRUE);\n",
    "data2012<- read.csv(file = \"data/madrid_2012.csv\",header = TRUE);\n",
    "data2013<- read.csv(file = \"data/madrid_2013.csv\",header = TRUE);\n",
    "data2014<- read.csv(file = \"data/madrid_2014.csv\",header = TRUE);\n",
    "data2015<- read.csv(file = \"data/madrid_2015.csv\",header = TRUE);\n",
    "data2016<- read.csv(file = \"data/madrid_2016.csv\",header = TRUE);\n",
    "data2017<- read.csv(file = \"data/madrid_2017.csv\",header = TRUE);\n",
    "data2018<- read.csv(file = \"data/madrid_2018.csv\",header = TRUE);"
   ]
  },
  {
   "cell_type": "code",
   "execution_count": 629,
   "metadata": {},
   "outputs": [],
   "source": [
    "# unimos los datos \n",
    "data <- data.table::rbindlist(list(data2001,data2002,data2003,data2004,data2005,data2006,\n",
    "                                   data2007,data2008,data2009,data2010,data2011,data2012,\n",
    "                                   data2013,data2014,data2015,data2016,data2017,data2018),\n",
    "                                   fill = TRUE);\n",
    "\n",
    "# convertimos la lista en un dataset\n",
    "airMadrid <- as.data.frame(data); \n",
    "\n",
    "# liberamos memoria\n",
    "rm(list=ls(pattern=\"data\"))"
   ]
  },
  {
   "cell_type": "markdown",
   "metadata": {},
   "source": [
    "###  Carga datos Precipitaciones 2001-2018"
   ]
  },
  {
   "cell_type": "markdown",
   "metadata": {},
   "source": [
    "Cargamos en un dataframe las mediciones de las precipitaciones de Madrid entre 2001-2018"
   ]
  },
  {
   "cell_type": "code",
   "execution_count": 630,
   "metadata": {},
   "outputs": [],
   "source": [
    "#Cargamos los datos de las precipitaciones\n",
    "rainfall_2001<- readxl::read_xlsx(\"data/rainfall_2001.xlsx\",col_names = TRUE);\n",
    "rainfall_2002<- readxl::read_xlsx(\"data/rainfall_2002.xlsx\",col_names = TRUE);\n",
    "rainfall_2003<- readxl::read_xlsx(\"data/rainfall_2003.xlsx\",col_names = TRUE);\n",
    "rainfall_2004<- readxl::read_xlsx(\"data/rainfall_2004.xlsx\",col_names = TRUE);\n",
    "rainfall_2005<- readxl::read_xlsx(\"data/rainfall_2005.xlsx\",col_names = TRUE);\n",
    "rainfall_2006<- readxl::read_xlsx(\"data/rainfall_2006.xlsx\",col_names = TRUE);\n",
    "rainfall_2007<- readxl::read_xlsx(\"data/rainfall_2007.xlsx\",col_names = TRUE);\n",
    "rainfall_2008<- readxl::read_xlsx(\"data/rainfall_2008.xlsx\",col_names = TRUE);\n",
    "rainfall_2009<- readxl::read_xlsx(\"data/rainfall_2009.xlsx\",col_names = TRUE);\n",
    "rainfall_2010<- readxl::read_xlsx(\"data/rainfall_2010.xlsx\",col_names = TRUE);\n",
    "rainfall_2011<- readxl::read_xlsx(\"data/rainfall_2011.xlsx\",col_names = TRUE);\n",
    "rainfall_2012<- readxl::read_xlsx(\"data/rainfall_2012.xlsx\",col_names = TRUE);\n",
    "rainfall_2013<- readxl::read_xlsx(\"data/rainfall_2013.xlsx\",col_names = TRUE);\n",
    "rainfall_2014<- readxl::read_xlsx(\"data/rainfall_2014.xlsx\",col_names = TRUE);\n",
    "rainfall_2015<- readxl::read_xlsx(\"data/rainfall_2015.xlsx\",col_names = TRUE);\n",
    "rainfall_2016<- readxl::read_xlsx(\"data/rainfall_2016.xlsx\",col_names = TRUE);\n",
    "rainfall_2017<- readxl::read_xlsx(\"data/rainfall_2017.xlsx\",col_names = TRUE);\n",
    "rainfall_2018<- readxl::read_xlsx(\"data/rainfall_2018.xlsx\",col_names = TRUE);"
   ]
  },
  {
   "cell_type": "code",
   "execution_count": 631,
   "metadata": {},
   "outputs": [],
   "source": [
    "# unimos los datos\n",
    "rainfall <- data.table::rbindlist(list(rainfall_2001,rainfall_2002,rainfall_2003,rainfall_2004,\n",
    "              rainfall_2005,rainfall_2006,rainfall_2007,rainfall_2008,rainfall_2009,rainfall_2010,\n",
    "              rainfall_2011,rainfall_2012,rainfall_2013,rainfall_2014,rainfall_2015,rainfall_2016,\n",
    "rainfall_2017,rainfall_2018), fill = TRUE)\n",
    "\n",
    "# convertimos la lista en un dataset\n",
    "dataFrameRainfall <- as.data.frame(rainfall);\n",
    "\n",
    "# liberamos memoria\n",
    "rm(list=ls(pattern=\"rainfall\"))\n",
    "\n"
   ]
  },
  {
   "cell_type": "markdown",
   "metadata": {},
   "source": [
    "### Carga datos Viento 2001-2018"
   ]
  },
  {
   "cell_type": "markdown",
   "metadata": {},
   "source": [
    "Cargamos en un dataframe las mediciones del viento de Madrid entre 2001-2018"
   ]
  },
  {
   "cell_type": "code",
   "execution_count": 632,
   "metadata": {},
   "outputs": [],
   "source": [
    "#Cargamos los datos de las precipitaciones\n",
    "wind_2001<- readxl::read_xlsx(\"data/wind_2001.xlsx\",col_names = TRUE);\n",
    "wind_2002<- readxl::read_xlsx(\"data/wind_2002.xlsx\",col_names = TRUE);\n",
    "wind_2003<- readxl::read_xlsx(\"data/wind_2003.xlsx\",col_names = TRUE);\n",
    "wind_2004<- readxl::read_xlsx(\"data/wind_2004.xlsx\",col_names = TRUE);\n",
    "wind_2005<- readxl::read_xlsx(\"data/wind_2005.xlsx\",col_names = TRUE);\n",
    "wind_2006<- readxl::read_xlsx(\"data/wind_2006.xlsx\",col_names = TRUE);\n",
    "wind_2007<- readxl::read_xlsx(\"data/wind_2007.xlsx\",col_names = TRUE);\n",
    "wind_2008<- readxl::read_xlsx(\"data/wind_2008.xlsx\",col_names = TRUE);\n",
    "wind_2009<- readxl::read_xlsx(\"data/wind_2009.xlsx\",col_names = TRUE);\n",
    "wind_2010<- readxl::read_xlsx(\"data/wind_2010.xlsx\",col_names = TRUE);\n",
    "wind_2011<- readxl::read_xlsx(\"data/wind_2011.xlsx\",col_names = TRUE);\n",
    "wind_2012<- readxl::read_xlsx(\"data/wind_2012.xlsx\",col_names = TRUE);\n",
    "wind_2013<- readxl::read_xlsx(\"data/wind_2013.xlsx\",col_names = TRUE);\n",
    "wind_2014<- readxl::read_xlsx(\"data/wind_2014.xlsx\",col_names = TRUE);\n",
    "wind_2015<- readxl::read_xlsx(\"data/wind_2015.xlsx\",col_names = TRUE);\n",
    "wind_2016<- readxl::read_xlsx(\"data/wind_2016.xlsx\",col_names = TRUE);\n",
    "wind_2017<- readxl::read_xlsx(\"data/wind_2017.xlsx\",col_names = TRUE);\n",
    "wind_2018<- readxl::read_xlsx(\"data/wind_2018.xlsx\",col_names = TRUE);"
   ]
  },
  {
   "cell_type": "code",
   "execution_count": 633,
   "metadata": {},
   "outputs": [],
   "source": [
    "wind <- data.table::rbindlist(list(wind_2001,wind_2002,wind_2003,wind_2004,\n",
    "              wind_2005,wind_2006,wind_2007,wind_2008,wind_2009,wind_2010,\n",
    "              wind_2011,wind_2012,wind_2013,wind_2014,wind_2015,wind_2016,\n",
    "wind_2017,wind_2018), fill = TRUE)\n",
    "\n",
    "dataFrameWind <- as.data.frame(wind);\n",
    "\n",
    "rm(list=ls(pattern=\"wind\"))\n",
    "\n",
    "wind <-dataFrameWind\n",
    "rm(dataFrameWind)"
   ]
  },
  {
   "cell_type": "markdown",
   "metadata": {},
   "source": [
    "## 2º FASE: Explore"
   ]
  },
  {
   "cell_type": "markdown",
   "metadata": {},
   "source": [
    "Se analizan (exploran) los datos para comprenderlos, buscando relaciones previstas, tendencias imprevistas y/o anomalías, así como ideas para su posterior procesamiento.\n",
    "\n",
    "Para cada uno de los dataframe creados se visualizará el principo y el final de los mismas para observar si el intervalo en el que se encuentran abarca 2001-2018"
   ]
  },
  {
   "cell_type": "markdown",
   "metadata": {},
   "source": [
    "### Visualizacion inicial datos calidad del aire"
   ]
  },
  {
   "cell_type": "code",
   "execution_count": 634,
   "metadata": {},
   "outputs": [
    {
     "data": {
      "text/html": [
       "<table>\n",
       "<thead><tr><th scope=col>date</th><th scope=col>BEN</th><th scope=col>CO</th><th scope=col>EBE</th><th scope=col>MXY</th><th scope=col>NMHC</th><th scope=col>NO_2</th><th scope=col>NOx</th><th scope=col>OXY</th><th scope=col>O_3</th><th scope=col>PM10</th><th scope=col>PXY</th><th scope=col>SO_2</th><th scope=col>TCH</th><th scope=col>TOL</th><th scope=col>station</th><th scope=col>PM25</th><th scope=col>NO</th><th scope=col>CH4</th></tr></thead>\n",
       "<tbody>\n",
       "\t<tr><td>2001-08-01 01:00:00</td><td>  NA               </td><td>0.37               </td><td>  NA               </td><td>  NA               </td><td>  NA               </td><td>58.40              </td><td> 87.15             </td><td>  NA               </td><td>34.53              </td><td>105.00             </td><td>  NA               </td><td>6.34               </td><td>  NA               </td><td>   NA              </td><td>28079001           </td><td>NA                 </td><td>NA                 </td><td>NA                 </td></tr>\n",
       "\t<tr><td>2001-08-01 01:00:00</td><td>1.50               </td><td>0.34               </td><td>1.49               </td><td>4.10               </td><td>0.07               </td><td>56.25              </td><td> 75.17             </td><td>2.11               </td><td>42.16              </td><td>100.60             </td><td>1.73               </td><td>8.11               </td><td>1.24               </td><td>10.82              </td><td>28079035           </td><td>NA                 </td><td>NA                 </td><td>NA                 </td></tr>\n",
       "\t<tr><td>2001-08-01 01:00:00</td><td>  NA               </td><td>0.28               </td><td>  NA               </td><td>  NA               </td><td>  NA               </td><td>50.66              </td><td> 61.38             </td><td>  NA               </td><td>46.31              </td><td>100.10             </td><td>  NA               </td><td>7.85               </td><td>  NA               </td><td>   NA              </td><td>28079003           </td><td>NA                 </td><td>NA                 </td><td>NA                 </td></tr>\n",
       "\t<tr><td>2001-08-01 01:00:00</td><td>  NA               </td><td>0.47               </td><td>  NA               </td><td>  NA               </td><td>  NA               </td><td>69.79              </td><td> 73.45             </td><td>  NA               </td><td>40.65              </td><td> 69.78             </td><td>  NA               </td><td>6.46               </td><td>  NA               </td><td>   NA              </td><td>28079004           </td><td>NA                 </td><td>NA                 </td><td>NA                 </td></tr>\n",
       "\t<tr><td>2001-08-01 01:00:00</td><td>  NA               </td><td>0.39               </td><td>  NA               </td><td>  NA               </td><td>  NA               </td><td>22.83              </td><td> 24.80             </td><td>  NA               </td><td>66.31              </td><td> 75.18             </td><td>  NA               </td><td>8.80               </td><td>  NA               </td><td>   NA              </td><td>28079039           </td><td>NA                 </td><td>NA                 </td><td>NA                 </td></tr>\n",
       "\t<tr><td>2001-08-01 01:00:00</td><td>2.11               </td><td>0.63               </td><td>2.48               </td><td>5.94               </td><td>0.05               </td><td>66.26              </td><td>118.10             </td><td>3.15               </td><td>33.50              </td><td>122.70             </td><td>2.29               </td><td>6.36               </td><td>1.23               </td><td>13.28              </td><td>28079006           </td><td>NA                 </td><td>NA                 </td><td>NA                 </td></tr>\n",
       "</tbody>\n",
       "</table>\n"
      ],
      "text/latex": [
       "\\begin{tabular}{r|lllllllllllllllllll}\n",
       " date & BEN & CO & EBE & MXY & NMHC & NO\\_2 & NOx & OXY & O\\_3 & PM10 & PXY & SO\\_2 & TCH & TOL & station & PM25 & NO & CH4\\\\\n",
       "\\hline\n",
       "\t 2001-08-01 01:00:00 &   NA                & 0.37                &   NA                &   NA                &   NA                & 58.40               &  87.15              &   NA                & 34.53               & 105.00              &   NA                & 6.34                &   NA                &    NA               & 28079001            & NA                  & NA                  & NA                 \\\\\n",
       "\t 2001-08-01 01:00:00 & 1.50                & 0.34                & 1.49                & 4.10                & 0.07                & 56.25               &  75.17              & 2.11                & 42.16               & 100.60              & 1.73                & 8.11                & 1.24                & 10.82               & 28079035            & NA                  & NA                  & NA                 \\\\\n",
       "\t 2001-08-01 01:00:00 &   NA                & 0.28                &   NA                &   NA                &   NA                & 50.66               &  61.38              &   NA                & 46.31               & 100.10              &   NA                & 7.85                &   NA                &    NA               & 28079003            & NA                  & NA                  & NA                 \\\\\n",
       "\t 2001-08-01 01:00:00 &   NA                & 0.47                &   NA                &   NA                &   NA                & 69.79               &  73.45              &   NA                & 40.65               &  69.78              &   NA                & 6.46                &   NA                &    NA               & 28079004            & NA                  & NA                  & NA                 \\\\\n",
       "\t 2001-08-01 01:00:00 &   NA                & 0.39                &   NA                &   NA                &   NA                & 22.83               &  24.80              &   NA                & 66.31               &  75.18              &   NA                & 8.80                &   NA                &    NA               & 28079039            & NA                  & NA                  & NA                 \\\\\n",
       "\t 2001-08-01 01:00:00 & 2.11                & 0.63                & 2.48                & 5.94                & 0.05                & 66.26               & 118.10              & 3.15                & 33.50               & 122.70              & 2.29                & 6.36                & 1.23                & 13.28               & 28079006            & NA                  & NA                  & NA                 \\\\\n",
       "\\end{tabular}\n"
      ],
      "text/markdown": [
       "\n",
       "date | BEN | CO | EBE | MXY | NMHC | NO_2 | NOx | OXY | O_3 | PM10 | PXY | SO_2 | TCH | TOL | station | PM25 | NO | CH4 | \n",
       "|---|---|---|---|---|---|\n",
       "| 2001-08-01 01:00:00 |   NA                | 0.37                |   NA                |   NA                |   NA                | 58.40               |  87.15              |   NA                | 34.53               | 105.00              |   NA                | 6.34                |   NA                |    NA               | 28079001            | NA                  | NA                  | NA                  | \n",
       "| 2001-08-01 01:00:00 | 1.50                | 0.34                | 1.49                | 4.10                | 0.07                | 56.25               |  75.17              | 2.11                | 42.16               | 100.60              | 1.73                | 8.11                | 1.24                | 10.82               | 28079035            | NA                  | NA                  | NA                  | \n",
       "| 2001-08-01 01:00:00 |   NA                | 0.28                |   NA                |   NA                |   NA                | 50.66               |  61.38              |   NA                | 46.31               | 100.10              |   NA                | 7.85                |   NA                |    NA               | 28079003            | NA                  | NA                  | NA                  | \n",
       "| 2001-08-01 01:00:00 |   NA                | 0.47                |   NA                |   NA                |   NA                | 69.79               |  73.45              |   NA                | 40.65               |  69.78              |   NA                | 6.46                |   NA                |    NA               | 28079004            | NA                  | NA                  | NA                  | \n",
       "| 2001-08-01 01:00:00 |   NA                | 0.39                |   NA                |   NA                |   NA                | 22.83               |  24.80              |   NA                | 66.31               |  75.18              |   NA                | 8.80                |   NA                |    NA               | 28079039            | NA                  | NA                  | NA                  | \n",
       "| 2001-08-01 01:00:00 | 2.11                | 0.63                | 2.48                | 5.94                | 0.05                | 66.26               | 118.10              | 3.15                | 33.50               | 122.70              | 2.29                | 6.36                | 1.23                | 13.28               | 28079006            | NA                  | NA                  | NA                  | \n",
       "\n",
       "\n"
      ],
      "text/plain": [
       "  date                BEN  CO   EBE  MXY  NMHC NO_2  NOx    OXY  O_3   PM10  \n",
       "1 2001-08-01 01:00:00   NA 0.37   NA   NA   NA 58.40  87.15   NA 34.53 105.00\n",
       "2 2001-08-01 01:00:00 1.50 0.34 1.49 4.10 0.07 56.25  75.17 2.11 42.16 100.60\n",
       "3 2001-08-01 01:00:00   NA 0.28   NA   NA   NA 50.66  61.38   NA 46.31 100.10\n",
       "4 2001-08-01 01:00:00   NA 0.47   NA   NA   NA 69.79  73.45   NA 40.65  69.78\n",
       "5 2001-08-01 01:00:00   NA 0.39   NA   NA   NA 22.83  24.80   NA 66.31  75.18\n",
       "6 2001-08-01 01:00:00 2.11 0.63 2.48 5.94 0.05 66.26 118.10 3.15 33.50 122.70\n",
       "  PXY  SO_2 TCH  TOL   station  PM25 NO CH4\n",
       "1   NA 6.34   NA    NA 28079001 NA   NA NA \n",
       "2 1.73 8.11 1.24 10.82 28079035 NA   NA NA \n",
       "3   NA 7.85   NA    NA 28079003 NA   NA NA \n",
       "4   NA 6.46   NA    NA 28079004 NA   NA NA \n",
       "5   NA 8.80   NA    NA 28079039 NA   NA NA \n",
       "6 2.29 6.36 1.23 13.28 28079006 NA   NA NA "
      ]
     },
     "metadata": {},
     "output_type": "display_data"
    }
   ],
   "source": [
    "head(airMadrid)"
   ]
  },
  {
   "cell_type": "code",
   "execution_count": 635,
   "metadata": {},
   "outputs": [
    {
     "data": {
      "text/html": [
       "<table>\n",
       "<thead><tr><th></th><th scope=col>date</th><th scope=col>BEN</th><th scope=col>CO</th><th scope=col>EBE</th><th scope=col>MXY</th><th scope=col>NMHC</th><th scope=col>NO_2</th><th scope=col>NOx</th><th scope=col>OXY</th><th scope=col>O_3</th><th scope=col>PM10</th><th scope=col>PXY</th><th scope=col>SO_2</th><th scope=col>TCH</th><th scope=col>TOL</th><th scope=col>station</th><th scope=col>PM25</th><th scope=col>NO</th><th scope=col>CH4</th></tr></thead>\n",
       "<tbody>\n",
       "\t<tr><th scope=row>3808219</th><td>2018-02-01 00:00:00</td><td>1.3                </td><td> NA                </td><td>1.2                </td><td>NA                 </td><td>0.13               </td><td> 94                </td><td>190                </td><td>NA                 </td><td>NA                 </td><td>35                 </td><td>NA                 </td><td>NA                 </td><td>1.68               </td><td>5.2                </td><td>28079055           </td><td>NA                 </td><td> 63                </td><td>1.55               </td></tr>\n",
       "\t<tr><th scope=row>3808220</th><td>2018-02-01 00:00:00</td><td> NA                </td><td>0.5                </td><td> NA                </td><td>NA                 </td><td>  NA               </td><td> 91                </td><td>192                </td><td>NA                 </td><td> 1                 </td><td>35                 </td><td>NA                 </td><td>NA                 </td><td>  NA               </td><td> NA                </td><td>28079056           </td><td>22                 </td><td> 66                </td><td>  NA               </td></tr>\n",
       "\t<tr><th scope=row>3808221</th><td>2018-02-01 00:00:00</td><td> NA                </td><td>0.7                </td><td> NA                </td><td>NA                 </td><td>  NA               </td><td>107                </td><td>241                </td><td>NA                 </td><td>NA                 </td><td>29                 </td><td>NA                 </td><td>15                 </td><td>  NA               </td><td> NA                </td><td>28079057           </td><td>NA                 </td><td> 87                </td><td>  NA               </td></tr>\n",
       "\t<tr><th scope=row>3808222</th><td>2018-02-01 00:00:00</td><td> NA                </td><td> NA                </td><td> NA                </td><td>NA                 </td><td>  NA               </td><td> 48                </td><td> 91                </td><td>NA                 </td><td> 2                 </td><td>NA                 </td><td>NA                 </td><td>NA                 </td><td>  NA               </td><td> NA                </td><td>28079058           </td><td>NA                 </td><td> 28                </td><td>  NA               </td></tr>\n",
       "\t<tr><th scope=row>3808223</th><td>2018-02-01 00:00:00</td><td> NA                </td><td> NA                </td><td> NA                </td><td>NA                 </td><td>  NA               </td><td>103                </td><td>320                </td><td>NA                 </td><td> 2                 </td><td>NA                 </td><td>NA                 </td><td>NA                 </td><td>  NA               </td><td> NA                </td><td>28079059           </td><td>NA                 </td><td>141                </td><td>  NA               </td></tr>\n",
       "\t<tr><th scope=row>3808224</th><td>2018-02-01 00:00:00</td><td> NA                </td><td> NA                </td><td> NA                </td><td>NA                 </td><td>  NA               </td><td> 96                </td><td>202                </td><td>NA                 </td><td> 3                 </td><td>26                 </td><td>NA                 </td><td>NA                 </td><td>  NA               </td><td> NA                </td><td>28079060           </td><td>NA                 </td><td> 69                </td><td>  NA               </td></tr>\n",
       "</tbody>\n",
       "</table>\n"
      ],
      "text/latex": [
       "\\begin{tabular}{r|lllllllllllllllllll}\n",
       "  & date & BEN & CO & EBE & MXY & NMHC & NO\\_2 & NOx & OXY & O\\_3 & PM10 & PXY & SO\\_2 & TCH & TOL & station & PM25 & NO & CH4\\\\\n",
       "\\hline\n",
       "\t3808219 & 2018-02-01 00:00:00 & 1.3                 &  NA                 & 1.2                 & NA                  & 0.13                &  94                 & 190                 & NA                  & NA                  & 35                  & NA                  & NA                  & 1.68                & 5.2                 & 28079055            & NA                  &  63                 & 1.55               \\\\\n",
       "\t3808220 & 2018-02-01 00:00:00 &  NA                 & 0.5                 &  NA                 & NA                  &   NA                &  91                 & 192                 & NA                  &  1                  & 35                  & NA                  & NA                  &   NA                &  NA                 & 28079056            & 22                  &  66                 &   NA               \\\\\n",
       "\t3808221 & 2018-02-01 00:00:00 &  NA                 & 0.7                 &  NA                 & NA                  &   NA                & 107                 & 241                 & NA                  & NA                  & 29                  & NA                  & 15                  &   NA                &  NA                 & 28079057            & NA                  &  87                 &   NA               \\\\\n",
       "\t3808222 & 2018-02-01 00:00:00 &  NA                 &  NA                 &  NA                 & NA                  &   NA                &  48                 &  91                 & NA                  &  2                  & NA                  & NA                  & NA                  &   NA                &  NA                 & 28079058            & NA                  &  28                 &   NA               \\\\\n",
       "\t3808223 & 2018-02-01 00:00:00 &  NA                 &  NA                 &  NA                 & NA                  &   NA                & 103                 & 320                 & NA                  &  2                  & NA                  & NA                  & NA                  &   NA                &  NA                 & 28079059            & NA                  & 141                 &   NA               \\\\\n",
       "\t3808224 & 2018-02-01 00:00:00 &  NA                 &  NA                 &  NA                 & NA                  &   NA                &  96                 & 202                 & NA                  &  3                  & 26                  & NA                  & NA                  &   NA                &  NA                 & 28079060            & NA                  &  69                 &   NA               \\\\\n",
       "\\end{tabular}\n"
      ],
      "text/markdown": [
       "\n",
       "| <!--/--> | date | BEN | CO | EBE | MXY | NMHC | NO_2 | NOx | OXY | O_3 | PM10 | PXY | SO_2 | TCH | TOL | station | PM25 | NO | CH4 | \n",
       "|---|---|---|---|---|---|\n",
       "| 3808219 | 2018-02-01 00:00:00 | 1.3                 |  NA                 | 1.2                 | NA                  | 0.13                |  94                 | 190                 | NA                  | NA                  | 35                  | NA                  | NA                  | 1.68                | 5.2                 | 28079055            | NA                  |  63                 | 1.55                | \n",
       "| 3808220 | 2018-02-01 00:00:00 |  NA                 | 0.5                 |  NA                 | NA                  |   NA                |  91                 | 192                 | NA                  |  1                  | 35                  | NA                  | NA                  |   NA                |  NA                 | 28079056            | 22                  |  66                 |   NA                | \n",
       "| 3808221 | 2018-02-01 00:00:00 |  NA                 | 0.7                 |  NA                 | NA                  |   NA                | 107                 | 241                 | NA                  | NA                  | 29                  | NA                  | 15                  |   NA                |  NA                 | 28079057            | NA                  |  87                 |   NA                | \n",
       "| 3808222 | 2018-02-01 00:00:00 |  NA                 |  NA                 |  NA                 | NA                  |   NA                |  48                 |  91                 | NA                  |  2                  | NA                  | NA                  | NA                  |   NA                |  NA                 | 28079058            | NA                  |  28                 |   NA                | \n",
       "| 3808223 | 2018-02-01 00:00:00 |  NA                 |  NA                 |  NA                 | NA                  |   NA                | 103                 | 320                 | NA                  |  2                  | NA                  | NA                  | NA                  |   NA                |  NA                 | 28079059            | NA                  | 141                 |   NA                | \n",
       "| 3808224 | 2018-02-01 00:00:00 |  NA                 |  NA                 |  NA                 | NA                  |   NA                |  96                 | 202                 | NA                  |  3                  | 26                  | NA                  | NA                  |   NA                |  NA                 | 28079060            | NA                  |  69                 |   NA                | \n",
       "\n",
       "\n"
      ],
      "text/plain": [
       "        date                BEN CO  EBE MXY NMHC NO_2 NOx OXY O_3 PM10 PXY SO_2\n",
       "3808219 2018-02-01 00:00:00 1.3  NA 1.2 NA  0.13  94  190 NA  NA  35   NA  NA  \n",
       "3808220 2018-02-01 00:00:00  NA 0.5  NA NA    NA  91  192 NA   1  35   NA  NA  \n",
       "3808221 2018-02-01 00:00:00  NA 0.7  NA NA    NA 107  241 NA  NA  29   NA  15  \n",
       "3808222 2018-02-01 00:00:00  NA  NA  NA NA    NA  48   91 NA   2  NA   NA  NA  \n",
       "3808223 2018-02-01 00:00:00  NA  NA  NA NA    NA 103  320 NA   2  NA   NA  NA  \n",
       "3808224 2018-02-01 00:00:00  NA  NA  NA NA    NA  96  202 NA   3  26   NA  NA  \n",
       "        TCH  TOL station  PM25 NO  CH4 \n",
       "3808219 1.68 5.2 28079055 NA    63 1.55\n",
       "3808220   NA  NA 28079056 22    66   NA\n",
       "3808221   NA  NA 28079057 NA    87   NA\n",
       "3808222   NA  NA 28079058 NA    28   NA\n",
       "3808223   NA  NA 28079059 NA   141   NA\n",
       "3808224   NA  NA 28079060 NA    69   NA"
      ]
     },
     "metadata": {},
     "output_type": "display_data"
    }
   ],
   "source": [
    "tail(airMadrid)"
   ]
  },
  {
   "cell_type": "markdown",
   "metadata": {},
   "source": [
    "### Visualizacion inicial datos precipitaciones"
   ]
  },
  {
   "cell_type": "code",
   "execution_count": 636,
   "metadata": {},
   "outputs": [
    {
     "data": {
      "text/html": [
       "<table>\n",
       "<thead><tr><th scope=col>FECHA</th><th scope=col>Precipitación: l/m2</th></tr></thead>\n",
       "<tbody>\n",
       "\t<tr><td>2001-01-01</td><td>4.3       </td></tr>\n",
       "\t<tr><td>2001-01-02</td><td>0.1       </td></tr>\n",
       "\t<tr><td>2001-01-03</td><td>2.2       </td></tr>\n",
       "\t<tr><td>2001-01-04</td><td>2.4       </td></tr>\n",
       "\t<tr><td>2001-01-05</td><td>13.3      </td></tr>\n",
       "\t<tr><td>2001-01-06</td><td>0.0       </td></tr>\n",
       "</tbody>\n",
       "</table>\n"
      ],
      "text/latex": [
       "\\begin{tabular}{r|ll}\n",
       " FECHA & Precipitación: l/m2\\\\\n",
       "\\hline\n",
       "\t 2001-01-01 & 4.3       \\\\\n",
       "\t 2001-01-02 & 0.1       \\\\\n",
       "\t 2001-01-03 & 2.2       \\\\\n",
       "\t 2001-01-04 & 2.4       \\\\\n",
       "\t 2001-01-05 & 13.3      \\\\\n",
       "\t 2001-01-06 & 0.0       \\\\\n",
       "\\end{tabular}\n"
      ],
      "text/markdown": [
       "\n",
       "FECHA | Precipitación: l/m2 | \n",
       "|---|---|---|---|---|---|\n",
       "| 2001-01-01 | 4.3        | \n",
       "| 2001-01-02 | 0.1        | \n",
       "| 2001-01-03 | 2.2        | \n",
       "| 2001-01-04 | 2.4        | \n",
       "| 2001-01-05 | 13.3       | \n",
       "| 2001-01-06 | 0.0        | \n",
       "\n",
       "\n"
      ],
      "text/plain": [
       "  FECHA      Precipitación: l/m2\n",
       "1 2001-01-01 4.3                \n",
       "2 2001-01-02 0.1                \n",
       "3 2001-01-03 2.2                \n",
       "4 2001-01-04 2.4                \n",
       "5 2001-01-05 13.3               \n",
       "6 2001-01-06 0.0                "
      ]
     },
     "metadata": {},
     "output_type": "display_data"
    }
   ],
   "source": [
    "head(dataFrameRainfall)"
   ]
  },
  {
   "cell_type": "code",
   "execution_count": 637,
   "metadata": {},
   "outputs": [
    {
     "data": {
      "text/html": [
       "<table>\n",
       "<thead><tr><th></th><th scope=col>FECHA</th><th scope=col>Precipitación: l/m2</th></tr></thead>\n",
       "<tbody>\n",
       "\t<tr><th scope=row>5933</th><td>2018-12-26</td><td>0         </td></tr>\n",
       "\t<tr><th scope=row>5934</th><td>2018-12-27</td><td>0         </td></tr>\n",
       "\t<tr><th scope=row>5935</th><td>2018-12-28</td><td>0         </td></tr>\n",
       "\t<tr><th scope=row>5936</th><td>2018-12-29</td><td>0         </td></tr>\n",
       "\t<tr><th scope=row>5937</th><td>2018-12-30</td><td>0         </td></tr>\n",
       "\t<tr><th scope=row>5938</th><td>2018-12-31</td><td>0         </td></tr>\n",
       "</tbody>\n",
       "</table>\n"
      ],
      "text/latex": [
       "\\begin{tabular}{r|ll}\n",
       "  & FECHA & Precipitación: l/m2\\\\\n",
       "\\hline\n",
       "\t5933 & 2018-12-26 & 0         \\\\\n",
       "\t5934 & 2018-12-27 & 0         \\\\\n",
       "\t5935 & 2018-12-28 & 0         \\\\\n",
       "\t5936 & 2018-12-29 & 0         \\\\\n",
       "\t5937 & 2018-12-30 & 0         \\\\\n",
       "\t5938 & 2018-12-31 & 0         \\\\\n",
       "\\end{tabular}\n"
      ],
      "text/markdown": [
       "\n",
       "| <!--/--> | FECHA | Precipitación: l/m2 | \n",
       "|---|---|---|---|---|---|\n",
       "| 5933 | 2018-12-26 | 0          | \n",
       "| 5934 | 2018-12-27 | 0          | \n",
       "| 5935 | 2018-12-28 | 0          | \n",
       "| 5936 | 2018-12-29 | 0          | \n",
       "| 5937 | 2018-12-30 | 0          | \n",
       "| 5938 | 2018-12-31 | 0          | \n",
       "\n",
       "\n"
      ],
      "text/plain": [
       "     FECHA      Precipitación: l/m2\n",
       "5933 2018-12-26 0                  \n",
       "5934 2018-12-27 0                  \n",
       "5935 2018-12-28 0                  \n",
       "5936 2018-12-29 0                  \n",
       "5937 2018-12-30 0                  \n",
       "5938 2018-12-31 0                  "
      ]
     },
     "metadata": {},
     "output_type": "display_data"
    }
   ],
   "source": [
    "tail(dataFrameRainfall)"
   ]
  },
  {
   "cell_type": "markdown",
   "metadata": {},
   "source": [
    "## Visualizacion inicial datos viento"
   ]
  },
  {
   "cell_type": "code",
   "execution_count": 638,
   "metadata": {},
   "outputs": [
    {
     "data": {
      "text/html": [
       "<table>\n",
       "<thead><tr><th scope=col>FECHA</th><th scope=col>Racha Max (Km/h)</th><th scope=col>Hora Racha</th><th scope=col>Veloc. Media (Km/h)</th></tr></thead>\n",
       "<tbody>\n",
       "\t<tr><td>2001-01-01         </td><td>43.92              </td><td>0.94444444444444453</td><td>3.96               </td></tr>\n",
       "\t<tr><td>2001-01-02         </td><td>52.92              </td><td>0.60416666666666663</td><td>12.96              </td></tr>\n",
       "\t<tr><td>2001-01-03         </td><td>33.84              </td><td>0.65277777777777779</td><td>6.12               </td></tr>\n",
       "\t<tr><td>2001-01-04         </td><td>41.04              </td><td>0.54861111111111105</td><td>11.88              </td></tr>\n",
       "\t<tr><td>2001-01-05         </td><td>46.08              </td><td>0.99305555555555547</td><td>3.96               </td></tr>\n",
       "\t<tr><td>2001-01-06         </td><td>41.04              </td><td>0.47222222222222227</td><td>9                  </td></tr>\n",
       "</tbody>\n",
       "</table>\n"
      ],
      "text/latex": [
       "\\begin{tabular}{r|llll}\n",
       " FECHA & Racha Max (Km/h) & Hora Racha & Veloc. Media (Km/h)\\\\\n",
       "\\hline\n",
       "\t 2001-01-01          & 43.92               & 0.94444444444444453 & 3.96               \\\\\n",
       "\t 2001-01-02          & 52.92               & 0.60416666666666663 & 12.96              \\\\\n",
       "\t 2001-01-03          & 33.84               & 0.65277777777777779 & 6.12               \\\\\n",
       "\t 2001-01-04          & 41.04               & 0.54861111111111105 & 11.88              \\\\\n",
       "\t 2001-01-05          & 46.08               & 0.99305555555555547 & 3.96               \\\\\n",
       "\t 2001-01-06          & 41.04               & 0.47222222222222227 & 9                  \\\\\n",
       "\\end{tabular}\n"
      ],
      "text/markdown": [
       "\n",
       "FECHA | Racha Max (Km/h) | Hora Racha | Veloc. Media (Km/h) | \n",
       "|---|---|---|---|---|---|\n",
       "| 2001-01-01          | 43.92               | 0.94444444444444453 | 3.96                | \n",
       "| 2001-01-02          | 52.92               | 0.60416666666666663 | 12.96               | \n",
       "| 2001-01-03          | 33.84               | 0.65277777777777779 | 6.12                | \n",
       "| 2001-01-04          | 41.04               | 0.54861111111111105 | 11.88               | \n",
       "| 2001-01-05          | 46.08               | 0.99305555555555547 | 3.96                | \n",
       "| 2001-01-06          | 41.04               | 0.47222222222222227 | 9                   | \n",
       "\n",
       "\n"
      ],
      "text/plain": [
       "  FECHA      Racha Max (Km/h) Hora Racha          Veloc. Media (Km/h)\n",
       "1 2001-01-01 43.92            0.94444444444444453 3.96               \n",
       "2 2001-01-02 52.92            0.60416666666666663 12.96              \n",
       "3 2001-01-03 33.84            0.65277777777777779 6.12               \n",
       "4 2001-01-04 41.04            0.54861111111111105 11.88              \n",
       "5 2001-01-05 46.08            0.99305555555555547 3.96               \n",
       "6 2001-01-06 41.04            0.47222222222222227 9                  "
      ]
     },
     "metadata": {},
     "output_type": "display_data"
    }
   ],
   "source": [
    "head(wind)"
   ]
  },
  {
   "cell_type": "code",
   "execution_count": 639,
   "metadata": {},
   "outputs": [
    {
     "data": {
      "text/html": [
       "<table>\n",
       "<thead><tr><th></th><th scope=col>FECHA</th><th scope=col>Racha Max (Km/h)</th><th scope=col>Hora Racha</th><th scope=col>Veloc. Media (Km/h)</th></tr></thead>\n",
       "<tbody>\n",
       "\t<tr><th scope=row>5854</th><td>2018-12-26           </td><td>10.08                </td><td>Varias               </td><td>2.16                 </td></tr>\n",
       "\t<tr><th scope=row>5855</th><td>2018-12-27           </td><td>10.08                </td><td>0.49305555555555558  </td><td>2.16                 </td></tr>\n",
       "\t<tr><th scope=row>5856</th><td>2018-12-28           </td><td>25.92                </td><td>0.90277777777777779  </td><td>5.04                 </td></tr>\n",
       "\t<tr><th scope=row>5857</th><td>2018-12-29           </td><td>30.96                </td><td>0.96527777777777779  </td><td>6.12                 </td></tr>\n",
       "\t<tr><th scope=row>5858</th><td>2018-12-30           </td><td>32.04                </td><td>1.3888888888888888E-2</td><td>3.96                 </td></tr>\n",
       "\t<tr><th scope=row>5859</th><td>2018-12-31           </td><td>11.16                </td><td>0.55555555555555558  </td><td>1.08                 </td></tr>\n",
       "</tbody>\n",
       "</table>\n"
      ],
      "text/latex": [
       "\\begin{tabular}{r|llll}\n",
       "  & FECHA & Racha Max (Km/h) & Hora Racha & Veloc. Media (Km/h)\\\\\n",
       "\\hline\n",
       "\t5854 & 2018-12-26            & 10.08                 & Varias                & 2.16                 \\\\\n",
       "\t5855 & 2018-12-27            & 10.08                 & 0.49305555555555558   & 2.16                 \\\\\n",
       "\t5856 & 2018-12-28            & 25.92                 & 0.90277777777777779   & 5.04                 \\\\\n",
       "\t5857 & 2018-12-29            & 30.96                 & 0.96527777777777779   & 6.12                 \\\\\n",
       "\t5858 & 2018-12-30            & 32.04                 & 1.3888888888888888E-2 & 3.96                 \\\\\n",
       "\t5859 & 2018-12-31            & 11.16                 & 0.55555555555555558   & 1.08                 \\\\\n",
       "\\end{tabular}\n"
      ],
      "text/markdown": [
       "\n",
       "| <!--/--> | FECHA | Racha Max (Km/h) | Hora Racha | Veloc. Media (Km/h) | \n",
       "|---|---|---|---|---|---|\n",
       "| 5854 | 2018-12-26            | 10.08                 | Varias                | 2.16                  | \n",
       "| 5855 | 2018-12-27            | 10.08                 | 0.49305555555555558   | 2.16                  | \n",
       "| 5856 | 2018-12-28            | 25.92                 | 0.90277777777777779   | 5.04                  | \n",
       "| 5857 | 2018-12-29            | 30.96                 | 0.96527777777777779   | 6.12                  | \n",
       "| 5858 | 2018-12-30            | 32.04                 | 1.3888888888888888E-2 | 3.96                  | \n",
       "| 5859 | 2018-12-31            | 11.16                 | 0.55555555555555558   | 1.08                  | \n",
       "\n",
       "\n"
      ],
      "text/plain": [
       "     FECHA      Racha Max (Km/h) Hora Racha            Veloc. Media (Km/h)\n",
       "5854 2018-12-26 10.08            Varias                2.16               \n",
       "5855 2018-12-27 10.08            0.49305555555555558   2.16               \n",
       "5856 2018-12-28 25.92            0.90277777777777779   5.04               \n",
       "5857 2018-12-29 30.96            0.96527777777777779   6.12               \n",
       "5858 2018-12-30 32.04            1.3888888888888888E-2 3.96               \n",
       "5859 2018-12-31 11.16            0.55555555555555558   1.08               "
      ]
     },
     "metadata": {},
     "output_type": "display_data"
    }
   ],
   "source": [
    "tail(wind)"
   ]
  },
  {
   "cell_type": "markdown",
   "metadata": {},
   "source": [
    "## 3º FASE: Modify"
   ]
  },
  {
   "cell_type": "markdown",
   "metadata": {},
   "source": [
    "Se modifican los datos (creando, seleccionando y transformando las variables adecuadas) para facilitar el proceso siguiente (modelización).\n"
   ]
  },
  {
   "cell_type": "markdown",
   "metadata": {},
   "source": [
    "### Modificaciones dataframe precipitaciones"
   ]
  },
  {
   "cell_type": "markdown",
   "metadata": {},
   "source": [
    "Se cambiarán los nombres de las columnas para una mejor utilización de las mismas. También se modificará el tipo de la columna \"*Precipitación: l/m2*\" a númerico pra poder tartar los datos "
   ]
  },
  {
   "cell_type": "code",
   "execution_count": 640,
   "metadata": {},
   "outputs": [],
   "source": [
    "# cambiamos nombre de las columnas\n",
    "data.table::setnames(dataFrameRainfall, \"FECHA\", \"date\")\n",
    "data.table::setnames(dataFrameRainfall, \"Precipitación: l/m2\", \"quantity\")\n",
    "#Convertimos tipos\n",
    "dataFrameRainfall <- as.data.frame(dataFrameRainfall)\n",
    "dataFrameRainfall$quantity <- as.numeric(dataFrameRainfall$quantity)"
   ]
  },
  {
   "cell_type": "markdown",
   "metadata": {},
   "source": [
    "### Modificaciones dataframe viento"
   ]
  },
  {
   "cell_type": "markdown",
   "metadata": {},
   "source": [
    "Se cambiarán los nombres de las columnas para una mejor utilización de las mismas. Se eliminarán las columnas que no se utilizarán en el estudio y oor eltipo se comprobará el tipo de las columnas restantes, transformando la velocidad del viento a m/s para su posterior discretización"
   ]
  },
  {
   "cell_type": "code",
   "execution_count": 641,
   "metadata": {},
   "outputs": [],
   "source": [
    "# cambiamos nombre de las columnas\n",
    "data.table::setnames(wind, \"FECHA\", \"date\")\n",
    "data.table::setnames(wind, \"Veloc. Media (Km/h)\", \"Speed\")\n",
    "data.table::setnames(wind, \"Racha Max (Km/h)\", \"maxSpeed\")\n",
    "data.table::setnames(wind, \"Hora Racha\", \"time\")\n",
    "\n",
    "#Eliminamos columnas que no nos interesan\n",
    "wind$time = NULL\n",
    "wind$maxSpeed= NULL\n",
    "\n",
    "#Preparamos la fecha en formato Date para cruzar los datos\n",
    "wind$date <- as.Date(wind$date)\n",
    "\n",
    "#Ponemos la velocidad del viento en m/s\n",
    "\n",
    "wind$Speed <- as.numeric(wind$Speed)\n",
    "wind$Speed = wind$Speed * (1000/3600)\n"
   ]
  },
  {
   "cell_type": "markdown",
   "metadata": {},
   "source": [
    "### Limpieza de datos"
   ]
  },
  {
   "cell_type": "markdown",
   "metadata": {},
   "source": [
    "Tras las modificaciones en los dataset anteriores procedemos a sustitutir los NaN como NA para que puedan ser utilizados en el estudio.Se realizará esta operacion en los dataframes:\n",
    "- Muestras contaminación Madrid\n",
    "- Precipitaciones\n",
    "- Viento"
   ]
  },
  {
   "cell_type": "code",
   "execution_count": 642,
   "metadata": {},
   "outputs": [
    {
     "data": {
      "text/html": [
       "<table>\n",
       "<thead><tr><th></th><th scope=col>date</th><th scope=col>BEN</th><th scope=col>CO</th><th scope=col>EBE</th><th scope=col>MXY</th><th scope=col>NMHC</th><th scope=col>NO_2</th><th scope=col>NOx</th><th scope=col>OXY</th><th scope=col>O_3</th><th scope=col>PM10</th><th scope=col>PXY</th><th scope=col>SO_2</th><th scope=col>TCH</th><th scope=col>TOL</th><th scope=col>station</th><th scope=col>PM25</th><th scope=col>NO</th><th scope=col>CH4</th></tr></thead>\n",
       "<tbody>\n",
       "\t<tr><th scope=row>3808219</th><td>2018-02-01 00:00:00</td><td>1.3                </td><td> NA                </td><td>1.2                </td><td>NA                 </td><td>0.13               </td><td> 94                </td><td>190                </td><td>NA                 </td><td>NA                 </td><td>35                 </td><td>NA                 </td><td>NA                 </td><td>1.68               </td><td>5.2                </td><td>28079055           </td><td>NA                 </td><td> 63                </td><td>1.55               </td></tr>\n",
       "\t<tr><th scope=row>3808220</th><td>2018-02-01 00:00:00</td><td> NA                </td><td>0.5                </td><td> NA                </td><td>NA                 </td><td>  NA               </td><td> 91                </td><td>192                </td><td>NA                 </td><td> 1                 </td><td>35                 </td><td>NA                 </td><td>NA                 </td><td>  NA               </td><td> NA                </td><td>28079056           </td><td>22                 </td><td> 66                </td><td>  NA               </td></tr>\n",
       "\t<tr><th scope=row>3808221</th><td>2018-02-01 00:00:00</td><td> NA                </td><td>0.7                </td><td> NA                </td><td>NA                 </td><td>  NA               </td><td>107                </td><td>241                </td><td>NA                 </td><td>NA                 </td><td>29                 </td><td>NA                 </td><td>15                 </td><td>  NA               </td><td> NA                </td><td>28079057           </td><td>NA                 </td><td> 87                </td><td>  NA               </td></tr>\n",
       "\t<tr><th scope=row>3808222</th><td>2018-02-01 00:00:00</td><td> NA                </td><td> NA                </td><td> NA                </td><td>NA                 </td><td>  NA               </td><td> 48                </td><td> 91                </td><td>NA                 </td><td> 2                 </td><td>NA                 </td><td>NA                 </td><td>NA                 </td><td>  NA               </td><td> NA                </td><td>28079058           </td><td>NA                 </td><td> 28                </td><td>  NA               </td></tr>\n",
       "\t<tr><th scope=row>3808223</th><td>2018-02-01 00:00:00</td><td> NA                </td><td> NA                </td><td> NA                </td><td>NA                 </td><td>  NA               </td><td>103                </td><td>320                </td><td>NA                 </td><td> 2                 </td><td>NA                 </td><td>NA                 </td><td>NA                 </td><td>  NA               </td><td> NA                </td><td>28079059           </td><td>NA                 </td><td>141                </td><td>  NA               </td></tr>\n",
       "\t<tr><th scope=row>3808224</th><td>2018-02-01 00:00:00</td><td> NA                </td><td> NA                </td><td> NA                </td><td>NA                 </td><td>  NA               </td><td> 96                </td><td>202                </td><td>NA                 </td><td> 3                 </td><td>26                 </td><td>NA                 </td><td>NA                 </td><td>  NA               </td><td> NA                </td><td>28079060           </td><td>NA                 </td><td> 69                </td><td>  NA               </td></tr>\n",
       "</tbody>\n",
       "</table>\n"
      ],
      "text/latex": [
       "\\begin{tabular}{r|lllllllllllllllllll}\n",
       "  & date & BEN & CO & EBE & MXY & NMHC & NO\\_2 & NOx & OXY & O\\_3 & PM10 & PXY & SO\\_2 & TCH & TOL & station & PM25 & NO & CH4\\\\\n",
       "\\hline\n",
       "\t3808219 & 2018-02-01 00:00:00 & 1.3                 &  NA                 & 1.2                 & NA                  & 0.13                &  94                 & 190                 & NA                  & NA                  & 35                  & NA                  & NA                  & 1.68                & 5.2                 & 28079055            & NA                  &  63                 & 1.55               \\\\\n",
       "\t3808220 & 2018-02-01 00:00:00 &  NA                 & 0.5                 &  NA                 & NA                  &   NA                &  91                 & 192                 & NA                  &  1                  & 35                  & NA                  & NA                  &   NA                &  NA                 & 28079056            & 22                  &  66                 &   NA               \\\\\n",
       "\t3808221 & 2018-02-01 00:00:00 &  NA                 & 0.7                 &  NA                 & NA                  &   NA                & 107                 & 241                 & NA                  & NA                  & 29                  & NA                  & 15                  &   NA                &  NA                 & 28079057            & NA                  &  87                 &   NA               \\\\\n",
       "\t3808222 & 2018-02-01 00:00:00 &  NA                 &  NA                 &  NA                 & NA                  &   NA                &  48                 &  91                 & NA                  &  2                  & NA                  & NA                  & NA                  &   NA                &  NA                 & 28079058            & NA                  &  28                 &   NA               \\\\\n",
       "\t3808223 & 2018-02-01 00:00:00 &  NA                 &  NA                 &  NA                 & NA                  &   NA                & 103                 & 320                 & NA                  &  2                  & NA                  & NA                  & NA                  &   NA                &  NA                 & 28079059            & NA                  & 141                 &   NA               \\\\\n",
       "\t3808224 & 2018-02-01 00:00:00 &  NA                 &  NA                 &  NA                 & NA                  &   NA                &  96                 & 202                 & NA                  &  3                  & 26                  & NA                  & NA                  &   NA                &  NA                 & 28079060            & NA                  &  69                 &   NA               \\\\\n",
       "\\end{tabular}\n"
      ],
      "text/markdown": [
       "\n",
       "| <!--/--> | date | BEN | CO | EBE | MXY | NMHC | NO_2 | NOx | OXY | O_3 | PM10 | PXY | SO_2 | TCH | TOL | station | PM25 | NO | CH4 | \n",
       "|---|---|---|---|---|---|\n",
       "| 3808219 | 2018-02-01 00:00:00 | 1.3                 |  NA                 | 1.2                 | NA                  | 0.13                |  94                 | 190                 | NA                  | NA                  | 35                  | NA                  | NA                  | 1.68                | 5.2                 | 28079055            | NA                  |  63                 | 1.55                | \n",
       "| 3808220 | 2018-02-01 00:00:00 |  NA                 | 0.5                 |  NA                 | NA                  |   NA                |  91                 | 192                 | NA                  |  1                  | 35                  | NA                  | NA                  |   NA                |  NA                 | 28079056            | 22                  |  66                 |   NA                | \n",
       "| 3808221 | 2018-02-01 00:00:00 |  NA                 | 0.7                 |  NA                 | NA                  |   NA                | 107                 | 241                 | NA                  | NA                  | 29                  | NA                  | 15                  |   NA                |  NA                 | 28079057            | NA                  |  87                 |   NA                | \n",
       "| 3808222 | 2018-02-01 00:00:00 |  NA                 |  NA                 |  NA                 | NA                  |   NA                |  48                 |  91                 | NA                  |  2                  | NA                  | NA                  | NA                  |   NA                |  NA                 | 28079058            | NA                  |  28                 |   NA                | \n",
       "| 3808223 | 2018-02-01 00:00:00 |  NA                 |  NA                 |  NA                 | NA                  |   NA                | 103                 | 320                 | NA                  |  2                  | NA                  | NA                  | NA                  |   NA                |  NA                 | 28079059            | NA                  | 141                 |   NA                | \n",
       "| 3808224 | 2018-02-01 00:00:00 |  NA                 |  NA                 |  NA                 | NA                  |   NA                |  96                 | 202                 | NA                  |  3                  | 26                  | NA                  | NA                  |   NA                |  NA                 | 28079060            | NA                  |  69                 |   NA                | \n",
       "\n",
       "\n"
      ],
      "text/plain": [
       "        date                BEN CO  EBE MXY NMHC NO_2 NOx OXY O_3 PM10 PXY SO_2\n",
       "3808219 2018-02-01 00:00:00 1.3  NA 1.2 NA  0.13  94  190 NA  NA  35   NA  NA  \n",
       "3808220 2018-02-01 00:00:00  NA 0.5  NA NA    NA  91  192 NA   1  35   NA  NA  \n",
       "3808221 2018-02-01 00:00:00  NA 0.7  NA NA    NA 107  241 NA  NA  29   NA  15  \n",
       "3808222 2018-02-01 00:00:00  NA  NA  NA NA    NA  48   91 NA   2  NA   NA  NA  \n",
       "3808223 2018-02-01 00:00:00  NA  NA  NA NA    NA 103  320 NA   2  NA   NA  NA  \n",
       "3808224 2018-02-01 00:00:00  NA  NA  NA NA    NA  96  202 NA   3  26   NA  NA  \n",
       "        TCH  TOL station  PM25 NO  CH4 \n",
       "3808219 1.68 5.2 28079055 NA    63 1.55\n",
       "3808220   NA  NA 28079056 22    66   NA\n",
       "3808221   NA  NA 28079057 NA    87   NA\n",
       "3808222   NA  NA 28079058 NA    28   NA\n",
       "3808223   NA  NA 28079059 NA   141   NA\n",
       "3808224   NA  NA 28079060 NA    69   NA"
      ]
     },
     "metadata": {},
     "output_type": "display_data"
    }
   ],
   "source": [
    "is.nan.data.frame <- function(x)\n",
    "    do.call(cbind,lapply(x,is.nan))\n",
    "airMadrid <- as.data.frame(airMadrid)\n",
    "airMadrid[is.nan(airMadrid)] <- NA\n",
    "tail(airMadrid)"
   ]
  },
  {
   "cell_type": "code",
   "execution_count": 643,
   "metadata": {},
   "outputs": [
    {
     "data": {
      "text/html": [
       "<table>\n",
       "<thead><tr><th></th><th scope=col>date</th><th scope=col>quantity</th></tr></thead>\n",
       "<tbody>\n",
       "\t<tr><th scope=row>5933</th><td>2018-12-26</td><td>0         </td></tr>\n",
       "\t<tr><th scope=row>5934</th><td>2018-12-27</td><td>0         </td></tr>\n",
       "\t<tr><th scope=row>5935</th><td>2018-12-28</td><td>0         </td></tr>\n",
       "\t<tr><th scope=row>5936</th><td>2018-12-29</td><td>0         </td></tr>\n",
       "\t<tr><th scope=row>5937</th><td>2018-12-30</td><td>0         </td></tr>\n",
       "\t<tr><th scope=row>5938</th><td>2018-12-31</td><td>0         </td></tr>\n",
       "</tbody>\n",
       "</table>\n"
      ],
      "text/latex": [
       "\\begin{tabular}{r|ll}\n",
       "  & date & quantity\\\\\n",
       "\\hline\n",
       "\t5933 & 2018-12-26 & 0         \\\\\n",
       "\t5934 & 2018-12-27 & 0         \\\\\n",
       "\t5935 & 2018-12-28 & 0         \\\\\n",
       "\t5936 & 2018-12-29 & 0         \\\\\n",
       "\t5937 & 2018-12-30 & 0         \\\\\n",
       "\t5938 & 2018-12-31 & 0         \\\\\n",
       "\\end{tabular}\n"
      ],
      "text/markdown": [
       "\n",
       "| <!--/--> | date | quantity | \n",
       "|---|---|---|---|---|---|\n",
       "| 5933 | 2018-12-26 | 0          | \n",
       "| 5934 | 2018-12-27 | 0          | \n",
       "| 5935 | 2018-12-28 | 0          | \n",
       "| 5936 | 2018-12-29 | 0          | \n",
       "| 5937 | 2018-12-30 | 0          | \n",
       "| 5938 | 2018-12-31 | 0          | \n",
       "\n",
       "\n"
      ],
      "text/plain": [
       "     date       quantity\n",
       "5933 2018-12-26 0       \n",
       "5934 2018-12-27 0       \n",
       "5935 2018-12-28 0       \n",
       "5936 2018-12-29 0       \n",
       "5937 2018-12-30 0       \n",
       "5938 2018-12-31 0       "
      ]
     },
     "metadata": {},
     "output_type": "display_data"
    }
   ],
   "source": [
    "is.nan.data.frame <- function(x)\n",
    "    do.call(cbind,lapply(x,is.nan))\n",
    "dataFrameRainfall <- as.data.frame(dataFrameRainfall)\n",
    "dataFrameRainfall[is.nan(dataFrameRainfall)] <- NA\n",
    "tail(dataFrameRainfall)"
   ]
  },
  {
   "cell_type": "code",
   "execution_count": 644,
   "metadata": {},
   "outputs": [
    {
     "data": {
      "text/html": [
       "<table>\n",
       "<thead><tr><th></th><th scope=col>date</th><th scope=col>Speed</th></tr></thead>\n",
       "<tbody>\n",
       "\t<tr><th scope=row>5854</th><td>2018-12-26</td><td>0.6       </td></tr>\n",
       "\t<tr><th scope=row>5855</th><td>2018-12-27</td><td>0.6       </td></tr>\n",
       "\t<tr><th scope=row>5856</th><td>2018-12-28</td><td>1.4       </td></tr>\n",
       "\t<tr><th scope=row>5857</th><td>2018-12-29</td><td>1.7       </td></tr>\n",
       "\t<tr><th scope=row>5858</th><td>2018-12-30</td><td>1.1       </td></tr>\n",
       "\t<tr><th scope=row>5859</th><td>2018-12-31</td><td>0.3       </td></tr>\n",
       "</tbody>\n",
       "</table>\n"
      ],
      "text/latex": [
       "\\begin{tabular}{r|ll}\n",
       "  & date & Speed\\\\\n",
       "\\hline\n",
       "\t5854 & 2018-12-26 & 0.6       \\\\\n",
       "\t5855 & 2018-12-27 & 0.6       \\\\\n",
       "\t5856 & 2018-12-28 & 1.4       \\\\\n",
       "\t5857 & 2018-12-29 & 1.7       \\\\\n",
       "\t5858 & 2018-12-30 & 1.1       \\\\\n",
       "\t5859 & 2018-12-31 & 0.3       \\\\\n",
       "\\end{tabular}\n"
      ],
      "text/markdown": [
       "\n",
       "| <!--/--> | date | Speed | \n",
       "|---|---|---|---|---|---|\n",
       "| 5854 | 2018-12-26 | 0.6        | \n",
       "| 5855 | 2018-12-27 | 0.6        | \n",
       "| 5856 | 2018-12-28 | 1.4        | \n",
       "| 5857 | 2018-12-29 | 1.7        | \n",
       "| 5858 | 2018-12-30 | 1.1        | \n",
       "| 5859 | 2018-12-31 | 0.3        | \n",
       "\n",
       "\n"
      ],
      "text/plain": [
       "     date       Speed\n",
       "5854 2018-12-26 0.6  \n",
       "5855 2018-12-27 0.6  \n",
       "5856 2018-12-28 1.4  \n",
       "5857 2018-12-29 1.7  \n",
       "5858 2018-12-30 1.1  \n",
       "5859 2018-12-31 0.3  "
      ]
     },
     "metadata": {},
     "output_type": "display_data"
    }
   ],
   "source": [
    "is.nan.data.frame <- function(x)\n",
    "    do.call(cbind,lapply(x,is.nan))\n",
    "wind <- as.data.frame(wind)\n",
    "wind[is.nan(wind)] <- NA\n",
    "tail(wind)"
   ]
  },
  {
   "cell_type": "markdown",
   "metadata": {},
   "source": [
    "A continuación se elimnarán del dafarme de contaminación aquellos gases de los cuales se tenga poco datos, para ello se estblecerá la línea de corte en 35%."
   ]
  },
  {
   "cell_type": "code",
   "execution_count": 645,
   "metadata": {},
   "outputs": [
    {
     "data": {
      "text/html": [
       "<dl class=dl-horizontal>\n",
       "\t<dt>NO_2</dt>\n",
       "\t\t<dd>0.56</dd>\n",
       "\t<dt>O_3</dt>\n",
       "\t\t<dd>21.44</dd>\n",
       "\t<dt>PM10</dt>\n",
       "\t\t<dd>24.87</dd>\n",
       "\t<dt>SO_2</dt>\n",
       "\t\t<dd>27.11</dd>\n",
       "\t<dt>CO</dt>\n",
       "\t\t<dd>30.39</dd>\n",
       "\t<dt>NOx</dt>\n",
       "\t\t<dd>37.6</dd>\n",
       "\t<dt>NO</dt>\n",
       "\t\t<dd>59.76</dd>\n",
       "\t<dt>TCH</dt>\n",
       "\t\t<dd>71.47</dd>\n",
       "\t<dt>NMHC</dt>\n",
       "\t\t<dd>71.5</dd>\n",
       "\t<dt>BEN</dt>\n",
       "\t\t<dd>72.65</dd>\n",
       "\t<dt>TOL</dt>\n",
       "\t\t<dd>72.72</dd>\n",
       "\t<dt>EBE</dt>\n",
       "\t\t<dd>73.7</dd>\n",
       "\t<dt>PM25</dt>\n",
       "\t\t<dd>78.56</dd>\n",
       "\t<dt>OXY</dt>\n",
       "\t\t<dd>91.71</dd>\n",
       "\t<dt>PXY</dt>\n",
       "\t\t<dd>91.71</dd>\n",
       "\t<dt>MXY</dt>\n",
       "\t\t<dd>91.72</dd>\n",
       "\t<dt>CH4</dt>\n",
       "\t\t<dd>99.61</dd>\n",
       "</dl>\n"
      ],
      "text/latex": [
       "\\begin{description*}\n",
       "\\item[NO\\textbackslash{}\\_2] 0.56\n",
       "\\item[O\\textbackslash{}\\_3] 21.44\n",
       "\\item[PM10] 24.87\n",
       "\\item[SO\\textbackslash{}\\_2] 27.11\n",
       "\\item[CO] 30.39\n",
       "\\item[NOx] 37.6\n",
       "\\item[NO] 59.76\n",
       "\\item[TCH] 71.47\n",
       "\\item[NMHC] 71.5\n",
       "\\item[BEN] 72.65\n",
       "\\item[TOL] 72.72\n",
       "\\item[EBE] 73.7\n",
       "\\item[PM25] 78.56\n",
       "\\item[OXY] 91.71\n",
       "\\item[PXY] 91.71\n",
       "\\item[MXY] 91.72\n",
       "\\item[CH4] 99.61\n",
       "\\end{description*}\n"
      ],
      "text/markdown": [
       "NO_2\n",
       ":   0.56O_3\n",
       ":   21.44PM10\n",
       ":   24.87SO_2\n",
       ":   27.11CO\n",
       ":   30.39NOx\n",
       ":   37.6NO\n",
       ":   59.76TCH\n",
       ":   71.47NMHC\n",
       ":   71.5BEN\n",
       ":   72.65TOL\n",
       ":   72.72EBE\n",
       ":   73.7PM25\n",
       ":   78.56OXY\n",
       ":   91.71PXY\n",
       ":   91.71MXY\n",
       ":   91.72CH4\n",
       ":   99.61\n",
       "\n"
      ],
      "text/plain": [
       " NO_2   O_3  PM10  SO_2    CO   NOx    NO   TCH  NMHC   BEN   TOL   EBE  PM25 \n",
       " 0.56 21.44 24.87 27.11 30.39 37.60 59.76 71.47 71.50 72.65 72.72 73.70 78.56 \n",
       "  OXY   PXY   MXY   CH4 \n",
       "91.71 91.71 91.72 99.61 "
      ]
     },
     "metadata": {},
     "output_type": "display_data"
    }
   ],
   "source": [
    "#1) Calculamos el porcenje de NA para descartar aquellas columnas cuyo porcentage sea muy alto\n",
    "naPerColumn <- colSums(is.na(airMadrid))\n",
    "\n",
    "#2) Todos los gases tienen al menos un NA por , tanto, estudiamos gases a descartar, para ello\n",
    "#quitamos los demás parámetros\n",
    "percentageNA <- round(naPerColumn/nrow(airMadrid) *100, digits = 2)\n",
    "percentageNA <- percentageNA[percentageNA > 0]\n",
    "percentageNA <- percentageNA[order(percentageNA)]\n",
    "percentageNA"
   ]
  },
  {
   "cell_type": "code",
   "execution_count": 646,
   "metadata": {},
   "outputs": [
    {
     "data": {
      "image/png": "[encoded data removed]",
      "text/plain": [
       "Plot with title \"Porcentaje de NA\""
      ]
     },
     "metadata": {},
     "output_type": "display_data"
    }
   ],
   "source": [
    "#2)Pintamos grafica de barras para observar volumen NA en los gases contaminantes\n",
    "barplot(percentageNA, main =\"Porcentaje de NA\",xlab = \"Gas contaminante\",ylab = \"%\",\n",
    "        ylim = c(0,100), las=3, cex.names=.5, col = gray.colors(17))"
   ]
  },
  {
   "cell_type": "code",
   "execution_count": 647,
   "metadata": {},
   "outputs": [
    {
     "data": {
      "text/html": [
       "<dl class=dl-horizontal>\n",
       "\t<dt>NO_2</dt>\n",
       "\t\t<dd>0.56</dd>\n",
       "\t<dt>O_3</dt>\n",
       "\t\t<dd>21.44</dd>\n",
       "\t<dt>PM10</dt>\n",
       "\t\t<dd>24.87</dd>\n",
       "\t<dt>SO_2</dt>\n",
       "\t\t<dd>27.11</dd>\n",
       "\t<dt>CO</dt>\n",
       "\t\t<dd>30.39</dd>\n",
       "</dl>\n"
      ],
      "text/latex": [
       "\\begin{description*}\n",
       "\\item[NO\\textbackslash{}\\_2] 0.56\n",
       "\\item[O\\textbackslash{}\\_3] 21.44\n",
       "\\item[PM10] 24.87\n",
       "\\item[SO\\textbackslash{}\\_2] 27.11\n",
       "\\item[CO] 30.39\n",
       "\\end{description*}\n"
      ],
      "text/markdown": [
       "NO_2\n",
       ":   0.56O_3\n",
       ":   21.44PM10\n",
       ":   24.87SO_2\n",
       ":   27.11CO\n",
       ":   30.39\n",
       "\n"
      ],
      "text/plain": [
       " NO_2   O_3  PM10  SO_2    CO \n",
       " 0.56 21.44 24.87 27.11 30.39 "
      ]
     },
     "metadata": {},
     "output_type": "display_data"
    }
   ],
   "source": [
    "#Nos quedamos con aquellos gases que tengan menos del 35% de NA\n",
    "percentageNA[percentageNA < 35]"
   ]
  },
  {
   "cell_type": "code",
   "execution_count": 648,
   "metadata": {},
   "outputs": [
    {
     "data": {
      "text/html": [
       "<table>\n",
       "<thead><tr><th scope=col>date</th><th scope=col>CO</th><th scope=col>NO_2</th><th scope=col>O_3</th><th scope=col>PM10</th><th scope=col>SO_2</th><th scope=col>station</th></tr></thead>\n",
       "<tbody>\n",
       "\t<tr><td>2001-08-01 01:00:00</td><td>0.37               </td><td>58.40              </td><td>34.53              </td><td>105.00             </td><td>6.34               </td><td>28079001           </td></tr>\n",
       "\t<tr><td>2001-08-01 01:00:00</td><td>0.34               </td><td>56.25              </td><td>42.16              </td><td>100.60             </td><td>8.11               </td><td>28079035           </td></tr>\n",
       "\t<tr><td>2001-08-01 01:00:00</td><td>0.28               </td><td>50.66              </td><td>46.31              </td><td>100.10             </td><td>7.85               </td><td>28079003           </td></tr>\n",
       "\t<tr><td>2001-08-01 01:00:00</td><td>0.47               </td><td>69.79              </td><td>40.65              </td><td> 69.78             </td><td>6.46               </td><td>28079004           </td></tr>\n",
       "\t<tr><td>2001-08-01 01:00:00</td><td>0.39               </td><td>22.83              </td><td>66.31              </td><td> 75.18             </td><td>8.80               </td><td>28079039           </td></tr>\n",
       "\t<tr><td>2001-08-01 01:00:00</td><td>0.63               </td><td>66.26              </td><td>33.50              </td><td>122.70             </td><td>6.36               </td><td>28079006           </td></tr>\n",
       "</tbody>\n",
       "</table>\n"
      ],
      "text/latex": [
       "\\begin{tabular}{r|lllllll}\n",
       " date & CO & NO\\_2 & O\\_3 & PM10 & SO\\_2 & station\\\\\n",
       "\\hline\n",
       "\t 2001-08-01 01:00:00 & 0.37                & 58.40               & 34.53               & 105.00              & 6.34                & 28079001           \\\\\n",
       "\t 2001-08-01 01:00:00 & 0.34                & 56.25               & 42.16               & 100.60              & 8.11                & 28079035           \\\\\n",
       "\t 2001-08-01 01:00:00 & 0.28                & 50.66               & 46.31               & 100.10              & 7.85                & 28079003           \\\\\n",
       "\t 2001-08-01 01:00:00 & 0.47                & 69.79               & 40.65               &  69.78              & 6.46                & 28079004           \\\\\n",
       "\t 2001-08-01 01:00:00 & 0.39                & 22.83               & 66.31               &  75.18              & 8.80                & 28079039           \\\\\n",
       "\t 2001-08-01 01:00:00 & 0.63                & 66.26               & 33.50               & 122.70              & 6.36                & 28079006           \\\\\n",
       "\\end{tabular}\n"
      ],
      "text/markdown": [
       "\n",
       "date | CO | NO_2 | O_3 | PM10 | SO_2 | station | \n",
       "|---|---|---|---|---|---|\n",
       "| 2001-08-01 01:00:00 | 0.37                | 58.40               | 34.53               | 105.00              | 6.34                | 28079001            | \n",
       "| 2001-08-01 01:00:00 | 0.34                | 56.25               | 42.16               | 100.60              | 8.11                | 28079035            | \n",
       "| 2001-08-01 01:00:00 | 0.28                | 50.66               | 46.31               | 100.10              | 7.85                | 28079003            | \n",
       "| 2001-08-01 01:00:00 | 0.47                | 69.79               | 40.65               |  69.78              | 6.46                | 28079004            | \n",
       "| 2001-08-01 01:00:00 | 0.39                | 22.83               | 66.31               |  75.18              | 8.80                | 28079039            | \n",
       "| 2001-08-01 01:00:00 | 0.63                | 66.26               | 33.50               | 122.70              | 6.36                | 28079006            | \n",
       "\n",
       "\n"
      ],
      "text/plain": [
       "  date                CO   NO_2  O_3   PM10   SO_2 station \n",
       "1 2001-08-01 01:00:00 0.37 58.40 34.53 105.00 6.34 28079001\n",
       "2 2001-08-01 01:00:00 0.34 56.25 42.16 100.60 8.11 28079035\n",
       "3 2001-08-01 01:00:00 0.28 50.66 46.31 100.10 7.85 28079003\n",
       "4 2001-08-01 01:00:00 0.47 69.79 40.65  69.78 6.46 28079004\n",
       "5 2001-08-01 01:00:00 0.39 22.83 66.31  75.18 8.80 28079039\n",
       "6 2001-08-01 01:00:00 0.63 66.26 33.50 122.70 6.36 28079006"
      ]
     },
     "metadata": {},
     "output_type": "display_data"
    },
    {
     "data": {
      "text/html": [
       "<table>\n",
       "<thead><tr><th></th><th scope=col>date</th><th scope=col>CO</th><th scope=col>NO_2</th><th scope=col>O_3</th><th scope=col>PM10</th><th scope=col>SO_2</th><th scope=col>station</th></tr></thead>\n",
       "<tbody>\n",
       "\t<tr><th scope=row>3808219</th><td>2018-02-01 00:00:00</td><td> NA                </td><td> 94                </td><td>NA                 </td><td>35                 </td><td>NA                 </td><td>28079055           </td></tr>\n",
       "\t<tr><th scope=row>3808220</th><td>2018-02-01 00:00:00</td><td>0.5                </td><td> 91                </td><td> 1                 </td><td>35                 </td><td>NA                 </td><td>28079056           </td></tr>\n",
       "\t<tr><th scope=row>3808221</th><td>2018-02-01 00:00:00</td><td>0.7                </td><td>107                </td><td>NA                 </td><td>29                 </td><td>15                 </td><td>28079057           </td></tr>\n",
       "\t<tr><th scope=row>3808222</th><td>2018-02-01 00:00:00</td><td> NA                </td><td> 48                </td><td> 2                 </td><td>NA                 </td><td>NA                 </td><td>28079058           </td></tr>\n",
       "\t<tr><th scope=row>3808223</th><td>2018-02-01 00:00:00</td><td> NA                </td><td>103                </td><td> 2                 </td><td>NA                 </td><td>NA                 </td><td>28079059           </td></tr>\n",
       "\t<tr><th scope=row>3808224</th><td>2018-02-01 00:00:00</td><td> NA                </td><td> 96                </td><td> 3                 </td><td>26                 </td><td>NA                 </td><td>28079060           </td></tr>\n",
       "</tbody>\n",
       "</table>\n"
      ],
      "text/latex": [
       "\\begin{tabular}{r|lllllll}\n",
       "  & date & CO & NO\\_2 & O\\_3 & PM10 & SO\\_2 & station\\\\\n",
       "\\hline\n",
       "\t3808219 & 2018-02-01 00:00:00 &  NA                 &  94                 & NA                  & 35                  & NA                  & 28079055           \\\\\n",
       "\t3808220 & 2018-02-01 00:00:00 & 0.5                 &  91                 &  1                  & 35                  & NA                  & 28079056           \\\\\n",
       "\t3808221 & 2018-02-01 00:00:00 & 0.7                 & 107                 & NA                  & 29                  & 15                  & 28079057           \\\\\n",
       "\t3808222 & 2018-02-01 00:00:00 &  NA                 &  48                 &  2                  & NA                  & NA                  & 28079058           \\\\\n",
       "\t3808223 & 2018-02-01 00:00:00 &  NA                 & 103                 &  2                  & NA                  & NA                  & 28079059           \\\\\n",
       "\t3808224 & 2018-02-01 00:00:00 &  NA                 &  96                 &  3                  & 26                  & NA                  & 28079060           \\\\\n",
       "\\end{tabular}\n"
      ],
      "text/markdown": [
       "\n",
       "| <!--/--> | date | CO | NO_2 | O_3 | PM10 | SO_2 | station | \n",
       "|---|---|---|---|---|---|\n",
       "| 3808219 | 2018-02-01 00:00:00 |  NA                 |  94                 | NA                  | 35                  | NA                  | 28079055            | \n",
       "| 3808220 | 2018-02-01 00:00:00 | 0.5                 |  91                 |  1                  | 35                  | NA                  | 28079056            | \n",
       "| 3808221 | 2018-02-01 00:00:00 | 0.7                 | 107                 | NA                  | 29                  | 15                  | 28079057            | \n",
       "| 3808222 | 2018-02-01 00:00:00 |  NA                 |  48                 |  2                  | NA                  | NA                  | 28079058            | \n",
       "| 3808223 | 2018-02-01 00:00:00 |  NA                 | 103                 |  2                  | NA                  | NA                  | 28079059            | \n",
       "| 3808224 | 2018-02-01 00:00:00 |  NA                 |  96                 |  3                  | 26                  | NA                  | 28079060            | \n",
       "\n",
       "\n"
      ],
      "text/plain": [
       "        date                CO  NO_2 O_3 PM10 SO_2 station \n",
       "3808219 2018-02-01 00:00:00  NA  94  NA  35   NA   28079055\n",
       "3808220 2018-02-01 00:00:00 0.5  91   1  35   NA   28079056\n",
       "3808221 2018-02-01 00:00:00 0.7 107  NA  29   15   28079057\n",
       "3808222 2018-02-01 00:00:00  NA  48   2  NA   NA   28079058\n",
       "3808223 2018-02-01 00:00:00  NA 103   2  NA   NA   28079059\n",
       "3808224 2018-02-01 00:00:00  NA  96   3  26   NA   28079060"
      ]
     },
     "metadata": {},
     "output_type": "display_data"
    }
   ],
   "source": [
    "#Procedemos a quitar el resto de columnas\n",
    "airMadrid$BEN = NULL;\n",
    "airMadrid$EBE = NULL;\n",
    "airMadrid$MXY = NULL;\n",
    "airMadrid$NMHC = NULL;\n",
    "airMadrid$NOx = NULL;\n",
    "airMadrid$OXY = NULL;\n",
    "airMadrid$PXY = NULL;\n",
    "airMadrid$TCH = NULL;\n",
    "airMadrid$TOL = NULL;\n",
    "airMadrid$PM25 = NULL;\n",
    "airMadrid$NO = NULL;\n",
    "airMadrid$CH4 = NULL;\n",
    "\n",
    "#Mostramos dataframe para observar cambios\n",
    "head(airMadrid)\n",
    "tail(airMadrid)"
   ]
  },
  {
   "cell_type": "code",
   "execution_count": 649,
   "metadata": {},
   "outputs": [],
   "source": [
    "# Liberamos memoria\n",
    "rm(percentageNA)\n",
    "rm(naPerColumn)"
   ]
  },
  {
   "cell_type": "markdown",
   "metadata": {},
   "source": [
    "### Agrupacion de datos"
   ]
  },
  {
   "cell_type": "markdown",
   "metadata": {},
   "source": [
    "Dado que las muestras de la contaminación son por hora, se agruparan las mismas realizando la media de cada uno de los gases diaria.\n",
    "- 1) Mostrar dataframe ordenado por estación\n",
    "- 2) Cambiar el formato de la fecha para poder agrupar esta columna\n",
    "- 3) Agrupar por fecha y mostrar resultado"
   ]
  },
  {
   "cell_type": "markdown",
   "metadata": {},
   "source": [
    "#### Mostrar dataframe ordenado por estación"
   ]
  },
  {
   "cell_type": "code",
   "execution_count": 650,
   "metadata": {},
   "outputs": [
    {
     "data": {
      "text/html": [
       "<table>\n",
       "<thead><tr><th></th><th scope=col>date</th><th scope=col>CO</th><th scope=col>NO_2</th><th scope=col>O_3</th><th scope=col>PM10</th><th scope=col>SO_2</th><th scope=col>station</th></tr></thead>\n",
       "<tbody>\n",
       "\t<tr><th scope=row>1</th><td>2001-08-01 01:00:00</td><td>0.37               </td><td> 58.40             </td><td>34.53              </td><td>105.00             </td><td> 6.34              </td><td>28079001           </td></tr>\n",
       "\t<tr><th scope=row>25</th><td>2001-08-01 02:00:00</td><td>0.42               </td><td> 65.76             </td><td>27.93              </td><td> 69.75             </td><td> 7.15              </td><td>28079001           </td></tr>\n",
       "\t<tr><th scope=row>49</th><td>2001-08-01 03:00:00</td><td>0.32               </td><td> 61.09             </td><td>32.07              </td><td> 56.22             </td><td> 6.26              </td><td>28079001           </td></tr>\n",
       "\t<tr><th scope=row>73</th><td>2001-08-01 04:00:00</td><td>0.23               </td><td> 47.02             </td><td>42.21              </td><td> 50.69             </td><td> 5.19              </td><td>28079001           </td></tr>\n",
       "\t<tr><th scope=row>97</th><td>2001-08-01 05:00:00</td><td>0.19               </td><td> 47.17             </td><td>48.46              </td><td> 49.49             </td><td> 5.03              </td><td>28079001           </td></tr>\n",
       "\t<tr><th scope=row>121</th><td>2001-08-01 06:00:00</td><td>0.06               </td><td> 63.83             </td><td>40.80              </td><td> 43.47             </td><td> 5.24              </td><td>28079001           </td></tr>\n",
       "\t<tr><th scope=row>145</th><td>2001-08-01 07:00:00</td><td>0.28               </td><td> 91.74             </td><td>22.18              </td><td> 42.19             </td><td> 7.37              </td><td>28079001           </td></tr>\n",
       "\t<tr><th scope=row>169</th><td>2001-08-01 08:00:00</td><td>0.89               </td><td>127.80             </td><td>11.98              </td><td> 45.72             </td><td>11.37              </td><td>28079001           </td></tr>\n",
       "\t<tr><th scope=row>193</th><td>2001-08-01 09:00:00</td><td>1.51               </td><td>129.50             </td><td> 9.71              </td><td> 68.46             </td><td>15.57              </td><td>28079001           </td></tr>\n",
       "\t<tr><th scope=row>217</th><td>2001-08-01 10:00:00</td><td>1.80               </td><td>127.70             </td><td> 8.86              </td><td> 91.84             </td><td>19.47              </td><td>28079001           </td></tr>\n",
       "\t<tr><th scope=row>241</th><td>2001-08-01 11:00:00</td><td>1.26               </td><td>119.90             </td><td>11.65              </td><td> 85.32             </td><td>14.74              </td><td>28079001           </td></tr>\n",
       "\t<tr><th scope=row>265</th><td>2001-08-01 12:00:00</td><td>0.99               </td><td>120.20             </td><td>16.56              </td><td> 88.68             </td><td>12.77              </td><td>28079001           </td></tr>\n",
       "\t<tr><th scope=row>289</th><td>2001-08-01 13:00:00</td><td>0.91               </td><td>109.80             </td><td>25.13              </td><td> 70.78             </td><td>10.05              </td><td>28079001           </td></tr>\n",
       "\t<tr><th scope=row>313</th><td>2001-08-01 14:00:00</td><td>1.15               </td><td>114.70             </td><td>21.74              </td><td> 69.81             </td><td>11.03              </td><td>28079001           </td></tr>\n",
       "\t<tr><th scope=row>337</th><td>2001-08-01 15:00:00</td><td>1.23               </td><td>114.80             </td><td>21.18              </td><td> 76.04             </td><td>11.15              </td><td>28079001           </td></tr>\n",
       "\t<tr><th scope=row>361</th><td>2001-08-01 16:00:00</td><td>1.09               </td><td>110.60             </td><td>21.95              </td><td> 93.53             </td><td>11.28              </td><td>28079001           </td></tr>\n",
       "\t<tr><th scope=row>385</th><td>2001-08-01 17:00:00</td><td>0.69               </td><td> 93.50             </td><td>35.23              </td><td>106.80             </td><td>10.12              </td><td>28079001           </td></tr>\n",
       "\t<tr><th scope=row>409</th><td>2001-08-01 18:00:00</td><td>0.76               </td><td>103.30             </td><td>37.40              </td><td> 97.52             </td><td> 9.79              </td><td>28079001           </td></tr>\n",
       "\t<tr><th scope=row>433</th><td>2001-08-01 19:00:00</td><td>0.97               </td><td>117.70             </td><td>31.63              </td><td> 96.42             </td><td>11.80              </td><td>28079001           </td></tr>\n",
       "\t<tr><th scope=row>457</th><td>2001-08-01 20:00:00</td><td>1.11               </td><td>116.50             </td><td>26.72              </td><td> 73.99             </td><td>11.62              </td><td>28079001           </td></tr>\n",
       "\t<tr><th scope=row>481</th><td>2001-08-01 21:00:00</td><td>1.47               </td><td>121.10             </td><td>23.21              </td><td> 53.86             </td><td>11.58              </td><td>28079001           </td></tr>\n",
       "\t<tr><th scope=row>505</th><td>2001-08-01 22:00:00</td><td>1.73               </td><td>134.30             </td><td>15.83              </td><td> 48.50             </td><td>13.40              </td><td>28079001           </td></tr>\n",
       "\t<tr><th scope=row>529</th><td>2001-08-01 23:00:00</td><td>1.79               </td><td>134.10             </td><td>11.26              </td><td> 65.28             </td><td>15.04              </td><td>28079001           </td></tr>\n",
       "\t<tr><th scope=row>553</th><td>2001-08-02 00:00:00</td><td>1.34               </td><td>113.50             </td><td>14.47              </td><td> 62.23             </td><td>10.91              </td><td>28079001           </td></tr>\n",
       "</tbody>\n",
       "</table>\n"
      ],
      "text/latex": [
       "\\begin{tabular}{r|lllllll}\n",
       "  & date & CO & NO\\_2 & O\\_3 & PM10 & SO\\_2 & station\\\\\n",
       "\\hline\n",
       "\t1 & 2001-08-01 01:00:00 & 0.37                &  58.40              & 34.53               & 105.00              &  6.34               & 28079001           \\\\\n",
       "\t25 & 2001-08-01 02:00:00 & 0.42                &  65.76              & 27.93               &  69.75              &  7.15               & 28079001           \\\\\n",
       "\t49 & 2001-08-01 03:00:00 & 0.32                &  61.09              & 32.07               &  56.22              &  6.26               & 28079001           \\\\\n",
       "\t73 & 2001-08-01 04:00:00 & 0.23                &  47.02              & 42.21               &  50.69              &  5.19               & 28079001           \\\\\n",
       "\t97 & 2001-08-01 05:00:00 & 0.19                &  47.17              & 48.46               &  49.49              &  5.03               & 28079001           \\\\\n",
       "\t121 & 2001-08-01 06:00:00 & 0.06                &  63.83              & 40.80               &  43.47              &  5.24               & 28079001           \\\\\n",
       "\t145 & 2001-08-01 07:00:00 & 0.28                &  91.74              & 22.18               &  42.19              &  7.37               & 28079001           \\\\\n",
       "\t169 & 2001-08-01 08:00:00 & 0.89                & 127.80              & 11.98               &  45.72              & 11.37               & 28079001           \\\\\n",
       "\t193 & 2001-08-01 09:00:00 & 1.51                & 129.50              &  9.71               &  68.46              & 15.57               & 28079001           \\\\\n",
       "\t217 & 2001-08-01 10:00:00 & 1.80                & 127.70              &  8.86               &  91.84              & 19.47               & 28079001           \\\\\n",
       "\t241 & 2001-08-01 11:00:00 & 1.26                & 119.90              & 11.65               &  85.32              & 14.74               & 28079001           \\\\\n",
       "\t265 & 2001-08-01 12:00:00 & 0.99                & 120.20              & 16.56               &  88.68              & 12.77               & 28079001           \\\\\n",
       "\t289 & 2001-08-01 13:00:00 & 0.91                & 109.80              & 25.13               &  70.78              & 10.05               & 28079001           \\\\\n",
       "\t313 & 2001-08-01 14:00:00 & 1.15                & 114.70              & 21.74               &  69.81              & 11.03               & 28079001           \\\\\n",
       "\t337 & 2001-08-01 15:00:00 & 1.23                & 114.80              & 21.18               &  76.04              & 11.15               & 28079001           \\\\\n",
       "\t361 & 2001-08-01 16:00:00 & 1.09                & 110.60              & 21.95               &  93.53              & 11.28               & 28079001           \\\\\n",
       "\t385 & 2001-08-01 17:00:00 & 0.69                &  93.50              & 35.23               & 106.80              & 10.12               & 28079001           \\\\\n",
       "\t409 & 2001-08-01 18:00:00 & 0.76                & 103.30              & 37.40               &  97.52              &  9.79               & 28079001           \\\\\n",
       "\t433 & 2001-08-01 19:00:00 & 0.97                & 117.70              & 31.63               &  96.42              & 11.80               & 28079001           \\\\\n",
       "\t457 & 2001-08-01 20:00:00 & 1.11                & 116.50              & 26.72               &  73.99              & 11.62               & 28079001           \\\\\n",
       "\t481 & 2001-08-01 21:00:00 & 1.47                & 121.10              & 23.21               &  53.86              & 11.58               & 28079001           \\\\\n",
       "\t505 & 2001-08-01 22:00:00 & 1.73                & 134.30              & 15.83               &  48.50              & 13.40               & 28079001           \\\\\n",
       "\t529 & 2001-08-01 23:00:00 & 1.79                & 134.10              & 11.26               &  65.28              & 15.04               & 28079001           \\\\\n",
       "\t553 & 2001-08-02 00:00:00 & 1.34                & 113.50              & 14.47               &  62.23              & 10.91               & 28079001           \\\\\n",
       "\\end{tabular}\n"
      ],
      "text/markdown": [
       "\n",
       "| <!--/--> | date | CO | NO_2 | O_3 | PM10 | SO_2 | station | \n",
       "|---|---|---|---|---|---|---|---|---|---|---|---|---|---|---|---|---|---|---|---|---|---|---|---|\n",
       "| 1 | 2001-08-01 01:00:00 | 0.37                |  58.40              | 34.53               | 105.00              |  6.34               | 28079001            | \n",
       "| 25 | 2001-08-01 02:00:00 | 0.42                |  65.76              | 27.93               |  69.75              |  7.15               | 28079001            | \n",
       "| 49 | 2001-08-01 03:00:00 | 0.32                |  61.09              | 32.07               |  56.22              |  6.26               | 28079001            | \n",
       "| 73 | 2001-08-01 04:00:00 | 0.23                |  47.02              | 42.21               |  50.69              |  5.19               | 28079001            | \n",
       "| 97 | 2001-08-01 05:00:00 | 0.19                |  47.17              | 48.46               |  49.49              |  5.03               | 28079001            | \n",
       "| 121 | 2001-08-01 06:00:00 | 0.06                |  63.83              | 40.80               |  43.47              |  5.24               | 28079001            | \n",
       "| 145 | 2001-08-01 07:00:00 | 0.28                |  91.74              | 22.18               |  42.19              |  7.37               | 28079001            | \n",
       "| 169 | 2001-08-01 08:00:00 | 0.89                | 127.80              | 11.98               |  45.72              | 11.37               | 28079001            | \n",
       "| 193 | 2001-08-01 09:00:00 | 1.51                | 129.50              |  9.71               |  68.46              | 15.57               | 28079001            | \n",
       "| 217 | 2001-08-01 10:00:00 | 1.80                | 127.70              |  8.86               |  91.84              | 19.47               | 28079001            | \n",
       "| 241 | 2001-08-01 11:00:00 | 1.26                | 119.90              | 11.65               |  85.32              | 14.74               | 28079001            | \n",
       "| 265 | 2001-08-01 12:00:00 | 0.99                | 120.20              | 16.56               |  88.68              | 12.77               | 28079001            | \n",
       "| 289 | 2001-08-01 13:00:00 | 0.91                | 109.80              | 25.13               |  70.78              | 10.05               | 28079001            | \n",
       "| 313 | 2001-08-01 14:00:00 | 1.15                | 114.70              | 21.74               |  69.81              | 11.03               | 28079001            | \n",
       "| 337 | 2001-08-01 15:00:00 | 1.23                | 114.80              | 21.18               |  76.04              | 11.15               | 28079001            | \n",
       "| 361 | 2001-08-01 16:00:00 | 1.09                | 110.60              | 21.95               |  93.53              | 11.28               | 28079001            | \n",
       "| 385 | 2001-08-01 17:00:00 | 0.69                |  93.50              | 35.23               | 106.80              | 10.12               | 28079001            | \n",
       "| 409 | 2001-08-01 18:00:00 | 0.76                | 103.30              | 37.40               |  97.52              |  9.79               | 28079001            | \n",
       "| 433 | 2001-08-01 19:00:00 | 0.97                | 117.70              | 31.63               |  96.42              | 11.80               | 28079001            | \n",
       "| 457 | 2001-08-01 20:00:00 | 1.11                | 116.50              | 26.72               |  73.99              | 11.62               | 28079001            | \n",
       "| 481 | 2001-08-01 21:00:00 | 1.47                | 121.10              | 23.21               |  53.86              | 11.58               | 28079001            | \n",
       "| 505 | 2001-08-01 22:00:00 | 1.73                | 134.30              | 15.83               |  48.50              | 13.40               | 28079001            | \n",
       "| 529 | 2001-08-01 23:00:00 | 1.79                | 134.10              | 11.26               |  65.28              | 15.04               | 28079001            | \n",
       "| 553 | 2001-08-02 00:00:00 | 1.34                | 113.50              | 14.47               |  62.23              | 10.91               | 28079001            | \n",
       "\n",
       "\n"
      ],
      "text/plain": [
       "    date                CO   NO_2   O_3   PM10   SO_2  station \n",
       "1   2001-08-01 01:00:00 0.37  58.40 34.53 105.00  6.34 28079001\n",
       "25  2001-08-01 02:00:00 0.42  65.76 27.93  69.75  7.15 28079001\n",
       "49  2001-08-01 03:00:00 0.32  61.09 32.07  56.22  6.26 28079001\n",
       "73  2001-08-01 04:00:00 0.23  47.02 42.21  50.69  5.19 28079001\n",
       "97  2001-08-01 05:00:00 0.19  47.17 48.46  49.49  5.03 28079001\n",
       "121 2001-08-01 06:00:00 0.06  63.83 40.80  43.47  5.24 28079001\n",
       "145 2001-08-01 07:00:00 0.28  91.74 22.18  42.19  7.37 28079001\n",
       "169 2001-08-01 08:00:00 0.89 127.80 11.98  45.72 11.37 28079001\n",
       "193 2001-08-01 09:00:00 1.51 129.50  9.71  68.46 15.57 28079001\n",
       "217 2001-08-01 10:00:00 1.80 127.70  8.86  91.84 19.47 28079001\n",
       "241 2001-08-01 11:00:00 1.26 119.90 11.65  85.32 14.74 28079001\n",
       "265 2001-08-01 12:00:00 0.99 120.20 16.56  88.68 12.77 28079001\n",
       "289 2001-08-01 13:00:00 0.91 109.80 25.13  70.78 10.05 28079001\n",
       "313 2001-08-01 14:00:00 1.15 114.70 21.74  69.81 11.03 28079001\n",
       "337 2001-08-01 15:00:00 1.23 114.80 21.18  76.04 11.15 28079001\n",
       "361 2001-08-01 16:00:00 1.09 110.60 21.95  93.53 11.28 28079001\n",
       "385 2001-08-01 17:00:00 0.69  93.50 35.23 106.80 10.12 28079001\n",
       "409 2001-08-01 18:00:00 0.76 103.30 37.40  97.52  9.79 28079001\n",
       "433 2001-08-01 19:00:00 0.97 117.70 31.63  96.42 11.80 28079001\n",
       "457 2001-08-01 20:00:00 1.11 116.50 26.72  73.99 11.62 28079001\n",
       "481 2001-08-01 21:00:00 1.47 121.10 23.21  53.86 11.58 28079001\n",
       "505 2001-08-01 22:00:00 1.73 134.30 15.83  48.50 13.40 28079001\n",
       "529 2001-08-01 23:00:00 1.79 134.10 11.26  65.28 15.04 28079001\n",
       "553 2001-08-02 00:00:00 1.34 113.50 14.47  62.23 10.91 28079001"
      ]
     },
     "metadata": {},
     "output_type": "display_data"
    },
    {
     "data": {
      "text/html": [
       "<table>\n",
       "<thead><tr><th></th><th scope=col>date</th><th scope=col>CO</th><th scope=col>NO_2</th><th scope=col>O_3</th><th scope=col>PM10</th><th scope=col>SO_2</th><th scope=col>station</th></tr></thead>\n",
       "<tbody>\n",
       "\t<tr><th scope=row>2268754</th><td>2010-07-31 19:00:00</td><td>0.22               </td><td>17.83              </td><td>120.20             </td><td>20.17              </td><td>6.93               </td><td>28079099           </td></tr>\n",
       "\t<tr><th scope=row>2268776</th><td>2010-07-31 20:00:00</td><td>0.23               </td><td>22.57              </td><td>112.70             </td><td>13.95              </td><td>6.88               </td><td>28079099           </td></tr>\n",
       "\t<tr><th scope=row>2268798</th><td>2010-07-31 21:00:00</td><td>0.27               </td><td>33.91              </td><td> 98.27             </td><td>22.44              </td><td>6.84               </td><td>28079099           </td></tr>\n",
       "\t<tr><th scope=row>2268820</th><td>2010-07-31 22:00:00</td><td>0.38               </td><td>64.05              </td><td> 69.79             </td><td>52.17              </td><td>6.97               </td><td>28079099           </td></tr>\n",
       "\t<tr><th scope=row>2268842</th><td>2010-07-31 23:00:00</td><td>0.50               </td><td>86.81              </td><td> 49.55             </td><td>54.36              </td><td>7.12               </td><td>28079099           </td></tr>\n",
       "\t<tr><th scope=row>2268864</th><td>2010-08-01 00:00:00</td><td>0.43               </td><td>76.33              </td><td> 52.26             </td><td>47.15              </td><td>7.03               </td><td>28079099           </td></tr>\n",
       "</tbody>\n",
       "</table>\n"
      ],
      "text/latex": [
       "\\begin{tabular}{r|lllllll}\n",
       "  & date & CO & NO\\_2 & O\\_3 & PM10 & SO\\_2 & station\\\\\n",
       "\\hline\n",
       "\t2268754 & 2010-07-31 19:00:00 & 0.22                & 17.83               & 120.20              & 20.17               & 6.93                & 28079099           \\\\\n",
       "\t2268776 & 2010-07-31 20:00:00 & 0.23                & 22.57               & 112.70              & 13.95               & 6.88                & 28079099           \\\\\n",
       "\t2268798 & 2010-07-31 21:00:00 & 0.27                & 33.91               &  98.27              & 22.44               & 6.84                & 28079099           \\\\\n",
       "\t2268820 & 2010-07-31 22:00:00 & 0.38                & 64.05               &  69.79              & 52.17               & 6.97                & 28079099           \\\\\n",
       "\t2268842 & 2010-07-31 23:00:00 & 0.50                & 86.81               &  49.55              & 54.36               & 7.12                & 28079099           \\\\\n",
       "\t2268864 & 2010-08-01 00:00:00 & 0.43                & 76.33               &  52.26              & 47.15               & 7.03                & 28079099           \\\\\n",
       "\\end{tabular}\n"
      ],
      "text/markdown": [
       "\n",
       "| <!--/--> | date | CO | NO_2 | O_3 | PM10 | SO_2 | station | \n",
       "|---|---|---|---|---|---|\n",
       "| 2268754 | 2010-07-31 19:00:00 | 0.22                | 17.83               | 120.20              | 20.17               | 6.93                | 28079099            | \n",
       "| 2268776 | 2010-07-31 20:00:00 | 0.23                | 22.57               | 112.70              | 13.95               | 6.88                | 28079099            | \n",
       "| 2268798 | 2010-07-31 21:00:00 | 0.27                | 33.91               |  98.27              | 22.44               | 6.84                | 28079099            | \n",
       "| 2268820 | 2010-07-31 22:00:00 | 0.38                | 64.05               |  69.79              | 52.17               | 6.97                | 28079099            | \n",
       "| 2268842 | 2010-07-31 23:00:00 | 0.50                | 86.81               |  49.55              | 54.36               | 7.12                | 28079099            | \n",
       "| 2268864 | 2010-08-01 00:00:00 | 0.43                | 76.33               |  52.26              | 47.15               | 7.03                | 28079099            | \n",
       "\n",
       "\n"
      ],
      "text/plain": [
       "        date                CO   NO_2  O_3    PM10  SO_2 station \n",
       "2268754 2010-07-31 19:00:00 0.22 17.83 120.20 20.17 6.93 28079099\n",
       "2268776 2010-07-31 20:00:00 0.23 22.57 112.70 13.95 6.88 28079099\n",
       "2268798 2010-07-31 21:00:00 0.27 33.91  98.27 22.44 6.84 28079099\n",
       "2268820 2010-07-31 22:00:00 0.38 64.05  69.79 52.17 6.97 28079099\n",
       "2268842 2010-07-31 23:00:00 0.50 86.81  49.55 54.36 7.12 28079099\n",
       "2268864 2010-08-01 00:00:00 0.43 76.33  52.26 47.15 7.03 28079099"
      ]
     },
     "metadata": {},
     "output_type": "display_data"
    }
   ],
   "source": [
    "airMadrid<- airMadrid[order(airMadrid$station),]\n",
    "head(airMadrid, n=24)\n",
    "tail(airMadrid)"
   ]
  },
  {
   "cell_type": "markdown",
   "metadata": {},
   "source": [
    "#### Cambiar el formato de la fecha para poder agrupar esta columna"
   ]
  },
  {
   "cell_type": "code",
   "execution_count": 651,
   "metadata": {},
   "outputs": [],
   "source": [
    "airMadrid$date <- as.Date(airMadrid$date, format = \"%Y-%m-%d\")"
   ]
  },
  {
   "cell_type": "code",
   "execution_count": 652,
   "metadata": {},
   "outputs": [
    {
     "data": {
      "text/html": [
       "<table>\n",
       "<thead><tr><th></th><th scope=col>date</th><th scope=col>CO</th><th scope=col>NO_2</th><th scope=col>O_3</th><th scope=col>PM10</th><th scope=col>SO_2</th><th scope=col>station</th></tr></thead>\n",
       "<tbody>\n",
       "\t<tr><th scope=row>1</th><td>2001-08-01</td><td>0.37      </td><td> 58.40    </td><td>34.53     </td><td>105.00    </td><td> 6.34     </td><td>28079001  </td></tr>\n",
       "\t<tr><th scope=row>25</th><td>2001-08-01</td><td>0.42      </td><td> 65.76    </td><td>27.93     </td><td> 69.75    </td><td> 7.15     </td><td>28079001  </td></tr>\n",
       "\t<tr><th scope=row>49</th><td>2001-08-01</td><td>0.32      </td><td> 61.09    </td><td>32.07     </td><td> 56.22    </td><td> 6.26     </td><td>28079001  </td></tr>\n",
       "\t<tr><th scope=row>73</th><td>2001-08-01</td><td>0.23      </td><td> 47.02    </td><td>42.21     </td><td> 50.69    </td><td> 5.19     </td><td>28079001  </td></tr>\n",
       "\t<tr><th scope=row>97</th><td>2001-08-01</td><td>0.19      </td><td> 47.17    </td><td>48.46     </td><td> 49.49    </td><td> 5.03     </td><td>28079001  </td></tr>\n",
       "\t<tr><th scope=row>121</th><td>2001-08-01</td><td>0.06      </td><td> 63.83    </td><td>40.80     </td><td> 43.47    </td><td> 5.24     </td><td>28079001  </td></tr>\n",
       "\t<tr><th scope=row>145</th><td>2001-08-01</td><td>0.28      </td><td> 91.74    </td><td>22.18     </td><td> 42.19    </td><td> 7.37     </td><td>28079001  </td></tr>\n",
       "\t<tr><th scope=row>169</th><td>2001-08-01</td><td>0.89      </td><td>127.80    </td><td>11.98     </td><td> 45.72    </td><td>11.37     </td><td>28079001  </td></tr>\n",
       "\t<tr><th scope=row>193</th><td>2001-08-01</td><td>1.51      </td><td>129.50    </td><td> 9.71     </td><td> 68.46    </td><td>15.57     </td><td>28079001  </td></tr>\n",
       "\t<tr><th scope=row>217</th><td>2001-08-01</td><td>1.80      </td><td>127.70    </td><td> 8.86     </td><td> 91.84    </td><td>19.47     </td><td>28079001  </td></tr>\n",
       "\t<tr><th scope=row>241</th><td>2001-08-01</td><td>1.26      </td><td>119.90    </td><td>11.65     </td><td> 85.32    </td><td>14.74     </td><td>28079001  </td></tr>\n",
       "\t<tr><th scope=row>265</th><td>2001-08-01</td><td>0.99      </td><td>120.20    </td><td>16.56     </td><td> 88.68    </td><td>12.77     </td><td>28079001  </td></tr>\n",
       "\t<tr><th scope=row>289</th><td>2001-08-01</td><td>0.91      </td><td>109.80    </td><td>25.13     </td><td> 70.78    </td><td>10.05     </td><td>28079001  </td></tr>\n",
       "\t<tr><th scope=row>313</th><td>2001-08-01</td><td>1.15      </td><td>114.70    </td><td>21.74     </td><td> 69.81    </td><td>11.03     </td><td>28079001  </td></tr>\n",
       "\t<tr><th scope=row>337</th><td>2001-08-01</td><td>1.23      </td><td>114.80    </td><td>21.18     </td><td> 76.04    </td><td>11.15     </td><td>28079001  </td></tr>\n",
       "\t<tr><th scope=row>361</th><td>2001-08-01</td><td>1.09      </td><td>110.60    </td><td>21.95     </td><td> 93.53    </td><td>11.28     </td><td>28079001  </td></tr>\n",
       "\t<tr><th scope=row>385</th><td>2001-08-01</td><td>0.69      </td><td> 93.50    </td><td>35.23     </td><td>106.80    </td><td>10.12     </td><td>28079001  </td></tr>\n",
       "\t<tr><th scope=row>409</th><td>2001-08-01</td><td>0.76      </td><td>103.30    </td><td>37.40     </td><td> 97.52    </td><td> 9.79     </td><td>28079001  </td></tr>\n",
       "\t<tr><th scope=row>433</th><td>2001-08-01</td><td>0.97      </td><td>117.70    </td><td>31.63     </td><td> 96.42    </td><td>11.80     </td><td>28079001  </td></tr>\n",
       "\t<tr><th scope=row>457</th><td>2001-08-01</td><td>1.11      </td><td>116.50    </td><td>26.72     </td><td> 73.99    </td><td>11.62     </td><td>28079001  </td></tr>\n",
       "\t<tr><th scope=row>481</th><td>2001-08-01</td><td>1.47      </td><td>121.10    </td><td>23.21     </td><td> 53.86    </td><td>11.58     </td><td>28079001  </td></tr>\n",
       "\t<tr><th scope=row>505</th><td>2001-08-01</td><td>1.73      </td><td>134.30    </td><td>15.83     </td><td> 48.50    </td><td>13.40     </td><td>28079001  </td></tr>\n",
       "\t<tr><th scope=row>529</th><td>2001-08-01</td><td>1.79      </td><td>134.10    </td><td>11.26     </td><td> 65.28    </td><td>15.04     </td><td>28079001  </td></tr>\n",
       "\t<tr><th scope=row>553</th><td>2001-08-02</td><td>1.34      </td><td>113.50    </td><td>14.47     </td><td> 62.23    </td><td>10.91     </td><td>28079001  </td></tr>\n",
       "</tbody>\n",
       "</table>\n"
      ],
      "text/latex": [
       "\\begin{tabular}{r|lllllll}\n",
       "  & date & CO & NO\\_2 & O\\_3 & PM10 & SO\\_2 & station\\\\\n",
       "\\hline\n",
       "\t1 & 2001-08-01 & 0.37       &  58.40     & 34.53      & 105.00     &  6.34      & 28079001  \\\\\n",
       "\t25 & 2001-08-01 & 0.42       &  65.76     & 27.93      &  69.75     &  7.15      & 28079001  \\\\\n",
       "\t49 & 2001-08-01 & 0.32       &  61.09     & 32.07      &  56.22     &  6.26      & 28079001  \\\\\n",
       "\t73 & 2001-08-01 & 0.23       &  47.02     & 42.21      &  50.69     &  5.19      & 28079001  \\\\\n",
       "\t97 & 2001-08-01 & 0.19       &  47.17     & 48.46      &  49.49     &  5.03      & 28079001  \\\\\n",
       "\t121 & 2001-08-01 & 0.06       &  63.83     & 40.80      &  43.47     &  5.24      & 28079001  \\\\\n",
       "\t145 & 2001-08-01 & 0.28       &  91.74     & 22.18      &  42.19     &  7.37      & 28079001  \\\\\n",
       "\t169 & 2001-08-01 & 0.89       & 127.80     & 11.98      &  45.72     & 11.37      & 28079001  \\\\\n",
       "\t193 & 2001-08-01 & 1.51       & 129.50     &  9.71      &  68.46     & 15.57      & 28079001  \\\\\n",
       "\t217 & 2001-08-01 & 1.80       & 127.70     &  8.86      &  91.84     & 19.47      & 28079001  \\\\\n",
       "\t241 & 2001-08-01 & 1.26       & 119.90     & 11.65      &  85.32     & 14.74      & 28079001  \\\\\n",
       "\t265 & 2001-08-01 & 0.99       & 120.20     & 16.56      &  88.68     & 12.77      & 28079001  \\\\\n",
       "\t289 & 2001-08-01 & 0.91       & 109.80     & 25.13      &  70.78     & 10.05      & 28079001  \\\\\n",
       "\t313 & 2001-08-01 & 1.15       & 114.70     & 21.74      &  69.81     & 11.03      & 28079001  \\\\\n",
       "\t337 & 2001-08-01 & 1.23       & 114.80     & 21.18      &  76.04     & 11.15      & 28079001  \\\\\n",
       "\t361 & 2001-08-01 & 1.09       & 110.60     & 21.95      &  93.53     & 11.28      & 28079001  \\\\\n",
       "\t385 & 2001-08-01 & 0.69       &  93.50     & 35.23      & 106.80     & 10.12      & 28079001  \\\\\n",
       "\t409 & 2001-08-01 & 0.76       & 103.30     & 37.40      &  97.52     &  9.79      & 28079001  \\\\\n",
       "\t433 & 2001-08-01 & 0.97       & 117.70     & 31.63      &  96.42     & 11.80      & 28079001  \\\\\n",
       "\t457 & 2001-08-01 & 1.11       & 116.50     & 26.72      &  73.99     & 11.62      & 28079001  \\\\\n",
       "\t481 & 2001-08-01 & 1.47       & 121.10     & 23.21      &  53.86     & 11.58      & 28079001  \\\\\n",
       "\t505 & 2001-08-01 & 1.73       & 134.30     & 15.83      &  48.50     & 13.40      & 28079001  \\\\\n",
       "\t529 & 2001-08-01 & 1.79       & 134.10     & 11.26      &  65.28     & 15.04      & 28079001  \\\\\n",
       "\t553 & 2001-08-02 & 1.34       & 113.50     & 14.47      &  62.23     & 10.91      & 28079001  \\\\\n",
       "\\end{tabular}\n"
      ],
      "text/markdown": [
       "\n",
       "| <!--/--> | date | CO | NO_2 | O_3 | PM10 | SO_2 | station | \n",
       "|---|---|---|---|---|---|---|---|---|---|---|---|---|---|---|---|---|---|---|---|---|---|---|---|\n",
       "| 1 | 2001-08-01 | 0.37       |  58.40     | 34.53      | 105.00     |  6.34      | 28079001   | \n",
       "| 25 | 2001-08-01 | 0.42       |  65.76     | 27.93      |  69.75     |  7.15      | 28079001   | \n",
       "| 49 | 2001-08-01 | 0.32       |  61.09     | 32.07      |  56.22     |  6.26      | 28079001   | \n",
       "| 73 | 2001-08-01 | 0.23       |  47.02     | 42.21      |  50.69     |  5.19      | 28079001   | \n",
       "| 97 | 2001-08-01 | 0.19       |  47.17     | 48.46      |  49.49     |  5.03      | 28079001   | \n",
       "| 121 | 2001-08-01 | 0.06       |  63.83     | 40.80      |  43.47     |  5.24      | 28079001   | \n",
       "| 145 | 2001-08-01 | 0.28       |  91.74     | 22.18      |  42.19     |  7.37      | 28079001   | \n",
       "| 169 | 2001-08-01 | 0.89       | 127.80     | 11.98      |  45.72     | 11.37      | 28079001   | \n",
       "| 193 | 2001-08-01 | 1.51       | 129.50     |  9.71      |  68.46     | 15.57      | 28079001   | \n",
       "| 217 | 2001-08-01 | 1.80       | 127.70     |  8.86      |  91.84     | 19.47      | 28079001   | \n",
       "| 241 | 2001-08-01 | 1.26       | 119.90     | 11.65      |  85.32     | 14.74      | 28079001   | \n",
       "| 265 | 2001-08-01 | 0.99       | 120.20     | 16.56      |  88.68     | 12.77      | 28079001   | \n",
       "| 289 | 2001-08-01 | 0.91       | 109.80     | 25.13      |  70.78     | 10.05      | 28079001   | \n",
       "| 313 | 2001-08-01 | 1.15       | 114.70     | 21.74      |  69.81     | 11.03      | 28079001   | \n",
       "| 337 | 2001-08-01 | 1.23       | 114.80     | 21.18      |  76.04     | 11.15      | 28079001   | \n",
       "| 361 | 2001-08-01 | 1.09       | 110.60     | 21.95      |  93.53     | 11.28      | 28079001   | \n",
       "| 385 | 2001-08-01 | 0.69       |  93.50     | 35.23      | 106.80     | 10.12      | 28079001   | \n",
       "| 409 | 2001-08-01 | 0.76       | 103.30     | 37.40      |  97.52     |  9.79      | 28079001   | \n",
       "| 433 | 2001-08-01 | 0.97       | 117.70     | 31.63      |  96.42     | 11.80      | 28079001   | \n",
       "| 457 | 2001-08-01 | 1.11       | 116.50     | 26.72      |  73.99     | 11.62      | 28079001   | \n",
       "| 481 | 2001-08-01 | 1.47       | 121.10     | 23.21      |  53.86     | 11.58      | 28079001   | \n",
       "| 505 | 2001-08-01 | 1.73       | 134.30     | 15.83      |  48.50     | 13.40      | 28079001   | \n",
       "| 529 | 2001-08-01 | 1.79       | 134.10     | 11.26      |  65.28     | 15.04      | 28079001   | \n",
       "| 553 | 2001-08-02 | 1.34       | 113.50     | 14.47      |  62.23     | 10.91      | 28079001   | \n",
       "\n",
       "\n"
      ],
      "text/plain": [
       "    date       CO   NO_2   O_3   PM10   SO_2  station \n",
       "1   2001-08-01 0.37  58.40 34.53 105.00  6.34 28079001\n",
       "25  2001-08-01 0.42  65.76 27.93  69.75  7.15 28079001\n",
       "49  2001-08-01 0.32  61.09 32.07  56.22  6.26 28079001\n",
       "73  2001-08-01 0.23  47.02 42.21  50.69  5.19 28079001\n",
       "97  2001-08-01 0.19  47.17 48.46  49.49  5.03 28079001\n",
       "121 2001-08-01 0.06  63.83 40.80  43.47  5.24 28079001\n",
       "145 2001-08-01 0.28  91.74 22.18  42.19  7.37 28079001\n",
       "169 2001-08-01 0.89 127.80 11.98  45.72 11.37 28079001\n",
       "193 2001-08-01 1.51 129.50  9.71  68.46 15.57 28079001\n",
       "217 2001-08-01 1.80 127.70  8.86  91.84 19.47 28079001\n",
       "241 2001-08-01 1.26 119.90 11.65  85.32 14.74 28079001\n",
       "265 2001-08-01 0.99 120.20 16.56  88.68 12.77 28079001\n",
       "289 2001-08-01 0.91 109.80 25.13  70.78 10.05 28079001\n",
       "313 2001-08-01 1.15 114.70 21.74  69.81 11.03 28079001\n",
       "337 2001-08-01 1.23 114.80 21.18  76.04 11.15 28079001\n",
       "361 2001-08-01 1.09 110.60 21.95  93.53 11.28 28079001\n",
       "385 2001-08-01 0.69  93.50 35.23 106.80 10.12 28079001\n",
       "409 2001-08-01 0.76 103.30 37.40  97.52  9.79 28079001\n",
       "433 2001-08-01 0.97 117.70 31.63  96.42 11.80 28079001\n",
       "457 2001-08-01 1.11 116.50 26.72  73.99 11.62 28079001\n",
       "481 2001-08-01 1.47 121.10 23.21  53.86 11.58 28079001\n",
       "505 2001-08-01 1.73 134.30 15.83  48.50 13.40 28079001\n",
       "529 2001-08-01 1.79 134.10 11.26  65.28 15.04 28079001\n",
       "553 2001-08-02 1.34 113.50 14.47  62.23 10.91 28079001"
      ]
     },
     "metadata": {},
     "output_type": "display_data"
    },
    {
     "data": {
      "text/html": [
       "<table>\n",
       "<thead><tr><th></th><th scope=col>date</th><th scope=col>CO</th><th scope=col>NO_2</th><th scope=col>O_3</th><th scope=col>PM10</th><th scope=col>SO_2</th><th scope=col>station</th></tr></thead>\n",
       "<tbody>\n",
       "\t<tr><th scope=row>2268754</th><td>2010-07-31</td><td>0.22      </td><td>17.83     </td><td>120.20    </td><td>20.17     </td><td>6.93      </td><td>28079099  </td></tr>\n",
       "\t<tr><th scope=row>2268776</th><td>2010-07-31</td><td>0.23      </td><td>22.57     </td><td>112.70    </td><td>13.95     </td><td>6.88      </td><td>28079099  </td></tr>\n",
       "\t<tr><th scope=row>2268798</th><td>2010-07-31</td><td>0.27      </td><td>33.91     </td><td> 98.27    </td><td>22.44     </td><td>6.84      </td><td>28079099  </td></tr>\n",
       "\t<tr><th scope=row>2268820</th><td>2010-07-31</td><td>0.38      </td><td>64.05     </td><td> 69.79    </td><td>52.17     </td><td>6.97      </td><td>28079099  </td></tr>\n",
       "\t<tr><th scope=row>2268842</th><td>2010-07-31</td><td>0.50      </td><td>86.81     </td><td> 49.55    </td><td>54.36     </td><td>7.12      </td><td>28079099  </td></tr>\n",
       "\t<tr><th scope=row>2268864</th><td>2010-08-01</td><td>0.43      </td><td>76.33     </td><td> 52.26    </td><td>47.15     </td><td>7.03      </td><td>28079099  </td></tr>\n",
       "</tbody>\n",
       "</table>\n"
      ],
      "text/latex": [
       "\\begin{tabular}{r|lllllll}\n",
       "  & date & CO & NO\\_2 & O\\_3 & PM10 & SO\\_2 & station\\\\\n",
       "\\hline\n",
       "\t2268754 & 2010-07-31 & 0.22       & 17.83      & 120.20     & 20.17      & 6.93       & 28079099  \\\\\n",
       "\t2268776 & 2010-07-31 & 0.23       & 22.57      & 112.70     & 13.95      & 6.88       & 28079099  \\\\\n",
       "\t2268798 & 2010-07-31 & 0.27       & 33.91      &  98.27     & 22.44      & 6.84       & 28079099  \\\\\n",
       "\t2268820 & 2010-07-31 & 0.38       & 64.05      &  69.79     & 52.17      & 6.97       & 28079099  \\\\\n",
       "\t2268842 & 2010-07-31 & 0.50       & 86.81      &  49.55     & 54.36      & 7.12       & 28079099  \\\\\n",
       "\t2268864 & 2010-08-01 & 0.43       & 76.33      &  52.26     & 47.15      & 7.03       & 28079099  \\\\\n",
       "\\end{tabular}\n"
      ],
      "text/markdown": [
       "\n",
       "| <!--/--> | date | CO | NO_2 | O_3 | PM10 | SO_2 | station | \n",
       "|---|---|---|---|---|---|\n",
       "| 2268754 | 2010-07-31 | 0.22       | 17.83      | 120.20     | 20.17      | 6.93       | 28079099   | \n",
       "| 2268776 | 2010-07-31 | 0.23       | 22.57      | 112.70     | 13.95      | 6.88       | 28079099   | \n",
       "| 2268798 | 2010-07-31 | 0.27       | 33.91      |  98.27     | 22.44      | 6.84       | 28079099   | \n",
       "| 2268820 | 2010-07-31 | 0.38       | 64.05      |  69.79     | 52.17      | 6.97       | 28079099   | \n",
       "| 2268842 | 2010-07-31 | 0.50       | 86.81      |  49.55     | 54.36      | 7.12       | 28079099   | \n",
       "| 2268864 | 2010-08-01 | 0.43       | 76.33      |  52.26     | 47.15      | 7.03       | 28079099   | \n",
       "\n",
       "\n"
      ],
      "text/plain": [
       "        date       CO   NO_2  O_3    PM10  SO_2 station \n",
       "2268754 2010-07-31 0.22 17.83 120.20 20.17 6.93 28079099\n",
       "2268776 2010-07-31 0.23 22.57 112.70 13.95 6.88 28079099\n",
       "2268798 2010-07-31 0.27 33.91  98.27 22.44 6.84 28079099\n",
       "2268820 2010-07-31 0.38 64.05  69.79 52.17 6.97 28079099\n",
       "2268842 2010-07-31 0.50 86.81  49.55 54.36 7.12 28079099\n",
       "2268864 2010-08-01 0.43 76.33  52.26 47.15 7.03 28079099"
      ]
     },
     "metadata": {},
     "output_type": "display_data"
    }
   ],
   "source": [
    "head(airMadrid, n = 24)\n",
    "tail(airMadrid)"
   ]
  },
  {
   "cell_type": "code",
   "execution_count": 653,
   "metadata": {},
   "outputs": [
    {
     "data": {
      "text/html": [
       "<table>\n",
       "<thead><tr><th scope=col>date</th><th scope=col>quantity</th></tr></thead>\n",
       "<tbody>\n",
       "\t<tr><td>2001-01-01</td><td> 4.3      </td></tr>\n",
       "\t<tr><td>2001-01-02</td><td> 0.1      </td></tr>\n",
       "\t<tr><td>2001-01-03</td><td> 2.2      </td></tr>\n",
       "\t<tr><td>2001-01-04</td><td> 2.4      </td></tr>\n",
       "\t<tr><td>2001-01-05</td><td>13.3      </td></tr>\n",
       "\t<tr><td>2001-01-06</td><td> 0.0      </td></tr>\n",
       "\t<tr><td>2001-01-07</td><td> 0.0      </td></tr>\n",
       "\t<tr><td>2001-01-08</td><td> 0.0      </td></tr>\n",
       "\t<tr><td>2001-01-09</td><td> 1.5      </td></tr>\n",
       "\t<tr><td>2001-01-10</td><td> 9.8      </td></tr>\n",
       "</tbody>\n",
       "</table>\n"
      ],
      "text/latex": [
       "\\begin{tabular}{r|ll}\n",
       " date & quantity\\\\\n",
       "\\hline\n",
       "\t 2001-01-01 &  4.3      \\\\\n",
       "\t 2001-01-02 &  0.1      \\\\\n",
       "\t 2001-01-03 &  2.2      \\\\\n",
       "\t 2001-01-04 &  2.4      \\\\\n",
       "\t 2001-01-05 & 13.3      \\\\\n",
       "\t 2001-01-06 &  0.0      \\\\\n",
       "\t 2001-01-07 &  0.0      \\\\\n",
       "\t 2001-01-08 &  0.0      \\\\\n",
       "\t 2001-01-09 &  1.5      \\\\\n",
       "\t 2001-01-10 &  9.8      \\\\\n",
       "\\end{tabular}\n"
      ],
      "text/markdown": [
       "\n",
       "date | quantity | \n",
       "|---|---|---|---|---|---|---|---|---|---|\n",
       "| 2001-01-01 |  4.3       | \n",
       "| 2001-01-02 |  0.1       | \n",
       "| 2001-01-03 |  2.2       | \n",
       "| 2001-01-04 |  2.4       | \n",
       "| 2001-01-05 | 13.3       | \n",
       "| 2001-01-06 |  0.0       | \n",
       "| 2001-01-07 |  0.0       | \n",
       "| 2001-01-08 |  0.0       | \n",
       "| 2001-01-09 |  1.5       | \n",
       "| 2001-01-10 |  9.8       | \n",
       "\n",
       "\n"
      ],
      "text/plain": [
       "   date       quantity\n",
       "1  2001-01-01  4.3    \n",
       "2  2001-01-02  0.1    \n",
       "3  2001-01-03  2.2    \n",
       "4  2001-01-04  2.4    \n",
       "5  2001-01-05 13.3    \n",
       "6  2001-01-06  0.0    \n",
       "7  2001-01-07  0.0    \n",
       "8  2001-01-08  0.0    \n",
       "9  2001-01-09  1.5    \n",
       "10 2001-01-10  9.8    "
      ]
     },
     "metadata": {},
     "output_type": "display_data"
    }
   ],
   "source": [
    "dataFrameRainfall$date <- as.Date(dataFrameRainfall$date)\n",
    "rainfall<-dataFrameRainfall\n",
    "rm(dataFrameRainfall)\n",
    "rainfall[is.na(rainfall)] <- 0 # convertir los NAS a ceros para que pinte bien la grafica\n",
    "head(rainfall, n = 10)"
   ]
  },
  {
   "cell_type": "markdown",
   "metadata": {},
   "source": [
    "#### Agrupar por fecha obteniendo la media diaria de cada gas contaminante"
   ]
  },
  {
   "cell_type": "code",
   "execution_count": 654,
   "metadata": {},
   "outputs": [
    {
     "data": {
      "text/html": [
       "<table>\n",
       "<thead><tr><th scope=col>station</th><th scope=col>date</th><th scope=col>CO</th><th scope=col>NO_2</th><th scope=col>O_3</th><th scope=col>PM10</th><th scope=col>SO_2</th></tr></thead>\n",
       "<tbody>\n",
       "\t<tr><td>28079001  </td><td>2001-01-02</td><td>1.243333  </td><td>84.53750  </td><td>12.576667 </td><td>36.92455  </td><td>20.28083  </td></tr>\n",
       "\t<tr><td>28079001  </td><td>2001-01-03</td><td>1.242917  </td><td>79.75125  </td><td>10.961250 </td><td>37.21292  </td><td>16.23917  </td></tr>\n",
       "\t<tr><td>28079001  </td><td>2001-01-04</td><td>1.134167  </td><td>75.39250  </td><td>12.002917 </td><td>35.03667  </td><td>16.75125  </td></tr>\n",
       "\t<tr><td>28079001  </td><td>2001-01-05</td><td>1.535833  </td><td>77.14083  </td><td> 8.755833 </td><td>34.27625  </td><td>16.00958  </td></tr>\n",
       "\t<tr><td>28079001  </td><td>2001-01-06</td><td>1.009167  </td><td>64.47708  </td><td>13.955417 </td><td>17.03792  </td><td>15.35417  </td></tr>\n",
       "\t<tr><td>28079001  </td><td>2001-01-07</td><td>1.016250  </td><td>67.06125  </td><td>12.776250 </td><td>20.45500  </td><td>18.43042  </td></tr>\n",
       "</tbody>\n",
       "</table>\n"
      ],
      "text/latex": [
       "\\begin{tabular}{r|lllllll}\n",
       " station & date & CO & NO\\_2 & O\\_3 & PM10 & SO\\_2\\\\\n",
       "\\hline\n",
       "\t 28079001   & 2001-01-02 & 1.243333   & 84.53750   & 12.576667  & 36.92455   & 20.28083  \\\\\n",
       "\t 28079001   & 2001-01-03 & 1.242917   & 79.75125   & 10.961250  & 37.21292   & 16.23917  \\\\\n",
       "\t 28079001   & 2001-01-04 & 1.134167   & 75.39250   & 12.002917  & 35.03667   & 16.75125  \\\\\n",
       "\t 28079001   & 2001-01-05 & 1.535833   & 77.14083   &  8.755833  & 34.27625   & 16.00958  \\\\\n",
       "\t 28079001   & 2001-01-06 & 1.009167   & 64.47708   & 13.955417  & 17.03792   & 15.35417  \\\\\n",
       "\t 28079001   & 2001-01-07 & 1.016250   & 67.06125   & 12.776250  & 20.45500   & 18.43042  \\\\\n",
       "\\end{tabular}\n"
      ],
      "text/markdown": [
       "\n",
       "station | date | CO | NO_2 | O_3 | PM10 | SO_2 | \n",
       "|---|---|---|---|---|---|\n",
       "| 28079001   | 2001-01-02 | 1.243333   | 84.53750   | 12.576667  | 36.92455   | 20.28083   | \n",
       "| 28079001   | 2001-01-03 | 1.242917   | 79.75125   | 10.961250  | 37.21292   | 16.23917   | \n",
       "| 28079001   | 2001-01-04 | 1.134167   | 75.39250   | 12.002917  | 35.03667   | 16.75125   | \n",
       "| 28079001   | 2001-01-05 | 1.535833   | 77.14083   |  8.755833  | 34.27625   | 16.00958   | \n",
       "| 28079001   | 2001-01-06 | 1.009167   | 64.47708   | 13.955417  | 17.03792   | 15.35417   | \n",
       "| 28079001   | 2001-01-07 | 1.016250   | 67.06125   | 12.776250  | 20.45500   | 18.43042   | \n",
       "\n",
       "\n"
      ],
      "text/plain": [
       "  station  date       CO       NO_2     O_3       PM10     SO_2    \n",
       "1 28079001 2001-01-02 1.243333 84.53750 12.576667 36.92455 20.28083\n",
       "2 28079001 2001-01-03 1.242917 79.75125 10.961250 37.21292 16.23917\n",
       "3 28079001 2001-01-04 1.134167 75.39250 12.002917 35.03667 16.75125\n",
       "4 28079001 2001-01-05 1.535833 77.14083  8.755833 34.27625 16.00958\n",
       "5 28079001 2001-01-06 1.009167 64.47708 13.955417 17.03792 15.35417\n",
       "6 28079001 2001-01-07 1.016250 67.06125 12.776250 20.45500 18.43042"
      ]
     },
     "metadata": {},
     "output_type": "display_data"
    }
   ],
   "source": [
    "madrid <- airMadrid %>%\n",
    "  group_by(station,date) %>%\n",
    "  summarise(CO = mean(CO, na.rm = TRUE),\n",
    "            NO_2 = mean(NO_2, na.rm = TRUE),\n",
    "            O_3 = mean(O_3, na.rm = TRUE),\n",
    "            PM10 = mean(PM10, na.rm = TRUE),\n",
    "            SO_2 = mean(SO_2, na.rm = TRUE))\n",
    "head(madrid)\n",
    "rm(airMadrid)"
   ]
  },
  {
   "cell_type": "markdown",
   "metadata": {},
   "source": [
    "Observamos que la estacion *28079099* no tiene muestras desde 2011, se debe a que fue dada de baja ese año por lo que se procede a eliminar del estudio. A continuación mostramos el final del data.frame para observar que ya no se encuentra dicha estación."
   ]
  },
  {
   "cell_type": "code",
   "execution_count": 655,
   "metadata": {},
   "outputs": [
    {
     "data": {
      "text/html": [
       "<table>\n",
       "<thead><tr><th scope=col>station</th><th scope=col>date</th><th scope=col>CO</th><th scope=col>NO_2</th><th scope=col>O_3</th><th scope=col>PM10</th><th scope=col>SO_2</th></tr></thead>\n",
       "<tbody>\n",
       "\t<tr><td>28079060  </td><td>2018-04-26</td><td>0         </td><td>29.041667 </td><td>77.25000  </td><td>42.54167  </td><td>0         </td></tr>\n",
       "\t<tr><td>28079060  </td><td>2018-04-27</td><td>0         </td><td>20.958333 </td><td>81.83333  </td><td>29.57143  </td><td>0         </td></tr>\n",
       "\t<tr><td>28079060  </td><td>2018-04-28</td><td>0         </td><td> 8.375000 </td><td>87.20833  </td><td>10.33333  </td><td>0         </td></tr>\n",
       "\t<tr><td>28079060  </td><td>2018-04-29</td><td>0         </td><td> 6.958333 </td><td>93.08333  </td><td>14.45833  </td><td>0         </td></tr>\n",
       "\t<tr><td>28079060  </td><td>2018-04-30</td><td>0         </td><td>13.708333 </td><td>83.33333  </td><td>12.91667  </td><td>0         </td></tr>\n",
       "\t<tr><td>28079060  </td><td>2018-05-01</td><td>0         </td><td>14.000000 </td><td>81.00000  </td><td> 6.00000  </td><td>0         </td></tr>\n",
       "</tbody>\n",
       "</table>\n"
      ],
      "text/latex": [
       "\\begin{tabular}{r|lllllll}\n",
       " station & date & CO & NO\\_2 & O\\_3 & PM10 & SO\\_2\\\\\n",
       "\\hline\n",
       "\t 28079060   & 2018-04-26 & 0          & 29.041667  & 77.25000   & 42.54167   & 0         \\\\\n",
       "\t 28079060   & 2018-04-27 & 0          & 20.958333  & 81.83333   & 29.57143   & 0         \\\\\n",
       "\t 28079060   & 2018-04-28 & 0          &  8.375000  & 87.20833   & 10.33333   & 0         \\\\\n",
       "\t 28079060   & 2018-04-29 & 0          &  6.958333  & 93.08333   & 14.45833   & 0         \\\\\n",
       "\t 28079060   & 2018-04-30 & 0          & 13.708333  & 83.33333   & 12.91667   & 0         \\\\\n",
       "\t 28079060   & 2018-05-01 & 0          & 14.000000  & 81.00000   &  6.00000   & 0         \\\\\n",
       "\\end{tabular}\n"
      ],
      "text/markdown": [
       "\n",
       "station | date | CO | NO_2 | O_3 | PM10 | SO_2 | \n",
       "|---|---|---|---|---|---|\n",
       "| 28079060   | 2018-04-26 | 0          | 29.041667  | 77.25000   | 42.54167   | 0          | \n",
       "| 28079060   | 2018-04-27 | 0          | 20.958333  | 81.83333   | 29.57143   | 0          | \n",
       "| 28079060   | 2018-04-28 | 0          |  8.375000  | 87.20833   | 10.33333   | 0          | \n",
       "| 28079060   | 2018-04-29 | 0          |  6.958333  | 93.08333   | 14.45833   | 0          | \n",
       "| 28079060   | 2018-04-30 | 0          | 13.708333  | 83.33333   | 12.91667   | 0          | \n",
       "| 28079060   | 2018-05-01 | 0          | 14.000000  | 81.00000   |  6.00000   | 0          | \n",
       "\n",
       "\n"
      ],
      "text/plain": [
       "  station  date       CO NO_2      O_3      PM10     SO_2\n",
       "1 28079060 2018-04-26 0  29.041667 77.25000 42.54167 0   \n",
       "2 28079060 2018-04-27 0  20.958333 81.83333 29.57143 0   \n",
       "3 28079060 2018-04-28 0   8.375000 87.20833 10.33333 0   \n",
       "4 28079060 2018-04-29 0   6.958333 93.08333 14.45833 0   \n",
       "5 28079060 2018-04-30 0  13.708333 83.33333 12.91667 0   \n",
       "6 28079060 2018-05-01 0  14.000000 81.00000  6.00000 0   "
      ]
     },
     "metadata": {},
     "output_type": "display_data"
    }
   ],
   "source": [
    "madrid <-  madrid[!madrid$station == 28079099,]\n",
    "madrid[is.na(madrid)] <- 0 # convertir los NAS a ceros para que pinte bien la grafica\n",
    "tail(madrid)"
   ]
  },
  {
   "cell_type": "markdown",
   "metadata": {},
   "source": [
    "#### Agregacion diaria de los gases y creacion del timeseries"
   ]
  },
  {
   "cell_type": "code",
   "execution_count": 656,
   "metadata": {},
   "outputs": [],
   "source": [
    "madrid_ts_day <- rowSums(madrid[,3:7]) # agrego los gases contaminantes que corresponden a las columnas 3 a 7\n",
    "madrid_ts_day <- madrid_ts_day[madrid_ts_day != 0] # elimino los ceros del timeseries porque corresponden a Nas"
   ]
  },
  {
   "cell_type": "code",
   "execution_count": 657,
   "metadata": {},
   "outputs": [],
   "source": [
    "madrid_ts_day <- ts(madrid_ts_day, start=c(2001, 1), end=c(2018, 1), frequency=365)"
   ]
  },
  {
   "cell_type": "markdown",
   "metadata": {},
   "source": [
    "#### Graficas con la evolucion de la contaminacion y las precipitaciones diaria"
   ]
  },
  {
   "cell_type": "code",
   "execution_count": 658,
   "metadata": {},
   "outputs": [],
   "source": [
    "rainfall_ts <- ts(rainfall$quantity, start=c(2001, 1), end=c(2018, 1), frequency=365)"
   ]
  },
  {
   "cell_type": "code",
   "execution_count": 659,
   "metadata": {},
   "outputs": [
    {
     "data": {
      "image/png": "[encoded data removed]",
      "text/plain": [
       "plot without title"
      ]
     },
     "metadata": {},
     "output_type": "display_data"
    }
   ],
   "source": [
    "plot(madrid_ts_day, xlab=\"Year\", ylab=\"Contaminacion\",\n",
    "       col=\"navy\")\n"
   ]
  },
  {
   "cell_type": "code",
   "execution_count": 660,
   "metadata": {},
   "outputs": [
    {
     "data": {
      "image/png": "[encoded data removed]",
      "text/plain": [
       "plot without title"
      ]
     },
     "metadata": {},
     "output_type": "display_data"
    }
   ],
   "source": [
    "plot(rainfall_ts, xlab=\"Year\", ylab=\"Precipitacion\",\n",
    "       col=\"navy\")"
   ]
  },
  {
   "cell_type": "markdown",
   "metadata": {},
   "source": [
    "### Agregacion anual de los gases y las precipitaciones"
   ]
  },
  {
   "cell_type": "code",
   "execution_count": 661,
   "metadata": {},
   "outputs": [
    {
     "data": {
      "text/html": [
       "<table>\n",
       "<thead><tr><th scope=col>year</th><th scope=col>CO</th><th scope=col>NO_2</th><th scope=col>O_3</th><th scope=col>PM10</th><th scope=col>SO_2</th><th scope=col>totalPollution</th></tr></thead>\n",
       "<tbody>\n",
       "\t<tr><td>2001     </td><td>8015.508 </td><td>548111.3 </td><td>274746.0 </td><td>289311.77</td><td>161112.53</td><td>1281297.1</td></tr>\n",
       "\t<tr><td>2002     </td><td>6604.271 </td><td>535744.1 </td><td>286102.8 </td><td>278633.05</td><td>113422.47</td><td>1220506.7</td></tr>\n",
       "\t<tr><td>2003     </td><td>6364.837 </td><td>571971.9 </td><td>349080.0 </td><td>345724.20</td><td>120990.96</td><td>1394131.9</td></tr>\n",
       "\t<tr><td>2004     </td><td>5968.353 </td><td>599530.7 </td><td>314831.9 </td><td>322440.79</td><td>111934.71</td><td>1354706.4</td></tr>\n",
       "\t<tr><td>2005     </td><td>5720.827 </td><td>588226.9 </td><td>315645.3 </td><td>322324.91</td><td>112349.24</td><td>1344267.2</td></tr>\n",
       "\t<tr><td>2006     </td><td>4897.247 </td><td>559657.4 </td><td>307900.2 </td><td>339682.34</td><td> 99374.00</td><td>1311511.2</td></tr>\n",
       "\t<tr><td>2007     </td><td>4116.302 </td><td>540859.7 </td><td>297670.2 </td><td>296830.08</td><td> 98533.91</td><td>1238010.2</td></tr>\n",
       "\t<tr><td>2008     </td><td>3434.445 </td><td>501399.9 </td><td>339246.9 </td><td>235552.14</td><td> 95747.90</td><td>1175381.3</td></tr>\n",
       "\t<tr><td>2009     </td><td>2998.978 </td><td>468645.5 </td><td>366407.5 </td><td>192974.99</td><td> 87718.45</td><td>1118745.4</td></tr>\n",
       "\t<tr><td>2010     </td><td>1289.673 </td><td>369894.2 </td><td>235867.7 </td><td> 89441.54</td><td> 34364.27</td><td> 730857.3</td></tr>\n",
       "\t<tr><td>2011     </td><td>1340.654 </td><td>392465.0 </td><td>229695.8 </td><td>101161.36</td><td> 25256.62</td><td> 749919.4</td></tr>\n",
       "\t<tr><td>2012     </td><td>1295.895 </td><td>339257.5 </td><td>210931.8 </td><td>103567.73</td><td> 15997.05</td><td> 671049.9</td></tr>\n",
       "\t<tr><td>2013     </td><td>1195.482 </td><td>303592.3 </td><td>255001.9 </td><td> 80206.01</td><td> 16082.21</td><td> 656077.9</td></tr>\n",
       "\t<tr><td>2014     </td><td>1340.375 </td><td>306794.1 </td><td>263315.1 </td><td> 84476.64</td><td> 18313.56</td><td> 674239.7</td></tr>\n",
       "\t<tr><td>2015     </td><td>1335.581 </td><td>358852.9 </td><td>257969.4 </td><td> 90798.74</td><td> 25076.97</td><td> 734033.6</td></tr>\n",
       "\t<tr><td>2016     </td><td>1281.017 </td><td>336580.8 </td><td>249269.3 </td><td> 82825.49</td><td> 27731.49</td><td> 697688.1</td></tr>\n",
       "\t<tr><td>2017     </td><td>1326.710 </td><td>363971.6 </td><td>246424.1 </td><td> 87365.90</td><td> 24978.73</td><td> 724067.1</td></tr>\n",
       "</tbody>\n",
       "</table>\n"
      ],
      "text/latex": [
       "\\begin{tabular}{r|lllllll}\n",
       " year & CO & NO\\_2 & O\\_3 & PM10 & SO\\_2 & totalPollution\\\\\n",
       "\\hline\n",
       "\t 2001      & 8015.508  & 548111.3  & 274746.0  & 289311.77 & 161112.53 & 1281297.1\\\\\n",
       "\t 2002      & 6604.271  & 535744.1  & 286102.8  & 278633.05 & 113422.47 & 1220506.7\\\\\n",
       "\t 2003      & 6364.837  & 571971.9  & 349080.0  & 345724.20 & 120990.96 & 1394131.9\\\\\n",
       "\t 2004      & 5968.353  & 599530.7  & 314831.9  & 322440.79 & 111934.71 & 1354706.4\\\\\n",
       "\t 2005      & 5720.827  & 588226.9  & 315645.3  & 322324.91 & 112349.24 & 1344267.2\\\\\n",
       "\t 2006      & 4897.247  & 559657.4  & 307900.2  & 339682.34 &  99374.00 & 1311511.2\\\\\n",
       "\t 2007      & 4116.302  & 540859.7  & 297670.2  & 296830.08 &  98533.91 & 1238010.2\\\\\n",
       "\t 2008      & 3434.445  & 501399.9  & 339246.9  & 235552.14 &  95747.90 & 1175381.3\\\\\n",
       "\t 2009      & 2998.978  & 468645.5  & 366407.5  & 192974.99 &  87718.45 & 1118745.4\\\\\n",
       "\t 2010      & 1289.673  & 369894.2  & 235867.7  &  89441.54 &  34364.27 &  730857.3\\\\\n",
       "\t 2011      & 1340.654  & 392465.0  & 229695.8  & 101161.36 &  25256.62 &  749919.4\\\\\n",
       "\t 2012      & 1295.895  & 339257.5  & 210931.8  & 103567.73 &  15997.05 &  671049.9\\\\\n",
       "\t 2013      & 1195.482  & 303592.3  & 255001.9  &  80206.01 &  16082.21 &  656077.9\\\\\n",
       "\t 2014      & 1340.375  & 306794.1  & 263315.1  &  84476.64 &  18313.56 &  674239.7\\\\\n",
       "\t 2015      & 1335.581  & 358852.9  & 257969.4  &  90798.74 &  25076.97 &  734033.6\\\\\n",
       "\t 2016      & 1281.017  & 336580.8  & 249269.3  &  82825.49 &  27731.49 &  697688.1\\\\\n",
       "\t 2017      & 1326.710  & 363971.6  & 246424.1  &  87365.90 &  24978.73 &  724067.1\\\\\n",
       "\\end{tabular}\n"
      ],
      "text/markdown": [
       "\n",
       "year | CO | NO_2 | O_3 | PM10 | SO_2 | totalPollution | \n",
       "|---|---|---|---|---|---|---|---|---|---|---|---|---|---|---|---|---|\n",
       "| 2001      | 8015.508  | 548111.3  | 274746.0  | 289311.77 | 161112.53 | 1281297.1 | \n",
       "| 2002      | 6604.271  | 535744.1  | 286102.8  | 278633.05 | 113422.47 | 1220506.7 | \n",
       "| 2003      | 6364.837  | 571971.9  | 349080.0  | 345724.20 | 120990.96 | 1394131.9 | \n",
       "| 2004      | 5968.353  | 599530.7  | 314831.9  | 322440.79 | 111934.71 | 1354706.4 | \n",
       "| 2005      | 5720.827  | 588226.9  | 315645.3  | 322324.91 | 112349.24 | 1344267.2 | \n",
       "| 2006      | 4897.247  | 559657.4  | 307900.2  | 339682.34 |  99374.00 | 1311511.2 | \n",
       "| 2007      | 4116.302  | 540859.7  | 297670.2  | 296830.08 |  98533.91 | 1238010.2 | \n",
       "| 2008      | 3434.445  | 501399.9  | 339246.9  | 235552.14 |  95747.90 | 1175381.3 | \n",
       "| 2009      | 2998.978  | 468645.5  | 366407.5  | 192974.99 |  87718.45 | 1118745.4 | \n",
       "| 2010      | 1289.673  | 369894.2  | 235867.7  |  89441.54 |  34364.27 |  730857.3 | \n",
       "| 2011      | 1340.654  | 392465.0  | 229695.8  | 101161.36 |  25256.62 |  749919.4 | \n",
       "| 2012      | 1295.895  | 339257.5  | 210931.8  | 103567.73 |  15997.05 |  671049.9 | \n",
       "| 2013      | 1195.482  | 303592.3  | 255001.9  |  80206.01 |  16082.21 |  656077.9 | \n",
       "| 2014      | 1340.375  | 306794.1  | 263315.1  |  84476.64 |  18313.56 |  674239.7 | \n",
       "| 2015      | 1335.581  | 358852.9  | 257969.4  |  90798.74 |  25076.97 |  734033.6 | \n",
       "| 2016      | 1281.017  | 336580.8  | 249269.3  |  82825.49 |  27731.49 |  697688.1 | \n",
       "| 2017      | 1326.710  | 363971.6  | 246424.1  |  87365.90 |  24978.73 |  724067.1 | \n",
       "\n",
       "\n"
      ],
      "text/plain": [
       "   year CO       NO_2     O_3      PM10      SO_2      totalPollution\n",
       "1  2001 8015.508 548111.3 274746.0 289311.77 161112.53 1281297.1     \n",
       "2  2002 6604.271 535744.1 286102.8 278633.05 113422.47 1220506.7     \n",
       "3  2003 6364.837 571971.9 349080.0 345724.20 120990.96 1394131.9     \n",
       "4  2004 5968.353 599530.7 314831.9 322440.79 111934.71 1354706.4     \n",
       "5  2005 5720.827 588226.9 315645.3 322324.91 112349.24 1344267.2     \n",
       "6  2006 4897.247 559657.4 307900.2 339682.34  99374.00 1311511.2     \n",
       "7  2007 4116.302 540859.7 297670.2 296830.08  98533.91 1238010.2     \n",
       "8  2008 3434.445 501399.9 339246.9 235552.14  95747.90 1175381.3     \n",
       "9  2009 2998.978 468645.5 366407.5 192974.99  87718.45 1118745.4     \n",
       "10 2010 1289.673 369894.2 235867.7  89441.54  34364.27  730857.3     \n",
       "11 2011 1340.654 392465.0 229695.8 101161.36  25256.62  749919.4     \n",
       "12 2012 1295.895 339257.5 210931.8 103567.73  15997.05  671049.9     \n",
       "13 2013 1195.482 303592.3 255001.9  80206.01  16082.21  656077.9     \n",
       "14 2014 1340.375 306794.1 263315.1  84476.64  18313.56  674239.7     \n",
       "15 2015 1335.581 358852.9 257969.4  90798.74  25076.97  734033.6     \n",
       "16 2016 1281.017 336580.8 249269.3  82825.49  27731.49  697688.1     \n",
       "17 2017 1326.710 363971.6 246424.1  87365.90  24978.73  724067.1     "
      ]
     },
     "metadata": {},
     "output_type": "display_data"
    }
   ],
   "source": [
    "# divido por año, mes y dia\n",
    "madrid_year <- madrid %>% separate(date, sep=\"-\", into = c(\"year\", \"month\", \"day\"))\n",
    "\n",
    "# sumo todos los dias del año para cada gas\n",
    "madrid_year <- madrid_year %>%\n",
    "  group_by(year) %>%\n",
    "  summarise(CO = sum(CO, na.rm = TRUE),\n",
    "            NO_2 = sum(NO_2, na.rm = TRUE),\n",
    "            O_3 = sum(O_3, na.rm = TRUE),\n",
    "            PM10 = sum(PM10, na.rm = TRUE),\n",
    "            SO_2 = sum(SO_2, na.rm = TRUE))\n",
    "\n",
    "madrid_year <- madrid_year[-c(18),] # quito 2018 porque solo llega hasta mayo\n",
    "madrid_year$totalPollution <- rowSums(madrid_year[,2:6]) # agrego los gases contaminantes que corresponden a las columnas 2 a 6\n",
    "\n",
    "head(madrid_year, n = 17)\n"
   ]
  },
  {
   "cell_type": "code",
   "execution_count": 662,
   "metadata": {},
   "outputs": [
    {
     "data": {
      "text/html": [
       "<table>\n",
       "<thead><tr><th scope=col>year</th><th scope=col>quantity</th></tr></thead>\n",
       "<tbody>\n",
       "\t<tr><td>2001 </td><td>357.7</td></tr>\n",
       "\t<tr><td>2002 </td><td>432.0</td></tr>\n",
       "\t<tr><td>2003 </td><td>517.6</td></tr>\n",
       "\t<tr><td>2004 </td><td>473.5</td></tr>\n",
       "\t<tr><td>2005 </td><td>111.0</td></tr>\n",
       "\t<tr><td>2006 </td><td>288.3</td></tr>\n",
       "\t<tr><td>2007 </td><td>300.4</td></tr>\n",
       "\t<tr><td>2008 </td><td>178.2</td></tr>\n",
       "\t<tr><td>2009 </td><td>201.7</td></tr>\n",
       "\t<tr><td>2010 </td><td>469.0</td></tr>\n",
       "\t<tr><td>2011 </td><td>289.1</td></tr>\n",
       "\t<tr><td>2012 </td><td>209.7</td></tr>\n",
       "\t<tr><td>2013 </td><td>283.3</td></tr>\n",
       "\t<tr><td>2014 </td><td>325.5</td></tr>\n",
       "\t<tr><td>2015 </td><td>196.3</td></tr>\n",
       "\t<tr><td>2016 </td><td>403.5</td></tr>\n",
       "\t<tr><td>2017 </td><td>225.2</td></tr>\n",
       "</tbody>\n",
       "</table>\n"
      ],
      "text/latex": [
       "\\begin{tabular}{r|ll}\n",
       " year & quantity\\\\\n",
       "\\hline\n",
       "\t 2001  & 357.7\\\\\n",
       "\t 2002  & 432.0\\\\\n",
       "\t 2003  & 517.6\\\\\n",
       "\t 2004  & 473.5\\\\\n",
       "\t 2005  & 111.0\\\\\n",
       "\t 2006  & 288.3\\\\\n",
       "\t 2007  & 300.4\\\\\n",
       "\t 2008  & 178.2\\\\\n",
       "\t 2009  & 201.7\\\\\n",
       "\t 2010  & 469.0\\\\\n",
       "\t 2011  & 289.1\\\\\n",
       "\t 2012  & 209.7\\\\\n",
       "\t 2013  & 283.3\\\\\n",
       "\t 2014  & 325.5\\\\\n",
       "\t 2015  & 196.3\\\\\n",
       "\t 2016  & 403.5\\\\\n",
       "\t 2017  & 225.2\\\\\n",
       "\\end{tabular}\n"
      ],
      "text/markdown": [
       "\n",
       "year | quantity | \n",
       "|---|---|---|---|---|---|---|---|---|---|---|---|---|---|---|---|---|\n",
       "| 2001  | 357.7 | \n",
       "| 2002  | 432.0 | \n",
       "| 2003  | 517.6 | \n",
       "| 2004  | 473.5 | \n",
       "| 2005  | 111.0 | \n",
       "| 2006  | 288.3 | \n",
       "| 2007  | 300.4 | \n",
       "| 2008  | 178.2 | \n",
       "| 2009  | 201.7 | \n",
       "| 2010  | 469.0 | \n",
       "| 2011  | 289.1 | \n",
       "| 2012  | 209.7 | \n",
       "| 2013  | 283.3 | \n",
       "| 2014  | 325.5 | \n",
       "| 2015  | 196.3 | \n",
       "| 2016  | 403.5 | \n",
       "| 2017  | 225.2 | \n",
       "\n",
       "\n"
      ],
      "text/plain": [
       "   year quantity\n",
       "1  2001 357.7   \n",
       "2  2002 432.0   \n",
       "3  2003 517.6   \n",
       "4  2004 473.5   \n",
       "5  2005 111.0   \n",
       "6  2006 288.3   \n",
       "7  2007 300.4   \n",
       "8  2008 178.2   \n",
       "9  2009 201.7   \n",
       "10 2010 469.0   \n",
       "11 2011 289.1   \n",
       "12 2012 209.7   \n",
       "13 2013 283.3   \n",
       "14 2014 325.5   \n",
       "15 2015 196.3   \n",
       "16 2016 403.5   \n",
       "17 2017 225.2   "
      ]
     },
     "metadata": {},
     "output_type": "display_data"
    }
   ],
   "source": [
    "# divido por año, mes y dia\n",
    "rainfall_year <-rainfall %>% separate(date, sep=\"-\", into = c(\"year\", \"month\", \"day\"))\n",
    "\n",
    "# sumo todos los dias del año para cada gas\n",
    "rainfall_year <- rainfall_year %>%\n",
    "  group_by(year) %>%\n",
    "  summarise(quantity = sum(quantity, na.rm = TRUE))\n",
    "\n",
    "rainfall_year <- rainfall_year[-c(18),] # quito 2018 como en la tabla de contaminacion\n",
    "\n",
    "head(rainfall_year, n = 17)"
   ]
  },
  {
   "cell_type": "markdown",
   "metadata": {},
   "source": [
    "### Graficas con la evolucion de la contaminacion y precipitaciones anuales"
   ]
  },
  {
   "cell_type": "code",
   "execution_count": 663,
   "metadata": {},
   "outputs": [
    {
     "data": {
      "image/png": "[encoded data removed]",
      "text/plain": [
       "Plot with title \"Contimanicación anual\""
      ]
     },
     "metadata": {},
     "output_type": "display_data"
    },
    {
     "data": {
      "image/png": "[encoded data removed]",
      "text/plain": [
       "Plot with title \"Precipitación anual\""
      ]
     },
     "metadata": {},
     "output_type": "display_data"
    }
   ],
   "source": [
    "barplot(madrid_year$totalPollution, main =\"Contimanicación anual\",xlab = \"año\",ylab = \"Contaminacion\", \n",
    "        names.arg= madrid_year$year, cex.names=.5)\n",
    "\n",
    "barplot(rainfall_year$quantity, main =\"Precipitación anual\",xlab = \"año\",ylab = \"Precipitacion\", \n",
    "        names.arg= rainfall_year$year, cex.names=.5)"
   ]
  },
  {
   "cell_type": "markdown",
   "metadata": {},
   "source": [
    "### Preparación para el modelo (Discretización de variables)"
   ]
  },
  {
   "cell_type": "markdown",
   "metadata": {},
   "source": [
    "Tras los pasos anteriores se procederá a realizar la discretización de las variables dependientes que formarán parte del modelo para preparar el dataframe para el modelo"
   ]
  },
  {
   "cell_type": "markdown",
   "metadata": {},
   "source": [
    "#### Discretizamos la calidad del aire\n",
    "Para ello nos guiraremos de la siguiente tabla, de cada fila se escogerá el mayor de todos los contaminantes y se comparara con la tabla adjunta:"
   ]
  },
  {
   "attachments": {
    "airIndex.png": {
     "image/png": "[encoded data removed]"
    }
   },
   "cell_type": "markdown",
   "metadata": {},
   "source": [
    "![airIndex.png](attachment:airIndex.png)\n",
    "\n",
    "Fuente: https://www.epa.vic.gov.au/your-environment/air/air-pollution/air-quality-index/calculating-a-station-air-quality-index"
   ]
  },
  {
   "cell_type": "markdown",
   "metadata": {},
   "source": [
    "Para ello cogemos el maximo valor de cada fila entre los gases y lo añadimos como una columna nueva al data frame"
   ]
  },
  {
   "cell_type": "code",
   "execution_count": 664,
   "metadata": {},
   "outputs": [
    {
     "data": {
      "text/html": [
       "<table>\n",
       "<thead><tr><th scope=col>station</th><th scope=col>date</th><th scope=col>CO</th><th scope=col>NO_2</th><th scope=col>O_3</th><th scope=col>PM10</th><th scope=col>SO_2</th><th scope=col>worseAirIndex</th></tr></thead>\n",
       "<tbody>\n",
       "\t<tr><td>28079001  </td><td>2001-01-02</td><td>1.243333  </td><td>84.53750  </td><td>12.576667 </td><td>36.92455  </td><td>20.28083  </td><td>84.53750  </td></tr>\n",
       "\t<tr><td>28079001  </td><td>2001-01-03</td><td>1.242917  </td><td>79.75125  </td><td>10.961250 </td><td>37.21292  </td><td>16.23917  </td><td>79.75125  </td></tr>\n",
       "\t<tr><td>28079001  </td><td>2001-01-04</td><td>1.134167  </td><td>75.39250  </td><td>12.002917 </td><td>35.03667  </td><td>16.75125  </td><td>75.39250  </td></tr>\n",
       "\t<tr><td>28079001  </td><td>2001-01-05</td><td>1.535833  </td><td>77.14083  </td><td> 8.755833 </td><td>34.27625  </td><td>16.00958  </td><td>77.14083  </td></tr>\n",
       "\t<tr><td>28079001  </td><td>2001-01-06</td><td>1.009167  </td><td>64.47708  </td><td>13.955417 </td><td>17.03792  </td><td>15.35417  </td><td>64.47708  </td></tr>\n",
       "\t<tr><td>28079001  </td><td>2001-01-07</td><td>1.016250  </td><td>67.06125  </td><td>12.776250 </td><td>20.45500  </td><td>18.43042  </td><td>67.06125  </td></tr>\n",
       "</tbody>\n",
       "</table>\n"
      ],
      "text/latex": [
       "\\begin{tabular}{r|llllllll}\n",
       " station & date & CO & NO\\_2 & O\\_3 & PM10 & SO\\_2 & worseAirIndex\\\\\n",
       "\\hline\n",
       "\t 28079001   & 2001-01-02 & 1.243333   & 84.53750   & 12.576667  & 36.92455   & 20.28083   & 84.53750  \\\\\n",
       "\t 28079001   & 2001-01-03 & 1.242917   & 79.75125   & 10.961250  & 37.21292   & 16.23917   & 79.75125  \\\\\n",
       "\t 28079001   & 2001-01-04 & 1.134167   & 75.39250   & 12.002917  & 35.03667   & 16.75125   & 75.39250  \\\\\n",
       "\t 28079001   & 2001-01-05 & 1.535833   & 77.14083   &  8.755833  & 34.27625   & 16.00958   & 77.14083  \\\\\n",
       "\t 28079001   & 2001-01-06 & 1.009167   & 64.47708   & 13.955417  & 17.03792   & 15.35417   & 64.47708  \\\\\n",
       "\t 28079001   & 2001-01-07 & 1.016250   & 67.06125   & 12.776250  & 20.45500   & 18.43042   & 67.06125  \\\\\n",
       "\\end{tabular}\n"
      ],
      "text/markdown": [
       "\n",
       "station | date | CO | NO_2 | O_3 | PM10 | SO_2 | worseAirIndex | \n",
       "|---|---|---|---|---|---|\n",
       "| 28079001   | 2001-01-02 | 1.243333   | 84.53750   | 12.576667  | 36.92455   | 20.28083   | 84.53750   | \n",
       "| 28079001   | 2001-01-03 | 1.242917   | 79.75125   | 10.961250  | 37.21292   | 16.23917   | 79.75125   | \n",
       "| 28079001   | 2001-01-04 | 1.134167   | 75.39250   | 12.002917  | 35.03667   | 16.75125   | 75.39250   | \n",
       "| 28079001   | 2001-01-05 | 1.535833   | 77.14083   |  8.755833  | 34.27625   | 16.00958   | 77.14083   | \n",
       "| 28079001   | 2001-01-06 | 1.009167   | 64.47708   | 13.955417  | 17.03792   | 15.35417   | 64.47708   | \n",
       "| 28079001   | 2001-01-07 | 1.016250   | 67.06125   | 12.776250  | 20.45500   | 18.43042   | 67.06125   | \n",
       "\n",
       "\n"
      ],
      "text/plain": [
       "  station  date       CO       NO_2     O_3       PM10     SO_2    \n",
       "1 28079001 2001-01-02 1.243333 84.53750 12.576667 36.92455 20.28083\n",
       "2 28079001 2001-01-03 1.242917 79.75125 10.961250 37.21292 16.23917\n",
       "3 28079001 2001-01-04 1.134167 75.39250 12.002917 35.03667 16.75125\n",
       "4 28079001 2001-01-05 1.535833 77.14083  8.755833 34.27625 16.00958\n",
       "5 28079001 2001-01-06 1.009167 64.47708 13.955417 17.03792 15.35417\n",
       "6 28079001 2001-01-07 1.016250 67.06125 12.776250 20.45500 18.43042\n",
       "  worseAirIndex\n",
       "1 84.53750     \n",
       "2 79.75125     \n",
       "3 75.39250     \n",
       "4 77.14083     \n",
       "5 64.47708     \n",
       "6 67.06125     "
      ]
     },
     "metadata": {},
     "output_type": "display_data"
    }
   ],
   "source": [
    "auxData <- madrid\n",
    "auxData$date=NULL\n",
    "auxData$station = NULL\n",
    "auxData[, \"worseAirIndex\"] <- apply(auxData ,1, max)\n",
    "auxData$CO=NULL\n",
    "auxData$NO_2 = NULL\n",
    "auxData$O_3 = NULL\n",
    "auxData$PM10 = NULL\n",
    "auxData$SO_2 = NULL\n",
    "madrid <- cbind(madrid,auxData)\n",
    "head(madrid)"
   ]
  },
  {
   "cell_type": "markdown",
   "metadata": {},
   "source": [
    "A continuación discretizamos la columna anterior, creando una nueva columna con los siguientes valores:\n",
    "\n",
    "    Very good(VG)  \n",
    "    Good (G)  \n",
    "    Fair(F)  \n",
    "    Poor (P)  \n",
    "    Very Poor (VP)  "
   ]
  },
  {
   "cell_type": "code",
   "execution_count": 665,
   "metadata": {},
   "outputs": [
    {
     "data": {
      "text/html": [
       "<table>\n",
       "<thead><tr><th scope=col>station</th><th scope=col>date</th><th scope=col>CO</th><th scope=col>NO_2</th><th scope=col>O_3</th><th scope=col>PM10</th><th scope=col>SO_2</th><th scope=col>worseAirIndex</th><th scope=col>AirIndexQuality</th></tr></thead>\n",
       "<tbody>\n",
       "\t<tr><td>28079001  </td><td>2001-01-02</td><td>1.243333  </td><td>84.53750  </td><td>12.576667 </td><td>36.92455  </td><td>20.28083  </td><td>84.53750  </td><td>84.53750  </td></tr>\n",
       "\t<tr><td>28079001  </td><td>2001-01-03</td><td>1.242917  </td><td>79.75125  </td><td>10.961250 </td><td>37.21292  </td><td>16.23917  </td><td>79.75125  </td><td>79.75125  </td></tr>\n",
       "\t<tr><td>28079001  </td><td>2001-01-04</td><td>1.134167  </td><td>75.39250  </td><td>12.002917 </td><td>35.03667  </td><td>16.75125  </td><td>75.39250  </td><td>75.39250  </td></tr>\n",
       "\t<tr><td>28079001  </td><td>2001-01-05</td><td>1.535833  </td><td>77.14083  </td><td> 8.755833 </td><td>34.27625  </td><td>16.00958  </td><td>77.14083  </td><td>77.14083  </td></tr>\n",
       "\t<tr><td>28079001  </td><td>2001-01-06</td><td>1.009167  </td><td>64.47708  </td><td>13.955417 </td><td>17.03792  </td><td>15.35417  </td><td>64.47708  </td><td>64.47708  </td></tr>\n",
       "\t<tr><td>28079001  </td><td>2001-01-07</td><td>1.016250  </td><td>67.06125  </td><td>12.776250 </td><td>20.45500  </td><td>18.43042  </td><td>67.06125  </td><td>67.06125  </td></tr>\n",
       "</tbody>\n",
       "</table>\n"
      ],
      "text/latex": [
       "\\begin{tabular}{r|lllllllll}\n",
       " station & date & CO & NO\\_2 & O\\_3 & PM10 & SO\\_2 & worseAirIndex & AirIndexQuality\\\\\n",
       "\\hline\n",
       "\t 28079001   & 2001-01-02 & 1.243333   & 84.53750   & 12.576667  & 36.92455   & 20.28083   & 84.53750   & 84.53750  \\\\\n",
       "\t 28079001   & 2001-01-03 & 1.242917   & 79.75125   & 10.961250  & 37.21292   & 16.23917   & 79.75125   & 79.75125  \\\\\n",
       "\t 28079001   & 2001-01-04 & 1.134167   & 75.39250   & 12.002917  & 35.03667   & 16.75125   & 75.39250   & 75.39250  \\\\\n",
       "\t 28079001   & 2001-01-05 & 1.535833   & 77.14083   &  8.755833  & 34.27625   & 16.00958   & 77.14083   & 77.14083  \\\\\n",
       "\t 28079001   & 2001-01-06 & 1.009167   & 64.47708   & 13.955417  & 17.03792   & 15.35417   & 64.47708   & 64.47708  \\\\\n",
       "\t 28079001   & 2001-01-07 & 1.016250   & 67.06125   & 12.776250  & 20.45500   & 18.43042   & 67.06125   & 67.06125  \\\\\n",
       "\\end{tabular}\n"
      ],
      "text/markdown": [
       "\n",
       "station | date | CO | NO_2 | O_3 | PM10 | SO_2 | worseAirIndex | AirIndexQuality | \n",
       "|---|---|---|---|---|---|\n",
       "| 28079001   | 2001-01-02 | 1.243333   | 84.53750   | 12.576667  | 36.92455   | 20.28083   | 84.53750   | 84.53750   | \n",
       "| 28079001   | 2001-01-03 | 1.242917   | 79.75125   | 10.961250  | 37.21292   | 16.23917   | 79.75125   | 79.75125   | \n",
       "| 28079001   | 2001-01-04 | 1.134167   | 75.39250   | 12.002917  | 35.03667   | 16.75125   | 75.39250   | 75.39250   | \n",
       "| 28079001   | 2001-01-05 | 1.535833   | 77.14083   |  8.755833  | 34.27625   | 16.00958   | 77.14083   | 77.14083   | \n",
       "| 28079001   | 2001-01-06 | 1.009167   | 64.47708   | 13.955417  | 17.03792   | 15.35417   | 64.47708   | 64.47708   | \n",
       "| 28079001   | 2001-01-07 | 1.016250   | 67.06125   | 12.776250  | 20.45500   | 18.43042   | 67.06125   | 67.06125   | \n",
       "\n",
       "\n"
      ],
      "text/plain": [
       "  station  date       CO       NO_2     O_3       PM10     SO_2    \n",
       "1 28079001 2001-01-02 1.243333 84.53750 12.576667 36.92455 20.28083\n",
       "2 28079001 2001-01-03 1.242917 79.75125 10.961250 37.21292 16.23917\n",
       "3 28079001 2001-01-04 1.134167 75.39250 12.002917 35.03667 16.75125\n",
       "4 28079001 2001-01-05 1.535833 77.14083  8.755833 34.27625 16.00958\n",
       "5 28079001 2001-01-06 1.009167 64.47708 13.955417 17.03792 15.35417\n",
       "6 28079001 2001-01-07 1.016250 67.06125 12.776250 20.45500 18.43042\n",
       "  worseAirIndex AirIndexQuality\n",
       "1 84.53750      84.53750       \n",
       "2 79.75125      79.75125       \n",
       "3 75.39250      75.39250       \n",
       "4 77.14083      77.14083       \n",
       "5 64.47708      64.47708       \n",
       "6 67.06125      67.06125       "
      ]
     },
     "metadata": {},
     "output_type": "display_data"
    }
   ],
   "source": [
    "madrid[,\"AirIndexQuality\"] <- madrid$worseAirIndex\n",
    "head(madrid)"
   ]
  },
  {
   "cell_type": "code",
   "execution_count": 666,
   "metadata": {},
   "outputs": [
    {
     "data": {
      "text/html": [
       "<table>\n",
       "<thead><tr><th scope=col>station</th><th scope=col>date</th><th scope=col>CO</th><th scope=col>NO_2</th><th scope=col>O_3</th><th scope=col>PM10</th><th scope=col>SO_2</th><th scope=col>worseAirIndex</th><th scope=col>AirIndexQuality</th></tr></thead>\n",
       "<tbody>\n",
       "\t<tr><td>28079001  </td><td>2001-01-02</td><td>1.243333  </td><td>84.53750  </td><td>12.576667 </td><td>36.92455  </td><td>20.28083  </td><td>84.53750  </td><td>FAIR      </td></tr>\n",
       "\t<tr><td>28079001  </td><td>2001-01-03</td><td>1.242917  </td><td>79.75125  </td><td>10.961250 </td><td>37.21292  </td><td>16.23917  </td><td>79.75125  </td><td>FAIR      </td></tr>\n",
       "\t<tr><td>28079001  </td><td>2001-01-04</td><td>1.134167  </td><td>75.39250  </td><td>12.002917 </td><td>35.03667  </td><td>16.75125  </td><td>75.39250  </td><td>FAIR      </td></tr>\n",
       "\t<tr><td>28079001  </td><td>2001-01-05</td><td>1.535833  </td><td>77.14083  </td><td> 8.755833 </td><td>34.27625  </td><td>16.00958  </td><td>77.14083  </td><td>FAIR      </td></tr>\n",
       "\t<tr><td>28079001  </td><td>2001-01-06</td><td>1.009167  </td><td>64.47708  </td><td>13.955417 </td><td>17.03792  </td><td>15.35417  </td><td>64.47708  </td><td>GOOD      </td></tr>\n",
       "\t<tr><td>28079001  </td><td>2001-01-07</td><td>1.016250  </td><td>67.06125  </td><td>12.776250 </td><td>20.45500  </td><td>18.43042  </td><td>67.06125  </td><td>FAIR      </td></tr>\n",
       "</tbody>\n",
       "</table>\n"
      ],
      "text/latex": [
       "\\begin{tabular}{r|lllllllll}\n",
       " station & date & CO & NO\\_2 & O\\_3 & PM10 & SO\\_2 & worseAirIndex & AirIndexQuality\\\\\n",
       "\\hline\n",
       "\t 28079001   & 2001-01-02 & 1.243333   & 84.53750   & 12.576667  & 36.92455   & 20.28083   & 84.53750   & FAIR      \\\\\n",
       "\t 28079001   & 2001-01-03 & 1.242917   & 79.75125   & 10.961250  & 37.21292   & 16.23917   & 79.75125   & FAIR      \\\\\n",
       "\t 28079001   & 2001-01-04 & 1.134167   & 75.39250   & 12.002917  & 35.03667   & 16.75125   & 75.39250   & FAIR      \\\\\n",
       "\t 28079001   & 2001-01-05 & 1.535833   & 77.14083   &  8.755833  & 34.27625   & 16.00958   & 77.14083   & FAIR      \\\\\n",
       "\t 28079001   & 2001-01-06 & 1.009167   & 64.47708   & 13.955417  & 17.03792   & 15.35417   & 64.47708   & GOOD      \\\\\n",
       "\t 28079001   & 2001-01-07 & 1.016250   & 67.06125   & 12.776250  & 20.45500   & 18.43042   & 67.06125   & FAIR      \\\\\n",
       "\\end{tabular}\n"
      ],
      "text/markdown": [
       "\n",
       "station | date | CO | NO_2 | O_3 | PM10 | SO_2 | worseAirIndex | AirIndexQuality | \n",
       "|---|---|---|---|---|---|\n",
       "| 28079001   | 2001-01-02 | 1.243333   | 84.53750   | 12.576667  | 36.92455   | 20.28083   | 84.53750   | FAIR       | \n",
       "| 28079001   | 2001-01-03 | 1.242917   | 79.75125   | 10.961250  | 37.21292   | 16.23917   | 79.75125   | FAIR       | \n",
       "| 28079001   | 2001-01-04 | 1.134167   | 75.39250   | 12.002917  | 35.03667   | 16.75125   | 75.39250   | FAIR       | \n",
       "| 28079001   | 2001-01-05 | 1.535833   | 77.14083   |  8.755833  | 34.27625   | 16.00958   | 77.14083   | FAIR       | \n",
       "| 28079001   | 2001-01-06 | 1.009167   | 64.47708   | 13.955417  | 17.03792   | 15.35417   | 64.47708   | GOOD       | \n",
       "| 28079001   | 2001-01-07 | 1.016250   | 67.06125   | 12.776250  | 20.45500   | 18.43042   | 67.06125   | FAIR       | \n",
       "\n",
       "\n"
      ],
      "text/plain": [
       "  station  date       CO       NO_2     O_3       PM10     SO_2    \n",
       "1 28079001 2001-01-02 1.243333 84.53750 12.576667 36.92455 20.28083\n",
       "2 28079001 2001-01-03 1.242917 79.75125 10.961250 37.21292 16.23917\n",
       "3 28079001 2001-01-04 1.134167 75.39250 12.002917 35.03667 16.75125\n",
       "4 28079001 2001-01-05 1.535833 77.14083  8.755833 34.27625 16.00958\n",
       "5 28079001 2001-01-06 1.009167 64.47708 13.955417 17.03792 15.35417\n",
       "6 28079001 2001-01-07 1.016250 67.06125 12.776250 20.45500 18.43042\n",
       "  worseAirIndex AirIndexQuality\n",
       "1 84.53750      FAIR           \n",
       "2 79.75125      FAIR           \n",
       "3 75.39250      FAIR           \n",
       "4 77.14083      FAIR           \n",
       "5 64.47708      GOOD           \n",
       "6 67.06125      FAIR           "
      ]
     },
     "metadata": {},
     "output_type": "display_data"
    }
   ],
   "source": [
    "madrid <- madrid %>%\n",
    "        mutate(AirIndexQuality = case_when (\n",
    "        \n",
    "        AirIndexQuality>=0 & AirIndexQuality <=33       ~\"VERY GOOD\",\n",
    "        AirIndexQuality >=34 & AirIndexQuality <=66     ~\"GOOD\",\n",
    "        AirIndexQuality >=37 & AirIndexQuality <=99     ~\"FAIR\",\n",
    "        AirIndexQuality >=100 & AirIndexQuality <=149   ~\"POOR\",\n",
    "        AirIndexQuality >=150                           ~\"VERY POOR\",\n",
    "        TRUE                                            ~\"NA\",\n",
    "        ))\n",
    "\n",
    "    \n",
    "head(madrid)"
   ]
  },
  {
   "cell_type": "code",
   "execution_count": 667,
   "metadata": {},
   "outputs": [
    {
     "data": {
      "text/html": [
       "<table>\n",
       "<thead><tr><th scope=col>station</th><th scope=col>date</th><th scope=col>CO</th><th scope=col>NO_2</th><th scope=col>O_3</th><th scope=col>PM10</th><th scope=col>SO_2</th><th scope=col>worseAirIndex</th><th scope=col>AirIndexQuality</th><th scope=col>AIQNextDay</th></tr></thead>\n",
       "<tbody>\n",
       "\t<tr><td>28079001  </td><td>2001-01-02</td><td>1.243333  </td><td>84.53750  </td><td>12.576667 </td><td>36.92455  </td><td>20.28083  </td><td>84.53750  </td><td>FAIR      </td><td>NA        </td></tr>\n",
       "\t<tr><td>28079001  </td><td>2001-01-03</td><td>1.242917  </td><td>79.75125  </td><td>10.961250 </td><td>37.21292  </td><td>16.23917  </td><td>79.75125  </td><td>FAIR      </td><td>NA        </td></tr>\n",
       "\t<tr><td>28079001  </td><td>2001-01-04</td><td>1.134167  </td><td>75.39250  </td><td>12.002917 </td><td>35.03667  </td><td>16.75125  </td><td>75.39250  </td><td>FAIR      </td><td>NA        </td></tr>\n",
       "\t<tr><td>28079001  </td><td>2001-01-05</td><td>1.535833  </td><td>77.14083  </td><td> 8.755833 </td><td>34.27625  </td><td>16.00958  </td><td>77.14083  </td><td>FAIR      </td><td>NA        </td></tr>\n",
       "\t<tr><td>28079001  </td><td>2001-01-06</td><td>1.009167  </td><td>64.47708  </td><td>13.955417 </td><td>17.03792  </td><td>15.35417  </td><td>64.47708  </td><td>GOOD      </td><td>NA        </td></tr>\n",
       "\t<tr><td>28079001  </td><td>2001-01-07</td><td>1.016250  </td><td>67.06125  </td><td>12.776250 </td><td>20.45500  </td><td>18.43042  </td><td>67.06125  </td><td>FAIR      </td><td>NA        </td></tr>\n",
       "</tbody>\n",
       "</table>\n"
      ],
      "text/latex": [
       "\\begin{tabular}{r|llllllllll}\n",
       " station & date & CO & NO\\_2 & O\\_3 & PM10 & SO\\_2 & worseAirIndex & AirIndexQuality & AIQNextDay\\\\\n",
       "\\hline\n",
       "\t 28079001   & 2001-01-02 & 1.243333   & 84.53750   & 12.576667  & 36.92455   & 20.28083   & 84.53750   & FAIR       & NA        \\\\\n",
       "\t 28079001   & 2001-01-03 & 1.242917   & 79.75125   & 10.961250  & 37.21292   & 16.23917   & 79.75125   & FAIR       & NA        \\\\\n",
       "\t 28079001   & 2001-01-04 & 1.134167   & 75.39250   & 12.002917  & 35.03667   & 16.75125   & 75.39250   & FAIR       & NA        \\\\\n",
       "\t 28079001   & 2001-01-05 & 1.535833   & 77.14083   &  8.755833  & 34.27625   & 16.00958   & 77.14083   & FAIR       & NA        \\\\\n",
       "\t 28079001   & 2001-01-06 & 1.009167   & 64.47708   & 13.955417  & 17.03792   & 15.35417   & 64.47708   & GOOD       & NA        \\\\\n",
       "\t 28079001   & 2001-01-07 & 1.016250   & 67.06125   & 12.776250  & 20.45500   & 18.43042   & 67.06125   & FAIR       & NA        \\\\\n",
       "\\end{tabular}\n"
      ],
      "text/markdown": [
       "\n",
       "station | date | CO | NO_2 | O_3 | PM10 | SO_2 | worseAirIndex | AirIndexQuality | AIQNextDay | \n",
       "|---|---|---|---|---|---|\n",
       "| 28079001   | 2001-01-02 | 1.243333   | 84.53750   | 12.576667  | 36.92455   | 20.28083   | 84.53750   | FAIR       | NA         | \n",
       "| 28079001   | 2001-01-03 | 1.242917   | 79.75125   | 10.961250  | 37.21292   | 16.23917   | 79.75125   | FAIR       | NA         | \n",
       "| 28079001   | 2001-01-04 | 1.134167   | 75.39250   | 12.002917  | 35.03667   | 16.75125   | 75.39250   | FAIR       | NA         | \n",
       "| 28079001   | 2001-01-05 | 1.535833   | 77.14083   |  8.755833  | 34.27625   | 16.00958   | 77.14083   | FAIR       | NA         | \n",
       "| 28079001   | 2001-01-06 | 1.009167   | 64.47708   | 13.955417  | 17.03792   | 15.35417   | 64.47708   | GOOD       | NA         | \n",
       "| 28079001   | 2001-01-07 | 1.016250   | 67.06125   | 12.776250  | 20.45500   | 18.43042   | 67.06125   | FAIR       | NA         | \n",
       "\n",
       "\n"
      ],
      "text/plain": [
       "  station  date       CO       NO_2     O_3       PM10     SO_2    \n",
       "1 28079001 2001-01-02 1.243333 84.53750 12.576667 36.92455 20.28083\n",
       "2 28079001 2001-01-03 1.242917 79.75125 10.961250 37.21292 16.23917\n",
       "3 28079001 2001-01-04 1.134167 75.39250 12.002917 35.03667 16.75125\n",
       "4 28079001 2001-01-05 1.535833 77.14083  8.755833 34.27625 16.00958\n",
       "5 28079001 2001-01-06 1.009167 64.47708 13.955417 17.03792 15.35417\n",
       "6 28079001 2001-01-07 1.016250 67.06125 12.776250 20.45500 18.43042\n",
       "  worseAirIndex AirIndexQuality AIQNextDay\n",
       "1 84.53750      FAIR            NA        \n",
       "2 79.75125      FAIR            NA        \n",
       "3 75.39250      FAIR            NA        \n",
       "4 77.14083      FAIR            NA        \n",
       "5 64.47708      GOOD            NA        \n",
       "6 67.06125      FAIR            NA        "
      ]
     },
     "metadata": {},
     "output_type": "display_data"
    }
   ],
   "source": [
    "madrid[,\"AIQNextDay\"] <- NA\n",
    "head(madrid)"
   ]
  },
  {
   "cell_type": "code",
   "execution_count": 668,
   "metadata": {},
   "outputs": [
    {
     "data": {
      "text/html": [
       "<table>\n",
       "<thead><tr><th scope=col>station</th><th scope=col>date</th><th scope=col>CO</th><th scope=col>NO_2</th><th scope=col>O_3</th><th scope=col>PM10</th><th scope=col>SO_2</th><th scope=col>worseAirIndex</th><th scope=col>AirIndexQuality</th><th scope=col>AIQNextDay</th></tr></thead>\n",
       "<tbody>\n",
       "\t<tr><td>28079001  </td><td>2001-01-02</td><td>1.243333  </td><td>84.53750  </td><td>12.576667 </td><td>36.92455  </td><td>20.28083  </td><td>84.53750  </td><td>FAIR      </td><td>FAIR      </td></tr>\n",
       "\t<tr><td>28079001  </td><td>2001-01-03</td><td>1.242917  </td><td>79.75125  </td><td>10.961250 </td><td>37.21292  </td><td>16.23917  </td><td>79.75125  </td><td>FAIR      </td><td>FAIR      </td></tr>\n",
       "\t<tr><td>28079001  </td><td>2001-01-04</td><td>1.134167  </td><td>75.39250  </td><td>12.002917 </td><td>35.03667  </td><td>16.75125  </td><td>75.39250  </td><td>FAIR      </td><td>FAIR      </td></tr>\n",
       "\t<tr><td>28079001  </td><td>2001-01-05</td><td>1.535833  </td><td>77.14083  </td><td> 8.755833 </td><td>34.27625  </td><td>16.00958  </td><td>77.14083  </td><td>FAIR      </td><td>GOOD      </td></tr>\n",
       "\t<tr><td>28079001  </td><td>2001-01-06</td><td>1.009167  </td><td>64.47708  </td><td>13.955417 </td><td>17.03792  </td><td>15.35417  </td><td>64.47708  </td><td>GOOD      </td><td>FAIR      </td></tr>\n",
       "\t<tr><td>28079001  </td><td>2001-01-07</td><td>1.016250  </td><td>67.06125  </td><td>12.776250 </td><td>20.45500  </td><td>18.43042  </td><td>67.06125  </td><td>FAIR      </td><td>FAIR      </td></tr>\n",
       "</tbody>\n",
       "</table>\n"
      ],
      "text/latex": [
       "\\begin{tabular}{r|llllllllll}\n",
       " station & date & CO & NO\\_2 & O\\_3 & PM10 & SO\\_2 & worseAirIndex & AirIndexQuality & AIQNextDay\\\\\n",
       "\\hline\n",
       "\t 28079001   & 2001-01-02 & 1.243333   & 84.53750   & 12.576667  & 36.92455   & 20.28083   & 84.53750   & FAIR       & FAIR      \\\\\n",
       "\t 28079001   & 2001-01-03 & 1.242917   & 79.75125   & 10.961250  & 37.21292   & 16.23917   & 79.75125   & FAIR       & FAIR      \\\\\n",
       "\t 28079001   & 2001-01-04 & 1.134167   & 75.39250   & 12.002917  & 35.03667   & 16.75125   & 75.39250   & FAIR       & FAIR      \\\\\n",
       "\t 28079001   & 2001-01-05 & 1.535833   & 77.14083   &  8.755833  & 34.27625   & 16.00958   & 77.14083   & FAIR       & GOOD      \\\\\n",
       "\t 28079001   & 2001-01-06 & 1.009167   & 64.47708   & 13.955417  & 17.03792   & 15.35417   & 64.47708   & GOOD       & FAIR      \\\\\n",
       "\t 28079001   & 2001-01-07 & 1.016250   & 67.06125   & 12.776250  & 20.45500   & 18.43042   & 67.06125   & FAIR       & FAIR      \\\\\n",
       "\\end{tabular}\n"
      ],
      "text/markdown": [
       "\n",
       "station | date | CO | NO_2 | O_3 | PM10 | SO_2 | worseAirIndex | AirIndexQuality | AIQNextDay | \n",
       "|---|---|---|---|---|---|\n",
       "| 28079001   | 2001-01-02 | 1.243333   | 84.53750   | 12.576667  | 36.92455   | 20.28083   | 84.53750   | FAIR       | FAIR       | \n",
       "| 28079001   | 2001-01-03 | 1.242917   | 79.75125   | 10.961250  | 37.21292   | 16.23917   | 79.75125   | FAIR       | FAIR       | \n",
       "| 28079001   | 2001-01-04 | 1.134167   | 75.39250   | 12.002917  | 35.03667   | 16.75125   | 75.39250   | FAIR       | FAIR       | \n",
       "| 28079001   | 2001-01-05 | 1.535833   | 77.14083   |  8.755833  | 34.27625   | 16.00958   | 77.14083   | FAIR       | GOOD       | \n",
       "| 28079001   | 2001-01-06 | 1.009167   | 64.47708   | 13.955417  | 17.03792   | 15.35417   | 64.47708   | GOOD       | FAIR       | \n",
       "| 28079001   | 2001-01-07 | 1.016250   | 67.06125   | 12.776250  | 20.45500   | 18.43042   | 67.06125   | FAIR       | FAIR       | \n",
       "\n",
       "\n"
      ],
      "text/plain": [
       "  station  date       CO       NO_2     O_3       PM10     SO_2    \n",
       "1 28079001 2001-01-02 1.243333 84.53750 12.576667 36.92455 20.28083\n",
       "2 28079001 2001-01-03 1.242917 79.75125 10.961250 37.21292 16.23917\n",
       "3 28079001 2001-01-04 1.134167 75.39250 12.002917 35.03667 16.75125\n",
       "4 28079001 2001-01-05 1.535833 77.14083  8.755833 34.27625 16.00958\n",
       "5 28079001 2001-01-06 1.009167 64.47708 13.955417 17.03792 15.35417\n",
       "6 28079001 2001-01-07 1.016250 67.06125 12.776250 20.45500 18.43042\n",
       "  worseAirIndex AirIndexQuality AIQNextDay\n",
       "1 84.53750      FAIR            FAIR      \n",
       "2 79.75125      FAIR            FAIR      \n",
       "3 75.39250      FAIR            FAIR      \n",
       "4 77.14083      FAIR            GOOD      \n",
       "5 64.47708      GOOD            FAIR      \n",
       "6 67.06125      FAIR            FAIR      "
      ]
     },
     "metadata": {},
     "output_type": "display_data"
    }
   ],
   "source": [
    "#Falta alñadir la restricionde que cuando ponemos la del dia suigiente, al tener varias estaciones cuando una estacion no coincide con la anterior ignorarlo\n",
    "for(i in 2:nrow(madrid)-1) {\n",
    "  #if(madrid[i-1,\"station\"] == madrid[i,\"station\"]){\n",
    "      madrid[i,\"AIQNextDay\"] = madrid[i+1,\"AirIndexQuality\"]\n",
    "  #}\n",
    "}\n",
    "head(madrid)"
   ]
  },
  {
   "cell_type": "markdown",
   "metadata": {},
   "source": [
    "#### Discretizamos el volumen de precipitaciones"
   ]
  },
  {
   "cell_type": "markdown",
   "metadata": {},
   "source": [
    "Para ello nos guiraremos de la siguiente tabla, de cada fila se escogerá la cantidad y se comparara con la tabla adjunta:"
   ]
  },
  {
   "attachments": {
    "Captura.PNG": {
     "image/png": "[encoded data removed]"
    }
   },
   "cell_type": "markdown",
   "metadata": {},
   "source": [
    "![Captura.PNG](attachment:Captura.PNG)"
   ]
  },
  {
   "cell_type": "code",
   "execution_count": 669,
   "metadata": {},
   "outputs": [
    {
     "data": {
      "text/html": [
       "<table>\n",
       "<thead><tr><th scope=col>date</th><th scope=col>quantity</th><th scope=col>rainfallVolume</th></tr></thead>\n",
       "<tbody>\n",
       "\t<tr><td>2001-01-01</td><td> 4.3      </td><td> 4.3      </td></tr>\n",
       "\t<tr><td>2001-01-02</td><td> 0.1      </td><td> 0.1      </td></tr>\n",
       "\t<tr><td>2001-01-03</td><td> 2.2      </td><td> 2.2      </td></tr>\n",
       "\t<tr><td>2001-01-04</td><td> 2.4      </td><td> 2.4      </td></tr>\n",
       "\t<tr><td>2001-01-05</td><td>13.3      </td><td>13.3      </td></tr>\n",
       "\t<tr><td>2001-01-06</td><td> 0.0      </td><td> 0.0      </td></tr>\n",
       "</tbody>\n",
       "</table>\n"
      ],
      "text/latex": [
       "\\begin{tabular}{r|lll}\n",
       " date & quantity & rainfallVolume\\\\\n",
       "\\hline\n",
       "\t 2001-01-01 &  4.3       &  4.3      \\\\\n",
       "\t 2001-01-02 &  0.1       &  0.1      \\\\\n",
       "\t 2001-01-03 &  2.2       &  2.2      \\\\\n",
       "\t 2001-01-04 &  2.4       &  2.4      \\\\\n",
       "\t 2001-01-05 & 13.3       & 13.3      \\\\\n",
       "\t 2001-01-06 &  0.0       &  0.0      \\\\\n",
       "\\end{tabular}\n"
      ],
      "text/markdown": [
       "\n",
       "date | quantity | rainfallVolume | \n",
       "|---|---|---|---|---|---|\n",
       "| 2001-01-01 |  4.3       |  4.3       | \n",
       "| 2001-01-02 |  0.1       |  0.1       | \n",
       "| 2001-01-03 |  2.2       |  2.2       | \n",
       "| 2001-01-04 |  2.4       |  2.4       | \n",
       "| 2001-01-05 | 13.3       | 13.3       | \n",
       "| 2001-01-06 |  0.0       |  0.0       | \n",
       "\n",
       "\n"
      ],
      "text/plain": [
       "  date       quantity rainfallVolume\n",
       "1 2001-01-01  4.3      4.3          \n",
       "2 2001-01-02  0.1      0.1          \n",
       "3 2001-01-03  2.2      2.2          \n",
       "4 2001-01-04  2.4      2.4          \n",
       "5 2001-01-05 13.3     13.3          \n",
       "6 2001-01-06  0.0      0.0          "
      ]
     },
     "metadata": {},
     "output_type": "display_data"
    }
   ],
   "source": [
    "rainfall[,\"rainfallVolume\"] <- rainfall$quantity\n",
    "head(rainfall)"
   ]
  },
  {
   "cell_type": "code",
   "execution_count": 670,
   "metadata": {},
   "outputs": [
    {
     "data": {
      "text/html": [
       "<table>\n",
       "<thead><tr><th scope=col>date</th><th scope=col>quantity</th><th scope=col>rainfallVolume</th></tr></thead>\n",
       "<tbody>\n",
       "\t<tr><td>2001-01-01</td><td> 4.3      </td><td>MODERATE  </td></tr>\n",
       "\t<tr><td>2001-01-02</td><td> 0.1      </td><td>WEAK      </td></tr>\n",
       "\t<tr><td>2001-01-03</td><td> 2.2      </td><td>MODERATE  </td></tr>\n",
       "\t<tr><td>2001-01-04</td><td> 2.4      </td><td>MODERATE  </td></tr>\n",
       "\t<tr><td>2001-01-05</td><td>13.3      </td><td>MODERATE  </td></tr>\n",
       "\t<tr><td>2001-01-06</td><td> 0.0      </td><td>WEAK      </td></tr>\n",
       "</tbody>\n",
       "</table>\n"
      ],
      "text/latex": [
       "\\begin{tabular}{r|lll}\n",
       " date & quantity & rainfallVolume\\\\\n",
       "\\hline\n",
       "\t 2001-01-01 &  4.3       & MODERATE  \\\\\n",
       "\t 2001-01-02 &  0.1       & WEAK      \\\\\n",
       "\t 2001-01-03 &  2.2       & MODERATE  \\\\\n",
       "\t 2001-01-04 &  2.4       & MODERATE  \\\\\n",
       "\t 2001-01-05 & 13.3       & MODERATE  \\\\\n",
       "\t 2001-01-06 &  0.0       & WEAK      \\\\\n",
       "\\end{tabular}\n"
      ],
      "text/markdown": [
       "\n",
       "date | quantity | rainfallVolume | \n",
       "|---|---|---|---|---|---|\n",
       "| 2001-01-01 |  4.3       | MODERATE   | \n",
       "| 2001-01-02 |  0.1       | WEAK       | \n",
       "| 2001-01-03 |  2.2       | MODERATE   | \n",
       "| 2001-01-04 |  2.4       | MODERATE   | \n",
       "| 2001-01-05 | 13.3       | MODERATE   | \n",
       "| 2001-01-06 |  0.0       | WEAK       | \n",
       "\n",
       "\n"
      ],
      "text/plain": [
       "  date       quantity rainfallVolume\n",
       "1 2001-01-01  4.3     MODERATE      \n",
       "2 2001-01-02  0.1     WEAK          \n",
       "3 2001-01-03  2.2     MODERATE      \n",
       "4 2001-01-04  2.4     MODERATE      \n",
       "5 2001-01-05 13.3     MODERATE      \n",
       "6 2001-01-06  0.0     WEAK          "
      ]
     },
     "metadata": {},
     "output_type": "display_data"
    },
    {
     "data": {
      "text/html": [
       "<table>\n",
       "<thead><tr><th></th><th scope=col>date</th><th scope=col>quantity</th><th scope=col>rainfallVolume</th></tr></thead>\n",
       "<tbody>\n",
       "\t<tr><th scope=row>5933</th><td>2018-12-26</td><td>0         </td><td>WEAK      </td></tr>\n",
       "\t<tr><th scope=row>5934</th><td>2018-12-27</td><td>0         </td><td>WEAK      </td></tr>\n",
       "\t<tr><th scope=row>5935</th><td>2018-12-28</td><td>0         </td><td>WEAK      </td></tr>\n",
       "\t<tr><th scope=row>5936</th><td>2018-12-29</td><td>0         </td><td>WEAK      </td></tr>\n",
       "\t<tr><th scope=row>5937</th><td>2018-12-30</td><td>0         </td><td>WEAK      </td></tr>\n",
       "\t<tr><th scope=row>5938</th><td>2018-12-31</td><td>0         </td><td>WEAK      </td></tr>\n",
       "</tbody>\n",
       "</table>\n"
      ],
      "text/latex": [
       "\\begin{tabular}{r|lll}\n",
       "  & date & quantity & rainfallVolume\\\\\n",
       "\\hline\n",
       "\t5933 & 2018-12-26 & 0          & WEAK      \\\\\n",
       "\t5934 & 2018-12-27 & 0          & WEAK      \\\\\n",
       "\t5935 & 2018-12-28 & 0          & WEAK      \\\\\n",
       "\t5936 & 2018-12-29 & 0          & WEAK      \\\\\n",
       "\t5937 & 2018-12-30 & 0          & WEAK      \\\\\n",
       "\t5938 & 2018-12-31 & 0          & WEAK      \\\\\n",
       "\\end{tabular}\n"
      ],
      "text/markdown": [
       "\n",
       "| <!--/--> | date | quantity | rainfallVolume | \n",
       "|---|---|---|---|---|---|\n",
       "| 5933 | 2018-12-26 | 0          | WEAK       | \n",
       "| 5934 | 2018-12-27 | 0          | WEAK       | \n",
       "| 5935 | 2018-12-28 | 0          | WEAK       | \n",
       "| 5936 | 2018-12-29 | 0          | WEAK       | \n",
       "| 5937 | 2018-12-30 | 0          | WEAK       | \n",
       "| 5938 | 2018-12-31 | 0          | WEAK       | \n",
       "\n",
       "\n"
      ],
      "text/plain": [
       "     date       quantity rainfallVolume\n",
       "5933 2018-12-26 0        WEAK          \n",
       "5934 2018-12-27 0        WEAK          \n",
       "5935 2018-12-28 0        WEAK          \n",
       "5936 2018-12-29 0        WEAK          \n",
       "5937 2018-12-30 0        WEAK          \n",
       "5938 2018-12-31 0        WEAK          "
      ]
     },
     "metadata": {},
     "output_type": "display_data"
    }
   ],
   "source": [
    "rainfall <- rainfall %>%\n",
    "        mutate(rainfallVolume = case_when (\n",
    "             \n",
    "        rainfall$rainfallVolume <= 2                                      ~ \"WEAK\",\n",
    "        rainfall$rainfallVolume > 2 & rainfall$rainfallVolume <= 15       ~ \"MODERATE\",\n",
    "        rainfall$rainfallVolume > 15 & rainfall$rainfallVolume <= 30      ~ \"STRONG\",\n",
    "        rainfall$rainfallVolume > 30 & rainfall$rainfallVolume <=60       ~ \"VERY STRONG\",\n",
    "        rainfall$rainfallVolume > 60                                      ~ \"TORRENTIAL RAIN\",\n",
    "        TRUE                                                              ~\"NA\",\n",
    "        ))\n",
    "head(rainfall)\n",
    "tail(rainfall)"
   ]
  },
  {
   "cell_type": "markdown",
   "metadata": {},
   "source": [
    "#### Discretizamos la fuerza del viento"
   ]
  },
  {
   "cell_type": "markdown",
   "metadata": {},
   "source": [
    "Para ello nos guiraremos de la siguiente tabla, de cada fila se escogerá el viento y se comparara con la tabla adjunta:"
   ]
  },
  {
   "attachments": {
    "viento.PNG": {
     "image/png": "[encoded data removed]"
    }
   },
   "cell_type": "markdown",
   "metadata": {},
   "source": [
    "![viento.PNG](attachment:viento.PNG)"
   ]
  },
  {
   "cell_type": "markdown",
   "metadata": {},
   "source": [
    "A continuación discretizamos la columna anterior, creando una nueva columna con los siguientes valores:\n",
    "\n",
    "    LIGTH WIND (LW) \n",
    "    ADVISORY FORCE (AF)\n",
    "    GALE FORCE (GF)\n",
    "    STORM FORCE (SF)\n",
    "    HURRICANE FORCE (HF)"
   ]
  },
  {
   "cell_type": "code",
   "execution_count": 671,
   "metadata": {},
   "outputs": [
    {
     "data": {
      "text/html": [
       "<table>\n",
       "<thead><tr><th scope=col>date</th><th scope=col>Speed</th><th scope=col>WindIndexQuality</th></tr></thead>\n",
       "<tbody>\n",
       "\t<tr><td>2001-01-01</td><td>1.1       </td><td>LIGHT WIND</td></tr>\n",
       "\t<tr><td>2001-01-02</td><td>3.6       </td><td>LIGHT WIND</td></tr>\n",
       "\t<tr><td>2001-01-03</td><td>1.7       </td><td>LIGHT WIND</td></tr>\n",
       "\t<tr><td>2001-01-04</td><td>3.3       </td><td>LIGHT WIND</td></tr>\n",
       "\t<tr><td>2001-01-05</td><td>1.1       </td><td>LIGHT WIND</td></tr>\n",
       "\t<tr><td>2001-01-06</td><td>2.5       </td><td>LIGHT WIND</td></tr>\n",
       "</tbody>\n",
       "</table>\n"
      ],
      "text/latex": [
       "\\begin{tabular}{r|lll}\n",
       " date & Speed & WindIndexQuality\\\\\n",
       "\\hline\n",
       "\t 2001-01-01 & 1.1        & LIGHT WIND\\\\\n",
       "\t 2001-01-02 & 3.6        & LIGHT WIND\\\\\n",
       "\t 2001-01-03 & 1.7        & LIGHT WIND\\\\\n",
       "\t 2001-01-04 & 3.3        & LIGHT WIND\\\\\n",
       "\t 2001-01-05 & 1.1        & LIGHT WIND\\\\\n",
       "\t 2001-01-06 & 2.5        & LIGHT WIND\\\\\n",
       "\\end{tabular}\n"
      ],
      "text/markdown": [
       "\n",
       "date | Speed | WindIndexQuality | \n",
       "|---|---|---|---|---|---|\n",
       "| 2001-01-01 | 1.1        | LIGHT WIND | \n",
       "| 2001-01-02 | 3.6        | LIGHT WIND | \n",
       "| 2001-01-03 | 1.7        | LIGHT WIND | \n",
       "| 2001-01-04 | 3.3        | LIGHT WIND | \n",
       "| 2001-01-05 | 1.1        | LIGHT WIND | \n",
       "| 2001-01-06 | 2.5        | LIGHT WIND | \n",
       "\n",
       "\n"
      ],
      "text/plain": [
       "  date       Speed WindIndexQuality\n",
       "1 2001-01-01 1.1   LIGHT WIND      \n",
       "2 2001-01-02 3.6   LIGHT WIND      \n",
       "3 2001-01-03 1.7   LIGHT WIND      \n",
       "4 2001-01-04 3.3   LIGHT WIND      \n",
       "5 2001-01-05 1.1   LIGHT WIND      \n",
       "6 2001-01-06 2.5   LIGHT WIND      "
      ]
     },
     "metadata": {},
     "output_type": "display_data"
    },
    {
     "data": {
      "text/html": [
       "<table>\n",
       "<thead><tr><th></th><th scope=col>date</th><th scope=col>Speed</th><th scope=col>WindIndexQuality</th></tr></thead>\n",
       "<tbody>\n",
       "\t<tr><th scope=row>5854</th><td>2018-12-26</td><td>0.6       </td><td>LIGHT WIND</td></tr>\n",
       "\t<tr><th scope=row>5855</th><td>2018-12-27</td><td>0.6       </td><td>LIGHT WIND</td></tr>\n",
       "\t<tr><th scope=row>5856</th><td>2018-12-28</td><td>1.4       </td><td>LIGHT WIND</td></tr>\n",
       "\t<tr><th scope=row>5857</th><td>2018-12-29</td><td>1.7       </td><td>LIGHT WIND</td></tr>\n",
       "\t<tr><th scope=row>5858</th><td>2018-12-30</td><td>1.1       </td><td>LIGHT WIND</td></tr>\n",
       "\t<tr><th scope=row>5859</th><td>2018-12-31</td><td>0.3       </td><td>LIGHT WIND</td></tr>\n",
       "</tbody>\n",
       "</table>\n"
      ],
      "text/latex": [
       "\\begin{tabular}{r|lll}\n",
       "  & date & Speed & WindIndexQuality\\\\\n",
       "\\hline\n",
       "\t5854 & 2018-12-26 & 0.6        & LIGHT WIND\\\\\n",
       "\t5855 & 2018-12-27 & 0.6        & LIGHT WIND\\\\\n",
       "\t5856 & 2018-12-28 & 1.4        & LIGHT WIND\\\\\n",
       "\t5857 & 2018-12-29 & 1.7        & LIGHT WIND\\\\\n",
       "\t5858 & 2018-12-30 & 1.1        & LIGHT WIND\\\\\n",
       "\t5859 & 2018-12-31 & 0.3        & LIGHT WIND\\\\\n",
       "\\end{tabular}\n"
      ],
      "text/markdown": [
       "\n",
       "| <!--/--> | date | Speed | WindIndexQuality | \n",
       "|---|---|---|---|---|---|\n",
       "| 5854 | 2018-12-26 | 0.6        | LIGHT WIND | \n",
       "| 5855 | 2018-12-27 | 0.6        | LIGHT WIND | \n",
       "| 5856 | 2018-12-28 | 1.4        | LIGHT WIND | \n",
       "| 5857 | 2018-12-29 | 1.7        | LIGHT WIND | \n",
       "| 5858 | 2018-12-30 | 1.1        | LIGHT WIND | \n",
       "| 5859 | 2018-12-31 | 0.3        | LIGHT WIND | \n",
       "\n",
       "\n"
      ],
      "text/plain": [
       "     date       Speed WindIndexQuality\n",
       "5854 2018-12-26 0.6   LIGHT WIND      \n",
       "5855 2018-12-27 0.6   LIGHT WIND      \n",
       "5856 2018-12-28 1.4   LIGHT WIND      \n",
       "5857 2018-12-29 1.7   LIGHT WIND      \n",
       "5858 2018-12-30 1.1   LIGHT WIND      \n",
       "5859 2018-12-31 0.3   LIGHT WIND      "
      ]
     },
     "metadata": {},
     "output_type": "display_data"
    }
   ],
   "source": [
    "wind[,\"WindIndexQuality\"] <- wind$Speed\n",
    "wind <- wind %>%\n",
    "        mutate(WindIndexQuality = case_when (\n",
    "        \n",
    "        WindIndexQuality >=0.0 & WindIndexQuality  <=10.7       ~\"LIGHT WIND\",\n",
    "        WindIndexQuality >=10.8 & WindIndexQuality <=17.1       ~\"ADVISORY FORCE\",\n",
    "        WindIndexQuality >=17.2 & WindIndexQuality <=24.4       ~\"GALE FORCE\",\n",
    "        WindIndexQuality >=24.5 & WindIndexQuality <=32.6       ~\"STORM FORCE\",\n",
    "        WindIndexQuality >=32.7                                 ~\"HURRICANE FORCE\",\n",
    "        TRUE                                                    ~\"NA\",\n",
    "        ))\n",
    "head(wind)\n",
    "tail(wind)"
   ]
  },
  {
   "cell_type": "markdown",
   "metadata": {},
   "source": [
    "#### Cruzamos los datos"
   ]
  },
  {
   "cell_type": "markdown",
   "metadata": {},
   "source": [
    "Finalmente como último paso previo a la aplicación del modelo se uniraron todos lod datos en un único dataframe"
   ]
  },
  {
   "cell_type": "code",
   "execution_count": 672,
   "metadata": {},
   "outputs": [
    {
     "data": {
      "text/html": [
       "<table>\n",
       "<thead><tr><th scope=col>date</th><th scope=col>station</th><th scope=col>CO</th><th scope=col>NO_2</th><th scope=col>O_3</th><th scope=col>PM10</th><th scope=col>SO_2</th><th scope=col>worseAirIndex</th><th scope=col>AirIndexQuality</th><th scope=col>AIQNextDay</th><th scope=col>quantity</th><th scope=col>rainfallVolume</th></tr></thead>\n",
       "<tbody>\n",
       "\t<tr><td>2001-01-01</td><td>28079004  </td><td>0.8095652 </td><td>57.81739  </td><td>18.35783  </td><td>17.19826  </td><td>16.983044 </td><td>57.81739  </td><td>GOOD      </td><td>GOOD      </td><td>4.3       </td><td>MODERATE  </td></tr>\n",
       "\t<tr><td>2001-01-01</td><td>28079014  </td><td>1.2600000 </td><td>44.12000  </td><td>31.82913  </td><td>18.61261  </td><td> 8.009565 </td><td>44.12000  </td><td>GOOD      </td><td>GOOD      </td><td>4.3       </td><td>MODERATE  </td></tr>\n",
       "\t<tr><td>2001-01-01</td><td>28079017  </td><td>1.0052174 </td><td>46.15174  </td><td>22.47435  </td><td>17.39130  </td><td>12.387826 </td><td>46.15174  </td><td>GOOD      </td><td>GOOD      </td><td>4.3       </td><td>MODERATE  </td></tr>\n",
       "\t<tr><td>2001-01-01</td><td>28079012  </td><td>1.5647826 </td><td>49.00783  </td><td>10.75478  </td><td>23.59696  </td><td>35.703043 </td><td>49.00783  </td><td>GOOD      </td><td>GOOD      </td><td>4.3       </td><td>MODERATE  </td></tr>\n",
       "\t<tr><td>2001-01-01</td><td>28079003  </td><td>0.6500000 </td><td>44.35609  </td><td>24.89174  </td><td>20.22304  </td><td>22.549130 </td><td>44.35609  </td><td>GOOD      </td><td>GOOD      </td><td>4.3       </td><td>MODERATE  </td></tr>\n",
       "\t<tr><td>2001-01-01</td><td>28079024  </td><td>0.7260870 </td><td>31.98130  </td><td>23.72609  </td><td>15.10261  </td><td>10.258261 </td><td>31.98130  </td><td>VERY GOOD </td><td>GOOD      </td><td>4.3       </td><td>MODERATE  </td></tr>\n",
       "</tbody>\n",
       "</table>\n"
      ],
      "text/latex": [
       "\\begin{tabular}{r|llllllllllll}\n",
       " date & station & CO & NO\\_2 & O\\_3 & PM10 & SO\\_2 & worseAirIndex & AirIndexQuality & AIQNextDay & quantity & rainfallVolume\\\\\n",
       "\\hline\n",
       "\t 2001-01-01 & 28079004   & 0.8095652  & 57.81739   & 18.35783   & 17.19826   & 16.983044  & 57.81739   & GOOD       & GOOD       & 4.3        & MODERATE  \\\\\n",
       "\t 2001-01-01 & 28079014   & 1.2600000  & 44.12000   & 31.82913   & 18.61261   &  8.009565  & 44.12000   & GOOD       & GOOD       & 4.3        & MODERATE  \\\\\n",
       "\t 2001-01-01 & 28079017   & 1.0052174  & 46.15174   & 22.47435   & 17.39130   & 12.387826  & 46.15174   & GOOD       & GOOD       & 4.3        & MODERATE  \\\\\n",
       "\t 2001-01-01 & 28079012   & 1.5647826  & 49.00783   & 10.75478   & 23.59696   & 35.703043  & 49.00783   & GOOD       & GOOD       & 4.3        & MODERATE  \\\\\n",
       "\t 2001-01-01 & 28079003   & 0.6500000  & 44.35609   & 24.89174   & 20.22304   & 22.549130  & 44.35609   & GOOD       & GOOD       & 4.3        & MODERATE  \\\\\n",
       "\t 2001-01-01 & 28079024   & 0.7260870  & 31.98130   & 23.72609   & 15.10261   & 10.258261  & 31.98130   & VERY GOOD  & GOOD       & 4.3        & MODERATE  \\\\\n",
       "\\end{tabular}\n"
      ],
      "text/markdown": [
       "\n",
       "date | station | CO | NO_2 | O_3 | PM10 | SO_2 | worseAirIndex | AirIndexQuality | AIQNextDay | quantity | rainfallVolume | \n",
       "|---|---|---|---|---|---|\n",
       "| 2001-01-01 | 28079004   | 0.8095652  | 57.81739   | 18.35783   | 17.19826   | 16.983044  | 57.81739   | GOOD       | GOOD       | 4.3        | MODERATE   | \n",
       "| 2001-01-01 | 28079014   | 1.2600000  | 44.12000   | 31.82913   | 18.61261   |  8.009565  | 44.12000   | GOOD       | GOOD       | 4.3        | MODERATE   | \n",
       "| 2001-01-01 | 28079017   | 1.0052174  | 46.15174   | 22.47435   | 17.39130   | 12.387826  | 46.15174   | GOOD       | GOOD       | 4.3        | MODERATE   | \n",
       "| 2001-01-01 | 28079012   | 1.5647826  | 49.00783   | 10.75478   | 23.59696   | 35.703043  | 49.00783   | GOOD       | GOOD       | 4.3        | MODERATE   | \n",
       "| 2001-01-01 | 28079003   | 0.6500000  | 44.35609   | 24.89174   | 20.22304   | 22.549130  | 44.35609   | GOOD       | GOOD       | 4.3        | MODERATE   | \n",
       "| 2001-01-01 | 28079024   | 0.7260870  | 31.98130   | 23.72609   | 15.10261   | 10.258261  | 31.98130   | VERY GOOD  | GOOD       | 4.3        | MODERATE   | \n",
       "\n",
       "\n"
      ],
      "text/plain": [
       "  date       station  CO        NO_2     O_3      PM10     SO_2     \n",
       "1 2001-01-01 28079004 0.8095652 57.81739 18.35783 17.19826 16.983044\n",
       "2 2001-01-01 28079014 1.2600000 44.12000 31.82913 18.61261  8.009565\n",
       "3 2001-01-01 28079017 1.0052174 46.15174 22.47435 17.39130 12.387826\n",
       "4 2001-01-01 28079012 1.5647826 49.00783 10.75478 23.59696 35.703043\n",
       "5 2001-01-01 28079003 0.6500000 44.35609 24.89174 20.22304 22.549130\n",
       "6 2001-01-01 28079024 0.7260870 31.98130 23.72609 15.10261 10.258261\n",
       "  worseAirIndex AirIndexQuality AIQNextDay quantity rainfallVolume\n",
       "1 57.81739      GOOD            GOOD       4.3      MODERATE      \n",
       "2 44.12000      GOOD            GOOD       4.3      MODERATE      \n",
       "3 46.15174      GOOD            GOOD       4.3      MODERATE      \n",
       "4 49.00783      GOOD            GOOD       4.3      MODERATE      \n",
       "5 44.35609      GOOD            GOOD       4.3      MODERATE      \n",
       "6 31.98130      VERY GOOD       GOOD       4.3      MODERATE      "
      ]
     },
     "metadata": {},
     "output_type": "display_data"
    }
   ],
   "source": [
    "# Cruzamos los datos de las precipitaciones y la contaminacion por fecha \n",
    "data <- merge ( x = madrid, y = rainfall, by = \"date\")\n",
    "head(data)"
   ]
  },
  {
   "cell_type": "code",
   "execution_count": 673,
   "metadata": {},
   "outputs": [
    {
     "data": {
      "text/html": [
       "<table>\n",
       "<thead><tr><th></th><th scope=col>date</th><th scope=col>station</th><th scope=col>CO</th><th scope=col>NO_2</th><th scope=col>O_3</th><th scope=col>PM10</th><th scope=col>SO_2</th><th scope=col>worseAirIndex</th><th scope=col>AirIndexQuality</th><th scope=col>AIQNextDay</th><th scope=col>quantity</th><th scope=col>rainfallVolume</th><th scope=col>Speed</th><th scope=col>WindIndexQuality</th></tr></thead>\n",
       "<tbody>\n",
       "\t<tr><th scope=row>42</th><td>2001-01-02</td><td>28079001  </td><td>1.243333  </td><td>84.53750  </td><td>12.576667 </td><td>36.92455  </td><td>20.28083  </td><td>84.53750  </td><td>FAIR      </td><td>FAIR      </td><td> 0.1      </td><td>WEAK      </td><td>3.6       </td><td>LIGHT WIND</td></tr>\n",
       "\t<tr><th scope=row>57</th><td>2001-01-03</td><td>28079001  </td><td>1.242917  </td><td>79.75125  </td><td>10.961250 </td><td>37.21292  </td><td>16.23917  </td><td>79.75125  </td><td>FAIR      </td><td>FAIR      </td><td> 2.2      </td><td>MODERATE  </td><td>1.7       </td><td>LIGHT WIND</td></tr>\n",
       "\t<tr><th scope=row>84</th><td>2001-01-04</td><td>28079001  </td><td>1.134167  </td><td>75.39250  </td><td>12.002917 </td><td>35.03667  </td><td>16.75125  </td><td>75.39250  </td><td>FAIR      </td><td>FAIR      </td><td> 2.4      </td><td>MODERATE  </td><td>3.3       </td><td>LIGHT WIND</td></tr>\n",
       "\t<tr><th scope=row>105</th><td>2001-01-05</td><td>28079001  </td><td>1.535833  </td><td>77.14083  </td><td> 8.755833 </td><td>34.27625  </td><td>16.00958  </td><td>77.14083  </td><td>FAIR      </td><td>GOOD      </td><td>13.3      </td><td>MODERATE  </td><td>1.1       </td><td>LIGHT WIND</td></tr>\n",
       "\t<tr><th scope=row>139</th><td>2001-01-06</td><td>28079001  </td><td>1.009167  </td><td>64.47708  </td><td>13.955417 </td><td>17.03792  </td><td>15.35417  </td><td>64.47708  </td><td>GOOD      </td><td>FAIR      </td><td> 0.0      </td><td>WEAK      </td><td>2.5       </td><td>LIGHT WIND</td></tr>\n",
       "\t<tr><th scope=row>158</th><td>2001-01-07</td><td>28079001  </td><td>1.016250  </td><td>67.06125  </td><td>12.776250 </td><td>20.45500  </td><td>18.43042  </td><td>67.06125  </td><td>FAIR      </td><td>FAIR      </td><td> 0.0      </td><td>WEAK      </td><td>2.2       </td><td>LIGHT WIND</td></tr>\n",
       "</tbody>\n",
       "</table>\n"
      ],
      "text/latex": [
       "\\begin{tabular}{r|llllllllllllll}\n",
       "  & date & station & CO & NO\\_2 & O\\_3 & PM10 & SO\\_2 & worseAirIndex & AirIndexQuality & AIQNextDay & quantity & rainfallVolume & Speed & WindIndexQuality\\\\\n",
       "\\hline\n",
       "\t42 & 2001-01-02 & 28079001   & 1.243333   & 84.53750   & 12.576667  & 36.92455   & 20.28083   & 84.53750   & FAIR       & FAIR       &  0.1       & WEAK       & 3.6        & LIGHT WIND\\\\\n",
       "\t57 & 2001-01-03 & 28079001   & 1.242917   & 79.75125   & 10.961250  & 37.21292   & 16.23917   & 79.75125   & FAIR       & FAIR       &  2.2       & MODERATE   & 1.7        & LIGHT WIND\\\\\n",
       "\t84 & 2001-01-04 & 28079001   & 1.134167   & 75.39250   & 12.002917  & 35.03667   & 16.75125   & 75.39250   & FAIR       & FAIR       &  2.4       & MODERATE   & 3.3        & LIGHT WIND\\\\\n",
       "\t105 & 2001-01-05 & 28079001   & 1.535833   & 77.14083   &  8.755833  & 34.27625   & 16.00958   & 77.14083   & FAIR       & GOOD       & 13.3       & MODERATE   & 1.1        & LIGHT WIND\\\\\n",
       "\t139 & 2001-01-06 & 28079001   & 1.009167   & 64.47708   & 13.955417  & 17.03792   & 15.35417   & 64.47708   & GOOD       & FAIR       &  0.0       & WEAK       & 2.5        & LIGHT WIND\\\\\n",
       "\t158 & 2001-01-07 & 28079001   & 1.016250   & 67.06125   & 12.776250  & 20.45500   & 18.43042   & 67.06125   & FAIR       & FAIR       &  0.0       & WEAK       & 2.2        & LIGHT WIND\\\\\n",
       "\\end{tabular}\n"
      ],
      "text/markdown": [
       "\n",
       "| <!--/--> | date | station | CO | NO_2 | O_3 | PM10 | SO_2 | worseAirIndex | AirIndexQuality | AIQNextDay | quantity | rainfallVolume | Speed | WindIndexQuality | \n",
       "|---|---|---|---|---|---|\n",
       "| 42 | 2001-01-02 | 28079001   | 1.243333   | 84.53750   | 12.576667  | 36.92455   | 20.28083   | 84.53750   | FAIR       | FAIR       |  0.1       | WEAK       | 3.6        | LIGHT WIND | \n",
       "| 57 | 2001-01-03 | 28079001   | 1.242917   | 79.75125   | 10.961250  | 37.21292   | 16.23917   | 79.75125   | FAIR       | FAIR       |  2.2       | MODERATE   | 1.7        | LIGHT WIND | \n",
       "| 84 | 2001-01-04 | 28079001   | 1.134167   | 75.39250   | 12.002917  | 35.03667   | 16.75125   | 75.39250   | FAIR       | FAIR       |  2.4       | MODERATE   | 3.3        | LIGHT WIND | \n",
       "| 105 | 2001-01-05 | 28079001   | 1.535833   | 77.14083   |  8.755833  | 34.27625   | 16.00958   | 77.14083   | FAIR       | GOOD       | 13.3       | MODERATE   | 1.1        | LIGHT WIND | \n",
       "| 139 | 2001-01-06 | 28079001   | 1.009167   | 64.47708   | 13.955417  | 17.03792   | 15.35417   | 64.47708   | GOOD       | FAIR       |  0.0       | WEAK       | 2.5        | LIGHT WIND | \n",
       "| 158 | 2001-01-07 | 28079001   | 1.016250   | 67.06125   | 12.776250  | 20.45500   | 18.43042   | 67.06125   | FAIR       | FAIR       |  0.0       | WEAK       | 2.2        | LIGHT WIND | \n",
       "\n",
       "\n"
      ],
      "text/plain": [
       "    date       station  CO       NO_2     O_3       PM10     SO_2    \n",
       "42  2001-01-02 28079001 1.243333 84.53750 12.576667 36.92455 20.28083\n",
       "57  2001-01-03 28079001 1.242917 79.75125 10.961250 37.21292 16.23917\n",
       "84  2001-01-04 28079001 1.134167 75.39250 12.002917 35.03667 16.75125\n",
       "105 2001-01-05 28079001 1.535833 77.14083  8.755833 34.27625 16.00958\n",
       "139 2001-01-06 28079001 1.009167 64.47708 13.955417 17.03792 15.35417\n",
       "158 2001-01-07 28079001 1.016250 67.06125 12.776250 20.45500 18.43042\n",
       "    worseAirIndex AirIndexQuality AIQNextDay quantity rainfallVolume Speed\n",
       "42  84.53750      FAIR            FAIR        0.1     WEAK           3.6  \n",
       "57  79.75125      FAIR            FAIR        2.2     MODERATE       1.7  \n",
       "84  75.39250      FAIR            FAIR        2.4     MODERATE       3.3  \n",
       "105 77.14083      FAIR            GOOD       13.3     MODERATE       1.1  \n",
       "139 64.47708      GOOD            FAIR        0.0     WEAK           2.5  \n",
       "158 67.06125      FAIR            FAIR        0.0     WEAK           2.2  \n",
       "    WindIndexQuality\n",
       "42  LIGHT WIND      \n",
       "57  LIGHT WIND      \n",
       "84  LIGHT WIND      \n",
       "105 LIGHT WIND      \n",
       "139 LIGHT WIND      \n",
       "158 LIGHT WIND      "
      ]
     },
     "metadata": {},
     "output_type": "display_data"
    }
   ],
   "source": [
    "# Cruzamos los datos con el viento\n",
    "data <- merge ( x = data, y = wind, by = \"date\",)\n",
    "data <- data[order(data$station),]\n",
    "head(data)"
   ]
  },
  {
   "cell_type": "markdown",
   "metadata": {},
   "source": [
    "## 4º FASE: MODEL"
   ]
  },
  {
   "cell_type": "markdown",
   "metadata": {},
   "source": [
    "Se entrenan y aplican distintos modelos para el procesamiento de los datos, seleccionando aquel cuya tecnología y/o parámetros produce unos resultados aparentemente más adecuados."
   ]
  },
  {
   "cell_type": "markdown",
   "metadata": {},
   "source": [
    "### Árbol de decisiones"
   ]
  },
  {
   "cell_type": "markdown",
   "metadata": {},
   "source": [
    "EL primer modeo a probar será un árbol de decisión, por ello se han discretizado previamente todas las variables dependientes del estudio"
   ]
  },
  {
   "cell_type": "markdown",
   "metadata": {},
   "source": [
    "Inicializamos el gestor de memoria"
   ]
  },
  {
   "cell_type": "code",
   "execution_count": 674,
   "metadata": {},
   "outputs": [
    {
     "data": {
      "text/html": [
       "<table>\n",
       "<thead><tr><th></th><th scope=col>used</th><th scope=col>(Mb)</th><th scope=col>gc trigger</th><th scope=col>(Mb)</th><th scope=col>max used</th><th scope=col>(Mb)</th></tr></thead>\n",
       "<tbody>\n",
       "\t<tr><th scope=row>Ncells</th><td>2138476  </td><td>114.3    </td><td>  4127664</td><td> 220.5   </td><td>  4127664</td><td> 220.5   </td></tr>\n",
       "\t<tr><th scope=row>Vcells</th><td>7895441  </td><td> 60.3    </td><td>143539915</td><td>1095.2   </td><td>282600737</td><td>2156.1   </td></tr>\n",
       "</tbody>\n",
       "</table>\n"
      ],
      "text/latex": [
       "\\begin{tabular}{r|llllll}\n",
       "  & used & (Mb) & gc trigger & (Mb) & max used & (Mb)\\\\\n",
       "\\hline\n",
       "\tNcells & 2138476   & 114.3     &   4127664 &  220.5    &   4127664 &  220.5   \\\\\n",
       "\tVcells & 7895441   &  60.3     & 143539915 & 1095.2    & 282600737 & 2156.1   \\\\\n",
       "\\end{tabular}\n"
      ],
      "text/markdown": [
       "\n",
       "| <!--/--> | used | (Mb) | gc trigger | (Mb) | max used | (Mb) | \n",
       "|---|---|\n",
       "| Ncells | 2138476   | 114.3     |   4127664 |  220.5    |   4127664 |  220.5    | \n",
       "| Vcells | 7895441   |  60.3     | 143539915 | 1095.2    | 282600737 | 2156.1    | \n",
       "\n",
       "\n"
      ],
      "text/plain": [
       "       used    (Mb)  gc trigger (Mb)   max used  (Mb)  \n",
       "Ncells 2138476 114.3   4127664   220.5   4127664  220.5\n",
       "Vcells 7895441  60.3 143539915  1095.2 282600737 2156.1"
      ]
     },
     "metadata": {},
     "output_type": "display_data"
    }
   ],
   "source": [
    "gc()"
   ]
  },
  {
   "cell_type": "code",
   "execution_count": 675,
   "metadata": {},
   "outputs": [
    {
     "data": {
      "text/html": [
       "<table>\n",
       "<thead><tr><th></th><th scope=col>date</th><th scope=col>station</th><th scope=col>CO</th><th scope=col>NO_2</th><th scope=col>O_3</th><th scope=col>PM10</th><th scope=col>SO_2</th><th scope=col>worseAirIndex</th><th scope=col>AirIndexQuality</th><th scope=col>AIQNextDay</th><th scope=col>quantity</th><th scope=col>rainfallVolume</th><th scope=col>Speed</th><th scope=col>WindIndexQuality</th></tr></thead>\n",
       "<tbody>\n",
       "\t<tr><th scope=row>42</th><td>2001-01-02</td><td>28079001  </td><td>1.243333  </td><td>84.53750  </td><td>12.576667 </td><td>36.92455  </td><td>20.28083  </td><td>84.53750  </td><td>FAIR      </td><td>FAIR      </td><td> 0.1      </td><td>WEAK      </td><td>3.6       </td><td>LIGHT WIND</td></tr>\n",
       "\t<tr><th scope=row>57</th><td>2001-01-03</td><td>28079001  </td><td>1.242917  </td><td>79.75125  </td><td>10.961250 </td><td>37.21292  </td><td>16.23917  </td><td>79.75125  </td><td>FAIR      </td><td>FAIR      </td><td> 2.2      </td><td>MODERATE  </td><td>1.7       </td><td>LIGHT WIND</td></tr>\n",
       "\t<tr><th scope=row>84</th><td>2001-01-04</td><td>28079001  </td><td>1.134167  </td><td>75.39250  </td><td>12.002917 </td><td>35.03667  </td><td>16.75125  </td><td>75.39250  </td><td>FAIR      </td><td>FAIR      </td><td> 2.4      </td><td>MODERATE  </td><td>3.3       </td><td>LIGHT WIND</td></tr>\n",
       "\t<tr><th scope=row>105</th><td>2001-01-05</td><td>28079001  </td><td>1.535833  </td><td>77.14083  </td><td> 8.755833 </td><td>34.27625  </td><td>16.00958  </td><td>77.14083  </td><td>FAIR      </td><td>GOOD      </td><td>13.3      </td><td>MODERATE  </td><td>1.1       </td><td>LIGHT WIND</td></tr>\n",
       "\t<tr><th scope=row>139</th><td>2001-01-06</td><td>28079001  </td><td>1.009167  </td><td>64.47708  </td><td>13.955417 </td><td>17.03792  </td><td>15.35417  </td><td>64.47708  </td><td>GOOD      </td><td>FAIR      </td><td> 0.0      </td><td>WEAK      </td><td>2.5       </td><td>LIGHT WIND</td></tr>\n",
       "\t<tr><th scope=row>158</th><td>2001-01-07</td><td>28079001  </td><td>1.016250  </td><td>67.06125  </td><td>12.776250 </td><td>20.45500  </td><td>18.43042  </td><td>67.06125  </td><td>FAIR      </td><td>FAIR      </td><td> 0.0      </td><td>WEAK      </td><td>2.2       </td><td>LIGHT WIND</td></tr>\n",
       "</tbody>\n",
       "</table>\n"
      ],
      "text/latex": [
       "\\begin{tabular}{r|llllllllllllll}\n",
       "  & date & station & CO & NO\\_2 & O\\_3 & PM10 & SO\\_2 & worseAirIndex & AirIndexQuality & AIQNextDay & quantity & rainfallVolume & Speed & WindIndexQuality\\\\\n",
       "\\hline\n",
       "\t42 & 2001-01-02 & 28079001   & 1.243333   & 84.53750   & 12.576667  & 36.92455   & 20.28083   & 84.53750   & FAIR       & FAIR       &  0.1       & WEAK       & 3.6        & LIGHT WIND\\\\\n",
       "\t57 & 2001-01-03 & 28079001   & 1.242917   & 79.75125   & 10.961250  & 37.21292   & 16.23917   & 79.75125   & FAIR       & FAIR       &  2.2       & MODERATE   & 1.7        & LIGHT WIND\\\\\n",
       "\t84 & 2001-01-04 & 28079001   & 1.134167   & 75.39250   & 12.002917  & 35.03667   & 16.75125   & 75.39250   & FAIR       & FAIR       &  2.4       & MODERATE   & 3.3        & LIGHT WIND\\\\\n",
       "\t105 & 2001-01-05 & 28079001   & 1.535833   & 77.14083   &  8.755833  & 34.27625   & 16.00958   & 77.14083   & FAIR       & GOOD       & 13.3       & MODERATE   & 1.1        & LIGHT WIND\\\\\n",
       "\t139 & 2001-01-06 & 28079001   & 1.009167   & 64.47708   & 13.955417  & 17.03792   & 15.35417   & 64.47708   & GOOD       & FAIR       &  0.0       & WEAK       & 2.5        & LIGHT WIND\\\\\n",
       "\t158 & 2001-01-07 & 28079001   & 1.016250   & 67.06125   & 12.776250  & 20.45500   & 18.43042   & 67.06125   & FAIR       & FAIR       &  0.0       & WEAK       & 2.2        & LIGHT WIND\\\\\n",
       "\\end{tabular}\n"
      ],
      "text/markdown": [
       "\n",
       "| <!--/--> | date | station | CO | NO_2 | O_3 | PM10 | SO_2 | worseAirIndex | AirIndexQuality | AIQNextDay | quantity | rainfallVolume | Speed | WindIndexQuality | \n",
       "|---|---|---|---|---|---|\n",
       "| 42 | 2001-01-02 | 28079001   | 1.243333   | 84.53750   | 12.576667  | 36.92455   | 20.28083   | 84.53750   | FAIR       | FAIR       |  0.1       | WEAK       | 3.6        | LIGHT WIND | \n",
       "| 57 | 2001-01-03 | 28079001   | 1.242917   | 79.75125   | 10.961250  | 37.21292   | 16.23917   | 79.75125   | FAIR       | FAIR       |  2.2       | MODERATE   | 1.7        | LIGHT WIND | \n",
       "| 84 | 2001-01-04 | 28079001   | 1.134167   | 75.39250   | 12.002917  | 35.03667   | 16.75125   | 75.39250   | FAIR       | FAIR       |  2.4       | MODERATE   | 3.3        | LIGHT WIND | \n",
       "| 105 | 2001-01-05 | 28079001   | 1.535833   | 77.14083   |  8.755833  | 34.27625   | 16.00958   | 77.14083   | FAIR       | GOOD       | 13.3       | MODERATE   | 1.1        | LIGHT WIND | \n",
       "| 139 | 2001-01-06 | 28079001   | 1.009167   | 64.47708   | 13.955417  | 17.03792   | 15.35417   | 64.47708   | GOOD       | FAIR       |  0.0       | WEAK       | 2.5        | LIGHT WIND | \n",
       "| 158 | 2001-01-07 | 28079001   | 1.016250   | 67.06125   | 12.776250  | 20.45500   | 18.43042   | 67.06125   | FAIR       | FAIR       |  0.0       | WEAK       | 2.2        | LIGHT WIND | \n",
       "\n",
       "\n"
      ],
      "text/plain": [
       "    date       station  CO       NO_2     O_3       PM10     SO_2    \n",
       "42  2001-01-02 28079001 1.243333 84.53750 12.576667 36.92455 20.28083\n",
       "57  2001-01-03 28079001 1.242917 79.75125 10.961250 37.21292 16.23917\n",
       "84  2001-01-04 28079001 1.134167 75.39250 12.002917 35.03667 16.75125\n",
       "105 2001-01-05 28079001 1.535833 77.14083  8.755833 34.27625 16.00958\n",
       "139 2001-01-06 28079001 1.009167 64.47708 13.955417 17.03792 15.35417\n",
       "158 2001-01-07 28079001 1.016250 67.06125 12.776250 20.45500 18.43042\n",
       "    worseAirIndex AirIndexQuality AIQNextDay quantity rainfallVolume Speed\n",
       "42  84.53750      FAIR            FAIR        0.1     WEAK           3.6  \n",
       "57  79.75125      FAIR            FAIR        2.2     MODERATE       1.7  \n",
       "84  75.39250      FAIR            FAIR        2.4     MODERATE       3.3  \n",
       "105 77.14083      FAIR            GOOD       13.3     MODERATE       1.1  \n",
       "139 64.47708      GOOD            FAIR        0.0     WEAK           2.5  \n",
       "158 67.06125      FAIR            FAIR        0.0     WEAK           2.2  \n",
       "    WindIndexQuality\n",
       "42  LIGHT WIND      \n",
       "57  LIGHT WIND      \n",
       "84  LIGHT WIND      \n",
       "105 LIGHT WIND      \n",
       "139 LIGHT WIND      \n",
       "158 LIGHT WIND      "
      ]
     },
     "metadata": {},
     "output_type": "display_data"
    },
    {
     "data": {
      "text/html": [
       "<table>\n",
       "<thead><tr><th></th><th scope=col>date</th><th scope=col>station</th><th scope=col>CO</th><th scope=col>NO_2</th><th scope=col>O_3</th><th scope=col>PM10</th><th scope=col>SO_2</th><th scope=col>worseAirIndex</th><th scope=col>AirIndexQuality</th><th scope=col>AIQNextDay</th><th scope=col>quantity</th><th scope=col>rainfallVolume</th><th scope=col>Speed</th><th scope=col>WindIndexQuality</th></tr></thead>\n",
       "<tbody>\n",
       "\t<tr><th scope=row>137042</th><td>2018-04-26</td><td>28079060  </td><td>0         </td><td>29.041667 </td><td>77.25000  </td><td>42.54167  </td><td>0         </td><td>77.25000  </td><td>FAIR      </td><td>FAIR      </td><td> 0.0      </td><td>WEAK      </td><td>1.4       </td><td>LIGHT WIND</td></tr>\n",
       "\t<tr><th scope=row>137062</th><td>2018-04-27</td><td>28079060  </td><td>0         </td><td>20.958333 </td><td>81.83333  </td><td>29.57143  </td><td>0         </td><td>81.83333  </td><td>FAIR      </td><td>FAIR      </td><td> 0.0      </td><td>WEAK      </td><td>3.1       </td><td>LIGHT WIND</td></tr>\n",
       "\t<tr><th scope=row>137086</th><td>2018-04-28</td><td>28079060  </td><td>0         </td><td> 8.375000 </td><td>87.20833  </td><td>10.33333  </td><td>0         </td><td>87.20833  </td><td>FAIR      </td><td>FAIR      </td><td> 0.0      </td><td>WEAK      </td><td>2.5       </td><td>LIGHT WIND</td></tr>\n",
       "\t<tr><th scope=row>137104</th><td>2018-04-29</td><td>28079060  </td><td>0         </td><td> 6.958333 </td><td>93.08333  </td><td>14.45833  </td><td>0         </td><td>93.08333  </td><td>FAIR      </td><td>FAIR      </td><td>13.0      </td><td>MODERATE  </td><td>4.2       </td><td>LIGHT WIND</td></tr>\n",
       "\t<tr><th scope=row>137135</th><td>2018-04-30</td><td>28079060  </td><td>0         </td><td>13.708333 </td><td>83.33333  </td><td>12.91667  </td><td>0         </td><td>83.33333  </td><td>FAIR      </td><td>FAIR      </td><td> 4.8      </td><td>MODERATE  </td><td>1.9       </td><td>LIGHT WIND</td></tr>\n",
       "\t<tr><th scope=row>137174</th><td>2018-05-01</td><td>28079060  </td><td>0         </td><td>14.000000 </td><td>81.00000  </td><td> 6.00000  </td><td>0         </td><td>81.00000  </td><td>FAIR      </td><td>NA        </td><td> 0.2      </td><td>WEAK      </td><td>1.7       </td><td>LIGHT WIND</td></tr>\n",
       "</tbody>\n",
       "</table>\n"
      ],
      "text/latex": [
       "\\begin{tabular}{r|llllllllllllll}\n",
       "  & date & station & CO & NO\\_2 & O\\_3 & PM10 & SO\\_2 & worseAirIndex & AirIndexQuality & AIQNextDay & quantity & rainfallVolume & Speed & WindIndexQuality\\\\\n",
       "\\hline\n",
       "\t137042 & 2018-04-26 & 28079060   & 0          & 29.041667  & 77.25000   & 42.54167   & 0          & 77.25000   & FAIR       & FAIR       &  0.0       & WEAK       & 1.4        & LIGHT WIND\\\\\n",
       "\t137062 & 2018-04-27 & 28079060   & 0          & 20.958333  & 81.83333   & 29.57143   & 0          & 81.83333   & FAIR       & FAIR       &  0.0       & WEAK       & 3.1        & LIGHT WIND\\\\\n",
       "\t137086 & 2018-04-28 & 28079060   & 0          &  8.375000  & 87.20833   & 10.33333   & 0          & 87.20833   & FAIR       & FAIR       &  0.0       & WEAK       & 2.5        & LIGHT WIND\\\\\n",
       "\t137104 & 2018-04-29 & 28079060   & 0          &  6.958333  & 93.08333   & 14.45833   & 0          & 93.08333   & FAIR       & FAIR       & 13.0       & MODERATE   & 4.2        & LIGHT WIND\\\\\n",
       "\t137135 & 2018-04-30 & 28079060   & 0          & 13.708333  & 83.33333   & 12.91667   & 0          & 83.33333   & FAIR       & FAIR       &  4.8       & MODERATE   & 1.9        & LIGHT WIND\\\\\n",
       "\t137174 & 2018-05-01 & 28079060   & 0          & 14.000000  & 81.00000   &  6.00000   & 0          & 81.00000   & FAIR       & NA         &  0.2       & WEAK       & 1.7        & LIGHT WIND\\\\\n",
       "\\end{tabular}\n"
      ],
      "text/markdown": [
       "\n",
       "| <!--/--> | date | station | CO | NO_2 | O_3 | PM10 | SO_2 | worseAirIndex | AirIndexQuality | AIQNextDay | quantity | rainfallVolume | Speed | WindIndexQuality | \n",
       "|---|---|---|---|---|---|\n",
       "| 137042 | 2018-04-26 | 28079060   | 0          | 29.041667  | 77.25000   | 42.54167   | 0          | 77.25000   | FAIR       | FAIR       |  0.0       | WEAK       | 1.4        | LIGHT WIND | \n",
       "| 137062 | 2018-04-27 | 28079060   | 0          | 20.958333  | 81.83333   | 29.57143   | 0          | 81.83333   | FAIR       | FAIR       |  0.0       | WEAK       | 3.1        | LIGHT WIND | \n",
       "| 137086 | 2018-04-28 | 28079060   | 0          |  8.375000  | 87.20833   | 10.33333   | 0          | 87.20833   | FAIR       | FAIR       |  0.0       | WEAK       | 2.5        | LIGHT WIND | \n",
       "| 137104 | 2018-04-29 | 28079060   | 0          |  6.958333  | 93.08333   | 14.45833   | 0          | 93.08333   | FAIR       | FAIR       | 13.0       | MODERATE   | 4.2        | LIGHT WIND | \n",
       "| 137135 | 2018-04-30 | 28079060   | 0          | 13.708333  | 83.33333   | 12.91667   | 0          | 83.33333   | FAIR       | FAIR       |  4.8       | MODERATE   | 1.9        | LIGHT WIND | \n",
       "| 137174 | 2018-05-01 | 28079060   | 0          | 14.000000  | 81.00000   |  6.00000   | 0          | 81.00000   | FAIR       | NA         |  0.2       | WEAK       | 1.7        | LIGHT WIND | \n",
       "\n",
       "\n"
      ],
      "text/plain": [
       "       date       station  CO NO_2      O_3      PM10     SO_2 worseAirIndex\n",
       "137042 2018-04-26 28079060 0  29.041667 77.25000 42.54167 0    77.25000     \n",
       "137062 2018-04-27 28079060 0  20.958333 81.83333 29.57143 0    81.83333     \n",
       "137086 2018-04-28 28079060 0   8.375000 87.20833 10.33333 0    87.20833     \n",
       "137104 2018-04-29 28079060 0   6.958333 93.08333 14.45833 0    93.08333     \n",
       "137135 2018-04-30 28079060 0  13.708333 83.33333 12.91667 0    83.33333     \n",
       "137174 2018-05-01 28079060 0  14.000000 81.00000  6.00000 0    81.00000     \n",
       "       AirIndexQuality AIQNextDay quantity rainfallVolume Speed\n",
       "137042 FAIR            FAIR        0.0     WEAK           1.4  \n",
       "137062 FAIR            FAIR        0.0     WEAK           3.1  \n",
       "137086 FAIR            FAIR        0.0     WEAK           2.5  \n",
       "137104 FAIR            FAIR       13.0     MODERATE       4.2  \n",
       "137135 FAIR            FAIR        4.8     MODERATE       1.9  \n",
       "137174 FAIR            NA          0.2     WEAK           1.7  \n",
       "       WindIndexQuality\n",
       "137042 LIGHT WIND      \n",
       "137062 LIGHT WIND      \n",
       "137086 LIGHT WIND      \n",
       "137104 LIGHT WIND      \n",
       "137135 LIGHT WIND      \n",
       "137174 LIGHT WIND      "
      ]
     },
     "metadata": {},
     "output_type": "display_data"
    },
    {
     "name": "stdout",
     "output_type": "stream",
     "text": [
      "'data.frame':\t137174 obs. of  14 variables:\n",
      " $ date            : Date, format: \"2001-01-02\" \"2001-01-03\" ...\n",
      " $ station         : int  28079001 28079001 28079001 28079001 28079001 28079001 28079001 28079001 28079001 28079001 ...\n",
      " $ CO              : num  1.24 1.24 1.13 1.54 1.01 ...\n",
      " $ NO_2            : num  84.5 79.8 75.4 77.1 64.5 ...\n",
      " $ O_3             : num  12.58 10.96 12 8.76 13.96 ...\n",
      " $ PM10            : num  36.9 37.2 35 34.3 17 ...\n",
      " $ SO_2            : num  20.3 16.2 16.8 16 15.4 ...\n",
      " $ worseAirIndex   : num  84.5 79.8 75.4 77.1 64.5 ...\n",
      " $ AirIndexQuality : chr  \"FAIR\" \"FAIR\" \"FAIR\" \"FAIR\" ...\n",
      " $ AIQNextDay      : chr  \"FAIR\" \"FAIR\" \"FAIR\" \"GOOD\" ...\n",
      " $ quantity        : num  0.1 2.2 2.4 13.3 0 0 0 1.5 9.8 14.8 ...\n",
      " $ rainfallVolume  : chr  \"WEAK\" \"MODERATE\" \"MODERATE\" \"MODERATE\" ...\n",
      " $ Speed           : num  3.6 1.7 3.3 1.1 2.5 2.2 0.3 0.6 0.3 1.7 ...\n",
      " $ WindIndexQuality: chr  \"LIGHT WIND\" \"LIGHT WIND\" \"LIGHT WIND\" \"LIGHT WIND\" ...\n"
     ]
    }
   ],
   "source": [
    "# Establece una semilla fija para garantizar\n",
    "# la reproducibilidad del ejemplo\n",
    "\n",
    "head(data)\n",
    "tail(data)\n",
    "str(data)\n",
    "set.seed(1234)"
   ]
  },
  {
   "cell_type": "code",
   "execution_count": 676,
   "metadata": {},
   "outputs": [],
   "source": [
    "separate <- as.integer(nrow(data)*0.7)\n",
    "trainData <- data[1:separate,]\n",
    "testData <- data[separate:nrow(data),]"
   ]
  },
  {
   "cell_type": "code",
   "execution_count": 677,
   "metadata": {},
   "outputs": [
    {
     "data": {
      "text/html": [
       "<table>\n",
       "<thead><tr><th></th><th scope=col>date</th><th scope=col>station</th><th scope=col>CO</th><th scope=col>NO_2</th><th scope=col>O_3</th><th scope=col>PM10</th><th scope=col>SO_2</th><th scope=col>worseAirIndex</th><th scope=col>AirIndexQuality</th><th scope=col>AIQNextDay</th><th scope=col>quantity</th><th scope=col>rainfallVolume</th><th scope=col>Speed</th><th scope=col>WindIndexQuality</th></tr></thead>\n",
       "<tbody>\n",
       "\t<tr><th scope=row>42</th><td>2001-01-02</td><td>28079001  </td><td>1.243333  </td><td>84.53750  </td><td>12.576667 </td><td>36.92455  </td><td>20.28083  </td><td>84.53750  </td><td>FAIR      </td><td>FAIR      </td><td> 0.1      </td><td>WEAK      </td><td>3.6       </td><td>LIGHT WIND</td></tr>\n",
       "\t<tr><th scope=row>57</th><td>2001-01-03</td><td>28079001  </td><td>1.242917  </td><td>79.75125  </td><td>10.961250 </td><td>37.21292  </td><td>16.23917  </td><td>79.75125  </td><td>FAIR      </td><td>FAIR      </td><td> 2.2      </td><td>MODERATE  </td><td>1.7       </td><td>LIGHT WIND</td></tr>\n",
       "\t<tr><th scope=row>84</th><td>2001-01-04</td><td>28079001  </td><td>1.134167  </td><td>75.39250  </td><td>12.002917 </td><td>35.03667  </td><td>16.75125  </td><td>75.39250  </td><td>FAIR      </td><td>FAIR      </td><td> 2.4      </td><td>MODERATE  </td><td>3.3       </td><td>LIGHT WIND</td></tr>\n",
       "\t<tr><th scope=row>105</th><td>2001-01-05</td><td>28079001  </td><td>1.535833  </td><td>77.14083  </td><td> 8.755833 </td><td>34.27625  </td><td>16.00958  </td><td>77.14083  </td><td>FAIR      </td><td>GOOD      </td><td>13.3      </td><td>MODERATE  </td><td>1.1       </td><td>LIGHT WIND</td></tr>\n",
       "\t<tr><th scope=row>139</th><td>2001-01-06</td><td>28079001  </td><td>1.009167  </td><td>64.47708  </td><td>13.955417 </td><td>17.03792  </td><td>15.35417  </td><td>64.47708  </td><td>GOOD      </td><td>FAIR      </td><td> 0.0      </td><td>WEAK      </td><td>2.5       </td><td>LIGHT WIND</td></tr>\n",
       "\t<tr><th scope=row>158</th><td>2001-01-07</td><td>28079001  </td><td>1.016250  </td><td>67.06125  </td><td>12.776250 </td><td>20.45500  </td><td>18.43042  </td><td>67.06125  </td><td>FAIR      </td><td>FAIR      </td><td> 0.0      </td><td>WEAK      </td><td>2.2       </td><td>LIGHT WIND</td></tr>\n",
       "</tbody>\n",
       "</table>\n"
      ],
      "text/latex": [
       "\\begin{tabular}{r|llllllllllllll}\n",
       "  & date & station & CO & NO\\_2 & O\\_3 & PM10 & SO\\_2 & worseAirIndex & AirIndexQuality & AIQNextDay & quantity & rainfallVolume & Speed & WindIndexQuality\\\\\n",
       "\\hline\n",
       "\t42 & 2001-01-02 & 28079001   & 1.243333   & 84.53750   & 12.576667  & 36.92455   & 20.28083   & 84.53750   & FAIR       & FAIR       &  0.1       & WEAK       & 3.6        & LIGHT WIND\\\\\n",
       "\t57 & 2001-01-03 & 28079001   & 1.242917   & 79.75125   & 10.961250  & 37.21292   & 16.23917   & 79.75125   & FAIR       & FAIR       &  2.2       & MODERATE   & 1.7        & LIGHT WIND\\\\\n",
       "\t84 & 2001-01-04 & 28079001   & 1.134167   & 75.39250   & 12.002917  & 35.03667   & 16.75125   & 75.39250   & FAIR       & FAIR       &  2.4       & MODERATE   & 3.3        & LIGHT WIND\\\\\n",
       "\t105 & 2001-01-05 & 28079001   & 1.535833   & 77.14083   &  8.755833  & 34.27625   & 16.00958   & 77.14083   & FAIR       & GOOD       & 13.3       & MODERATE   & 1.1        & LIGHT WIND\\\\\n",
       "\t139 & 2001-01-06 & 28079001   & 1.009167   & 64.47708   & 13.955417  & 17.03792   & 15.35417   & 64.47708   & GOOD       & FAIR       &  0.0       & WEAK       & 2.5        & LIGHT WIND\\\\\n",
       "\t158 & 2001-01-07 & 28079001   & 1.016250   & 67.06125   & 12.776250  & 20.45500   & 18.43042   & 67.06125   & FAIR       & FAIR       &  0.0       & WEAK       & 2.2        & LIGHT WIND\\\\\n",
       "\\end{tabular}\n"
      ],
      "text/markdown": [
       "\n",
       "| <!--/--> | date | station | CO | NO_2 | O_3 | PM10 | SO_2 | worseAirIndex | AirIndexQuality | AIQNextDay | quantity | rainfallVolume | Speed | WindIndexQuality | \n",
       "|---|---|---|---|---|---|\n",
       "| 42 | 2001-01-02 | 28079001   | 1.243333   | 84.53750   | 12.576667  | 36.92455   | 20.28083   | 84.53750   | FAIR       | FAIR       |  0.1       | WEAK       | 3.6        | LIGHT WIND | \n",
       "| 57 | 2001-01-03 | 28079001   | 1.242917   | 79.75125   | 10.961250  | 37.21292   | 16.23917   | 79.75125   | FAIR       | FAIR       |  2.2       | MODERATE   | 1.7        | LIGHT WIND | \n",
       "| 84 | 2001-01-04 | 28079001   | 1.134167   | 75.39250   | 12.002917  | 35.03667   | 16.75125   | 75.39250   | FAIR       | FAIR       |  2.4       | MODERATE   | 3.3        | LIGHT WIND | \n",
       "| 105 | 2001-01-05 | 28079001   | 1.535833   | 77.14083   |  8.755833  | 34.27625   | 16.00958   | 77.14083   | FAIR       | GOOD       | 13.3       | MODERATE   | 1.1        | LIGHT WIND | \n",
       "| 139 | 2001-01-06 | 28079001   | 1.009167   | 64.47708   | 13.955417  | 17.03792   | 15.35417   | 64.47708   | GOOD       | FAIR       |  0.0       | WEAK       | 2.5        | LIGHT WIND | \n",
       "| 158 | 2001-01-07 | 28079001   | 1.016250   | 67.06125   | 12.776250  | 20.45500   | 18.43042   | 67.06125   | FAIR       | FAIR       |  0.0       | WEAK       | 2.2        | LIGHT WIND | \n",
       "\n",
       "\n"
      ],
      "text/plain": [
       "    date       station  CO       NO_2     O_3       PM10     SO_2    \n",
       "42  2001-01-02 28079001 1.243333 84.53750 12.576667 36.92455 20.28083\n",
       "57  2001-01-03 28079001 1.242917 79.75125 10.961250 37.21292 16.23917\n",
       "84  2001-01-04 28079001 1.134167 75.39250 12.002917 35.03667 16.75125\n",
       "105 2001-01-05 28079001 1.535833 77.14083  8.755833 34.27625 16.00958\n",
       "139 2001-01-06 28079001 1.009167 64.47708 13.955417 17.03792 15.35417\n",
       "158 2001-01-07 28079001 1.016250 67.06125 12.776250 20.45500 18.43042\n",
       "    worseAirIndex AirIndexQuality AIQNextDay quantity rainfallVolume Speed\n",
       "42  84.53750      FAIR            FAIR        0.1     WEAK           3.6  \n",
       "57  79.75125      FAIR            FAIR        2.2     MODERATE       1.7  \n",
       "84  75.39250      FAIR            FAIR        2.4     MODERATE       3.3  \n",
       "105 77.14083      FAIR            GOOD       13.3     MODERATE       1.1  \n",
       "139 64.47708      GOOD            FAIR        0.0     WEAK           2.5  \n",
       "158 67.06125      FAIR            FAIR        0.0     WEAK           2.2  \n",
       "    WindIndexQuality\n",
       "42  LIGHT WIND      \n",
       "57  LIGHT WIND      \n",
       "84  LIGHT WIND      \n",
       "105 LIGHT WIND      \n",
       "139 LIGHT WIND      \n",
       "158 LIGHT WIND      "
      ]
     },
     "metadata": {},
     "output_type": "display_data"
    },
    {
     "data": {
      "text/html": [
       "<table>\n",
       "<thead><tr><th></th><th scope=col>date</th><th scope=col>station</th><th scope=col>CO</th><th scope=col>NO_2</th><th scope=col>O_3</th><th scope=col>PM10</th><th scope=col>SO_2</th><th scope=col>worseAirIndex</th><th scope=col>AirIndexQuality</th><th scope=col>AIQNextDay</th><th scope=col>quantity</th><th scope=col>rainfallVolume</th><th scope=col>Speed</th><th scope=col>WindIndexQuality</th></tr></thead>\n",
       "<tbody>\n",
       "\t<tr><th scope=row>36101</th><td>2005-09-01</td><td>28079039  </td><td>0.7016667 </td><td>72.20583  </td><td>35.91696  </td><td>11.42000  </td><td>7.513750  </td><td>72.20583  </td><td>FAIR      </td><td>FAIR      </td><td>0.0       </td><td>WEAK      </td><td>1.1       </td><td>LIGHT WIND</td></tr>\n",
       "\t<tr><th scope=row>36122</th><td>2005-09-02</td><td>28079039  </td><td>0.6775000 </td><td>76.58500  </td><td>43.05773  </td><td>86.23957  </td><td>8.038750  </td><td>86.23957  </td><td>FAIR      </td><td>GOOD      </td><td>0.0       </td><td>WEAK      </td><td>0.8       </td><td>LIGHT WIND</td></tr>\n",
       "\t<tr><th scope=row>36150</th><td>2005-09-03</td><td>28079039  </td><td>0.5225000 </td><td>48.17250  </td><td>60.24391  </td><td>44.47045  </td><td>6.763333  </td><td>60.24391  </td><td>GOOD      </td><td>FAIR      </td><td>0.0       </td><td>WEAK      </td><td>1.7       </td><td>LIGHT WIND</td></tr>\n",
       "\t<tr><th scope=row>36166</th><td>2005-09-04</td><td>28079039  </td><td>0.9395833 </td><td>81.37125  </td><td>33.38217  </td><td>31.92412  </td><td>8.664167  </td><td>81.37125  </td><td>FAIR      </td><td>GOOD      </td><td>0.0       </td><td>WEAK      </td><td>2.2       </td><td>LIGHT WIND</td></tr>\n",
       "\t<tr><th scope=row>36187</th><td>2005-09-05</td><td>28079039  </td><td>0.6212500 </td><td>39.21750  </td><td>42.94913  </td><td>48.32500  </td><td>6.352500  </td><td>48.32500  </td><td>GOOD      </td><td>GOOD      </td><td>0.0       </td><td>WEAK      </td><td>3.3       </td><td>LIGHT WIND</td></tr>\n",
       "\t<tr><th scope=row>36218</th><td>2005-09-06</td><td>28079039  </td><td>0.5654167 </td><td>31.01583  </td><td>45.98130  </td><td>35.21783  </td><td>6.028750  </td><td>45.98130  </td><td>GOOD      </td><td>GOOD      </td><td>2.5       </td><td>MODERATE  </td><td>3.1       </td><td>LIGHT WIND</td></tr>\n",
       "</tbody>\n",
       "</table>\n"
      ],
      "text/latex": [
       "\\begin{tabular}{r|llllllllllllll}\n",
       "  & date & station & CO & NO\\_2 & O\\_3 & PM10 & SO\\_2 & worseAirIndex & AirIndexQuality & AIQNextDay & quantity & rainfallVolume & Speed & WindIndexQuality\\\\\n",
       "\\hline\n",
       "\t36101 & 2005-09-01 & 28079039   & 0.7016667  & 72.20583   & 35.91696   & 11.42000   & 7.513750   & 72.20583   & FAIR       & FAIR       & 0.0        & WEAK       & 1.1        & LIGHT WIND\\\\\n",
       "\t36122 & 2005-09-02 & 28079039   & 0.6775000  & 76.58500   & 43.05773   & 86.23957   & 8.038750   & 86.23957   & FAIR       & GOOD       & 0.0        & WEAK       & 0.8        & LIGHT WIND\\\\\n",
       "\t36150 & 2005-09-03 & 28079039   & 0.5225000  & 48.17250   & 60.24391   & 44.47045   & 6.763333   & 60.24391   & GOOD       & FAIR       & 0.0        & WEAK       & 1.7        & LIGHT WIND\\\\\n",
       "\t36166 & 2005-09-04 & 28079039   & 0.9395833  & 81.37125   & 33.38217   & 31.92412   & 8.664167   & 81.37125   & FAIR       & GOOD       & 0.0        & WEAK       & 2.2        & LIGHT WIND\\\\\n",
       "\t36187 & 2005-09-05 & 28079039   & 0.6212500  & 39.21750   & 42.94913   & 48.32500   & 6.352500   & 48.32500   & GOOD       & GOOD       & 0.0        & WEAK       & 3.3        & LIGHT WIND\\\\\n",
       "\t36218 & 2005-09-06 & 28079039   & 0.5654167  & 31.01583   & 45.98130   & 35.21783   & 6.028750   & 45.98130   & GOOD       & GOOD       & 2.5        & MODERATE   & 3.1        & LIGHT WIND\\\\\n",
       "\\end{tabular}\n"
      ],
      "text/markdown": [
       "\n",
       "| <!--/--> | date | station | CO | NO_2 | O_3 | PM10 | SO_2 | worseAirIndex | AirIndexQuality | AIQNextDay | quantity | rainfallVolume | Speed | WindIndexQuality | \n",
       "|---|---|---|---|---|---|\n",
       "| 36101 | 2005-09-01 | 28079039   | 0.7016667  | 72.20583   | 35.91696   | 11.42000   | 7.513750   | 72.20583   | FAIR       | FAIR       | 0.0        | WEAK       | 1.1        | LIGHT WIND | \n",
       "| 36122 | 2005-09-02 | 28079039   | 0.6775000  | 76.58500   | 43.05773   | 86.23957   | 8.038750   | 86.23957   | FAIR       | GOOD       | 0.0        | WEAK       | 0.8        | LIGHT WIND | \n",
       "| 36150 | 2005-09-03 | 28079039   | 0.5225000  | 48.17250   | 60.24391   | 44.47045   | 6.763333   | 60.24391   | GOOD       | FAIR       | 0.0        | WEAK       | 1.7        | LIGHT WIND | \n",
       "| 36166 | 2005-09-04 | 28079039   | 0.9395833  | 81.37125   | 33.38217   | 31.92412   | 8.664167   | 81.37125   | FAIR       | GOOD       | 0.0        | WEAK       | 2.2        | LIGHT WIND | \n",
       "| 36187 | 2005-09-05 | 28079039   | 0.6212500  | 39.21750   | 42.94913   | 48.32500   | 6.352500   | 48.32500   | GOOD       | GOOD       | 0.0        | WEAK       | 3.3        | LIGHT WIND | \n",
       "| 36218 | 2005-09-06 | 28079039   | 0.5654167  | 31.01583   | 45.98130   | 35.21783   | 6.028750   | 45.98130   | GOOD       | GOOD       | 2.5        | MODERATE   | 3.1        | LIGHT WIND | \n",
       "\n",
       "\n"
      ],
      "text/plain": [
       "      date       station  CO        NO_2     O_3      PM10     SO_2    \n",
       "36101 2005-09-01 28079039 0.7016667 72.20583 35.91696 11.42000 7.513750\n",
       "36122 2005-09-02 28079039 0.6775000 76.58500 43.05773 86.23957 8.038750\n",
       "36150 2005-09-03 28079039 0.5225000 48.17250 60.24391 44.47045 6.763333\n",
       "36166 2005-09-04 28079039 0.9395833 81.37125 33.38217 31.92412 8.664167\n",
       "36187 2005-09-05 28079039 0.6212500 39.21750 42.94913 48.32500 6.352500\n",
       "36218 2005-09-06 28079039 0.5654167 31.01583 45.98130 35.21783 6.028750\n",
       "      worseAirIndex AirIndexQuality AIQNextDay quantity rainfallVolume Speed\n",
       "36101 72.20583      FAIR            FAIR       0.0      WEAK           1.1  \n",
       "36122 86.23957      FAIR            GOOD       0.0      WEAK           0.8  \n",
       "36150 60.24391      GOOD            FAIR       0.0      WEAK           1.7  \n",
       "36166 81.37125      FAIR            GOOD       0.0      WEAK           2.2  \n",
       "36187 48.32500      GOOD            GOOD       0.0      WEAK           3.3  \n",
       "36218 45.98130      GOOD            GOOD       2.5      MODERATE       3.1  \n",
       "      WindIndexQuality\n",
       "36101 LIGHT WIND      \n",
       "36122 LIGHT WIND      \n",
       "36150 LIGHT WIND      \n",
       "36166 LIGHT WIND      \n",
       "36187 LIGHT WIND      \n",
       "36218 LIGHT WIND      "
      ]
     },
     "metadata": {},
     "output_type": "display_data"
    }
   ],
   "source": [
    "set.seed(1234)\n",
    "head(trainData)\n",
    "head(testData)"
   ]
  },
  {
   "cell_type": "code",
   "execution_count": 678,
   "metadata": {},
   "outputs": [],
   "source": [
    "myFormula <- AIQNextDay ~ AirIndexQuality + rainfallVolume + WindIndexQuality"
   ]
  },
  {
   "cell_type": "code",
   "execution_count": 679,
   "metadata": {},
   "outputs": [],
   "source": [
    "madrid_rpart <- rpart(myFormula,data=trainData, control = rpart.control(minsplit = 10))"
   ]
  },
  {
   "cell_type": "markdown",
   "metadata": {},
   "source": [
    "#### Comprobación de los datos de entrenamiento"
   ]
  },
  {
   "cell_type": "code",
   "execution_count": 680,
   "metadata": {},
   "outputs": [
    {
     "data": {
      "text/html": [
       "<dl>\n",
       "\t<dt>$names</dt>\n",
       "\t\t<dd><ol class=list-inline>\n",
       "\t<li>'frame'</li>\n",
       "\t<li>'where'</li>\n",
       "\t<li>'call'</li>\n",
       "\t<li>'terms'</li>\n",
       "\t<li>'cptable'</li>\n",
       "\t<li>'method'</li>\n",
       "\t<li>'parms'</li>\n",
       "\t<li>'control'</li>\n",
       "\t<li>'functions'</li>\n",
       "\t<li>'numresp'</li>\n",
       "\t<li>'splits'</li>\n",
       "\t<li>'csplit'</li>\n",
       "\t<li>'variable.importance'</li>\n",
       "\t<li>'y'</li>\n",
       "\t<li>'ordered'</li>\n",
       "</ol>\n",
       "</dd>\n",
       "\t<dt>$xlevels</dt>\n",
       "\t\t<dd><dl>\n",
       "\t<dt>$AirIndexQuality</dt>\n",
       "\t\t<dd><ol class=list-inline>\n",
       "\t<li>'FAIR'</li>\n",
       "\t<li>'GOOD'</li>\n",
       "\t<li>'NA'</li>\n",
       "\t<li>'POOR'</li>\n",
       "\t<li>'VERY GOOD'</li>\n",
       "\t<li>'VERY POOR'</li>\n",
       "</ol>\n",
       "</dd>\n",
       "\t<dt>$rainfallVolume</dt>\n",
       "\t\t<dd><ol class=list-inline>\n",
       "\t<li>'MODERATE'</li>\n",
       "\t<li>'STRONG'</li>\n",
       "\t<li>'TORRENTIAL RAIN'</li>\n",
       "\t<li>'VERY STRONG'</li>\n",
       "\t<li>'WEAK'</li>\n",
       "</ol>\n",
       "</dd>\n",
       "\t<dt>$WindIndexQuality</dt>\n",
       "\t\t<dd>'LIGHT WIND'</dd>\n",
       "</dl>\n",
       "</dd>\n",
       "\t<dt>$ylevels</dt>\n",
       "\t\t<dd><ol class=list-inline>\n",
       "\t<li>'FAIR'</li>\n",
       "\t<li>'GOOD'</li>\n",
       "\t<li>'NA'</li>\n",
       "\t<li>'POOR'</li>\n",
       "\t<li>'VERY GOOD'</li>\n",
       "\t<li>'VERY POOR'</li>\n",
       "</ol>\n",
       "</dd>\n",
       "\t<dt>$class</dt>\n",
       "\t\t<dd>'rpart'</dd>\n",
       "</dl>\n"
      ],
      "text/latex": [
       "\\begin{description}\n",
       "\\item[\\$names] \\begin{enumerate*}\n",
       "\\item 'frame'\n",
       "\\item 'where'\n",
       "\\item 'call'\n",
       "\\item 'terms'\n",
       "\\item 'cptable'\n",
       "\\item 'method'\n",
       "\\item 'parms'\n",
       "\\item 'control'\n",
       "\\item 'functions'\n",
       "\\item 'numresp'\n",
       "\\item 'splits'\n",
       "\\item 'csplit'\n",
       "\\item 'variable.importance'\n",
       "\\item 'y'\n",
       "\\item 'ordered'\n",
       "\\end{enumerate*}\n",
       "\n",
       "\\item[\\$xlevels] \\begin{description}\n",
       "\\item[\\$AirIndexQuality] \\begin{enumerate*}\n",
       "\\item 'FAIR'\n",
       "\\item 'GOOD'\n",
       "\\item 'NA'\n",
       "\\item 'POOR'\n",
       "\\item 'VERY GOOD'\n",
       "\\item 'VERY POOR'\n",
       "\\end{enumerate*}\n",
       "\n",
       "\\item[\\$rainfallVolume] \\begin{enumerate*}\n",
       "\\item 'MODERATE'\n",
       "\\item 'STRONG'\n",
       "\\item 'TORRENTIAL RAIN'\n",
       "\\item 'VERY STRONG'\n",
       "\\item 'WEAK'\n",
       "\\end{enumerate*}\n",
       "\n",
       "\\item[\\$WindIndexQuality] 'LIGHT WIND'\n",
       "\\end{description}\n",
       "\n",
       "\\item[\\$ylevels] \\begin{enumerate*}\n",
       "\\item 'FAIR'\n",
       "\\item 'GOOD'\n",
       "\\item 'NA'\n",
       "\\item 'POOR'\n",
       "\\item 'VERY GOOD'\n",
       "\\item 'VERY POOR'\n",
       "\\end{enumerate*}\n",
       "\n",
       "\\item[\\$class] 'rpart'\n",
       "\\end{description}\n"
      ],
      "text/markdown": [
       "$names\n",
       ":   1. 'frame'\n",
       "2. 'where'\n",
       "3. 'call'\n",
       "4. 'terms'\n",
       "5. 'cptable'\n",
       "6. 'method'\n",
       "7. 'parms'\n",
       "8. 'control'\n",
       "9. 'functions'\n",
       "10. 'numresp'\n",
       "11. 'splits'\n",
       "12. 'csplit'\n",
       "13. 'variable.importance'\n",
       "14. 'y'\n",
       "15. 'ordered'\n",
       "\n",
       "\n",
       "\n",
       "$xlevels\n",
       ":   $AirIndexQuality\n",
       ":   1. 'FAIR'\n",
       "2. 'GOOD'\n",
       "3. 'NA'\n",
       "4. 'POOR'\n",
       "5. 'VERY GOOD'\n",
       "6. 'VERY POOR'\n",
       "\n",
       "\n",
       "\n",
       "$rainfallVolume\n",
       ":   1. 'MODERATE'\n",
       "2. 'STRONG'\n",
       "3. 'TORRENTIAL RAIN'\n",
       "4. 'VERY STRONG'\n",
       "5. 'WEAK'\n",
       "\n",
       "\n",
       "\n",
       "$WindIndexQuality\n",
       ":   'LIGHT WIND'\n",
       "\n",
       "\n",
       "\n",
       "$ylevels\n",
       ":   1. 'FAIR'\n",
       "2. 'GOOD'\n",
       "3. 'NA'\n",
       "4. 'POOR'\n",
       "5. 'VERY GOOD'\n",
       "6. 'VERY POOR'\n",
       "\n",
       "\n",
       "\n",
       "$class\n",
       ":   'rpart'\n",
       "\n",
       "\n"
      ],
      "text/plain": [
       "$names\n",
       " [1] \"frame\"               \"where\"               \"call\"               \n",
       " [4] \"terms\"               \"cptable\"             \"method\"             \n",
       " [7] \"parms\"               \"control\"             \"functions\"          \n",
       "[10] \"numresp\"             \"splits\"              \"csplit\"             \n",
       "[13] \"variable.importance\" \"y\"                   \"ordered\"            \n",
       "\n",
       "$xlevels\n",
       "$xlevels$AirIndexQuality\n",
       "[1] \"FAIR\"      \"GOOD\"      \"NA\"        \"POOR\"      \"VERY GOOD\" \"VERY POOR\"\n",
       "\n",
       "$xlevels$rainfallVolume\n",
       "[1] \"MODERATE\"        \"STRONG\"          \"TORRENTIAL RAIN\" \"VERY STRONG\"    \n",
       "[5] \"WEAK\"           \n",
       "\n",
       "$xlevels$WindIndexQuality\n",
       "[1] \"LIGHT WIND\"\n",
       "\n",
       "\n",
       "$ylevels\n",
       "[1] \"FAIR\"      \"GOOD\"      \"NA\"        \"POOR\"      \"VERY GOOD\" \"VERY POOR\"\n",
       "\n",
       "$class\n",
       "[1] \"rpart\"\n"
      ]
     },
     "metadata": {},
     "output_type": "display_data"
    }
   ],
   "source": [
    "attributes(madrid_rpart)"
   ]
  },
  {
   "cell_type": "code",
   "execution_count": 681,
   "metadata": {},
   "outputs": [
    {
     "name": "stdout",
     "output_type": "stream",
     "text": [
      "         CP nsplit rel error    xerror        xstd\n",
      "1 0.2416426      0 1.0000000 1.0000000 0.003537517\n",
      "2 0.0100000      1 0.7583574 0.7583574 0.003376175\n"
     ]
    }
   ],
   "source": [
    "print(madrid_rpart$cptable)"
   ]
  },
  {
   "cell_type": "code",
   "execution_count": 682,
   "metadata": {},
   "outputs": [
    {
     "name": "stdout",
     "output_type": "stream",
     "text": [
      "n= 96021 \n",
      "\n",
      "node), split, n, loss, yval, (yprob)\n",
      "      * denotes terminal node\n",
      "\n",
      "1) root 96021 43614 GOOD (0.34 0.55 0.0098 0.05 0.054 0.0022)  \n",
      "  2) AirIndexQuality=FAIR,POOR,VERY POOR 37579 16053 FAIR (0.57 0.29 0.0091 0.12 0.0032 0.0053) *\n",
      "  3) AirIndexQuality=GOOD,NA,VERY GOOD 58442 17022 GOOD (0.19 0.71 0.01 0.0063 0.087 0.00021) *\n"
     ]
    }
   ],
   "source": [
    "print(madrid_rpart)"
   ]
  },
  {
   "cell_type": "code",
   "execution_count": 683,
   "metadata": {},
   "outputs": [
    {
     "name": "stdout",
     "output_type": "stream",
     "text": [
      "Call:\n",
      "rpart(formula = myFormula, data = trainData, control = rpart.control(minsplit = 10))\n",
      "  n= 96021 \n",
      "\n",
      "         CP nsplit rel error    xerror        xstd\n",
      "1 0.2416426      0 1.0000000 1.0000000 0.003537517\n",
      "2 0.0100000      1 0.7583574 0.7583574 0.003376175\n",
      "\n",
      "Variable importance\n",
      "AirIndexQuality \n",
      "            100 \n",
      "\n",
      "Node number 1: 96021 observations,    complexity param=0.2416426\n",
      "  predicted class=GOOD  expected loss=0.4542131  P(node) =1\n",
      "    class counts: 32495 52407   938  4772  5198   211\n",
      "   probabilities: 0.338 0.546 0.010 0.050 0.054 0.002 \n",
      "  left son=2 (37579 obs) right son=3 (58442 obs)\n",
      "  Primary splits:\n",
      "      AirIndexQuality splits as  LRRLRL, improve=7799.7660, (0 missing)\n",
      "      rainfallVolume  splits as  RRRLL,  improve= 491.2443, (0 missing)\n",
      "\n",
      "Node number 2: 37579 observations\n",
      "  predicted class=FAIR  expected loss=0.4271801  P(node) =0.3913623\n",
      "    class counts: 21526 10987   341  4405   121   199\n",
      "   probabilities: 0.573 0.292 0.009 0.117 0.003 0.005 \n",
      "\n",
      "Node number 3: 58442 observations\n",
      "  predicted class=GOOD  expected loss=0.2912631  P(node) =0.6086377\n",
      "    class counts: 10969 41420   597   367  5077    12\n",
      "   probabilities: 0.188 0.709 0.010 0.006 0.087 0.000 \n",
      "\n"
     ]
    }
   ],
   "source": [
    "summary(madrid_rpart)"
   ]
  },
  {
   "cell_type": "code",
   "execution_count": 684,
   "metadata": {},
   "outputs": [
    {
     "data": {
      "image/png": "[encoded data removed]",
      "text/plain": [
       "Plot with title \"\""
      ]
     },
     "metadata": {},
     "output_type": "display_data"
    }
   ],
   "source": [
    "fancyRpartPlot(madrid_rpart, caption = NULL)"
   ]
  },
  {
   "cell_type": "markdown",
   "metadata": {},
   "source": [
    "#### Predicción con los datos de test"
   ]
  },
  {
   "cell_type": "markdown",
   "metadata": {},
   "source": [
    "Se añadirá una nueva columna, en esta columna se encontrará el valor predicho por el árbol de decisión"
   ]
  },
  {
   "cell_type": "code",
   "execution_count": 685,
   "metadata": {},
   "outputs": [
    {
     "data": {
      "text/html": [
       "<table>\n",
       "<thead><tr><th></th><th scope=col>date</th><th scope=col>station</th><th scope=col>CO</th><th scope=col>NO_2</th><th scope=col>O_3</th><th scope=col>PM10</th><th scope=col>SO_2</th><th scope=col>worseAirIndex</th><th scope=col>AirIndexQuality</th><th scope=col>AIQNextDay</th><th scope=col>quantity</th><th scope=col>rainfallVolume</th><th scope=col>Speed</th><th scope=col>WindIndexQuality</th><th scope=col>AIQExpected</th></tr></thead>\n",
       "<tbody>\n",
       "\t<tr><th scope=row>36101</th><td>2005-09-01</td><td>28079039  </td><td>0.7016667 </td><td>72.20583  </td><td>35.91696  </td><td>11.42000  </td><td>7.513750  </td><td>72.20583  </td><td>FAIR      </td><td>FAIR      </td><td>0.0       </td><td>WEAK      </td><td>1.1       </td><td>LIGHT WIND</td><td>FAIR      </td></tr>\n",
       "\t<tr><th scope=row>36122</th><td>2005-09-02</td><td>28079039  </td><td>0.6775000 </td><td>76.58500  </td><td>43.05773  </td><td>86.23957  </td><td>8.038750  </td><td>86.23957  </td><td>FAIR      </td><td>GOOD      </td><td>0.0       </td><td>WEAK      </td><td>0.8       </td><td>LIGHT WIND</td><td>FAIR      </td></tr>\n",
       "\t<tr><th scope=row>36150</th><td>2005-09-03</td><td>28079039  </td><td>0.5225000 </td><td>48.17250  </td><td>60.24391  </td><td>44.47045  </td><td>6.763333  </td><td>60.24391  </td><td>GOOD      </td><td>FAIR      </td><td>0.0       </td><td>WEAK      </td><td>1.7       </td><td>LIGHT WIND</td><td>GOOD      </td></tr>\n",
       "\t<tr><th scope=row>36166</th><td>2005-09-04</td><td>28079039  </td><td>0.9395833 </td><td>81.37125  </td><td>33.38217  </td><td>31.92412  </td><td>8.664167  </td><td>81.37125  </td><td>FAIR      </td><td>GOOD      </td><td>0.0       </td><td>WEAK      </td><td>2.2       </td><td>LIGHT WIND</td><td>FAIR      </td></tr>\n",
       "\t<tr><th scope=row>36187</th><td>2005-09-05</td><td>28079039  </td><td>0.6212500 </td><td>39.21750  </td><td>42.94913  </td><td>48.32500  </td><td>6.352500  </td><td>48.32500  </td><td>GOOD      </td><td>GOOD      </td><td>0.0       </td><td>WEAK      </td><td>3.3       </td><td>LIGHT WIND</td><td>GOOD      </td></tr>\n",
       "\t<tr><th scope=row>36218</th><td>2005-09-06</td><td>28079039  </td><td>0.5654167 </td><td>31.01583  </td><td>45.98130  </td><td>35.21783  </td><td>6.028750  </td><td>45.98130  </td><td>GOOD      </td><td>GOOD      </td><td>2.5       </td><td>MODERATE  </td><td>3.1       </td><td>LIGHT WIND</td><td>GOOD      </td></tr>\n",
       "</tbody>\n",
       "</table>\n"
      ],
      "text/latex": [
       "\\begin{tabular}{r|lllllllllllllll}\n",
       "  & date & station & CO & NO\\_2 & O\\_3 & PM10 & SO\\_2 & worseAirIndex & AirIndexQuality & AIQNextDay & quantity & rainfallVolume & Speed & WindIndexQuality & AIQExpected\\\\\n",
       "\\hline\n",
       "\t36101 & 2005-09-01 & 28079039   & 0.7016667  & 72.20583   & 35.91696   & 11.42000   & 7.513750   & 72.20583   & FAIR       & FAIR       & 0.0        & WEAK       & 1.1        & LIGHT WIND & FAIR      \\\\\n",
       "\t36122 & 2005-09-02 & 28079039   & 0.6775000  & 76.58500   & 43.05773   & 86.23957   & 8.038750   & 86.23957   & FAIR       & GOOD       & 0.0        & WEAK       & 0.8        & LIGHT WIND & FAIR      \\\\\n",
       "\t36150 & 2005-09-03 & 28079039   & 0.5225000  & 48.17250   & 60.24391   & 44.47045   & 6.763333   & 60.24391   & GOOD       & FAIR       & 0.0        & WEAK       & 1.7        & LIGHT WIND & GOOD      \\\\\n",
       "\t36166 & 2005-09-04 & 28079039   & 0.9395833  & 81.37125   & 33.38217   & 31.92412   & 8.664167   & 81.37125   & FAIR       & GOOD       & 0.0        & WEAK       & 2.2        & LIGHT WIND & FAIR      \\\\\n",
       "\t36187 & 2005-09-05 & 28079039   & 0.6212500  & 39.21750   & 42.94913   & 48.32500   & 6.352500   & 48.32500   & GOOD       & GOOD       & 0.0        & WEAK       & 3.3        & LIGHT WIND & GOOD      \\\\\n",
       "\t36218 & 2005-09-06 & 28079039   & 0.5654167  & 31.01583   & 45.98130   & 35.21783   & 6.028750   & 45.98130   & GOOD       & GOOD       & 2.5        & MODERATE   & 3.1        & LIGHT WIND & GOOD      \\\\\n",
       "\\end{tabular}\n"
      ],
      "text/markdown": [
       "\n",
       "| <!--/--> | date | station | CO | NO_2 | O_3 | PM10 | SO_2 | worseAirIndex | AirIndexQuality | AIQNextDay | quantity | rainfallVolume | Speed | WindIndexQuality | AIQExpected | \n",
       "|---|---|---|---|---|---|\n",
       "| 36101 | 2005-09-01 | 28079039   | 0.7016667  | 72.20583   | 35.91696   | 11.42000   | 7.513750   | 72.20583   | FAIR       | FAIR       | 0.0        | WEAK       | 1.1        | LIGHT WIND | FAIR       | \n",
       "| 36122 | 2005-09-02 | 28079039   | 0.6775000  | 76.58500   | 43.05773   | 86.23957   | 8.038750   | 86.23957   | FAIR       | GOOD       | 0.0        | WEAK       | 0.8        | LIGHT WIND | FAIR       | \n",
       "| 36150 | 2005-09-03 | 28079039   | 0.5225000  | 48.17250   | 60.24391   | 44.47045   | 6.763333   | 60.24391   | GOOD       | FAIR       | 0.0        | WEAK       | 1.7        | LIGHT WIND | GOOD       | \n",
       "| 36166 | 2005-09-04 | 28079039   | 0.9395833  | 81.37125   | 33.38217   | 31.92412   | 8.664167   | 81.37125   | FAIR       | GOOD       | 0.0        | WEAK       | 2.2        | LIGHT WIND | FAIR       | \n",
       "| 36187 | 2005-09-05 | 28079039   | 0.6212500  | 39.21750   | 42.94913   | 48.32500   | 6.352500   | 48.32500   | GOOD       | GOOD       | 0.0        | WEAK       | 3.3        | LIGHT WIND | GOOD       | \n",
       "| 36218 | 2005-09-06 | 28079039   | 0.5654167  | 31.01583   | 45.98130   | 35.21783   | 6.028750   | 45.98130   | GOOD       | GOOD       | 2.5        | MODERATE   | 3.1        | LIGHT WIND | GOOD       | \n",
       "\n",
       "\n"
      ],
      "text/plain": [
       "      date       station  CO        NO_2     O_3      PM10     SO_2    \n",
       "36101 2005-09-01 28079039 0.7016667 72.20583 35.91696 11.42000 7.513750\n",
       "36122 2005-09-02 28079039 0.6775000 76.58500 43.05773 86.23957 8.038750\n",
       "36150 2005-09-03 28079039 0.5225000 48.17250 60.24391 44.47045 6.763333\n",
       "36166 2005-09-04 28079039 0.9395833 81.37125 33.38217 31.92412 8.664167\n",
       "36187 2005-09-05 28079039 0.6212500 39.21750 42.94913 48.32500 6.352500\n",
       "36218 2005-09-06 28079039 0.5654167 31.01583 45.98130 35.21783 6.028750\n",
       "      worseAirIndex AirIndexQuality AIQNextDay quantity rainfallVolume Speed\n",
       "36101 72.20583      FAIR            FAIR       0.0      WEAK           1.1  \n",
       "36122 86.23957      FAIR            GOOD       0.0      WEAK           0.8  \n",
       "36150 60.24391      GOOD            FAIR       0.0      WEAK           1.7  \n",
       "36166 81.37125      FAIR            GOOD       0.0      WEAK           2.2  \n",
       "36187 48.32500      GOOD            GOOD       0.0      WEAK           3.3  \n",
       "36218 45.98130      GOOD            GOOD       2.5      MODERATE       3.1  \n",
       "      WindIndexQuality AIQExpected\n",
       "36101 LIGHT WIND       FAIR       \n",
       "36122 LIGHT WIND       FAIR       \n",
       "36150 LIGHT WIND       GOOD       \n",
       "36166 LIGHT WIND       FAIR       \n",
       "36187 LIGHT WIND       GOOD       \n",
       "36218 LIGHT WIND       GOOD       "
      ]
     },
     "metadata": {},
     "output_type": "display_data"
    }
   ],
   "source": [
    "testData$AIQExpected <- predict(madrid_rpart, newdata = testData, type = \"class\")\n",
    "head(testData)"
   ]
  },
  {
   "cell_type": "code",
   "execution_count": 686,
   "metadata": {},
   "outputs": [
    {
     "data": {
      "text/plain": [
       "           \n",
       "             FAIR  GOOD    NA  POOR VERY GOOD VERY POOR\n",
       "  FAIR       6431  3544    69   577       123        10\n",
       "  GOOD       3660 18814   522    64      7329        10\n",
       "  NA            0     0     0     0         0         0\n",
       "  POOR          0     0     0     0         0         0\n",
       "  VERY GOOD     0     0     0     0         0         0\n",
       "  VERY POOR     0     0     0     0         0         0"
      ]
     },
     "metadata": {},
     "output_type": "display_data"
    }
   ],
   "source": [
    "predictTable<- table(testData$AIQExpected,testData$AIQNextDay)\n",
    "predictTable"
   ]
  },
  {
   "cell_type": "code",
   "execution_count": 687,
   "metadata": {},
   "outputs": [
    {
     "data": {
      "text/html": [
       "0.613442519378903"
      ],
      "text/latex": [
       "0.613442519378903"
      ],
      "text/markdown": [
       "0.613442519378903"
      ],
      "text/plain": [
       "[1] 0.6134425"
      ]
     },
     "metadata": {},
     "output_type": "display_data"
    }
   ],
   "source": [
    "accuracy <- sum(diag(predictTable))/sum(predictTable)\n",
    "accuracy"
   ]
  },
  {
   "cell_type": "markdown",
   "metadata": {},
   "source": [
    "Observamos que obtenemos un nivel de confianza del 61 %, este es muy bajo por lo que se probará a utilizar otro modelo predictivo"
   ]
  },
  {
   "cell_type": "markdown",
   "metadata": {},
   "source": [
    "### Regresión"
   ]
  },
  {
   "cell_type": "code",
   "execution_count": null,
   "metadata": {},
   "outputs": [],
   "source": []
  },
  {
   "cell_type": "code",
   "execution_count": null,
   "metadata": {},
   "outputs": [],
   "source": []
  }
 ],
 "metadata": {
  "kernelspec": {
   "display_name": "R",
   "language": "R",
   "name": "ir"
  },
  "language_info": {
   "codemirror_mode": "r",
   "file_extension": ".r",
   "mimetype": "text/x-r-source",
   "name": "R",
   "pygments_lexer": "r",
   "version": "3.5.1"
  }
 },
 "nbformat": 4,
 "nbformat_minor": 2
}

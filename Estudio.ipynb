{
 "cells": [
  {
   "cell_type": "markdown",
   "metadata": {},
   "source": [
    "## Instalamos Paquetes"
   ]
  },
  {
   "cell_type": "code",
   "execution_count": 1,
   "metadata": {
    "scrolled": true
   },
   "outputs": [
    {
     "name": "stderr",
     "output_type": "stream",
     "text": [
      "also installing the dependencies ‘curl’, ‘httr’, ‘rvest’\n",
      "\n",
      "Warning message in install.packages(\"tidyverse\", repos = \"http://cran.us.r-project.org\"):\n",
      "“installation of package ‘curl’ had non-zero exit status”Warning message in install.packages(\"tidyverse\", repos = \"http://cran.us.r-project.org\"):\n",
      "“installation of package ‘httr’ had non-zero exit status”Warning message in install.packages(\"tidyverse\", repos = \"http://cran.us.r-project.org\"):\n",
      "“installation of package ‘rvest’ had non-zero exit status”Warning message in install.packages(\"tidyverse\", repos = \"http://cran.us.r-project.org\"):\n",
      "“installation of package ‘tidyverse’ had non-zero exit status”Updating HTML index of packages in '.Library'\n",
      "Making 'packages.html' ... done\n",
      "Loading required package: zoo\n",
      "\n",
      "Attaching package: ‘zoo’\n",
      "\n",
      "The following objects are masked from ‘package:base’:\n",
      "\n",
      "    as.Date, as.Date.numeric\n",
      "\n",
      "\n",
      "Attaching package: ‘xts’\n",
      "\n",
      "The following objects are masked from ‘package:data.table’:\n",
      "\n",
      "    first, last\n",
      "\n",
      "\n",
      "Attaching package: ‘dplyr’\n",
      "\n",
      "The following objects are masked from ‘package:xts’:\n",
      "\n",
      "    first, last\n",
      "\n",
      "The following objects are masked from ‘package:data.table’:\n",
      "\n",
      "    between, first, last\n",
      "\n",
      "The following objects are masked from ‘package:stats’:\n",
      "\n",
      "    filter, lag\n",
      "\n",
      "The following objects are masked from ‘package:base’:\n",
      "\n",
      "    intersect, setdiff, setequal, union\n",
      "\n"
     ]
    }
   ],
   "source": [
    "#Limpiamos memoria\n",
    "rm(list=ls());\n",
    "is.installed <- function(mypkg) {\n",
    "  is.element(mypkg, installed.packages()[,1]) \n",
    "}\n",
    "\n",
    "#Instalamos paquetes para agrupar csv\n",
    "if (!is.installed(\"data.table\")){\n",
    "  install.packages(\"data.table\",repos = \"http://cran.us.r-project.org\")\n",
    "};\n",
    "#Intslamos paquete para manipular ts\n",
    "if (!is.installed(\"xts\")){\n",
    "  install.packages(\"xts\",repos = \"http://cran.us.r-project.org\")\n",
    "};\n",
    "#Instalamos paquete para agrupar datos\n",
    "if (!is.installed(\"dplyr\")){\n",
    "  install.packages(\"dplyr\",repos = \"http://cran.us.r-project.org\")\n",
    "};\n",
    "\n",
    "# Instalamos paquete para leer exccels\n",
    "if (!is.installed(\"readxl\")){\n",
    "  install.packages(\"readxl\",repos = \"http://cran.us.r-project.org\")\n",
    "};\n",
    "\n",
    "\n",
    "# Cargamos las librerias\n",
    "library(data.table)\n",
    "library(xts)\n",
    "library(dplyr)    # loads %>%\n",
    "library(readxl)"
   ]
  },
  {
   "cell_type": "markdown",
   "metadata": {},
   "source": [
    "## Carga Datos Calidad del aire 2001-2018"
   ]
  },
  {
   "cell_type": "code",
   "execution_count": 2,
   "metadata": {
    "collapsed": true
   },
   "outputs": [],
   "source": [
    "#Cargamos los datos de los anos en un dataset (utilziamos read.csv ya que el separador es,)\n",
    "data2001<- read.csv(file = \"data/madrid_2001.csv\",header = TRUE);\n",
    "data2002<- read.csv(file = \"data/madrid_2002.csv\",header = TRUE);\n",
    "data2003<- read.csv(file = \"data/madrid_2003.csv\",header = TRUE);\n",
    "data2004<- read.csv(file = \"data/madrid_2004.csv\",header = TRUE);\n",
    "data2005<- read.csv(file = \"data/madrid_2005.csv\",header = TRUE);\n",
    "data2006<- read.csv(file = \"data/madrid_2006.csv\",header = TRUE);\n",
    "data2007<- read.csv(file = \"data/madrid_2007.csv\",header = TRUE);\n",
    "data2008<- read.csv(file = \"data/madrid_2008.csv\",header = TRUE);\n",
    "data2009<- read.csv(file = \"data/madrid_2009.csv\",header = TRUE);\n",
    "data2010<- read.csv(file = \"data/madrid_2010.csv\",header = TRUE);\n",
    "data2011<- read.csv(file = \"data/madrid_2011.csv\",header = TRUE);\n",
    "data2012<- read.csv(file = \"data/madrid_2012.csv\",header = TRUE);\n",
    "data2013<- read.csv(file = \"data/madrid_2013.csv\",header = TRUE);\n",
    "data2014<- read.csv(file = \"data/madrid_2014.csv\",header = TRUE);\n",
    "data2015<- read.csv(file = \"data/madrid_2015.csv\",header = TRUE);\n",
    "data2016<- read.csv(file = \"data/madrid_2016.csv\",header = TRUE);\n",
    "data2017<- read.csv(file = \"data/madrid_2017.csv\",header = TRUE);\n",
    "data2018<- read.csv(file = \"data/madrid_2018.csv\",header = TRUE);"
   ]
  },
  {
   "cell_type": "code",
   "execution_count": 3,
   "metadata": {
    "collapsed": true
   },
   "outputs": [],
   "source": [
    "#unimos los datos en una lista para luego introducirla en un dataset\n",
    "data <- data.table::rbindlist(list(data2001,data2002,data2003,data2004,data2005,data2006,data2007,data2008,data2009,data2010,data2011,data2012,\n",
    "data2013,data2014,data2015,data2016,data2017,data2018), fill = TRUE);\n",
    "datasetMadrid <- as.data.frame(data); "
   ]
  },
  {
   "cell_type": "code",
   "execution_count": 4,
   "metadata": {},
   "outputs": [
    {
     "data": {
      "text/html": [
       "<table>\n",
       "<thead><tr><th scope=col>date</th><th scope=col>BEN</th><th scope=col>CO</th><th scope=col>EBE</th><th scope=col>MXY</th><th scope=col>NMHC</th><th scope=col>NO_2</th><th scope=col>NOx</th><th scope=col>OXY</th><th scope=col>O_3</th><th scope=col>PM10</th><th scope=col>PXY</th><th scope=col>SO_2</th><th scope=col>TCH</th><th scope=col>TOL</th><th scope=col>station</th><th scope=col>PM25</th><th scope=col>NO</th><th scope=col>CH4</th></tr></thead>\n",
       "<tbody>\n",
       "\t<tr><td>2001-08-01 01:00:00</td><td>  NA               </td><td>0.37               </td><td>  NA               </td><td>  NA               </td><td>  NA               </td><td>58.40              </td><td> 87.15             </td><td>  NA               </td><td>34.53              </td><td>105.00             </td><td>  NA               </td><td>6.34               </td><td>  NA               </td><td>   NA              </td><td>28079001           </td><td>NA                 </td><td>NA                 </td><td>NA                 </td></tr>\n",
       "\t<tr><td>2001-08-01 01:00:00</td><td>1.50               </td><td>0.34               </td><td>1.49               </td><td>4.10               </td><td>0.07               </td><td>56.25              </td><td> 75.17             </td><td>2.11               </td><td>42.16              </td><td>100.60             </td><td>1.73               </td><td>8.11               </td><td>1.24               </td><td>10.82              </td><td>28079035           </td><td>NA                 </td><td>NA                 </td><td>NA                 </td></tr>\n",
       "\t<tr><td>2001-08-01 01:00:00</td><td>  NA               </td><td>0.28               </td><td>  NA               </td><td>  NA               </td><td>  NA               </td><td>50.66              </td><td> 61.38             </td><td>  NA               </td><td>46.31              </td><td>100.10             </td><td>  NA               </td><td>7.85               </td><td>  NA               </td><td>   NA              </td><td>28079003           </td><td>NA                 </td><td>NA                 </td><td>NA                 </td></tr>\n",
       "\t<tr><td>2001-08-01 01:00:00</td><td>  NA               </td><td>0.47               </td><td>  NA               </td><td>  NA               </td><td>  NA               </td><td>69.79              </td><td> 73.45             </td><td>  NA               </td><td>40.65              </td><td> 69.78             </td><td>  NA               </td><td>6.46               </td><td>  NA               </td><td>   NA              </td><td>28079004           </td><td>NA                 </td><td>NA                 </td><td>NA                 </td></tr>\n",
       "\t<tr><td>2001-08-01 01:00:00</td><td>  NA               </td><td>0.39               </td><td>  NA               </td><td>  NA               </td><td>  NA               </td><td>22.83              </td><td> 24.80             </td><td>  NA               </td><td>66.31              </td><td> 75.18             </td><td>  NA               </td><td>8.80               </td><td>  NA               </td><td>   NA              </td><td>28079039           </td><td>NA                 </td><td>NA                 </td><td>NA                 </td></tr>\n",
       "\t<tr><td>2001-08-01 01:00:00</td><td>2.11               </td><td>0.63               </td><td>2.48               </td><td>5.94               </td><td>0.05               </td><td>66.26              </td><td>118.10             </td><td>3.15               </td><td>33.50              </td><td>122.70             </td><td>2.29               </td><td>6.36               </td><td>1.23               </td><td>13.28              </td><td>28079006           </td><td>NA                 </td><td>NA                 </td><td>NA                 </td></tr>\n",
       "</tbody>\n",
       "</table>\n"
      ],
      "text/latex": [
       "\\begin{tabular}{r|lllllllllllllllllll}\n",
       " date & BEN & CO & EBE & MXY & NMHC & NO\\_2 & NOx & OXY & O\\_3 & PM10 & PXY & SO\\_2 & TCH & TOL & station & PM25 & NO & CH4\\\\\n",
       "\\hline\n",
       "\t 2001-08-01 01:00:00 &   NA                & 0.37                &   NA                &   NA                &   NA                & 58.40               &  87.15              &   NA                & 34.53               & 105.00              &   NA                & 6.34                &   NA                &    NA               & 28079001            & NA                  & NA                  & NA                 \\\\\n",
       "\t 2001-08-01 01:00:00 & 1.50                & 0.34                & 1.49                & 4.10                & 0.07                & 56.25               &  75.17              & 2.11                & 42.16               & 100.60              & 1.73                & 8.11                & 1.24                & 10.82               & 28079035            & NA                  & NA                  & NA                 \\\\\n",
       "\t 2001-08-01 01:00:00 &   NA                & 0.28                &   NA                &   NA                &   NA                & 50.66               &  61.38              &   NA                & 46.31               & 100.10              &   NA                & 7.85                &   NA                &    NA               & 28079003            & NA                  & NA                  & NA                 \\\\\n",
       "\t 2001-08-01 01:00:00 &   NA                & 0.47                &   NA                &   NA                &   NA                & 69.79               &  73.45              &   NA                & 40.65               &  69.78              &   NA                & 6.46                &   NA                &    NA               & 28079004            & NA                  & NA                  & NA                 \\\\\n",
       "\t 2001-08-01 01:00:00 &   NA                & 0.39                &   NA                &   NA                &   NA                & 22.83               &  24.80              &   NA                & 66.31               &  75.18              &   NA                & 8.80                &   NA                &    NA               & 28079039            & NA                  & NA                  & NA                 \\\\\n",
       "\t 2001-08-01 01:00:00 & 2.11                & 0.63                & 2.48                & 5.94                & 0.05                & 66.26               & 118.10              & 3.15                & 33.50               & 122.70              & 2.29                & 6.36                & 1.23                & 13.28               & 28079006            & NA                  & NA                  & NA                 \\\\\n",
       "\\end{tabular}\n"
      ],
      "text/markdown": [
       "\n",
       "date | BEN | CO | EBE | MXY | NMHC | NO_2 | NOx | OXY | O_3 | PM10 | PXY | SO_2 | TCH | TOL | station | PM25 | NO | CH4 | \n",
       "|---|---|---|---|---|---|\n",
       "| 2001-08-01 01:00:00 |   NA                | 0.37                |   NA                |   NA                |   NA                | 58.40               |  87.15              |   NA                | 34.53               | 105.00              |   NA                | 6.34                |   NA                |    NA               | 28079001            | NA                  | NA                  | NA                  | \n",
       "| 2001-08-01 01:00:00 | 1.50                | 0.34                | 1.49                | 4.10                | 0.07                | 56.25               |  75.17              | 2.11                | 42.16               | 100.60              | 1.73                | 8.11                | 1.24                | 10.82               | 28079035            | NA                  | NA                  | NA                  | \n",
       "| 2001-08-01 01:00:00 |   NA                | 0.28                |   NA                |   NA                |   NA                | 50.66               |  61.38              |   NA                | 46.31               | 100.10              |   NA                | 7.85                |   NA                |    NA               | 28079003            | NA                  | NA                  | NA                  | \n",
       "| 2001-08-01 01:00:00 |   NA                | 0.47                |   NA                |   NA                |   NA                | 69.79               |  73.45              |   NA                | 40.65               |  69.78              |   NA                | 6.46                |   NA                |    NA               | 28079004            | NA                  | NA                  | NA                  | \n",
       "| 2001-08-01 01:00:00 |   NA                | 0.39                |   NA                |   NA                |   NA                | 22.83               |  24.80              |   NA                | 66.31               |  75.18              |   NA                | 8.80                |   NA                |    NA               | 28079039            | NA                  | NA                  | NA                  | \n",
       "| 2001-08-01 01:00:00 | 2.11                | 0.63                | 2.48                | 5.94                | 0.05                | 66.26               | 118.10              | 3.15                | 33.50               | 122.70              | 2.29                | 6.36                | 1.23                | 13.28               | 28079006            | NA                  | NA                  | NA                  | \n",
       "\n",
       "\n"
      ],
      "text/plain": [
       "  date                BEN  CO   EBE  MXY  NMHC NO_2  NOx    OXY  O_3   PM10  \n",
       "1 2001-08-01 01:00:00   NA 0.37   NA   NA   NA 58.40  87.15   NA 34.53 105.00\n",
       "2 2001-08-01 01:00:00 1.50 0.34 1.49 4.10 0.07 56.25  75.17 2.11 42.16 100.60\n",
       "3 2001-08-01 01:00:00   NA 0.28   NA   NA   NA 50.66  61.38   NA 46.31 100.10\n",
       "4 2001-08-01 01:00:00   NA 0.47   NA   NA   NA 69.79  73.45   NA 40.65  69.78\n",
       "5 2001-08-01 01:00:00   NA 0.39   NA   NA   NA 22.83  24.80   NA 66.31  75.18\n",
       "6 2001-08-01 01:00:00 2.11 0.63 2.48 5.94 0.05 66.26 118.10 3.15 33.50 122.70\n",
       "  PXY  SO_2 TCH  TOL   station  PM25 NO CH4\n",
       "1   NA 6.34   NA    NA 28079001 NA   NA NA \n",
       "2 1.73 8.11 1.24 10.82 28079035 NA   NA NA \n",
       "3   NA 7.85   NA    NA 28079003 NA   NA NA \n",
       "4   NA 6.46   NA    NA 28079004 NA   NA NA \n",
       "5   NA 8.80   NA    NA 28079039 NA   NA NA \n",
       "6 2.29 6.36 1.23 13.28 28079006 NA   NA NA "
      ]
     },
     "metadata": {},
     "output_type": "display_data"
    }
   ],
   "source": [
    "##observamos que todos los datos se han unido, aplicando head y tail al dataset para ver cuando empiezan y acaban fechas\n",
    "head(datasetMadrid)"
   ]
  },
  {
   "cell_type": "code",
   "execution_count": 5,
   "metadata": {},
   "outputs": [
    {
     "data": {
      "text/html": [
       "<table>\n",
       "<thead><tr><th></th><th scope=col>date</th><th scope=col>BEN</th><th scope=col>CO</th><th scope=col>EBE</th><th scope=col>MXY</th><th scope=col>NMHC</th><th scope=col>NO_2</th><th scope=col>NOx</th><th scope=col>OXY</th><th scope=col>O_3</th><th scope=col>PM10</th><th scope=col>PXY</th><th scope=col>SO_2</th><th scope=col>TCH</th><th scope=col>TOL</th><th scope=col>station</th><th scope=col>PM25</th><th scope=col>NO</th><th scope=col>CH4</th></tr></thead>\n",
       "<tbody>\n",
       "\t<tr><th scope=row>3808219</th><td>2018-02-01 00:00:00</td><td>1.3                </td><td> NA                </td><td>1.2                </td><td>NA                 </td><td>0.13               </td><td> 94                </td><td>190                </td><td>NA                 </td><td>NA                 </td><td>35                 </td><td>NA                 </td><td>NA                 </td><td>1.68               </td><td>5.2                </td><td>28079055           </td><td>NA                 </td><td> 63                </td><td>1.55               </td></tr>\n",
       "\t<tr><th scope=row>3808220</th><td>2018-02-01 00:00:00</td><td> NA                </td><td>0.5                </td><td> NA                </td><td>NA                 </td><td>  NA               </td><td> 91                </td><td>192                </td><td>NA                 </td><td> 1                 </td><td>35                 </td><td>NA                 </td><td>NA                 </td><td>  NA               </td><td> NA                </td><td>28079056           </td><td>22                 </td><td> 66                </td><td>  NA               </td></tr>\n",
       "\t<tr><th scope=row>3808221</th><td>2018-02-01 00:00:00</td><td> NA                </td><td>0.7                </td><td> NA                </td><td>NA                 </td><td>  NA               </td><td>107                </td><td>241                </td><td>NA                 </td><td>NA                 </td><td>29                 </td><td>NA                 </td><td>15                 </td><td>  NA               </td><td> NA                </td><td>28079057           </td><td>NA                 </td><td> 87                </td><td>  NA               </td></tr>\n",
       "\t<tr><th scope=row>3808222</th><td>2018-02-01 00:00:00</td><td> NA                </td><td> NA                </td><td> NA                </td><td>NA                 </td><td>  NA               </td><td> 48                </td><td> 91                </td><td>NA                 </td><td> 2                 </td><td>NA                 </td><td>NA                 </td><td>NA                 </td><td>  NA               </td><td> NA                </td><td>28079058           </td><td>NA                 </td><td> 28                </td><td>  NA               </td></tr>\n",
       "\t<tr><th scope=row>3808223</th><td>2018-02-01 00:00:00</td><td> NA                </td><td> NA                </td><td> NA                </td><td>NA                 </td><td>  NA               </td><td>103                </td><td>320                </td><td>NA                 </td><td> 2                 </td><td>NA                 </td><td>NA                 </td><td>NA                 </td><td>  NA               </td><td> NA                </td><td>28079059           </td><td>NA                 </td><td>141                </td><td>  NA               </td></tr>\n",
       "\t<tr><th scope=row>3808224</th><td>2018-02-01 00:00:00</td><td> NA                </td><td> NA                </td><td> NA                </td><td>NA                 </td><td>  NA               </td><td> 96                </td><td>202                </td><td>NA                 </td><td> 3                 </td><td>26                 </td><td>NA                 </td><td>NA                 </td><td>  NA               </td><td> NA                </td><td>28079060           </td><td>NA                 </td><td> 69                </td><td>  NA               </td></tr>\n",
       "</tbody>\n",
       "</table>\n"
      ],
      "text/latex": [
       "\\begin{tabular}{r|lllllllllllllllllll}\n",
       "  & date & BEN & CO & EBE & MXY & NMHC & NO\\_2 & NOx & OXY & O\\_3 & PM10 & PXY & SO\\_2 & TCH & TOL & station & PM25 & NO & CH4\\\\\n",
       "\\hline\n",
       "\t3808219 & 2018-02-01 00:00:00 & 1.3                 &  NA                 & 1.2                 & NA                  & 0.13                &  94                 & 190                 & NA                  & NA                  & 35                  & NA                  & NA                  & 1.68                & 5.2                 & 28079055            & NA                  &  63                 & 1.55               \\\\\n",
       "\t3808220 & 2018-02-01 00:00:00 &  NA                 & 0.5                 &  NA                 & NA                  &   NA                &  91                 & 192                 & NA                  &  1                  & 35                  & NA                  & NA                  &   NA                &  NA                 & 28079056            & 22                  &  66                 &   NA               \\\\\n",
       "\t3808221 & 2018-02-01 00:00:00 &  NA                 & 0.7                 &  NA                 & NA                  &   NA                & 107                 & 241                 & NA                  & NA                  & 29                  & NA                  & 15                  &   NA                &  NA                 & 28079057            & NA                  &  87                 &   NA               \\\\\n",
       "\t3808222 & 2018-02-01 00:00:00 &  NA                 &  NA                 &  NA                 & NA                  &   NA                &  48                 &  91                 & NA                  &  2                  & NA                  & NA                  & NA                  &   NA                &  NA                 & 28079058            & NA                  &  28                 &   NA               \\\\\n",
       "\t3808223 & 2018-02-01 00:00:00 &  NA                 &  NA                 &  NA                 & NA                  &   NA                & 103                 & 320                 & NA                  &  2                  & NA                  & NA                  & NA                  &   NA                &  NA                 & 28079059            & NA                  & 141                 &   NA               \\\\\n",
       "\t3808224 & 2018-02-01 00:00:00 &  NA                 &  NA                 &  NA                 & NA                  &   NA                &  96                 & 202                 & NA                  &  3                  & 26                  & NA                  & NA                  &   NA                &  NA                 & 28079060            & NA                  &  69                 &   NA               \\\\\n",
       "\\end{tabular}\n"
      ],
      "text/markdown": [
       "\n",
       "| <!--/--> | date | BEN | CO | EBE | MXY | NMHC | NO_2 | NOx | OXY | O_3 | PM10 | PXY | SO_2 | TCH | TOL | station | PM25 | NO | CH4 | \n",
       "|---|---|---|---|---|---|\n",
       "| 3808219 | 2018-02-01 00:00:00 | 1.3                 |  NA                 | 1.2                 | NA                  | 0.13                |  94                 | 190                 | NA                  | NA                  | 35                  | NA                  | NA                  | 1.68                | 5.2                 | 28079055            | NA                  |  63                 | 1.55                | \n",
       "| 3808220 | 2018-02-01 00:00:00 |  NA                 | 0.5                 |  NA                 | NA                  |   NA                |  91                 | 192                 | NA                  |  1                  | 35                  | NA                  | NA                  |   NA                |  NA                 | 28079056            | 22                  |  66                 |   NA                | \n",
       "| 3808221 | 2018-02-01 00:00:00 |  NA                 | 0.7                 |  NA                 | NA                  |   NA                | 107                 | 241                 | NA                  | NA                  | 29                  | NA                  | 15                  |   NA                |  NA                 | 28079057            | NA                  |  87                 |   NA                | \n",
       "| 3808222 | 2018-02-01 00:00:00 |  NA                 |  NA                 |  NA                 | NA                  |   NA                |  48                 |  91                 | NA                  |  2                  | NA                  | NA                  | NA                  |   NA                |  NA                 | 28079058            | NA                  |  28                 |   NA                | \n",
       "| 3808223 | 2018-02-01 00:00:00 |  NA                 |  NA                 |  NA                 | NA                  |   NA                | 103                 | 320                 | NA                  |  2                  | NA                  | NA                  | NA                  |   NA                |  NA                 | 28079059            | NA                  | 141                 |   NA                | \n",
       "| 3808224 | 2018-02-01 00:00:00 |  NA                 |  NA                 |  NA                 | NA                  |   NA                |  96                 | 202                 | NA                  |  3                  | 26                  | NA                  | NA                  |   NA                |  NA                 | 28079060            | NA                  |  69                 |   NA                | \n",
       "\n",
       "\n"
      ],
      "text/plain": [
       "        date                BEN CO  EBE MXY NMHC NO_2 NOx OXY O_3 PM10 PXY SO_2\n",
       "3808219 2018-02-01 00:00:00 1.3  NA 1.2 NA  0.13  94  190 NA  NA  35   NA  NA  \n",
       "3808220 2018-02-01 00:00:00  NA 0.5  NA NA    NA  91  192 NA   1  35   NA  NA  \n",
       "3808221 2018-02-01 00:00:00  NA 0.7  NA NA    NA 107  241 NA  NA  29   NA  15  \n",
       "3808222 2018-02-01 00:00:00  NA  NA  NA NA    NA  48   91 NA   2  NA   NA  NA  \n",
       "3808223 2018-02-01 00:00:00  NA  NA  NA NA    NA 103  320 NA   2  NA   NA  NA  \n",
       "3808224 2018-02-01 00:00:00  NA  NA  NA NA    NA  96  202 NA   3  26   NA  NA  \n",
       "        TCH  TOL station  PM25 NO  CH4 \n",
       "3808219 1.68 5.2 28079055 NA    63 1.55\n",
       "3808220   NA  NA 28079056 22    66   NA\n",
       "3808221   NA  NA 28079057 NA    87   NA\n",
       "3808222   NA  NA 28079058 NA    28   NA\n",
       "3808223   NA  NA 28079059 NA   141   NA\n",
       "3808224   NA  NA 28079060 NA    69   NA"
      ]
     },
     "metadata": {},
     "output_type": "display_data"
    }
   ],
   "source": [
    "tail(datasetMadrid)"
   ]
  },
  {
   "cell_type": "markdown",
   "metadata": {},
   "source": [
    "## Carga Datos Precipitaciones 2001-2018"
   ]
  },
  {
   "cell_type": "code",
   "execution_count": 6,
   "metadata": {
    "collapsed": true
   },
   "outputs": [],
   "source": [
    "#Cargamos los datos de las precipitaciones\n",
    "rainfall_2001<- readxl::read_xlsx(\"data/rainfall_2001.xlsx\",col_names = TRUE);\n",
    "rainfall_2002<- readxl::read_xlsx(\"data/rainfall_2002.xlsx\",col_names = TRUE);\n",
    "rainfall_2003<- readxl::read_xlsx(\"data/rainfall_2003.xlsx\",col_names = TRUE);\n",
    "rainfall_2004<- readxl::read_xlsx(\"data/rainfall_2004.xlsx\",col_names = TRUE);\n",
    "rainfall_2005<- readxl::read_xlsx(\"data/rainfall_2005.xlsx\",col_names = TRUE);\n",
    "rainfall_2006<- readxl::read_xlsx(\"data/rainfall_2006.xlsx\",col_names = TRUE);\n",
    "rainfall_2007<- readxl::read_xlsx(\"data/rainfall_2007.xlsx\",col_names = TRUE);\n",
    "rainfall_2008<- readxl::read_xlsx(\"data/rainfall_2008.xlsx\",col_names = TRUE);\n",
    "rainfall_2009<- readxl::read_xlsx(\"data/rainfall_2009.xlsx\",col_names = TRUE);\n",
    "rainfall_2010<- readxl::read_xlsx(\"data/rainfall_2010.xlsx\",col_names = TRUE);\n",
    "rainfall_2011<- readxl::read_xlsx(\"data/rainfall_2011.xlsx\",col_names = TRUE);\n",
    "rainfall_2012<- readxl::read_xlsx(\"data/rainfall_2012.xlsx\",col_names = TRUE);\n",
    "rainfall_2013<- readxl::read_xlsx(\"data/rainfall_2013.xlsx\",col_names = TRUE);\n",
    "rainfall_2014<- readxl::read_xlsx(\"data/rainfall_2014.xlsx\",col_names = TRUE);\n",
    "rainfall_2015<- readxl::read_xlsx(\"data/rainfall_2015.xlsx\",col_names = TRUE);\n",
    "rainfall_2016<- readxl::read_xlsx(\"data/rainfall_2016.xlsx\",col_names = TRUE);\n",
    "rainfall_2017<- readxl::read_xlsx(\"data/rainfall_2017.xlsx\",col_names = TRUE);\n",
    "rainfall_2018<- readxl::read_xlsx(\"data/rainfall_2018.xlsx\",col_names = TRUE);"
   ]
  },
  {
   "cell_type": "code",
   "execution_count": 7,
   "metadata": {
    "collapsed": true
   },
   "outputs": [],
   "source": [
    "rainfall <- data.table::rbindlist(list(rainfall_2001,rainfall_2002,rainfall_2003,rainfall_2004,\n",
    "              rainfall_2005,rainfall_2006,rainfall_2007,rainfall_2008,rainfall_2009,rainfall_2010,\n",
    "              rainfall_2011,rainfall_2012,rainfall_2013,rainfall_2014,rainfall_2015,rainfall_2016,\n",
    "rainfall_2017,rainfall_2018), fill = TRUE)\n",
    "datasetRainfall <- as.data.frame(rainfall);\n",
    "data.table::setnames(datasetRainfall, \"FECHA\", \"date\")\n",
    "data.table::setnames(datasetRainfall, \"Precipitación: l/m2\", \"l/m2\")"
   ]
  },
  {
   "cell_type": "code",
   "execution_count": 8,
   "metadata": {},
   "outputs": [
    {
     "data": {
      "text/html": [
       "<table>\n",
       "<thead><tr><th scope=col>date</th><th scope=col>l/m2</th></tr></thead>\n",
       "<tbody>\n",
       "\t<tr><td>2001-01-01</td><td>4.3       </td></tr>\n",
       "\t<tr><td>2001-01-02</td><td>0.1       </td></tr>\n",
       "\t<tr><td>2001-01-03</td><td>2.2       </td></tr>\n",
       "\t<tr><td>2001-01-04</td><td>2.4       </td></tr>\n",
       "\t<tr><td>2001-01-05</td><td>13.3      </td></tr>\n",
       "\t<tr><td>2001-01-06</td><td>0.0       </td></tr>\n",
       "</tbody>\n",
       "</table>\n"
      ],
      "text/latex": [
       "\\begin{tabular}{r|ll}\n",
       " date & l/m2\\\\\n",
       "\\hline\n",
       "\t 2001-01-01 & 4.3       \\\\\n",
       "\t 2001-01-02 & 0.1       \\\\\n",
       "\t 2001-01-03 & 2.2       \\\\\n",
       "\t 2001-01-04 & 2.4       \\\\\n",
       "\t 2001-01-05 & 13.3      \\\\\n",
       "\t 2001-01-06 & 0.0       \\\\\n",
       "\\end{tabular}\n"
      ],
      "text/markdown": [
       "\n",
       "date | l/m2 | \n",
       "|---|---|---|---|---|---|\n",
       "| 2001-01-01 | 4.3        | \n",
       "| 2001-01-02 | 0.1        | \n",
       "| 2001-01-03 | 2.2        | \n",
       "| 2001-01-04 | 2.4        | \n",
       "| 2001-01-05 | 13.3       | \n",
       "| 2001-01-06 | 0.0        | \n",
       "\n",
       "\n"
      ],
      "text/plain": [
       "  date       l/m2\n",
       "1 2001-01-01 4.3 \n",
       "2 2001-01-02 0.1 \n",
       "3 2001-01-03 2.2 \n",
       "4 2001-01-04 2.4 \n",
       "5 2001-01-05 13.3\n",
       "6 2001-01-06 0.0 "
      ]
     },
     "metadata": {},
     "output_type": "display_data"
    }
   ],
   "source": [
    "##observamos que todos los datos se han unido, aplicando head y tail al dataset para ver cuando empiezan y acaban fechas\n",
    "head(datasetRainfall)"
   ]
  },
  {
   "cell_type": "code",
   "execution_count": 9,
   "metadata": {},
   "outputs": [
    {
     "data": {
      "text/html": [
       "<table>\n",
       "<thead><tr><th></th><th scope=col>date</th><th scope=col>l/m2</th></tr></thead>\n",
       "<tbody>\n",
       "\t<tr><th scope=row>5933</th><td>2018-12-26</td><td>0         </td></tr>\n",
       "\t<tr><th scope=row>5934</th><td>2018-12-27</td><td>0         </td></tr>\n",
       "\t<tr><th scope=row>5935</th><td>2018-12-28</td><td>0         </td></tr>\n",
       "\t<tr><th scope=row>5936</th><td>2018-12-29</td><td>0         </td></tr>\n",
       "\t<tr><th scope=row>5937</th><td>2018-12-30</td><td>0         </td></tr>\n",
       "\t<tr><th scope=row>5938</th><td>2018-12-31</td><td>0         </td></tr>\n",
       "</tbody>\n",
       "</table>\n"
      ],
      "text/latex": [
       "\\begin{tabular}{r|ll}\n",
       "  & date & l/m2\\\\\n",
       "\\hline\n",
       "\t5933 & 2018-12-26 & 0         \\\\\n",
       "\t5934 & 2018-12-27 & 0         \\\\\n",
       "\t5935 & 2018-12-28 & 0         \\\\\n",
       "\t5936 & 2018-12-29 & 0         \\\\\n",
       "\t5937 & 2018-12-30 & 0         \\\\\n",
       "\t5938 & 2018-12-31 & 0         \\\\\n",
       "\\end{tabular}\n"
      ],
      "text/markdown": [
       "\n",
       "| <!--/--> | date | l/m2 | \n",
       "|---|---|---|---|---|---|\n",
       "| 5933 | 2018-12-26 | 0          | \n",
       "| 5934 | 2018-12-27 | 0          | \n",
       "| 5935 | 2018-12-28 | 0          | \n",
       "| 5936 | 2018-12-29 | 0          | \n",
       "| 5937 | 2018-12-30 | 0          | \n",
       "| 5938 | 2018-12-31 | 0          | \n",
       "\n",
       "\n"
      ],
      "text/plain": [
       "     date       l/m2\n",
       "5933 2018-12-26 0   \n",
       "5934 2018-12-27 0   \n",
       "5935 2018-12-28 0   \n",
       "5936 2018-12-29 0   \n",
       "5937 2018-12-30 0   \n",
       "5938 2018-12-31 0   "
      ]
     },
     "metadata": {},
     "output_type": "display_data"
    }
   ],
   "source": [
    "tail(datasetRainfall)"
   ]
  },
  {
   "cell_type": "code",
   "execution_count": 10,
   "metadata": {
    "collapsed": true
   },
   "outputs": [],
   "source": [
    "#Liberamos memoria de los datos \n",
    "rm(list=ls(pat=\"20\"))\n",
    "rm(data)"
   ]
  },
  {
   "cell_type": "markdown",
   "metadata": {},
   "source": [
    "## Limpieza de datos"
   ]
  },
  {
   "cell_type": "code",
   "execution_count": 11,
   "metadata": {},
   "outputs": [
    {
     "data": {
      "text/html": [
       "<dl class=dl-horizontal>\n",
       "\t<dt>BEN</dt>\n",
       "\t\t<dd>72.6464619728251</dd>\n",
       "\t<dt>CO</dt>\n",
       "\t\t<dd>30.3871831068761</dd>\n",
       "\t<dt>EBE</dt>\n",
       "\t\t<dd>73.6957699967229</dd>\n",
       "\t<dt>MXY</dt>\n",
       "\t\t<dd>91.7175302713286</dd>\n",
       "\t<dt>NMHC</dt>\n",
       "\t\t<dd>71.5008360852723</dd>\n",
       "\t<dt>NO_2</dt>\n",
       "\t\t<dd>0.556007209659936</dd>\n",
       "\t<dt>NOx</dt>\n",
       "\t\t<dd>37.6014908786878</dd>\n",
       "\t<dt>OXY</dt>\n",
       "\t\t<dd>91.7101777626526</dd>\n",
       "\t<dt>O_3</dt>\n",
       "\t\t<dd>21.4402304066147</dd>\n",
       "\t<dt>PM10</dt>\n",
       "\t\t<dd>24.8664206727335</dd>\n",
       "\t<dt>PXY</dt>\n",
       "\t\t<dd>91.7130925071634</dd>\n",
       "\t<dt>SO_2</dt>\n",
       "\t\t<dd>27.1061786281479</dd>\n",
       "\t<dt>TCH</dt>\n",
       "\t\t<dd>71.4711897199324</dd>\n",
       "\t<dt>TOL</dt>\n",
       "\t\t<dd>72.7188054064047</dd>\n",
       "\t<dt>PM25</dt>\n",
       "\t\t<dd>78.5615552026351</dd>\n",
       "\t<dt>NO</dt>\n",
       "\t\t<dd>59.7608491517306</dd>\n",
       "\t<dt>CH4</dt>\n",
       "\t\t<dd>99.6100544505785</dd>\n",
       "</dl>\n"
      ],
      "text/latex": [
       "\\begin{description*}\n",
       "\\item[BEN] 72.6464619728251\n",
       "\\item[CO] 30.3871831068761\n",
       "\\item[EBE] 73.6957699967229\n",
       "\\item[MXY] 91.7175302713286\n",
       "\\item[NMHC] 71.5008360852723\n",
       "\\item[NO\\textbackslash{}\\_2] 0.556007209659936\n",
       "\\item[NOx] 37.6014908786878\n",
       "\\item[OXY] 91.7101777626526\n",
       "\\item[O\\textbackslash{}\\_3] 21.4402304066147\n",
       "\\item[PM10] 24.8664206727335\n",
       "\\item[PXY] 91.7130925071634\n",
       "\\item[SO\\textbackslash{}\\_2] 27.1061786281479\n",
       "\\item[TCH] 71.4711897199324\n",
       "\\item[TOL] 72.7188054064047\n",
       "\\item[PM25] 78.5615552026351\n",
       "\\item[NO] 59.7608491517306\n",
       "\\item[CH4] 99.6100544505785\n",
       "\\end{description*}\n"
      ],
      "text/markdown": [
       "BEN\n",
       ":   72.6464619728251CO\n",
       ":   30.3871831068761EBE\n",
       ":   73.6957699967229MXY\n",
       ":   91.7175302713286NMHC\n",
       ":   71.5008360852723NO_2\n",
       ":   0.556007209659936NOx\n",
       ":   37.6014908786878OXY\n",
       ":   91.7101777626526O_3\n",
       ":   21.4402304066147PM10\n",
       ":   24.8664206727335PXY\n",
       ":   91.7130925071634SO_2\n",
       ":   27.1061786281479TCH\n",
       ":   71.4711897199324TOL\n",
       ":   72.7188054064047PM25\n",
       ":   78.5615552026351NO\n",
       ":   59.7608491517306CH4\n",
       ":   99.6100544505785\n",
       "\n"
      ],
      "text/plain": [
       "       BEN         CO        EBE        MXY       NMHC       NO_2        NOx \n",
       "72.6464620 30.3871831 73.6957700 91.7175303 71.5008361  0.5560072 37.6014909 \n",
       "       OXY        O_3       PM10        PXY       SO_2        TCH        TOL \n",
       "91.7101778 21.4402304 24.8664207 91.7130925 27.1061786 71.4711897 72.7188054 \n",
       "      PM25         NO        CH4 \n",
       "78.5615552 59.7608492 99.6100545 "
      ]
     },
     "metadata": {},
     "output_type": "display_data"
    }
   ],
   "source": [
    "#Limpieza de datos datasetMadrid\n",
    "#1) Calculamos el porcenje de NA para descartar aquellas columnas cuyo porcentage sea muy alto\n",
    "naPerColumn <- colSums(is.na(datasetMadrid))\n",
    "#2) Todos los gases tienen al menos un NA por , tanto, estudiamos gases a descartar, para ello\n",
    "#quitamos los demás parámetros\n",
    "percentageNA <- naPerColumn/nrow(datasetMadrid) *100\n",
    "percentageNA <- percentageNA[percentageNA > 0]\n",
    "percentageNA"
   ]
  },
  {
   "cell_type": "code",
   "execution_count": 12,
   "metadata": {},
   "outputs": [
    {
     "data": {
      "image/png": "[encoded data removed]",
      "text/plain": [
       "Plot with title “Percentage of NA”"
      ]
     },
     "metadata": {},
     "output_type": "display_data"
    }
   ],
   "source": [
    "#2)Pintamos grafica de barras para observar volumen NA en los gases contaminantes\n",
    "barplot(percentageNA, main =\"Percentage of NA\",xlab = \"Pollution gas\",ylab = \"%\", las=3, cex.names=.5)"
   ]
  },
  {
   "cell_type": "code",
   "execution_count": 13,
   "metadata": {},
   "outputs": [
    {
     "data": {
      "text/html": [
       "<dl class=dl-horizontal>\n",
       "\t<dt>CO</dt>\n",
       "\t\t<dd>30,3871831068761</dd>\n",
       "\t<dt>NO_2</dt>\n",
       "\t\t<dd>0,556007209659936</dd>\n",
       "\t<dt>O_3</dt>\n",
       "\t\t<dd>21,4402304066147</dd>\n",
       "\t<dt>PM10</dt>\n",
       "\t\t<dd>24,8664206727335</dd>\n",
       "\t<dt>SO_2</dt>\n",
       "\t\t<dd>27,1061786281479</dd>\n",
       "</dl>\n"
      ],
      "text/latex": [
       "\\begin{description*}\n",
       "\\item[CO] 30,3871831068761\n",
       "\\item[NO\\textbackslash{}\\_2] 0,556007209659936\n",
       "\\item[O\\textbackslash{}\\_3] 21,4402304066147\n",
       "\\item[PM10] 24,8664206727335\n",
       "\\item[SO\\textbackslash{}\\_2] 27,1061786281479\n",
       "\\end{description*}\n"
      ],
      "text/markdown": [
       "CO\n",
       ":   30,3871831068761NO_2\n",
       ":   0,556007209659936O_3\n",
       ":   21,4402304066147PM10\n",
       ":   24,8664206727335SO_2\n",
       ":   27,1061786281479\n",
       "\n"
      ],
      "text/plain": [
       "        CO       NO_2        O_3       PM10       SO_2 \n",
       "30,3871831  0,5560072 21,4402304 24,8664207 27,1061786 "
      ]
     },
     "metadata": {},
     "output_type": "display_data"
    }
   ],
   "source": [
    "#Nos quedamos con aquellos gases que tengan menos del 35% de NA\n",
    "percentageNA[percentageNA < 35]"
   ]
  },
  {
   "cell_type": "code",
   "execution_count": 14,
   "metadata": {},
   "outputs": [
    {
     "data": {
      "text/html": [
       "<table>\n",
       "<thead><tr><th scope=col>date</th><th scope=col>CO</th><th scope=col>NO_2</th><th scope=col>O_3</th><th scope=col>PM10</th><th scope=col>SO_2</th><th scope=col>station</th></tr></thead>\n",
       "<tbody>\n",
       "\t<tr><td>2001-08-01 01:00:00</td><td>0,37               </td><td>58,40              </td><td>34,53              </td><td>105,00             </td><td>6,34               </td><td>28079001           </td></tr>\n",
       "\t<tr><td>2001-08-01 01:00:00</td><td>0,34               </td><td>56,25              </td><td>42,16              </td><td>100,60             </td><td>8,11               </td><td>28079035           </td></tr>\n",
       "\t<tr><td>2001-08-01 01:00:00</td><td>0,28               </td><td>50,66              </td><td>46,31              </td><td>100,10             </td><td>7,85               </td><td>28079003           </td></tr>\n",
       "\t<tr><td>2001-08-01 01:00:00</td><td>0,47               </td><td>69,79              </td><td>40,65              </td><td> 69,78             </td><td>6,46               </td><td>28079004           </td></tr>\n",
       "\t<tr><td>2001-08-01 01:00:00</td><td>0,39               </td><td>22,83              </td><td>66,31              </td><td> 75,18             </td><td>8,80               </td><td>28079039           </td></tr>\n",
       "\t<tr><td>2001-08-01 01:00:00</td><td>0,63               </td><td>66,26              </td><td>33,50              </td><td>122,70             </td><td>6,36               </td><td>28079006           </td></tr>\n",
       "</tbody>\n",
       "</table>\n"
      ],
      "text/latex": [
       "\\begin{tabular}{r|lllllll}\n",
       " date & CO & NO\\_2 & O\\_3 & PM10 & SO\\_2 & station\\\\\n",
       "\\hline\n",
       "\t 2001-08-01 01:00:00 & 0,37                & 58,40               & 34,53               & 105,00              & 6,34                & 28079001           \\\\\n",
       "\t 2001-08-01 01:00:00 & 0,34                & 56,25               & 42,16               & 100,60              & 8,11                & 28079035           \\\\\n",
       "\t 2001-08-01 01:00:00 & 0,28                & 50,66               & 46,31               & 100,10              & 7,85                & 28079003           \\\\\n",
       "\t 2001-08-01 01:00:00 & 0,47                & 69,79               & 40,65               &  69,78              & 6,46                & 28079004           \\\\\n",
       "\t 2001-08-01 01:00:00 & 0,39                & 22,83               & 66,31               &  75,18              & 8,80                & 28079039           \\\\\n",
       "\t 2001-08-01 01:00:00 & 0,63                & 66,26               & 33,50               & 122,70              & 6,36                & 28079006           \\\\\n",
       "\\end{tabular}\n"
      ],
      "text/markdown": [
       "\n",
       "date | CO | NO_2 | O_3 | PM10 | SO_2 | station | \n",
       "|---|---|---|---|---|---|\n",
       "| 2001-08-01 01:00:00 | 0,37                | 58,40               | 34,53               | 105,00              | 6,34                | 28079001            | \n",
       "| 2001-08-01 01:00:00 | 0,34                | 56,25               | 42,16               | 100,60              | 8,11                | 28079035            | \n",
       "| 2001-08-01 01:00:00 | 0,28                | 50,66               | 46,31               | 100,10              | 7,85                | 28079003            | \n",
       "| 2001-08-01 01:00:00 | 0,47                | 69,79               | 40,65               |  69,78              | 6,46                | 28079004            | \n",
       "| 2001-08-01 01:00:00 | 0,39                | 22,83               | 66,31               |  75,18              | 8,80                | 28079039            | \n",
       "| 2001-08-01 01:00:00 | 0,63                | 66,26               | 33,50               | 122,70              | 6,36                | 28079006            | \n",
       "\n",
       "\n"
      ],
      "text/plain": [
       "  date                CO   NO_2  O_3   PM10   SO_2 station \n",
       "1 2001-08-01 01:00:00 0,37 58,40 34,53 105,00 6,34 28079001\n",
       "2 2001-08-01 01:00:00 0,34 56,25 42,16 100,60 8,11 28079035\n",
       "3 2001-08-01 01:00:00 0,28 50,66 46,31 100,10 7,85 28079003\n",
       "4 2001-08-01 01:00:00 0,47 69,79 40,65  69,78 6,46 28079004\n",
       "5 2001-08-01 01:00:00 0,39 22,83 66,31  75,18 8,80 28079039\n",
       "6 2001-08-01 01:00:00 0,63 66,26 33,50 122,70 6,36 28079006"
      ]
     },
     "metadata": {},
     "output_type": "display_data"
    },
    {
     "data": {
      "text/html": [
       "<table>\n",
       "<thead><tr><th></th><th scope=col>date</th><th scope=col>CO</th><th scope=col>NO_2</th><th scope=col>O_3</th><th scope=col>PM10</th><th scope=col>SO_2</th><th scope=col>station</th></tr></thead>\n",
       "<tbody>\n",
       "\t<tr><th scope=row>3808219</th><td>2018-02-01 00:00:00</td><td> NA                </td><td> 94                </td><td>NA                 </td><td>35                 </td><td>NA                 </td><td>28079055           </td></tr>\n",
       "\t<tr><th scope=row>3808220</th><td>2018-02-01 00:00:00</td><td>0,5                </td><td> 91                </td><td> 1                 </td><td>35                 </td><td>NA                 </td><td>28079056           </td></tr>\n",
       "\t<tr><th scope=row>3808221</th><td>2018-02-01 00:00:00</td><td>0,7                </td><td>107                </td><td>NA                 </td><td>29                 </td><td>15                 </td><td>28079057           </td></tr>\n",
       "\t<tr><th scope=row>3808222</th><td>2018-02-01 00:00:00</td><td> NA                </td><td> 48                </td><td> 2                 </td><td>NA                 </td><td>NA                 </td><td>28079058           </td></tr>\n",
       "\t<tr><th scope=row>3808223</th><td>2018-02-01 00:00:00</td><td> NA                </td><td>103                </td><td> 2                 </td><td>NA                 </td><td>NA                 </td><td>28079059           </td></tr>\n",
       "\t<tr><th scope=row>3808224</th><td>2018-02-01 00:00:00</td><td> NA                </td><td> 96                </td><td> 3                 </td><td>26                 </td><td>NA                 </td><td>28079060           </td></tr>\n",
       "</tbody>\n",
       "</table>\n"
      ],
      "text/latex": [
       "\\begin{tabular}{r|lllllll}\n",
       "  & date & CO & NO\\_2 & O\\_3 & PM10 & SO\\_2 & station\\\\\n",
       "\\hline\n",
       "\t3808219 & 2018-02-01 00:00:00 &  NA                 &  94                 & NA                  & 35                  & NA                  & 28079055           \\\\\n",
       "\t3808220 & 2018-02-01 00:00:00 & 0,5                 &  91                 &  1                  & 35                  & NA                  & 28079056           \\\\\n",
       "\t3808221 & 2018-02-01 00:00:00 & 0,7                 & 107                 & NA                  & 29                  & 15                  & 28079057           \\\\\n",
       "\t3808222 & 2018-02-01 00:00:00 &  NA                 &  48                 &  2                  & NA                  & NA                  & 28079058           \\\\\n",
       "\t3808223 & 2018-02-01 00:00:00 &  NA                 & 103                 &  2                  & NA                  & NA                  & 28079059           \\\\\n",
       "\t3808224 & 2018-02-01 00:00:00 &  NA                 &  96                 &  3                  & 26                  & NA                  & 28079060           \\\\\n",
       "\\end{tabular}\n"
      ],
      "text/markdown": [
       "\n",
       "| <!--/--> | date | CO | NO_2 | O_3 | PM10 | SO_2 | station | \n",
       "|---|---|---|---|---|---|\n",
       "| 3808219 | 2018-02-01 00:00:00 |  NA                 |  94                 | NA                  | 35                  | NA                  | 28079055            | \n",
       "| 3808220 | 2018-02-01 00:00:00 | 0,5                 |  91                 |  1                  | 35                  | NA                  | 28079056            | \n",
       "| 3808221 | 2018-02-01 00:00:00 | 0,7                 | 107                 | NA                  | 29                  | 15                  | 28079057            | \n",
       "| 3808222 | 2018-02-01 00:00:00 |  NA                 |  48                 |  2                  | NA                  | NA                  | 28079058            | \n",
       "| 3808223 | 2018-02-01 00:00:00 |  NA                 | 103                 |  2                  | NA                  | NA                  | 28079059            | \n",
       "| 3808224 | 2018-02-01 00:00:00 |  NA                 |  96                 |  3                  | 26                  | NA                  | 28079060            | \n",
       "\n",
       "\n"
      ],
      "text/plain": [
       "        date                CO  NO_2 O_3 PM10 SO_2 station \n",
       "3808219 2018-02-01 00:00:00  NA  94  NA  35   NA   28079055\n",
       "3808220 2018-02-01 00:00:00 0,5  91   1  35   NA   28079056\n",
       "3808221 2018-02-01 00:00:00 0,7 107  NA  29   15   28079057\n",
       "3808222 2018-02-01 00:00:00  NA  48   2  NA   NA   28079058\n",
       "3808223 2018-02-01 00:00:00  NA 103   2  NA   NA   28079059\n",
       "3808224 2018-02-01 00:00:00  NA  96   3  26   NA   28079060"
      ]
     },
     "metadata": {},
     "output_type": "display_data"
    }
   ],
   "source": [
    "#Procedemos a quitar el resto de columnas\n",
    "datasetMadrid$BEN = NULL;\n",
    "datasetMadrid$EBE = NULL;\n",
    "datasetMadrid$MXY = NULL;\n",
    "datasetMadrid$NMHC = NULL;\n",
    "datasetMadrid$NOx = NULL;\n",
    "datasetMadrid$OXY = NULL;\n",
    "datasetMadrid$PXY = NULL;\n",
    "datasetMadrid$TCH = NULL;\n",
    "datasetMadrid$TOL = NULL;\n",
    "datasetMadrid$PM25 = NULL;\n",
    "datasetMadrid$NO = NULL;\n",
    "datasetMadrid$CH4 = NULL;\n",
    "#Mostramos dataframe para observar cambios\n",
    "head(datasetMadrid)\n",
    "tail(datasetMadrid)"
   ]
  },
  {
   "cell_type": "markdown",
   "metadata": {},
   "source": [
    "## Agrupacion de datos\n",
    "Se ordenan los datos por estacion, después de ellos se comprimen todas las horas de un dia de la estación, en un dia"
   ]
  },
  {
   "cell_type": "code",
   "execution_count": 15,
   "metadata": {},
   "outputs": [
    {
     "data": {
      "text/html": [
       "<table>\n",
       "<thead><tr><th></th><th scope=col>date</th><th scope=col>CO</th><th scope=col>NO_2</th><th scope=col>O_3</th><th scope=col>PM10</th><th scope=col>SO_2</th><th scope=col>station</th></tr></thead>\n",
       "<tbody>\n",
       "\t<tr><th scope=row>108361</th><td>2001-01-01 01:00:00</td><td>0,93               </td><td>54,08              </td><td> 5,89              </td><td>23,23              </td><td>12,73              </td><td>28079035           </td></tr>\n",
       "\t<tr><th scope=row>108362</th><td>2001-01-01 01:00:00</td><td>0,92               </td><td>60,25              </td><td> 5,75              </td><td>50,74              </td><td>39,12              </td><td>28079003           </td></tr>\n",
       "\t<tr><th scope=row>108363</th><td>2001-01-01 01:00:00</td><td>1,05               </td><td>50,24              </td><td> 5,98              </td><td>19,65              </td><td>20,61              </td><td>28079004           </td></tr>\n",
       "\t<tr><th scope=row>108364</th><td>2001-01-01 01:00:00</td><td>0,74               </td><td>49,41              </td><td> 2,49              </td><td>36,82              </td><td> 9,60              </td><td>28079039           </td></tr>\n",
       "\t<tr><th scope=row>108365</th><td>2001-01-01 01:00:00</td><td>1,59               </td><td>58,40              </td><td> 6,77              </td><td>25,67              </td><td>40,22              </td><td>28079006           </td></tr>\n",
       "\t<tr><th scope=row>108366</th><td>2001-01-01 01:00:00</td><td>0,91               </td><td>46,47              </td><td>10,14              </td><td>22,42              </td><td>41,77              </td><td>28079007           </td></tr>\n",
       "</tbody>\n",
       "</table>\n"
      ],
      "text/latex": [
       "\\begin{tabular}{r|lllllll}\n",
       "  & date & CO & NO\\_2 & O\\_3 & PM10 & SO\\_2 & station\\\\\n",
       "\\hline\n",
       "\t108361 & 2001-01-01 01:00:00 & 0,93                & 54,08               &  5,89               & 23,23               & 12,73               & 28079035           \\\\\n",
       "\t108362 & 2001-01-01 01:00:00 & 0,92                & 60,25               &  5,75               & 50,74               & 39,12               & 28079003           \\\\\n",
       "\t108363 & 2001-01-01 01:00:00 & 1,05                & 50,24               &  5,98               & 19,65               & 20,61               & 28079004           \\\\\n",
       "\t108364 & 2001-01-01 01:00:00 & 0,74                & 49,41               &  2,49               & 36,82               &  9,60               & 28079039           \\\\\n",
       "\t108365 & 2001-01-01 01:00:00 & 1,59                & 58,40               &  6,77               & 25,67               & 40,22               & 28079006           \\\\\n",
       "\t108366 & 2001-01-01 01:00:00 & 0,91                & 46,47               & 10,14               & 22,42               & 41,77               & 28079007           \\\\\n",
       "\\end{tabular}\n"
      ],
      "text/markdown": [
       "\n",
       "| <!--/--> | date | CO | NO_2 | O_3 | PM10 | SO_2 | station | \n",
       "|---|---|---|---|---|---|\n",
       "| 108361 | 2001-01-01 01:00:00 | 0,93                | 54,08               |  5,89               | 23,23               | 12,73               | 28079035            | \n",
       "| 108362 | 2001-01-01 01:00:00 | 0,92                | 60,25               |  5,75               | 50,74               | 39,12               | 28079003            | \n",
       "| 108363 | 2001-01-01 01:00:00 | 1,05                | 50,24               |  5,98               | 19,65               | 20,61               | 28079004            | \n",
       "| 108364 | 2001-01-01 01:00:00 | 0,74                | 49,41               |  2,49               | 36,82               |  9,60               | 28079039            | \n",
       "| 108365 | 2001-01-01 01:00:00 | 1,59                | 58,40               |  6,77               | 25,67               | 40,22               | 28079006            | \n",
       "| 108366 | 2001-01-01 01:00:00 | 0,91                | 46,47               | 10,14               | 22,42               | 41,77               | 28079007            | \n",
       "\n",
       "\n"
      ],
      "text/plain": [
       "       date                CO   NO_2  O_3   PM10  SO_2  station \n",
       "108361 2001-01-01 01:00:00 0,93 54,08  5,89 23,23 12,73 28079035\n",
       "108362 2001-01-01 01:00:00 0,92 60,25  5,75 50,74 39,12 28079003\n",
       "108363 2001-01-01 01:00:00 1,05 50,24  5,98 19,65 20,61 28079004\n",
       "108364 2001-01-01 01:00:00 0,74 49,41  2,49 36,82  9,60 28079039\n",
       "108365 2001-01-01 01:00:00 1,59 58,40  6,77 25,67 40,22 28079006\n",
       "108366 2001-01-01 01:00:00 0,91 46,47 10,14 22,42 41,77 28079007"
      ]
     },
     "metadata": {},
     "output_type": "display_data"
    },
    {
     "data": {
      "text/html": [
       "<table>\n",
       "<thead><tr><th></th><th scope=col>date</th><th scope=col>CO</th><th scope=col>NO_2</th><th scope=col>O_3</th><th scope=col>PM10</th><th scope=col>SO_2</th><th scope=col>station</th></tr></thead>\n",
       "<tbody>\n",
       "\t<tr><th scope=row>3774235</th><td>2018-05-01 00:00:00</td><td> NA                </td><td>32                 </td><td>NA                 </td><td> 6                 </td><td>NA                 </td><td>28079055           </td></tr>\n",
       "\t<tr><th scope=row>3774236</th><td>2018-05-01 00:00:00</td><td>0,2                </td><td>34                 </td><td>53                 </td><td> 1                 </td><td>NA                 </td><td>28079056           </td></tr>\n",
       "\t<tr><th scope=row>3774237</th><td>2018-05-01 00:00:00</td><td>0,3                </td><td>13                 </td><td>NA                 </td><td> 4                 </td><td> 9                 </td><td>28079057           </td></tr>\n",
       "\t<tr><th scope=row>3774238</th><td>2018-05-01 00:00:00</td><td> NA                </td><td> 3                 </td><td>76                 </td><td>NA                 </td><td>NA                 </td><td>28079058           </td></tr>\n",
       "\t<tr><th scope=row>3774239</th><td>2018-05-01 00:00:00</td><td> NA                </td><td>19                 </td><td>65                 </td><td>NA                 </td><td>NA                 </td><td>28079059           </td></tr>\n",
       "\t<tr><th scope=row>3774240</th><td>2018-05-01 00:00:00</td><td> NA                </td><td>14                 </td><td>81                 </td><td> 6                 </td><td>NA                 </td><td>28079060           </td></tr>\n",
       "</tbody>\n",
       "</table>\n"
      ],
      "text/latex": [
       "\\begin{tabular}{r|lllllll}\n",
       "  & date & CO & NO\\_2 & O\\_3 & PM10 & SO\\_2 & station\\\\\n",
       "\\hline\n",
       "\t3774235 & 2018-05-01 00:00:00 &  NA                 & 32                  & NA                  &  6                  & NA                  & 28079055           \\\\\n",
       "\t3774236 & 2018-05-01 00:00:00 & 0,2                 & 34                  & 53                  &  1                  & NA                  & 28079056           \\\\\n",
       "\t3774237 & 2018-05-01 00:00:00 & 0,3                 & 13                  & NA                  &  4                  &  9                  & 28079057           \\\\\n",
       "\t3774238 & 2018-05-01 00:00:00 &  NA                 &  3                  & 76                  & NA                  & NA                  & 28079058           \\\\\n",
       "\t3774239 & 2018-05-01 00:00:00 &  NA                 & 19                  & 65                  & NA                  & NA                  & 28079059           \\\\\n",
       "\t3774240 & 2018-05-01 00:00:00 &  NA                 & 14                  & 81                  &  6                  & NA                  & 28079060           \\\\\n",
       "\\end{tabular}\n"
      ],
      "text/markdown": [
       "\n",
       "| <!--/--> | date | CO | NO_2 | O_3 | PM10 | SO_2 | station | \n",
       "|---|---|---|---|---|---|\n",
       "| 3774235 | 2018-05-01 00:00:00 |  NA                 | 32                  | NA                  |  6                  | NA                  | 28079055            | \n",
       "| 3774236 | 2018-05-01 00:00:00 | 0,2                 | 34                  | 53                  |  1                  | NA                  | 28079056            | \n",
       "| 3774237 | 2018-05-01 00:00:00 | 0,3                 | 13                  | NA                  |  4                  |  9                  | 28079057            | \n",
       "| 3774238 | 2018-05-01 00:00:00 |  NA                 |  3                  | 76                  | NA                  | NA                  | 28079058            | \n",
       "| 3774239 | 2018-05-01 00:00:00 |  NA                 | 19                  | 65                  | NA                  | NA                  | 28079059            | \n",
       "| 3774240 | 2018-05-01 00:00:00 |  NA                 | 14                  | 81                  |  6                  | NA                  | 28079060            | \n",
       "\n",
       "\n"
      ],
      "text/plain": [
       "        date                CO  NO_2 O_3 PM10 SO_2 station \n",
       "3774235 2018-05-01 00:00:00  NA 32   NA   6   NA   28079055\n",
       "3774236 2018-05-01 00:00:00 0,2 34   53   1   NA   28079056\n",
       "3774237 2018-05-01 00:00:00 0,3 13   NA   4    9   28079057\n",
       "3774238 2018-05-01 00:00:00  NA  3   76  NA   NA   28079058\n",
       "3774239 2018-05-01 00:00:00  NA 19   65  NA   NA   28079059\n",
       "3774240 2018-05-01 00:00:00  NA 14   81   6   NA   28079060"
      ]
     },
     "metadata": {},
     "output_type": "display_data"
    }
   ],
   "source": [
    "datasetMadrid<- datasetMadrid[order(datasetMadrid$date),]\n",
    "head(datasetMadrid)\n",
    "tail(datasetMadrid)"
   ]
  },
  {
   "cell_type": "code",
   "execution_count": 16,
   "metadata": {},
   "outputs": [
    {
     "data": {
      "text/html": [
       "<table>\n",
       "<thead><tr><th></th><th scope=col>date</th><th scope=col>CO</th><th scope=col>NO_2</th><th scope=col>O_3</th><th scope=col>PM10</th><th scope=col>SO_2</th><th scope=col>station</th></tr></thead>\n",
       "<tbody>\n",
       "\t<tr><th scope=row>108361</th><td>2001-01-01</td><td>0,93      </td><td>54,08     </td><td> 5,89     </td><td>23,23     </td><td>12,73     </td><td>28079035  </td></tr>\n",
       "\t<tr><th scope=row>108362</th><td>2001-01-01</td><td>0,92      </td><td>60,25     </td><td> 5,75     </td><td>50,74     </td><td>39,12     </td><td>28079003  </td></tr>\n",
       "\t<tr><th scope=row>108363</th><td>2001-01-01</td><td>1,05      </td><td>50,24     </td><td> 5,98     </td><td>19,65     </td><td>20,61     </td><td>28079004  </td></tr>\n",
       "\t<tr><th scope=row>108364</th><td>2001-01-01</td><td>0,74      </td><td>49,41     </td><td> 2,49     </td><td>36,82     </td><td> 9,60     </td><td>28079039  </td></tr>\n",
       "\t<tr><th scope=row>108365</th><td>2001-01-01</td><td>1,59      </td><td>58,40     </td><td> 6,77     </td><td>25,67     </td><td>40,22     </td><td>28079006  </td></tr>\n",
       "\t<tr><th scope=row>108366</th><td>2001-01-01</td><td>0,91      </td><td>46,47     </td><td>10,14     </td><td>22,42     </td><td>41,77     </td><td>28079007  </td></tr>\n",
       "</tbody>\n",
       "</table>\n"
      ],
      "text/latex": [
       "\\begin{tabular}{r|lllllll}\n",
       "  & date & CO & NO\\_2 & O\\_3 & PM10 & SO\\_2 & station\\\\\n",
       "\\hline\n",
       "\t108361 & 2001-01-01 & 0,93       & 54,08      &  5,89      & 23,23      & 12,73      & 28079035  \\\\\n",
       "\t108362 & 2001-01-01 & 0,92       & 60,25      &  5,75      & 50,74      & 39,12      & 28079003  \\\\\n",
       "\t108363 & 2001-01-01 & 1,05       & 50,24      &  5,98      & 19,65      & 20,61      & 28079004  \\\\\n",
       "\t108364 & 2001-01-01 & 0,74       & 49,41      &  2,49      & 36,82      &  9,60      & 28079039  \\\\\n",
       "\t108365 & 2001-01-01 & 1,59       & 58,40      &  6,77      & 25,67      & 40,22      & 28079006  \\\\\n",
       "\t108366 & 2001-01-01 & 0,91       & 46,47      & 10,14      & 22,42      & 41,77      & 28079007  \\\\\n",
       "\\end{tabular}\n"
      ],
      "text/markdown": [
       "\n",
       "| <!--/--> | date | CO | NO_2 | O_3 | PM10 | SO_2 | station | \n",
       "|---|---|---|---|---|---|\n",
       "| 108361 | 2001-01-01 | 0,93       | 54,08      |  5,89      | 23,23      | 12,73      | 28079035   | \n",
       "| 108362 | 2001-01-01 | 0,92       | 60,25      |  5,75      | 50,74      | 39,12      | 28079003   | \n",
       "| 108363 | 2001-01-01 | 1,05       | 50,24      |  5,98      | 19,65      | 20,61      | 28079004   | \n",
       "| 108364 | 2001-01-01 | 0,74       | 49,41      |  2,49      | 36,82      |  9,60      | 28079039   | \n",
       "| 108365 | 2001-01-01 | 1,59       | 58,40      |  6,77      | 25,67      | 40,22      | 28079006   | \n",
       "| 108366 | 2001-01-01 | 0,91       | 46,47      | 10,14      | 22,42      | 41,77      | 28079007   | \n",
       "\n",
       "\n"
      ],
      "text/plain": [
       "       date       CO   NO_2  O_3   PM10  SO_2  station \n",
       "108361 2001-01-01 0,93 54,08  5,89 23,23 12,73 28079035\n",
       "108362 2001-01-01 0,92 60,25  5,75 50,74 39,12 28079003\n",
       "108363 2001-01-01 1,05 50,24  5,98 19,65 20,61 28079004\n",
       "108364 2001-01-01 0,74 49,41  2,49 36,82  9,60 28079039\n",
       "108365 2001-01-01 1,59 58,40  6,77 25,67 40,22 28079006\n",
       "108366 2001-01-01 0,91 46,47 10,14 22,42 41,77 28079007"
      ]
     },
     "metadata": {},
     "output_type": "display_data"
    },
    {
     "data": {
      "text/html": [
       "<table>\n",
       "<thead><tr><th></th><th scope=col>date</th><th scope=col>CO</th><th scope=col>NO_2</th><th scope=col>O_3</th><th scope=col>PM10</th><th scope=col>SO_2</th><th scope=col>station</th></tr></thead>\n",
       "<tbody>\n",
       "\t<tr><th scope=row>3774235</th><td>2018-05-01</td><td> NA       </td><td>32        </td><td>NA        </td><td> 6        </td><td>NA        </td><td>28079055  </td></tr>\n",
       "\t<tr><th scope=row>3774236</th><td>2018-05-01</td><td>0,2       </td><td>34        </td><td>53        </td><td> 1        </td><td>NA        </td><td>28079056  </td></tr>\n",
       "\t<tr><th scope=row>3774237</th><td>2018-05-01</td><td>0,3       </td><td>13        </td><td>NA        </td><td> 4        </td><td> 9        </td><td>28079057  </td></tr>\n",
       "\t<tr><th scope=row>3774238</th><td>2018-05-01</td><td> NA       </td><td> 3        </td><td>76        </td><td>NA        </td><td>NA        </td><td>28079058  </td></tr>\n",
       "\t<tr><th scope=row>3774239</th><td>2018-05-01</td><td> NA       </td><td>19        </td><td>65        </td><td>NA        </td><td>NA        </td><td>28079059  </td></tr>\n",
       "\t<tr><th scope=row>3774240</th><td>2018-05-01</td><td> NA       </td><td>14        </td><td>81        </td><td> 6        </td><td>NA        </td><td>28079060  </td></tr>\n",
       "</tbody>\n",
       "</table>\n"
      ],
      "text/latex": [
       "\\begin{tabular}{r|lllllll}\n",
       "  & date & CO & NO\\_2 & O\\_3 & PM10 & SO\\_2 & station\\\\\n",
       "\\hline\n",
       "\t3774235 & 2018-05-01 &  NA        & 32         & NA         &  6         & NA         & 28079055  \\\\\n",
       "\t3774236 & 2018-05-01 & 0,2        & 34         & 53         &  1         & NA         & 28079056  \\\\\n",
       "\t3774237 & 2018-05-01 & 0,3        & 13         & NA         &  4         &  9         & 28079057  \\\\\n",
       "\t3774238 & 2018-05-01 &  NA        &  3         & 76         & NA         & NA         & 28079058  \\\\\n",
       "\t3774239 & 2018-05-01 &  NA        & 19         & 65         & NA         & NA         & 28079059  \\\\\n",
       "\t3774240 & 2018-05-01 &  NA        & 14         & 81         &  6         & NA         & 28079060  \\\\\n",
       "\\end{tabular}\n"
      ],
      "text/markdown": [
       "\n",
       "| <!--/--> | date | CO | NO_2 | O_3 | PM10 | SO_2 | station | \n",
       "|---|---|---|---|---|---|\n",
       "| 3774235 | 2018-05-01 |  NA        | 32         | NA         |  6         | NA         | 28079055   | \n",
       "| 3774236 | 2018-05-01 | 0,2        | 34         | 53         |  1         | NA         | 28079056   | \n",
       "| 3774237 | 2018-05-01 | 0,3        | 13         | NA         |  4         |  9         | 28079057   | \n",
       "| 3774238 | 2018-05-01 |  NA        |  3         | 76         | NA         | NA         | 28079058   | \n",
       "| 3774239 | 2018-05-01 |  NA        | 19         | 65         | NA         | NA         | 28079059   | \n",
       "| 3774240 | 2018-05-01 |  NA        | 14         | 81         |  6         | NA         | 28079060   | \n",
       "\n",
       "\n"
      ],
      "text/plain": [
       "        date       CO  NO_2 O_3 PM10 SO_2 station \n",
       "3774235 2018-05-01  NA 32   NA   6   NA   28079055\n",
       "3774236 2018-05-01 0,2 34   53   1   NA   28079056\n",
       "3774237 2018-05-01 0,3 13   NA   4    9   28079057\n",
       "3774238 2018-05-01  NA  3   76  NA   NA   28079058\n",
       "3774239 2018-05-01  NA 19   65  NA   NA   28079059\n",
       "3774240 2018-05-01  NA 14   81   6   NA   28079060"
      ]
     },
     "metadata": {},
     "output_type": "display_data"
    }
   ],
   "source": [
    "datasetMadrid$date <- as.POSIXct(datasetMadrid$date, format = \"%Y-%m-%d %H:%M:%S\")\n",
    "datasetMadrid$date <- format(datasetMadrid$date, \"%Y-%m-%d\")\n",
    "head(datasetMadrid)\n",
    "tail(datasetMadrid)"
   ]
  },
  {
   "cell_type": "code",
   "execution_count": 19,
   "metadata": {},
   "outputs": [
    {
     "data": {
      "text/html": [
       "<table>\n",
       "<thead><tr><th scope=col>date</th><th scope=col>station</th><th scope=col>CO</th><th scope=col>NO_2</th><th scope=col>O_3</th><th scope=col>PM10</th><th scope=col>SO_2</th></tr></thead>\n",
       "<tbody>\n",
       "\t<tr><td>2001-01-01</td><td>28079003  </td><td>0,6500000 </td><td>44,35609  </td><td>24,89174  </td><td>20,22304  </td><td>22,54913  </td></tr>\n",
       "\t<tr><td>2001-01-01</td><td>28079004  </td><td>0,8095652 </td><td>57,81739  </td><td>18,35783  </td><td>17,19826  </td><td>16,98304  </td></tr>\n",
       "\t<tr><td>2001-01-01</td><td>28079006  </td><td>1,7021739 </td><td>64,57174  </td><td>10,46826  </td><td>28,53435  </td><td>36,07478  </td></tr>\n",
       "\t<tr><td>2001-01-01</td><td>28079007  </td><td>1,0704348 </td><td>42,01652  </td><td>17,49478  </td><td>16,08043  </td><td>37,83261  </td></tr>\n",
       "\t<tr><td>2001-01-01</td><td>28079008  </td><td>1,0552174 </td><td>53,78913  </td><td>19,68522  </td><td>20,30652  </td><td>10,87043  </td></tr>\n",
       "\t<tr><td>2001-01-01</td><td>28079009  </td><td>0,9478261 </td><td>53,45565  </td><td>21,65043  </td><td>13,28682  </td><td>19,65609  </td></tr>\n",
       "</tbody>\n",
       "</table>\n"
      ],
      "text/latex": [
       "\\begin{tabular}{r|lllllll}\n",
       " date & station & CO & NO\\_2 & O\\_3 & PM10 & SO\\_2\\\\\n",
       "\\hline\n",
       "\t 2001-01-01 & 28079003   & 0,6500000  & 44,35609   & 24,89174   & 20,22304   & 22,54913  \\\\\n",
       "\t 2001-01-01 & 28079004   & 0,8095652  & 57,81739   & 18,35783   & 17,19826   & 16,98304  \\\\\n",
       "\t 2001-01-01 & 28079006   & 1,7021739  & 64,57174   & 10,46826   & 28,53435   & 36,07478  \\\\\n",
       "\t 2001-01-01 & 28079007   & 1,0704348  & 42,01652   & 17,49478   & 16,08043   & 37,83261  \\\\\n",
       "\t 2001-01-01 & 28079008   & 1,0552174  & 53,78913   & 19,68522   & 20,30652   & 10,87043  \\\\\n",
       "\t 2001-01-01 & 28079009   & 0,9478261  & 53,45565   & 21,65043   & 13,28682   & 19,65609  \\\\\n",
       "\\end{tabular}\n"
      ],
      "text/markdown": [
       "\n",
       "date | station | CO | NO_2 | O_3 | PM10 | SO_2 | \n",
       "|---|---|---|---|---|---|\n",
       "| 2001-01-01 | 28079003   | 0,6500000  | 44,35609   | 24,89174   | 20,22304   | 22,54913   | \n",
       "| 2001-01-01 | 28079004   | 0,8095652  | 57,81739   | 18,35783   | 17,19826   | 16,98304   | \n",
       "| 2001-01-01 | 28079006   | 1,7021739  | 64,57174   | 10,46826   | 28,53435   | 36,07478   | \n",
       "| 2001-01-01 | 28079007   | 1,0704348  | 42,01652   | 17,49478   | 16,08043   | 37,83261   | \n",
       "| 2001-01-01 | 28079008   | 1,0552174  | 53,78913   | 19,68522   | 20,30652   | 10,87043   | \n",
       "| 2001-01-01 | 28079009   | 0,9478261  | 53,45565   | 21,65043   | 13,28682   | 19,65609   | \n",
       "\n",
       "\n"
      ],
      "text/plain": [
       "  date       station  CO        NO_2     O_3      PM10     SO_2    \n",
       "1 2001-01-01 28079003 0,6500000 44,35609 24,89174 20,22304 22,54913\n",
       "2 2001-01-01 28079004 0,8095652 57,81739 18,35783 17,19826 16,98304\n",
       "3 2001-01-01 28079006 1,7021739 64,57174 10,46826 28,53435 36,07478\n",
       "4 2001-01-01 28079007 1,0704348 42,01652 17,49478 16,08043 37,83261\n",
       "5 2001-01-01 28079008 1,0552174 53,78913 19,68522 20,30652 10,87043\n",
       "6 2001-01-01 28079009 0,9478261 53,45565 21,65043 13,28682 19,65609"
      ]
     },
     "metadata": {},
     "output_type": "display_data"
    },
    {
     "data": {
      "text/html": [
       "<table>\n",
       "<thead><tr><th scope=col>date</th><th scope=col>station</th><th scope=col>CO</th><th scope=col>NO_2</th><th scope=col>O_3</th><th scope=col>PM10</th><th scope=col>SO_2</th></tr></thead>\n",
       "<tbody>\n",
       "\t<tr><td>2018-05-01</td><td>28079055  </td><td>NaN       </td><td>32        </td><td>NaN       </td><td>  6       </td><td>NaN       </td></tr>\n",
       "\t<tr><td>2018-05-01</td><td>28079056  </td><td>0,2       </td><td>34        </td><td> 53       </td><td>  1       </td><td>NaN       </td></tr>\n",
       "\t<tr><td>2018-05-01</td><td>28079057  </td><td>0,3       </td><td>13        </td><td>NaN       </td><td>  4       </td><td>  9       </td></tr>\n",
       "\t<tr><td>2018-05-01</td><td>28079058  </td><td>NaN       </td><td> 3        </td><td> 76       </td><td>NaN       </td><td>NaN       </td></tr>\n",
       "\t<tr><td>2018-05-01</td><td>28079059  </td><td>NaN       </td><td>19        </td><td> 65       </td><td>NaN       </td><td>NaN       </td></tr>\n",
       "\t<tr><td>2018-05-01</td><td>28079060  </td><td>NaN       </td><td>14        </td><td> 81       </td><td>  6       </td><td>NaN       </td></tr>\n",
       "</tbody>\n",
       "</table>\n"
      ],
      "text/latex": [
       "\\begin{tabular}{r|lllllll}\n",
       " date & station & CO & NO\\_2 & O\\_3 & PM10 & SO\\_2\\\\\n",
       "\\hline\n",
       "\t 2018-05-01 & 28079055   & NaN        & 32         & NaN        &   6        & NaN       \\\\\n",
       "\t 2018-05-01 & 28079056   & 0,2        & 34         &  53        &   1        & NaN       \\\\\n",
       "\t 2018-05-01 & 28079057   & 0,3        & 13         & NaN        &   4        &   9       \\\\\n",
       "\t 2018-05-01 & 28079058   & NaN        &  3         &  76        & NaN        & NaN       \\\\\n",
       "\t 2018-05-01 & 28079059   & NaN        & 19         &  65        & NaN        & NaN       \\\\\n",
       "\t 2018-05-01 & 28079060   & NaN        & 14         &  81        &   6        & NaN       \\\\\n",
       "\\end{tabular}\n"
      ],
      "text/markdown": [
       "\n",
       "date | station | CO | NO_2 | O_3 | PM10 | SO_2 | \n",
       "|---|---|---|---|---|---|\n",
       "| 2018-05-01 | 28079055   | NaN        | 32         | NaN        |   6        | NaN        | \n",
       "| 2018-05-01 | 28079056   | 0,2        | 34         |  53        |   1        | NaN        | \n",
       "| 2018-05-01 | 28079057   | 0,3        | 13         | NaN        |   4        |   9        | \n",
       "| 2018-05-01 | 28079058   | NaN        |  3         |  76        | NaN        | NaN        | \n",
       "| 2018-05-01 | 28079059   | NaN        | 19         |  65        | NaN        | NaN        | \n",
       "| 2018-05-01 | 28079060   | NaN        | 14         |  81        |   6        | NaN        | \n",
       "\n",
       "\n"
      ],
      "text/plain": [
       "  date       station  CO  NO_2 O_3 PM10 SO_2\n",
       "1 2018-05-01 28079055 NaN 32   NaN   6  NaN \n",
       "2 2018-05-01 28079056 0,2 34    53   1  NaN \n",
       "3 2018-05-01 28079057 0,3 13   NaN   4    9 \n",
       "4 2018-05-01 28079058 NaN  3    76 NaN  NaN \n",
       "5 2018-05-01 28079059 NaN 19    65 NaN  NaN \n",
       "6 2018-05-01 28079060 NaN 14    81   6  NaN "
      ]
     },
     "metadata": {},
     "output_type": "display_data"
    }
   ],
   "source": [
    "madrid <- datasetMadrid %>%\n",
    "  group_by(date,station) %>%\n",
    "  summarise(CO = mean(CO, na.rm = TRUE),\n",
    "            NO_2 = mean(NO_2, na.rm = TRUE),\n",
    "            O_3 = mean(O_3, na.rm = TRUE),\n",
    "            PM10 = mean(PM10, na.rm = TRUE),\n",
    "            SO_2 = mean(SO_2, na.rm = TRUE))\n",
    "head(madrid)\n",
    "tail(madrid)"
   ]
  },
  {
   "cell_type": "markdown",
   "metadata": {},
   "source": [
    "Ahora debemos cambiar el formato de la fecha del dataFrame rainfall para cruzar las tablas"
   ]
  },
  {
   "cell_type": "code",
   "execution_count": 18,
   "metadata": {},
   "outputs": [
    {
     "data": {
      "text/html": [
       "<table>\n",
       "<thead><tr><th scope=col>date</th><th scope=col>l/m2</th></tr></thead>\n",
       "<tbody>\n",
       "\t<tr><td>2001-01-01</td><td>4.3       </td></tr>\n",
       "\t<tr><td>2001-01-02</td><td>0.1       </td></tr>\n",
       "\t<tr><td>2001-01-03</td><td>2.2       </td></tr>\n",
       "\t<tr><td>2001-01-04</td><td>2.4       </td></tr>\n",
       "\t<tr><td>2001-01-05</td><td>13.3      </td></tr>\n",
       "\t<tr><td>2001-01-06</td><td>0.0       </td></tr>\n",
       "</tbody>\n",
       "</table>\n"
      ],
      "text/latex": [
       "\\begin{tabular}{r|ll}\n",
       " date & l/m2\\\\\n",
       "\\hline\n",
       "\t 2001-01-01 & 4.3       \\\\\n",
       "\t 2001-01-02 & 0.1       \\\\\n",
       "\t 2001-01-03 & 2.2       \\\\\n",
       "\t 2001-01-04 & 2.4       \\\\\n",
       "\t 2001-01-05 & 13.3      \\\\\n",
       "\t 2001-01-06 & 0.0       \\\\\n",
       "\\end{tabular}\n"
      ],
      "text/markdown": [
       "\n",
       "date | l/m2 | \n",
       "|---|---|---|---|---|---|\n",
       "| 2001-01-01 | 4.3        | \n",
       "| 2001-01-02 | 0.1        | \n",
       "| 2001-01-03 | 2.2        | \n",
       "| 2001-01-04 | 2.4        | \n",
       "| 2001-01-05 | 13.3       | \n",
       "| 2001-01-06 | 0.0        | \n",
       "\n",
       "\n"
      ],
      "text/plain": [
       "  date       l/m2\n",
       "1 2001-01-01 4.3 \n",
       "2 2001-01-02 0.1 \n",
       "3 2001-01-03 2.2 \n",
       "4 2001-01-04 2.4 \n",
       "5 2001-01-05 13.3\n",
       "6 2001-01-06 0.0 "
      ]
     },
     "metadata": {},
     "output_type": "display_data"
    }
   ],
   "source": [
    "datasetRainfall$date <- as.POSIXct(datasetRainfall$date, format = \"%Y-%m-%d\")\n",
    "head(datasetRainfall)"
   ]
  },
  {
   "cell_type": "code",
   "execution_count": null,
   "metadata": {
    "collapsed": true
   },
   "outputs": [],
   "source": []
  }
 ],
 "metadata": {
  "kernelspec": {
   "display_name": "R",
   "language": "R",
   "name": "ir"
  },
  "language_info": {
   "codemirror_mode": "r",
   "file_extension": ".r",
   "mimetype": "text/x-r-source",
   "name": "R",
   "pygments_lexer": "r",
   "version": "3.5.1"
  }
 },
 "nbformat": 4,
 "nbformat_minor": 2
}

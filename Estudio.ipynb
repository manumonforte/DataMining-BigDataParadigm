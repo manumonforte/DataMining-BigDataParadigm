{
 "cells": [
  {
   "cell_type": "markdown",
   "metadata": {},
   "source": [
    "# INFLUENCIA DE LAS PRECIPITACIONES Y EL VIENTO EN LA CONTAMINACIÓN"
   ]
  },
  {
   "cell_type": "markdown",
   "metadata": {},
   "source": [
    "## 1. Introducción"
   ]
  },
  {
   "cell_type": "markdown",
   "metadata": {},
   "source": [
    "<p style=\"text-align: justify;\">\n",
    "La comunidad de Madrid ha estado incumpliendo durante años los niveles establecidos por los parámetros de la calidad del aire. \n",
    "Hasta la fecha existen pocos datos sobre como influye la meteorología en relación a la contaminación. \n",
    "Las teorías actuales sugieren que las emisiones contaminantes de los vehículos son la causa principal, \n",
    "reduciendo o limitando la circulación de los mismos. Una de las medidas que el Ayuntamiento de Madrid tomo dentro\n",
    "de su plan de calidad del aire es la aplicación de restricciones de tráfico de paso al centro de la capital(Madrid central).\n",
    "</p>\n",
    "<p style=\"text-align: justify;\">\n",
    "La contaminación supone un problema grave para la salud, según la Organización Mundial de la Salud (OMS) \"la contaminación atmosférica urbana aumenta el riesgo de padecer enfermedades respiratorias agudas, como la neumonía y crónicas, como el cáncer de pulmón y las enfermedades cardiovasculares\".\n",
    "</p>\n",
    "<p style=\"text-align: justify;\">\n",
    "Nuestro objetivo en el presente trabajo es comprobar si otras causas como la meteorología pueden influir en la calidad del aire en la ciudad de Madrid.\n",
    "</p>"
   ]
  },
  {
   "cell_type": "markdown",
   "metadata": {},
   "source": [
    "\n",
    "## 2. Objetivos"
   ]
  },
  {
   "cell_type": "markdown",
   "metadata": {},
   "source": [
    "### 2.1 Hipótesis"
   ]
  },
  {
   "cell_type": "markdown",
   "metadata": {},
   "source": [
    "La contaminación en la comunidad de Madrid se ve reducida cuando aumenta el nivel de precipitaciones y la velocidad del viento. \n"
   ]
  },
  {
   "cell_type": "markdown",
   "metadata": {},
   "source": [
    "### 2.2 Restricciones"
   ]
  },
  {
   "cell_type": "markdown",
   "metadata": {},
   "source": [
    "- La precisión del estudio es a nivel diario ya que no hay disponibles fuentes de datos para la precipitación a nivel horario.\n",
    "\n",
    "- Unicamente se estudia la relación de la precipitación y velocidad del viento con la contaminación atmosférica \n",
    "  y no se incluyen otros tipos como la contaminación, acústica, lumínica, etc."
   ]
  },
  {
   "cell_type": "markdown",
   "metadata": {},
   "source": [
    "### 2.3 Alcance"
   ]
  },
  {
   "cell_type": "markdown",
   "metadata": {},
   "source": [
    "El estudio se centra en la ciudad de Madrid (España)"
   ]
  },
  {
   "cell_type": "markdown",
   "metadata": {},
   "source": [
    "## 3. Metodología"
   ]
  },
  {
   "cell_type": "markdown",
   "metadata": {},
   "source": [
    "### 3.1 Explicación de la metodología"
   ]
  },
  {
   "cell_type": "markdown",
   "metadata": {},
   "source": [
    "La metodología elegida es SEMMA, es  el  acrónimo  a  las  cinco  fases:  (Sample,  Explore,  Modify, Model, Assess). A continuación se explica cada una de las fases:  \n",
    "\n",
    "**Sample**: Se toma una muestra de los datos y se crea con ellos un dataset (más) reducido. Las muestras deben ser lo suficientemente grandes como para contener toda la información significativa pero también lo suficientemente pequeñas como para poder procesarlas rápidamente.  \n",
    "**Explore**: Se analizan (exploran) los datos para comprenderlos, buscando relaciones previstas, tendencias imprevistas y/o anomalías, así como ideas para su posterior procesamiento.  \n",
    "**Modify**: Se modifican los datos (creando, seleccionando y transformando las variables adecuadas) para facilitar el proceso siguiente (modelización).  \n",
    "**Model**: Se entrenan y aplican distintos modelos para el procesamiento de los datos, seleccionando aquel cuya tecnología y/o parámetros produce unos resultados aparentemente más adecuados.  \n",
    "**Assess**: Se evalúan los resultados del proceso de minería de datos, midiendo su utilidad y fiabilidad.  \n"
   ]
  },
  {
   "attachments": {},
   "cell_type": "markdown",
   "metadata": {},
   "source": [
    "![semma.png](semma.png)"
   ]
  },
  {
   "cell_type": "markdown",
   "metadata": {},
   "source": [
    "## 3.2 Planificación"
   ]
  },
  {
   "cell_type": "markdown",
   "metadata": {},
   "source": [
    "A continuación se visualiza la planificación llevada a cabo por los integrantes del proyecto con un Diagrama de Gantt:\n",
    "  \n",
    "[>>Enlace al Diagrama Gant<<](https://drive.google.com/file/d/192o2H7ss1-ZGJ13-0Reet4vwuaRe5dlM/view)"
   ]
  },
  {
   "cell_type": "markdown",
   "metadata": {},
   "source": [
    "## 4. Implementación"
   ]
  },
  {
   "cell_type": "markdown",
   "metadata": {},
   "source": [
    "Durante la elaboración de este estudio se utilizará la metodología SEMMA como ya se ha citado (Sample,  Explore,  Modify, Model, Assess), por ello la implementación seguirá las fases de dicha metodología.\n"
   ]
  },
  {
   "cell_type": "markdown",
   "metadata": {},
   "source": [
    "### Instalamos Paquetes y cargamos librerias"
   ]
  },
  {
   "cell_type": "code",
   "execution_count": 210,
   "metadata": {
    "scrolled": true
   },
   "outputs": [],
   "source": [
    "#Limpiamos memoria\n",
    "rm(list=ls());\n",
    "is.installed <- function(mypkg) {\n",
    "  is.element(mypkg, installed.packages()[,1]) \n",
    "}\n",
    "\n",
    "#Instalamos paquetes para agrupar csv\n",
    "if (!is.installed(\"data.table\")){\n",
    "  install.packages(\"data.table\",repos = \"http://cran.us.r-project.org\")\n",
    "};\n",
    "#Intslamos paquete para manipular ts\n",
    "if (!is.installed(\"xts\")){\n",
    "  install.packages(\"xts\",repos = \"http://cran.us.r-project.org\")\n",
    "};\n",
    "#Instalamos paquete para agrupar datos\n",
    "if (!is.installed(\"dplyr\")){\n",
    "  install.packages(\"dplyr\",repos = \"http://cran.us.r-project.org\")\n",
    "};\n",
    "# Instalamos paquete para leer exccels\n",
    "if (!is.installed(\"readxl\")){\n",
    "  install.packages(\"readxl\",repos = \"http://cran.us.r-project.org\")\n",
    "};\n",
    "#Instalamos paquetes para modelo predictivo de arbol\n",
    "if (!is.installed(\"party\")){\n",
    "  install.packages(\"party\",repos = \"http://cran.us.r-project.org\")\n",
    "};\n",
    "if (!is.installed(\"rpart\")){\n",
    "  install.packages(\"rpart\",repos = \"http://cran.us.r-project.org\")\n",
    "};\n",
    "if (!is.installed(\"randomForest\")){\n",
    "  install.packages(\"randomForest\",repos = \"http://cran.us.r-project.org\")\n",
    "};\n",
    "if (!is.installed(\"rpart.plot\")){\n",
    "  install.packages(\"rpart.plot\",repos = \"http://cran.us.r-project.org\")\n",
    "};\n",
    "if (!is.installed(\"rattle\")){\n",
    "  install.packages(\"rattle\",repos = \"http://cran.us.r-project.org\")\n",
    "};\n",
    "if (!is.installed(\"RColorBrewer\")){\n",
    "  install.packages(\"RColorBrewer\",repos = \"http://cran.us.r-project.org\")\n",
    "};\n",
    "if (!is.installed(\"tidyr\")){\n",
    "  install.packages(\"tidyr\",repos = \"http://cran.us.r-project.org\")\n",
    "};\n",
    "#Instalamos paquetes para graficas de correlaciones\n",
    "if (!is.installed(\"corrplot\")){\n",
    "  install.packages(\"corrplot\",repos = \"http://cran.us.r-project.org\")\n",
    "};"
   ]
  },
  {
   "cell_type": "code",
   "execution_count": 211,
   "metadata": {},
   "outputs": [],
   "source": [
    "# Cargamos las librerias\n",
    "library(data.table)\n",
    "library(xts)\n",
    "library(dplyr)    # loads %>%\n",
    "library(readxl)\n",
    "library(ggplot2)\n",
    "library(party)\n",
    "library(rpart)\n",
    "library(randomForest)\n",
    "library(rpart.plot)\n",
    "library(rattle)\n",
    "library(RColorBrewer)\n",
    "library(tidyr)\n",
    "library(corrplot)"
   ]
  },
  {
   "cell_type": "markdown",
   "metadata": {},
   "source": [
    "## 1º FASE: Sample"
   ]
  },
  {
   "cell_type": "markdown",
   "metadata": {},
   "source": [
    "<p style=\"text-align: justify;\">\n",
    "Se toma una muestra de los datos y se crea con ellos un dataset (más) reducido. Las muestras deben ser lo suficientemente grandes como para contener toda la información significativa pero también lo suficientemente pequeñas como para poder procesarlas rápidamente.\n",
    "</p>"
   ]
  },
  {
   "cell_type": "markdown",
   "metadata": {},
   "source": [
    "### Cargamos datos calidad del aire 2001-2018 Madrid"
   ]
  },
  {
   "cell_type": "markdown",
   "metadata": {},
   "source": [
    "Cargamos las mediciones de los contaminantes de Madrid entre 2001-2018 y creamos un dataframe con todas ellas"
   ]
  },
  {
   "cell_type": "code",
   "execution_count": 212,
   "metadata": {},
   "outputs": [],
   "source": [
    "#Cargamos los datos de los anos en un dataset (utilziamos read.csv ya que el separador es,)\n",
    "data2001<- read.csv(file = \"data/madrid_2001.csv\",header = TRUE);\n",
    "data2002<- read.csv(file = \"data/madrid_2002.csv\",header = TRUE);\n",
    "data2003<- read.csv(file = \"data/madrid_2003.csv\",header = TRUE);\n",
    "data2004<- read.csv(file = \"data/madrid_2004.csv\",header = TRUE);\n",
    "data2005<- read.csv(file = \"data/madrid_2005.csv\",header = TRUE);\n",
    "data2006<- read.csv(file = \"data/madrid_2006.csv\",header = TRUE);\n",
    "data2007<- read.csv(file = \"data/madrid_2007.csv\",header = TRUE);\n",
    "data2008<- read.csv(file = \"data/madrid_2008.csv\",header = TRUE);\n",
    "data2009<- read.csv(file = \"data/madrid_2009.csv\",header = TRUE);\n",
    "data2010<- read.csv(file = \"data/madrid_2010.csv\",header = TRUE);\n",
    "data2011<- read.csv(file = \"data/madrid_2011.csv\",header = TRUE);\n",
    "data2012<- read.csv(file = \"data/madrid_2012.csv\",header = TRUE);\n",
    "data2013<- read.csv(file = \"data/madrid_2013.csv\",header = TRUE);\n",
    "data2014<- read.csv(file = \"data/madrid_2014.csv\",header = TRUE);\n",
    "data2015<- read.csv(file = \"data/madrid_2015.csv\",header = TRUE);\n",
    "data2016<- read.csv(file = \"data/madrid_2016.csv\",header = TRUE);\n",
    "data2017<- read.csv(file = \"data/madrid_2017.csv\",header = TRUE);\n",
    "data2018<- read.csv(file = \"data/madrid_2018.csv\",header = TRUE);"
   ]
  },
  {
   "cell_type": "code",
   "execution_count": 213,
   "metadata": {},
   "outputs": [],
   "source": [
    "# unimos los datos \n",
    "data <- data.table::rbindlist(list(data2001,data2002,data2003,data2004,data2005,data2006,\n",
    "                                   data2007,data2008,data2009,data2010,data2011,data2012,\n",
    "                                   data2013,data2014,data2015,data2016,data2017,data2018),\n",
    "                                   fill = TRUE);\n",
    "\n",
    "# convertimos la lista en un dataset\n",
    "airMadrid <- as.data.frame(data); \n",
    "\n",
    "# liberamos memoria\n",
    "rm(list=ls(pattern=\"data\"))"
   ]
  },
  {
   "cell_type": "markdown",
   "metadata": {},
   "source": [
    "###  Carga datos Precipitaciones 2001-2018"
   ]
  },
  {
   "cell_type": "markdown",
   "metadata": {},
   "source": [
    "Cargamos las mediciones de las precipitaciones de Madrid entre 2001-2018 y creamos un dataframe con ellas"
   ]
  },
  {
   "cell_type": "code",
   "execution_count": 214,
   "metadata": {},
   "outputs": [],
   "source": [
    "#Cargamos los datos de las precipitaciones\n",
    "rainfall_2001<- readxl::read_xlsx(\"data/rainfall_2001.xlsx\",col_names = TRUE);\n",
    "rainfall_2002<- readxl::read_xlsx(\"data/rainfall_2002.xlsx\",col_names = TRUE);\n",
    "rainfall_2003<- readxl::read_xlsx(\"data/rainfall_2003.xlsx\",col_names = TRUE);\n",
    "rainfall_2004<- readxl::read_xlsx(\"data/rainfall_2004.xlsx\",col_names = TRUE);\n",
    "rainfall_2005<- readxl::read_xlsx(\"data/rainfall_2005.xlsx\",col_names = TRUE);\n",
    "rainfall_2006<- readxl::read_xlsx(\"data/rainfall_2006.xlsx\",col_names = TRUE);\n",
    "rainfall_2007<- readxl::read_xlsx(\"data/rainfall_2007.xlsx\",col_names = TRUE);\n",
    "rainfall_2008<- readxl::read_xlsx(\"data/rainfall_2008.xlsx\",col_names = TRUE);\n",
    "rainfall_2009<- readxl::read_xlsx(\"data/rainfall_2009.xlsx\",col_names = TRUE);\n",
    "rainfall_2010<- readxl::read_xlsx(\"data/rainfall_2010.xlsx\",col_names = TRUE);\n",
    "rainfall_2011<- readxl::read_xlsx(\"data/rainfall_2011.xlsx\",col_names = TRUE);\n",
    "rainfall_2012<- readxl::read_xlsx(\"data/rainfall_2012.xlsx\",col_names = TRUE);\n",
    "rainfall_2013<- readxl::read_xlsx(\"data/rainfall_2013.xlsx\",col_names = TRUE);\n",
    "rainfall_2014<- readxl::read_xlsx(\"data/rainfall_2014.xlsx\",col_names = TRUE);\n",
    "rainfall_2015<- readxl::read_xlsx(\"data/rainfall_2015.xlsx\",col_names = TRUE);\n",
    "rainfall_2016<- readxl::read_xlsx(\"data/rainfall_2016.xlsx\",col_names = TRUE);\n",
    "rainfall_2017<- readxl::read_xlsx(\"data/rainfall_2017.xlsx\",col_names = TRUE);\n",
    "rainfall_2018<- readxl::read_xlsx(\"data/rainfall_2018.xlsx\",col_names = TRUE);"
   ]
  },
  {
   "cell_type": "code",
   "execution_count": 215,
   "metadata": {},
   "outputs": [],
   "source": [
    "# unimos los datos\n",
    "rainfall <- data.table::rbindlist(list(rainfall_2001,rainfall_2002,rainfall_2003,rainfall_2004,\n",
    "              rainfall_2005,rainfall_2006,rainfall_2007,rainfall_2008,rainfall_2009,rainfall_2010,\n",
    "              rainfall_2011,rainfall_2012,rainfall_2013,rainfall_2014,rainfall_2015,rainfall_2016,\n",
    "rainfall_2017,rainfall_2018), fill = TRUE)\n",
    "\n",
    "# convertimos la lista en un dataset\n",
    "dataFrameRainfall <- as.data.frame(rainfall);\n",
    "\n",
    "# liberamos memoria\n",
    "rm(list=ls(pattern=\"rainfall\"))\n",
    "\n"
   ]
  },
  {
   "cell_type": "markdown",
   "metadata": {},
   "source": [
    "### Carga datos Viento 2001-2018"
   ]
  },
  {
   "cell_type": "markdown",
   "metadata": {},
   "source": [
    "Cargamos  las mediciones del viento de Madrid entre 2001-2018 y creamos un dataframe con ellas"
   ]
  },
  {
   "cell_type": "code",
   "execution_count": 216,
   "metadata": {},
   "outputs": [],
   "source": [
    "#Cargamos los datos de las precipitaciones\n",
    "wind_2001<- readxl::read_xlsx(\"data/wind_2001.xlsx\",col_names = TRUE);\n",
    "wind_2002<- readxl::read_xlsx(\"data/wind_2002.xlsx\",col_names = TRUE);\n",
    "wind_2003<- readxl::read_xlsx(\"data/wind_2003.xlsx\",col_names = TRUE);\n",
    "wind_2004<- readxl::read_xlsx(\"data/wind_2004.xlsx\",col_names = TRUE);\n",
    "wind_2005<- readxl::read_xlsx(\"data/wind_2005.xlsx\",col_names = TRUE);\n",
    "wind_2006<- readxl::read_xlsx(\"data/wind_2006.xlsx\",col_names = TRUE);\n",
    "wind_2007<- readxl::read_xlsx(\"data/wind_2007.xlsx\",col_names = TRUE);\n",
    "wind_2008<- readxl::read_xlsx(\"data/wind_2008.xlsx\",col_names = TRUE);\n",
    "wind_2009<- readxl::read_xlsx(\"data/wind_2009.xlsx\",col_names = TRUE);\n",
    "wind_2010<- readxl::read_xlsx(\"data/wind_2010.xlsx\",col_names = TRUE);\n",
    "wind_2011<- readxl::read_xlsx(\"data/wind_2011.xlsx\",col_names = TRUE);\n",
    "wind_2012<- readxl::read_xlsx(\"data/wind_2012.xlsx\",col_names = TRUE);\n",
    "wind_2013<- readxl::read_xlsx(\"data/wind_2013.xlsx\",col_names = TRUE);\n",
    "wind_2014<- readxl::read_xlsx(\"data/wind_2014.xlsx\",col_names = TRUE);\n",
    "wind_2015<- readxl::read_xlsx(\"data/wind_2015.xlsx\",col_names = TRUE);\n",
    "wind_2016<- readxl::read_xlsx(\"data/wind_2016.xlsx\",col_names = TRUE);\n",
    "wind_2017<- readxl::read_xlsx(\"data/wind_2017.xlsx\",col_names = TRUE);\n",
    "wind_2018<- readxl::read_xlsx(\"data/wind_2018.xlsx\",col_names = TRUE);"
   ]
  },
  {
   "cell_type": "code",
   "execution_count": 217,
   "metadata": {},
   "outputs": [],
   "source": [
    "# unimos los datos\n",
    "wind <- data.table::rbindlist(list(wind_2001,wind_2002,wind_2003,wind_2004,\n",
    "              wind_2005,wind_2006,wind_2007,wind_2008,wind_2009,wind_2010,\n",
    "              wind_2011,wind_2012,wind_2013,wind_2014,wind_2015,wind_2016,\n",
    "wind_2017,wind_2018), fill = TRUE)\n",
    "\n",
    "dataFrameWind <- as.data.frame(wind);\n",
    "\n",
    "rm(list=ls(pattern=\"wind\"))\n",
    "\n",
    "wind <-dataFrameWind\n",
    "rm(dataFrameWind)"
   ]
  },
  {
   "cell_type": "markdown",
   "metadata": {},
   "source": [
    "## 2º FASE: Explore"
   ]
  },
  {
   "cell_type": "markdown",
   "metadata": {},
   "source": [
    "Se analizan (exploran) los datos para comprenderlos, buscando relaciones previstas, tendencias imprevistas y/o anomalías, así como ideas para su posterior procesamiento.\n",
    "\n",
    "Para cada uno de los dataframe creados se visualizará el principo y el final de los mismos para observar si el intervalo en el que se encuentran abarca 2001-2018"
   ]
  },
  {
   "cell_type": "markdown",
   "metadata": {},
   "source": [
    "### Visualización inicial datos calidad del aire"
   ]
  },
  {
   "cell_type": "code",
   "execution_count": 218,
   "metadata": {},
   "outputs": [
    {
     "data": {
      "text/html": [
       "<table>\n",
       "<thead><tr><th scope=col>date</th><th scope=col>BEN</th><th scope=col>CO</th><th scope=col>EBE</th><th scope=col>MXY</th><th scope=col>NMHC</th><th scope=col>NO_2</th><th scope=col>NOx</th><th scope=col>OXY</th><th scope=col>O_3</th><th scope=col>PM10</th><th scope=col>PXY</th><th scope=col>SO_2</th><th scope=col>TCH</th><th scope=col>TOL</th><th scope=col>station</th><th scope=col>PM25</th><th scope=col>NO</th><th scope=col>CH4</th></tr></thead>\n",
       "<tbody>\n",
       "\t<tr><td>2001-08-01 01:00:00</td><td>  NA               </td><td>0.37               </td><td>  NA               </td><td>  NA               </td><td>  NA               </td><td>58.40              </td><td> 87.15             </td><td>  NA               </td><td>34.53              </td><td>105.00             </td><td>  NA               </td><td>6.34               </td><td>  NA               </td><td>   NA              </td><td>28079001           </td><td>NA                 </td><td>NA                 </td><td>NA                 </td></tr>\n",
       "\t<tr><td>2001-08-01 01:00:00</td><td>1.50               </td><td>0.34               </td><td>1.49               </td><td>4.10               </td><td>0.07               </td><td>56.25              </td><td> 75.17             </td><td>2.11               </td><td>42.16              </td><td>100.60             </td><td>1.73               </td><td>8.11               </td><td>1.24               </td><td>10.82              </td><td>28079035           </td><td>NA                 </td><td>NA                 </td><td>NA                 </td></tr>\n",
       "\t<tr><td>2001-08-01 01:00:00</td><td>  NA               </td><td>0.28               </td><td>  NA               </td><td>  NA               </td><td>  NA               </td><td>50.66              </td><td> 61.38             </td><td>  NA               </td><td>46.31              </td><td>100.10             </td><td>  NA               </td><td>7.85               </td><td>  NA               </td><td>   NA              </td><td>28079003           </td><td>NA                 </td><td>NA                 </td><td>NA                 </td></tr>\n",
       "\t<tr><td>2001-08-01 01:00:00</td><td>  NA               </td><td>0.47               </td><td>  NA               </td><td>  NA               </td><td>  NA               </td><td>69.79              </td><td> 73.45             </td><td>  NA               </td><td>40.65              </td><td> 69.78             </td><td>  NA               </td><td>6.46               </td><td>  NA               </td><td>   NA              </td><td>28079004           </td><td>NA                 </td><td>NA                 </td><td>NA                 </td></tr>\n",
       "\t<tr><td>2001-08-01 01:00:00</td><td>  NA               </td><td>0.39               </td><td>  NA               </td><td>  NA               </td><td>  NA               </td><td>22.83              </td><td> 24.80             </td><td>  NA               </td><td>66.31              </td><td> 75.18             </td><td>  NA               </td><td>8.80               </td><td>  NA               </td><td>   NA              </td><td>28079039           </td><td>NA                 </td><td>NA                 </td><td>NA                 </td></tr>\n",
       "\t<tr><td>2001-08-01 01:00:00</td><td>2.11               </td><td>0.63               </td><td>2.48               </td><td>5.94               </td><td>0.05               </td><td>66.26              </td><td>118.10             </td><td>3.15               </td><td>33.50              </td><td>122.70             </td><td>2.29               </td><td>6.36               </td><td>1.23               </td><td>13.28              </td><td>28079006           </td><td>NA                 </td><td>NA                 </td><td>NA                 </td></tr>\n",
       "</tbody>\n",
       "</table>\n"
      ],
      "text/latex": [
       "\\begin{tabular}{r|lllllllllllllllllll}\n",
       " date & BEN & CO & EBE & MXY & NMHC & NO\\_2 & NOx & OXY & O\\_3 & PM10 & PXY & SO\\_2 & TCH & TOL & station & PM25 & NO & CH4\\\\\n",
       "\\hline\n",
       "\t 2001-08-01 01:00:00 &   NA                & 0.37                &   NA                &   NA                &   NA                & 58.40               &  87.15              &   NA                & 34.53               & 105.00              &   NA                & 6.34                &   NA                &    NA               & 28079001            & NA                  & NA                  & NA                 \\\\\n",
       "\t 2001-08-01 01:00:00 & 1.50                & 0.34                & 1.49                & 4.10                & 0.07                & 56.25               &  75.17              & 2.11                & 42.16               & 100.60              & 1.73                & 8.11                & 1.24                & 10.82               & 28079035            & NA                  & NA                  & NA                 \\\\\n",
       "\t 2001-08-01 01:00:00 &   NA                & 0.28                &   NA                &   NA                &   NA                & 50.66               &  61.38              &   NA                & 46.31               & 100.10              &   NA                & 7.85                &   NA                &    NA               & 28079003            & NA                  & NA                  & NA                 \\\\\n",
       "\t 2001-08-01 01:00:00 &   NA                & 0.47                &   NA                &   NA                &   NA                & 69.79               &  73.45              &   NA                & 40.65               &  69.78              &   NA                & 6.46                &   NA                &    NA               & 28079004            & NA                  & NA                  & NA                 \\\\\n",
       "\t 2001-08-01 01:00:00 &   NA                & 0.39                &   NA                &   NA                &   NA                & 22.83               &  24.80              &   NA                & 66.31               &  75.18              &   NA                & 8.80                &   NA                &    NA               & 28079039            & NA                  & NA                  & NA                 \\\\\n",
       "\t 2001-08-01 01:00:00 & 2.11                & 0.63                & 2.48                & 5.94                & 0.05                & 66.26               & 118.10              & 3.15                & 33.50               & 122.70              & 2.29                & 6.36                & 1.23                & 13.28               & 28079006            & NA                  & NA                  & NA                 \\\\\n",
       "\\end{tabular}\n"
      ],
      "text/markdown": [
       "\n",
       "date | BEN | CO | EBE | MXY | NMHC | NO_2 | NOx | OXY | O_3 | PM10 | PXY | SO_2 | TCH | TOL | station | PM25 | NO | CH4 | \n",
       "|---|---|---|---|---|---|\n",
       "| 2001-08-01 01:00:00 |   NA                | 0.37                |   NA                |   NA                |   NA                | 58.40               |  87.15              |   NA                | 34.53               | 105.00              |   NA                | 6.34                |   NA                |    NA               | 28079001            | NA                  | NA                  | NA                  | \n",
       "| 2001-08-01 01:00:00 | 1.50                | 0.34                | 1.49                | 4.10                | 0.07                | 56.25               |  75.17              | 2.11                | 42.16               | 100.60              | 1.73                | 8.11                | 1.24                | 10.82               | 28079035            | NA                  | NA                  | NA                  | \n",
       "| 2001-08-01 01:00:00 |   NA                | 0.28                |   NA                |   NA                |   NA                | 50.66               |  61.38              |   NA                | 46.31               | 100.10              |   NA                | 7.85                |   NA                |    NA               | 28079003            | NA                  | NA                  | NA                  | \n",
       "| 2001-08-01 01:00:00 |   NA                | 0.47                |   NA                |   NA                |   NA                | 69.79               |  73.45              |   NA                | 40.65               |  69.78              |   NA                | 6.46                |   NA                |    NA               | 28079004            | NA                  | NA                  | NA                  | \n",
       "| 2001-08-01 01:00:00 |   NA                | 0.39                |   NA                |   NA                |   NA                | 22.83               |  24.80              |   NA                | 66.31               |  75.18              |   NA                | 8.80                |   NA                |    NA               | 28079039            | NA                  | NA                  | NA                  | \n",
       "| 2001-08-01 01:00:00 | 2.11                | 0.63                | 2.48                | 5.94                | 0.05                | 66.26               | 118.10              | 3.15                | 33.50               | 122.70              | 2.29                | 6.36                | 1.23                | 13.28               | 28079006            | NA                  | NA                  | NA                  | \n",
       "\n",
       "\n"
      ],
      "text/plain": [
       "  date                BEN  CO   EBE  MXY  NMHC NO_2  NOx    OXY  O_3   PM10  \n",
       "1 2001-08-01 01:00:00   NA 0.37   NA   NA   NA 58.40  87.15   NA 34.53 105.00\n",
       "2 2001-08-01 01:00:00 1.50 0.34 1.49 4.10 0.07 56.25  75.17 2.11 42.16 100.60\n",
       "3 2001-08-01 01:00:00   NA 0.28   NA   NA   NA 50.66  61.38   NA 46.31 100.10\n",
       "4 2001-08-01 01:00:00   NA 0.47   NA   NA   NA 69.79  73.45   NA 40.65  69.78\n",
       "5 2001-08-01 01:00:00   NA 0.39   NA   NA   NA 22.83  24.80   NA 66.31  75.18\n",
       "6 2001-08-01 01:00:00 2.11 0.63 2.48 5.94 0.05 66.26 118.10 3.15 33.50 122.70\n",
       "  PXY  SO_2 TCH  TOL   station  PM25 NO CH4\n",
       "1   NA 6.34   NA    NA 28079001 NA   NA NA \n",
       "2 1.73 8.11 1.24 10.82 28079035 NA   NA NA \n",
       "3   NA 7.85   NA    NA 28079003 NA   NA NA \n",
       "4   NA 6.46   NA    NA 28079004 NA   NA NA \n",
       "5   NA 8.80   NA    NA 28079039 NA   NA NA \n",
       "6 2.29 6.36 1.23 13.28 28079006 NA   NA NA "
      ]
     },
     "metadata": {},
     "output_type": "display_data"
    },
    {
     "data": {
      "text/html": [
       "<table>\n",
       "<thead><tr><th></th><th scope=col>date</th><th scope=col>BEN</th><th scope=col>CO</th><th scope=col>EBE</th><th scope=col>MXY</th><th scope=col>NMHC</th><th scope=col>NO_2</th><th scope=col>NOx</th><th scope=col>OXY</th><th scope=col>O_3</th><th scope=col>PM10</th><th scope=col>PXY</th><th scope=col>SO_2</th><th scope=col>TCH</th><th scope=col>TOL</th><th scope=col>station</th><th scope=col>PM25</th><th scope=col>NO</th><th scope=col>CH4</th></tr></thead>\n",
       "<tbody>\n",
       "\t<tr><th scope=row>3808219</th><td>2018-02-01 00:00:00</td><td>1.3                </td><td> NA                </td><td>1.2                </td><td>NA                 </td><td>0.13               </td><td> 94                </td><td>190                </td><td>NA                 </td><td>NA                 </td><td>35                 </td><td>NA                 </td><td>NA                 </td><td>1.68               </td><td>5.2                </td><td>28079055           </td><td>NA                 </td><td> 63                </td><td>1.55               </td></tr>\n",
       "\t<tr><th scope=row>3808220</th><td>2018-02-01 00:00:00</td><td> NA                </td><td>0.5                </td><td> NA                </td><td>NA                 </td><td>  NA               </td><td> 91                </td><td>192                </td><td>NA                 </td><td> 1                 </td><td>35                 </td><td>NA                 </td><td>NA                 </td><td>  NA               </td><td> NA                </td><td>28079056           </td><td>22                 </td><td> 66                </td><td>  NA               </td></tr>\n",
       "\t<tr><th scope=row>3808221</th><td>2018-02-01 00:00:00</td><td> NA                </td><td>0.7                </td><td> NA                </td><td>NA                 </td><td>  NA               </td><td>107                </td><td>241                </td><td>NA                 </td><td>NA                 </td><td>29                 </td><td>NA                 </td><td>15                 </td><td>  NA               </td><td> NA                </td><td>28079057           </td><td>NA                 </td><td> 87                </td><td>  NA               </td></tr>\n",
       "\t<tr><th scope=row>3808222</th><td>2018-02-01 00:00:00</td><td> NA                </td><td> NA                </td><td> NA                </td><td>NA                 </td><td>  NA               </td><td> 48                </td><td> 91                </td><td>NA                 </td><td> 2                 </td><td>NA                 </td><td>NA                 </td><td>NA                 </td><td>  NA               </td><td> NA                </td><td>28079058           </td><td>NA                 </td><td> 28                </td><td>  NA               </td></tr>\n",
       "\t<tr><th scope=row>3808223</th><td>2018-02-01 00:00:00</td><td> NA                </td><td> NA                </td><td> NA                </td><td>NA                 </td><td>  NA               </td><td>103                </td><td>320                </td><td>NA                 </td><td> 2                 </td><td>NA                 </td><td>NA                 </td><td>NA                 </td><td>  NA               </td><td> NA                </td><td>28079059           </td><td>NA                 </td><td>141                </td><td>  NA               </td></tr>\n",
       "\t<tr><th scope=row>3808224</th><td>2018-02-01 00:00:00</td><td> NA                </td><td> NA                </td><td> NA                </td><td>NA                 </td><td>  NA               </td><td> 96                </td><td>202                </td><td>NA                 </td><td> 3                 </td><td>26                 </td><td>NA                 </td><td>NA                 </td><td>  NA               </td><td> NA                </td><td>28079060           </td><td>NA                 </td><td> 69                </td><td>  NA               </td></tr>\n",
       "</tbody>\n",
       "</table>\n"
      ],
      "text/latex": [
       "\\begin{tabular}{r|lllllllllllllllllll}\n",
       "  & date & BEN & CO & EBE & MXY & NMHC & NO\\_2 & NOx & OXY & O\\_3 & PM10 & PXY & SO\\_2 & TCH & TOL & station & PM25 & NO & CH4\\\\\n",
       "\\hline\n",
       "\t3808219 & 2018-02-01 00:00:00 & 1.3                 &  NA                 & 1.2                 & NA                  & 0.13                &  94                 & 190                 & NA                  & NA                  & 35                  & NA                  & NA                  & 1.68                & 5.2                 & 28079055            & NA                  &  63                 & 1.55               \\\\\n",
       "\t3808220 & 2018-02-01 00:00:00 &  NA                 & 0.5                 &  NA                 & NA                  &   NA                &  91                 & 192                 & NA                  &  1                  & 35                  & NA                  & NA                  &   NA                &  NA                 & 28079056            & 22                  &  66                 &   NA               \\\\\n",
       "\t3808221 & 2018-02-01 00:00:00 &  NA                 & 0.7                 &  NA                 & NA                  &   NA                & 107                 & 241                 & NA                  & NA                  & 29                  & NA                  & 15                  &   NA                &  NA                 & 28079057            & NA                  &  87                 &   NA               \\\\\n",
       "\t3808222 & 2018-02-01 00:00:00 &  NA                 &  NA                 &  NA                 & NA                  &   NA                &  48                 &  91                 & NA                  &  2                  & NA                  & NA                  & NA                  &   NA                &  NA                 & 28079058            & NA                  &  28                 &   NA               \\\\\n",
       "\t3808223 & 2018-02-01 00:00:00 &  NA                 &  NA                 &  NA                 & NA                  &   NA                & 103                 & 320                 & NA                  &  2                  & NA                  & NA                  & NA                  &   NA                &  NA                 & 28079059            & NA                  & 141                 &   NA               \\\\\n",
       "\t3808224 & 2018-02-01 00:00:00 &  NA                 &  NA                 &  NA                 & NA                  &   NA                &  96                 & 202                 & NA                  &  3                  & 26                  & NA                  & NA                  &   NA                &  NA                 & 28079060            & NA                  &  69                 &   NA               \\\\\n",
       "\\end{tabular}\n"
      ],
      "text/markdown": [
       "\n",
       "| <!--/--> | date | BEN | CO | EBE | MXY | NMHC | NO_2 | NOx | OXY | O_3 | PM10 | PXY | SO_2 | TCH | TOL | station | PM25 | NO | CH4 | \n",
       "|---|---|---|---|---|---|\n",
       "| 3808219 | 2018-02-01 00:00:00 | 1.3                 |  NA                 | 1.2                 | NA                  | 0.13                |  94                 | 190                 | NA                  | NA                  | 35                  | NA                  | NA                  | 1.68                | 5.2                 | 28079055            | NA                  |  63                 | 1.55                | \n",
       "| 3808220 | 2018-02-01 00:00:00 |  NA                 | 0.5                 |  NA                 | NA                  |   NA                |  91                 | 192                 | NA                  |  1                  | 35                  | NA                  | NA                  |   NA                |  NA                 | 28079056            | 22                  |  66                 |   NA                | \n",
       "| 3808221 | 2018-02-01 00:00:00 |  NA                 | 0.7                 |  NA                 | NA                  |   NA                | 107                 | 241                 | NA                  | NA                  | 29                  | NA                  | 15                  |   NA                |  NA                 | 28079057            | NA                  |  87                 |   NA                | \n",
       "| 3808222 | 2018-02-01 00:00:00 |  NA                 |  NA                 |  NA                 | NA                  |   NA                |  48                 |  91                 | NA                  |  2                  | NA                  | NA                  | NA                  |   NA                |  NA                 | 28079058            | NA                  |  28                 |   NA                | \n",
       "| 3808223 | 2018-02-01 00:00:00 |  NA                 |  NA                 |  NA                 | NA                  |   NA                | 103                 | 320                 | NA                  |  2                  | NA                  | NA                  | NA                  |   NA                |  NA                 | 28079059            | NA                  | 141                 |   NA                | \n",
       "| 3808224 | 2018-02-01 00:00:00 |  NA                 |  NA                 |  NA                 | NA                  |   NA                |  96                 | 202                 | NA                  |  3                  | 26                  | NA                  | NA                  |   NA                |  NA                 | 28079060            | NA                  |  69                 |   NA                | \n",
       "\n",
       "\n"
      ],
      "text/plain": [
       "        date                BEN CO  EBE MXY NMHC NO_2 NOx OXY O_3 PM10 PXY SO_2\n",
       "3808219 2018-02-01 00:00:00 1.3  NA 1.2 NA  0.13  94  190 NA  NA  35   NA  NA  \n",
       "3808220 2018-02-01 00:00:00  NA 0.5  NA NA    NA  91  192 NA   1  35   NA  NA  \n",
       "3808221 2018-02-01 00:00:00  NA 0.7  NA NA    NA 107  241 NA  NA  29   NA  15  \n",
       "3808222 2018-02-01 00:00:00  NA  NA  NA NA    NA  48   91 NA   2  NA   NA  NA  \n",
       "3808223 2018-02-01 00:00:00  NA  NA  NA NA    NA 103  320 NA   2  NA   NA  NA  \n",
       "3808224 2018-02-01 00:00:00  NA  NA  NA NA    NA  96  202 NA   3  26   NA  NA  \n",
       "        TCH  TOL station  PM25 NO  CH4 \n",
       "3808219 1.68 5.2 28079055 NA    63 1.55\n",
       "3808220   NA  NA 28079056 22    66   NA\n",
       "3808221   NA  NA 28079057 NA    87   NA\n",
       "3808222   NA  NA 28079058 NA    28   NA\n",
       "3808223   NA  NA 28079059 NA   141   NA\n",
       "3808224   NA  NA 28079060 NA    69   NA"
      ]
     },
     "metadata": {},
     "output_type": "display_data"
    }
   ],
   "source": [
    "head(airMadrid)\n",
    "tail(airMadrid)"
   ]
  },
  {
   "cell_type": "markdown",
   "metadata": {},
   "source": [
    "### Visualización inicial datos precipitaciones"
   ]
  },
  {
   "cell_type": "code",
   "execution_count": 219,
   "metadata": {},
   "outputs": [
    {
     "data": {
      "text/html": [
       "<table>\n",
       "<thead><tr><th scope=col>FECHA</th><th scope=col>Precipitación: l/m2</th></tr></thead>\n",
       "<tbody>\n",
       "\t<tr><td>2001-01-01</td><td>4.3       </td></tr>\n",
       "\t<tr><td>2001-01-02</td><td>0.1       </td></tr>\n",
       "\t<tr><td>2001-01-03</td><td>2.2       </td></tr>\n",
       "\t<tr><td>2001-01-04</td><td>2.4       </td></tr>\n",
       "\t<tr><td>2001-01-05</td><td>13.3      </td></tr>\n",
       "\t<tr><td>2001-01-06</td><td>0.0       </td></tr>\n",
       "</tbody>\n",
       "</table>\n"
      ],
      "text/latex": [
       "\\begin{tabular}{r|ll}\n",
       " FECHA & Precipitación: l/m2\\\\\n",
       "\\hline\n",
       "\t 2001-01-01 & 4.3       \\\\\n",
       "\t 2001-01-02 & 0.1       \\\\\n",
       "\t 2001-01-03 & 2.2       \\\\\n",
       "\t 2001-01-04 & 2.4       \\\\\n",
       "\t 2001-01-05 & 13.3      \\\\\n",
       "\t 2001-01-06 & 0.0       \\\\\n",
       "\\end{tabular}\n"
      ],
      "text/markdown": [
       "\n",
       "FECHA | Precipitación: l/m2 | \n",
       "|---|---|---|---|---|---|\n",
       "| 2001-01-01 | 4.3        | \n",
       "| 2001-01-02 | 0.1        | \n",
       "| 2001-01-03 | 2.2        | \n",
       "| 2001-01-04 | 2.4        | \n",
       "| 2001-01-05 | 13.3       | \n",
       "| 2001-01-06 | 0.0        | \n",
       "\n",
       "\n"
      ],
      "text/plain": [
       "  FECHA      Precipitación: l/m2\n",
       "1 2001-01-01 4.3                \n",
       "2 2001-01-02 0.1                \n",
       "3 2001-01-03 2.2                \n",
       "4 2001-01-04 2.4                \n",
       "5 2001-01-05 13.3               \n",
       "6 2001-01-06 0.0                "
      ]
     },
     "metadata": {},
     "output_type": "display_data"
    },
    {
     "data": {
      "text/html": [
       "<table>\n",
       "<thead><tr><th></th><th scope=col>FECHA</th><th scope=col>Precipitación: l/m2</th></tr></thead>\n",
       "<tbody>\n",
       "\t<tr><th scope=row>5933</th><td>2018-12-26</td><td>0         </td></tr>\n",
       "\t<tr><th scope=row>5934</th><td>2018-12-27</td><td>0         </td></tr>\n",
       "\t<tr><th scope=row>5935</th><td>2018-12-28</td><td>0         </td></tr>\n",
       "\t<tr><th scope=row>5936</th><td>2018-12-29</td><td>0         </td></tr>\n",
       "\t<tr><th scope=row>5937</th><td>2018-12-30</td><td>0         </td></tr>\n",
       "\t<tr><th scope=row>5938</th><td>2018-12-31</td><td>0         </td></tr>\n",
       "</tbody>\n",
       "</table>\n"
      ],
      "text/latex": [
       "\\begin{tabular}{r|ll}\n",
       "  & FECHA & Precipitación: l/m2\\\\\n",
       "\\hline\n",
       "\t5933 & 2018-12-26 & 0         \\\\\n",
       "\t5934 & 2018-12-27 & 0         \\\\\n",
       "\t5935 & 2018-12-28 & 0         \\\\\n",
       "\t5936 & 2018-12-29 & 0         \\\\\n",
       "\t5937 & 2018-12-30 & 0         \\\\\n",
       "\t5938 & 2018-12-31 & 0         \\\\\n",
       "\\end{tabular}\n"
      ],
      "text/markdown": [
       "\n",
       "| <!--/--> | FECHA | Precipitación: l/m2 | \n",
       "|---|---|---|---|---|---|\n",
       "| 5933 | 2018-12-26 | 0          | \n",
       "| 5934 | 2018-12-27 | 0          | \n",
       "| 5935 | 2018-12-28 | 0          | \n",
       "| 5936 | 2018-12-29 | 0          | \n",
       "| 5937 | 2018-12-30 | 0          | \n",
       "| 5938 | 2018-12-31 | 0          | \n",
       "\n",
       "\n"
      ],
      "text/plain": [
       "     FECHA      Precipitación: l/m2\n",
       "5933 2018-12-26 0                  \n",
       "5934 2018-12-27 0                  \n",
       "5935 2018-12-28 0                  \n",
       "5936 2018-12-29 0                  \n",
       "5937 2018-12-30 0                  \n",
       "5938 2018-12-31 0                  "
      ]
     },
     "metadata": {},
     "output_type": "display_data"
    }
   ],
   "source": [
    "head(dataFrameRainfall)\n",
    "tail(dataFrameRainfall)"
   ]
  },
  {
   "cell_type": "markdown",
   "metadata": {},
   "source": [
    "## Visualización inicial datos viento"
   ]
  },
  {
   "cell_type": "code",
   "execution_count": 220,
   "metadata": {},
   "outputs": [
    {
     "data": {
      "text/html": [
       "<table>\n",
       "<thead><tr><th scope=col>FECHA</th><th scope=col>Racha Max (Km/h)</th><th scope=col>Hora Racha</th><th scope=col>Veloc. Media (Km/h)</th></tr></thead>\n",
       "<tbody>\n",
       "\t<tr><td>2001-01-01         </td><td>43.92              </td><td>0.94444444444444453</td><td>3.96               </td></tr>\n",
       "\t<tr><td>2001-01-02         </td><td>52.92              </td><td>0.60416666666666663</td><td>12.96              </td></tr>\n",
       "\t<tr><td>2001-01-03         </td><td>33.84              </td><td>0.65277777777777779</td><td>6.12               </td></tr>\n",
       "\t<tr><td>2001-01-04         </td><td>41.04              </td><td>0.54861111111111105</td><td>11.88              </td></tr>\n",
       "\t<tr><td>2001-01-05         </td><td>46.08              </td><td>0.99305555555555547</td><td>3.96               </td></tr>\n",
       "\t<tr><td>2001-01-06         </td><td>41.04              </td><td>0.47222222222222227</td><td>9                  </td></tr>\n",
       "</tbody>\n",
       "</table>\n"
      ],
      "text/latex": [
       "\\begin{tabular}{r|llll}\n",
       " FECHA & Racha Max (Km/h) & Hora Racha & Veloc. Media (Km/h)\\\\\n",
       "\\hline\n",
       "\t 2001-01-01          & 43.92               & 0.94444444444444453 & 3.96               \\\\\n",
       "\t 2001-01-02          & 52.92               & 0.60416666666666663 & 12.96              \\\\\n",
       "\t 2001-01-03          & 33.84               & 0.65277777777777779 & 6.12               \\\\\n",
       "\t 2001-01-04          & 41.04               & 0.54861111111111105 & 11.88              \\\\\n",
       "\t 2001-01-05          & 46.08               & 0.99305555555555547 & 3.96               \\\\\n",
       "\t 2001-01-06          & 41.04               & 0.47222222222222227 & 9                  \\\\\n",
       "\\end{tabular}\n"
      ],
      "text/markdown": [
       "\n",
       "FECHA | Racha Max (Km/h) | Hora Racha | Veloc. Media (Km/h) | \n",
       "|---|---|---|---|---|---|\n",
       "| 2001-01-01          | 43.92               | 0.94444444444444453 | 3.96                | \n",
       "| 2001-01-02          | 52.92               | 0.60416666666666663 | 12.96               | \n",
       "| 2001-01-03          | 33.84               | 0.65277777777777779 | 6.12                | \n",
       "| 2001-01-04          | 41.04               | 0.54861111111111105 | 11.88               | \n",
       "| 2001-01-05          | 46.08               | 0.99305555555555547 | 3.96                | \n",
       "| 2001-01-06          | 41.04               | 0.47222222222222227 | 9                   | \n",
       "\n",
       "\n"
      ],
      "text/plain": [
       "  FECHA      Racha Max (Km/h) Hora Racha          Veloc. Media (Km/h)\n",
       "1 2001-01-01 43.92            0.94444444444444453 3.96               \n",
       "2 2001-01-02 52.92            0.60416666666666663 12.96              \n",
       "3 2001-01-03 33.84            0.65277777777777779 6.12               \n",
       "4 2001-01-04 41.04            0.54861111111111105 11.88              \n",
       "5 2001-01-05 46.08            0.99305555555555547 3.96               \n",
       "6 2001-01-06 41.04            0.47222222222222227 9                  "
      ]
     },
     "metadata": {},
     "output_type": "display_data"
    },
    {
     "data": {
      "text/html": [
       "<table>\n",
       "<thead><tr><th></th><th scope=col>FECHA</th><th scope=col>Racha Max (Km/h)</th><th scope=col>Hora Racha</th><th scope=col>Veloc. Media (Km/h)</th></tr></thead>\n",
       "<tbody>\n",
       "\t<tr><th scope=row>5854</th><td>2018-12-26           </td><td>10.08                </td><td>Varias               </td><td>2.16                 </td></tr>\n",
       "\t<tr><th scope=row>5855</th><td>2018-12-27           </td><td>10.08                </td><td>0.49305555555555558  </td><td>2.16                 </td></tr>\n",
       "\t<tr><th scope=row>5856</th><td>2018-12-28           </td><td>25.92                </td><td>0.90277777777777779  </td><td>5.04                 </td></tr>\n",
       "\t<tr><th scope=row>5857</th><td>2018-12-29           </td><td>30.96                </td><td>0.96527777777777779  </td><td>6.12                 </td></tr>\n",
       "\t<tr><th scope=row>5858</th><td>2018-12-30           </td><td>32.04                </td><td>1.3888888888888888E-2</td><td>3.96                 </td></tr>\n",
       "\t<tr><th scope=row>5859</th><td>2018-12-31           </td><td>11.16                </td><td>0.55555555555555558  </td><td>1.08                 </td></tr>\n",
       "</tbody>\n",
       "</table>\n"
      ],
      "text/latex": [
       "\\begin{tabular}{r|llll}\n",
       "  & FECHA & Racha Max (Km/h) & Hora Racha & Veloc. Media (Km/h)\\\\\n",
       "\\hline\n",
       "\t5854 & 2018-12-26            & 10.08                 & Varias                & 2.16                 \\\\\n",
       "\t5855 & 2018-12-27            & 10.08                 & 0.49305555555555558   & 2.16                 \\\\\n",
       "\t5856 & 2018-12-28            & 25.92                 & 0.90277777777777779   & 5.04                 \\\\\n",
       "\t5857 & 2018-12-29            & 30.96                 & 0.96527777777777779   & 6.12                 \\\\\n",
       "\t5858 & 2018-12-30            & 32.04                 & 1.3888888888888888E-2 & 3.96                 \\\\\n",
       "\t5859 & 2018-12-31            & 11.16                 & 0.55555555555555558   & 1.08                 \\\\\n",
       "\\end{tabular}\n"
      ],
      "text/markdown": [
       "\n",
       "| <!--/--> | FECHA | Racha Max (Km/h) | Hora Racha | Veloc. Media (Km/h) | \n",
       "|---|---|---|---|---|---|\n",
       "| 5854 | 2018-12-26            | 10.08                 | Varias                | 2.16                  | \n",
       "| 5855 | 2018-12-27            | 10.08                 | 0.49305555555555558   | 2.16                  | \n",
       "| 5856 | 2018-12-28            | 25.92                 | 0.90277777777777779   | 5.04                  | \n",
       "| 5857 | 2018-12-29            | 30.96                 | 0.96527777777777779   | 6.12                  | \n",
       "| 5858 | 2018-12-30            | 32.04                 | 1.3888888888888888E-2 | 3.96                  | \n",
       "| 5859 | 2018-12-31            | 11.16                 | 0.55555555555555558   | 1.08                  | \n",
       "\n",
       "\n"
      ],
      "text/plain": [
       "     FECHA      Racha Max (Km/h) Hora Racha            Veloc. Media (Km/h)\n",
       "5854 2018-12-26 10.08            Varias                2.16               \n",
       "5855 2018-12-27 10.08            0.49305555555555558   2.16               \n",
       "5856 2018-12-28 25.92            0.90277777777777779   5.04               \n",
       "5857 2018-12-29 30.96            0.96527777777777779   6.12               \n",
       "5858 2018-12-30 32.04            1.3888888888888888E-2 3.96               \n",
       "5859 2018-12-31 11.16            0.55555555555555558   1.08               "
      ]
     },
     "metadata": {},
     "output_type": "display_data"
    }
   ],
   "source": [
    "head(wind)\n",
    "tail(wind)"
   ]
  },
  {
   "cell_type": "markdown",
   "metadata": {},
   "source": [
    "## 3º FASE: Modify"
   ]
  },
  {
   "cell_type": "markdown",
   "metadata": {},
   "source": [
    "Se modifican los datos (creando, seleccionando y transformando las variables adecuadas) para facilitar el proceso siguiente (modelización).\n"
   ]
  },
  {
   "cell_type": "markdown",
   "metadata": {},
   "source": [
    "### Modificaciones dataframe precipitaciones"
   ]
  },
  {
   "cell_type": "markdown",
   "metadata": {},
   "source": [
    "Se cambiarán los nombres de las columnas para una mejor utilización de las mismas. También se modificará el tipo de la columna \"*Precipitación: l/m2*\" a númerico pra poder tratar los datos."
   ]
  },
  {
   "cell_type": "code",
   "execution_count": 221,
   "metadata": {},
   "outputs": [],
   "source": [
    "# cambiamos nombre de las columnas\n",
    "data.table::setnames(dataFrameRainfall, \"FECHA\", \"date\")\n",
    "data.table::setnames(dataFrameRainfall, \"Precipitación: l/m2\", \"quantity\")\n",
    "#Convertimos tipos\n",
    "dataFrameRainfall <- as.data.frame(dataFrameRainfall)\n",
    "dataFrameRainfall$quantity <- as.numeric(dataFrameRainfall$quantity)"
   ]
  },
  {
   "cell_type": "markdown",
   "metadata": {},
   "source": [
    "### Modificaciones dataframe viento"
   ]
  },
  {
   "cell_type": "markdown",
   "metadata": {},
   "source": [
    "<p style=\"text-align: justify;\">\n",
    "Se cambiarán los nombres de las columnas para una mejor utilización de las mismas. Se eliminarán las columnas que no se utilizarán en el estudio y se comprobará el tipo de las columnas restantes, transformando la velocidad del viento a m/s para su posterior discretización.\n",
    "</p>"
   ]
  },
  {
   "cell_type": "code",
   "execution_count": 222,
   "metadata": {},
   "outputs": [],
   "source": [
    "# cambiamos nombre de las columnas\n",
    "data.table::setnames(wind, \"FECHA\", \"date\")\n",
    "data.table::setnames(wind, \"Veloc. Media (Km/h)\", \"Speed\")\n",
    "data.table::setnames(wind, \"Racha Max (Km/h)\", \"maxSpeed\")\n",
    "data.table::setnames(wind, \"Hora Racha\", \"time\")\n",
    "\n",
    "#Eliminamos columnas que no nos interesan\n",
    "wind$time = NULL\n",
    "wind$maxSpeed= NULL\n",
    "\n",
    "#Preparamos la fecha en formato Date para cruzar los datos\n",
    "wind$date <- as.Date(wind$date)\n",
    "\n",
    "#Ponemos la velocidad del viento en m/s\n",
    "\n",
    "wind$Speed <- as.numeric(wind$Speed)\n",
    "wind$Speed = wind$Speed * (1000/3600)\n"
   ]
  },
  {
   "cell_type": "markdown",
   "metadata": {},
   "source": [
    "### Limpieza de datos"
   ]
  },
  {
   "cell_type": "markdown",
   "metadata": {},
   "source": [
    "Tras las modificaciones en los dataset anteriores procedemos a sustitutir los NaN como NA para que puedan ser utilizados en el estudio.Se realizará esta operacion en los dataframes:\n",
    "- Muestras contaminación Madrid\n",
    "- Precipitaciones\n",
    "- Viento"
   ]
  },
  {
   "cell_type": "code",
   "execution_count": 223,
   "metadata": {},
   "outputs": [
    {
     "data": {
      "text/html": [
       "<table>\n",
       "<thead><tr><th></th><th scope=col>date</th><th scope=col>BEN</th><th scope=col>CO</th><th scope=col>EBE</th><th scope=col>MXY</th><th scope=col>NMHC</th><th scope=col>NO_2</th><th scope=col>NOx</th><th scope=col>OXY</th><th scope=col>O_3</th><th scope=col>PM10</th><th scope=col>PXY</th><th scope=col>SO_2</th><th scope=col>TCH</th><th scope=col>TOL</th><th scope=col>station</th><th scope=col>PM25</th><th scope=col>NO</th><th scope=col>CH4</th></tr></thead>\n",
       "<tbody>\n",
       "\t<tr><th scope=row>3808219</th><td>2018-02-01 00:00:00</td><td>1.3                </td><td> NA                </td><td>1.2                </td><td>NA                 </td><td>0.13               </td><td> 94                </td><td>190                </td><td>NA                 </td><td>NA                 </td><td>35                 </td><td>NA                 </td><td>NA                 </td><td>1.68               </td><td>5.2                </td><td>28079055           </td><td>NA                 </td><td> 63                </td><td>1.55               </td></tr>\n",
       "\t<tr><th scope=row>3808220</th><td>2018-02-01 00:00:00</td><td> NA                </td><td>0.5                </td><td> NA                </td><td>NA                 </td><td>  NA               </td><td> 91                </td><td>192                </td><td>NA                 </td><td> 1                 </td><td>35                 </td><td>NA                 </td><td>NA                 </td><td>  NA               </td><td> NA                </td><td>28079056           </td><td>22                 </td><td> 66                </td><td>  NA               </td></tr>\n",
       "\t<tr><th scope=row>3808221</th><td>2018-02-01 00:00:00</td><td> NA                </td><td>0.7                </td><td> NA                </td><td>NA                 </td><td>  NA               </td><td>107                </td><td>241                </td><td>NA                 </td><td>NA                 </td><td>29                 </td><td>NA                 </td><td>15                 </td><td>  NA               </td><td> NA                </td><td>28079057           </td><td>NA                 </td><td> 87                </td><td>  NA               </td></tr>\n",
       "\t<tr><th scope=row>3808222</th><td>2018-02-01 00:00:00</td><td> NA                </td><td> NA                </td><td> NA                </td><td>NA                 </td><td>  NA               </td><td> 48                </td><td> 91                </td><td>NA                 </td><td> 2                 </td><td>NA                 </td><td>NA                 </td><td>NA                 </td><td>  NA               </td><td> NA                </td><td>28079058           </td><td>NA                 </td><td> 28                </td><td>  NA               </td></tr>\n",
       "\t<tr><th scope=row>3808223</th><td>2018-02-01 00:00:00</td><td> NA                </td><td> NA                </td><td> NA                </td><td>NA                 </td><td>  NA               </td><td>103                </td><td>320                </td><td>NA                 </td><td> 2                 </td><td>NA                 </td><td>NA                 </td><td>NA                 </td><td>  NA               </td><td> NA                </td><td>28079059           </td><td>NA                 </td><td>141                </td><td>  NA               </td></tr>\n",
       "\t<tr><th scope=row>3808224</th><td>2018-02-01 00:00:00</td><td> NA                </td><td> NA                </td><td> NA                </td><td>NA                 </td><td>  NA               </td><td> 96                </td><td>202                </td><td>NA                 </td><td> 3                 </td><td>26                 </td><td>NA                 </td><td>NA                 </td><td>  NA               </td><td> NA                </td><td>28079060           </td><td>NA                 </td><td> 69                </td><td>  NA               </td></tr>\n",
       "</tbody>\n",
       "</table>\n"
      ],
      "text/latex": [
       "\\begin{tabular}{r|lllllllllllllllllll}\n",
       "  & date & BEN & CO & EBE & MXY & NMHC & NO\\_2 & NOx & OXY & O\\_3 & PM10 & PXY & SO\\_2 & TCH & TOL & station & PM25 & NO & CH4\\\\\n",
       "\\hline\n",
       "\t3808219 & 2018-02-01 00:00:00 & 1.3                 &  NA                 & 1.2                 & NA                  & 0.13                &  94                 & 190                 & NA                  & NA                  & 35                  & NA                  & NA                  & 1.68                & 5.2                 & 28079055            & NA                  &  63                 & 1.55               \\\\\n",
       "\t3808220 & 2018-02-01 00:00:00 &  NA                 & 0.5                 &  NA                 & NA                  &   NA                &  91                 & 192                 & NA                  &  1                  & 35                  & NA                  & NA                  &   NA                &  NA                 & 28079056            & 22                  &  66                 &   NA               \\\\\n",
       "\t3808221 & 2018-02-01 00:00:00 &  NA                 & 0.7                 &  NA                 & NA                  &   NA                & 107                 & 241                 & NA                  & NA                  & 29                  & NA                  & 15                  &   NA                &  NA                 & 28079057            & NA                  &  87                 &   NA               \\\\\n",
       "\t3808222 & 2018-02-01 00:00:00 &  NA                 &  NA                 &  NA                 & NA                  &   NA                &  48                 &  91                 & NA                  &  2                  & NA                  & NA                  & NA                  &   NA                &  NA                 & 28079058            & NA                  &  28                 &   NA               \\\\\n",
       "\t3808223 & 2018-02-01 00:00:00 &  NA                 &  NA                 &  NA                 & NA                  &   NA                & 103                 & 320                 & NA                  &  2                  & NA                  & NA                  & NA                  &   NA                &  NA                 & 28079059            & NA                  & 141                 &   NA               \\\\\n",
       "\t3808224 & 2018-02-01 00:00:00 &  NA                 &  NA                 &  NA                 & NA                  &   NA                &  96                 & 202                 & NA                  &  3                  & 26                  & NA                  & NA                  &   NA                &  NA                 & 28079060            & NA                  &  69                 &   NA               \\\\\n",
       "\\end{tabular}\n"
      ],
      "text/markdown": [
       "\n",
       "| <!--/--> | date | BEN | CO | EBE | MXY | NMHC | NO_2 | NOx | OXY | O_3 | PM10 | PXY | SO_2 | TCH | TOL | station | PM25 | NO | CH4 | \n",
       "|---|---|---|---|---|---|\n",
       "| 3808219 | 2018-02-01 00:00:00 | 1.3                 |  NA                 | 1.2                 | NA                  | 0.13                |  94                 | 190                 | NA                  | NA                  | 35                  | NA                  | NA                  | 1.68                | 5.2                 | 28079055            | NA                  |  63                 | 1.55                | \n",
       "| 3808220 | 2018-02-01 00:00:00 |  NA                 | 0.5                 |  NA                 | NA                  |   NA                |  91                 | 192                 | NA                  |  1                  | 35                  | NA                  | NA                  |   NA                |  NA                 | 28079056            | 22                  |  66                 |   NA                | \n",
       "| 3808221 | 2018-02-01 00:00:00 |  NA                 | 0.7                 |  NA                 | NA                  |   NA                | 107                 | 241                 | NA                  | NA                  | 29                  | NA                  | 15                  |   NA                |  NA                 | 28079057            | NA                  |  87                 |   NA                | \n",
       "| 3808222 | 2018-02-01 00:00:00 |  NA                 |  NA                 |  NA                 | NA                  |   NA                |  48                 |  91                 | NA                  |  2                  | NA                  | NA                  | NA                  |   NA                |  NA                 | 28079058            | NA                  |  28                 |   NA                | \n",
       "| 3808223 | 2018-02-01 00:00:00 |  NA                 |  NA                 |  NA                 | NA                  |   NA                | 103                 | 320                 | NA                  |  2                  | NA                  | NA                  | NA                  |   NA                |  NA                 | 28079059            | NA                  | 141                 |   NA                | \n",
       "| 3808224 | 2018-02-01 00:00:00 |  NA                 |  NA                 |  NA                 | NA                  |   NA                |  96                 | 202                 | NA                  |  3                  | 26                  | NA                  | NA                  |   NA                |  NA                 | 28079060            | NA                  |  69                 |   NA                | \n",
       "\n",
       "\n"
      ],
      "text/plain": [
       "        date                BEN CO  EBE MXY NMHC NO_2 NOx OXY O_3 PM10 PXY SO_2\n",
       "3808219 2018-02-01 00:00:00 1.3  NA 1.2 NA  0.13  94  190 NA  NA  35   NA  NA  \n",
       "3808220 2018-02-01 00:00:00  NA 0.5  NA NA    NA  91  192 NA   1  35   NA  NA  \n",
       "3808221 2018-02-01 00:00:00  NA 0.7  NA NA    NA 107  241 NA  NA  29   NA  15  \n",
       "3808222 2018-02-01 00:00:00  NA  NA  NA NA    NA  48   91 NA   2  NA   NA  NA  \n",
       "3808223 2018-02-01 00:00:00  NA  NA  NA NA    NA 103  320 NA   2  NA   NA  NA  \n",
       "3808224 2018-02-01 00:00:00  NA  NA  NA NA    NA  96  202 NA   3  26   NA  NA  \n",
       "        TCH  TOL station  PM25 NO  CH4 \n",
       "3808219 1.68 5.2 28079055 NA    63 1.55\n",
       "3808220   NA  NA 28079056 22    66   NA\n",
       "3808221   NA  NA 28079057 NA    87   NA\n",
       "3808222   NA  NA 28079058 NA    28   NA\n",
       "3808223   NA  NA 28079059 NA   141   NA\n",
       "3808224   NA  NA 28079060 NA    69   NA"
      ]
     },
     "metadata": {},
     "output_type": "display_data"
    }
   ],
   "source": [
    "is.nan.data.frame <- function(x)\n",
    "    do.call(cbind,lapply(x,is.nan))\n",
    "airMadrid <- as.data.frame(airMadrid)\n",
    "airMadrid[is.nan(airMadrid)] <- NA\n",
    "tail(airMadrid)"
   ]
  },
  {
   "cell_type": "code",
   "execution_count": 224,
   "metadata": {},
   "outputs": [
    {
     "data": {
      "text/html": [
       "<table>\n",
       "<thead><tr><th></th><th scope=col>date</th><th scope=col>quantity</th></tr></thead>\n",
       "<tbody>\n",
       "\t<tr><th scope=row>5933</th><td>2018-12-26</td><td>0         </td></tr>\n",
       "\t<tr><th scope=row>5934</th><td>2018-12-27</td><td>0         </td></tr>\n",
       "\t<tr><th scope=row>5935</th><td>2018-12-28</td><td>0         </td></tr>\n",
       "\t<tr><th scope=row>5936</th><td>2018-12-29</td><td>0         </td></tr>\n",
       "\t<tr><th scope=row>5937</th><td>2018-12-30</td><td>0         </td></tr>\n",
       "\t<tr><th scope=row>5938</th><td>2018-12-31</td><td>0         </td></tr>\n",
       "</tbody>\n",
       "</table>\n"
      ],
      "text/latex": [
       "\\begin{tabular}{r|ll}\n",
       "  & date & quantity\\\\\n",
       "\\hline\n",
       "\t5933 & 2018-12-26 & 0         \\\\\n",
       "\t5934 & 2018-12-27 & 0         \\\\\n",
       "\t5935 & 2018-12-28 & 0         \\\\\n",
       "\t5936 & 2018-12-29 & 0         \\\\\n",
       "\t5937 & 2018-12-30 & 0         \\\\\n",
       "\t5938 & 2018-12-31 & 0         \\\\\n",
       "\\end{tabular}\n"
      ],
      "text/markdown": [
       "\n",
       "| <!--/--> | date | quantity | \n",
       "|---|---|---|---|---|---|\n",
       "| 5933 | 2018-12-26 | 0          | \n",
       "| 5934 | 2018-12-27 | 0          | \n",
       "| 5935 | 2018-12-28 | 0          | \n",
       "| 5936 | 2018-12-29 | 0          | \n",
       "| 5937 | 2018-12-30 | 0          | \n",
       "| 5938 | 2018-12-31 | 0          | \n",
       "\n",
       "\n"
      ],
      "text/plain": [
       "     date       quantity\n",
       "5933 2018-12-26 0       \n",
       "5934 2018-12-27 0       \n",
       "5935 2018-12-28 0       \n",
       "5936 2018-12-29 0       \n",
       "5937 2018-12-30 0       \n",
       "5938 2018-12-31 0       "
      ]
     },
     "metadata": {},
     "output_type": "display_data"
    }
   ],
   "source": [
    "is.nan.data.frame <- function(x)\n",
    "    do.call(cbind,lapply(x,is.nan))\n",
    "dataFrameRainfall <- as.data.frame(dataFrameRainfall)\n",
    "dataFrameRainfall[is.nan(dataFrameRainfall)] <- NA\n",
    "tail(dataFrameRainfall)"
   ]
  },
  {
   "cell_type": "code",
   "execution_count": 225,
   "metadata": {},
   "outputs": [
    {
     "data": {
      "text/html": [
       "<table>\n",
       "<thead><tr><th></th><th scope=col>date</th><th scope=col>Speed</th></tr></thead>\n",
       "<tbody>\n",
       "\t<tr><th scope=row>5854</th><td>2018-12-26</td><td>0.6       </td></tr>\n",
       "\t<tr><th scope=row>5855</th><td>2018-12-27</td><td>0.6       </td></tr>\n",
       "\t<tr><th scope=row>5856</th><td>2018-12-28</td><td>1.4       </td></tr>\n",
       "\t<tr><th scope=row>5857</th><td>2018-12-29</td><td>1.7       </td></tr>\n",
       "\t<tr><th scope=row>5858</th><td>2018-12-30</td><td>1.1       </td></tr>\n",
       "\t<tr><th scope=row>5859</th><td>2018-12-31</td><td>0.3       </td></tr>\n",
       "</tbody>\n",
       "</table>\n"
      ],
      "text/latex": [
       "\\begin{tabular}{r|ll}\n",
       "  & date & Speed\\\\\n",
       "\\hline\n",
       "\t5854 & 2018-12-26 & 0.6       \\\\\n",
       "\t5855 & 2018-12-27 & 0.6       \\\\\n",
       "\t5856 & 2018-12-28 & 1.4       \\\\\n",
       "\t5857 & 2018-12-29 & 1.7       \\\\\n",
       "\t5858 & 2018-12-30 & 1.1       \\\\\n",
       "\t5859 & 2018-12-31 & 0.3       \\\\\n",
       "\\end{tabular}\n"
      ],
      "text/markdown": [
       "\n",
       "| <!--/--> | date | Speed | \n",
       "|---|---|---|---|---|---|\n",
       "| 5854 | 2018-12-26 | 0.6        | \n",
       "| 5855 | 2018-12-27 | 0.6        | \n",
       "| 5856 | 2018-12-28 | 1.4        | \n",
       "| 5857 | 2018-12-29 | 1.7        | \n",
       "| 5858 | 2018-12-30 | 1.1        | \n",
       "| 5859 | 2018-12-31 | 0.3        | \n",
       "\n",
       "\n"
      ],
      "text/plain": [
       "     date       Speed\n",
       "5854 2018-12-26 0.6  \n",
       "5855 2018-12-27 0.6  \n",
       "5856 2018-12-28 1.4  \n",
       "5857 2018-12-29 1.7  \n",
       "5858 2018-12-30 1.1  \n",
       "5859 2018-12-31 0.3  "
      ]
     },
     "metadata": {},
     "output_type": "display_data"
    }
   ],
   "source": [
    "is.nan.data.frame <- function(x)\n",
    "    do.call(cbind,lapply(x,is.nan))\n",
    "wind <- as.data.frame(wind)\n",
    "wind[is.nan(wind)] <- NA\n",
    "tail(wind)"
   ]
  },
  {
   "cell_type": "markdown",
   "metadata": {},
   "source": [
    "<p style=\"text-align: justify;\">\n",
    "A continuación se eliminarán del dataframe de contaminación aquellos gases de los cuales se tenga poco datos, para ello se establecerá la línea de corte en 35%, ya que como se ha observado en diversas fuentes los gases que más afectan son NO_2,O_3,PM10,SO_2,CO y son consecuentemente, los gases que cuentan con mayor número de mediciones\n",
    "</p>"
   ]
  },
  {
   "cell_type": "code",
   "execution_count": 226,
   "metadata": {},
   "outputs": [
    {
     "data": {
      "text/html": [
       "<dl class=dl-horizontal>\n",
       "\t<dt>NO_2</dt>\n",
       "\t\t<dd>0.56</dd>\n",
       "\t<dt>O_3</dt>\n",
       "\t\t<dd>21.44</dd>\n",
       "\t<dt>PM10</dt>\n",
       "\t\t<dd>24.87</dd>\n",
       "\t<dt>SO_2</dt>\n",
       "\t\t<dd>27.11</dd>\n",
       "\t<dt>CO</dt>\n",
       "\t\t<dd>30.39</dd>\n",
       "\t<dt>NOx</dt>\n",
       "\t\t<dd>37.6</dd>\n",
       "\t<dt>NO</dt>\n",
       "\t\t<dd>59.76</dd>\n",
       "\t<dt>TCH</dt>\n",
       "\t\t<dd>71.47</dd>\n",
       "\t<dt>NMHC</dt>\n",
       "\t\t<dd>71.5</dd>\n",
       "\t<dt>BEN</dt>\n",
       "\t\t<dd>72.65</dd>\n",
       "\t<dt>TOL</dt>\n",
       "\t\t<dd>72.72</dd>\n",
       "\t<dt>EBE</dt>\n",
       "\t\t<dd>73.7</dd>\n",
       "\t<dt>PM25</dt>\n",
       "\t\t<dd>78.56</dd>\n",
       "\t<dt>OXY</dt>\n",
       "\t\t<dd>91.71</dd>\n",
       "\t<dt>PXY</dt>\n",
       "\t\t<dd>91.71</dd>\n",
       "\t<dt>MXY</dt>\n",
       "\t\t<dd>91.72</dd>\n",
       "\t<dt>CH4</dt>\n",
       "\t\t<dd>99.61</dd>\n",
       "</dl>\n"
      ],
      "text/latex": [
       "\\begin{description*}\n",
       "\\item[NO\\textbackslash{}\\_2] 0.56\n",
       "\\item[O\\textbackslash{}\\_3] 21.44\n",
       "\\item[PM10] 24.87\n",
       "\\item[SO\\textbackslash{}\\_2] 27.11\n",
       "\\item[CO] 30.39\n",
       "\\item[NOx] 37.6\n",
       "\\item[NO] 59.76\n",
       "\\item[TCH] 71.47\n",
       "\\item[NMHC] 71.5\n",
       "\\item[BEN] 72.65\n",
       "\\item[TOL] 72.72\n",
       "\\item[EBE] 73.7\n",
       "\\item[PM25] 78.56\n",
       "\\item[OXY] 91.71\n",
       "\\item[PXY] 91.71\n",
       "\\item[MXY] 91.72\n",
       "\\item[CH4] 99.61\n",
       "\\end{description*}\n"
      ],
      "text/markdown": [
       "NO_2\n",
       ":   0.56O_3\n",
       ":   21.44PM10\n",
       ":   24.87SO_2\n",
       ":   27.11CO\n",
       ":   30.39NOx\n",
       ":   37.6NO\n",
       ":   59.76TCH\n",
       ":   71.47NMHC\n",
       ":   71.5BEN\n",
       ":   72.65TOL\n",
       ":   72.72EBE\n",
       ":   73.7PM25\n",
       ":   78.56OXY\n",
       ":   91.71PXY\n",
       ":   91.71MXY\n",
       ":   91.72CH4\n",
       ":   99.61\n",
       "\n"
      ],
      "text/plain": [
       " NO_2   O_3  PM10  SO_2    CO   NOx    NO   TCH  NMHC   BEN   TOL   EBE  PM25 \n",
       " 0.56 21.44 24.87 27.11 30.39 37.60 59.76 71.47 71.50 72.65 72.72 73.70 78.56 \n",
       "  OXY   PXY   MXY   CH4 \n",
       "91.71 91.71 91.72 99.61 "
      ]
     },
     "metadata": {},
     "output_type": "display_data"
    }
   ],
   "source": [
    "#1) Calculamos el porcenje de NA para descartar aquellas columnas cuyo porcentaje sea muy alto\n",
    "naPerColumn <- colSums(is.na(airMadrid))\n",
    "\n",
    "#2) Todos los gases tienen al menos un NA por, tanto, estudiamos gases a descartar, para ello\n",
    "#quitamos los demás parámetros\n",
    "percentageNA <- round(naPerColumn/nrow(airMadrid) *100, digits = 2)\n",
    "percentageNA <- percentageNA[percentageNA > 0]\n",
    "percentageNA <- percentageNA[order(percentageNA)]\n",
    "percentageNA"
   ]
  },
  {
   "cell_type": "code",
   "execution_count": 227,
   "metadata": {},
   "outputs": [
    {
     "data": {
      "image/png": "[encoded data removed]",
      "text/plain": [
       "Plot with title \"Porcentaje de NA\""
      ]
     },
     "metadata": {},
     "output_type": "display_data"
    }
   ],
   "source": [
    "#2)Pintamos graficos de barras para observar volumen NA en los gases contaminantes\n",
    "barplot(percentageNA, main =\"Porcentaje de NA\",xlab = \"Gas contaminante\",ylab = \"%\",\n",
    "        ylim = c(0,100), las=3, cex.names=.5, col = gray.colors(17))"
   ]
  },
  {
   "cell_type": "code",
   "execution_count": 228,
   "metadata": {},
   "outputs": [
    {
     "data": {
      "text/html": [
       "<dl class=dl-horizontal>\n",
       "\t<dt>NO_2</dt>\n",
       "\t\t<dd>0.56</dd>\n",
       "\t<dt>O_3</dt>\n",
       "\t\t<dd>21.44</dd>\n",
       "\t<dt>PM10</dt>\n",
       "\t\t<dd>24.87</dd>\n",
       "\t<dt>SO_2</dt>\n",
       "\t\t<dd>27.11</dd>\n",
       "\t<dt>CO</dt>\n",
       "\t\t<dd>30.39</dd>\n",
       "</dl>\n"
      ],
      "text/latex": [
       "\\begin{description*}\n",
       "\\item[NO\\textbackslash{}\\_2] 0.56\n",
       "\\item[O\\textbackslash{}\\_3] 21.44\n",
       "\\item[PM10] 24.87\n",
       "\\item[SO\\textbackslash{}\\_2] 27.11\n",
       "\\item[CO] 30.39\n",
       "\\end{description*}\n"
      ],
      "text/markdown": [
       "NO_2\n",
       ":   0.56O_3\n",
       ":   21.44PM10\n",
       ":   24.87SO_2\n",
       ":   27.11CO\n",
       ":   30.39\n",
       "\n"
      ],
      "text/plain": [
       " NO_2   O_3  PM10  SO_2    CO \n",
       " 0.56 21.44 24.87 27.11 30.39 "
      ]
     },
     "metadata": {},
     "output_type": "display_data"
    }
   ],
   "source": [
    "#Nos quedamos con aquellos gases que tengan menos del 35% de NA\n",
    "percentageNA[percentageNA < 35]"
   ]
  },
  {
   "cell_type": "code",
   "execution_count": 229,
   "metadata": {},
   "outputs": [
    {
     "data": {
      "text/html": [
       "<table>\n",
       "<thead><tr><th scope=col>date</th><th scope=col>CO</th><th scope=col>NO_2</th><th scope=col>O_3</th><th scope=col>PM10</th><th scope=col>SO_2</th><th scope=col>station</th></tr></thead>\n",
       "<tbody>\n",
       "\t<tr><td>2001-08-01 01:00:00</td><td>0.37               </td><td>58.40              </td><td>34.53              </td><td>105.00             </td><td>6.34               </td><td>28079001           </td></tr>\n",
       "\t<tr><td>2001-08-01 01:00:00</td><td>0.34               </td><td>56.25              </td><td>42.16              </td><td>100.60             </td><td>8.11               </td><td>28079035           </td></tr>\n",
       "\t<tr><td>2001-08-01 01:00:00</td><td>0.28               </td><td>50.66              </td><td>46.31              </td><td>100.10             </td><td>7.85               </td><td>28079003           </td></tr>\n",
       "\t<tr><td>2001-08-01 01:00:00</td><td>0.47               </td><td>69.79              </td><td>40.65              </td><td> 69.78             </td><td>6.46               </td><td>28079004           </td></tr>\n",
       "\t<tr><td>2001-08-01 01:00:00</td><td>0.39               </td><td>22.83              </td><td>66.31              </td><td> 75.18             </td><td>8.80               </td><td>28079039           </td></tr>\n",
       "\t<tr><td>2001-08-01 01:00:00</td><td>0.63               </td><td>66.26              </td><td>33.50              </td><td>122.70             </td><td>6.36               </td><td>28079006           </td></tr>\n",
       "</tbody>\n",
       "</table>\n"
      ],
      "text/latex": [
       "\\begin{tabular}{r|lllllll}\n",
       " date & CO & NO\\_2 & O\\_3 & PM10 & SO\\_2 & station\\\\\n",
       "\\hline\n",
       "\t 2001-08-01 01:00:00 & 0.37                & 58.40               & 34.53               & 105.00              & 6.34                & 28079001           \\\\\n",
       "\t 2001-08-01 01:00:00 & 0.34                & 56.25               & 42.16               & 100.60              & 8.11                & 28079035           \\\\\n",
       "\t 2001-08-01 01:00:00 & 0.28                & 50.66               & 46.31               & 100.10              & 7.85                & 28079003           \\\\\n",
       "\t 2001-08-01 01:00:00 & 0.47                & 69.79               & 40.65               &  69.78              & 6.46                & 28079004           \\\\\n",
       "\t 2001-08-01 01:00:00 & 0.39                & 22.83               & 66.31               &  75.18              & 8.80                & 28079039           \\\\\n",
       "\t 2001-08-01 01:00:00 & 0.63                & 66.26               & 33.50               & 122.70              & 6.36                & 28079006           \\\\\n",
       "\\end{tabular}\n"
      ],
      "text/markdown": [
       "\n",
       "date | CO | NO_2 | O_3 | PM10 | SO_2 | station | \n",
       "|---|---|---|---|---|---|\n",
       "| 2001-08-01 01:00:00 | 0.37                | 58.40               | 34.53               | 105.00              | 6.34                | 28079001            | \n",
       "| 2001-08-01 01:00:00 | 0.34                | 56.25               | 42.16               | 100.60              | 8.11                | 28079035            | \n",
       "| 2001-08-01 01:00:00 | 0.28                | 50.66               | 46.31               | 100.10              | 7.85                | 28079003            | \n",
       "| 2001-08-01 01:00:00 | 0.47                | 69.79               | 40.65               |  69.78              | 6.46                | 28079004            | \n",
       "| 2001-08-01 01:00:00 | 0.39                | 22.83               | 66.31               |  75.18              | 8.80                | 28079039            | \n",
       "| 2001-08-01 01:00:00 | 0.63                | 66.26               | 33.50               | 122.70              | 6.36                | 28079006            | \n",
       "\n",
       "\n"
      ],
      "text/plain": [
       "  date                CO   NO_2  O_3   PM10   SO_2 station \n",
       "1 2001-08-01 01:00:00 0.37 58.40 34.53 105.00 6.34 28079001\n",
       "2 2001-08-01 01:00:00 0.34 56.25 42.16 100.60 8.11 28079035\n",
       "3 2001-08-01 01:00:00 0.28 50.66 46.31 100.10 7.85 28079003\n",
       "4 2001-08-01 01:00:00 0.47 69.79 40.65  69.78 6.46 28079004\n",
       "5 2001-08-01 01:00:00 0.39 22.83 66.31  75.18 8.80 28079039\n",
       "6 2001-08-01 01:00:00 0.63 66.26 33.50 122.70 6.36 28079006"
      ]
     },
     "metadata": {},
     "output_type": "display_data"
    },
    {
     "data": {
      "text/html": [
       "<table>\n",
       "<thead><tr><th></th><th scope=col>date</th><th scope=col>CO</th><th scope=col>NO_2</th><th scope=col>O_3</th><th scope=col>PM10</th><th scope=col>SO_2</th><th scope=col>station</th></tr></thead>\n",
       "<tbody>\n",
       "\t<tr><th scope=row>3808219</th><td>2018-02-01 00:00:00</td><td> NA                </td><td> 94                </td><td>NA                 </td><td>35                 </td><td>NA                 </td><td>28079055           </td></tr>\n",
       "\t<tr><th scope=row>3808220</th><td>2018-02-01 00:00:00</td><td>0.5                </td><td> 91                </td><td> 1                 </td><td>35                 </td><td>NA                 </td><td>28079056           </td></tr>\n",
       "\t<tr><th scope=row>3808221</th><td>2018-02-01 00:00:00</td><td>0.7                </td><td>107                </td><td>NA                 </td><td>29                 </td><td>15                 </td><td>28079057           </td></tr>\n",
       "\t<tr><th scope=row>3808222</th><td>2018-02-01 00:00:00</td><td> NA                </td><td> 48                </td><td> 2                 </td><td>NA                 </td><td>NA                 </td><td>28079058           </td></tr>\n",
       "\t<tr><th scope=row>3808223</th><td>2018-02-01 00:00:00</td><td> NA                </td><td>103                </td><td> 2                 </td><td>NA                 </td><td>NA                 </td><td>28079059           </td></tr>\n",
       "\t<tr><th scope=row>3808224</th><td>2018-02-01 00:00:00</td><td> NA                </td><td> 96                </td><td> 3                 </td><td>26                 </td><td>NA                 </td><td>28079060           </td></tr>\n",
       "</tbody>\n",
       "</table>\n"
      ],
      "text/latex": [
       "\\begin{tabular}{r|lllllll}\n",
       "  & date & CO & NO\\_2 & O\\_3 & PM10 & SO\\_2 & station\\\\\n",
       "\\hline\n",
       "\t3808219 & 2018-02-01 00:00:00 &  NA                 &  94                 & NA                  & 35                  & NA                  & 28079055           \\\\\n",
       "\t3808220 & 2018-02-01 00:00:00 & 0.5                 &  91                 &  1                  & 35                  & NA                  & 28079056           \\\\\n",
       "\t3808221 & 2018-02-01 00:00:00 & 0.7                 & 107                 & NA                  & 29                  & 15                  & 28079057           \\\\\n",
       "\t3808222 & 2018-02-01 00:00:00 &  NA                 &  48                 &  2                  & NA                  & NA                  & 28079058           \\\\\n",
       "\t3808223 & 2018-02-01 00:00:00 &  NA                 & 103                 &  2                  & NA                  & NA                  & 28079059           \\\\\n",
       "\t3808224 & 2018-02-01 00:00:00 &  NA                 &  96                 &  3                  & 26                  & NA                  & 28079060           \\\\\n",
       "\\end{tabular}\n"
      ],
      "text/markdown": [
       "\n",
       "| <!--/--> | date | CO | NO_2 | O_3 | PM10 | SO_2 | station | \n",
       "|---|---|---|---|---|---|\n",
       "| 3808219 | 2018-02-01 00:00:00 |  NA                 |  94                 | NA                  | 35                  | NA                  | 28079055            | \n",
       "| 3808220 | 2018-02-01 00:00:00 | 0.5                 |  91                 |  1                  | 35                  | NA                  | 28079056            | \n",
       "| 3808221 | 2018-02-01 00:00:00 | 0.7                 | 107                 | NA                  | 29                  | 15                  | 28079057            | \n",
       "| 3808222 | 2018-02-01 00:00:00 |  NA                 |  48                 |  2                  | NA                  | NA                  | 28079058            | \n",
       "| 3808223 | 2018-02-01 00:00:00 |  NA                 | 103                 |  2                  | NA                  | NA                  | 28079059            | \n",
       "| 3808224 | 2018-02-01 00:00:00 |  NA                 |  96                 |  3                  | 26                  | NA                  | 28079060            | \n",
       "\n",
       "\n"
      ],
      "text/plain": [
       "        date                CO  NO_2 O_3 PM10 SO_2 station \n",
       "3808219 2018-02-01 00:00:00  NA  94  NA  35   NA   28079055\n",
       "3808220 2018-02-01 00:00:00 0.5  91   1  35   NA   28079056\n",
       "3808221 2018-02-01 00:00:00 0.7 107  NA  29   15   28079057\n",
       "3808222 2018-02-01 00:00:00  NA  48   2  NA   NA   28079058\n",
       "3808223 2018-02-01 00:00:00  NA 103   2  NA   NA   28079059\n",
       "3808224 2018-02-01 00:00:00  NA  96   3  26   NA   28079060"
      ]
     },
     "metadata": {},
     "output_type": "display_data"
    }
   ],
   "source": [
    "#Procedemos a quitar el resto de columnas\n",
    "airMadrid$BEN = NULL;\n",
    "airMadrid$EBE = NULL;\n",
    "airMadrid$MXY = NULL;\n",
    "airMadrid$NMHC = NULL;\n",
    "airMadrid$NOx = NULL;\n",
    "airMadrid$OXY = NULL;\n",
    "airMadrid$PXY = NULL;\n",
    "airMadrid$TCH = NULL;\n",
    "airMadrid$TOL = NULL;\n",
    "airMadrid$PM25 = NULL;\n",
    "airMadrid$NO = NULL;\n",
    "airMadrid$CH4 = NULL;\n",
    "\n",
    "#Mostramos dataframe para observar cambios\n",
    "head(airMadrid)\n",
    "tail(airMadrid)"
   ]
  },
  {
   "cell_type": "code",
   "execution_count": 230,
   "metadata": {},
   "outputs": [],
   "source": [
    "# Liberamos memoria\n",
    "rm(percentageNA)\n",
    "rm(naPerColumn)"
   ]
  },
  {
   "cell_type": "markdown",
   "metadata": {},
   "source": [
    "### Agrupacion de datos"
   ]
  },
  {
   "cell_type": "markdown",
   "metadata": {},
   "source": [
    "Dado que las muestras de la contaminación son por hora, se agruparan las mismas realizando la media de cada uno de los gases diaria. Para ello se seguirán los siguientes pasos:\n",
    "- Mostrar dataframe ordenado por estación\n",
    "- Cambiar el formato de la fecha\n",
    "- Agrupar por fecha y mostrar resultado"
   ]
  },
  {
   "cell_type": "markdown",
   "metadata": {},
   "source": [
    "#### Mostrar dataframe ordenado por estación"
   ]
  },
  {
   "cell_type": "markdown",
   "metadata": {},
   "source": [
    "Con esta visualización podemos comprobar que efectivamente al ordenar por estación, el siguiente campo ordenado es la fecha de la medición, por lo que mostramos le principio y el final para comprobar el rango de fechas y estaicones."
   ]
  },
  {
   "cell_type": "code",
   "execution_count": 231,
   "metadata": {},
   "outputs": [
    {
     "data": {
      "text/html": [
       "<table>\n",
       "<thead><tr><th></th><th scope=col>date</th><th scope=col>CO</th><th scope=col>NO_2</th><th scope=col>O_3</th><th scope=col>PM10</th><th scope=col>SO_2</th><th scope=col>station</th></tr></thead>\n",
       "<tbody>\n",
       "\t<tr><th scope=row>1</th><td>2001-08-01 01:00:00</td><td>0.37               </td><td> 58.40             </td><td>34.53              </td><td>105.00             </td><td> 6.34              </td><td>28079001           </td></tr>\n",
       "\t<tr><th scope=row>25</th><td>2001-08-01 02:00:00</td><td>0.42               </td><td> 65.76             </td><td>27.93              </td><td> 69.75             </td><td> 7.15              </td><td>28079001           </td></tr>\n",
       "\t<tr><th scope=row>49</th><td>2001-08-01 03:00:00</td><td>0.32               </td><td> 61.09             </td><td>32.07              </td><td> 56.22             </td><td> 6.26              </td><td>28079001           </td></tr>\n",
       "\t<tr><th scope=row>73</th><td>2001-08-01 04:00:00</td><td>0.23               </td><td> 47.02             </td><td>42.21              </td><td> 50.69             </td><td> 5.19              </td><td>28079001           </td></tr>\n",
       "\t<tr><th scope=row>97</th><td>2001-08-01 05:00:00</td><td>0.19               </td><td> 47.17             </td><td>48.46              </td><td> 49.49             </td><td> 5.03              </td><td>28079001           </td></tr>\n",
       "\t<tr><th scope=row>121</th><td>2001-08-01 06:00:00</td><td>0.06               </td><td> 63.83             </td><td>40.80              </td><td> 43.47             </td><td> 5.24              </td><td>28079001           </td></tr>\n",
       "\t<tr><th scope=row>145</th><td>2001-08-01 07:00:00</td><td>0.28               </td><td> 91.74             </td><td>22.18              </td><td> 42.19             </td><td> 7.37              </td><td>28079001           </td></tr>\n",
       "\t<tr><th scope=row>169</th><td>2001-08-01 08:00:00</td><td>0.89               </td><td>127.80             </td><td>11.98              </td><td> 45.72             </td><td>11.37              </td><td>28079001           </td></tr>\n",
       "\t<tr><th scope=row>193</th><td>2001-08-01 09:00:00</td><td>1.51               </td><td>129.50             </td><td> 9.71              </td><td> 68.46             </td><td>15.57              </td><td>28079001           </td></tr>\n",
       "\t<tr><th scope=row>217</th><td>2001-08-01 10:00:00</td><td>1.80               </td><td>127.70             </td><td> 8.86              </td><td> 91.84             </td><td>19.47              </td><td>28079001           </td></tr>\n",
       "\t<tr><th scope=row>241</th><td>2001-08-01 11:00:00</td><td>1.26               </td><td>119.90             </td><td>11.65              </td><td> 85.32             </td><td>14.74              </td><td>28079001           </td></tr>\n",
       "\t<tr><th scope=row>265</th><td>2001-08-01 12:00:00</td><td>0.99               </td><td>120.20             </td><td>16.56              </td><td> 88.68             </td><td>12.77              </td><td>28079001           </td></tr>\n",
       "\t<tr><th scope=row>289</th><td>2001-08-01 13:00:00</td><td>0.91               </td><td>109.80             </td><td>25.13              </td><td> 70.78             </td><td>10.05              </td><td>28079001           </td></tr>\n",
       "\t<tr><th scope=row>313</th><td>2001-08-01 14:00:00</td><td>1.15               </td><td>114.70             </td><td>21.74              </td><td> 69.81             </td><td>11.03              </td><td>28079001           </td></tr>\n",
       "\t<tr><th scope=row>337</th><td>2001-08-01 15:00:00</td><td>1.23               </td><td>114.80             </td><td>21.18              </td><td> 76.04             </td><td>11.15              </td><td>28079001           </td></tr>\n",
       "\t<tr><th scope=row>361</th><td>2001-08-01 16:00:00</td><td>1.09               </td><td>110.60             </td><td>21.95              </td><td> 93.53             </td><td>11.28              </td><td>28079001           </td></tr>\n",
       "\t<tr><th scope=row>385</th><td>2001-08-01 17:00:00</td><td>0.69               </td><td> 93.50             </td><td>35.23              </td><td>106.80             </td><td>10.12              </td><td>28079001           </td></tr>\n",
       "\t<tr><th scope=row>409</th><td>2001-08-01 18:00:00</td><td>0.76               </td><td>103.30             </td><td>37.40              </td><td> 97.52             </td><td> 9.79              </td><td>28079001           </td></tr>\n",
       "\t<tr><th scope=row>433</th><td>2001-08-01 19:00:00</td><td>0.97               </td><td>117.70             </td><td>31.63              </td><td> 96.42             </td><td>11.80              </td><td>28079001           </td></tr>\n",
       "\t<tr><th scope=row>457</th><td>2001-08-01 20:00:00</td><td>1.11               </td><td>116.50             </td><td>26.72              </td><td> 73.99             </td><td>11.62              </td><td>28079001           </td></tr>\n",
       "\t<tr><th scope=row>481</th><td>2001-08-01 21:00:00</td><td>1.47               </td><td>121.10             </td><td>23.21              </td><td> 53.86             </td><td>11.58              </td><td>28079001           </td></tr>\n",
       "\t<tr><th scope=row>505</th><td>2001-08-01 22:00:00</td><td>1.73               </td><td>134.30             </td><td>15.83              </td><td> 48.50             </td><td>13.40              </td><td>28079001           </td></tr>\n",
       "\t<tr><th scope=row>529</th><td>2001-08-01 23:00:00</td><td>1.79               </td><td>134.10             </td><td>11.26              </td><td> 65.28             </td><td>15.04              </td><td>28079001           </td></tr>\n",
       "\t<tr><th scope=row>553</th><td>2001-08-02 00:00:00</td><td>1.34               </td><td>113.50             </td><td>14.47              </td><td> 62.23             </td><td>10.91              </td><td>28079001           </td></tr>\n",
       "</tbody>\n",
       "</table>\n"
      ],
      "text/latex": [
       "\\begin{tabular}{r|lllllll}\n",
       "  & date & CO & NO\\_2 & O\\_3 & PM10 & SO\\_2 & station\\\\\n",
       "\\hline\n",
       "\t1 & 2001-08-01 01:00:00 & 0.37                &  58.40              & 34.53               & 105.00              &  6.34               & 28079001           \\\\\n",
       "\t25 & 2001-08-01 02:00:00 & 0.42                &  65.76              & 27.93               &  69.75              &  7.15               & 28079001           \\\\\n",
       "\t49 & 2001-08-01 03:00:00 & 0.32                &  61.09              & 32.07               &  56.22              &  6.26               & 28079001           \\\\\n",
       "\t73 & 2001-08-01 04:00:00 & 0.23                &  47.02              & 42.21               &  50.69              &  5.19               & 28079001           \\\\\n",
       "\t97 & 2001-08-01 05:00:00 & 0.19                &  47.17              & 48.46               &  49.49              &  5.03               & 28079001           \\\\\n",
       "\t121 & 2001-08-01 06:00:00 & 0.06                &  63.83              & 40.80               &  43.47              &  5.24               & 28079001           \\\\\n",
       "\t145 & 2001-08-01 07:00:00 & 0.28                &  91.74              & 22.18               &  42.19              &  7.37               & 28079001           \\\\\n",
       "\t169 & 2001-08-01 08:00:00 & 0.89                & 127.80              & 11.98               &  45.72              & 11.37               & 28079001           \\\\\n",
       "\t193 & 2001-08-01 09:00:00 & 1.51                & 129.50              &  9.71               &  68.46              & 15.57               & 28079001           \\\\\n",
       "\t217 & 2001-08-01 10:00:00 & 1.80                & 127.70              &  8.86               &  91.84              & 19.47               & 28079001           \\\\\n",
       "\t241 & 2001-08-01 11:00:00 & 1.26                & 119.90              & 11.65               &  85.32              & 14.74               & 28079001           \\\\\n",
       "\t265 & 2001-08-01 12:00:00 & 0.99                & 120.20              & 16.56               &  88.68              & 12.77               & 28079001           \\\\\n",
       "\t289 & 2001-08-01 13:00:00 & 0.91                & 109.80              & 25.13               &  70.78              & 10.05               & 28079001           \\\\\n",
       "\t313 & 2001-08-01 14:00:00 & 1.15                & 114.70              & 21.74               &  69.81              & 11.03               & 28079001           \\\\\n",
       "\t337 & 2001-08-01 15:00:00 & 1.23                & 114.80              & 21.18               &  76.04              & 11.15               & 28079001           \\\\\n",
       "\t361 & 2001-08-01 16:00:00 & 1.09                & 110.60              & 21.95               &  93.53              & 11.28               & 28079001           \\\\\n",
       "\t385 & 2001-08-01 17:00:00 & 0.69                &  93.50              & 35.23               & 106.80              & 10.12               & 28079001           \\\\\n",
       "\t409 & 2001-08-01 18:00:00 & 0.76                & 103.30              & 37.40               &  97.52              &  9.79               & 28079001           \\\\\n",
       "\t433 & 2001-08-01 19:00:00 & 0.97                & 117.70              & 31.63               &  96.42              & 11.80               & 28079001           \\\\\n",
       "\t457 & 2001-08-01 20:00:00 & 1.11                & 116.50              & 26.72               &  73.99              & 11.62               & 28079001           \\\\\n",
       "\t481 & 2001-08-01 21:00:00 & 1.47                & 121.10              & 23.21               &  53.86              & 11.58               & 28079001           \\\\\n",
       "\t505 & 2001-08-01 22:00:00 & 1.73                & 134.30              & 15.83               &  48.50              & 13.40               & 28079001           \\\\\n",
       "\t529 & 2001-08-01 23:00:00 & 1.79                & 134.10              & 11.26               &  65.28              & 15.04               & 28079001           \\\\\n",
       "\t553 & 2001-08-02 00:00:00 & 1.34                & 113.50              & 14.47               &  62.23              & 10.91               & 28079001           \\\\\n",
       "\\end{tabular}\n"
      ],
      "text/markdown": [
       "\n",
       "| <!--/--> | date | CO | NO_2 | O_3 | PM10 | SO_2 | station | \n",
       "|---|---|---|---|---|---|---|---|---|---|---|---|---|---|---|---|---|---|---|---|---|---|---|---|\n",
       "| 1 | 2001-08-01 01:00:00 | 0.37                |  58.40              | 34.53               | 105.00              |  6.34               | 28079001            | \n",
       "| 25 | 2001-08-01 02:00:00 | 0.42                |  65.76              | 27.93               |  69.75              |  7.15               | 28079001            | \n",
       "| 49 | 2001-08-01 03:00:00 | 0.32                |  61.09              | 32.07               |  56.22              |  6.26               | 28079001            | \n",
       "| 73 | 2001-08-01 04:00:00 | 0.23                |  47.02              | 42.21               |  50.69              |  5.19               | 28079001            | \n",
       "| 97 | 2001-08-01 05:00:00 | 0.19                |  47.17              | 48.46               |  49.49              |  5.03               | 28079001            | \n",
       "| 121 | 2001-08-01 06:00:00 | 0.06                |  63.83              | 40.80               |  43.47              |  5.24               | 28079001            | \n",
       "| 145 | 2001-08-01 07:00:00 | 0.28                |  91.74              | 22.18               |  42.19              |  7.37               | 28079001            | \n",
       "| 169 | 2001-08-01 08:00:00 | 0.89                | 127.80              | 11.98               |  45.72              | 11.37               | 28079001            | \n",
       "| 193 | 2001-08-01 09:00:00 | 1.51                | 129.50              |  9.71               |  68.46              | 15.57               | 28079001            | \n",
       "| 217 | 2001-08-01 10:00:00 | 1.80                | 127.70              |  8.86               |  91.84              | 19.47               | 28079001            | \n",
       "| 241 | 2001-08-01 11:00:00 | 1.26                | 119.90              | 11.65               |  85.32              | 14.74               | 28079001            | \n",
       "| 265 | 2001-08-01 12:00:00 | 0.99                | 120.20              | 16.56               |  88.68              | 12.77               | 28079001            | \n",
       "| 289 | 2001-08-01 13:00:00 | 0.91                | 109.80              | 25.13               |  70.78              | 10.05               | 28079001            | \n",
       "| 313 | 2001-08-01 14:00:00 | 1.15                | 114.70              | 21.74               |  69.81              | 11.03               | 28079001            | \n",
       "| 337 | 2001-08-01 15:00:00 | 1.23                | 114.80              | 21.18               |  76.04              | 11.15               | 28079001            | \n",
       "| 361 | 2001-08-01 16:00:00 | 1.09                | 110.60              | 21.95               |  93.53              | 11.28               | 28079001            | \n",
       "| 385 | 2001-08-01 17:00:00 | 0.69                |  93.50              | 35.23               | 106.80              | 10.12               | 28079001            | \n",
       "| 409 | 2001-08-01 18:00:00 | 0.76                | 103.30              | 37.40               |  97.52              |  9.79               | 28079001            | \n",
       "| 433 | 2001-08-01 19:00:00 | 0.97                | 117.70              | 31.63               |  96.42              | 11.80               | 28079001            | \n",
       "| 457 | 2001-08-01 20:00:00 | 1.11                | 116.50              | 26.72               |  73.99              | 11.62               | 28079001            | \n",
       "| 481 | 2001-08-01 21:00:00 | 1.47                | 121.10              | 23.21               |  53.86              | 11.58               | 28079001            | \n",
       "| 505 | 2001-08-01 22:00:00 | 1.73                | 134.30              | 15.83               |  48.50              | 13.40               | 28079001            | \n",
       "| 529 | 2001-08-01 23:00:00 | 1.79                | 134.10              | 11.26               |  65.28              | 15.04               | 28079001            | \n",
       "| 553 | 2001-08-02 00:00:00 | 1.34                | 113.50              | 14.47               |  62.23              | 10.91               | 28079001            | \n",
       "\n",
       "\n"
      ],
      "text/plain": [
       "    date                CO   NO_2   O_3   PM10   SO_2  station \n",
       "1   2001-08-01 01:00:00 0.37  58.40 34.53 105.00  6.34 28079001\n",
       "25  2001-08-01 02:00:00 0.42  65.76 27.93  69.75  7.15 28079001\n",
       "49  2001-08-01 03:00:00 0.32  61.09 32.07  56.22  6.26 28079001\n",
       "73  2001-08-01 04:00:00 0.23  47.02 42.21  50.69  5.19 28079001\n",
       "97  2001-08-01 05:00:00 0.19  47.17 48.46  49.49  5.03 28079001\n",
       "121 2001-08-01 06:00:00 0.06  63.83 40.80  43.47  5.24 28079001\n",
       "145 2001-08-01 07:00:00 0.28  91.74 22.18  42.19  7.37 28079001\n",
       "169 2001-08-01 08:00:00 0.89 127.80 11.98  45.72 11.37 28079001\n",
       "193 2001-08-01 09:00:00 1.51 129.50  9.71  68.46 15.57 28079001\n",
       "217 2001-08-01 10:00:00 1.80 127.70  8.86  91.84 19.47 28079001\n",
       "241 2001-08-01 11:00:00 1.26 119.90 11.65  85.32 14.74 28079001\n",
       "265 2001-08-01 12:00:00 0.99 120.20 16.56  88.68 12.77 28079001\n",
       "289 2001-08-01 13:00:00 0.91 109.80 25.13  70.78 10.05 28079001\n",
       "313 2001-08-01 14:00:00 1.15 114.70 21.74  69.81 11.03 28079001\n",
       "337 2001-08-01 15:00:00 1.23 114.80 21.18  76.04 11.15 28079001\n",
       "361 2001-08-01 16:00:00 1.09 110.60 21.95  93.53 11.28 28079001\n",
       "385 2001-08-01 17:00:00 0.69  93.50 35.23 106.80 10.12 28079001\n",
       "409 2001-08-01 18:00:00 0.76 103.30 37.40  97.52  9.79 28079001\n",
       "433 2001-08-01 19:00:00 0.97 117.70 31.63  96.42 11.80 28079001\n",
       "457 2001-08-01 20:00:00 1.11 116.50 26.72  73.99 11.62 28079001\n",
       "481 2001-08-01 21:00:00 1.47 121.10 23.21  53.86 11.58 28079001\n",
       "505 2001-08-01 22:00:00 1.73 134.30 15.83  48.50 13.40 28079001\n",
       "529 2001-08-01 23:00:00 1.79 134.10 11.26  65.28 15.04 28079001\n",
       "553 2001-08-02 00:00:00 1.34 113.50 14.47  62.23 10.91 28079001"
      ]
     },
     "metadata": {},
     "output_type": "display_data"
    },
    {
     "data": {
      "text/html": [
       "<table>\n",
       "<thead><tr><th></th><th scope=col>date</th><th scope=col>CO</th><th scope=col>NO_2</th><th scope=col>O_3</th><th scope=col>PM10</th><th scope=col>SO_2</th><th scope=col>station</th></tr></thead>\n",
       "<tbody>\n",
       "\t<tr><th scope=row>2268754</th><td>2010-07-31 19:00:00</td><td>0.22               </td><td>17.83              </td><td>120.20             </td><td>20.17              </td><td>6.93               </td><td>28079099           </td></tr>\n",
       "\t<tr><th scope=row>2268776</th><td>2010-07-31 20:00:00</td><td>0.23               </td><td>22.57              </td><td>112.70             </td><td>13.95              </td><td>6.88               </td><td>28079099           </td></tr>\n",
       "\t<tr><th scope=row>2268798</th><td>2010-07-31 21:00:00</td><td>0.27               </td><td>33.91              </td><td> 98.27             </td><td>22.44              </td><td>6.84               </td><td>28079099           </td></tr>\n",
       "\t<tr><th scope=row>2268820</th><td>2010-07-31 22:00:00</td><td>0.38               </td><td>64.05              </td><td> 69.79             </td><td>52.17              </td><td>6.97               </td><td>28079099           </td></tr>\n",
       "\t<tr><th scope=row>2268842</th><td>2010-07-31 23:00:00</td><td>0.50               </td><td>86.81              </td><td> 49.55             </td><td>54.36              </td><td>7.12               </td><td>28079099           </td></tr>\n",
       "\t<tr><th scope=row>2268864</th><td>2010-08-01 00:00:00</td><td>0.43               </td><td>76.33              </td><td> 52.26             </td><td>47.15              </td><td>7.03               </td><td>28079099           </td></tr>\n",
       "</tbody>\n",
       "</table>\n"
      ],
      "text/latex": [
       "\\begin{tabular}{r|lllllll}\n",
       "  & date & CO & NO\\_2 & O\\_3 & PM10 & SO\\_2 & station\\\\\n",
       "\\hline\n",
       "\t2268754 & 2010-07-31 19:00:00 & 0.22                & 17.83               & 120.20              & 20.17               & 6.93                & 28079099           \\\\\n",
       "\t2268776 & 2010-07-31 20:00:00 & 0.23                & 22.57               & 112.70              & 13.95               & 6.88                & 28079099           \\\\\n",
       "\t2268798 & 2010-07-31 21:00:00 & 0.27                & 33.91               &  98.27              & 22.44               & 6.84                & 28079099           \\\\\n",
       "\t2268820 & 2010-07-31 22:00:00 & 0.38                & 64.05               &  69.79              & 52.17               & 6.97                & 28079099           \\\\\n",
       "\t2268842 & 2010-07-31 23:00:00 & 0.50                & 86.81               &  49.55              & 54.36               & 7.12                & 28079099           \\\\\n",
       "\t2268864 & 2010-08-01 00:00:00 & 0.43                & 76.33               &  52.26              & 47.15               & 7.03                & 28079099           \\\\\n",
       "\\end{tabular}\n"
      ],
      "text/markdown": [
       "\n",
       "| <!--/--> | date | CO | NO_2 | O_3 | PM10 | SO_2 | station | \n",
       "|---|---|---|---|---|---|\n",
       "| 2268754 | 2010-07-31 19:00:00 | 0.22                | 17.83               | 120.20              | 20.17               | 6.93                | 28079099            | \n",
       "| 2268776 | 2010-07-31 20:00:00 | 0.23                | 22.57               | 112.70              | 13.95               | 6.88                | 28079099            | \n",
       "| 2268798 | 2010-07-31 21:00:00 | 0.27                | 33.91               |  98.27              | 22.44               | 6.84                | 28079099            | \n",
       "| 2268820 | 2010-07-31 22:00:00 | 0.38                | 64.05               |  69.79              | 52.17               | 6.97                | 28079099            | \n",
       "| 2268842 | 2010-07-31 23:00:00 | 0.50                | 86.81               |  49.55              | 54.36               | 7.12                | 28079099            | \n",
       "| 2268864 | 2010-08-01 00:00:00 | 0.43                | 76.33               |  52.26              | 47.15               | 7.03                | 28079099            | \n",
       "\n",
       "\n"
      ],
      "text/plain": [
       "        date                CO   NO_2  O_3    PM10  SO_2 station \n",
       "2268754 2010-07-31 19:00:00 0.22 17.83 120.20 20.17 6.93 28079099\n",
       "2268776 2010-07-31 20:00:00 0.23 22.57 112.70 13.95 6.88 28079099\n",
       "2268798 2010-07-31 21:00:00 0.27 33.91  98.27 22.44 6.84 28079099\n",
       "2268820 2010-07-31 22:00:00 0.38 64.05  69.79 52.17 6.97 28079099\n",
       "2268842 2010-07-31 23:00:00 0.50 86.81  49.55 54.36 7.12 28079099\n",
       "2268864 2010-08-01 00:00:00 0.43 76.33  52.26 47.15 7.03 28079099"
      ]
     },
     "metadata": {},
     "output_type": "display_data"
    }
   ],
   "source": [
    "#Ordenamos por estacion para comprobar que tras las 24 mediciones, pasamos al dia siguiente\n",
    "airMadrid<- airMadrid[order(airMadrid$station),]\n",
    "head(airMadrid, n=24)\n",
    "tail(airMadrid)"
   ]
  },
  {
   "cell_type": "markdown",
   "metadata": {},
   "source": [
    "#### Cambiar el formato de la fecha"
   ]
  },
  {
   "cell_type": "markdown",
   "metadata": {},
   "source": [
    "Se cambia el formato de la fecha para realizar la agrupación de los datos por dicha columa."
   ]
  },
  {
   "cell_type": "code",
   "execution_count": 232,
   "metadata": {},
   "outputs": [],
   "source": [
    "#Formato fecha\n",
    "airMadrid$date <- as.Date(airMadrid$date, format = \"%Y-%m-%d\")"
   ]
  },
  {
   "cell_type": "code",
   "execution_count": 233,
   "metadata": {},
   "outputs": [
    {
     "data": {
      "text/html": [
       "<table>\n",
       "<thead><tr><th></th><th scope=col>date</th><th scope=col>CO</th><th scope=col>NO_2</th><th scope=col>O_3</th><th scope=col>PM10</th><th scope=col>SO_2</th><th scope=col>station</th></tr></thead>\n",
       "<tbody>\n",
       "\t<tr><th scope=row>1</th><td>2001-08-01</td><td>0.37      </td><td> 58.40    </td><td>34.53     </td><td>105.00    </td><td> 6.34     </td><td>28079001  </td></tr>\n",
       "\t<tr><th scope=row>25</th><td>2001-08-01</td><td>0.42      </td><td> 65.76    </td><td>27.93     </td><td> 69.75    </td><td> 7.15     </td><td>28079001  </td></tr>\n",
       "\t<tr><th scope=row>49</th><td>2001-08-01</td><td>0.32      </td><td> 61.09    </td><td>32.07     </td><td> 56.22    </td><td> 6.26     </td><td>28079001  </td></tr>\n",
       "\t<tr><th scope=row>73</th><td>2001-08-01</td><td>0.23      </td><td> 47.02    </td><td>42.21     </td><td> 50.69    </td><td> 5.19     </td><td>28079001  </td></tr>\n",
       "\t<tr><th scope=row>97</th><td>2001-08-01</td><td>0.19      </td><td> 47.17    </td><td>48.46     </td><td> 49.49    </td><td> 5.03     </td><td>28079001  </td></tr>\n",
       "\t<tr><th scope=row>121</th><td>2001-08-01</td><td>0.06      </td><td> 63.83    </td><td>40.80     </td><td> 43.47    </td><td> 5.24     </td><td>28079001  </td></tr>\n",
       "\t<tr><th scope=row>145</th><td>2001-08-01</td><td>0.28      </td><td> 91.74    </td><td>22.18     </td><td> 42.19    </td><td> 7.37     </td><td>28079001  </td></tr>\n",
       "\t<tr><th scope=row>169</th><td>2001-08-01</td><td>0.89      </td><td>127.80    </td><td>11.98     </td><td> 45.72    </td><td>11.37     </td><td>28079001  </td></tr>\n",
       "\t<tr><th scope=row>193</th><td>2001-08-01</td><td>1.51      </td><td>129.50    </td><td> 9.71     </td><td> 68.46    </td><td>15.57     </td><td>28079001  </td></tr>\n",
       "\t<tr><th scope=row>217</th><td>2001-08-01</td><td>1.80      </td><td>127.70    </td><td> 8.86     </td><td> 91.84    </td><td>19.47     </td><td>28079001  </td></tr>\n",
       "\t<tr><th scope=row>241</th><td>2001-08-01</td><td>1.26      </td><td>119.90    </td><td>11.65     </td><td> 85.32    </td><td>14.74     </td><td>28079001  </td></tr>\n",
       "\t<tr><th scope=row>265</th><td>2001-08-01</td><td>0.99      </td><td>120.20    </td><td>16.56     </td><td> 88.68    </td><td>12.77     </td><td>28079001  </td></tr>\n",
       "\t<tr><th scope=row>289</th><td>2001-08-01</td><td>0.91      </td><td>109.80    </td><td>25.13     </td><td> 70.78    </td><td>10.05     </td><td>28079001  </td></tr>\n",
       "\t<tr><th scope=row>313</th><td>2001-08-01</td><td>1.15      </td><td>114.70    </td><td>21.74     </td><td> 69.81    </td><td>11.03     </td><td>28079001  </td></tr>\n",
       "\t<tr><th scope=row>337</th><td>2001-08-01</td><td>1.23      </td><td>114.80    </td><td>21.18     </td><td> 76.04    </td><td>11.15     </td><td>28079001  </td></tr>\n",
       "\t<tr><th scope=row>361</th><td>2001-08-01</td><td>1.09      </td><td>110.60    </td><td>21.95     </td><td> 93.53    </td><td>11.28     </td><td>28079001  </td></tr>\n",
       "\t<tr><th scope=row>385</th><td>2001-08-01</td><td>0.69      </td><td> 93.50    </td><td>35.23     </td><td>106.80    </td><td>10.12     </td><td>28079001  </td></tr>\n",
       "\t<tr><th scope=row>409</th><td>2001-08-01</td><td>0.76      </td><td>103.30    </td><td>37.40     </td><td> 97.52    </td><td> 9.79     </td><td>28079001  </td></tr>\n",
       "\t<tr><th scope=row>433</th><td>2001-08-01</td><td>0.97      </td><td>117.70    </td><td>31.63     </td><td> 96.42    </td><td>11.80     </td><td>28079001  </td></tr>\n",
       "\t<tr><th scope=row>457</th><td>2001-08-01</td><td>1.11      </td><td>116.50    </td><td>26.72     </td><td> 73.99    </td><td>11.62     </td><td>28079001  </td></tr>\n",
       "\t<tr><th scope=row>481</th><td>2001-08-01</td><td>1.47      </td><td>121.10    </td><td>23.21     </td><td> 53.86    </td><td>11.58     </td><td>28079001  </td></tr>\n",
       "\t<tr><th scope=row>505</th><td>2001-08-01</td><td>1.73      </td><td>134.30    </td><td>15.83     </td><td> 48.50    </td><td>13.40     </td><td>28079001  </td></tr>\n",
       "\t<tr><th scope=row>529</th><td>2001-08-01</td><td>1.79      </td><td>134.10    </td><td>11.26     </td><td> 65.28    </td><td>15.04     </td><td>28079001  </td></tr>\n",
       "\t<tr><th scope=row>553</th><td>2001-08-02</td><td>1.34      </td><td>113.50    </td><td>14.47     </td><td> 62.23    </td><td>10.91     </td><td>28079001  </td></tr>\n",
       "</tbody>\n",
       "</table>\n"
      ],
      "text/latex": [
       "\\begin{tabular}{r|lllllll}\n",
       "  & date & CO & NO\\_2 & O\\_3 & PM10 & SO\\_2 & station\\\\\n",
       "\\hline\n",
       "\t1 & 2001-08-01 & 0.37       &  58.40     & 34.53      & 105.00     &  6.34      & 28079001  \\\\\n",
       "\t25 & 2001-08-01 & 0.42       &  65.76     & 27.93      &  69.75     &  7.15      & 28079001  \\\\\n",
       "\t49 & 2001-08-01 & 0.32       &  61.09     & 32.07      &  56.22     &  6.26      & 28079001  \\\\\n",
       "\t73 & 2001-08-01 & 0.23       &  47.02     & 42.21      &  50.69     &  5.19      & 28079001  \\\\\n",
       "\t97 & 2001-08-01 & 0.19       &  47.17     & 48.46      &  49.49     &  5.03      & 28079001  \\\\\n",
       "\t121 & 2001-08-01 & 0.06       &  63.83     & 40.80      &  43.47     &  5.24      & 28079001  \\\\\n",
       "\t145 & 2001-08-01 & 0.28       &  91.74     & 22.18      &  42.19     &  7.37      & 28079001  \\\\\n",
       "\t169 & 2001-08-01 & 0.89       & 127.80     & 11.98      &  45.72     & 11.37      & 28079001  \\\\\n",
       "\t193 & 2001-08-01 & 1.51       & 129.50     &  9.71      &  68.46     & 15.57      & 28079001  \\\\\n",
       "\t217 & 2001-08-01 & 1.80       & 127.70     &  8.86      &  91.84     & 19.47      & 28079001  \\\\\n",
       "\t241 & 2001-08-01 & 1.26       & 119.90     & 11.65      &  85.32     & 14.74      & 28079001  \\\\\n",
       "\t265 & 2001-08-01 & 0.99       & 120.20     & 16.56      &  88.68     & 12.77      & 28079001  \\\\\n",
       "\t289 & 2001-08-01 & 0.91       & 109.80     & 25.13      &  70.78     & 10.05      & 28079001  \\\\\n",
       "\t313 & 2001-08-01 & 1.15       & 114.70     & 21.74      &  69.81     & 11.03      & 28079001  \\\\\n",
       "\t337 & 2001-08-01 & 1.23       & 114.80     & 21.18      &  76.04     & 11.15      & 28079001  \\\\\n",
       "\t361 & 2001-08-01 & 1.09       & 110.60     & 21.95      &  93.53     & 11.28      & 28079001  \\\\\n",
       "\t385 & 2001-08-01 & 0.69       &  93.50     & 35.23      & 106.80     & 10.12      & 28079001  \\\\\n",
       "\t409 & 2001-08-01 & 0.76       & 103.30     & 37.40      &  97.52     &  9.79      & 28079001  \\\\\n",
       "\t433 & 2001-08-01 & 0.97       & 117.70     & 31.63      &  96.42     & 11.80      & 28079001  \\\\\n",
       "\t457 & 2001-08-01 & 1.11       & 116.50     & 26.72      &  73.99     & 11.62      & 28079001  \\\\\n",
       "\t481 & 2001-08-01 & 1.47       & 121.10     & 23.21      &  53.86     & 11.58      & 28079001  \\\\\n",
       "\t505 & 2001-08-01 & 1.73       & 134.30     & 15.83      &  48.50     & 13.40      & 28079001  \\\\\n",
       "\t529 & 2001-08-01 & 1.79       & 134.10     & 11.26      &  65.28     & 15.04      & 28079001  \\\\\n",
       "\t553 & 2001-08-02 & 1.34       & 113.50     & 14.47      &  62.23     & 10.91      & 28079001  \\\\\n",
       "\\end{tabular}\n"
      ],
      "text/markdown": [
       "\n",
       "| <!--/--> | date | CO | NO_2 | O_3 | PM10 | SO_2 | station | \n",
       "|---|---|---|---|---|---|---|---|---|---|---|---|---|---|---|---|---|---|---|---|---|---|---|---|\n",
       "| 1 | 2001-08-01 | 0.37       |  58.40     | 34.53      | 105.00     |  6.34      | 28079001   | \n",
       "| 25 | 2001-08-01 | 0.42       |  65.76     | 27.93      |  69.75     |  7.15      | 28079001   | \n",
       "| 49 | 2001-08-01 | 0.32       |  61.09     | 32.07      |  56.22     |  6.26      | 28079001   | \n",
       "| 73 | 2001-08-01 | 0.23       |  47.02     | 42.21      |  50.69     |  5.19      | 28079001   | \n",
       "| 97 | 2001-08-01 | 0.19       |  47.17     | 48.46      |  49.49     |  5.03      | 28079001   | \n",
       "| 121 | 2001-08-01 | 0.06       |  63.83     | 40.80      |  43.47     |  5.24      | 28079001   | \n",
       "| 145 | 2001-08-01 | 0.28       |  91.74     | 22.18      |  42.19     |  7.37      | 28079001   | \n",
       "| 169 | 2001-08-01 | 0.89       | 127.80     | 11.98      |  45.72     | 11.37      | 28079001   | \n",
       "| 193 | 2001-08-01 | 1.51       | 129.50     |  9.71      |  68.46     | 15.57      | 28079001   | \n",
       "| 217 | 2001-08-01 | 1.80       | 127.70     |  8.86      |  91.84     | 19.47      | 28079001   | \n",
       "| 241 | 2001-08-01 | 1.26       | 119.90     | 11.65      |  85.32     | 14.74      | 28079001   | \n",
       "| 265 | 2001-08-01 | 0.99       | 120.20     | 16.56      |  88.68     | 12.77      | 28079001   | \n",
       "| 289 | 2001-08-01 | 0.91       | 109.80     | 25.13      |  70.78     | 10.05      | 28079001   | \n",
       "| 313 | 2001-08-01 | 1.15       | 114.70     | 21.74      |  69.81     | 11.03      | 28079001   | \n",
       "| 337 | 2001-08-01 | 1.23       | 114.80     | 21.18      |  76.04     | 11.15      | 28079001   | \n",
       "| 361 | 2001-08-01 | 1.09       | 110.60     | 21.95      |  93.53     | 11.28      | 28079001   | \n",
       "| 385 | 2001-08-01 | 0.69       |  93.50     | 35.23      | 106.80     | 10.12      | 28079001   | \n",
       "| 409 | 2001-08-01 | 0.76       | 103.30     | 37.40      |  97.52     |  9.79      | 28079001   | \n",
       "| 433 | 2001-08-01 | 0.97       | 117.70     | 31.63      |  96.42     | 11.80      | 28079001   | \n",
       "| 457 | 2001-08-01 | 1.11       | 116.50     | 26.72      |  73.99     | 11.62      | 28079001   | \n",
       "| 481 | 2001-08-01 | 1.47       | 121.10     | 23.21      |  53.86     | 11.58      | 28079001   | \n",
       "| 505 | 2001-08-01 | 1.73       | 134.30     | 15.83      |  48.50     | 13.40      | 28079001   | \n",
       "| 529 | 2001-08-01 | 1.79       | 134.10     | 11.26      |  65.28     | 15.04      | 28079001   | \n",
       "| 553 | 2001-08-02 | 1.34       | 113.50     | 14.47      |  62.23     | 10.91      | 28079001   | \n",
       "\n",
       "\n"
      ],
      "text/plain": [
       "    date       CO   NO_2   O_3   PM10   SO_2  station \n",
       "1   2001-08-01 0.37  58.40 34.53 105.00  6.34 28079001\n",
       "25  2001-08-01 0.42  65.76 27.93  69.75  7.15 28079001\n",
       "49  2001-08-01 0.32  61.09 32.07  56.22  6.26 28079001\n",
       "73  2001-08-01 0.23  47.02 42.21  50.69  5.19 28079001\n",
       "97  2001-08-01 0.19  47.17 48.46  49.49  5.03 28079001\n",
       "121 2001-08-01 0.06  63.83 40.80  43.47  5.24 28079001\n",
       "145 2001-08-01 0.28  91.74 22.18  42.19  7.37 28079001\n",
       "169 2001-08-01 0.89 127.80 11.98  45.72 11.37 28079001\n",
       "193 2001-08-01 1.51 129.50  9.71  68.46 15.57 28079001\n",
       "217 2001-08-01 1.80 127.70  8.86  91.84 19.47 28079001\n",
       "241 2001-08-01 1.26 119.90 11.65  85.32 14.74 28079001\n",
       "265 2001-08-01 0.99 120.20 16.56  88.68 12.77 28079001\n",
       "289 2001-08-01 0.91 109.80 25.13  70.78 10.05 28079001\n",
       "313 2001-08-01 1.15 114.70 21.74  69.81 11.03 28079001\n",
       "337 2001-08-01 1.23 114.80 21.18  76.04 11.15 28079001\n",
       "361 2001-08-01 1.09 110.60 21.95  93.53 11.28 28079001\n",
       "385 2001-08-01 0.69  93.50 35.23 106.80 10.12 28079001\n",
       "409 2001-08-01 0.76 103.30 37.40  97.52  9.79 28079001\n",
       "433 2001-08-01 0.97 117.70 31.63  96.42 11.80 28079001\n",
       "457 2001-08-01 1.11 116.50 26.72  73.99 11.62 28079001\n",
       "481 2001-08-01 1.47 121.10 23.21  53.86 11.58 28079001\n",
       "505 2001-08-01 1.73 134.30 15.83  48.50 13.40 28079001\n",
       "529 2001-08-01 1.79 134.10 11.26  65.28 15.04 28079001\n",
       "553 2001-08-02 1.34 113.50 14.47  62.23 10.91 28079001"
      ]
     },
     "metadata": {},
     "output_type": "display_data"
    },
    {
     "data": {
      "text/html": [
       "<table>\n",
       "<thead><tr><th></th><th scope=col>date</th><th scope=col>CO</th><th scope=col>NO_2</th><th scope=col>O_3</th><th scope=col>PM10</th><th scope=col>SO_2</th><th scope=col>station</th></tr></thead>\n",
       "<tbody>\n",
       "\t<tr><th scope=row>2268754</th><td>2010-07-31</td><td>0.22      </td><td>17.83     </td><td>120.20    </td><td>20.17     </td><td>6.93      </td><td>28079099  </td></tr>\n",
       "\t<tr><th scope=row>2268776</th><td>2010-07-31</td><td>0.23      </td><td>22.57     </td><td>112.70    </td><td>13.95     </td><td>6.88      </td><td>28079099  </td></tr>\n",
       "\t<tr><th scope=row>2268798</th><td>2010-07-31</td><td>0.27      </td><td>33.91     </td><td> 98.27    </td><td>22.44     </td><td>6.84      </td><td>28079099  </td></tr>\n",
       "\t<tr><th scope=row>2268820</th><td>2010-07-31</td><td>0.38      </td><td>64.05     </td><td> 69.79    </td><td>52.17     </td><td>6.97      </td><td>28079099  </td></tr>\n",
       "\t<tr><th scope=row>2268842</th><td>2010-07-31</td><td>0.50      </td><td>86.81     </td><td> 49.55    </td><td>54.36     </td><td>7.12      </td><td>28079099  </td></tr>\n",
       "\t<tr><th scope=row>2268864</th><td>2010-08-01</td><td>0.43      </td><td>76.33     </td><td> 52.26    </td><td>47.15     </td><td>7.03      </td><td>28079099  </td></tr>\n",
       "</tbody>\n",
       "</table>\n"
      ],
      "text/latex": [
       "\\begin{tabular}{r|lllllll}\n",
       "  & date & CO & NO\\_2 & O\\_3 & PM10 & SO\\_2 & station\\\\\n",
       "\\hline\n",
       "\t2268754 & 2010-07-31 & 0.22       & 17.83      & 120.20     & 20.17      & 6.93       & 28079099  \\\\\n",
       "\t2268776 & 2010-07-31 & 0.23       & 22.57      & 112.70     & 13.95      & 6.88       & 28079099  \\\\\n",
       "\t2268798 & 2010-07-31 & 0.27       & 33.91      &  98.27     & 22.44      & 6.84       & 28079099  \\\\\n",
       "\t2268820 & 2010-07-31 & 0.38       & 64.05      &  69.79     & 52.17      & 6.97       & 28079099  \\\\\n",
       "\t2268842 & 2010-07-31 & 0.50       & 86.81      &  49.55     & 54.36      & 7.12       & 28079099  \\\\\n",
       "\t2268864 & 2010-08-01 & 0.43       & 76.33      &  52.26     & 47.15      & 7.03       & 28079099  \\\\\n",
       "\\end{tabular}\n"
      ],
      "text/markdown": [
       "\n",
       "| <!--/--> | date | CO | NO_2 | O_3 | PM10 | SO_2 | station | \n",
       "|---|---|---|---|---|---|\n",
       "| 2268754 | 2010-07-31 | 0.22       | 17.83      | 120.20     | 20.17      | 6.93       | 28079099   | \n",
       "| 2268776 | 2010-07-31 | 0.23       | 22.57      | 112.70     | 13.95      | 6.88       | 28079099   | \n",
       "| 2268798 | 2010-07-31 | 0.27       | 33.91      |  98.27     | 22.44      | 6.84       | 28079099   | \n",
       "| 2268820 | 2010-07-31 | 0.38       | 64.05      |  69.79     | 52.17      | 6.97       | 28079099   | \n",
       "| 2268842 | 2010-07-31 | 0.50       | 86.81      |  49.55     | 54.36      | 7.12       | 28079099   | \n",
       "| 2268864 | 2010-08-01 | 0.43       | 76.33      |  52.26     | 47.15      | 7.03       | 28079099   | \n",
       "\n",
       "\n"
      ],
      "text/plain": [
       "        date       CO   NO_2  O_3    PM10  SO_2 station \n",
       "2268754 2010-07-31 0.22 17.83 120.20 20.17 6.93 28079099\n",
       "2268776 2010-07-31 0.23 22.57 112.70 13.95 6.88 28079099\n",
       "2268798 2010-07-31 0.27 33.91  98.27 22.44 6.84 28079099\n",
       "2268820 2010-07-31 0.38 64.05  69.79 52.17 6.97 28079099\n",
       "2268842 2010-07-31 0.50 86.81  49.55 54.36 7.12 28079099\n",
       "2268864 2010-08-01 0.43 76.33  52.26 47.15 7.03 28079099"
      ]
     },
     "metadata": {},
     "output_type": "display_data"
    }
   ],
   "source": [
    "#Mostramos dataframe\n",
    "head(airMadrid, n = 24)\n",
    "tail(airMadrid)"
   ]
  },
  {
   "cell_type": "code",
   "execution_count": 234,
   "metadata": {},
   "outputs": [
    {
     "data": {
      "text/html": [
       "<table>\n",
       "<thead><tr><th scope=col>date</th><th scope=col>quantity</th></tr></thead>\n",
       "<tbody>\n",
       "\t<tr><td>2001-01-01</td><td> 4.3      </td></tr>\n",
       "\t<tr><td>2001-01-02</td><td> 0.1      </td></tr>\n",
       "\t<tr><td>2001-01-03</td><td> 2.2      </td></tr>\n",
       "\t<tr><td>2001-01-04</td><td> 2.4      </td></tr>\n",
       "\t<tr><td>2001-01-05</td><td>13.3      </td></tr>\n",
       "\t<tr><td>2001-01-06</td><td> 0.0      </td></tr>\n",
       "\t<tr><td>2001-01-07</td><td> 0.0      </td></tr>\n",
       "\t<tr><td>2001-01-08</td><td> 0.0      </td></tr>\n",
       "\t<tr><td>2001-01-09</td><td> 1.5      </td></tr>\n",
       "\t<tr><td>2001-01-10</td><td> 9.8      </td></tr>\n",
       "</tbody>\n",
       "</table>\n"
      ],
      "text/latex": [
       "\\begin{tabular}{r|ll}\n",
       " date & quantity\\\\\n",
       "\\hline\n",
       "\t 2001-01-01 &  4.3      \\\\\n",
       "\t 2001-01-02 &  0.1      \\\\\n",
       "\t 2001-01-03 &  2.2      \\\\\n",
       "\t 2001-01-04 &  2.4      \\\\\n",
       "\t 2001-01-05 & 13.3      \\\\\n",
       "\t 2001-01-06 &  0.0      \\\\\n",
       "\t 2001-01-07 &  0.0      \\\\\n",
       "\t 2001-01-08 &  0.0      \\\\\n",
       "\t 2001-01-09 &  1.5      \\\\\n",
       "\t 2001-01-10 &  9.8      \\\\\n",
       "\\end{tabular}\n"
      ],
      "text/markdown": [
       "\n",
       "date | quantity | \n",
       "|---|---|---|---|---|---|---|---|---|---|\n",
       "| 2001-01-01 |  4.3       | \n",
       "| 2001-01-02 |  0.1       | \n",
       "| 2001-01-03 |  2.2       | \n",
       "| 2001-01-04 |  2.4       | \n",
       "| 2001-01-05 | 13.3       | \n",
       "| 2001-01-06 |  0.0       | \n",
       "| 2001-01-07 |  0.0       | \n",
       "| 2001-01-08 |  0.0       | \n",
       "| 2001-01-09 |  1.5       | \n",
       "| 2001-01-10 |  9.8       | \n",
       "\n",
       "\n"
      ],
      "text/plain": [
       "   date       quantity\n",
       "1  2001-01-01  4.3    \n",
       "2  2001-01-02  0.1    \n",
       "3  2001-01-03  2.2    \n",
       "4  2001-01-04  2.4    \n",
       "5  2001-01-05 13.3    \n",
       "6  2001-01-06  0.0    \n",
       "7  2001-01-07  0.0    \n",
       "8  2001-01-08  0.0    \n",
       "9  2001-01-09  1.5    \n",
       "10 2001-01-10  9.8    "
      ]
     },
     "metadata": {},
     "output_type": "display_data"
    }
   ],
   "source": [
    "#Formateamos fecha en dataframe precipitaciones\n",
    "dataFrameRainfall$date <- as.Date(dataFrameRainfall$date)\n",
    "rainfall<-dataFrameRainfall\n",
    "rm(dataFrameRainfall)\n",
    "rainfall[is.na(rainfall)] <- 0 # convertir los NAS a ceros para que pinte bien la grafica\n",
    "head(rainfall, n = 10)"
   ]
  },
  {
   "cell_type": "markdown",
   "metadata": {},
   "source": [
    "#### Agrupar por fecha obteniendo la media diaria de cada gas contaminante"
   ]
  },
  {
   "cell_type": "markdown",
   "metadata": {},
   "source": [
    "Para los conjuntos de 24 mediciones existentes para cada día y estación, se realiza una media de las mismas, agrupando por estación y por fecha, obteniendo los siguientes resultados:"
   ]
  },
  {
   "cell_type": "code",
   "execution_count": 235,
   "metadata": {},
   "outputs": [
    {
     "data": {
      "text/html": [
       "<table>\n",
       "<thead><tr><th scope=col>station</th><th scope=col>date</th><th scope=col>CO</th><th scope=col>NO_2</th><th scope=col>O_3</th><th scope=col>PM10</th><th scope=col>SO_2</th></tr></thead>\n",
       "<tbody>\n",
       "\t<tr><td>28079001  </td><td>2001-01-02</td><td>1.243333  </td><td>84.53750  </td><td>12.576667 </td><td>36.92455  </td><td>20.28083  </td></tr>\n",
       "\t<tr><td>28079001  </td><td>2001-01-03</td><td>1.242917  </td><td>79.75125  </td><td>10.961250 </td><td>37.21292  </td><td>16.23917  </td></tr>\n",
       "\t<tr><td>28079001  </td><td>2001-01-04</td><td>1.134167  </td><td>75.39250  </td><td>12.002917 </td><td>35.03667  </td><td>16.75125  </td></tr>\n",
       "\t<tr><td>28079001  </td><td>2001-01-05</td><td>1.535833  </td><td>77.14083  </td><td> 8.755833 </td><td>34.27625  </td><td>16.00958  </td></tr>\n",
       "\t<tr><td>28079001  </td><td>2001-01-06</td><td>1.009167  </td><td>64.47708  </td><td>13.955417 </td><td>17.03792  </td><td>15.35417  </td></tr>\n",
       "\t<tr><td>28079001  </td><td>2001-01-07</td><td>1.016250  </td><td>67.06125  </td><td>12.776250 </td><td>20.45500  </td><td>18.43042  </td></tr>\n",
       "</tbody>\n",
       "</table>\n"
      ],
      "text/latex": [
       "\\begin{tabular}{r|lllllll}\n",
       " station & date & CO & NO\\_2 & O\\_3 & PM10 & SO\\_2\\\\\n",
       "\\hline\n",
       "\t 28079001   & 2001-01-02 & 1.243333   & 84.53750   & 12.576667  & 36.92455   & 20.28083  \\\\\n",
       "\t 28079001   & 2001-01-03 & 1.242917   & 79.75125   & 10.961250  & 37.21292   & 16.23917  \\\\\n",
       "\t 28079001   & 2001-01-04 & 1.134167   & 75.39250   & 12.002917  & 35.03667   & 16.75125  \\\\\n",
       "\t 28079001   & 2001-01-05 & 1.535833   & 77.14083   &  8.755833  & 34.27625   & 16.00958  \\\\\n",
       "\t 28079001   & 2001-01-06 & 1.009167   & 64.47708   & 13.955417  & 17.03792   & 15.35417  \\\\\n",
       "\t 28079001   & 2001-01-07 & 1.016250   & 67.06125   & 12.776250  & 20.45500   & 18.43042  \\\\\n",
       "\\end{tabular}\n"
      ],
      "text/markdown": [
       "\n",
       "station | date | CO | NO_2 | O_3 | PM10 | SO_2 | \n",
       "|---|---|---|---|---|---|\n",
       "| 28079001   | 2001-01-02 | 1.243333   | 84.53750   | 12.576667  | 36.92455   | 20.28083   | \n",
       "| 28079001   | 2001-01-03 | 1.242917   | 79.75125   | 10.961250  | 37.21292   | 16.23917   | \n",
       "| 28079001   | 2001-01-04 | 1.134167   | 75.39250   | 12.002917  | 35.03667   | 16.75125   | \n",
       "| 28079001   | 2001-01-05 | 1.535833   | 77.14083   |  8.755833  | 34.27625   | 16.00958   | \n",
       "| 28079001   | 2001-01-06 | 1.009167   | 64.47708   | 13.955417  | 17.03792   | 15.35417   | \n",
       "| 28079001   | 2001-01-07 | 1.016250   | 67.06125   | 12.776250  | 20.45500   | 18.43042   | \n",
       "\n",
       "\n"
      ],
      "text/plain": [
       "  station  date       CO       NO_2     O_3       PM10     SO_2    \n",
       "1 28079001 2001-01-02 1.243333 84.53750 12.576667 36.92455 20.28083\n",
       "2 28079001 2001-01-03 1.242917 79.75125 10.961250 37.21292 16.23917\n",
       "3 28079001 2001-01-04 1.134167 75.39250 12.002917 35.03667 16.75125\n",
       "4 28079001 2001-01-05 1.535833 77.14083  8.755833 34.27625 16.00958\n",
       "5 28079001 2001-01-06 1.009167 64.47708 13.955417 17.03792 15.35417\n",
       "6 28079001 2001-01-07 1.016250 67.06125 12.776250 20.45500 18.43042"
      ]
     },
     "metadata": {},
     "output_type": "display_data"
    },
    {
     "data": {
      "text/html": [
       "<table>\n",
       "<thead><tr><th scope=col>station</th><th scope=col>date</th><th scope=col>CO</th><th scope=col>NO_2</th><th scope=col>O_3</th><th scope=col>PM10</th><th scope=col>SO_2</th></tr></thead>\n",
       "<tbody>\n",
       "\t<tr><td>28079099  </td><td>2010-12-27</td><td>0.6770833 </td><td>83.11375  </td><td> 7.620417 </td><td>31.41708  </td><td>15.32375  </td></tr>\n",
       "\t<tr><td>28079099  </td><td>2010-12-28</td><td>0.7100000 </td><td>86.31750  </td><td> 7.642500 </td><td>35.74667  </td><td>18.47833  </td></tr>\n",
       "\t<tr><td>28079099  </td><td>2010-12-29</td><td>0.7404167 </td><td>82.27375  </td><td> 9.689583 </td><td>31.68542  </td><td>18.05083  </td></tr>\n",
       "\t<tr><td>28079099  </td><td>2010-12-30</td><td>0.6145833 </td><td>68.60792  </td><td> 7.415417 </td><td>25.95917  </td><td>13.35000  </td></tr>\n",
       "\t<tr><td>28079099  </td><td>2010-12-31</td><td>0.4387500 </td><td>55.20375  </td><td>14.215417 </td><td>14.84542  </td><td>10.28958  </td></tr>\n",
       "\t<tr><td>28079099  </td><td>2011-01-01</td><td>0.4800000 </td><td>53.53000  </td><td> 6.850000 </td><td>19.45000  </td><td>11.71000  </td></tr>\n",
       "</tbody>\n",
       "</table>\n"
      ],
      "text/latex": [
       "\\begin{tabular}{r|lllllll}\n",
       " station & date & CO & NO\\_2 & O\\_3 & PM10 & SO\\_2\\\\\n",
       "\\hline\n",
       "\t 28079099   & 2010-12-27 & 0.6770833  & 83.11375   &  7.620417  & 31.41708   & 15.32375  \\\\\n",
       "\t 28079099   & 2010-12-28 & 0.7100000  & 86.31750   &  7.642500  & 35.74667   & 18.47833  \\\\\n",
       "\t 28079099   & 2010-12-29 & 0.7404167  & 82.27375   &  9.689583  & 31.68542   & 18.05083  \\\\\n",
       "\t 28079099   & 2010-12-30 & 0.6145833  & 68.60792   &  7.415417  & 25.95917   & 13.35000  \\\\\n",
       "\t 28079099   & 2010-12-31 & 0.4387500  & 55.20375   & 14.215417  & 14.84542   & 10.28958  \\\\\n",
       "\t 28079099   & 2011-01-01 & 0.4800000  & 53.53000   &  6.850000  & 19.45000   & 11.71000  \\\\\n",
       "\\end{tabular}\n"
      ],
      "text/markdown": [
       "\n",
       "station | date | CO | NO_2 | O_3 | PM10 | SO_2 | \n",
       "|---|---|---|---|---|---|\n",
       "| 28079099   | 2010-12-27 | 0.6770833  | 83.11375   |  7.620417  | 31.41708   | 15.32375   | \n",
       "| 28079099   | 2010-12-28 | 0.7100000  | 86.31750   |  7.642500  | 35.74667   | 18.47833   | \n",
       "| 28079099   | 2010-12-29 | 0.7404167  | 82.27375   |  9.689583  | 31.68542   | 18.05083   | \n",
       "| 28079099   | 2010-12-30 | 0.6145833  | 68.60792   |  7.415417  | 25.95917   | 13.35000   | \n",
       "| 28079099   | 2010-12-31 | 0.4387500  | 55.20375   | 14.215417  | 14.84542   | 10.28958   | \n",
       "| 28079099   | 2011-01-01 | 0.4800000  | 53.53000   |  6.850000  | 19.45000   | 11.71000   | \n",
       "\n",
       "\n"
      ],
      "text/plain": [
       "  station  date       CO        NO_2     O_3       PM10     SO_2    \n",
       "1 28079099 2010-12-27 0.6770833 83.11375  7.620417 31.41708 15.32375\n",
       "2 28079099 2010-12-28 0.7100000 86.31750  7.642500 35.74667 18.47833\n",
       "3 28079099 2010-12-29 0.7404167 82.27375  9.689583 31.68542 18.05083\n",
       "4 28079099 2010-12-30 0.6145833 68.60792  7.415417 25.95917 13.35000\n",
       "5 28079099 2010-12-31 0.4387500 55.20375 14.215417 14.84542 10.28958\n",
       "6 28079099 2011-01-01 0.4800000 53.53000  6.850000 19.45000 11.71000"
      ]
     },
     "metadata": {},
     "output_type": "display_data"
    }
   ],
   "source": [
    "madrid <- airMadrid %>%\n",
    "  group_by(station,date) %>%\n",
    "  summarise(CO = mean(CO, na.rm = TRUE),\n",
    "            NO_2 = mean(NO_2, na.rm = TRUE),\n",
    "            O_3 = mean(O_3, na.rm = TRUE),\n",
    "            PM10 = mean(PM10, na.rm = TRUE),\n",
    "            SO_2 = mean(SO_2, na.rm = TRUE))\n",
    "head(madrid)\n",
    "tail(madrid)\n",
    "rm(airMadrid)"
   ]
  },
  {
   "cell_type": "markdown",
   "metadata": {},
   "source": [
    "<p style=\"text-align: justify;\">\n",
    "Observamos que la estacion 28079099 no tiene muestras desde 2011, se debe a que fue dada de baja ese año por lo que se procede a eliminar del estudio. A continuación mostramos el final del data.frame para observar que ya no se encuentra dicha estación. Además sustituimos los NA en las mediciones de los gases por cero para poder utilizarlos.\n",
    "</p>"
   ]
  },
  {
   "cell_type": "code",
   "execution_count": 236,
   "metadata": {},
   "outputs": [
    {
     "data": {
      "text/html": [
       "<table>\n",
       "<thead><tr><th scope=col>station</th><th scope=col>date</th><th scope=col>CO</th><th scope=col>NO_2</th><th scope=col>O_3</th><th scope=col>PM10</th><th scope=col>SO_2</th></tr></thead>\n",
       "<tbody>\n",
       "\t<tr><td>28079060  </td><td>2018-04-26</td><td>0         </td><td>29.041667 </td><td>77.25000  </td><td>42.54167  </td><td>0         </td></tr>\n",
       "\t<tr><td>28079060  </td><td>2018-04-27</td><td>0         </td><td>20.958333 </td><td>81.83333  </td><td>29.57143  </td><td>0         </td></tr>\n",
       "\t<tr><td>28079060  </td><td>2018-04-28</td><td>0         </td><td> 8.375000 </td><td>87.20833  </td><td>10.33333  </td><td>0         </td></tr>\n",
       "\t<tr><td>28079060  </td><td>2018-04-29</td><td>0         </td><td> 6.958333 </td><td>93.08333  </td><td>14.45833  </td><td>0         </td></tr>\n",
       "\t<tr><td>28079060  </td><td>2018-04-30</td><td>0         </td><td>13.708333 </td><td>83.33333  </td><td>12.91667  </td><td>0         </td></tr>\n",
       "\t<tr><td>28079060  </td><td>2018-05-01</td><td>0         </td><td>14.000000 </td><td>81.00000  </td><td> 6.00000  </td><td>0         </td></tr>\n",
       "</tbody>\n",
       "</table>\n"
      ],
      "text/latex": [
       "\\begin{tabular}{r|lllllll}\n",
       " station & date & CO & NO\\_2 & O\\_3 & PM10 & SO\\_2\\\\\n",
       "\\hline\n",
       "\t 28079060   & 2018-04-26 & 0          & 29.041667  & 77.25000   & 42.54167   & 0         \\\\\n",
       "\t 28079060   & 2018-04-27 & 0          & 20.958333  & 81.83333   & 29.57143   & 0         \\\\\n",
       "\t 28079060   & 2018-04-28 & 0          &  8.375000  & 87.20833   & 10.33333   & 0         \\\\\n",
       "\t 28079060   & 2018-04-29 & 0          &  6.958333  & 93.08333   & 14.45833   & 0         \\\\\n",
       "\t 28079060   & 2018-04-30 & 0          & 13.708333  & 83.33333   & 12.91667   & 0         \\\\\n",
       "\t 28079060   & 2018-05-01 & 0          & 14.000000  & 81.00000   &  6.00000   & 0         \\\\\n",
       "\\end{tabular}\n"
      ],
      "text/markdown": [
       "\n",
       "station | date | CO | NO_2 | O_3 | PM10 | SO_2 | \n",
       "|---|---|---|---|---|---|\n",
       "| 28079060   | 2018-04-26 | 0          | 29.041667  | 77.25000   | 42.54167   | 0          | \n",
       "| 28079060   | 2018-04-27 | 0          | 20.958333  | 81.83333   | 29.57143   | 0          | \n",
       "| 28079060   | 2018-04-28 | 0          |  8.375000  | 87.20833   | 10.33333   | 0          | \n",
       "| 28079060   | 2018-04-29 | 0          |  6.958333  | 93.08333   | 14.45833   | 0          | \n",
       "| 28079060   | 2018-04-30 | 0          | 13.708333  | 83.33333   | 12.91667   | 0          | \n",
       "| 28079060   | 2018-05-01 | 0          | 14.000000  | 81.00000   |  6.00000   | 0          | \n",
       "\n",
       "\n"
      ],
      "text/plain": [
       "  station  date       CO NO_2      O_3      PM10     SO_2\n",
       "1 28079060 2018-04-26 0  29.041667 77.25000 42.54167 0   \n",
       "2 28079060 2018-04-27 0  20.958333 81.83333 29.57143 0   \n",
       "3 28079060 2018-04-28 0   8.375000 87.20833 10.33333 0   \n",
       "4 28079060 2018-04-29 0   6.958333 93.08333 14.45833 0   \n",
       "5 28079060 2018-04-30 0  13.708333 83.33333 12.91667 0   \n",
       "6 28079060 2018-05-01 0  14.000000 81.00000  6.00000 0   "
      ]
     },
     "metadata": {},
     "output_type": "display_data"
    }
   ],
   "source": [
    "#Eliminamos estación 28079099\n",
    "madrid <-  madrid[!madrid$station == 28079099,]\n",
    "madrid[is.na(madrid)] <- 0\n",
    "tail(madrid)"
   ]
  },
  {
   "cell_type": "markdown",
   "metadata": {},
   "source": [
    "### Visualización de los datos a lo largo de los años"
   ]
  },
  {
   "cell_type": "markdown",
   "metadata": {},
   "source": [
    "A continuación se procede a visualizar los datos colocados en un timeseries tanto a nivel diario como mensual ya que apoyarán al estudio."
   ]
  },
  {
   "cell_type": "markdown",
   "metadata": {},
   "source": [
    "#### Gráfica con la evolución de la contaminación diaria"
   ]
  },
  {
   "cell_type": "markdown",
   "metadata": {},
   "source": [
    "Conviertimos el dataframe en un timeseries para visualizar la evolución diaria de la contaminacion"
   ]
  },
  {
   "cell_type": "code",
   "execution_count": 237,
   "metadata": {},
   "outputs": [],
   "source": [
    "madrid_ts_day <- rowSums(madrid[,3:7]) # agrego los gases contaminantes que corresponden a las columnas 3 a 7\n",
    "madrid_ts_day <- madrid_ts_day[madrid_ts_day != 0] # elimino los ceros del timeseries porque corresponden a Nas"
   ]
  },
  {
   "cell_type": "code",
   "execution_count": 238,
   "metadata": {},
   "outputs": [],
   "source": [
    "madrid_ts_day <- ts(madrid_ts_day, start=c(2001, 1), end=c(2018, 1), frequency=365)"
   ]
  },
  {
   "cell_type": "code",
   "execution_count": 239,
   "metadata": {},
   "outputs": [],
   "source": [
    "rainfall_ts <- ts(rainfall$quantity, start=c(2001, 1), end=c(2018, 1), frequency=365)"
   ]
  },
  {
   "cell_type": "code",
   "execution_count": 240,
   "metadata": {},
   "outputs": [
    {
     "data": {
      "image/png": "[encoded data removed]",
      "text/plain": [
       "Plot with title \"Contaminación diaria\""
      ]
     },
     "metadata": {},
     "output_type": "display_data"
    }
   ],
   "source": [
    "plot(madrid_ts_day,main =\"Contaminación diaria\", xlab=\"Year\", ylab=\"Contaminacion\",\n",
    "       col=\"navy\")\n"
   ]
  },
  {
   "cell_type": "markdown",
   "metadata": {},
   "source": [
    "Se puede observar como la contaminación ha ido disminuyendo a lo largo de los años, así como los valores diarios maximos de la misma"
   ]
  },
  {
   "cell_type": "markdown",
   "metadata": {},
   "source": [
    "#### Gráficos con la evolución de la contaminación y precipitación mensuales "
   ]
  },
  {
   "cell_type": "code",
   "execution_count": 241,
   "metadata": {},
   "outputs": [
    {
     "data": {
      "text/html": [
       "<table>\n",
       "<thead><tr><th scope=col>month</th><th scope=col>CO</th><th scope=col>NO_2</th><th scope=col>O_3</th><th scope=col>PM10</th><th scope=col>SO_2</th><th scope=col>totalPollution</th></tr></thead>\n",
       "<tbody>\n",
       "\t<tr><td>01       </td><td>0.5322757</td><td>58.69813 </td><td>15.96593 </td><td>20.61122 </td><td>11.572505</td><td>107.3801 </td></tr>\n",
       "\t<tr><td>02       </td><td>0.4726089</td><td>54.55779 </td><td>22.13098 </td><td>20.07257 </td><td>10.745318</td><td>107.9793 </td></tr>\n",
       "\t<tr><td>03       </td><td>0.3724831</td><td>47.41064 </td><td>31.60530 </td><td>19.27294 </td><td> 8.385831</td><td>107.0472 </td></tr>\n",
       "\t<tr><td>04       </td><td>0.3169455</td><td>43.30190 </td><td>39.58931 </td><td>17.44354 </td><td> 6.286833</td><td>106.9385 </td></tr>\n",
       "\t<tr><td>05       </td><td>0.3000982</td><td>43.06757 </td><td>41.43926 </td><td>19.42107 </td><td> 5.692493</td><td>109.9205 </td></tr>\n",
       "\t<tr><td>06       </td><td>0.2791747</td><td>44.23049 </td><td>45.63415 </td><td>24.34126 </td><td> 5.628239</td><td>120.1133 </td></tr>\n",
       "\t<tr><td>07       </td><td>0.2705059</td><td>44.26465 </td><td>48.11280 </td><td>25.74198 </td><td> 5.509665</td><td>123.8996 </td></tr>\n",
       "\t<tr><td>08       </td><td>0.2490783</td><td>40.13439 </td><td>46.14973 </td><td>24.92206 </td><td> 5.354324</td><td>116.8096 </td></tr>\n",
       "\t<tr><td>09       </td><td>0.3290252</td><td>50.59877 </td><td>34.67615 </td><td>24.13475 </td><td> 5.790693</td><td>115.5294 </td></tr>\n",
       "\t<tr><td>10       </td><td>0.4014883</td><td>55.14091 </td><td>21.51472 </td><td>21.79969 </td><td> 6.111997</td><td>104.9688 </td></tr>\n",
       "\t<tr><td>11       </td><td>0.4897506</td><td>58.69998 </td><td>16.76348 </td><td>21.45155 </td><td> 9.747524</td><td>107.1523 </td></tr>\n",
       "\t<tr><td>12       </td><td>0.5425259</td><td>63.18892 </td><td>13.64731 </td><td>21.37426 </td><td>11.508250</td><td>110.2613 </td></tr>\n",
       "</tbody>\n",
       "</table>\n"
      ],
      "text/latex": [
       "\\begin{tabular}{r|lllllll}\n",
       " month & CO & NO\\_2 & O\\_3 & PM10 & SO\\_2 & totalPollution\\\\\n",
       "\\hline\n",
       "\t 01        & 0.5322757 & 58.69813  & 15.96593  & 20.61122  & 11.572505 & 107.3801 \\\\\n",
       "\t 02        & 0.4726089 & 54.55779  & 22.13098  & 20.07257  & 10.745318 & 107.9793 \\\\\n",
       "\t 03        & 0.3724831 & 47.41064  & 31.60530  & 19.27294  &  8.385831 & 107.0472 \\\\\n",
       "\t 04        & 0.3169455 & 43.30190  & 39.58931  & 17.44354  &  6.286833 & 106.9385 \\\\\n",
       "\t 05        & 0.3000982 & 43.06757  & 41.43926  & 19.42107  &  5.692493 & 109.9205 \\\\\n",
       "\t 06        & 0.2791747 & 44.23049  & 45.63415  & 24.34126  &  5.628239 & 120.1133 \\\\\n",
       "\t 07        & 0.2705059 & 44.26465  & 48.11280  & 25.74198  &  5.509665 & 123.8996 \\\\\n",
       "\t 08        & 0.2490783 & 40.13439  & 46.14973  & 24.92206  &  5.354324 & 116.8096 \\\\\n",
       "\t 09        & 0.3290252 & 50.59877  & 34.67615  & 24.13475  &  5.790693 & 115.5294 \\\\\n",
       "\t 10        & 0.4014883 & 55.14091  & 21.51472  & 21.79969  &  6.111997 & 104.9688 \\\\\n",
       "\t 11        & 0.4897506 & 58.69998  & 16.76348  & 21.45155  &  9.747524 & 107.1523 \\\\\n",
       "\t 12        & 0.5425259 & 63.18892  & 13.64731  & 21.37426  & 11.508250 & 110.2613 \\\\\n",
       "\\end{tabular}\n"
      ],
      "text/markdown": [
       "\n",
       "month | CO | NO_2 | O_3 | PM10 | SO_2 | totalPollution | \n",
       "|---|---|---|---|---|---|---|---|---|---|---|---|\n",
       "| 01        | 0.5322757 | 58.69813  | 15.96593  | 20.61122  | 11.572505 | 107.3801  | \n",
       "| 02        | 0.4726089 | 54.55779  | 22.13098  | 20.07257  | 10.745318 | 107.9793  | \n",
       "| 03        | 0.3724831 | 47.41064  | 31.60530  | 19.27294  |  8.385831 | 107.0472  | \n",
       "| 04        | 0.3169455 | 43.30190  | 39.58931  | 17.44354  |  6.286833 | 106.9385  | \n",
       "| 05        | 0.3000982 | 43.06757  | 41.43926  | 19.42107  |  5.692493 | 109.9205  | \n",
       "| 06        | 0.2791747 | 44.23049  | 45.63415  | 24.34126  |  5.628239 | 120.1133  | \n",
       "| 07        | 0.2705059 | 44.26465  | 48.11280  | 25.74198  |  5.509665 | 123.8996  | \n",
       "| 08        | 0.2490783 | 40.13439  | 46.14973  | 24.92206  |  5.354324 | 116.8096  | \n",
       "| 09        | 0.3290252 | 50.59877  | 34.67615  | 24.13475  |  5.790693 | 115.5294  | \n",
       "| 10        | 0.4014883 | 55.14091  | 21.51472  | 21.79969  |  6.111997 | 104.9688  | \n",
       "| 11        | 0.4897506 | 58.69998  | 16.76348  | 21.45155  |  9.747524 | 107.1523  | \n",
       "| 12        | 0.5425259 | 63.18892  | 13.64731  | 21.37426  | 11.508250 | 110.2613  | \n",
       "\n",
       "\n"
      ],
      "text/plain": [
       "   month CO        NO_2     O_3      PM10     SO_2      totalPollution\n",
       "1  01    0.5322757 58.69813 15.96593 20.61122 11.572505 107.3801      \n",
       "2  02    0.4726089 54.55779 22.13098 20.07257 10.745318 107.9793      \n",
       "3  03    0.3724831 47.41064 31.60530 19.27294  8.385831 107.0472      \n",
       "4  04    0.3169455 43.30190 39.58931 17.44354  6.286833 106.9385      \n",
       "5  05    0.3000982 43.06757 41.43926 19.42107  5.692493 109.9205      \n",
       "6  06    0.2791747 44.23049 45.63415 24.34126  5.628239 120.1133      \n",
       "7  07    0.2705059 44.26465 48.11280 25.74198  5.509665 123.8996      \n",
       "8  08    0.2490783 40.13439 46.14973 24.92206  5.354324 116.8096      \n",
       "9  09    0.3290252 50.59877 34.67615 24.13475  5.790693 115.5294      \n",
       "10 10    0.4014883 55.14091 21.51472 21.79969  6.111997 104.9688      \n",
       "11 11    0.4897506 58.69998 16.76348 21.45155  9.747524 107.1523      \n",
       "12 12    0.5425259 63.18892 13.64731 21.37426 11.508250 110.2613      "
      ]
     },
     "metadata": {},
     "output_type": "display_data"
    }
   ],
   "source": [
    "# divido por año, mes y dia\n",
    "madrid_month_pol <- madrid %>% separate(date, sep=\"-\", into = c(\"year\", \"month\", \"day\"))\n",
    "pollutionMonth <- madrid %>% separate(date, sep=\"-\", into = c(\"year\", \"month\", \"day\"))\n",
    "\n",
    "# sumo todos los dias del año para cada gas\n",
    "madrid_month_pol <- madrid_month_pol %>%\n",
    "  group_by(month) %>%\n",
    "  summarise(CO = mean(CO, na.rm = TRUE),\n",
    "            NO_2 = mean(NO_2, na.rm = TRUE),\n",
    "            O_3 = mean(O_3, na.rm = TRUE),\n",
    "            PM10 = mean(PM10, na.rm = TRUE),\n",
    "            SO_2 = mean(SO_2, na.rm = TRUE))\n",
    "\n",
    "madrid_month_pol <- madrid_month_pol[-c(18),] # quito 2018 porque solo llega hasta mayo\n",
    "\n",
    "madrid_month_pol$totalPollution <- rowSums(madrid_month_pol[,2:6])\n",
    "\n",
    "head(madrid_month_pol, n = 24)"
   ]
  },
  {
   "cell_type": "code",
   "execution_count": 242,
   "metadata": {},
   "outputs": [
    {
     "data": {
      "text/html": [
       "<table>\n",
       "<thead><tr><th scope=col>month</th><th scope=col>quantity</th></tr></thead>\n",
       "<tbody>\n",
       "\t<tr><td>01       </td><td>1.1403922</td></tr>\n",
       "\t<tr><td>02       </td><td>1.5004598</td></tr>\n",
       "\t<tr><td>03       </td><td>1.8750000</td></tr>\n",
       "\t<tr><td>04       </td><td>1.4612335</td></tr>\n",
       "\t<tr><td>05       </td><td>1.5126294</td></tr>\n",
       "\t<tr><td>06       </td><td>0.6019190</td></tr>\n",
       "\t<tr><td>07       </td><td>0.1554687</td></tr>\n",
       "\t<tr><td>08       </td><td>0.2500921</td></tr>\n",
       "\t<tr><td>09       </td><td>0.4092308</td></tr>\n",
       "\t<tr><td>10       </td><td>2.1889513</td></tr>\n",
       "\t<tr><td>11       </td><td>1.6487524</td></tr>\n",
       "\t<tr><td>12       </td><td>1.0688699</td></tr>\n",
       "</tbody>\n",
       "</table>\n"
      ],
      "text/latex": [
       "\\begin{tabular}{r|ll}\n",
       " month & quantity\\\\\n",
       "\\hline\n",
       "\t 01        & 1.1403922\\\\\n",
       "\t 02        & 1.5004598\\\\\n",
       "\t 03        & 1.8750000\\\\\n",
       "\t 04        & 1.4612335\\\\\n",
       "\t 05        & 1.5126294\\\\\n",
       "\t 06        & 0.6019190\\\\\n",
       "\t 07        & 0.1554687\\\\\n",
       "\t 08        & 0.2500921\\\\\n",
       "\t 09        & 0.4092308\\\\\n",
       "\t 10        & 2.1889513\\\\\n",
       "\t 11        & 1.6487524\\\\\n",
       "\t 12        & 1.0688699\\\\\n",
       "\\end{tabular}\n"
      ],
      "text/markdown": [
       "\n",
       "month | quantity | \n",
       "|---|---|---|---|---|---|---|---|---|---|---|---|\n",
       "| 01        | 1.1403922 | \n",
       "| 02        | 1.5004598 | \n",
       "| 03        | 1.8750000 | \n",
       "| 04        | 1.4612335 | \n",
       "| 05        | 1.5126294 | \n",
       "| 06        | 0.6019190 | \n",
       "| 07        | 0.1554687 | \n",
       "| 08        | 0.2500921 | \n",
       "| 09        | 0.4092308 | \n",
       "| 10        | 2.1889513 | \n",
       "| 11        | 1.6487524 | \n",
       "| 12        | 1.0688699 | \n",
       "\n",
       "\n"
      ],
      "text/plain": [
       "   month quantity \n",
       "1  01    1.1403922\n",
       "2  02    1.5004598\n",
       "3  03    1.8750000\n",
       "4  04    1.4612335\n",
       "5  05    1.5126294\n",
       "6  06    0.6019190\n",
       "7  07    0.1554687\n",
       "8  08    0.2500921\n",
       "9  09    0.4092308\n",
       "10 10    2.1889513\n",
       "11 11    1.6487524\n",
       "12 12    1.0688699"
      ]
     },
     "metadata": {},
     "output_type": "display_data"
    }
   ],
   "source": [
    "# divido por año, mes y dia\n",
    "rainfall_month <-rainfall %>% separate(date, sep=\"-\", into = c(\"year\", \"month\", \"day\"))\n",
    "rainfallMonth <-rainfall %>% separate(date, sep=\"-\", into = c(\"year\", \"month\", \"day\"))\n",
    "\n",
    "rainfall_month <- rainfall_month %>%\n",
    "  group_by(month) %>%\n",
    "  summarise(quantity = mean(quantity, na.rm = TRUE))\n",
    "\n",
    "rainfall_month <- rainfall_month[-c(18),] # quito 2018 como en la tabla de contaminacion\n",
    "\n",
    "\n",
    "head(rainfall_month, n = 12)"
   ]
  },
  {
   "cell_type": "code",
   "execution_count": 243,
   "metadata": {},
   "outputs": [
    {
     "data": {
      "text/html": [
       "<table>\n",
       "<thead><tr><th scope=col>month</th><th scope=col>CO</th><th scope=col>NO_2</th><th scope=col>O_3</th><th scope=col>PM10</th><th scope=col>SO_2</th><th scope=col>totalPollution</th><th scope=col>quantity</th></tr></thead>\n",
       "<tbody>\n",
       "\t<tr><td>01       </td><td>0.5322757</td><td>58.69813 </td><td>15.96593 </td><td>20.61122 </td><td>11.572505</td><td>107.3801 </td><td>1.1403922</td></tr>\n",
       "\t<tr><td>02       </td><td>0.4726089</td><td>54.55779 </td><td>22.13098 </td><td>20.07257 </td><td>10.745318</td><td>107.9793 </td><td>1.5004598</td></tr>\n",
       "\t<tr><td>03       </td><td>0.3724831</td><td>47.41064 </td><td>31.60530 </td><td>19.27294 </td><td> 8.385831</td><td>107.0472 </td><td>1.8750000</td></tr>\n",
       "\t<tr><td>04       </td><td>0.3169455</td><td>43.30190 </td><td>39.58931 </td><td>17.44354 </td><td> 6.286833</td><td>106.9385 </td><td>1.4612335</td></tr>\n",
       "\t<tr><td>05       </td><td>0.3000982</td><td>43.06757 </td><td>41.43926 </td><td>19.42107 </td><td> 5.692493</td><td>109.9205 </td><td>1.5126294</td></tr>\n",
       "\t<tr><td>06       </td><td>0.2791747</td><td>44.23049 </td><td>45.63415 </td><td>24.34126 </td><td> 5.628239</td><td>120.1133 </td><td>0.6019190</td></tr>\n",
       "\t<tr><td>07       </td><td>0.2705059</td><td>44.26465 </td><td>48.11280 </td><td>25.74198 </td><td> 5.509665</td><td>123.8996 </td><td>0.1554687</td></tr>\n",
       "\t<tr><td>08       </td><td>0.2490783</td><td>40.13439 </td><td>46.14973 </td><td>24.92206 </td><td> 5.354324</td><td>116.8096 </td><td>0.2500921</td></tr>\n",
       "\t<tr><td>09       </td><td>0.3290252</td><td>50.59877 </td><td>34.67615 </td><td>24.13475 </td><td> 5.790693</td><td>115.5294 </td><td>0.4092308</td></tr>\n",
       "\t<tr><td>10       </td><td>0.4014883</td><td>55.14091 </td><td>21.51472 </td><td>21.79969 </td><td> 6.111997</td><td>104.9688 </td><td>2.1889513</td></tr>\n",
       "\t<tr><td>11       </td><td>0.4897506</td><td>58.69998 </td><td>16.76348 </td><td>21.45155 </td><td> 9.747524</td><td>107.1523 </td><td>1.6487524</td></tr>\n",
       "\t<tr><td>12       </td><td>0.5425259</td><td>63.18892 </td><td>13.64731 </td><td>21.37426 </td><td>11.508250</td><td>110.2613 </td><td>1.0688699</td></tr>\n",
       "</tbody>\n",
       "</table>\n"
      ],
      "text/latex": [
       "\\begin{tabular}{r|llllllll}\n",
       " month & CO & NO\\_2 & O\\_3 & PM10 & SO\\_2 & totalPollution & quantity\\\\\n",
       "\\hline\n",
       "\t 01        & 0.5322757 & 58.69813  & 15.96593  & 20.61122  & 11.572505 & 107.3801  & 1.1403922\\\\\n",
       "\t 02        & 0.4726089 & 54.55779  & 22.13098  & 20.07257  & 10.745318 & 107.9793  & 1.5004598\\\\\n",
       "\t 03        & 0.3724831 & 47.41064  & 31.60530  & 19.27294  &  8.385831 & 107.0472  & 1.8750000\\\\\n",
       "\t 04        & 0.3169455 & 43.30190  & 39.58931  & 17.44354  &  6.286833 & 106.9385  & 1.4612335\\\\\n",
       "\t 05        & 0.3000982 & 43.06757  & 41.43926  & 19.42107  &  5.692493 & 109.9205  & 1.5126294\\\\\n",
       "\t 06        & 0.2791747 & 44.23049  & 45.63415  & 24.34126  &  5.628239 & 120.1133  & 0.6019190\\\\\n",
       "\t 07        & 0.2705059 & 44.26465  & 48.11280  & 25.74198  &  5.509665 & 123.8996  & 0.1554687\\\\\n",
       "\t 08        & 0.2490783 & 40.13439  & 46.14973  & 24.92206  &  5.354324 & 116.8096  & 0.2500921\\\\\n",
       "\t 09        & 0.3290252 & 50.59877  & 34.67615  & 24.13475  &  5.790693 & 115.5294  & 0.4092308\\\\\n",
       "\t 10        & 0.4014883 & 55.14091  & 21.51472  & 21.79969  &  6.111997 & 104.9688  & 2.1889513\\\\\n",
       "\t 11        & 0.4897506 & 58.69998  & 16.76348  & 21.45155  &  9.747524 & 107.1523  & 1.6487524\\\\\n",
       "\t 12        & 0.5425259 & 63.18892  & 13.64731  & 21.37426  & 11.508250 & 110.2613  & 1.0688699\\\\\n",
       "\\end{tabular}\n"
      ],
      "text/markdown": [
       "\n",
       "month | CO | NO_2 | O_3 | PM10 | SO_2 | totalPollution | quantity | \n",
       "|---|---|---|---|---|---|---|---|---|---|---|---|\n",
       "| 01        | 0.5322757 | 58.69813  | 15.96593  | 20.61122  | 11.572505 | 107.3801  | 1.1403922 | \n",
       "| 02        | 0.4726089 | 54.55779  | 22.13098  | 20.07257  | 10.745318 | 107.9793  | 1.5004598 | \n",
       "| 03        | 0.3724831 | 47.41064  | 31.60530  | 19.27294  |  8.385831 | 107.0472  | 1.8750000 | \n",
       "| 04        | 0.3169455 | 43.30190  | 39.58931  | 17.44354  |  6.286833 | 106.9385  | 1.4612335 | \n",
       "| 05        | 0.3000982 | 43.06757  | 41.43926  | 19.42107  |  5.692493 | 109.9205  | 1.5126294 | \n",
       "| 06        | 0.2791747 | 44.23049  | 45.63415  | 24.34126  |  5.628239 | 120.1133  | 0.6019190 | \n",
       "| 07        | 0.2705059 | 44.26465  | 48.11280  | 25.74198  |  5.509665 | 123.8996  | 0.1554687 | \n",
       "| 08        | 0.2490783 | 40.13439  | 46.14973  | 24.92206  |  5.354324 | 116.8096  | 0.2500921 | \n",
       "| 09        | 0.3290252 | 50.59877  | 34.67615  | 24.13475  |  5.790693 | 115.5294  | 0.4092308 | \n",
       "| 10        | 0.4014883 | 55.14091  | 21.51472  | 21.79969  |  6.111997 | 104.9688  | 2.1889513 | \n",
       "| 11        | 0.4897506 | 58.69998  | 16.76348  | 21.45155  |  9.747524 | 107.1523  | 1.6487524 | \n",
       "| 12        | 0.5425259 | 63.18892  | 13.64731  | 21.37426  | 11.508250 | 110.2613  | 1.0688699 | \n",
       "\n",
       "\n"
      ],
      "text/plain": [
       "   month CO        NO_2     O_3      PM10     SO_2      totalPollution\n",
       "1  01    0.5322757 58.69813 15.96593 20.61122 11.572505 107.3801      \n",
       "2  02    0.4726089 54.55779 22.13098 20.07257 10.745318 107.9793      \n",
       "3  03    0.3724831 47.41064 31.60530 19.27294  8.385831 107.0472      \n",
       "4  04    0.3169455 43.30190 39.58931 17.44354  6.286833 106.9385      \n",
       "5  05    0.3000982 43.06757 41.43926 19.42107  5.692493 109.9205      \n",
       "6  06    0.2791747 44.23049 45.63415 24.34126  5.628239 120.1133      \n",
       "7  07    0.2705059 44.26465 48.11280 25.74198  5.509665 123.8996      \n",
       "8  08    0.2490783 40.13439 46.14973 24.92206  5.354324 116.8096      \n",
       "9  09    0.3290252 50.59877 34.67615 24.13475  5.790693 115.5294      \n",
       "10 10    0.4014883 55.14091 21.51472 21.79969  6.111997 104.9688      \n",
       "11 11    0.4897506 58.69998 16.76348 21.45155  9.747524 107.1523      \n",
       "12 12    0.5425259 63.18892 13.64731 21.37426 11.508250 110.2613      \n",
       "   quantity \n",
       "1  1.1403922\n",
       "2  1.5004598\n",
       "3  1.8750000\n",
       "4  1.4612335\n",
       "5  1.5126294\n",
       "6  0.6019190\n",
       "7  0.1554687\n",
       "8  0.2500921\n",
       "9  0.4092308\n",
       "10 2.1889513\n",
       "11 1.6487524\n",
       "12 1.0688699"
      ]
     },
     "metadata": {},
     "output_type": "display_data"
    }
   ],
   "source": [
    "#Cruzamos por mes\n",
    "cont_lluvia <- merge ( x = madrid_month_pol, y = rainfall_month, by = \"month\")\n",
    "head(cont_lluvia, n = 12)"
   ]
  },
  {
   "cell_type": "code",
   "execution_count": 244,
   "metadata": {},
   "outputs": [
    {
     "data": {
      "text/html": [
       "<table>\n",
       "<thead><tr><th scope=col>month</th><th scope=col>year</th><th scope=col>CO</th><th scope=col>NO_2</th><th scope=col>O_3</th><th scope=col>PM10</th><th scope=col>SO_2</th><th scope=col>totalPollution</th></tr></thead>\n",
       "<tbody>\n",
       "\t<tr><td>01       </td><td>2001     </td><td>1.1599895</td><td>57.09584 </td><td>19.48279 </td><td>28.36042 </td><td>25.03678 </td><td>131.1358 </td></tr>\n",
       "\t<tr><td>01       </td><td>2002     </td><td>1.1613879</td><td>73.93776 </td><td>11.36514 </td><td>35.05234 </td><td>24.10764 </td><td>145.6243 </td></tr>\n",
       "\t<tr><td>01       </td><td>2003     </td><td>0.8837084</td><td>60.00333 </td><td>21.33468 </td><td>27.47519 </td><td>17.94549 </td><td>127.6424 </td></tr>\n",
       "\t<tr><td>01       </td><td>2004     </td><td>0.8502713</td><td>62.50563 </td><td>14.14384 </td><td>32.30979 </td><td>17.33414 </td><td>127.1437 </td></tr>\n",
       "\t<tr><td>01       </td><td>2005     </td><td>1.0244072</td><td>80.94088 </td><td>15.30101 </td><td>40.85559 </td><td>22.75261 </td><td>160.8745 </td></tr>\n",
       "\t<tr><td>01       </td><td>2006     </td><td>0.7408129</td><td>70.50429 </td><td>16.04197 </td><td>29.45637 </td><td>15.14368 </td><td>131.8871 </td></tr>\n",
       "</tbody>\n",
       "</table>\n"
      ],
      "text/latex": [
       "\\begin{tabular}{r|llllllll}\n",
       " month & year & CO & NO\\_2 & O\\_3 & PM10 & SO\\_2 & totalPollution\\\\\n",
       "\\hline\n",
       "\t 01        & 2001      & 1.1599895 & 57.09584  & 19.48279  & 28.36042  & 25.03678  & 131.1358 \\\\\n",
       "\t 01        & 2002      & 1.1613879 & 73.93776  & 11.36514  & 35.05234  & 24.10764  & 145.6243 \\\\\n",
       "\t 01        & 2003      & 0.8837084 & 60.00333  & 21.33468  & 27.47519  & 17.94549  & 127.6424 \\\\\n",
       "\t 01        & 2004      & 0.8502713 & 62.50563  & 14.14384  & 32.30979  & 17.33414  & 127.1437 \\\\\n",
       "\t 01        & 2005      & 1.0244072 & 80.94088  & 15.30101  & 40.85559  & 22.75261  & 160.8745 \\\\\n",
       "\t 01        & 2006      & 0.7408129 & 70.50429  & 16.04197  & 29.45637  & 15.14368  & 131.8871 \\\\\n",
       "\\end{tabular}\n"
      ],
      "text/markdown": [
       "\n",
       "month | year | CO | NO_2 | O_3 | PM10 | SO_2 | totalPollution | \n",
       "|---|---|---|---|---|---|\n",
       "| 01        | 2001      | 1.1599895 | 57.09584  | 19.48279  | 28.36042  | 25.03678  | 131.1358  | \n",
       "| 01        | 2002      | 1.1613879 | 73.93776  | 11.36514  | 35.05234  | 24.10764  | 145.6243  | \n",
       "| 01        | 2003      | 0.8837084 | 60.00333  | 21.33468  | 27.47519  | 17.94549  | 127.6424  | \n",
       "| 01        | 2004      | 0.8502713 | 62.50563  | 14.14384  | 32.30979  | 17.33414  | 127.1437  | \n",
       "| 01        | 2005      | 1.0244072 | 80.94088  | 15.30101  | 40.85559  | 22.75261  | 160.8745  | \n",
       "| 01        | 2006      | 0.7408129 | 70.50429  | 16.04197  | 29.45637  | 15.14368  | 131.8871  | \n",
       "\n",
       "\n"
      ],
      "text/plain": [
       "  month year CO        NO_2     O_3      PM10     SO_2     totalPollution\n",
       "1 01    2001 1.1599895 57.09584 19.48279 28.36042 25.03678 131.1358      \n",
       "2 01    2002 1.1613879 73.93776 11.36514 35.05234 24.10764 145.6243      \n",
       "3 01    2003 0.8837084 60.00333 21.33468 27.47519 17.94549 127.6424      \n",
       "4 01    2004 0.8502713 62.50563 14.14384 32.30979 17.33414 127.1437      \n",
       "5 01    2005 1.0244072 80.94088 15.30101 40.85559 22.75261 160.8745      \n",
       "6 01    2006 0.7408129 70.50429 16.04197 29.45637 15.14368 131.8871      "
      ]
     },
     "metadata": {},
     "output_type": "display_data"
    }
   ],
   "source": [
    "# sumo todos los dias del año para cada gas\n",
    "pollutionMonth <- pollutionMonth %>%\n",
    "  group_by(month,year) %>%\n",
    "  summarise(CO = mean(CO, na.rm = TRUE),\n",
    "            NO_2 = mean(NO_2, na.rm = TRUE),\n",
    "            O_3 = mean(O_3, na.rm = TRUE),\n",
    "            PM10 = mean(PM10, na.rm = TRUE),\n",
    "            SO_2 = mean(SO_2, na.rm = TRUE))\n",
    "\n",
    "pollutionMonth <- pollutionMonth[-c(18),] # quito 2018 porque solo llega hasta mayo\n",
    "pollutionMonth$totalPollution <- rowSums(pollutionMonth[,3:7])\n",
    "head(pollutionMonth)"
   ]
  },
  {
   "cell_type": "code",
   "execution_count": 245,
   "metadata": {},
   "outputs": [
    {
     "data": {
      "text/html": [
       "<table>\n",
       "<thead><tr><th scope=col>month</th><th scope=col>year</th><th scope=col>quantity</th></tr></thead>\n",
       "<tbody>\n",
       "\t<tr><td>01       </td><td>2001     </td><td>2.1387097</td></tr>\n",
       "\t<tr><td>01       </td><td>2002     </td><td>2.2517241</td></tr>\n",
       "\t<tr><td>01       </td><td>2003     </td><td>1.2838710</td></tr>\n",
       "\t<tr><td>01       </td><td>2004     </td><td>0.2225806</td></tr>\n",
       "\t<tr><td>01       </td><td>2005     </td><td>0.0000000</td></tr>\n",
       "\t<tr><td>01       </td><td>2006     </td><td>0.3548387</td></tr>\n",
       "\t<tr><td>01       </td><td>2007     </td><td>0.4222222</td></tr>\n",
       "\t<tr><td>01       </td><td>2008     </td><td>0.0000000</td></tr>\n",
       "\t<tr><td>01       </td><td>2009     </td><td>0.6458333</td></tr>\n",
       "\t<tr><td>01       </td><td>2010     </td><td>1.8400000</td></tr>\n",
       "\t<tr><td>01       </td><td>2011     </td><td>0.2500000</td></tr>\n",
       "\t<tr><td>01       </td><td>2012     </td><td>0.2225806</td></tr>\n",
       "</tbody>\n",
       "</table>\n"
      ],
      "text/latex": [
       "\\begin{tabular}{r|lll}\n",
       " month & year & quantity\\\\\n",
       "\\hline\n",
       "\t 01        & 2001      & 2.1387097\\\\\n",
       "\t 01        & 2002      & 2.2517241\\\\\n",
       "\t 01        & 2003      & 1.2838710\\\\\n",
       "\t 01        & 2004      & 0.2225806\\\\\n",
       "\t 01        & 2005      & 0.0000000\\\\\n",
       "\t 01        & 2006      & 0.3548387\\\\\n",
       "\t 01        & 2007      & 0.4222222\\\\\n",
       "\t 01        & 2008      & 0.0000000\\\\\n",
       "\t 01        & 2009      & 0.6458333\\\\\n",
       "\t 01        & 2010      & 1.8400000\\\\\n",
       "\t 01        & 2011      & 0.2500000\\\\\n",
       "\t 01        & 2012      & 0.2225806\\\\\n",
       "\\end{tabular}\n"
      ],
      "text/markdown": [
       "\n",
       "month | year | quantity | \n",
       "|---|---|---|---|---|---|---|---|---|---|---|---|\n",
       "| 01        | 2001      | 2.1387097 | \n",
       "| 01        | 2002      | 2.2517241 | \n",
       "| 01        | 2003      | 1.2838710 | \n",
       "| 01        | 2004      | 0.2225806 | \n",
       "| 01        | 2005      | 0.0000000 | \n",
       "| 01        | 2006      | 0.3548387 | \n",
       "| 01        | 2007      | 0.4222222 | \n",
       "| 01        | 2008      | 0.0000000 | \n",
       "| 01        | 2009      | 0.6458333 | \n",
       "| 01        | 2010      | 1.8400000 | \n",
       "| 01        | 2011      | 0.2500000 | \n",
       "| 01        | 2012      | 0.2225806 | \n",
       "\n",
       "\n"
      ],
      "text/plain": [
       "   month year quantity \n",
       "1  01    2001 2.1387097\n",
       "2  01    2002 2.2517241\n",
       "3  01    2003 1.2838710\n",
       "4  01    2004 0.2225806\n",
       "5  01    2005 0.0000000\n",
       "6  01    2006 0.3548387\n",
       "7  01    2007 0.4222222\n",
       "8  01    2008 0.0000000\n",
       "9  01    2009 0.6458333\n",
       "10 01    2010 1.8400000\n",
       "11 01    2011 0.2500000\n",
       "12 01    2012 0.2225806"
      ]
     },
     "metadata": {},
     "output_type": "display_data"
    }
   ],
   "source": [
    "rainfallMonth <- rainfallMonth %>%\n",
    "  group_by(month,year) %>%\n",
    "  summarise(quantity = mean(quantity, na.rm = TRUE))\n",
    "\n",
    "rainfallMonth <- rainfallMonth[-c(18),] # quito 2018 como en la tabla de contaminacion\n",
    "\n",
    "\n",
    "head(rainfallMonth, n = 12)"
   ]
  },
  {
   "cell_type": "code",
   "execution_count": 246,
   "metadata": {},
   "outputs": [
    {
     "data": {
      "image/png": "[encoded data removed]",
      "text/plain": [
       "Plot with title \"Contaminación mensual\""
      ]
     },
     "metadata": {},
     "output_type": "display_data"
    }
   ],
   "source": [
    "barplot(madrid_month_pol$totalPollution, main =\"Contaminación mensual\",xlab = \"mes\",ylab = \"Contaminacion\", \n",
    "        names.arg= madrid_month_pol$month, cex.names=.5)"
   ]
  },
  {
   "cell_type": "markdown",
   "metadata": {},
   "source": [
    "Se puede observar que en los meses mas cálidos como junio, julio, agosto y septiembre la contaminación es mayor, esto nos puede llevar a pensar que aspectos meteorológicos como la lluvia, la temperatura y el viento pueden afectar a la calidad del aire"
   ]
  },
  {
   "cell_type": "code",
   "execution_count": 247,
   "metadata": {},
   "outputs": [
    {
     "data": {
      "image/png": "[encoded data removed]",
      "text/plain": [
       "Plot with title \"Precipitación mensual\""
      ]
     },
     "metadata": {},
     "output_type": "display_data"
    }
   ],
   "source": [
    "barplot(rainfall_month$quantity, main =\"Precipitación mensual\",xlab = \"mes\",ylab = \"Precipitacion\", \n",
    "        names.arg= rainfall_month$month, cex.names=.5)"
   ]
  },
  {
   "cell_type": "markdown",
   "metadata": {},
   "source": [
    "La escasez de lluvias en junio, julio, agosto y septiembre podria ser una de las causas del incremento de la contaminacion en dichos meses"
   ]
  },
  {
   "cell_type": "markdown",
   "metadata": {},
   "source": [
    "#### Gráficas con la evolución de la contaminación y precipitaciones anuales"
   ]
  },
  {
   "cell_type": "code",
   "execution_count": 248,
   "metadata": {},
   "outputs": [
    {
     "data": {
      "text/html": [
       "<table>\n",
       "<thead><tr><th scope=col>year</th><th scope=col>CO</th><th scope=col>NO_2</th><th scope=col>O_3</th><th scope=col>PM10</th><th scope=col>SO_2</th><th scope=col>totalPollution</th></tr></thead>\n",
       "<tbody>\n",
       "\t<tr><td>2001     </td><td>0.9187882</td><td>62.82798 </td><td>31.49312 </td><td>33.162744</td><td>18.467736</td><td>146.87037</td></tr>\n",
       "\t<tr><td>2002     </td><td>0.7596355</td><td>61.62228 </td><td>32.90807 </td><td>32.048891</td><td>13.046063</td><td>140.38495</td></tr>\n",
       "\t<tr><td>2003     </td><td>0.6490758</td><td>58.32876 </td><td>35.59862 </td><td>35.256394</td><td>12.338463</td><td>142.17131</td></tr>\n",
       "\t<tr><td>2004     </td><td>0.6042677</td><td>60.69967 </td><td>31.87525 </td><td>32.645620</td><td>11.332865</td><td>137.15768</td></tr>\n",
       "\t<tr><td>2005     </td><td>0.6008010</td><td>61.77556 </td><td>33.14906 </td><td>33.850547</td><td>11.798912</td><td>141.17488</td></tr>\n",
       "\t<tr><td>2006     </td><td>0.5292033</td><td>60.47735 </td><td>33.27212 </td><td>36.706542</td><td>10.738491</td><td>141.72371</td></tr>\n",
       "\t<tr><td>2007     </td><td>0.4563528</td><td>59.96227 </td><td>33.00113 </td><td>32.907991</td><td>10.923937</td><td>137.25168</td></tr>\n",
       "\t<tr><td>2008     </td><td>0.3785764</td><td>55.26895 </td><td>37.39494 </td><td>25.964743</td><td>10.554222</td><td>129.56143</td></tr>\n",
       "\t<tr><td>2009     </td><td>0.3472648</td><td>54.26650 </td><td>42.42792 </td><td>22.345414</td><td>10.157301</td><td>129.54440</td></tr>\n",
       "\t<tr><td>2010     </td><td>0.1539908</td><td>44.16647 </td><td>28.16330 </td><td>10.679587</td><td> 4.103196</td><td> 87.26655</td></tr>\n",
       "\t<tr><td>2011     </td><td>0.1531476</td><td>44.83264 </td><td>26.23895 </td><td>11.556016</td><td> 2.885151</td><td> 85.66591</td></tr>\n",
       "\t<tr><td>2012     </td><td>0.1475291</td><td>38.62221 </td><td>24.01318 </td><td>11.790498</td><td> 1.821158</td><td> 76.39457</td></tr>\n",
       "\t<tr><td>2013     </td><td>0.1366422</td><td>34.70023 </td><td>29.14640 </td><td> 9.167448</td><td> 1.838177</td><td> 74.98890</td></tr>\n",
       "\t<tr><td>2014     </td><td>0.1531157</td><td>35.04616 </td><td>30.07940 </td><td> 9.650062</td><td> 2.092022</td><td> 77.02076</td></tr>\n",
       "\t<tr><td>2015     </td><td>0.1525507</td><td>40.98834 </td><td>29.46538 </td><td>10.371073</td><td> 2.864302</td><td> 83.84165</td></tr>\n",
       "\t<tr><td>2016     </td><td>0.1466534</td><td>38.53243 </td><td>28.53684 </td><td> 9.482025</td><td> 3.174755</td><td> 79.87270</td></tr>\n",
       "\t<tr><td>2017     </td><td>0.1514682</td><td>41.55401 </td><td>28.13382 </td><td> 9.974415</td><td> 2.851779</td><td> 82.66550</td></tr>\n",
       "</tbody>\n",
       "</table>\n"
      ],
      "text/latex": [
       "\\begin{tabular}{r|lllllll}\n",
       " year & CO & NO\\_2 & O\\_3 & PM10 & SO\\_2 & totalPollution\\\\\n",
       "\\hline\n",
       "\t 2001      & 0.9187882 & 62.82798  & 31.49312  & 33.162744 & 18.467736 & 146.87037\\\\\n",
       "\t 2002      & 0.7596355 & 61.62228  & 32.90807  & 32.048891 & 13.046063 & 140.38495\\\\\n",
       "\t 2003      & 0.6490758 & 58.32876  & 35.59862  & 35.256394 & 12.338463 & 142.17131\\\\\n",
       "\t 2004      & 0.6042677 & 60.69967  & 31.87525  & 32.645620 & 11.332865 & 137.15768\\\\\n",
       "\t 2005      & 0.6008010 & 61.77556  & 33.14906  & 33.850547 & 11.798912 & 141.17488\\\\\n",
       "\t 2006      & 0.5292033 & 60.47735  & 33.27212  & 36.706542 & 10.738491 & 141.72371\\\\\n",
       "\t 2007      & 0.4563528 & 59.96227  & 33.00113  & 32.907991 & 10.923937 & 137.25168\\\\\n",
       "\t 2008      & 0.3785764 & 55.26895  & 37.39494  & 25.964743 & 10.554222 & 129.56143\\\\\n",
       "\t 2009      & 0.3472648 & 54.26650  & 42.42792  & 22.345414 & 10.157301 & 129.54440\\\\\n",
       "\t 2010      & 0.1539908 & 44.16647  & 28.16330  & 10.679587 &  4.103196 &  87.26655\\\\\n",
       "\t 2011      & 0.1531476 & 44.83264  & 26.23895  & 11.556016 &  2.885151 &  85.66591\\\\\n",
       "\t 2012      & 0.1475291 & 38.62221  & 24.01318  & 11.790498 &  1.821158 &  76.39457\\\\\n",
       "\t 2013      & 0.1366422 & 34.70023  & 29.14640  &  9.167448 &  1.838177 &  74.98890\\\\\n",
       "\t 2014      & 0.1531157 & 35.04616  & 30.07940  &  9.650062 &  2.092022 &  77.02076\\\\\n",
       "\t 2015      & 0.1525507 & 40.98834  & 29.46538  & 10.371073 &  2.864302 &  83.84165\\\\\n",
       "\t 2016      & 0.1466534 & 38.53243  & 28.53684  &  9.482025 &  3.174755 &  79.87270\\\\\n",
       "\t 2017      & 0.1514682 & 41.55401  & 28.13382  &  9.974415 &  2.851779 &  82.66550\\\\\n",
       "\\end{tabular}\n"
      ],
      "text/markdown": [
       "\n",
       "year | CO | NO_2 | O_3 | PM10 | SO_2 | totalPollution | \n",
       "|---|---|---|---|---|---|---|---|---|---|---|---|---|---|---|---|---|\n",
       "| 2001      | 0.9187882 | 62.82798  | 31.49312  | 33.162744 | 18.467736 | 146.87037 | \n",
       "| 2002      | 0.7596355 | 61.62228  | 32.90807  | 32.048891 | 13.046063 | 140.38495 | \n",
       "| 2003      | 0.6490758 | 58.32876  | 35.59862  | 35.256394 | 12.338463 | 142.17131 | \n",
       "| 2004      | 0.6042677 | 60.69967  | 31.87525  | 32.645620 | 11.332865 | 137.15768 | \n",
       "| 2005      | 0.6008010 | 61.77556  | 33.14906  | 33.850547 | 11.798912 | 141.17488 | \n",
       "| 2006      | 0.5292033 | 60.47735  | 33.27212  | 36.706542 | 10.738491 | 141.72371 | \n",
       "| 2007      | 0.4563528 | 59.96227  | 33.00113  | 32.907991 | 10.923937 | 137.25168 | \n",
       "| 2008      | 0.3785764 | 55.26895  | 37.39494  | 25.964743 | 10.554222 | 129.56143 | \n",
       "| 2009      | 0.3472648 | 54.26650  | 42.42792  | 22.345414 | 10.157301 | 129.54440 | \n",
       "| 2010      | 0.1539908 | 44.16647  | 28.16330  | 10.679587 |  4.103196 |  87.26655 | \n",
       "| 2011      | 0.1531476 | 44.83264  | 26.23895  | 11.556016 |  2.885151 |  85.66591 | \n",
       "| 2012      | 0.1475291 | 38.62221  | 24.01318  | 11.790498 |  1.821158 |  76.39457 | \n",
       "| 2013      | 0.1366422 | 34.70023  | 29.14640  |  9.167448 |  1.838177 |  74.98890 | \n",
       "| 2014      | 0.1531157 | 35.04616  | 30.07940  |  9.650062 |  2.092022 |  77.02076 | \n",
       "| 2015      | 0.1525507 | 40.98834  | 29.46538  | 10.371073 |  2.864302 |  83.84165 | \n",
       "| 2016      | 0.1466534 | 38.53243  | 28.53684  |  9.482025 |  3.174755 |  79.87270 | \n",
       "| 2017      | 0.1514682 | 41.55401  | 28.13382  |  9.974415 |  2.851779 |  82.66550 | \n",
       "\n",
       "\n"
      ],
      "text/plain": [
       "   year CO        NO_2     O_3      PM10      SO_2      totalPollution\n",
       "1  2001 0.9187882 62.82798 31.49312 33.162744 18.467736 146.87037     \n",
       "2  2002 0.7596355 61.62228 32.90807 32.048891 13.046063 140.38495     \n",
       "3  2003 0.6490758 58.32876 35.59862 35.256394 12.338463 142.17131     \n",
       "4  2004 0.6042677 60.69967 31.87525 32.645620 11.332865 137.15768     \n",
       "5  2005 0.6008010 61.77556 33.14906 33.850547 11.798912 141.17488     \n",
       "6  2006 0.5292033 60.47735 33.27212 36.706542 10.738491 141.72371     \n",
       "7  2007 0.4563528 59.96227 33.00113 32.907991 10.923937 137.25168     \n",
       "8  2008 0.3785764 55.26895 37.39494 25.964743 10.554222 129.56143     \n",
       "9  2009 0.3472648 54.26650 42.42792 22.345414 10.157301 129.54440     \n",
       "10 2010 0.1539908 44.16647 28.16330 10.679587  4.103196  87.26655     \n",
       "11 2011 0.1531476 44.83264 26.23895 11.556016  2.885151  85.66591     \n",
       "12 2012 0.1475291 38.62221 24.01318 11.790498  1.821158  76.39457     \n",
       "13 2013 0.1366422 34.70023 29.14640  9.167448  1.838177  74.98890     \n",
       "14 2014 0.1531157 35.04616 30.07940  9.650062  2.092022  77.02076     \n",
       "15 2015 0.1525507 40.98834 29.46538 10.371073  2.864302  83.84165     \n",
       "16 2016 0.1466534 38.53243 28.53684  9.482025  3.174755  79.87270     \n",
       "17 2017 0.1514682 41.55401 28.13382  9.974415  2.851779  82.66550     "
      ]
     },
     "metadata": {},
     "output_type": "display_data"
    }
   ],
   "source": [
    "# divido por año, mes y dia\n",
    "madrid_year_pol <- madrid %>% separate(date, sep=\"-\", into = c(\"year\", \"month\", \"day\"))\n",
    "\n",
    "# sumo todos los dias del año para cada gas\n",
    "madrid_year_pol <- madrid_year_pol %>%\n",
    "  group_by(year) %>%\n",
    "  summarise(CO = mean(CO, na.rm = TRUE),\n",
    "            NO_2 = mean(NO_2, na.rm = TRUE),\n",
    "            O_3 = mean(O_3, na.rm = TRUE),\n",
    "            PM10 = mean(PM10, na.rm = TRUE),\n",
    "            SO_2 = mean(SO_2, na.rm = TRUE))\n",
    "\n",
    "madrid_year_pol <- madrid_year_pol[-c(18),] # quito 2018 porque solo llega hasta mayo\n",
    "\n",
    "madrid_year_pol$totalPollution <- rowSums(madrid_year_pol[,2:6]) # agrego los gases contaminantes que corresponden a las columnas 2 a 6\n",
    "head(madrid_year_pol, n = 18)\n"
   ]
  },
  {
   "cell_type": "code",
   "execution_count": 249,
   "metadata": {},
   "outputs": [
    {
     "data": {
      "text/html": [
       "<table>\n",
       "<thead><tr><th scope=col>year</th><th scope=col>quantity</th></tr></thead>\n",
       "<tbody>\n",
       "\t<tr><td>2001     </td><td>0.9881215</td></tr>\n",
       "\t<tr><td>2002     </td><td>1.2521739</td></tr>\n",
       "\t<tr><td>2003     </td><td>1.5134503</td></tr>\n",
       "\t<tr><td>2004     </td><td>1.3080110</td></tr>\n",
       "\t<tr><td>2005     </td><td>0.5388350</td></tr>\n",
       "\t<tr><td>2006     </td><td>0.8429825</td></tr>\n",
       "\t<tr><td>2007     </td><td>1.0287671</td></tr>\n",
       "\t<tr><td>2008     </td><td>0.7156627</td></tr>\n",
       "\t<tr><td>2009     </td><td>0.6485531</td></tr>\n",
       "\t<tr><td>2010     </td><td>1.3064067</td></tr>\n",
       "\t<tr><td>2011     </td><td>0.8331412</td></tr>\n",
       "\t<tr><td>2012     </td><td>0.6373860</td></tr>\n",
       "\t<tr><td>2013     </td><td>0.8332353</td></tr>\n",
       "\t<tr><td>2014     </td><td>0.9804217</td></tr>\n",
       "\t<tr><td>2015     </td><td>0.5930514</td></tr>\n",
       "\t<tr><td>2016     </td><td>1.1239554</td></tr>\n",
       "\t<tr><td>2017     </td><td>0.6169863</td></tr>\n",
       "</tbody>\n",
       "</table>\n"
      ],
      "text/latex": [
       "\\begin{tabular}{r|ll}\n",
       " year & quantity\\\\\n",
       "\\hline\n",
       "\t 2001      & 0.9881215\\\\\n",
       "\t 2002      & 1.2521739\\\\\n",
       "\t 2003      & 1.5134503\\\\\n",
       "\t 2004      & 1.3080110\\\\\n",
       "\t 2005      & 0.5388350\\\\\n",
       "\t 2006      & 0.8429825\\\\\n",
       "\t 2007      & 1.0287671\\\\\n",
       "\t 2008      & 0.7156627\\\\\n",
       "\t 2009      & 0.6485531\\\\\n",
       "\t 2010      & 1.3064067\\\\\n",
       "\t 2011      & 0.8331412\\\\\n",
       "\t 2012      & 0.6373860\\\\\n",
       "\t 2013      & 0.8332353\\\\\n",
       "\t 2014      & 0.9804217\\\\\n",
       "\t 2015      & 0.5930514\\\\\n",
       "\t 2016      & 1.1239554\\\\\n",
       "\t 2017      & 0.6169863\\\\\n",
       "\\end{tabular}\n"
      ],
      "text/markdown": [
       "\n",
       "year | quantity | \n",
       "|---|---|---|---|---|---|---|---|---|---|---|---|---|---|---|---|---|\n",
       "| 2001      | 0.9881215 | \n",
       "| 2002      | 1.2521739 | \n",
       "| 2003      | 1.5134503 | \n",
       "| 2004      | 1.3080110 | \n",
       "| 2005      | 0.5388350 | \n",
       "| 2006      | 0.8429825 | \n",
       "| 2007      | 1.0287671 | \n",
       "| 2008      | 0.7156627 | \n",
       "| 2009      | 0.6485531 | \n",
       "| 2010      | 1.3064067 | \n",
       "| 2011      | 0.8331412 | \n",
       "| 2012      | 0.6373860 | \n",
       "| 2013      | 0.8332353 | \n",
       "| 2014      | 0.9804217 | \n",
       "| 2015      | 0.5930514 | \n",
       "| 2016      | 1.1239554 | \n",
       "| 2017      | 0.6169863 | \n",
       "\n",
       "\n"
      ],
      "text/plain": [
       "   year quantity \n",
       "1  2001 0.9881215\n",
       "2  2002 1.2521739\n",
       "3  2003 1.5134503\n",
       "4  2004 1.3080110\n",
       "5  2005 0.5388350\n",
       "6  2006 0.8429825\n",
       "7  2007 1.0287671\n",
       "8  2008 0.7156627\n",
       "9  2009 0.6485531\n",
       "10 2010 1.3064067\n",
       "11 2011 0.8331412\n",
       "12 2012 0.6373860\n",
       "13 2013 0.8332353\n",
       "14 2014 0.9804217\n",
       "15 2015 0.5930514\n",
       "16 2016 1.1239554\n",
       "17 2017 0.6169863"
      ]
     },
     "metadata": {},
     "output_type": "display_data"
    }
   ],
   "source": [
    "# divido por año, mes y dia\n",
    "rainfall_year <-rainfall %>% separate(date, sep=\"-\", into = c(\"year\", \"month\", \"day\"))\n",
    "\n",
    "rainfall_year <- rainfall_year %>%\n",
    "  group_by(year) %>%\n",
    "  summarise(quantity = mean(quantity, na.rm = TRUE))\n",
    "\n",
    "rainfall_year <- rainfall_year[-c(18),] # quito 2018 como en la tabla de contaminacion\n",
    "\n",
    "head(rainfall_year, n = 18)"
   ]
  },
  {
   "cell_type": "code",
   "execution_count": 250,
   "metadata": {},
   "outputs": [
    {
     "data": {
      "image/png": "[encoded data removed]",
      "text/plain": [
       "Plot with title \"Contaminación anual\""
      ]
     },
     "metadata": {},
     "output_type": "display_data"
    },
    {
     "data": {
      "image/png": "[encoded data removed]",
      "text/plain": [
       "Plot with title \"Precipitación anual\""
      ]
     },
     "metadata": {},
     "output_type": "display_data"
    }
   ],
   "source": [
    "barplot(madrid_year_pol$totalPollution, main =\"Contaminación anual\",xlab = \"año\",ylab = \"Contaminación\", \n",
    "        names.arg= madrid_year_pol$year, cex.names=.5)\n",
    "\n",
    "barplot(rainfall_year$quantity, main =\"Precipitación anual\",xlab = \"año\",ylab = \"Precipitación\", \n",
    "        names.arg= rainfall_year$year, cex.names=.5)"
   ]
  },
  {
   "cell_type": "markdown",
   "metadata": {},
   "source": [
    "<p style=\"text-align: justify;\">\n",
    "No podemos sacar conclusiones claras cuando evaluamos la contaminación y precipitaciones anuales, lo que si se observa es un descenso notable de la contaminacion a partir de 2009, y entre los años 2015 a 2017 el aumento de las precipitaciones en el año 2016 parece provocar un descenso en el nivel de contaminacion\n",
    "</p>"
   ]
  },
  {
   "cell_type": "markdown",
   "metadata": {},
   "source": [
    "## Correlación de variables"
   ]
  },
  {
   "cell_type": "code",
   "execution_count": 251,
   "metadata": {},
   "outputs": [
    {
     "data": {
      "text/html": [
       "<table>\n",
       "<thead><tr><th scope=col>station</th><th scope=col>date</th><th scope=col>CO</th><th scope=col>NO_2</th><th scope=col>O_3</th><th scope=col>PM10</th><th scope=col>SO_2</th></tr></thead>\n",
       "<tbody>\n",
       "\t<tr><td>28079001  </td><td>2001-01-02</td><td>1.243333  </td><td>84.53750  </td><td>12.576667 </td><td>36.92455  </td><td>20.28083  </td></tr>\n",
       "\t<tr><td>28079001  </td><td>2001-01-03</td><td>1.242917  </td><td>79.75125  </td><td>10.961250 </td><td>37.21292  </td><td>16.23917  </td></tr>\n",
       "\t<tr><td>28079001  </td><td>2001-01-04</td><td>1.134167  </td><td>75.39250  </td><td>12.002917 </td><td>35.03667  </td><td>16.75125  </td></tr>\n",
       "\t<tr><td>28079001  </td><td>2001-01-05</td><td>1.535833  </td><td>77.14083  </td><td> 8.755833 </td><td>34.27625  </td><td>16.00958  </td></tr>\n",
       "\t<tr><td>28079001  </td><td>2001-01-06</td><td>1.009167  </td><td>64.47708  </td><td>13.955417 </td><td>17.03792  </td><td>15.35417  </td></tr>\n",
       "\t<tr><td>28079001  </td><td>2001-01-07</td><td>1.016250  </td><td>67.06125  </td><td>12.776250 </td><td>20.45500  </td><td>18.43042  </td></tr>\n",
       "</tbody>\n",
       "</table>\n"
      ],
      "text/latex": [
       "\\begin{tabular}{r|lllllll}\n",
       " station & date & CO & NO\\_2 & O\\_3 & PM10 & SO\\_2\\\\\n",
       "\\hline\n",
       "\t 28079001   & 2001-01-02 & 1.243333   & 84.53750   & 12.576667  & 36.92455   & 20.28083  \\\\\n",
       "\t 28079001   & 2001-01-03 & 1.242917   & 79.75125   & 10.961250  & 37.21292   & 16.23917  \\\\\n",
       "\t 28079001   & 2001-01-04 & 1.134167   & 75.39250   & 12.002917  & 35.03667   & 16.75125  \\\\\n",
       "\t 28079001   & 2001-01-05 & 1.535833   & 77.14083   &  8.755833  & 34.27625   & 16.00958  \\\\\n",
       "\t 28079001   & 2001-01-06 & 1.009167   & 64.47708   & 13.955417  & 17.03792   & 15.35417  \\\\\n",
       "\t 28079001   & 2001-01-07 & 1.016250   & 67.06125   & 12.776250  & 20.45500   & 18.43042  \\\\\n",
       "\\end{tabular}\n"
      ],
      "text/markdown": [
       "\n",
       "station | date | CO | NO_2 | O_3 | PM10 | SO_2 | \n",
       "|---|---|---|---|---|---|\n",
       "| 28079001   | 2001-01-02 | 1.243333   | 84.53750   | 12.576667  | 36.92455   | 20.28083   | \n",
       "| 28079001   | 2001-01-03 | 1.242917   | 79.75125   | 10.961250  | 37.21292   | 16.23917   | \n",
       "| 28079001   | 2001-01-04 | 1.134167   | 75.39250   | 12.002917  | 35.03667   | 16.75125   | \n",
       "| 28079001   | 2001-01-05 | 1.535833   | 77.14083   |  8.755833  | 34.27625   | 16.00958   | \n",
       "| 28079001   | 2001-01-06 | 1.009167   | 64.47708   | 13.955417  | 17.03792   | 15.35417   | \n",
       "| 28079001   | 2001-01-07 | 1.016250   | 67.06125   | 12.776250  | 20.45500   | 18.43042   | \n",
       "\n",
       "\n"
      ],
      "text/plain": [
       "  station  date       CO       NO_2     O_3       PM10     SO_2    \n",
       "1 28079001 2001-01-02 1.243333 84.53750 12.576667 36.92455 20.28083\n",
       "2 28079001 2001-01-03 1.242917 79.75125 10.961250 37.21292 16.23917\n",
       "3 28079001 2001-01-04 1.134167 75.39250 12.002917 35.03667 16.75125\n",
       "4 28079001 2001-01-05 1.535833 77.14083  8.755833 34.27625 16.00958\n",
       "5 28079001 2001-01-06 1.009167 64.47708 13.955417 17.03792 15.35417\n",
       "6 28079001 2001-01-07 1.016250 67.06125 12.776250 20.45500 18.43042"
      ]
     },
     "metadata": {},
     "output_type": "display_data"
    }
   ],
   "source": [
    "madrid_cor <- madrid\n",
    "head(madrid_cor)"
   ]
  },
  {
   "cell_type": "code",
   "execution_count": 252,
   "metadata": {},
   "outputs": [
    {
     "data": {
      "text/html": [
       "<table>\n",
       "<thead><tr><th></th><th scope=col>date</th><th scope=col>station</th><th scope=col>CO</th><th scope=col>NO_2</th><th scope=col>O_3</th><th scope=col>PM10</th><th scope=col>SO_2</th><th scope=col>quantity</th></tr></thead>\n",
       "<tbody>\n",
       "\t<tr><th scope=row>32</th><td>2001-01-02</td><td>28079001  </td><td>1.243333  </td><td>84.53750  </td><td>12.576667 </td><td>36.92455  </td><td>20.28083  </td><td> 0.1      </td></tr>\n",
       "\t<tr><th scope=row>57</th><td>2001-01-03</td><td>28079001  </td><td>1.242917  </td><td>79.75125  </td><td>10.961250 </td><td>37.21292  </td><td>16.23917  </td><td> 2.2      </td></tr>\n",
       "\t<tr><th scope=row>80</th><td>2001-01-04</td><td>28079001  </td><td>1.134167  </td><td>75.39250  </td><td>12.002917 </td><td>35.03667  </td><td>16.75125  </td><td> 2.4      </td></tr>\n",
       "\t<tr><th scope=row>116</th><td>2001-01-05</td><td>28079001  </td><td>1.535833  </td><td>77.14083  </td><td> 8.755833 </td><td>34.27625  </td><td>16.00958  </td><td>13.3      </td></tr>\n",
       "\t<tr><th scope=row>138</th><td>2001-01-06</td><td>28079001  </td><td>1.009167  </td><td>64.47708  </td><td>13.955417 </td><td>17.03792  </td><td>15.35417  </td><td> 0.0      </td></tr>\n",
       "\t<tr><th scope=row>168</th><td>2001-01-07</td><td>28079001  </td><td>1.016250  </td><td>67.06125  </td><td>12.776250 </td><td>20.45500  </td><td>18.43042  </td><td> 0.0      </td></tr>\n",
       "</tbody>\n",
       "</table>\n"
      ],
      "text/latex": [
       "\\begin{tabular}{r|llllllll}\n",
       "  & date & station & CO & NO\\_2 & O\\_3 & PM10 & SO\\_2 & quantity\\\\\n",
       "\\hline\n",
       "\t32 & 2001-01-02 & 28079001   & 1.243333   & 84.53750   & 12.576667  & 36.92455   & 20.28083   &  0.1      \\\\\n",
       "\t57 & 2001-01-03 & 28079001   & 1.242917   & 79.75125   & 10.961250  & 37.21292   & 16.23917   &  2.2      \\\\\n",
       "\t80 & 2001-01-04 & 28079001   & 1.134167   & 75.39250   & 12.002917  & 35.03667   & 16.75125   &  2.4      \\\\\n",
       "\t116 & 2001-01-05 & 28079001   & 1.535833   & 77.14083   &  8.755833  & 34.27625   & 16.00958   & 13.3      \\\\\n",
       "\t138 & 2001-01-06 & 28079001   & 1.009167   & 64.47708   & 13.955417  & 17.03792   & 15.35417   &  0.0      \\\\\n",
       "\t168 & 2001-01-07 & 28079001   & 1.016250   & 67.06125   & 12.776250  & 20.45500   & 18.43042   &  0.0      \\\\\n",
       "\\end{tabular}\n"
      ],
      "text/markdown": [
       "\n",
       "| <!--/--> | date | station | CO | NO_2 | O_3 | PM10 | SO_2 | quantity | \n",
       "|---|---|---|---|---|---|\n",
       "| 32 | 2001-01-02 | 28079001   | 1.243333   | 84.53750   | 12.576667  | 36.92455   | 20.28083   |  0.1       | \n",
       "| 57 | 2001-01-03 | 28079001   | 1.242917   | 79.75125   | 10.961250  | 37.21292   | 16.23917   |  2.2       | \n",
       "| 80 | 2001-01-04 | 28079001   | 1.134167   | 75.39250   | 12.002917  | 35.03667   | 16.75125   |  2.4       | \n",
       "| 116 | 2001-01-05 | 28079001   | 1.535833   | 77.14083   |  8.755833  | 34.27625   | 16.00958   | 13.3       | \n",
       "| 138 | 2001-01-06 | 28079001   | 1.009167   | 64.47708   | 13.955417  | 17.03792   | 15.35417   |  0.0       | \n",
       "| 168 | 2001-01-07 | 28079001   | 1.016250   | 67.06125   | 12.776250  | 20.45500   | 18.43042   |  0.0       | \n",
       "\n",
       "\n"
      ],
      "text/plain": [
       "    date       station  CO       NO_2     O_3       PM10     SO_2     quantity\n",
       "32  2001-01-02 28079001 1.243333 84.53750 12.576667 36.92455 20.28083  0.1    \n",
       "57  2001-01-03 28079001 1.242917 79.75125 10.961250 37.21292 16.23917  2.2    \n",
       "80  2001-01-04 28079001 1.134167 75.39250 12.002917 35.03667 16.75125  2.4    \n",
       "116 2001-01-05 28079001 1.535833 77.14083  8.755833 34.27625 16.00958 13.3    \n",
       "138 2001-01-06 28079001 1.009167 64.47708 13.955417 17.03792 15.35417  0.0    \n",
       "168 2001-01-07 28079001 1.016250 67.06125 12.776250 20.45500 18.43042  0.0    "
      ]
     },
     "metadata": {},
     "output_type": "display_data"
    }
   ],
   "source": [
    "#Cruzamos por fecha y ordenamos por estacion\n",
    "madrid_cor <- merge ( x = madrid_cor, y = rainfall, by = \"date\")\n",
    "madrid_cor <- madrid_cor[order(madrid_cor$station),]\n",
    "head(madrid_cor)"
   ]
  },
  {
   "cell_type": "code",
   "execution_count": 253,
   "metadata": {},
   "outputs": [
    {
     "data": {
      "text/html": [
       "<table>\n",
       "<thead><tr><th></th><th scope=col>CO</th><th scope=col>NO_2</th><th scope=col>O_3</th><th scope=col>PM10</th><th scope=col>SO_2</th><th scope=col>quantity</th></tr></thead>\n",
       "<tbody>\n",
       "\t<tr><th scope=row>32</th><td>1.243333 </td><td>84.53750 </td><td>12.576667</td><td>36.92455 </td><td>20.28083 </td><td> 0.1     </td></tr>\n",
       "\t<tr><th scope=row>57</th><td>1.242917 </td><td>79.75125 </td><td>10.961250</td><td>37.21292 </td><td>16.23917 </td><td> 2.2     </td></tr>\n",
       "\t<tr><th scope=row>80</th><td>1.134167 </td><td>75.39250 </td><td>12.002917</td><td>35.03667 </td><td>16.75125 </td><td> 2.4     </td></tr>\n",
       "\t<tr><th scope=row>116</th><td>1.535833 </td><td>77.14083 </td><td> 8.755833</td><td>34.27625 </td><td>16.00958 </td><td>13.3     </td></tr>\n",
       "\t<tr><th scope=row>138</th><td>1.009167 </td><td>64.47708 </td><td>13.955417</td><td>17.03792 </td><td>15.35417 </td><td> 0.0     </td></tr>\n",
       "\t<tr><th scope=row>168</th><td>1.016250 </td><td>67.06125 </td><td>12.776250</td><td>20.45500 </td><td>18.43042 </td><td> 0.0     </td></tr>\n",
       "</tbody>\n",
       "</table>\n"
      ],
      "text/latex": [
       "\\begin{tabular}{r|llllll}\n",
       "  & CO & NO\\_2 & O\\_3 & PM10 & SO\\_2 & quantity\\\\\n",
       "\\hline\n",
       "\t32 & 1.243333  & 84.53750  & 12.576667 & 36.92455  & 20.28083  &  0.1     \\\\\n",
       "\t57 & 1.242917  & 79.75125  & 10.961250 & 37.21292  & 16.23917  &  2.2     \\\\\n",
       "\t80 & 1.134167  & 75.39250  & 12.002917 & 35.03667  & 16.75125  &  2.4     \\\\\n",
       "\t116 & 1.535833  & 77.14083  &  8.755833 & 34.27625  & 16.00958  & 13.3     \\\\\n",
       "\t138 & 1.009167  & 64.47708  & 13.955417 & 17.03792  & 15.35417  &  0.0     \\\\\n",
       "\t168 & 1.016250  & 67.06125  & 12.776250 & 20.45500  & 18.43042  &  0.0     \\\\\n",
       "\\end{tabular}\n"
      ],
      "text/markdown": [
       "\n",
       "| <!--/--> | CO | NO_2 | O_3 | PM10 | SO_2 | quantity | \n",
       "|---|---|---|---|---|---|\n",
       "| 32 | 1.243333  | 84.53750  | 12.576667 | 36.92455  | 20.28083  |  0.1      | \n",
       "| 57 | 1.242917  | 79.75125  | 10.961250 | 37.21292  | 16.23917  |  2.2      | \n",
       "| 80 | 1.134167  | 75.39250  | 12.002917 | 35.03667  | 16.75125  |  2.4      | \n",
       "| 116 | 1.535833  | 77.14083  |  8.755833 | 34.27625  | 16.00958  | 13.3      | \n",
       "| 138 | 1.009167  | 64.47708  | 13.955417 | 17.03792  | 15.35417  |  0.0      | \n",
       "| 168 | 1.016250  | 67.06125  | 12.776250 | 20.45500  | 18.43042  |  0.0      | \n",
       "\n",
       "\n"
      ],
      "text/plain": [
       "    CO       NO_2     O_3       PM10     SO_2     quantity\n",
       "32  1.243333 84.53750 12.576667 36.92455 20.28083  0.1    \n",
       "57  1.242917 79.75125 10.961250 37.21292 16.23917  2.2    \n",
       "80  1.134167 75.39250 12.002917 35.03667 16.75125  2.4    \n",
       "116 1.535833 77.14083  8.755833 34.27625 16.00958 13.3    \n",
       "138 1.009167 64.47708 13.955417 17.03792 15.35417  0.0    \n",
       "168 1.016250 67.06125 12.776250 20.45500 18.43042  0.0    "
      ]
     },
     "metadata": {},
     "output_type": "display_data"
    }
   ],
   "source": [
    "#Eliminamos columnas\n",
    "madrid_cor$date = NULL\n",
    "madrid_cor$station = NULL\n",
    "head(madrid_cor)"
   ]
  },
  {
   "cell_type": "code",
   "execution_count": 254,
   "metadata": {},
   "outputs": [
    {
     "data": {
      "text/html": [
       "<table>\n",
       "<thead><tr><th></th><th scope=col>quantity</th><th scope=col>CO_NextDay</th><th scope=col>NO2_NextDay</th><th scope=col>O_3NextDay</th><th scope=col>PM10_NextDay</th><th scope=col>SO_2NextDay</th></tr></thead>\n",
       "<tbody>\n",
       "\t<tr><th scope=row>32</th><td> 0.1     </td><td>1.242917 </td><td>79.75125 </td><td>10.961250</td><td>37.21292 </td><td>16.23917 </td></tr>\n",
       "\t<tr><th scope=row>57</th><td> 2.2     </td><td>1.134167 </td><td>75.39250 </td><td>12.002917</td><td>35.03667 </td><td>16.75125 </td></tr>\n",
       "\t<tr><th scope=row>80</th><td> 2.4     </td><td>1.535833 </td><td>77.14083 </td><td> 8.755833</td><td>34.27625 </td><td>16.00958 </td></tr>\n",
       "\t<tr><th scope=row>116</th><td>13.3     </td><td>1.009167 </td><td>64.47708 </td><td>13.955417</td><td>17.03792 </td><td>15.35417 </td></tr>\n",
       "\t<tr><th scope=row>138</th><td> 0.0     </td><td>1.016250 </td><td>67.06125 </td><td>12.776250</td><td>20.45500 </td><td>18.43042 </td></tr>\n",
       "\t<tr><th scope=row>168</th><td> 0.0     </td><td>1.293750 </td><td>92.57000 </td><td>10.875833</td><td>45.59958 </td><td>26.75167 </td></tr>\n",
       "</tbody>\n",
       "</table>\n"
      ],
      "text/latex": [
       "\\begin{tabular}{r|llllll}\n",
       "  & quantity & CO\\_NextDay & NO2\\_NextDay & O\\_3NextDay & PM10\\_NextDay & SO\\_2NextDay\\\\\n",
       "\\hline\n",
       "\t32 &  0.1      & 1.242917  & 79.75125  & 10.961250 & 37.21292  & 16.23917 \\\\\n",
       "\t57 &  2.2      & 1.134167  & 75.39250  & 12.002917 & 35.03667  & 16.75125 \\\\\n",
       "\t80 &  2.4      & 1.535833  & 77.14083  &  8.755833 & 34.27625  & 16.00958 \\\\\n",
       "\t116 & 13.3      & 1.009167  & 64.47708  & 13.955417 & 17.03792  & 15.35417 \\\\\n",
       "\t138 &  0.0      & 1.016250  & 67.06125  & 12.776250 & 20.45500  & 18.43042 \\\\\n",
       "\t168 &  0.0      & 1.293750  & 92.57000  & 10.875833 & 45.59958  & 26.75167 \\\\\n",
       "\\end{tabular}\n"
      ],
      "text/markdown": [
       "\n",
       "| <!--/--> | quantity | CO_NextDay | NO2_NextDay | O_3NextDay | PM10_NextDay | SO_2NextDay | \n",
       "|---|---|---|---|---|---|\n",
       "| 32 |  0.1      | 1.242917  | 79.75125  | 10.961250 | 37.21292  | 16.23917  | \n",
       "| 57 |  2.2      | 1.134167  | 75.39250  | 12.002917 | 35.03667  | 16.75125  | \n",
       "| 80 |  2.4      | 1.535833  | 77.14083  |  8.755833 | 34.27625  | 16.00958  | \n",
       "| 116 | 13.3      | 1.009167  | 64.47708  | 13.955417 | 17.03792  | 15.35417  | \n",
       "| 138 |  0.0      | 1.016250  | 67.06125  | 12.776250 | 20.45500  | 18.43042  | \n",
       "| 168 |  0.0      | 1.293750  | 92.57000  | 10.875833 | 45.59958  | 26.75167  | \n",
       "\n",
       "\n"
      ],
      "text/plain": [
       "    quantity CO_NextDay NO2_NextDay O_3NextDay PM10_NextDay SO_2NextDay\n",
       "32   0.1     1.242917   79.75125    10.961250  37.21292     16.23917   \n",
       "57   2.2     1.134167   75.39250    12.002917  35.03667     16.75125   \n",
       "80   2.4     1.535833   77.14083     8.755833  34.27625     16.00958   \n",
       "116 13.3     1.009167   64.47708    13.955417  17.03792     15.35417   \n",
       "138  0.0     1.016250   67.06125    12.776250  20.45500     18.43042   \n",
       "168  0.0     1.293750   92.57000    10.875833  45.59958     26.75167   "
      ]
     },
     "metadata": {},
     "output_type": "display_data"
    }
   ],
   "source": [
    "# Añadimos columnas gases contaminantes dia siguiente\n",
    "madrid_cor$CO_NextDay <- c(madrid_cor$CO[-1], NA)\n",
    "madrid_cor$NO2_NextDay <- c(madrid_cor$NO_2[-1], NA)\n",
    "madrid_cor$O_3NextDay <- c(madrid_cor$O_3[-1], NA)\n",
    "madrid_cor$PM10_NextDay <- c(madrid_cor$PM10[-1], NA)\n",
    "madrid_cor$SO_2NextDay <- c(madrid_cor$SO_2[-1], NA)\n",
    "\n",
    "# Quitamos columnas gases contaminantes dia actual\n",
    "madrid_cor$CO = NULL\n",
    "madrid_cor$NO_2 = NULL\n",
    "madrid_cor$O_3 = NULL\n",
    "madrid_cor$PM10 = NULL\n",
    "madrid_cor$SO_2 = NULL\n",
    "\n",
    "head(madrid_cor)"
   ]
  },
  {
   "cell_type": "code",
   "execution_count": 255,
   "metadata": {},
   "outputs": [
    {
     "data": {
      "text/html": [
       "<table>\n",
       "<thead><tr><th></th><th scope=col>quantity</th><th scope=col>CO_NextDay</th><th scope=col>NO2_NextDay</th><th scope=col>O_3NextDay</th><th scope=col>PM10_NextDay</th><th scope=col>SO_2NextDay</th><th scope=col>maxNextDay</th></tr></thead>\n",
       "<tbody>\n",
       "\t<tr><th scope=row>32</th><td> 0.1     </td><td>1.242917 </td><td>79.75125 </td><td>10.961250</td><td>37.21292 </td><td>16.23917 </td><td>79.75125 </td></tr>\n",
       "\t<tr><th scope=row>57</th><td> 2.2     </td><td>1.134167 </td><td>75.39250 </td><td>12.002917</td><td>35.03667 </td><td>16.75125 </td><td>75.39250 </td></tr>\n",
       "\t<tr><th scope=row>80</th><td> 2.4     </td><td>1.535833 </td><td>77.14083 </td><td> 8.755833</td><td>34.27625 </td><td>16.00958 </td><td>77.14083 </td></tr>\n",
       "\t<tr><th scope=row>116</th><td>13.3     </td><td>1.009167 </td><td>64.47708 </td><td>13.955417</td><td>17.03792 </td><td>15.35417 </td><td>64.47708 </td></tr>\n",
       "\t<tr><th scope=row>138</th><td> 0.0     </td><td>1.016250 </td><td>67.06125 </td><td>12.776250</td><td>20.45500 </td><td>18.43042 </td><td>67.06125 </td></tr>\n",
       "\t<tr><th scope=row>168</th><td> 0.0     </td><td>1.293750 </td><td>92.57000 </td><td>10.875833</td><td>45.59958 </td><td>26.75167 </td><td>92.57000 </td></tr>\n",
       "</tbody>\n",
       "</table>\n"
      ],
      "text/latex": [
       "\\begin{tabular}{r|lllllll}\n",
       "  & quantity & CO\\_NextDay & NO2\\_NextDay & O\\_3NextDay & PM10\\_NextDay & SO\\_2NextDay & maxNextDay\\\\\n",
       "\\hline\n",
       "\t32 &  0.1      & 1.242917  & 79.75125  & 10.961250 & 37.21292  & 16.23917  & 79.75125 \\\\\n",
       "\t57 &  2.2      & 1.134167  & 75.39250  & 12.002917 & 35.03667  & 16.75125  & 75.39250 \\\\\n",
       "\t80 &  2.4      & 1.535833  & 77.14083  &  8.755833 & 34.27625  & 16.00958  & 77.14083 \\\\\n",
       "\t116 & 13.3      & 1.009167  & 64.47708  & 13.955417 & 17.03792  & 15.35417  & 64.47708 \\\\\n",
       "\t138 &  0.0      & 1.016250  & 67.06125  & 12.776250 & 20.45500  & 18.43042  & 67.06125 \\\\\n",
       "\t168 &  0.0      & 1.293750  & 92.57000  & 10.875833 & 45.59958  & 26.75167  & 92.57000 \\\\\n",
       "\\end{tabular}\n"
      ],
      "text/markdown": [
       "\n",
       "| <!--/--> | quantity | CO_NextDay | NO2_NextDay | O_3NextDay | PM10_NextDay | SO_2NextDay | maxNextDay | \n",
       "|---|---|---|---|---|---|\n",
       "| 32 |  0.1      | 1.242917  | 79.75125  | 10.961250 | 37.21292  | 16.23917  | 79.75125  | \n",
       "| 57 |  2.2      | 1.134167  | 75.39250  | 12.002917 | 35.03667  | 16.75125  | 75.39250  | \n",
       "| 80 |  2.4      | 1.535833  | 77.14083  |  8.755833 | 34.27625  | 16.00958  | 77.14083  | \n",
       "| 116 | 13.3      | 1.009167  | 64.47708  | 13.955417 | 17.03792  | 15.35417  | 64.47708  | \n",
       "| 138 |  0.0      | 1.016250  | 67.06125  | 12.776250 | 20.45500  | 18.43042  | 67.06125  | \n",
       "| 168 |  0.0      | 1.293750  | 92.57000  | 10.875833 | 45.59958  | 26.75167  | 92.57000  | \n",
       "\n",
       "\n"
      ],
      "text/plain": [
       "    quantity CO_NextDay NO2_NextDay O_3NextDay PM10_NextDay SO_2NextDay\n",
       "32   0.1     1.242917   79.75125    10.961250  37.21292     16.23917   \n",
       "57   2.2     1.134167   75.39250    12.002917  35.03667     16.75125   \n",
       "80   2.4     1.535833   77.14083     8.755833  34.27625     16.00958   \n",
       "116 13.3     1.009167   64.47708    13.955417  17.03792     15.35417   \n",
       "138  0.0     1.016250   67.06125    12.776250  20.45500     18.43042   \n",
       "168  0.0     1.293750   92.57000    10.875833  45.59958     26.75167   \n",
       "    maxNextDay\n",
       "32  79.75125  \n",
       "57  75.39250  \n",
       "80  77.14083  \n",
       "116 64.47708  \n",
       "138 67.06125  \n",
       "168 92.57000  "
      ]
     },
     "metadata": {},
     "output_type": "display_data"
    }
   ],
   "source": [
    "# Calculamos el maximo entre todos los gases del dia siguiente y la polucion total del dia siguiente\n",
    "madrid_cor$maxNextDay <- apply(madrid_cor[,2:6], 1, FUN=max)\n",
    "head(madrid_cor)"
   ]
  },
  {
   "cell_type": "code",
   "execution_count": 256,
   "metadata": {},
   "outputs": [
    {
     "data": {
      "text/html": [
       "<table>\n",
       "<thead><tr><th></th><th scope=col>quantity</th><th scope=col>CO_NextDay</th><th scope=col>NO2_NextDay</th><th scope=col>O_3NextDay</th><th scope=col>PM10_NextDay</th><th scope=col>SO_2NextDay</th><th scope=col>maxNextDay</th><th scope=col>totalPolNextDay</th></tr></thead>\n",
       "<tbody>\n",
       "\t<tr><th scope=row>32</th><td> 0.1     </td><td>1.242917 </td><td>79.75125 </td><td>10.961250</td><td>37.21292 </td><td>16.23917 </td><td>79.75125 </td><td>145.4075 </td></tr>\n",
       "\t<tr><th scope=row>57</th><td> 2.2     </td><td>1.134167 </td><td>75.39250 </td><td>12.002917</td><td>35.03667 </td><td>16.75125 </td><td>75.39250 </td><td>140.3175 </td></tr>\n",
       "\t<tr><th scope=row>80</th><td> 2.4     </td><td>1.535833 </td><td>77.14083 </td><td> 8.755833</td><td>34.27625 </td><td>16.00958 </td><td>77.14083 </td><td>137.7183 </td></tr>\n",
       "\t<tr><th scope=row>116</th><td>13.3     </td><td>1.009167 </td><td>64.47708 </td><td>13.955417</td><td>17.03792 </td><td>15.35417 </td><td>64.47708 </td><td>111.8338 </td></tr>\n",
       "\t<tr><th scope=row>138</th><td> 0.0     </td><td>1.016250 </td><td>67.06125 </td><td>12.776250</td><td>20.45500 </td><td>18.43042 </td><td>67.06125 </td><td>119.7392 </td></tr>\n",
       "\t<tr><th scope=row>168</th><td> 0.0     </td><td>1.293750 </td><td>92.57000 </td><td>10.875833</td><td>45.59958 </td><td>26.75167 </td><td>92.57000 </td><td>177.0908 </td></tr>\n",
       "</tbody>\n",
       "</table>\n"
      ],
      "text/latex": [
       "\\begin{tabular}{r|llllllll}\n",
       "  & quantity & CO\\_NextDay & NO2\\_NextDay & O\\_3NextDay & PM10\\_NextDay & SO\\_2NextDay & maxNextDay & totalPolNextDay\\\\\n",
       "\\hline\n",
       "\t32 &  0.1      & 1.242917  & 79.75125  & 10.961250 & 37.21292  & 16.23917  & 79.75125  & 145.4075 \\\\\n",
       "\t57 &  2.2      & 1.134167  & 75.39250  & 12.002917 & 35.03667  & 16.75125  & 75.39250  & 140.3175 \\\\\n",
       "\t80 &  2.4      & 1.535833  & 77.14083  &  8.755833 & 34.27625  & 16.00958  & 77.14083  & 137.7183 \\\\\n",
       "\t116 & 13.3      & 1.009167  & 64.47708  & 13.955417 & 17.03792  & 15.35417  & 64.47708  & 111.8338 \\\\\n",
       "\t138 &  0.0      & 1.016250  & 67.06125  & 12.776250 & 20.45500  & 18.43042  & 67.06125  & 119.7392 \\\\\n",
       "\t168 &  0.0      & 1.293750  & 92.57000  & 10.875833 & 45.59958  & 26.75167  & 92.57000  & 177.0908 \\\\\n",
       "\\end{tabular}\n"
      ],
      "text/markdown": [
       "\n",
       "| <!--/--> | quantity | CO_NextDay | NO2_NextDay | O_3NextDay | PM10_NextDay | SO_2NextDay | maxNextDay | totalPolNextDay | \n",
       "|---|---|---|---|---|---|\n",
       "| 32 |  0.1      | 1.242917  | 79.75125  | 10.961250 | 37.21292  | 16.23917  | 79.75125  | 145.4075  | \n",
       "| 57 |  2.2      | 1.134167  | 75.39250  | 12.002917 | 35.03667  | 16.75125  | 75.39250  | 140.3175  | \n",
       "| 80 |  2.4      | 1.535833  | 77.14083  |  8.755833 | 34.27625  | 16.00958  | 77.14083  | 137.7183  | \n",
       "| 116 | 13.3      | 1.009167  | 64.47708  | 13.955417 | 17.03792  | 15.35417  | 64.47708  | 111.8338  | \n",
       "| 138 |  0.0      | 1.016250  | 67.06125  | 12.776250 | 20.45500  | 18.43042  | 67.06125  | 119.7392  | \n",
       "| 168 |  0.0      | 1.293750  | 92.57000  | 10.875833 | 45.59958  | 26.75167  | 92.57000  | 177.0908  | \n",
       "\n",
       "\n"
      ],
      "text/plain": [
       "    quantity CO_NextDay NO2_NextDay O_3NextDay PM10_NextDay SO_2NextDay\n",
       "32   0.1     1.242917   79.75125    10.961250  37.21292     16.23917   \n",
       "57   2.2     1.134167   75.39250    12.002917  35.03667     16.75125   \n",
       "80   2.4     1.535833   77.14083     8.755833  34.27625     16.00958   \n",
       "116 13.3     1.009167   64.47708    13.955417  17.03792     15.35417   \n",
       "138  0.0     1.016250   67.06125    12.776250  20.45500     18.43042   \n",
       "168  0.0     1.293750   92.57000    10.875833  45.59958     26.75167   \n",
       "    maxNextDay totalPolNextDay\n",
       "32  79.75125   145.4075       \n",
       "57  75.39250   140.3175       \n",
       "80  77.14083   137.7183       \n",
       "116 64.47708   111.8338       \n",
       "138 67.06125   119.7392       \n",
       "168 92.57000   177.0908       "
      ]
     },
     "metadata": {},
     "output_type": "display_data"
    }
   ],
   "source": [
    "madrid_cor$totalPolNextDay <- rowSums(madrid_cor[,2:6])\n",
    "head(madrid_cor)"
   ]
  },
  {
   "cell_type": "markdown",
   "metadata": {},
   "source": [
    "## Tabla de correlaciones"
   ]
  },
  {
   "cell_type": "code",
   "execution_count": 257,
   "metadata": {},
   "outputs": [
    {
     "data": {
      "text/html": [
       "<table>\n",
       "<thead><tr><th></th><th scope=col>quantity</th><th scope=col>CO_NextDay</th><th scope=col>NO2_NextDay</th><th scope=col>O_3NextDay</th><th scope=col>PM10_NextDay</th><th scope=col>SO_2NextDay</th><th scope=col>maxNextDay</th><th scope=col>totalPolNextDay</th></tr></thead>\n",
       "<tbody>\n",
       "\t<tr><th scope=row>quantity</th><td> 1.00</td><td>-0.03</td><td>-0.09</td><td>-0.03</td><td>-0.12</td><td>-0.05</td><td>-0.10</td><td>-0.12</td></tr>\n",
       "\t<tr><th scope=row>CO_NextDay</th><td>-0.03</td><td> 1.00</td><td> 0.59</td><td>-0.13</td><td> 0.53</td><td> 0.75</td><td> 0.46</td><td> 0.63</td></tr>\n",
       "\t<tr><th scope=row>NO2_NextDay</th><td>-0.09</td><td> 0.59</td><td> 1.00</td><td>-0.33</td><td> 0.54</td><td> 0.52</td><td> 0.68</td><td> 0.70</td></tr>\n",
       "\t<tr><th scope=row>O_3NextDay</th><td>-0.03</td><td>-0.13</td><td>-0.33</td><td> 1.00</td><td>-0.13</td><td>-0.16</td><td> 0.26</td><td> 0.30</td></tr>\n",
       "\t<tr><th scope=row>PM10_NextDay</th><td>-0.12</td><td> 0.53</td><td> 0.54</td><td>-0.13</td><td> 1.00</td><td> 0.51</td><td> 0.47</td><td> 0.76</td></tr>\n",
       "\t<tr><th scope=row>SO_2NextDay</th><td>-0.05</td><td> 0.75</td><td> 0.52</td><td>-0.16</td><td> 0.51</td><td> 1.00</td><td> 0.37</td><td> 0.60</td></tr>\n",
       "\t<tr><th scope=row>maxNextDay</th><td>-0.10</td><td> 0.46</td><td> 0.68</td><td> 0.26</td><td> 0.47</td><td> 0.37</td><td> 1.00</td><td> 0.80</td></tr>\n",
       "\t<tr><th scope=row>totalPolNextDay</th><td>-0.12</td><td> 0.63</td><td> 0.70</td><td> 0.30</td><td> 0.76</td><td> 0.60</td><td> 0.80</td><td> 1.00</td></tr>\n",
       "</tbody>\n",
       "</table>\n"
      ],
      "text/latex": [
       "\\begin{tabular}{r|llllllll}\n",
       "  & quantity & CO\\_NextDay & NO2\\_NextDay & O\\_3NextDay & PM10\\_NextDay & SO\\_2NextDay & maxNextDay & totalPolNextDay\\\\\n",
       "\\hline\n",
       "\tquantity &  1.00 & -0.03 & -0.09 & -0.03 & -0.12 & -0.05 & -0.10 & -0.12\\\\\n",
       "\tCO\\_NextDay & -0.03 &  1.00 &  0.59 & -0.13 &  0.53 &  0.75 &  0.46 &  0.63\\\\\n",
       "\tNO2\\_NextDay & -0.09 &  0.59 &  1.00 & -0.33 &  0.54 &  0.52 &  0.68 &  0.70\\\\\n",
       "\tO\\_3NextDay & -0.03 & -0.13 & -0.33 &  1.00 & -0.13 & -0.16 &  0.26 &  0.30\\\\\n",
       "\tPM10\\_NextDay & -0.12 &  0.53 &  0.54 & -0.13 &  1.00 &  0.51 &  0.47 &  0.76\\\\\n",
       "\tSO\\_2NextDay & -0.05 &  0.75 &  0.52 & -0.16 &  0.51 &  1.00 &  0.37 &  0.60\\\\\n",
       "\tmaxNextDay & -0.10 &  0.46 &  0.68 &  0.26 &  0.47 &  0.37 &  1.00 &  0.80\\\\\n",
       "\ttotalPolNextDay & -0.12 &  0.63 &  0.70 &  0.30 &  0.76 &  0.60 &  0.80 &  1.00\\\\\n",
       "\\end{tabular}\n"
      ],
      "text/markdown": [
       "\n",
       "| <!--/--> | quantity | CO_NextDay | NO2_NextDay | O_3NextDay | PM10_NextDay | SO_2NextDay | maxNextDay | totalPolNextDay | \n",
       "|---|---|---|---|---|---|---|---|\n",
       "| quantity |  1.00 | -0.03 | -0.09 | -0.03 | -0.12 | -0.05 | -0.10 | -0.12 | \n",
       "| CO_NextDay | -0.03 |  1.00 |  0.59 | -0.13 |  0.53 |  0.75 |  0.46 |  0.63 | \n",
       "| NO2_NextDay | -0.09 |  0.59 |  1.00 | -0.33 |  0.54 |  0.52 |  0.68 |  0.70 | \n",
       "| O_3NextDay | -0.03 | -0.13 | -0.33 |  1.00 | -0.13 | -0.16 |  0.26 |  0.30 | \n",
       "| PM10_NextDay | -0.12 |  0.53 |  0.54 | -0.13 |  1.00 |  0.51 |  0.47 |  0.76 | \n",
       "| SO_2NextDay | -0.05 |  0.75 |  0.52 | -0.16 |  0.51 |  1.00 |  0.37 |  0.60 | \n",
       "| maxNextDay | -0.10 |  0.46 |  0.68 |  0.26 |  0.47 |  0.37 |  1.00 |  0.80 | \n",
       "| totalPolNextDay | -0.12 |  0.63 |  0.70 |  0.30 |  0.76 |  0.60 |  0.80 |  1.00 | \n",
       "\n",
       "\n"
      ],
      "text/plain": [
       "                quantity CO_NextDay NO2_NextDay O_3NextDay PM10_NextDay\n",
       "quantity         1.00    -0.03      -0.09       -0.03      -0.12       \n",
       "CO_NextDay      -0.03     1.00       0.59       -0.13       0.53       \n",
       "NO2_NextDay     -0.09     0.59       1.00       -0.33       0.54       \n",
       "O_3NextDay      -0.03    -0.13      -0.33        1.00      -0.13       \n",
       "PM10_NextDay    -0.12     0.53       0.54       -0.13       1.00       \n",
       "SO_2NextDay     -0.05     0.75       0.52       -0.16       0.51       \n",
       "maxNextDay      -0.10     0.46       0.68        0.26       0.47       \n",
       "totalPolNextDay -0.12     0.63       0.70        0.30       0.76       \n",
       "                SO_2NextDay maxNextDay totalPolNextDay\n",
       "quantity        -0.05       -0.10      -0.12          \n",
       "CO_NextDay       0.75        0.46       0.63          \n",
       "NO2_NextDay      0.52        0.68       0.70          \n",
       "O_3NextDay      -0.16        0.26       0.30          \n",
       "PM10_NextDay     0.51        0.47       0.76          \n",
       "SO_2NextDay      1.00        0.37       0.60          \n",
       "maxNextDay       0.37        1.00       0.80          \n",
       "totalPolNextDay  0.60        0.80       1.00          "
      ]
     },
     "metadata": {},
     "output_type": "display_data"
    }
   ],
   "source": [
    "#Tabla de correlaciones\n",
    "res <- cor(madrid_cor, use = \"complete.obs\")\n",
    "round(res, 2)"
   ]
  },
  {
   "cell_type": "code",
   "execution_count": 258,
   "metadata": {},
   "outputs": [
    {
     "data": {
      "image/png": "[encoded data removed]",
      "text/plain": [
       "Plot with title \"Correlacion entre la lluvia y la contaminacion de cada gas\""
      ]
     },
     "metadata": {},
     "output_type": "display_data"
    }
   ],
   "source": [
    "#Mostramos la siguiente gráfica en fucnión de la correlación entre variables.\n",
    "corrplot(res)\n",
    "title(\"Correlacion entre la lluvia y la contaminacion de cada gas\")"
   ]
  },
  {
   "cell_type": "markdown",
   "metadata": {},
   "source": [
    "Las correlaciones más altas que hemos obtenido con la lluvia del dia anterior han sido con la polución total y con el gas más contaminante del día siguiente,\n",
    "\n",
    " –0,12 y – 0,10 respectivamente."
   ]
  },
  {
   "cell_type": "markdown",
   "metadata": {},
   "source": [
    "### Preparacion para el modelo\n",
    "Se van a crear tres dataframes, para la aplicación posterior del modelo a cada uno de ellos, estos dataframes serán:\n",
    "- version01: Dataframe que contiene los datos discretizados siguiendo índices obtenidos en fuentes que se indicarán a posteriori.\n",
    "- version02: Dataframe que contiene los datos discretizados por cuartiles, mediciones mensuales\n",
    "- version03: Dataframe que contiene los datos discretizados por cuartiles en tres variables categoricas, mediciones diarias\n",
    "    - Una situada hasta el primer cuartil (_data_ <= Q1)\n",
    "    - Otro siatuada entre el primer y tercer cuartil (Q1< _data_ <= Q3)  \n",
    "    - La última para datos superiores al tercer cuartil (_data_> Q3)"
   ]
  },
  {
   "cell_type": "markdown",
   "metadata": {},
   "source": [
    "### Prepación para el modelo version01"
   ]
  },
  {
   "cell_type": "markdown",
   "metadata": {},
   "source": [
    "Tras los pasos anteriores se procederá a realizar la discretización de las variables dependientes que formarán parte del modelo para preparar el dataframe para el modelo.\n",
    "\n",
    "A lo largo de esta fase se utilizarán los siguientes términos:\n",
    "- AQ (Air Index): Representa mediciones numéricas\n",
    "- AIQ (Air Index Quality): Representa mediciones ya discretizadas"
   ]
  },
  {
   "cell_type": "markdown",
   "metadata": {},
   "source": [
    "#### Discretizamos la calidad del aire\n",
    "Para ello nos guiraremos de la siguiente tabla, de cada fila se escogerá el mayor de todos los contaminantes y se comparara con la tabla adjunta:"
   ]
  },
  {
   "attachments": {},
   "cell_type": "markdown",
   "metadata": {},
   "source": [
    "![airIndex.png](airIndex.png)\n",
    "\n",
    "Fuente: https://www.epa.vic.gov.au/your-environment/air/air-pollution/air-quality-index/calculating-a-station-air-quality-index"
   ]
  },
  {
   "cell_type": "markdown",
   "metadata": {},
   "source": [
    "Para ello cogemos el maximo valor de cada fila entre los gases y lo añadimos como una columna nueva al data frame"
   ]
  },
  {
   "cell_type": "code",
   "execution_count": 259,
   "metadata": {},
   "outputs": [
    {
     "data": {
      "text/html": [
       "<table>\n",
       "<thead><tr><th scope=col>station</th><th scope=col>date</th><th scope=col>CO</th><th scope=col>NO_2</th><th scope=col>O_3</th><th scope=col>PM10</th><th scope=col>SO_2</th><th scope=col>AQ</th></tr></thead>\n",
       "<tbody>\n",
       "\t<tr><td>28079001  </td><td>2001-01-02</td><td>1.243333  </td><td>84.53750  </td><td>12.576667 </td><td>36.92455  </td><td>20.28083  </td><td>84.53750  </td></tr>\n",
       "\t<tr><td>28079001  </td><td>2001-01-03</td><td>1.242917  </td><td>79.75125  </td><td>10.961250 </td><td>37.21292  </td><td>16.23917  </td><td>79.75125  </td></tr>\n",
       "\t<tr><td>28079001  </td><td>2001-01-04</td><td>1.134167  </td><td>75.39250  </td><td>12.002917 </td><td>35.03667  </td><td>16.75125  </td><td>75.39250  </td></tr>\n",
       "\t<tr><td>28079001  </td><td>2001-01-05</td><td>1.535833  </td><td>77.14083  </td><td> 8.755833 </td><td>34.27625  </td><td>16.00958  </td><td>77.14083  </td></tr>\n",
       "\t<tr><td>28079001  </td><td>2001-01-06</td><td>1.009167  </td><td>64.47708  </td><td>13.955417 </td><td>17.03792  </td><td>15.35417  </td><td>64.47708  </td></tr>\n",
       "\t<tr><td>28079001  </td><td>2001-01-07</td><td>1.016250  </td><td>67.06125  </td><td>12.776250 </td><td>20.45500  </td><td>18.43042  </td><td>67.06125  </td></tr>\n",
       "</tbody>\n",
       "</table>\n"
      ],
      "text/latex": [
       "\\begin{tabular}{r|llllllll}\n",
       " station & date & CO & NO\\_2 & O\\_3 & PM10 & SO\\_2 & AQ\\\\\n",
       "\\hline\n",
       "\t 28079001   & 2001-01-02 & 1.243333   & 84.53750   & 12.576667  & 36.92455   & 20.28083   & 84.53750  \\\\\n",
       "\t 28079001   & 2001-01-03 & 1.242917   & 79.75125   & 10.961250  & 37.21292   & 16.23917   & 79.75125  \\\\\n",
       "\t 28079001   & 2001-01-04 & 1.134167   & 75.39250   & 12.002917  & 35.03667   & 16.75125   & 75.39250  \\\\\n",
       "\t 28079001   & 2001-01-05 & 1.535833   & 77.14083   &  8.755833  & 34.27625   & 16.00958   & 77.14083  \\\\\n",
       "\t 28079001   & 2001-01-06 & 1.009167   & 64.47708   & 13.955417  & 17.03792   & 15.35417   & 64.47708  \\\\\n",
       "\t 28079001   & 2001-01-07 & 1.016250   & 67.06125   & 12.776250  & 20.45500   & 18.43042   & 67.06125  \\\\\n",
       "\\end{tabular}\n"
      ],
      "text/markdown": [
       "\n",
       "station | date | CO | NO_2 | O_3 | PM10 | SO_2 | AQ | \n",
       "|---|---|---|---|---|---|\n",
       "| 28079001   | 2001-01-02 | 1.243333   | 84.53750   | 12.576667  | 36.92455   | 20.28083   | 84.53750   | \n",
       "| 28079001   | 2001-01-03 | 1.242917   | 79.75125   | 10.961250  | 37.21292   | 16.23917   | 79.75125   | \n",
       "| 28079001   | 2001-01-04 | 1.134167   | 75.39250   | 12.002917  | 35.03667   | 16.75125   | 75.39250   | \n",
       "| 28079001   | 2001-01-05 | 1.535833   | 77.14083   |  8.755833  | 34.27625   | 16.00958   | 77.14083   | \n",
       "| 28079001   | 2001-01-06 | 1.009167   | 64.47708   | 13.955417  | 17.03792   | 15.35417   | 64.47708   | \n",
       "| 28079001   | 2001-01-07 | 1.016250   | 67.06125   | 12.776250  | 20.45500   | 18.43042   | 67.06125   | \n",
       "\n",
       "\n"
      ],
      "text/plain": [
       "  station  date       CO       NO_2     O_3       PM10     SO_2     AQ      \n",
       "1 28079001 2001-01-02 1.243333 84.53750 12.576667 36.92455 20.28083 84.53750\n",
       "2 28079001 2001-01-03 1.242917 79.75125 10.961250 37.21292 16.23917 79.75125\n",
       "3 28079001 2001-01-04 1.134167 75.39250 12.002917 35.03667 16.75125 75.39250\n",
       "4 28079001 2001-01-05 1.535833 77.14083  8.755833 34.27625 16.00958 77.14083\n",
       "5 28079001 2001-01-06 1.009167 64.47708 13.955417 17.03792 15.35417 64.47708\n",
       "6 28079001 2001-01-07 1.016250 67.06125 12.776250 20.45500 18.43042 67.06125"
      ]
     },
     "metadata": {},
     "output_type": "display_data"
    }
   ],
   "source": [
    "#Obtenemos en una columna el máximo de los gases contaminantes\n",
    "auxData <- madrid\n",
    "auxData$date=NULL\n",
    "auxData$station = NULL\n",
    "auxData[, \"AQ\"] <- apply(auxData ,1, max)\n",
    "auxData$CO=NULL\n",
    "auxData$NO_2 = NULL\n",
    "auxData$O_3 = NULL\n",
    "auxData$PM10 = NULL\n",
    "auxData$SO_2 = NULL\n",
    "madrid <- cbind(madrid,auxData)\n",
    "head(madrid)"
   ]
  },
  {
   "cell_type": "markdown",
   "metadata": {},
   "source": [
    "A continuación discretizamos la columna anterior, creando una nueva columna con los siguientes valores:\n",
    "\n",
    "    Very good(VG)  \n",
    "    Good (G)  \n",
    "    Fair(F)  \n",
    "    Poor (P)  \n",
    "    Very Poor (VP)  "
   ]
  },
  {
   "cell_type": "code",
   "execution_count": 260,
   "metadata": {},
   "outputs": [
    {
     "data": {
      "text/html": [
       "<table>\n",
       "<thead><tr><th scope=col>station</th><th scope=col>date</th><th scope=col>CO</th><th scope=col>NO_2</th><th scope=col>O_3</th><th scope=col>PM10</th><th scope=col>SO_2</th><th scope=col>AQ</th><th scope=col>AIQ</th></tr></thead>\n",
       "<tbody>\n",
       "\t<tr><td>28079001  </td><td>2001-01-02</td><td>1.243333  </td><td>84.53750  </td><td>12.576667 </td><td>36.92455  </td><td>20.28083  </td><td>84.53750  </td><td>84.53750  </td></tr>\n",
       "\t<tr><td>28079001  </td><td>2001-01-03</td><td>1.242917  </td><td>79.75125  </td><td>10.961250 </td><td>37.21292  </td><td>16.23917  </td><td>79.75125  </td><td>79.75125  </td></tr>\n",
       "\t<tr><td>28079001  </td><td>2001-01-04</td><td>1.134167  </td><td>75.39250  </td><td>12.002917 </td><td>35.03667  </td><td>16.75125  </td><td>75.39250  </td><td>75.39250  </td></tr>\n",
       "\t<tr><td>28079001  </td><td>2001-01-05</td><td>1.535833  </td><td>77.14083  </td><td> 8.755833 </td><td>34.27625  </td><td>16.00958  </td><td>77.14083  </td><td>77.14083  </td></tr>\n",
       "\t<tr><td>28079001  </td><td>2001-01-06</td><td>1.009167  </td><td>64.47708  </td><td>13.955417 </td><td>17.03792  </td><td>15.35417  </td><td>64.47708  </td><td>64.47708  </td></tr>\n",
       "\t<tr><td>28079001  </td><td>2001-01-07</td><td>1.016250  </td><td>67.06125  </td><td>12.776250 </td><td>20.45500  </td><td>18.43042  </td><td>67.06125  </td><td>67.06125  </td></tr>\n",
       "</tbody>\n",
       "</table>\n"
      ],
      "text/latex": [
       "\\begin{tabular}{r|lllllllll}\n",
       " station & date & CO & NO\\_2 & O\\_3 & PM10 & SO\\_2 & AQ & AIQ\\\\\n",
       "\\hline\n",
       "\t 28079001   & 2001-01-02 & 1.243333   & 84.53750   & 12.576667  & 36.92455   & 20.28083   & 84.53750   & 84.53750  \\\\\n",
       "\t 28079001   & 2001-01-03 & 1.242917   & 79.75125   & 10.961250  & 37.21292   & 16.23917   & 79.75125   & 79.75125  \\\\\n",
       "\t 28079001   & 2001-01-04 & 1.134167   & 75.39250   & 12.002917  & 35.03667   & 16.75125   & 75.39250   & 75.39250  \\\\\n",
       "\t 28079001   & 2001-01-05 & 1.535833   & 77.14083   &  8.755833  & 34.27625   & 16.00958   & 77.14083   & 77.14083  \\\\\n",
       "\t 28079001   & 2001-01-06 & 1.009167   & 64.47708   & 13.955417  & 17.03792   & 15.35417   & 64.47708   & 64.47708  \\\\\n",
       "\t 28079001   & 2001-01-07 & 1.016250   & 67.06125   & 12.776250  & 20.45500   & 18.43042   & 67.06125   & 67.06125  \\\\\n",
       "\\end{tabular}\n"
      ],
      "text/markdown": [
       "\n",
       "station | date | CO | NO_2 | O_3 | PM10 | SO_2 | AQ | AIQ | \n",
       "|---|---|---|---|---|---|\n",
       "| 28079001   | 2001-01-02 | 1.243333   | 84.53750   | 12.576667  | 36.92455   | 20.28083   | 84.53750   | 84.53750   | \n",
       "| 28079001   | 2001-01-03 | 1.242917   | 79.75125   | 10.961250  | 37.21292   | 16.23917   | 79.75125   | 79.75125   | \n",
       "| 28079001   | 2001-01-04 | 1.134167   | 75.39250   | 12.002917  | 35.03667   | 16.75125   | 75.39250   | 75.39250   | \n",
       "| 28079001   | 2001-01-05 | 1.535833   | 77.14083   |  8.755833  | 34.27625   | 16.00958   | 77.14083   | 77.14083   | \n",
       "| 28079001   | 2001-01-06 | 1.009167   | 64.47708   | 13.955417  | 17.03792   | 15.35417   | 64.47708   | 64.47708   | \n",
       "| 28079001   | 2001-01-07 | 1.016250   | 67.06125   | 12.776250  | 20.45500   | 18.43042   | 67.06125   | 67.06125   | \n",
       "\n",
       "\n"
      ],
      "text/plain": [
       "  station  date       CO       NO_2     O_3       PM10     SO_2     AQ      \n",
       "1 28079001 2001-01-02 1.243333 84.53750 12.576667 36.92455 20.28083 84.53750\n",
       "2 28079001 2001-01-03 1.242917 79.75125 10.961250 37.21292 16.23917 79.75125\n",
       "3 28079001 2001-01-04 1.134167 75.39250 12.002917 35.03667 16.75125 75.39250\n",
       "4 28079001 2001-01-05 1.535833 77.14083  8.755833 34.27625 16.00958 77.14083\n",
       "5 28079001 2001-01-06 1.009167 64.47708 13.955417 17.03792 15.35417 64.47708\n",
       "6 28079001 2001-01-07 1.016250 67.06125 12.776250 20.45500 18.43042 67.06125\n",
       "  AIQ     \n",
       "1 84.53750\n",
       "2 79.75125\n",
       "3 75.39250\n",
       "4 77.14083\n",
       "5 64.47708\n",
       "6 67.06125"
      ]
     },
     "metadata": {},
     "output_type": "display_data"
    }
   ],
   "source": [
    "#Preparamos para discretizar\n",
    "madrid[,\"AIQ\"] <- madrid$AQ\n",
    "head(madrid)"
   ]
  },
  {
   "cell_type": "code",
   "execution_count": 261,
   "metadata": {},
   "outputs": [
    {
     "data": {
      "text/html": [
       "<table>\n",
       "<thead><tr><th scope=col>station</th><th scope=col>date</th><th scope=col>CO</th><th scope=col>NO_2</th><th scope=col>O_3</th><th scope=col>PM10</th><th scope=col>SO_2</th><th scope=col>AQ</th><th scope=col>AIQ</th></tr></thead>\n",
       "<tbody>\n",
       "\t<tr><td>28079001  </td><td>2001-01-02</td><td>1.243333  </td><td>84.53750  </td><td>12.576667 </td><td>36.92455  </td><td>20.28083  </td><td>84.53750  </td><td>FAIR      </td></tr>\n",
       "\t<tr><td>28079001  </td><td>2001-01-03</td><td>1.242917  </td><td>79.75125  </td><td>10.961250 </td><td>37.21292  </td><td>16.23917  </td><td>79.75125  </td><td>FAIR      </td></tr>\n",
       "\t<tr><td>28079001  </td><td>2001-01-04</td><td>1.134167  </td><td>75.39250  </td><td>12.002917 </td><td>35.03667  </td><td>16.75125  </td><td>75.39250  </td><td>FAIR      </td></tr>\n",
       "\t<tr><td>28079001  </td><td>2001-01-05</td><td>1.535833  </td><td>77.14083  </td><td> 8.755833 </td><td>34.27625  </td><td>16.00958  </td><td>77.14083  </td><td>FAIR      </td></tr>\n",
       "\t<tr><td>28079001  </td><td>2001-01-06</td><td>1.009167  </td><td>64.47708  </td><td>13.955417 </td><td>17.03792  </td><td>15.35417  </td><td>64.47708  </td><td>GOOD      </td></tr>\n",
       "\t<tr><td>28079001  </td><td>2001-01-07</td><td>1.016250  </td><td>67.06125  </td><td>12.776250 </td><td>20.45500  </td><td>18.43042  </td><td>67.06125  </td><td>FAIR      </td></tr>\n",
       "</tbody>\n",
       "</table>\n"
      ],
      "text/latex": [
       "\\begin{tabular}{r|lllllllll}\n",
       " station & date & CO & NO\\_2 & O\\_3 & PM10 & SO\\_2 & AQ & AIQ\\\\\n",
       "\\hline\n",
       "\t 28079001   & 2001-01-02 & 1.243333   & 84.53750   & 12.576667  & 36.92455   & 20.28083   & 84.53750   & FAIR      \\\\\n",
       "\t 28079001   & 2001-01-03 & 1.242917   & 79.75125   & 10.961250  & 37.21292   & 16.23917   & 79.75125   & FAIR      \\\\\n",
       "\t 28079001   & 2001-01-04 & 1.134167   & 75.39250   & 12.002917  & 35.03667   & 16.75125   & 75.39250   & FAIR      \\\\\n",
       "\t 28079001   & 2001-01-05 & 1.535833   & 77.14083   &  8.755833  & 34.27625   & 16.00958   & 77.14083   & FAIR      \\\\\n",
       "\t 28079001   & 2001-01-06 & 1.009167   & 64.47708   & 13.955417  & 17.03792   & 15.35417   & 64.47708   & GOOD      \\\\\n",
       "\t 28079001   & 2001-01-07 & 1.016250   & 67.06125   & 12.776250  & 20.45500   & 18.43042   & 67.06125   & FAIR      \\\\\n",
       "\\end{tabular}\n"
      ],
      "text/markdown": [
       "\n",
       "station | date | CO | NO_2 | O_3 | PM10 | SO_2 | AQ | AIQ | \n",
       "|---|---|---|---|---|---|\n",
       "| 28079001   | 2001-01-02 | 1.243333   | 84.53750   | 12.576667  | 36.92455   | 20.28083   | 84.53750   | FAIR       | \n",
       "| 28079001   | 2001-01-03 | 1.242917   | 79.75125   | 10.961250  | 37.21292   | 16.23917   | 79.75125   | FAIR       | \n",
       "| 28079001   | 2001-01-04 | 1.134167   | 75.39250   | 12.002917  | 35.03667   | 16.75125   | 75.39250   | FAIR       | \n",
       "| 28079001   | 2001-01-05 | 1.535833   | 77.14083   |  8.755833  | 34.27625   | 16.00958   | 77.14083   | FAIR       | \n",
       "| 28079001   | 2001-01-06 | 1.009167   | 64.47708   | 13.955417  | 17.03792   | 15.35417   | 64.47708   | GOOD       | \n",
       "| 28079001   | 2001-01-07 | 1.016250   | 67.06125   | 12.776250  | 20.45500   | 18.43042   | 67.06125   | FAIR       | \n",
       "\n",
       "\n"
      ],
      "text/plain": [
       "  station  date       CO       NO_2     O_3       PM10     SO_2     AQ      \n",
       "1 28079001 2001-01-02 1.243333 84.53750 12.576667 36.92455 20.28083 84.53750\n",
       "2 28079001 2001-01-03 1.242917 79.75125 10.961250 37.21292 16.23917 79.75125\n",
       "3 28079001 2001-01-04 1.134167 75.39250 12.002917 35.03667 16.75125 75.39250\n",
       "4 28079001 2001-01-05 1.535833 77.14083  8.755833 34.27625 16.00958 77.14083\n",
       "5 28079001 2001-01-06 1.009167 64.47708 13.955417 17.03792 15.35417 64.47708\n",
       "6 28079001 2001-01-07 1.016250 67.06125 12.776250 20.45500 18.43042 67.06125\n",
       "  AIQ \n",
       "1 FAIR\n",
       "2 FAIR\n",
       "3 FAIR\n",
       "4 FAIR\n",
       "5 GOOD\n",
       "6 FAIR"
      ]
     },
     "metadata": {},
     "output_type": "display_data"
    }
   ],
   "source": [
    "#Discretizamos\n",
    "madrid <- madrid %>%\n",
    "        mutate(AIQ = case_when (\n",
    "        \n",
    "        AIQ>=0 & AIQ <=33       ~\"VERY GOOD\",\n",
    "        AIQ >=34 & AIQ <=66     ~\"GOOD\",\n",
    "        AIQ >=37 & AIQ <=99     ~\"FAIR\",\n",
    "        AIQ >=100 & AIQ <=149   ~\"POOR\",\n",
    "        AIQ >=150               ~\"VERY POOR\",\n",
    "        TRUE                    ~\"NA\",\n",
    "        ))\n",
    "\n",
    "    \n",
    "head(madrid)"
   ]
  },
  {
   "cell_type": "code",
   "execution_count": 262,
   "metadata": {},
   "outputs": [
    {
     "data": {
      "text/html": [
       "<table>\n",
       "<thead><tr><th scope=col>station</th><th scope=col>date</th><th scope=col>CO</th><th scope=col>NO_2</th><th scope=col>O_3</th><th scope=col>PM10</th><th scope=col>SO_2</th><th scope=col>AQ</th><th scope=col>AIQ</th><th scope=col>AQNextDay</th><th scope=col>AIQNextDay</th></tr></thead>\n",
       "<tbody>\n",
       "\t<tr><td>28079001  </td><td>2001-01-02</td><td>1.243333  </td><td>84.53750  </td><td>12.576667 </td><td>36.92455  </td><td>20.28083  </td><td>84.53750  </td><td>FAIR      </td><td>NA        </td><td>NA        </td></tr>\n",
       "\t<tr><td>28079001  </td><td>2001-01-03</td><td>1.242917  </td><td>79.75125  </td><td>10.961250 </td><td>37.21292  </td><td>16.23917  </td><td>79.75125  </td><td>FAIR      </td><td>NA        </td><td>NA        </td></tr>\n",
       "\t<tr><td>28079001  </td><td>2001-01-04</td><td>1.134167  </td><td>75.39250  </td><td>12.002917 </td><td>35.03667  </td><td>16.75125  </td><td>75.39250  </td><td>FAIR      </td><td>NA        </td><td>NA        </td></tr>\n",
       "\t<tr><td>28079001  </td><td>2001-01-05</td><td>1.535833  </td><td>77.14083  </td><td> 8.755833 </td><td>34.27625  </td><td>16.00958  </td><td>77.14083  </td><td>FAIR      </td><td>NA        </td><td>NA        </td></tr>\n",
       "\t<tr><td>28079001  </td><td>2001-01-06</td><td>1.009167  </td><td>64.47708  </td><td>13.955417 </td><td>17.03792  </td><td>15.35417  </td><td>64.47708  </td><td>GOOD      </td><td>NA        </td><td>NA        </td></tr>\n",
       "\t<tr><td>28079001  </td><td>2001-01-07</td><td>1.016250  </td><td>67.06125  </td><td>12.776250 </td><td>20.45500  </td><td>18.43042  </td><td>67.06125  </td><td>FAIR      </td><td>NA        </td><td>NA        </td></tr>\n",
       "</tbody>\n",
       "</table>\n"
      ],
      "text/latex": [
       "\\begin{tabular}{r|lllllllllll}\n",
       " station & date & CO & NO\\_2 & O\\_3 & PM10 & SO\\_2 & AQ & AIQ & AQNextDay & AIQNextDay\\\\\n",
       "\\hline\n",
       "\t 28079001   & 2001-01-02 & 1.243333   & 84.53750   & 12.576667  & 36.92455   & 20.28083   & 84.53750   & FAIR       & NA         & NA        \\\\\n",
       "\t 28079001   & 2001-01-03 & 1.242917   & 79.75125   & 10.961250  & 37.21292   & 16.23917   & 79.75125   & FAIR       & NA         & NA        \\\\\n",
       "\t 28079001   & 2001-01-04 & 1.134167   & 75.39250   & 12.002917  & 35.03667   & 16.75125   & 75.39250   & FAIR       & NA         & NA        \\\\\n",
       "\t 28079001   & 2001-01-05 & 1.535833   & 77.14083   &  8.755833  & 34.27625   & 16.00958   & 77.14083   & FAIR       & NA         & NA        \\\\\n",
       "\t 28079001   & 2001-01-06 & 1.009167   & 64.47708   & 13.955417  & 17.03792   & 15.35417   & 64.47708   & GOOD       & NA         & NA        \\\\\n",
       "\t 28079001   & 2001-01-07 & 1.016250   & 67.06125   & 12.776250  & 20.45500   & 18.43042   & 67.06125   & FAIR       & NA         & NA        \\\\\n",
       "\\end{tabular}\n"
      ],
      "text/markdown": [
       "\n",
       "station | date | CO | NO_2 | O_3 | PM10 | SO_2 | AQ | AIQ | AQNextDay | AIQNextDay | \n",
       "|---|---|---|---|---|---|\n",
       "| 28079001   | 2001-01-02 | 1.243333   | 84.53750   | 12.576667  | 36.92455   | 20.28083   | 84.53750   | FAIR       | NA         | NA         | \n",
       "| 28079001   | 2001-01-03 | 1.242917   | 79.75125   | 10.961250  | 37.21292   | 16.23917   | 79.75125   | FAIR       | NA         | NA         | \n",
       "| 28079001   | 2001-01-04 | 1.134167   | 75.39250   | 12.002917  | 35.03667   | 16.75125   | 75.39250   | FAIR       | NA         | NA         | \n",
       "| 28079001   | 2001-01-05 | 1.535833   | 77.14083   |  8.755833  | 34.27625   | 16.00958   | 77.14083   | FAIR       | NA         | NA         | \n",
       "| 28079001   | 2001-01-06 | 1.009167   | 64.47708   | 13.955417  | 17.03792   | 15.35417   | 64.47708   | GOOD       | NA         | NA         | \n",
       "| 28079001   | 2001-01-07 | 1.016250   | 67.06125   | 12.776250  | 20.45500   | 18.43042   | 67.06125   | FAIR       | NA         | NA         | \n",
       "\n",
       "\n"
      ],
      "text/plain": [
       "  station  date       CO       NO_2     O_3       PM10     SO_2     AQ      \n",
       "1 28079001 2001-01-02 1.243333 84.53750 12.576667 36.92455 20.28083 84.53750\n",
       "2 28079001 2001-01-03 1.242917 79.75125 10.961250 37.21292 16.23917 79.75125\n",
       "3 28079001 2001-01-04 1.134167 75.39250 12.002917 35.03667 16.75125 75.39250\n",
       "4 28079001 2001-01-05 1.535833 77.14083  8.755833 34.27625 16.00958 77.14083\n",
       "5 28079001 2001-01-06 1.009167 64.47708 13.955417 17.03792 15.35417 64.47708\n",
       "6 28079001 2001-01-07 1.016250 67.06125 12.776250 20.45500 18.43042 67.06125\n",
       "  AIQ  AQNextDay AIQNextDay\n",
       "1 FAIR NA        NA        \n",
       "2 FAIR NA        NA        \n",
       "3 FAIR NA        NA        \n",
       "4 FAIR NA        NA        \n",
       "5 GOOD NA        NA        \n",
       "6 FAIR NA        NA        "
      ]
     },
     "metadata": {},
     "output_type": "display_data"
    }
   ],
   "source": [
    "#Preparamos para discretizar el siguiente dia\n",
    "madrid[,\"AQNextDay\"] <- NA\n",
    "madrid[,\"AIQNextDay\"] <- NA\n",
    "head(madrid)"
   ]
  },
  {
   "cell_type": "code",
   "execution_count": 263,
   "metadata": {},
   "outputs": [
    {
     "data": {
      "text/html": [
       "<table>\n",
       "<thead><tr><th scope=col>station</th><th scope=col>date</th><th scope=col>CO</th><th scope=col>NO_2</th><th scope=col>O_3</th><th scope=col>PM10</th><th scope=col>SO_2</th><th scope=col>AQ</th><th scope=col>AIQ</th><th scope=col>AQNextDay</th><th scope=col>AIQNextDay</th></tr></thead>\n",
       "<tbody>\n",
       "\t<tr><td>28079001  </td><td>2001-01-02</td><td>1.243333  </td><td>84.53750  </td><td>12.576667 </td><td>36.92455  </td><td>20.28083  </td><td>84.53750  </td><td>FAIR      </td><td>79.75125  </td><td>FAIR      </td></tr>\n",
       "\t<tr><td>28079001  </td><td>2001-01-03</td><td>1.242917  </td><td>79.75125  </td><td>10.961250 </td><td>37.21292  </td><td>16.23917  </td><td>79.75125  </td><td>FAIR      </td><td>75.39250  </td><td>FAIR      </td></tr>\n",
       "\t<tr><td>28079001  </td><td>2001-01-04</td><td>1.134167  </td><td>75.39250  </td><td>12.002917 </td><td>35.03667  </td><td>16.75125  </td><td>75.39250  </td><td>FAIR      </td><td>77.14083  </td><td>FAIR      </td></tr>\n",
       "\t<tr><td>28079001  </td><td>2001-01-05</td><td>1.535833  </td><td>77.14083  </td><td> 8.755833 </td><td>34.27625  </td><td>16.00958  </td><td>77.14083  </td><td>FAIR      </td><td>64.47708  </td><td>GOOD      </td></tr>\n",
       "\t<tr><td>28079001  </td><td>2001-01-06</td><td>1.009167  </td><td>64.47708  </td><td>13.955417 </td><td>17.03792  </td><td>15.35417  </td><td>64.47708  </td><td>GOOD      </td><td>67.06125  </td><td>FAIR      </td></tr>\n",
       "\t<tr><td>28079001  </td><td>2001-01-07</td><td>1.016250  </td><td>67.06125  </td><td>12.776250 </td><td>20.45500  </td><td>18.43042  </td><td>67.06125  </td><td>FAIR      </td><td>92.57000  </td><td>FAIR      </td></tr>\n",
       "</tbody>\n",
       "</table>\n"
      ],
      "text/latex": [
       "\\begin{tabular}{r|lllllllllll}\n",
       " station & date & CO & NO\\_2 & O\\_3 & PM10 & SO\\_2 & AQ & AIQ & AQNextDay & AIQNextDay\\\\\n",
       "\\hline\n",
       "\t 28079001   & 2001-01-02 & 1.243333   & 84.53750   & 12.576667  & 36.92455   & 20.28083   & 84.53750   & FAIR       & 79.75125   & FAIR      \\\\\n",
       "\t 28079001   & 2001-01-03 & 1.242917   & 79.75125   & 10.961250  & 37.21292   & 16.23917   & 79.75125   & FAIR       & 75.39250   & FAIR      \\\\\n",
       "\t 28079001   & 2001-01-04 & 1.134167   & 75.39250   & 12.002917  & 35.03667   & 16.75125   & 75.39250   & FAIR       & 77.14083   & FAIR      \\\\\n",
       "\t 28079001   & 2001-01-05 & 1.535833   & 77.14083   &  8.755833  & 34.27625   & 16.00958   & 77.14083   & FAIR       & 64.47708   & GOOD      \\\\\n",
       "\t 28079001   & 2001-01-06 & 1.009167   & 64.47708   & 13.955417  & 17.03792   & 15.35417   & 64.47708   & GOOD       & 67.06125   & FAIR      \\\\\n",
       "\t 28079001   & 2001-01-07 & 1.016250   & 67.06125   & 12.776250  & 20.45500   & 18.43042   & 67.06125   & FAIR       & 92.57000   & FAIR      \\\\\n",
       "\\end{tabular}\n"
      ],
      "text/markdown": [
       "\n",
       "station | date | CO | NO_2 | O_3 | PM10 | SO_2 | AQ | AIQ | AQNextDay | AIQNextDay | \n",
       "|---|---|---|---|---|---|\n",
       "| 28079001   | 2001-01-02 | 1.243333   | 84.53750   | 12.576667  | 36.92455   | 20.28083   | 84.53750   | FAIR       | 79.75125   | FAIR       | \n",
       "| 28079001   | 2001-01-03 | 1.242917   | 79.75125   | 10.961250  | 37.21292   | 16.23917   | 79.75125   | FAIR       | 75.39250   | FAIR       | \n",
       "| 28079001   | 2001-01-04 | 1.134167   | 75.39250   | 12.002917  | 35.03667   | 16.75125   | 75.39250   | FAIR       | 77.14083   | FAIR       | \n",
       "| 28079001   | 2001-01-05 | 1.535833   | 77.14083   |  8.755833  | 34.27625   | 16.00958   | 77.14083   | FAIR       | 64.47708   | GOOD       | \n",
       "| 28079001   | 2001-01-06 | 1.009167   | 64.47708   | 13.955417  | 17.03792   | 15.35417   | 64.47708   | GOOD       | 67.06125   | FAIR       | \n",
       "| 28079001   | 2001-01-07 | 1.016250   | 67.06125   | 12.776250  | 20.45500   | 18.43042   | 67.06125   | FAIR       | 92.57000   | FAIR       | \n",
       "\n",
       "\n"
      ],
      "text/plain": [
       "  station  date       CO       NO_2     O_3       PM10     SO_2     AQ      \n",
       "1 28079001 2001-01-02 1.243333 84.53750 12.576667 36.92455 20.28083 84.53750\n",
       "2 28079001 2001-01-03 1.242917 79.75125 10.961250 37.21292 16.23917 79.75125\n",
       "3 28079001 2001-01-04 1.134167 75.39250 12.002917 35.03667 16.75125 75.39250\n",
       "4 28079001 2001-01-05 1.535833 77.14083  8.755833 34.27625 16.00958 77.14083\n",
       "5 28079001 2001-01-06 1.009167 64.47708 13.955417 17.03792 15.35417 64.47708\n",
       "6 28079001 2001-01-07 1.016250 67.06125 12.776250 20.45500 18.43042 67.06125\n",
       "  AIQ  AQNextDay AIQNextDay\n",
       "1 FAIR 79.75125  FAIR      \n",
       "2 FAIR 75.39250  FAIR      \n",
       "3 FAIR 77.14083  FAIR      \n",
       "4 FAIR 64.47708  GOOD      \n",
       "5 GOOD 67.06125  FAIR      \n",
       "6 FAIR 92.57000  FAIR      "
      ]
     },
     "metadata": {},
     "output_type": "display_data"
    }
   ],
   "source": [
    "#Discretizamos el día siguiente\n",
    "madrid$AQNextDay <- c(madrid$AQ[-1],NA)\n",
    "madrid$AIQNextDay <- c(madrid$AIQ[-1],NA)\n",
    "\n",
    "madrid02<- madrid #lo guardamos para la siguiente version\n",
    "head(madrid)"
   ]
  },
  {
   "cell_type": "markdown",
   "metadata": {},
   "source": [
    "#### Discretizamos el volumen de precipitaciones"
   ]
  },
  {
   "cell_type": "markdown",
   "metadata": {},
   "source": [
    "Para ello nos guiraremos de la siguiente tabla, de cada fila se escogerá la cantidad y se comparara con la tabla adjunta:"
   ]
  },
  {
   "attachments": {},
   "cell_type": "markdown",
   "metadata": {},
   "source": [
    "![rainfall.png](rainfall.png)"
   ]
  },
  {
   "cell_type": "code",
   "execution_count": 264,
   "metadata": {},
   "outputs": [
    {
     "data": {
      "text/html": [
       "<table>\n",
       "<thead><tr><th scope=col>date</th><th scope=col>quantity</th><th scope=col>rainfallVolume</th></tr></thead>\n",
       "<tbody>\n",
       "\t<tr><td>2001-01-01</td><td> 4.3      </td><td> 4.3      </td></tr>\n",
       "\t<tr><td>2001-01-02</td><td> 0.1      </td><td> 0.1      </td></tr>\n",
       "\t<tr><td>2001-01-03</td><td> 2.2      </td><td> 2.2      </td></tr>\n",
       "\t<tr><td>2001-01-04</td><td> 2.4      </td><td> 2.4      </td></tr>\n",
       "\t<tr><td>2001-01-05</td><td>13.3      </td><td>13.3      </td></tr>\n",
       "\t<tr><td>2001-01-06</td><td> 0.0      </td><td> 0.0      </td></tr>\n",
       "</tbody>\n",
       "</table>\n"
      ],
      "text/latex": [
       "\\begin{tabular}{r|lll}\n",
       " date & quantity & rainfallVolume\\\\\n",
       "\\hline\n",
       "\t 2001-01-01 &  4.3       &  4.3      \\\\\n",
       "\t 2001-01-02 &  0.1       &  0.1      \\\\\n",
       "\t 2001-01-03 &  2.2       &  2.2      \\\\\n",
       "\t 2001-01-04 &  2.4       &  2.4      \\\\\n",
       "\t 2001-01-05 & 13.3       & 13.3      \\\\\n",
       "\t 2001-01-06 &  0.0       &  0.0      \\\\\n",
       "\\end{tabular}\n"
      ],
      "text/markdown": [
       "\n",
       "date | quantity | rainfallVolume | \n",
       "|---|---|---|---|---|---|\n",
       "| 2001-01-01 |  4.3       |  4.3       | \n",
       "| 2001-01-02 |  0.1       |  0.1       | \n",
       "| 2001-01-03 |  2.2       |  2.2       | \n",
       "| 2001-01-04 |  2.4       |  2.4       | \n",
       "| 2001-01-05 | 13.3       | 13.3       | \n",
       "| 2001-01-06 |  0.0       |  0.0       | \n",
       "\n",
       "\n"
      ],
      "text/plain": [
       "  date       quantity rainfallVolume\n",
       "1 2001-01-01  4.3      4.3          \n",
       "2 2001-01-02  0.1      0.1          \n",
       "3 2001-01-03  2.2      2.2          \n",
       "4 2001-01-04  2.4      2.4          \n",
       "5 2001-01-05 13.3     13.3          \n",
       "6 2001-01-06  0.0      0.0          "
      ]
     },
     "metadata": {},
     "output_type": "display_data"
    }
   ],
   "source": [
    "#Preparamos para discretizar\n",
    "rainfall[,\"rainfallVolume\"] <- rainfall$quantity\n",
    "head(rainfall)"
   ]
  },
  {
   "cell_type": "code",
   "execution_count": 265,
   "metadata": {},
   "outputs": [
    {
     "data": {
      "text/html": [
       "<table>\n",
       "<thead><tr><th scope=col>date</th><th scope=col>quantity</th><th scope=col>rainfallVolume</th></tr></thead>\n",
       "<tbody>\n",
       "\t<tr><td>2001-01-01</td><td> 4.3      </td><td>MODERATE  </td></tr>\n",
       "\t<tr><td>2001-01-02</td><td> 0.1      </td><td>WEAK      </td></tr>\n",
       "\t<tr><td>2001-01-03</td><td> 2.2      </td><td>MODERATE  </td></tr>\n",
       "\t<tr><td>2001-01-04</td><td> 2.4      </td><td>MODERATE  </td></tr>\n",
       "\t<tr><td>2001-01-05</td><td>13.3      </td><td>MODERATE  </td></tr>\n",
       "\t<tr><td>2001-01-06</td><td> 0.0      </td><td>WEAK      </td></tr>\n",
       "</tbody>\n",
       "</table>\n"
      ],
      "text/latex": [
       "\\begin{tabular}{r|lll}\n",
       " date & quantity & rainfallVolume\\\\\n",
       "\\hline\n",
       "\t 2001-01-01 &  4.3       & MODERATE  \\\\\n",
       "\t 2001-01-02 &  0.1       & WEAK      \\\\\n",
       "\t 2001-01-03 &  2.2       & MODERATE  \\\\\n",
       "\t 2001-01-04 &  2.4       & MODERATE  \\\\\n",
       "\t 2001-01-05 & 13.3       & MODERATE  \\\\\n",
       "\t 2001-01-06 &  0.0       & WEAK      \\\\\n",
       "\\end{tabular}\n"
      ],
      "text/markdown": [
       "\n",
       "date | quantity | rainfallVolume | \n",
       "|---|---|---|---|---|---|\n",
       "| 2001-01-01 |  4.3       | MODERATE   | \n",
       "| 2001-01-02 |  0.1       | WEAK       | \n",
       "| 2001-01-03 |  2.2       | MODERATE   | \n",
       "| 2001-01-04 |  2.4       | MODERATE   | \n",
       "| 2001-01-05 | 13.3       | MODERATE   | \n",
       "| 2001-01-06 |  0.0       | WEAK       | \n",
       "\n",
       "\n"
      ],
      "text/plain": [
       "  date       quantity rainfallVolume\n",
       "1 2001-01-01  4.3     MODERATE      \n",
       "2 2001-01-02  0.1     WEAK          \n",
       "3 2001-01-03  2.2     MODERATE      \n",
       "4 2001-01-04  2.4     MODERATE      \n",
       "5 2001-01-05 13.3     MODERATE      \n",
       "6 2001-01-06  0.0     WEAK          "
      ]
     },
     "metadata": {},
     "output_type": "display_data"
    },
    {
     "data": {
      "text/html": [
       "<table>\n",
       "<thead><tr><th></th><th scope=col>date</th><th scope=col>quantity</th><th scope=col>rainfallVolume</th></tr></thead>\n",
       "<tbody>\n",
       "\t<tr><th scope=row>5933</th><td>2018-12-26</td><td>0         </td><td>WEAK      </td></tr>\n",
       "\t<tr><th scope=row>5934</th><td>2018-12-27</td><td>0         </td><td>WEAK      </td></tr>\n",
       "\t<tr><th scope=row>5935</th><td>2018-12-28</td><td>0         </td><td>WEAK      </td></tr>\n",
       "\t<tr><th scope=row>5936</th><td>2018-12-29</td><td>0         </td><td>WEAK      </td></tr>\n",
       "\t<tr><th scope=row>5937</th><td>2018-12-30</td><td>0         </td><td>WEAK      </td></tr>\n",
       "\t<tr><th scope=row>5938</th><td>2018-12-31</td><td>0         </td><td>WEAK      </td></tr>\n",
       "</tbody>\n",
       "</table>\n"
      ],
      "text/latex": [
       "\\begin{tabular}{r|lll}\n",
       "  & date & quantity & rainfallVolume\\\\\n",
       "\\hline\n",
       "\t5933 & 2018-12-26 & 0          & WEAK      \\\\\n",
       "\t5934 & 2018-12-27 & 0          & WEAK      \\\\\n",
       "\t5935 & 2018-12-28 & 0          & WEAK      \\\\\n",
       "\t5936 & 2018-12-29 & 0          & WEAK      \\\\\n",
       "\t5937 & 2018-12-30 & 0          & WEAK      \\\\\n",
       "\t5938 & 2018-12-31 & 0          & WEAK      \\\\\n",
       "\\end{tabular}\n"
      ],
      "text/markdown": [
       "\n",
       "| <!--/--> | date | quantity | rainfallVolume | \n",
       "|---|---|---|---|---|---|\n",
       "| 5933 | 2018-12-26 | 0          | WEAK       | \n",
       "| 5934 | 2018-12-27 | 0          | WEAK       | \n",
       "| 5935 | 2018-12-28 | 0          | WEAK       | \n",
       "| 5936 | 2018-12-29 | 0          | WEAK       | \n",
       "| 5937 | 2018-12-30 | 0          | WEAK       | \n",
       "| 5938 | 2018-12-31 | 0          | WEAK       | \n",
       "\n",
       "\n"
      ],
      "text/plain": [
       "     date       quantity rainfallVolume\n",
       "5933 2018-12-26 0        WEAK          \n",
       "5934 2018-12-27 0        WEAK          \n",
       "5935 2018-12-28 0        WEAK          \n",
       "5936 2018-12-29 0        WEAK          \n",
       "5937 2018-12-30 0        WEAK          \n",
       "5938 2018-12-31 0        WEAK          "
      ]
     },
     "metadata": {},
     "output_type": "display_data"
    }
   ],
   "source": [
    "#Discretizamos lluvia\n",
    "rainfall <- rainfall %>%\n",
    "        mutate(rainfallVolume = case_when (\n",
    "             \n",
    "        rainfall$rainfallVolume <= 2                                      ~ \"WEAK\",\n",
    "        rainfall$rainfallVolume > 2 & rainfall$rainfallVolume <= 15       ~ \"MODERATE\",\n",
    "        rainfall$rainfallVolume > 15 & rainfall$rainfallVolume <= 30      ~ \"STRONG\",\n",
    "        rainfall$rainfallVolume > 30 & rainfall$rainfallVolume <=60       ~ \"VERY STRONG\",\n",
    "        rainfall$rainfallVolume > 60                                      ~ \"TORRENTIAL RAIN\",\n",
    "        TRUE                                                              ~\"NA\",\n",
    "        ))\n",
    "head(rainfall)\n",
    "tail(rainfall)"
   ]
  },
  {
   "cell_type": "markdown",
   "metadata": {},
   "source": [
    "#### Discretizamos la fuerza del viento"
   ]
  },
  {
   "cell_type": "markdown",
   "metadata": {},
   "source": [
    "Para ello nos guiraremos de la siguiente tabla, de cada fila se escogerá el viento y se comparara con la tabla adjunta:"
   ]
  },
  {
   "attachments": {},
   "cell_type": "markdown",
   "metadata": {},
   "source": [
    "![wind.PNG](wind.PNG)"
   ]
  },
  {
   "cell_type": "markdown",
   "metadata": {},
   "source": [
    "A continuación discretizamos la columna anterior, creando una nueva columna con los siguientes valores:\n",
    "\n",
    "    LIGTH WIND (LW) \n",
    "    ADVISORY FORCE (AF)\n",
    "    GALE FORCE (GF)\n",
    "    STORM FORCE (SF)\n",
    "    HURRICANE FORCE (HF)"
   ]
  },
  {
   "cell_type": "code",
   "execution_count": 266,
   "metadata": {},
   "outputs": [
    {
     "data": {
      "text/html": [
       "<table>\n",
       "<thead><tr><th scope=col>date</th><th scope=col>Speed</th><th scope=col>WindIndexQuality</th></tr></thead>\n",
       "<tbody>\n",
       "\t<tr><td>2001-01-01</td><td>1.1       </td><td>LIGHT WIND</td></tr>\n",
       "\t<tr><td>2001-01-02</td><td>3.6       </td><td>LIGHT WIND</td></tr>\n",
       "\t<tr><td>2001-01-03</td><td>1.7       </td><td>LIGHT WIND</td></tr>\n",
       "\t<tr><td>2001-01-04</td><td>3.3       </td><td>LIGHT WIND</td></tr>\n",
       "\t<tr><td>2001-01-05</td><td>1.1       </td><td>LIGHT WIND</td></tr>\n",
       "\t<tr><td>2001-01-06</td><td>2.5       </td><td>LIGHT WIND</td></tr>\n",
       "</tbody>\n",
       "</table>\n"
      ],
      "text/latex": [
       "\\begin{tabular}{r|lll}\n",
       " date & Speed & WindIndexQuality\\\\\n",
       "\\hline\n",
       "\t 2001-01-01 & 1.1        & LIGHT WIND\\\\\n",
       "\t 2001-01-02 & 3.6        & LIGHT WIND\\\\\n",
       "\t 2001-01-03 & 1.7        & LIGHT WIND\\\\\n",
       "\t 2001-01-04 & 3.3        & LIGHT WIND\\\\\n",
       "\t 2001-01-05 & 1.1        & LIGHT WIND\\\\\n",
       "\t 2001-01-06 & 2.5        & LIGHT WIND\\\\\n",
       "\\end{tabular}\n"
      ],
      "text/markdown": [
       "\n",
       "date | Speed | WindIndexQuality | \n",
       "|---|---|---|---|---|---|\n",
       "| 2001-01-01 | 1.1        | LIGHT WIND | \n",
       "| 2001-01-02 | 3.6        | LIGHT WIND | \n",
       "| 2001-01-03 | 1.7        | LIGHT WIND | \n",
       "| 2001-01-04 | 3.3        | LIGHT WIND | \n",
       "| 2001-01-05 | 1.1        | LIGHT WIND | \n",
       "| 2001-01-06 | 2.5        | LIGHT WIND | \n",
       "\n",
       "\n"
      ],
      "text/plain": [
       "  date       Speed WindIndexQuality\n",
       "1 2001-01-01 1.1   LIGHT WIND      \n",
       "2 2001-01-02 3.6   LIGHT WIND      \n",
       "3 2001-01-03 1.7   LIGHT WIND      \n",
       "4 2001-01-04 3.3   LIGHT WIND      \n",
       "5 2001-01-05 1.1   LIGHT WIND      \n",
       "6 2001-01-06 2.5   LIGHT WIND      "
      ]
     },
     "metadata": {},
     "output_type": "display_data"
    },
    {
     "data": {
      "text/html": [
       "<table>\n",
       "<thead><tr><th></th><th scope=col>date</th><th scope=col>Speed</th><th scope=col>WindIndexQuality</th></tr></thead>\n",
       "<tbody>\n",
       "\t<tr><th scope=row>5854</th><td>2018-12-26</td><td>0.6       </td><td>LIGHT WIND</td></tr>\n",
       "\t<tr><th scope=row>5855</th><td>2018-12-27</td><td>0.6       </td><td>LIGHT WIND</td></tr>\n",
       "\t<tr><th scope=row>5856</th><td>2018-12-28</td><td>1.4       </td><td>LIGHT WIND</td></tr>\n",
       "\t<tr><th scope=row>5857</th><td>2018-12-29</td><td>1.7       </td><td>LIGHT WIND</td></tr>\n",
       "\t<tr><th scope=row>5858</th><td>2018-12-30</td><td>1.1       </td><td>LIGHT WIND</td></tr>\n",
       "\t<tr><th scope=row>5859</th><td>2018-12-31</td><td>0.3       </td><td>LIGHT WIND</td></tr>\n",
       "</tbody>\n",
       "</table>\n"
      ],
      "text/latex": [
       "\\begin{tabular}{r|lll}\n",
       "  & date & Speed & WindIndexQuality\\\\\n",
       "\\hline\n",
       "\t5854 & 2018-12-26 & 0.6        & LIGHT WIND\\\\\n",
       "\t5855 & 2018-12-27 & 0.6        & LIGHT WIND\\\\\n",
       "\t5856 & 2018-12-28 & 1.4        & LIGHT WIND\\\\\n",
       "\t5857 & 2018-12-29 & 1.7        & LIGHT WIND\\\\\n",
       "\t5858 & 2018-12-30 & 1.1        & LIGHT WIND\\\\\n",
       "\t5859 & 2018-12-31 & 0.3        & LIGHT WIND\\\\\n",
       "\\end{tabular}\n"
      ],
      "text/markdown": [
       "\n",
       "| <!--/--> | date | Speed | WindIndexQuality | \n",
       "|---|---|---|---|---|---|\n",
       "| 5854 | 2018-12-26 | 0.6        | LIGHT WIND | \n",
       "| 5855 | 2018-12-27 | 0.6        | LIGHT WIND | \n",
       "| 5856 | 2018-12-28 | 1.4        | LIGHT WIND | \n",
       "| 5857 | 2018-12-29 | 1.7        | LIGHT WIND | \n",
       "| 5858 | 2018-12-30 | 1.1        | LIGHT WIND | \n",
       "| 5859 | 2018-12-31 | 0.3        | LIGHT WIND | \n",
       "\n",
       "\n"
      ],
      "text/plain": [
       "     date       Speed WindIndexQuality\n",
       "5854 2018-12-26 0.6   LIGHT WIND      \n",
       "5855 2018-12-27 0.6   LIGHT WIND      \n",
       "5856 2018-12-28 1.4   LIGHT WIND      \n",
       "5857 2018-12-29 1.7   LIGHT WIND      \n",
       "5858 2018-12-30 1.1   LIGHT WIND      \n",
       "5859 2018-12-31 0.3   LIGHT WIND      "
      ]
     },
     "metadata": {},
     "output_type": "display_data"
    }
   ],
   "source": [
    "#Discretizamos el viento\n",
    "wind[,\"WindIndexQuality\"] <- wind$Speed\n",
    "wind <- wind %>%\n",
    "        mutate(WindIndexQuality = case_when (\n",
    "        \n",
    "        WindIndexQuality >=0.0 & WindIndexQuality  <=10.7       ~\"LIGHT WIND\",\n",
    "        WindIndexQuality >=10.8 & WindIndexQuality <=17.1       ~\"ADVISORY FORCE\",\n",
    "        WindIndexQuality >=17.2 & WindIndexQuality <=24.4       ~\"GALE FORCE\",\n",
    "        WindIndexQuality >=24.5 & WindIndexQuality <=32.6       ~\"STORM FORCE\",\n",
    "        WindIndexQuality >=32.7                                 ~\"HURRICANE FORCE\",\n",
    "        TRUE                                                    ~\"NA\",\n",
    "        ))\n",
    "head(wind)\n",
    "tail(wind)"
   ]
  },
  {
   "cell_type": "markdown",
   "metadata": {},
   "source": [
    "#### Cruzamos los datos"
   ]
  },
  {
   "cell_type": "markdown",
   "metadata": {},
   "source": [
    "Finalmente como último paso previo a la aplicación del modelo se unieron todos los datos en un único dataframe"
   ]
  },
  {
   "cell_type": "code",
   "execution_count": 267,
   "metadata": {},
   "outputs": [
    {
     "data": {
      "text/html": [
       "<table>\n",
       "<thead><tr><th></th><th scope=col>date</th><th scope=col>station</th><th scope=col>CO</th><th scope=col>NO_2</th><th scope=col>O_3</th><th scope=col>PM10</th><th scope=col>SO_2</th><th scope=col>AQ</th><th scope=col>AIQ</th><th scope=col>AQNextDay</th><th scope=col>AIQNextDay</th><th scope=col>quantity</th><th scope=col>rainfallVolume</th></tr></thead>\n",
       "<tbody>\n",
       "\t<tr><th scope=row>32</th><td>2001-01-02</td><td>28079001  </td><td>1.243333  </td><td>84.53750  </td><td>12.576667 </td><td>36.92455  </td><td>20.28083  </td><td>84.53750  </td><td>FAIR      </td><td>79.75125  </td><td>FAIR      </td><td> 0.1      </td><td>WEAK      </td></tr>\n",
       "\t<tr><th scope=row>57</th><td>2001-01-03</td><td>28079001  </td><td>1.242917  </td><td>79.75125  </td><td>10.961250 </td><td>37.21292  </td><td>16.23917  </td><td>79.75125  </td><td>FAIR      </td><td>75.39250  </td><td>FAIR      </td><td> 2.2      </td><td>MODERATE  </td></tr>\n",
       "\t<tr><th scope=row>80</th><td>2001-01-04</td><td>28079001  </td><td>1.134167  </td><td>75.39250  </td><td>12.002917 </td><td>35.03667  </td><td>16.75125  </td><td>75.39250  </td><td>FAIR      </td><td>77.14083  </td><td>FAIR      </td><td> 2.4      </td><td>MODERATE  </td></tr>\n",
       "\t<tr><th scope=row>116</th><td>2001-01-05</td><td>28079001  </td><td>1.535833  </td><td>77.14083  </td><td> 8.755833 </td><td>34.27625  </td><td>16.00958  </td><td>77.14083  </td><td>FAIR      </td><td>64.47708  </td><td>GOOD      </td><td>13.3      </td><td>MODERATE  </td></tr>\n",
       "\t<tr><th scope=row>138</th><td>2001-01-06</td><td>28079001  </td><td>1.009167  </td><td>64.47708  </td><td>13.955417 </td><td>17.03792  </td><td>15.35417  </td><td>64.47708  </td><td>GOOD      </td><td>67.06125  </td><td>FAIR      </td><td> 0.0      </td><td>WEAK      </td></tr>\n",
       "\t<tr><th scope=row>168</th><td>2001-01-07</td><td>28079001  </td><td>1.016250  </td><td>67.06125  </td><td>12.776250 </td><td>20.45500  </td><td>18.43042  </td><td>67.06125  </td><td>FAIR      </td><td>92.57000  </td><td>FAIR      </td><td> 0.0      </td><td>WEAK      </td></tr>\n",
       "</tbody>\n",
       "</table>\n"
      ],
      "text/latex": [
       "\\begin{tabular}{r|lllllllllllll}\n",
       "  & date & station & CO & NO\\_2 & O\\_3 & PM10 & SO\\_2 & AQ & AIQ & AQNextDay & AIQNextDay & quantity & rainfallVolume\\\\\n",
       "\\hline\n",
       "\t32 & 2001-01-02 & 28079001   & 1.243333   & 84.53750   & 12.576667  & 36.92455   & 20.28083   & 84.53750   & FAIR       & 79.75125   & FAIR       &  0.1       & WEAK      \\\\\n",
       "\t57 & 2001-01-03 & 28079001   & 1.242917   & 79.75125   & 10.961250  & 37.21292   & 16.23917   & 79.75125   & FAIR       & 75.39250   & FAIR       &  2.2       & MODERATE  \\\\\n",
       "\t80 & 2001-01-04 & 28079001   & 1.134167   & 75.39250   & 12.002917  & 35.03667   & 16.75125   & 75.39250   & FAIR       & 77.14083   & FAIR       &  2.4       & MODERATE  \\\\\n",
       "\t116 & 2001-01-05 & 28079001   & 1.535833   & 77.14083   &  8.755833  & 34.27625   & 16.00958   & 77.14083   & FAIR       & 64.47708   & GOOD       & 13.3       & MODERATE  \\\\\n",
       "\t138 & 2001-01-06 & 28079001   & 1.009167   & 64.47708   & 13.955417  & 17.03792   & 15.35417   & 64.47708   & GOOD       & 67.06125   & FAIR       &  0.0       & WEAK      \\\\\n",
       "\t168 & 2001-01-07 & 28079001   & 1.016250   & 67.06125   & 12.776250  & 20.45500   & 18.43042   & 67.06125   & FAIR       & 92.57000   & FAIR       &  0.0       & WEAK      \\\\\n",
       "\\end{tabular}\n"
      ],
      "text/markdown": [
       "\n",
       "| <!--/--> | date | station | CO | NO_2 | O_3 | PM10 | SO_2 | AQ | AIQ | AQNextDay | AIQNextDay | quantity | rainfallVolume | \n",
       "|---|---|---|---|---|---|\n",
       "| 32 | 2001-01-02 | 28079001   | 1.243333   | 84.53750   | 12.576667  | 36.92455   | 20.28083   | 84.53750   | FAIR       | 79.75125   | FAIR       |  0.1       | WEAK       | \n",
       "| 57 | 2001-01-03 | 28079001   | 1.242917   | 79.75125   | 10.961250  | 37.21292   | 16.23917   | 79.75125   | FAIR       | 75.39250   | FAIR       |  2.2       | MODERATE   | \n",
       "| 80 | 2001-01-04 | 28079001   | 1.134167   | 75.39250   | 12.002917  | 35.03667   | 16.75125   | 75.39250   | FAIR       | 77.14083   | FAIR       |  2.4       | MODERATE   | \n",
       "| 116 | 2001-01-05 | 28079001   | 1.535833   | 77.14083   |  8.755833  | 34.27625   | 16.00958   | 77.14083   | FAIR       | 64.47708   | GOOD       | 13.3       | MODERATE   | \n",
       "| 138 | 2001-01-06 | 28079001   | 1.009167   | 64.47708   | 13.955417  | 17.03792   | 15.35417   | 64.47708   | GOOD       | 67.06125   | FAIR       |  0.0       | WEAK       | \n",
       "| 168 | 2001-01-07 | 28079001   | 1.016250   | 67.06125   | 12.776250  | 20.45500   | 18.43042   | 67.06125   | FAIR       | 92.57000   | FAIR       |  0.0       | WEAK       | \n",
       "\n",
       "\n"
      ],
      "text/plain": [
       "    date       station  CO       NO_2     O_3       PM10     SO_2     AQ      \n",
       "32  2001-01-02 28079001 1.243333 84.53750 12.576667 36.92455 20.28083 84.53750\n",
       "57  2001-01-03 28079001 1.242917 79.75125 10.961250 37.21292 16.23917 79.75125\n",
       "80  2001-01-04 28079001 1.134167 75.39250 12.002917 35.03667 16.75125 75.39250\n",
       "116 2001-01-05 28079001 1.535833 77.14083  8.755833 34.27625 16.00958 77.14083\n",
       "138 2001-01-06 28079001 1.009167 64.47708 13.955417 17.03792 15.35417 64.47708\n",
       "168 2001-01-07 28079001 1.016250 67.06125 12.776250 20.45500 18.43042 67.06125\n",
       "    AIQ  AQNextDay AIQNextDay quantity rainfallVolume\n",
       "32  FAIR 79.75125  FAIR        0.1     WEAK          \n",
       "57  FAIR 75.39250  FAIR        2.2     MODERATE      \n",
       "80  FAIR 77.14083  FAIR        2.4     MODERATE      \n",
       "116 FAIR 64.47708  GOOD       13.3     MODERATE      \n",
       "138 GOOD 67.06125  FAIR        0.0     WEAK          \n",
       "168 FAIR 92.57000  FAIR        0.0     WEAK          "
      ]
     },
     "metadata": {},
     "output_type": "display_data"
    }
   ],
   "source": [
    "# Cruzamos los datos de las precipitaciones y la contaminacion por fecha \n",
    "version01 <- merge ( x = madrid, y = rainfall, by = \"date\")\n",
    "version01 <- version01[order(version01$station),]\n",
    "head(version01)"
   ]
  },
  {
   "cell_type": "code",
   "execution_count": 268,
   "metadata": {},
   "outputs": [
    {
     "data": {
      "text/html": [
       "<table>\n",
       "<thead><tr><th></th><th scope=col>date</th><th scope=col>station</th><th scope=col>CO</th><th scope=col>NO_2</th><th scope=col>O_3</th><th scope=col>PM10</th><th scope=col>SO_2</th><th scope=col>AQ</th><th scope=col>AIQ</th><th scope=col>AQNextDay</th><th scope=col>AIQNextDay</th><th scope=col>quantity</th><th scope=col>rainfallVolume</th><th scope=col>Speed</th><th scope=col>WindIndexQuality</th></tr></thead>\n",
       "<tbody>\n",
       "\t<tr><th scope=row>35</th><td>2001-01-02</td><td>28079001  </td><td>1.243333  </td><td>84.53750  </td><td>12.576667 </td><td>36.92455  </td><td>20.28083  </td><td>84.53750  </td><td>FAIR      </td><td>79.75125  </td><td>FAIR      </td><td> 0.1      </td><td>WEAK      </td><td>3.6       </td><td>LIGHT WIND</td></tr>\n",
       "\t<tr><th scope=row>63</th><td>2001-01-03</td><td>28079001  </td><td>1.242917  </td><td>79.75125  </td><td>10.961250 </td><td>37.21292  </td><td>16.23917  </td><td>79.75125  </td><td>FAIR      </td><td>75.39250  </td><td>FAIR      </td><td> 2.2      </td><td>MODERATE  </td><td>1.7       </td><td>LIGHT WIND</td></tr>\n",
       "\t<tr><th scope=row>95</th><td>2001-01-04</td><td>28079001  </td><td>1.134167  </td><td>75.39250  </td><td>12.002917 </td><td>35.03667  </td><td>16.75125  </td><td>75.39250  </td><td>FAIR      </td><td>77.14083  </td><td>FAIR      </td><td> 2.4      </td><td>MODERATE  </td><td>3.3       </td><td>LIGHT WIND</td></tr>\n",
       "\t<tr><th scope=row>106</th><td>2001-01-05</td><td>28079001  </td><td>1.535833  </td><td>77.14083  </td><td> 8.755833 </td><td>34.27625  </td><td>16.00958  </td><td>77.14083  </td><td>FAIR      </td><td>64.47708  </td><td>GOOD      </td><td>13.3      </td><td>MODERATE  </td><td>1.1       </td><td>LIGHT WIND</td></tr>\n",
       "\t<tr><th scope=row>126</th><td>2001-01-06</td><td>28079001  </td><td>1.009167  </td><td>64.47708  </td><td>13.955417 </td><td>17.03792  </td><td>15.35417  </td><td>64.47708  </td><td>GOOD      </td><td>67.06125  </td><td>FAIR      </td><td> 0.0      </td><td>WEAK      </td><td>2.5       </td><td>LIGHT WIND</td></tr>\n",
       "\t<tr><th scope=row>162</th><td>2001-01-07</td><td>28079001  </td><td>1.016250  </td><td>67.06125  </td><td>12.776250 </td><td>20.45500  </td><td>18.43042  </td><td>67.06125  </td><td>FAIR      </td><td>92.57000  </td><td>FAIR      </td><td> 0.0      </td><td>WEAK      </td><td>2.2       </td><td>LIGHT WIND</td></tr>\n",
       "</tbody>\n",
       "</table>\n"
      ],
      "text/latex": [
       "\\begin{tabular}{r|lllllllllllllll}\n",
       "  & date & station & CO & NO\\_2 & O\\_3 & PM10 & SO\\_2 & AQ & AIQ & AQNextDay & AIQNextDay & quantity & rainfallVolume & Speed & WindIndexQuality\\\\\n",
       "\\hline\n",
       "\t35 & 2001-01-02 & 28079001   & 1.243333   & 84.53750   & 12.576667  & 36.92455   & 20.28083   & 84.53750   & FAIR       & 79.75125   & FAIR       &  0.1       & WEAK       & 3.6        & LIGHT WIND\\\\\n",
       "\t63 & 2001-01-03 & 28079001   & 1.242917   & 79.75125   & 10.961250  & 37.21292   & 16.23917   & 79.75125   & FAIR       & 75.39250   & FAIR       &  2.2       & MODERATE   & 1.7        & LIGHT WIND\\\\\n",
       "\t95 & 2001-01-04 & 28079001   & 1.134167   & 75.39250   & 12.002917  & 35.03667   & 16.75125   & 75.39250   & FAIR       & 77.14083   & FAIR       &  2.4       & MODERATE   & 3.3        & LIGHT WIND\\\\\n",
       "\t106 & 2001-01-05 & 28079001   & 1.535833   & 77.14083   &  8.755833  & 34.27625   & 16.00958   & 77.14083   & FAIR       & 64.47708   & GOOD       & 13.3       & MODERATE   & 1.1        & LIGHT WIND\\\\\n",
       "\t126 & 2001-01-06 & 28079001   & 1.009167   & 64.47708   & 13.955417  & 17.03792   & 15.35417   & 64.47708   & GOOD       & 67.06125   & FAIR       &  0.0       & WEAK       & 2.5        & LIGHT WIND\\\\\n",
       "\t162 & 2001-01-07 & 28079001   & 1.016250   & 67.06125   & 12.776250  & 20.45500   & 18.43042   & 67.06125   & FAIR       & 92.57000   & FAIR       &  0.0       & WEAK       & 2.2        & LIGHT WIND\\\\\n",
       "\\end{tabular}\n"
      ],
      "text/markdown": [
       "\n",
       "| <!--/--> | date | station | CO | NO_2 | O_3 | PM10 | SO_2 | AQ | AIQ | AQNextDay | AIQNextDay | quantity | rainfallVolume | Speed | WindIndexQuality | \n",
       "|---|---|---|---|---|---|\n",
       "| 35 | 2001-01-02 | 28079001   | 1.243333   | 84.53750   | 12.576667  | 36.92455   | 20.28083   | 84.53750   | FAIR       | 79.75125   | FAIR       |  0.1       | WEAK       | 3.6        | LIGHT WIND | \n",
       "| 63 | 2001-01-03 | 28079001   | 1.242917   | 79.75125   | 10.961250  | 37.21292   | 16.23917   | 79.75125   | FAIR       | 75.39250   | FAIR       |  2.2       | MODERATE   | 1.7        | LIGHT WIND | \n",
       "| 95 | 2001-01-04 | 28079001   | 1.134167   | 75.39250   | 12.002917  | 35.03667   | 16.75125   | 75.39250   | FAIR       | 77.14083   | FAIR       |  2.4       | MODERATE   | 3.3        | LIGHT WIND | \n",
       "| 106 | 2001-01-05 | 28079001   | 1.535833   | 77.14083   |  8.755833  | 34.27625   | 16.00958   | 77.14083   | FAIR       | 64.47708   | GOOD       | 13.3       | MODERATE   | 1.1        | LIGHT WIND | \n",
       "| 126 | 2001-01-06 | 28079001   | 1.009167   | 64.47708   | 13.955417  | 17.03792   | 15.35417   | 64.47708   | GOOD       | 67.06125   | FAIR       |  0.0       | WEAK       | 2.5        | LIGHT WIND | \n",
       "| 162 | 2001-01-07 | 28079001   | 1.016250   | 67.06125   | 12.776250  | 20.45500   | 18.43042   | 67.06125   | FAIR       | 92.57000   | FAIR       |  0.0       | WEAK       | 2.2        | LIGHT WIND | \n",
       "\n",
       "\n"
      ],
      "text/plain": [
       "    date       station  CO       NO_2     O_3       PM10     SO_2     AQ      \n",
       "35  2001-01-02 28079001 1.243333 84.53750 12.576667 36.92455 20.28083 84.53750\n",
       "63  2001-01-03 28079001 1.242917 79.75125 10.961250 37.21292 16.23917 79.75125\n",
       "95  2001-01-04 28079001 1.134167 75.39250 12.002917 35.03667 16.75125 75.39250\n",
       "106 2001-01-05 28079001 1.535833 77.14083  8.755833 34.27625 16.00958 77.14083\n",
       "126 2001-01-06 28079001 1.009167 64.47708 13.955417 17.03792 15.35417 64.47708\n",
       "162 2001-01-07 28079001 1.016250 67.06125 12.776250 20.45500 18.43042 67.06125\n",
       "    AIQ  AQNextDay AIQNextDay quantity rainfallVolume Speed WindIndexQuality\n",
       "35  FAIR 79.75125  FAIR        0.1     WEAK           3.6   LIGHT WIND      \n",
       "63  FAIR 75.39250  FAIR        2.2     MODERATE       1.7   LIGHT WIND      \n",
       "95  FAIR 77.14083  FAIR        2.4     MODERATE       3.3   LIGHT WIND      \n",
       "106 FAIR 64.47708  GOOD       13.3     MODERATE       1.1   LIGHT WIND      \n",
       "126 GOOD 67.06125  FAIR        0.0     WEAK           2.5   LIGHT WIND      \n",
       "162 FAIR 92.57000  FAIR        0.0     WEAK           2.2   LIGHT WIND      "
      ]
     },
     "metadata": {},
     "output_type": "display_data"
    }
   ],
   "source": [
    "# Cruzamos los datos con el viento\n",
    "version01 <- merge ( x = version01, y = wind, by = \"date\",)\n",
    "version01 <- version01[order(version01$station),]\n",
    "head(version01)"
   ]
  },
  {
   "cell_type": "markdown",
   "metadata": {},
   "source": [
    "### Preparación para el modelo version02"
   ]
  },
  {
   "cell_type": "markdown",
   "metadata": {},
   "source": [
    "Para esta parte del estudio, se han obtenido los cuartiles correspondientes a la precipitación y contaminación anual para discretizar el mismo"
   ]
  },
  {
   "cell_type": "code",
   "execution_count": 269,
   "metadata": {},
   "outputs": [
    {
     "data": {
      "text/html": [
       "<table>\n",
       "<thead><tr><th scope=col>month</th><th scope=col>year</th><th scope=col>CO</th><th scope=col>NO_2</th><th scope=col>O_3</th><th scope=col>PM10</th><th scope=col>SO_2</th><th scope=col>totalPollution</th></tr></thead>\n",
       "<tbody>\n",
       "\t<tr><td>01       </td><td>2001     </td><td>1.1599895</td><td>57.09584 </td><td>19.48279 </td><td>28.36042 </td><td>25.03678 </td><td>131.1358 </td></tr>\n",
       "\t<tr><td>01       </td><td>2002     </td><td>1.1613879</td><td>73.93776 </td><td>11.36514 </td><td>35.05234 </td><td>24.10764 </td><td>145.6243 </td></tr>\n",
       "\t<tr><td>01       </td><td>2003     </td><td>0.8837084</td><td>60.00333 </td><td>21.33468 </td><td>27.47519 </td><td>17.94549 </td><td>127.6424 </td></tr>\n",
       "\t<tr><td>01       </td><td>2004     </td><td>0.8502713</td><td>62.50563 </td><td>14.14384 </td><td>32.30979 </td><td>17.33414 </td><td>127.1437 </td></tr>\n",
       "\t<tr><td>01       </td><td>2005     </td><td>1.0244072</td><td>80.94088 </td><td>15.30101 </td><td>40.85559 </td><td>22.75261 </td><td>160.8745 </td></tr>\n",
       "\t<tr><td>01       </td><td>2006     </td><td>0.7408129</td><td>70.50429 </td><td>16.04197 </td><td>29.45637 </td><td>15.14368 </td><td>131.8871 </td></tr>\n",
       "</tbody>\n",
       "</table>\n"
      ],
      "text/latex": [
       "\\begin{tabular}{r|llllllll}\n",
       " month & year & CO & NO\\_2 & O\\_3 & PM10 & SO\\_2 & totalPollution\\\\\n",
       "\\hline\n",
       "\t 01        & 2001      & 1.1599895 & 57.09584  & 19.48279  & 28.36042  & 25.03678  & 131.1358 \\\\\n",
       "\t 01        & 2002      & 1.1613879 & 73.93776  & 11.36514  & 35.05234  & 24.10764  & 145.6243 \\\\\n",
       "\t 01        & 2003      & 0.8837084 & 60.00333  & 21.33468  & 27.47519  & 17.94549  & 127.6424 \\\\\n",
       "\t 01        & 2004      & 0.8502713 & 62.50563  & 14.14384  & 32.30979  & 17.33414  & 127.1437 \\\\\n",
       "\t 01        & 2005      & 1.0244072 & 80.94088  & 15.30101  & 40.85559  & 22.75261  & 160.8745 \\\\\n",
       "\t 01        & 2006      & 0.7408129 & 70.50429  & 16.04197  & 29.45637  & 15.14368  & 131.8871 \\\\\n",
       "\\end{tabular}\n"
      ],
      "text/markdown": [
       "\n",
       "month | year | CO | NO_2 | O_3 | PM10 | SO_2 | totalPollution | \n",
       "|---|---|---|---|---|---|\n",
       "| 01        | 2001      | 1.1599895 | 57.09584  | 19.48279  | 28.36042  | 25.03678  | 131.1358  | \n",
       "| 01        | 2002      | 1.1613879 | 73.93776  | 11.36514  | 35.05234  | 24.10764  | 145.6243  | \n",
       "| 01        | 2003      | 0.8837084 | 60.00333  | 21.33468  | 27.47519  | 17.94549  | 127.6424  | \n",
       "| 01        | 2004      | 0.8502713 | 62.50563  | 14.14384  | 32.30979  | 17.33414  | 127.1437  | \n",
       "| 01        | 2005      | 1.0244072 | 80.94088  | 15.30101  | 40.85559  | 22.75261  | 160.8745  | \n",
       "| 01        | 2006      | 0.7408129 | 70.50429  | 16.04197  | 29.45637  | 15.14368  | 131.8871  | \n",
       "\n",
       "\n"
      ],
      "text/plain": [
       "  month year CO        NO_2     O_3      PM10     SO_2     totalPollution\n",
       "1 01    2001 1.1599895 57.09584 19.48279 28.36042 25.03678 131.1358      \n",
       "2 01    2002 1.1613879 73.93776 11.36514 35.05234 24.10764 145.6243      \n",
       "3 01    2003 0.8837084 60.00333 21.33468 27.47519 17.94549 127.6424      \n",
       "4 01    2004 0.8502713 62.50563 14.14384 32.30979 17.33414 127.1437      \n",
       "5 01    2005 1.0244072 80.94088 15.30101 40.85559 22.75261 160.8745      \n",
       "6 01    2006 0.7408129 70.50429 16.04197 29.45637 15.14368 131.8871      "
      ]
     },
     "metadata": {},
     "output_type": "display_data"
    }
   ],
   "source": [
    "#Preparamos la versión 02\n",
    "head(pollutionMonth)"
   ]
  },
  {
   "cell_type": "markdown",
   "metadata": {},
   "source": [
    "#### Discretizacion con cuartiles"
   ]
  },
  {
   "cell_type": "code",
   "execution_count": 270,
   "metadata": {},
   "outputs": [
    {
     "data": {
      "text/plain": [
       "   Min. 1st Qu.  Median    Mean 3rd Qu.    Max. \n",
       "  64.41   81.68  118.48  110.60  136.86  180.02 "
      ]
     },
     "metadata": {},
     "output_type": "display_data"
    }
   ],
   "source": [
    "#Obtenemos cuartiles\n",
    "summary(pollutionMonth$totalPollution)"
   ]
  },
  {
   "cell_type": "markdown",
   "metadata": {},
   "source": [
    "Discretizamos cuartiles"
   ]
  },
  {
   "cell_type": "code",
   "execution_count": 271,
   "metadata": {},
   "outputs": [],
   "source": [
    "madrid_cuart <- pollutionMonth"
   ]
  },
  {
   "cell_type": "code",
   "execution_count": 272,
   "metadata": {},
   "outputs": [
    {
     "data": {
      "text/html": [
       "<table>\n",
       "<thead><tr><th scope=col>CO</th><th scope=col>NO_2</th><th scope=col>O_3</th><th scope=col>PM10</th><th scope=col>SO_2</th><th scope=col>totalPollution</th><th scope=col>calidadAire</th><th scope=col>date</th></tr></thead>\n",
       "<tbody>\n",
       "\t<tr><td>1.1599895</td><td>57.09584 </td><td>19.48279 </td><td>28.36042 </td><td>25.03678 </td><td>131.1358 </td><td>BAJA     </td><td>ene. 2001</td></tr>\n",
       "\t<tr><td>1.1613879</td><td>73.93776 </td><td>11.36514 </td><td>35.05234 </td><td>24.10764 </td><td>145.6243 </td><td>MUY BAJA </td><td>ene. 2002</td></tr>\n",
       "\t<tr><td>0.8837084</td><td>60.00333 </td><td>21.33468 </td><td>27.47519 </td><td>17.94549 </td><td>127.6424 </td><td>BAJA     </td><td>ene. 2003</td></tr>\n",
       "\t<tr><td>0.8502713</td><td>62.50563 </td><td>14.14384 </td><td>32.30979 </td><td>17.33414 </td><td>127.1437 </td><td>BAJA     </td><td>ene. 2004</td></tr>\n",
       "\t<tr><td>1.0244072</td><td>80.94088 </td><td>15.30101 </td><td>40.85559 </td><td>22.75261 </td><td>160.8745 </td><td>MUY BAJA </td><td>ene. 2005</td></tr>\n",
       "\t<tr><td>0.7408129</td><td>70.50429 </td><td>16.04197 </td><td>29.45637 </td><td>15.14368 </td><td>131.8871 </td><td>BAJA     </td><td>ene. 2006</td></tr>\n",
       "</tbody>\n",
       "</table>\n"
      ],
      "text/latex": [
       "\\begin{tabular}{r|llllllll}\n",
       " CO & NO\\_2 & O\\_3 & PM10 & SO\\_2 & totalPollution & calidadAire & date\\\\\n",
       "\\hline\n",
       "\t 1.1599895 & 57.09584  & 19.48279  & 28.36042  & 25.03678  & 131.1358  & BAJA      & ene. 2001\\\\\n",
       "\t 1.1613879 & 73.93776  & 11.36514  & 35.05234  & 24.10764  & 145.6243  & MUY BAJA  & ene. 2002\\\\\n",
       "\t 0.8837084 & 60.00333  & 21.33468  & 27.47519  & 17.94549  & 127.6424  & BAJA      & ene. 2003\\\\\n",
       "\t 0.8502713 & 62.50563  & 14.14384  & 32.30979  & 17.33414  & 127.1437  & BAJA      & ene. 2004\\\\\n",
       "\t 1.0244072 & 80.94088  & 15.30101  & 40.85559  & 22.75261  & 160.8745  & MUY BAJA  & ene. 2005\\\\\n",
       "\t 0.7408129 & 70.50429  & 16.04197  & 29.45637  & 15.14368  & 131.8871  & BAJA      & ene. 2006\\\\\n",
       "\\end{tabular}\n"
      ],
      "text/markdown": [
       "\n",
       "CO | NO_2 | O_3 | PM10 | SO_2 | totalPollution | calidadAire | date | \n",
       "|---|---|---|---|---|---|\n",
       "| 1.1599895 | 57.09584  | 19.48279  | 28.36042  | 25.03678  | 131.1358  | BAJA      | ene. 2001 | \n",
       "| 1.1613879 | 73.93776  | 11.36514  | 35.05234  | 24.10764  | 145.6243  | MUY BAJA  | ene. 2002 | \n",
       "| 0.8837084 | 60.00333  | 21.33468  | 27.47519  | 17.94549  | 127.6424  | BAJA      | ene. 2003 | \n",
       "| 0.8502713 | 62.50563  | 14.14384  | 32.30979  | 17.33414  | 127.1437  | BAJA      | ene. 2004 | \n",
       "| 1.0244072 | 80.94088  | 15.30101  | 40.85559  | 22.75261  | 160.8745  | MUY BAJA  | ene. 2005 | \n",
       "| 0.7408129 | 70.50429  | 16.04197  | 29.45637  | 15.14368  | 131.8871  | BAJA      | ene. 2006 | \n",
       "\n",
       "\n"
      ],
      "text/plain": [
       "  CO        NO_2     O_3      PM10     SO_2     totalPollution calidadAire\n",
       "1 1.1599895 57.09584 19.48279 28.36042 25.03678 131.1358       BAJA       \n",
       "2 1.1613879 73.93776 11.36514 35.05234 24.10764 145.6243       MUY BAJA   \n",
       "3 0.8837084 60.00333 21.33468 27.47519 17.94549 127.6424       BAJA       \n",
       "4 0.8502713 62.50563 14.14384 32.30979 17.33414 127.1437       BAJA       \n",
       "5 1.0244072 80.94088 15.30101 40.85559 22.75261 160.8745       MUY BAJA   \n",
       "6 0.7408129 70.50429 16.04197 29.45637 15.14368 131.8871       BAJA       \n",
       "  date     \n",
       "1 ene. 2001\n",
       "2 ene. 2002\n",
       "3 ene. 2003\n",
       "4 ene. 2004\n",
       "5 ene. 2005\n",
       "6 ene. 2006"
      ]
     },
     "metadata": {},
     "output_type": "display_data"
    }
   ],
   "source": [
    "#Discretizamos cuartiles\n",
    "madrid_cuart$calidadAire <- madrid_cuart$totalPollution\n",
    "\n",
    "madrid_cuart <- madrid_cuart %>%\n",
    "        mutate(calidadAire = case_when (\n",
    "        calidadAire <  81.68                               ~\"ALTA\",\n",
    "        calidadAire >= 81.68  & calidadAire < 110.60       ~\"MEDIA\",\n",
    "        calidadAire >= 110.60 & calidadAire < 136.86       ~\"BAJA\",\n",
    "        calidadAire >= 136.86                            ~\"MUY BAJA\",\n",
    "        TRUE                                               ~\"NA\",\n",
    "        ))\n",
    "madrid_cuart$date <- as.yearmon(paste(madrid_cuart$year, madrid_cuart$month), \"%Y %m\")\n",
    "madrid_cuart$month=NULL\n",
    "madrid_cuart$year=NULL\n",
    "head(madrid_cuart)"
   ]
  },
  {
   "cell_type": "code",
   "execution_count": 273,
   "metadata": {},
   "outputs": [
    {
     "data": {
      "text/plain": [
       "   Min. 1st Qu.  Median    Mean 3rd Qu.    Max. \n",
       " 0.0000  0.2034  0.6300  1.0984  1.5935 11.9226 "
      ]
     },
     "metadata": {},
     "output_type": "display_data"
    }
   ],
   "source": [
    "#Obtenemos cuartiles\n",
    "summary(rainfallMonth$quantity)"
   ]
  },
  {
   "cell_type": "code",
   "execution_count": 274,
   "metadata": {},
   "outputs": [
    {
     "data": {
      "text/html": [
       "<table>\n",
       "<thead><tr><th scope=col>quantity</th><th scope=col>lluvia</th><th scope=col>date</th></tr></thead>\n",
       "<tbody>\n",
       "\t<tr><td>2.1387097</td><td>FUERTE   </td><td>ene. 2001</td></tr>\n",
       "\t<tr><td>2.2517241</td><td>FUERTE   </td><td>ene. 2002</td></tr>\n",
       "\t<tr><td>1.2838710</td><td>MODERADA </td><td>ene. 2003</td></tr>\n",
       "\t<tr><td>0.2225806</td><td>MODERADA </td><td>ene. 2004</td></tr>\n",
       "\t<tr><td>0.0000000</td><td>DEBIL    </td><td>ene. 2005</td></tr>\n",
       "\t<tr><td>0.3548387</td><td>MODERADA </td><td>ene. 2006</td></tr>\n",
       "\t<tr><td>0.4222222</td><td>MODERADA </td><td>ene. 2007</td></tr>\n",
       "\t<tr><td>0.0000000</td><td>DEBIL    </td><td>ene. 2008</td></tr>\n",
       "\t<tr><td>0.6458333</td><td>MODERADA </td><td>ene. 2009</td></tr>\n",
       "\t<tr><td>1.8400000</td><td>FUERTE   </td><td>ene. 2010</td></tr>\n",
       "\t<tr><td>0.2500000</td><td>MODERADA </td><td>ene. 2011</td></tr>\n",
       "\t<tr><td>0.2225806</td><td>MODERADA </td><td>ene. 2012</td></tr>\n",
       "</tbody>\n",
       "</table>\n"
      ],
      "text/latex": [
       "\\begin{tabular}{r|lll}\n",
       " quantity & lluvia & date\\\\\n",
       "\\hline\n",
       "\t 2.1387097 & FUERTE    & ene. 2001\\\\\n",
       "\t 2.2517241 & FUERTE    & ene. 2002\\\\\n",
       "\t 1.2838710 & MODERADA  & ene. 2003\\\\\n",
       "\t 0.2225806 & MODERADA  & ene. 2004\\\\\n",
       "\t 0.0000000 & DEBIL     & ene. 2005\\\\\n",
       "\t 0.3548387 & MODERADA  & ene. 2006\\\\\n",
       "\t 0.4222222 & MODERADA  & ene. 2007\\\\\n",
       "\t 0.0000000 & DEBIL     & ene. 2008\\\\\n",
       "\t 0.6458333 & MODERADA  & ene. 2009\\\\\n",
       "\t 1.8400000 & FUERTE    & ene. 2010\\\\\n",
       "\t 0.2500000 & MODERADA  & ene. 2011\\\\\n",
       "\t 0.2225806 & MODERADA  & ene. 2012\\\\\n",
       "\\end{tabular}\n"
      ],
      "text/markdown": [
       "\n",
       "quantity | lluvia | date | \n",
       "|---|---|---|---|---|---|---|---|---|---|---|---|\n",
       "| 2.1387097 | FUERTE    | ene. 2001 | \n",
       "| 2.2517241 | FUERTE    | ene. 2002 | \n",
       "| 1.2838710 | MODERADA  | ene. 2003 | \n",
       "| 0.2225806 | MODERADA  | ene. 2004 | \n",
       "| 0.0000000 | DEBIL     | ene. 2005 | \n",
       "| 0.3548387 | MODERADA  | ene. 2006 | \n",
       "| 0.4222222 | MODERADA  | ene. 2007 | \n",
       "| 0.0000000 | DEBIL     | ene. 2008 | \n",
       "| 0.6458333 | MODERADA  | ene. 2009 | \n",
       "| 1.8400000 | FUERTE    | ene. 2010 | \n",
       "| 0.2500000 | MODERADA  | ene. 2011 | \n",
       "| 0.2225806 | MODERADA  | ene. 2012 | \n",
       "\n",
       "\n"
      ],
      "text/plain": [
       "   quantity  lluvia   date     \n",
       "1  2.1387097 FUERTE   ene. 2001\n",
       "2  2.2517241 FUERTE   ene. 2002\n",
       "3  1.2838710 MODERADA ene. 2003\n",
       "4  0.2225806 MODERADA ene. 2004\n",
       "5  0.0000000 DEBIL    ene. 2005\n",
       "6  0.3548387 MODERADA ene. 2006\n",
       "7  0.4222222 MODERADA ene. 2007\n",
       "8  0.0000000 DEBIL    ene. 2008\n",
       "9  0.6458333 MODERADA ene. 2009\n",
       "10 1.8400000 FUERTE   ene. 2010\n",
       "11 0.2500000 MODERADA ene. 2011\n",
       "12 0.2225806 MODERADA ene. 2012"
      ]
     },
     "metadata": {},
     "output_type": "display_data"
    }
   ],
   "source": [
    "#Discretizamos lluvia por cuartiles\n",
    "rainfall_cuart <- rainfallMonth\n",
    "rainfall_cuart$lluvia <- rainfall_cuart$quantity\n",
    "\n",
    "rainfall_cuart <- rainfall_cuart %>%\n",
    "        mutate(lluvia = case_when (\n",
    "        lluvia <= 0.2034                       ~\"DEBIL\",\n",
    "        lluvia > 0.2034 & lluvia <=1.5935      ~\"MODERADA\",\n",
    "        lluvia > 1.5935                        ~\"FUERTE\",\n",
    "        TRUE                                   ~\"NA\",\n",
    "        ))\n",
    "\n",
    "rainfall_cuart$date <- as.yearmon(paste(rainfall_cuart$year, rainfall_cuart$month), \"%Y %m\")\n",
    "rainfall_cuart$month=NULL\n",
    "rainfall_cuart$year=NULL\n",
    "head(rainfall_cuart, n = 12)"
   ]
  },
  {
   "cell_type": "code",
   "execution_count": 275,
   "metadata": {},
   "outputs": [
    {
     "data": {
      "text/html": [
       "<table>\n",
       "<thead><tr><th scope=col>date</th><th scope=col>CO</th><th scope=col>NO_2</th><th scope=col>O_3</th><th scope=col>PM10</th><th scope=col>SO_2</th><th scope=col>totalPollution</th><th scope=col>calidadAire</th><th scope=col>quantity</th><th scope=col>lluvia</th></tr></thead>\n",
       "<tbody>\n",
       "\t<tr><td>ene. 2001</td><td>1.1599895</td><td>57.09584 </td><td>19.48279 </td><td>28.36042 </td><td>25.03678 </td><td>131.1358 </td><td>BAJA     </td><td>2.1387097</td><td>FUERTE   </td></tr>\n",
       "\t<tr><td>feb. 2001</td><td>1.2319305</td><td>64.67620 </td><td>20.53339 </td><td>34.69526 </td><td>29.09892 </td><td>150.2357 </td><td>MUY BAJA </td><td>0.1214286</td><td>DEBIL    </td></tr>\n",
       "\t<tr><td>mar. 2001</td><td>0.8318802</td><td>49.26138 </td><td>28.89632 </td><td>23.20452 </td><td>18.42624 </td><td>120.6203 </td><td>BAJA     </td><td>2.0903226</td><td>FUERTE   </td></tr>\n",
       "\t<tr><td>abr. 2001</td><td>0.6788641</td><td>52.85142 </td><td>40.29320 </td><td>25.29923 </td><td>15.15104 </td><td>134.2738 </td><td>BAJA     </td><td>0.2034483</td><td>MODERADA </td></tr>\n",
       "\t<tr><td>may. 2001</td><td>0.7728507</td><td>64.12986 </td><td>41.05985 </td><td>28.86099 </td><td>14.71505 </td><td>149.5386 </td><td>MUY BAJA </td><td>2.0068966</td><td>FUERTE   </td></tr>\n",
       "\t<tr><td>jun. 2001</td><td>0.7225184</td><td>67.03988 </td><td>45.59141 </td><td>37.66015 </td><td>15.09062 </td><td>166.1046 </td><td>MUY BAJA </td><td>0.1700000</td><td>DEBIL    </td></tr>\n",
       "</tbody>\n",
       "</table>\n"
      ],
      "text/latex": [
       "\\begin{tabular}{r|llllllllll}\n",
       " date & CO & NO\\_2 & O\\_3 & PM10 & SO\\_2 & totalPollution & calidadAire & quantity & lluvia\\\\\n",
       "\\hline\n",
       "\t ene. 2001 & 1.1599895 & 57.09584  & 19.48279  & 28.36042  & 25.03678  & 131.1358  & BAJA      & 2.1387097 & FUERTE   \\\\\n",
       "\t feb. 2001 & 1.2319305 & 64.67620  & 20.53339  & 34.69526  & 29.09892  & 150.2357  & MUY BAJA  & 0.1214286 & DEBIL    \\\\\n",
       "\t mar. 2001 & 0.8318802 & 49.26138  & 28.89632  & 23.20452  & 18.42624  & 120.6203  & BAJA      & 2.0903226 & FUERTE   \\\\\n",
       "\t abr. 2001 & 0.6788641 & 52.85142  & 40.29320  & 25.29923  & 15.15104  & 134.2738  & BAJA      & 0.2034483 & MODERADA \\\\\n",
       "\t may. 2001 & 0.7728507 & 64.12986  & 41.05985  & 28.86099  & 14.71505  & 149.5386  & MUY BAJA  & 2.0068966 & FUERTE   \\\\\n",
       "\t jun. 2001 & 0.7225184 & 67.03988  & 45.59141  & 37.66015  & 15.09062  & 166.1046  & MUY BAJA  & 0.1700000 & DEBIL    \\\\\n",
       "\\end{tabular}\n"
      ],
      "text/markdown": [
       "\n",
       "date | CO | NO_2 | O_3 | PM10 | SO_2 | totalPollution | calidadAire | quantity | lluvia | \n",
       "|---|---|---|---|---|---|\n",
       "| ene. 2001 | 1.1599895 | 57.09584  | 19.48279  | 28.36042  | 25.03678  | 131.1358  | BAJA      | 2.1387097 | FUERTE    | \n",
       "| feb. 2001 | 1.2319305 | 64.67620  | 20.53339  | 34.69526  | 29.09892  | 150.2357  | MUY BAJA  | 0.1214286 | DEBIL     | \n",
       "| mar. 2001 | 0.8318802 | 49.26138  | 28.89632  | 23.20452  | 18.42624  | 120.6203  | BAJA      | 2.0903226 | FUERTE    | \n",
       "| abr. 2001 | 0.6788641 | 52.85142  | 40.29320  | 25.29923  | 15.15104  | 134.2738  | BAJA      | 0.2034483 | MODERADA  | \n",
       "| may. 2001 | 0.7728507 | 64.12986  | 41.05985  | 28.86099  | 14.71505  | 149.5386  | MUY BAJA  | 2.0068966 | FUERTE    | \n",
       "| jun. 2001 | 0.7225184 | 67.03988  | 45.59141  | 37.66015  | 15.09062  | 166.1046  | MUY BAJA  | 0.1700000 | DEBIL     | \n",
       "\n",
       "\n"
      ],
      "text/plain": [
       "  date      CO        NO_2     O_3      PM10     SO_2     totalPollution\n",
       "1 ene. 2001 1.1599895 57.09584 19.48279 28.36042 25.03678 131.1358      \n",
       "2 feb. 2001 1.2319305 64.67620 20.53339 34.69526 29.09892 150.2357      \n",
       "3 mar. 2001 0.8318802 49.26138 28.89632 23.20452 18.42624 120.6203      \n",
       "4 abr. 2001 0.6788641 52.85142 40.29320 25.29923 15.15104 134.2738      \n",
       "5 may. 2001 0.7728507 64.12986 41.05985 28.86099 14.71505 149.5386      \n",
       "6 jun. 2001 0.7225184 67.03988 45.59141 37.66015 15.09062 166.1046      \n",
       "  calidadAire quantity  lluvia  \n",
       "1 BAJA        2.1387097 FUERTE  \n",
       "2 MUY BAJA    0.1214286 DEBIL   \n",
       "3 BAJA        2.0903226 FUERTE  \n",
       "4 BAJA        0.2034483 MODERADA\n",
       "5 MUY BAJA    2.0068966 FUERTE  \n",
       "6 MUY BAJA    0.1700000 DEBIL   "
      ]
     },
     "metadata": {},
     "output_type": "display_data"
    }
   ],
   "source": [
    "# Cruzamos los datos de las precipitaciones y la contaminacion por fecha \n",
    "version02 <- merge ( x = madrid_cuart, y = rainfall_cuart,by = \"date\")\n",
    "version02<- version02[order(version02$date),]\n",
    "head(version02)"
   ]
  },
  {
   "cell_type": "code",
   "execution_count": 276,
   "metadata": {},
   "outputs": [
    {
     "data": {
      "text/html": [
       "-0.161772372508254"
      ],
      "text/latex": [
       "-0.161772372508254"
      ],
      "text/markdown": [
       "-0.161772372508254"
      ],
      "text/plain": [
       "[1] -0.1617724"
      ]
     },
     "metadata": {},
     "output_type": "display_data"
    }
   ],
   "source": [
    "cor(x = version02$totalPollution, y = version02$quantity, use=\"complete.obs\")"
   ]
  },
  {
   "cell_type": "markdown",
   "metadata": {},
   "source": [
    "### Preparación para el modelo version03"
   ]
  },
  {
   "cell_type": "code",
   "execution_count": 277,
   "metadata": {},
   "outputs": [
    {
     "data": {
      "text/html": [
       "<table>\n",
       "<thead><tr><th scope=col>station</th><th scope=col>date</th><th scope=col>CO</th><th scope=col>NO_2</th><th scope=col>O_3</th><th scope=col>PM10</th><th scope=col>SO_2</th><th scope=col>AQ</th><th scope=col>AQNextDay</th></tr></thead>\n",
       "<tbody>\n",
       "\t<tr><td>28079001  </td><td>2001-01-02</td><td>1.243333  </td><td>84.53750  </td><td>12.576667 </td><td>36.92455  </td><td>20.28083  </td><td>84.53750  </td><td>79.75125  </td></tr>\n",
       "\t<tr><td>28079001  </td><td>2001-01-03</td><td>1.242917  </td><td>79.75125  </td><td>10.961250 </td><td>37.21292  </td><td>16.23917  </td><td>79.75125  </td><td>75.39250  </td></tr>\n",
       "\t<tr><td>28079001  </td><td>2001-01-04</td><td>1.134167  </td><td>75.39250  </td><td>12.002917 </td><td>35.03667  </td><td>16.75125  </td><td>75.39250  </td><td>77.14083  </td></tr>\n",
       "\t<tr><td>28079001  </td><td>2001-01-05</td><td>1.535833  </td><td>77.14083  </td><td> 8.755833 </td><td>34.27625  </td><td>16.00958  </td><td>77.14083  </td><td>64.47708  </td></tr>\n",
       "\t<tr><td>28079001  </td><td>2001-01-06</td><td>1.009167  </td><td>64.47708  </td><td>13.955417 </td><td>17.03792  </td><td>15.35417  </td><td>64.47708  </td><td>67.06125  </td></tr>\n",
       "\t<tr><td>28079001  </td><td>2001-01-07</td><td>1.016250  </td><td>67.06125  </td><td>12.776250 </td><td>20.45500  </td><td>18.43042  </td><td>67.06125  </td><td>92.57000  </td></tr>\n",
       "</tbody>\n",
       "</table>\n"
      ],
      "text/latex": [
       "\\begin{tabular}{r|lllllllll}\n",
       " station & date & CO & NO\\_2 & O\\_3 & PM10 & SO\\_2 & AQ & AQNextDay\\\\\n",
       "\\hline\n",
       "\t 28079001   & 2001-01-02 & 1.243333   & 84.53750   & 12.576667  & 36.92455   & 20.28083   & 84.53750   & 79.75125  \\\\\n",
       "\t 28079001   & 2001-01-03 & 1.242917   & 79.75125   & 10.961250  & 37.21292   & 16.23917   & 79.75125   & 75.39250  \\\\\n",
       "\t 28079001   & 2001-01-04 & 1.134167   & 75.39250   & 12.002917  & 35.03667   & 16.75125   & 75.39250   & 77.14083  \\\\\n",
       "\t 28079001   & 2001-01-05 & 1.535833   & 77.14083   &  8.755833  & 34.27625   & 16.00958   & 77.14083   & 64.47708  \\\\\n",
       "\t 28079001   & 2001-01-06 & 1.009167   & 64.47708   & 13.955417  & 17.03792   & 15.35417   & 64.47708   & 67.06125  \\\\\n",
       "\t 28079001   & 2001-01-07 & 1.016250   & 67.06125   & 12.776250  & 20.45500   & 18.43042   & 67.06125   & 92.57000  \\\\\n",
       "\\end{tabular}\n"
      ],
      "text/markdown": [
       "\n",
       "station | date | CO | NO_2 | O_3 | PM10 | SO_2 | AQ | AQNextDay | \n",
       "|---|---|---|---|---|---|\n",
       "| 28079001   | 2001-01-02 | 1.243333   | 84.53750   | 12.576667  | 36.92455   | 20.28083   | 84.53750   | 79.75125   | \n",
       "| 28079001   | 2001-01-03 | 1.242917   | 79.75125   | 10.961250  | 37.21292   | 16.23917   | 79.75125   | 75.39250   | \n",
       "| 28079001   | 2001-01-04 | 1.134167   | 75.39250   | 12.002917  | 35.03667   | 16.75125   | 75.39250   | 77.14083   | \n",
       "| 28079001   | 2001-01-05 | 1.535833   | 77.14083   |  8.755833  | 34.27625   | 16.00958   | 77.14083   | 64.47708   | \n",
       "| 28079001   | 2001-01-06 | 1.009167   | 64.47708   | 13.955417  | 17.03792   | 15.35417   | 64.47708   | 67.06125   | \n",
       "| 28079001   | 2001-01-07 | 1.016250   | 67.06125   | 12.776250  | 20.45500   | 18.43042   | 67.06125   | 92.57000   | \n",
       "\n",
       "\n"
      ],
      "text/plain": [
       "  station  date       CO       NO_2     O_3       PM10     SO_2     AQ      \n",
       "1 28079001 2001-01-02 1.243333 84.53750 12.576667 36.92455 20.28083 84.53750\n",
       "2 28079001 2001-01-03 1.242917 79.75125 10.961250 37.21292 16.23917 79.75125\n",
       "3 28079001 2001-01-04 1.134167 75.39250 12.002917 35.03667 16.75125 75.39250\n",
       "4 28079001 2001-01-05 1.535833 77.14083  8.755833 34.27625 16.00958 77.14083\n",
       "5 28079001 2001-01-06 1.009167 64.47708 13.955417 17.03792 15.35417 64.47708\n",
       "6 28079001 2001-01-07 1.016250 67.06125 12.776250 20.45500 18.43042 67.06125\n",
       "  AQNextDay\n",
       "1 79.75125 \n",
       "2 75.39250 \n",
       "3 77.14083 \n",
       "4 64.47708 \n",
       "5 67.06125 \n",
       "6 92.57000 "
      ]
     },
     "metadata": {},
     "output_type": "display_data"
    }
   ],
   "source": [
    "#Preparamos la versión 03\n",
    "madrid02$AIQ = NULL\n",
    "madrid02$AIQNextDay = NULL\n",
    "head(madrid02)"
   ]
  },
  {
   "cell_type": "markdown",
   "metadata": {},
   "source": [
    "Obtenemos información sobre la media y los cuartiles de las mediciones sobre la contaminación del aire"
   ]
  },
  {
   "cell_type": "code",
   "execution_count": 278,
   "metadata": {},
   "outputs": [
    {
     "data": {
      "text/plain": [
       "   Min. 1st Qu.  Median    Mean 3rd Qu.    Max. \n",
       "   0.00   46.03   58.88   60.41   72.92  262.08 "
      ]
     },
     "metadata": {},
     "output_type": "display_data"
    }
   ],
   "source": [
    "#Obtenemos cuartiles\n",
    "summary(madrid02$AQ)"
   ]
  },
  {
   "cell_type": "markdown",
   "metadata": {},
   "source": [
    "#### Discretizamos la calidad del aire "
   ]
  },
  {
   "cell_type": "code",
   "execution_count": 279,
   "metadata": {},
   "outputs": [
    {
     "data": {
      "text/html": [
       "<table>\n",
       "<thead><tr><th scope=col>station</th><th scope=col>date</th><th scope=col>CO</th><th scope=col>NO_2</th><th scope=col>O_3</th><th scope=col>PM10</th><th scope=col>SO_2</th><th scope=col>AQ</th><th scope=col>AQNextDay</th><th scope=col>AIQ</th><th scope=col>AIQNextDay</th></tr></thead>\n",
       "<tbody>\n",
       "\t<tr><td>28079001  </td><td>2001-01-02</td><td>1.243333  </td><td>84.53750  </td><td>12.576667 </td><td>36.92455  </td><td>20.28083  </td><td>84.53750  </td><td>79.75125  </td><td>BAD       </td><td>BAD       </td></tr>\n",
       "\t<tr><td>28079001  </td><td>2001-01-03</td><td>1.242917  </td><td>79.75125  </td><td>10.961250 </td><td>37.21292  </td><td>16.23917  </td><td>79.75125  </td><td>75.39250  </td><td>BAD       </td><td>BAD       </td></tr>\n",
       "\t<tr><td>28079001  </td><td>2001-01-04</td><td>1.134167  </td><td>75.39250  </td><td>12.002917 </td><td>35.03667  </td><td>16.75125  </td><td>75.39250  </td><td>77.14083  </td><td>BAD       </td><td>BAD       </td></tr>\n",
       "\t<tr><td>28079001  </td><td>2001-01-05</td><td>1.535833  </td><td>77.14083  </td><td> 8.755833 </td><td>34.27625  </td><td>16.00958  </td><td>77.14083  </td><td>64.47708  </td><td>BAD       </td><td>MEDIUM    </td></tr>\n",
       "\t<tr><td>28079001  </td><td>2001-01-06</td><td>1.009167  </td><td>64.47708  </td><td>13.955417 </td><td>17.03792  </td><td>15.35417  </td><td>64.47708  </td><td>67.06125  </td><td>MEDIUM    </td><td>MEDIUM    </td></tr>\n",
       "\t<tr><td>28079001  </td><td>2001-01-07</td><td>1.016250  </td><td>67.06125  </td><td>12.776250 </td><td>20.45500  </td><td>18.43042  </td><td>67.06125  </td><td>92.57000  </td><td>MEDIUM    </td><td>BAD       </td></tr>\n",
       "</tbody>\n",
       "</table>\n"
      ],
      "text/latex": [
       "\\begin{tabular}{r|lllllllllll}\n",
       " station & date & CO & NO\\_2 & O\\_3 & PM10 & SO\\_2 & AQ & AQNextDay & AIQ & AIQNextDay\\\\\n",
       "\\hline\n",
       "\t 28079001   & 2001-01-02 & 1.243333   & 84.53750   & 12.576667  & 36.92455   & 20.28083   & 84.53750   & 79.75125   & BAD        & BAD       \\\\\n",
       "\t 28079001   & 2001-01-03 & 1.242917   & 79.75125   & 10.961250  & 37.21292   & 16.23917   & 79.75125   & 75.39250   & BAD        & BAD       \\\\\n",
       "\t 28079001   & 2001-01-04 & 1.134167   & 75.39250   & 12.002917  & 35.03667   & 16.75125   & 75.39250   & 77.14083   & BAD        & BAD       \\\\\n",
       "\t 28079001   & 2001-01-05 & 1.535833   & 77.14083   &  8.755833  & 34.27625   & 16.00958   & 77.14083   & 64.47708   & BAD        & MEDIUM    \\\\\n",
       "\t 28079001   & 2001-01-06 & 1.009167   & 64.47708   & 13.955417  & 17.03792   & 15.35417   & 64.47708   & 67.06125   & MEDIUM     & MEDIUM    \\\\\n",
       "\t 28079001   & 2001-01-07 & 1.016250   & 67.06125   & 12.776250  & 20.45500   & 18.43042   & 67.06125   & 92.57000   & MEDIUM     & BAD       \\\\\n",
       "\\end{tabular}\n"
      ],
      "text/markdown": [
       "\n",
       "station | date | CO | NO_2 | O_3 | PM10 | SO_2 | AQ | AQNextDay | AIQ | AIQNextDay | \n",
       "|---|---|---|---|---|---|\n",
       "| 28079001   | 2001-01-02 | 1.243333   | 84.53750   | 12.576667  | 36.92455   | 20.28083   | 84.53750   | 79.75125   | BAD        | BAD        | \n",
       "| 28079001   | 2001-01-03 | 1.242917   | 79.75125   | 10.961250  | 37.21292   | 16.23917   | 79.75125   | 75.39250   | BAD        | BAD        | \n",
       "| 28079001   | 2001-01-04 | 1.134167   | 75.39250   | 12.002917  | 35.03667   | 16.75125   | 75.39250   | 77.14083   | BAD        | BAD        | \n",
       "| 28079001   | 2001-01-05 | 1.535833   | 77.14083   |  8.755833  | 34.27625   | 16.00958   | 77.14083   | 64.47708   | BAD        | MEDIUM     | \n",
       "| 28079001   | 2001-01-06 | 1.009167   | 64.47708   | 13.955417  | 17.03792   | 15.35417   | 64.47708   | 67.06125   | MEDIUM     | MEDIUM     | \n",
       "| 28079001   | 2001-01-07 | 1.016250   | 67.06125   | 12.776250  | 20.45500   | 18.43042   | 67.06125   | 92.57000   | MEDIUM     | BAD        | \n",
       "\n",
       "\n"
      ],
      "text/plain": [
       "  station  date       CO       NO_2     O_3       PM10     SO_2     AQ      \n",
       "1 28079001 2001-01-02 1.243333 84.53750 12.576667 36.92455 20.28083 84.53750\n",
       "2 28079001 2001-01-03 1.242917 79.75125 10.961250 37.21292 16.23917 79.75125\n",
       "3 28079001 2001-01-04 1.134167 75.39250 12.002917 35.03667 16.75125 75.39250\n",
       "4 28079001 2001-01-05 1.535833 77.14083  8.755833 34.27625 16.00958 77.14083\n",
       "5 28079001 2001-01-06 1.009167 64.47708 13.955417 17.03792 15.35417 64.47708\n",
       "6 28079001 2001-01-07 1.016250 67.06125 12.776250 20.45500 18.43042 67.06125\n",
       "  AQNextDay AIQ    AIQNextDay\n",
       "1 79.75125  BAD    BAD       \n",
       "2 75.39250  BAD    BAD       \n",
       "3 77.14083  BAD    BAD       \n",
       "4 64.47708  BAD    MEDIUM    \n",
       "5 67.06125  MEDIUM MEDIUM    \n",
       "6 92.57000  MEDIUM BAD       "
      ]
     },
     "metadata": {},
     "output_type": "display_data"
    }
   ],
   "source": [
    "#Discretizamos por cuartiles\n",
    "madrid02[,\"AIQ\"] <- madrid02$AQ\n",
    "madrid02[,\"AIQNextDay\"] <- madrid02$AQNextDay\n",
    "\n",
    "madrid02 <- madrid02 %>%\n",
    "        mutate(AIQ = case_when (\n",
    "        \n",
    "        AQ <= 46.03                      ~\"GOOD\",\n",
    "        AQ > 46.03 &  AQ <= 72.92      ~\"MEDIUM\",\n",
    "        AQ > 72.92                       ~\"BAD\",\n",
    "        TRUE                    ~\"NA\",\n",
    "        ))\n",
    "\n",
    "madrid02 <- madrid02 %>%\n",
    "        mutate(AIQNextDay = case_when (\n",
    "        \n",
    "        AQNextDay <= 46.03                      ~\"GOOD\",\n",
    "        AQNextDay > 46.03 &  AQNextDay <= 72.92      ~\"MEDIUM\",\n",
    "        AQNextDay > 72.92                       ~\"BAD\",\n",
    "        TRUE                    ~\"NA\",\n",
    "        ))\n",
    "head(madrid02)"
   ]
  },
  {
   "cell_type": "markdown",
   "metadata": {},
   "source": [
    "Obtenemos información sobre la media y los cuartiles de las mediciones de las precipitaciones"
   ]
  },
  {
   "cell_type": "code",
   "execution_count": 280,
   "metadata": {},
   "outputs": [
    {
     "data": {
      "text/plain": [
       "   Min. 1st Qu.  Median    Mean 3rd Qu.    Max. \n",
       "  0.000   0.000   0.000   1.142   0.000  78.400 "
      ]
     },
     "metadata": {},
     "output_type": "display_data"
    }
   ],
   "source": [
    "#Obtenemos cuartiles\n",
    "summary(rainfall$quantity)"
   ]
  },
  {
   "cell_type": "markdown",
   "metadata": {},
   "source": [
    "#### Discretizamos el volumen de precipitaciones"
   ]
  },
  {
   "cell_type": "code",
   "execution_count": 281,
   "metadata": {},
   "outputs": [
    {
     "data": {
      "text/html": [
       "<table>\n",
       "<thead><tr><th scope=col>date</th><th scope=col>quantity</th><th scope=col>rainfallVolume</th></tr></thead>\n",
       "<tbody>\n",
       "\t<tr><td>2001-01-01</td><td> 4.3      </td><td>HIGH      </td></tr>\n",
       "\t<tr><td>2001-01-02</td><td> 0.1      </td><td>HIGH      </td></tr>\n",
       "\t<tr><td>2001-01-03</td><td> 2.2      </td><td>HIGH      </td></tr>\n",
       "\t<tr><td>2001-01-04</td><td> 2.4      </td><td>HIGH      </td></tr>\n",
       "\t<tr><td>2001-01-05</td><td>13.3      </td><td>HIGH      </td></tr>\n",
       "\t<tr><td>2001-01-06</td><td> 0.0      </td><td>LOW       </td></tr>\n",
       "</tbody>\n",
       "</table>\n"
      ],
      "text/latex": [
       "\\begin{tabular}{r|lll}\n",
       " date & quantity & rainfallVolume\\\\\n",
       "\\hline\n",
       "\t 2001-01-01 &  4.3       & HIGH      \\\\\n",
       "\t 2001-01-02 &  0.1       & HIGH      \\\\\n",
       "\t 2001-01-03 &  2.2       & HIGH      \\\\\n",
       "\t 2001-01-04 &  2.4       & HIGH      \\\\\n",
       "\t 2001-01-05 & 13.3       & HIGH      \\\\\n",
       "\t 2001-01-06 &  0.0       & LOW       \\\\\n",
       "\\end{tabular}\n"
      ],
      "text/markdown": [
       "\n",
       "date | quantity | rainfallVolume | \n",
       "|---|---|---|---|---|---|\n",
       "| 2001-01-01 |  4.3       | HIGH       | \n",
       "| 2001-01-02 |  0.1       | HIGH       | \n",
       "| 2001-01-03 |  2.2       | HIGH       | \n",
       "| 2001-01-04 |  2.4       | HIGH       | \n",
       "| 2001-01-05 | 13.3       | HIGH       | \n",
       "| 2001-01-06 |  0.0       | LOW        | \n",
       "\n",
       "\n"
      ],
      "text/plain": [
       "  date       quantity rainfallVolume\n",
       "1 2001-01-01  4.3     HIGH          \n",
       "2 2001-01-02  0.1     HIGH          \n",
       "3 2001-01-03  2.2     HIGH          \n",
       "4 2001-01-04  2.4     HIGH          \n",
       "5 2001-01-05 13.3     HIGH          \n",
       "6 2001-01-06  0.0     LOW           "
      ]
     },
     "metadata": {},
     "output_type": "display_data"
    }
   ],
   "source": [
    "#Discretizamos precipitaciones\n",
    "rainfall <- rainfall %>%\n",
    "        mutate(rainfallVolume = case_when (\n",
    "             \n",
    "        rainfall$quantity <= 0                                      ~ \"LOW\",\n",
    "        rainfall$quantity > 0       ~ \"HIGH\",\n",
    "        TRUE                                                              ~\"NA\",\n",
    "        ))\n",
    "head(rainfall)"
   ]
  },
  {
   "cell_type": "markdown",
   "metadata": {},
   "source": [
    "Obtenemos información sobre la media y los cuartiles de las mediciones de la velocidadd el viento"
   ]
  },
  {
   "cell_type": "code",
   "execution_count": 282,
   "metadata": {},
   "outputs": [
    {
     "data": {
      "text/plain": [
       "   Min. 1st Qu.  Median    Mean 3rd Qu.    Max. \n",
       "   0.00    0.30    1.10    1.41    2.20    9.20 "
      ]
     },
     "metadata": {},
     "output_type": "display_data"
    }
   ],
   "source": [
    "#Obtenemos por cuartiles\n",
    "summary(wind$Speed)"
   ]
  },
  {
   "cell_type": "markdown",
   "metadata": {},
   "source": [
    "#### Discretizamos la velocidad del viento "
   ]
  },
  {
   "cell_type": "code",
   "execution_count": 283,
   "metadata": {},
   "outputs": [
    {
     "data": {
      "text/html": [
       "<table>\n",
       "<thead><tr><th scope=col>date</th><th scope=col>Speed</th><th scope=col>WindIndexQuality</th></tr></thead>\n",
       "<tbody>\n",
       "\t<tr><td>2001-01-01</td><td>1.1       </td><td>MEDIUM    </td></tr>\n",
       "\t<tr><td>2001-01-02</td><td>3.6       </td><td>HIGH      </td></tr>\n",
       "\t<tr><td>2001-01-03</td><td>1.7       </td><td>MEDIUM    </td></tr>\n",
       "\t<tr><td>2001-01-04</td><td>3.3       </td><td>HIGH      </td></tr>\n",
       "\t<tr><td>2001-01-05</td><td>1.1       </td><td>MEDIUM    </td></tr>\n",
       "\t<tr><td>2001-01-06</td><td>2.5       </td><td>HIGH      </td></tr>\n",
       "</tbody>\n",
       "</table>\n"
      ],
      "text/latex": [
       "\\begin{tabular}{r|lll}\n",
       " date & Speed & WindIndexQuality\\\\\n",
       "\\hline\n",
       "\t 2001-01-01 & 1.1        & MEDIUM    \\\\\n",
       "\t 2001-01-02 & 3.6        & HIGH      \\\\\n",
       "\t 2001-01-03 & 1.7        & MEDIUM    \\\\\n",
       "\t 2001-01-04 & 3.3        & HIGH      \\\\\n",
       "\t 2001-01-05 & 1.1        & MEDIUM    \\\\\n",
       "\t 2001-01-06 & 2.5        & HIGH      \\\\\n",
       "\\end{tabular}\n"
      ],
      "text/markdown": [
       "\n",
       "date | Speed | WindIndexQuality | \n",
       "|---|---|---|---|---|---|\n",
       "| 2001-01-01 | 1.1        | MEDIUM     | \n",
       "| 2001-01-02 | 3.6        | HIGH       | \n",
       "| 2001-01-03 | 1.7        | MEDIUM     | \n",
       "| 2001-01-04 | 3.3        | HIGH       | \n",
       "| 2001-01-05 | 1.1        | MEDIUM     | \n",
       "| 2001-01-06 | 2.5        | HIGH       | \n",
       "\n",
       "\n"
      ],
      "text/plain": [
       "  date       Speed WindIndexQuality\n",
       "1 2001-01-01 1.1   MEDIUM          \n",
       "2 2001-01-02 3.6   HIGH            \n",
       "3 2001-01-03 1.7   MEDIUM          \n",
       "4 2001-01-04 3.3   HIGH            \n",
       "5 2001-01-05 1.1   MEDIUM          \n",
       "6 2001-01-06 2.5   HIGH            "
      ]
     },
     "metadata": {},
     "output_type": "display_data"
    }
   ],
   "source": [
    "#Discretizamos velocidad del viento\n",
    "wind <- wind %>%\n",
    "        mutate(WindIndexQuality = case_when (\n",
    "        \n",
    "        Speed < 0.3                     ~\"LOW\",\n",
    "        Speed >= 0.3 & Speed <= 2.2      ~\"MEDIUM\",\n",
    "        Speed >2.2                      ~\"HIGH\",\n",
    "        TRUE                        ~\"NA\",\n",
    "        ))\n",
    "head(wind)"
   ]
  },
  {
   "cell_type": "code",
   "execution_count": 284,
   "metadata": {},
   "outputs": [
    {
     "data": {
      "text/html": [
       "<table>\n",
       "<thead><tr><th></th><th scope=col>date</th><th scope=col>station</th><th scope=col>CO</th><th scope=col>NO_2</th><th scope=col>O_3</th><th scope=col>PM10</th><th scope=col>SO_2</th><th scope=col>AQ</th><th scope=col>AQNextDay</th><th scope=col>AIQ</th><th scope=col>AIQNextDay</th><th scope=col>quantity</th><th scope=col>rainfallVolume</th></tr></thead>\n",
       "<tbody>\n",
       "\t<tr><th scope=row>32</th><td>2001-01-02</td><td>28079001  </td><td>1.243333  </td><td>84.53750  </td><td>12.576667 </td><td>36.92455  </td><td>20.28083  </td><td>84.53750  </td><td>79.75125  </td><td>BAD       </td><td>BAD       </td><td> 0.1      </td><td>HIGH      </td></tr>\n",
       "\t<tr><th scope=row>57</th><td>2001-01-03</td><td>28079001  </td><td>1.242917  </td><td>79.75125  </td><td>10.961250 </td><td>37.21292  </td><td>16.23917  </td><td>79.75125  </td><td>75.39250  </td><td>BAD       </td><td>BAD       </td><td> 2.2      </td><td>HIGH      </td></tr>\n",
       "\t<tr><th scope=row>80</th><td>2001-01-04</td><td>28079001  </td><td>1.134167  </td><td>75.39250  </td><td>12.002917 </td><td>35.03667  </td><td>16.75125  </td><td>75.39250  </td><td>77.14083  </td><td>BAD       </td><td>BAD       </td><td> 2.4      </td><td>HIGH      </td></tr>\n",
       "\t<tr><th scope=row>116</th><td>2001-01-05</td><td>28079001  </td><td>1.535833  </td><td>77.14083  </td><td> 8.755833 </td><td>34.27625  </td><td>16.00958  </td><td>77.14083  </td><td>64.47708  </td><td>BAD       </td><td>MEDIUM    </td><td>13.3      </td><td>HIGH      </td></tr>\n",
       "\t<tr><th scope=row>138</th><td>2001-01-06</td><td>28079001  </td><td>1.009167  </td><td>64.47708  </td><td>13.955417 </td><td>17.03792  </td><td>15.35417  </td><td>64.47708  </td><td>67.06125  </td><td>MEDIUM    </td><td>MEDIUM    </td><td> 0.0      </td><td>LOW       </td></tr>\n",
       "\t<tr><th scope=row>168</th><td>2001-01-07</td><td>28079001  </td><td>1.016250  </td><td>67.06125  </td><td>12.776250 </td><td>20.45500  </td><td>18.43042  </td><td>67.06125  </td><td>92.57000  </td><td>MEDIUM    </td><td>BAD       </td><td> 0.0      </td><td>LOW       </td></tr>\n",
       "</tbody>\n",
       "</table>\n"
      ],
      "text/latex": [
       "\\begin{tabular}{r|lllllllllllll}\n",
       "  & date & station & CO & NO\\_2 & O\\_3 & PM10 & SO\\_2 & AQ & AQNextDay & AIQ & AIQNextDay & quantity & rainfallVolume\\\\\n",
       "\\hline\n",
       "\t32 & 2001-01-02 & 28079001   & 1.243333   & 84.53750   & 12.576667  & 36.92455   & 20.28083   & 84.53750   & 79.75125   & BAD        & BAD        &  0.1       & HIGH      \\\\\n",
       "\t57 & 2001-01-03 & 28079001   & 1.242917   & 79.75125   & 10.961250  & 37.21292   & 16.23917   & 79.75125   & 75.39250   & BAD        & BAD        &  2.2       & HIGH      \\\\\n",
       "\t80 & 2001-01-04 & 28079001   & 1.134167   & 75.39250   & 12.002917  & 35.03667   & 16.75125   & 75.39250   & 77.14083   & BAD        & BAD        &  2.4       & HIGH      \\\\\n",
       "\t116 & 2001-01-05 & 28079001   & 1.535833   & 77.14083   &  8.755833  & 34.27625   & 16.00958   & 77.14083   & 64.47708   & BAD        & MEDIUM     & 13.3       & HIGH      \\\\\n",
       "\t138 & 2001-01-06 & 28079001   & 1.009167   & 64.47708   & 13.955417  & 17.03792   & 15.35417   & 64.47708   & 67.06125   & MEDIUM     & MEDIUM     &  0.0       & LOW       \\\\\n",
       "\t168 & 2001-01-07 & 28079001   & 1.016250   & 67.06125   & 12.776250  & 20.45500   & 18.43042   & 67.06125   & 92.57000   & MEDIUM     & BAD        &  0.0       & LOW       \\\\\n",
       "\\end{tabular}\n"
      ],
      "text/markdown": [
       "\n",
       "| <!--/--> | date | station | CO | NO_2 | O_3 | PM10 | SO_2 | AQ | AQNextDay | AIQ | AIQNextDay | quantity | rainfallVolume | \n",
       "|---|---|---|---|---|---|\n",
       "| 32 | 2001-01-02 | 28079001   | 1.243333   | 84.53750   | 12.576667  | 36.92455   | 20.28083   | 84.53750   | 79.75125   | BAD        | BAD        |  0.1       | HIGH       | \n",
       "| 57 | 2001-01-03 | 28079001   | 1.242917   | 79.75125   | 10.961250  | 37.21292   | 16.23917   | 79.75125   | 75.39250   | BAD        | BAD        |  2.2       | HIGH       | \n",
       "| 80 | 2001-01-04 | 28079001   | 1.134167   | 75.39250   | 12.002917  | 35.03667   | 16.75125   | 75.39250   | 77.14083   | BAD        | BAD        |  2.4       | HIGH       | \n",
       "| 116 | 2001-01-05 | 28079001   | 1.535833   | 77.14083   |  8.755833  | 34.27625   | 16.00958   | 77.14083   | 64.47708   | BAD        | MEDIUM     | 13.3       | HIGH       | \n",
       "| 138 | 2001-01-06 | 28079001   | 1.009167   | 64.47708   | 13.955417  | 17.03792   | 15.35417   | 64.47708   | 67.06125   | MEDIUM     | MEDIUM     |  0.0       | LOW        | \n",
       "| 168 | 2001-01-07 | 28079001   | 1.016250   | 67.06125   | 12.776250  | 20.45500   | 18.43042   | 67.06125   | 92.57000   | MEDIUM     | BAD        |  0.0       | LOW        | \n",
       "\n",
       "\n"
      ],
      "text/plain": [
       "    date       station  CO       NO_2     O_3       PM10     SO_2     AQ      \n",
       "32  2001-01-02 28079001 1.243333 84.53750 12.576667 36.92455 20.28083 84.53750\n",
       "57  2001-01-03 28079001 1.242917 79.75125 10.961250 37.21292 16.23917 79.75125\n",
       "80  2001-01-04 28079001 1.134167 75.39250 12.002917 35.03667 16.75125 75.39250\n",
       "116 2001-01-05 28079001 1.535833 77.14083  8.755833 34.27625 16.00958 77.14083\n",
       "138 2001-01-06 28079001 1.009167 64.47708 13.955417 17.03792 15.35417 64.47708\n",
       "168 2001-01-07 28079001 1.016250 67.06125 12.776250 20.45500 18.43042 67.06125\n",
       "    AQNextDay AIQ    AIQNextDay quantity rainfallVolume\n",
       "32  79.75125  BAD    BAD         0.1     HIGH          \n",
       "57  75.39250  BAD    BAD         2.2     HIGH          \n",
       "80  77.14083  BAD    BAD         2.4     HIGH          \n",
       "116 64.47708  BAD    MEDIUM     13.3     HIGH          \n",
       "138 67.06125  MEDIUM MEDIUM      0.0     LOW           \n",
       "168 92.57000  MEDIUM BAD         0.0     LOW           "
      ]
     },
     "metadata": {},
     "output_type": "display_data"
    }
   ],
   "source": [
    "# Cruzamos los datos de las precipitaciones y la contaminacion por fecha \n",
    "version03 <- merge ( x = madrid02, y = rainfall, by = \"date\")\n",
    "version03 <- version03[order(version03$station),]\n",
    "head(version03)"
   ]
  },
  {
   "cell_type": "code",
   "execution_count": 285,
   "metadata": {},
   "outputs": [
    {
     "data": {
      "text/html": [
       "<table>\n",
       "<thead><tr><th></th><th scope=col>date</th><th scope=col>station</th><th scope=col>CO</th><th scope=col>NO_2</th><th scope=col>O_3</th><th scope=col>PM10</th><th scope=col>SO_2</th><th scope=col>AQ</th><th scope=col>AQNextDay</th><th scope=col>AIQ</th><th scope=col>AIQNextDay</th><th scope=col>quantity</th><th scope=col>rainfallVolume</th><th scope=col>Speed</th><th scope=col>WindIndexQuality</th></tr></thead>\n",
       "<tbody>\n",
       "\t<tr><th scope=row>35</th><td>2001-01-02</td><td>28079001  </td><td>1.243333  </td><td>84.53750  </td><td>12.576667 </td><td>36.92455  </td><td>20.28083  </td><td>84.53750  </td><td>79.75125  </td><td>BAD       </td><td>BAD       </td><td> 0.1      </td><td>HIGH      </td><td>3.6       </td><td>HIGH      </td></tr>\n",
       "\t<tr><th scope=row>63</th><td>2001-01-03</td><td>28079001  </td><td>1.242917  </td><td>79.75125  </td><td>10.961250 </td><td>37.21292  </td><td>16.23917  </td><td>79.75125  </td><td>75.39250  </td><td>BAD       </td><td>BAD       </td><td> 2.2      </td><td>HIGH      </td><td>1.7       </td><td>MEDIUM    </td></tr>\n",
       "\t<tr><th scope=row>95</th><td>2001-01-04</td><td>28079001  </td><td>1.134167  </td><td>75.39250  </td><td>12.002917 </td><td>35.03667  </td><td>16.75125  </td><td>75.39250  </td><td>77.14083  </td><td>BAD       </td><td>BAD       </td><td> 2.4      </td><td>HIGH      </td><td>3.3       </td><td>HIGH      </td></tr>\n",
       "\t<tr><th scope=row>106</th><td>2001-01-05</td><td>28079001  </td><td>1.535833  </td><td>77.14083  </td><td> 8.755833 </td><td>34.27625  </td><td>16.00958  </td><td>77.14083  </td><td>64.47708  </td><td>BAD       </td><td>MEDIUM    </td><td>13.3      </td><td>HIGH      </td><td>1.1       </td><td>MEDIUM    </td></tr>\n",
       "\t<tr><th scope=row>126</th><td>2001-01-06</td><td>28079001  </td><td>1.009167  </td><td>64.47708  </td><td>13.955417 </td><td>17.03792  </td><td>15.35417  </td><td>64.47708  </td><td>67.06125  </td><td>MEDIUM    </td><td>MEDIUM    </td><td> 0.0      </td><td>LOW       </td><td>2.5       </td><td>HIGH      </td></tr>\n",
       "\t<tr><th scope=row>162</th><td>2001-01-07</td><td>28079001  </td><td>1.016250  </td><td>67.06125  </td><td>12.776250 </td><td>20.45500  </td><td>18.43042  </td><td>67.06125  </td><td>92.57000  </td><td>MEDIUM    </td><td>BAD       </td><td> 0.0      </td><td>LOW       </td><td>2.2       </td><td>MEDIUM    </td></tr>\n",
       "</tbody>\n",
       "</table>\n"
      ],
      "text/latex": [
       "\\begin{tabular}{r|lllllllllllllll}\n",
       "  & date & station & CO & NO\\_2 & O\\_3 & PM10 & SO\\_2 & AQ & AQNextDay & AIQ & AIQNextDay & quantity & rainfallVolume & Speed & WindIndexQuality\\\\\n",
       "\\hline\n",
       "\t35 & 2001-01-02 & 28079001   & 1.243333   & 84.53750   & 12.576667  & 36.92455   & 20.28083   & 84.53750   & 79.75125   & BAD        & BAD        &  0.1       & HIGH       & 3.6        & HIGH      \\\\\n",
       "\t63 & 2001-01-03 & 28079001   & 1.242917   & 79.75125   & 10.961250  & 37.21292   & 16.23917   & 79.75125   & 75.39250   & BAD        & BAD        &  2.2       & HIGH       & 1.7        & MEDIUM    \\\\\n",
       "\t95 & 2001-01-04 & 28079001   & 1.134167   & 75.39250   & 12.002917  & 35.03667   & 16.75125   & 75.39250   & 77.14083   & BAD        & BAD        &  2.4       & HIGH       & 3.3        & HIGH      \\\\\n",
       "\t106 & 2001-01-05 & 28079001   & 1.535833   & 77.14083   &  8.755833  & 34.27625   & 16.00958   & 77.14083   & 64.47708   & BAD        & MEDIUM     & 13.3       & HIGH       & 1.1        & MEDIUM    \\\\\n",
       "\t126 & 2001-01-06 & 28079001   & 1.009167   & 64.47708   & 13.955417  & 17.03792   & 15.35417   & 64.47708   & 67.06125   & MEDIUM     & MEDIUM     &  0.0       & LOW        & 2.5        & HIGH      \\\\\n",
       "\t162 & 2001-01-07 & 28079001   & 1.016250   & 67.06125   & 12.776250  & 20.45500   & 18.43042   & 67.06125   & 92.57000   & MEDIUM     & BAD        &  0.0       & LOW        & 2.2        & MEDIUM    \\\\\n",
       "\\end{tabular}\n"
      ],
      "text/markdown": [
       "\n",
       "| <!--/--> | date | station | CO | NO_2 | O_3 | PM10 | SO_2 | AQ | AQNextDay | AIQ | AIQNextDay | quantity | rainfallVolume | Speed | WindIndexQuality | \n",
       "|---|---|---|---|---|---|\n",
       "| 35 | 2001-01-02 | 28079001   | 1.243333   | 84.53750   | 12.576667  | 36.92455   | 20.28083   | 84.53750   | 79.75125   | BAD        | BAD        |  0.1       | HIGH       | 3.6        | HIGH       | \n",
       "| 63 | 2001-01-03 | 28079001   | 1.242917   | 79.75125   | 10.961250  | 37.21292   | 16.23917   | 79.75125   | 75.39250   | BAD        | BAD        |  2.2       | HIGH       | 1.7        | MEDIUM     | \n",
       "| 95 | 2001-01-04 | 28079001   | 1.134167   | 75.39250   | 12.002917  | 35.03667   | 16.75125   | 75.39250   | 77.14083   | BAD        | BAD        |  2.4       | HIGH       | 3.3        | HIGH       | \n",
       "| 106 | 2001-01-05 | 28079001   | 1.535833   | 77.14083   |  8.755833  | 34.27625   | 16.00958   | 77.14083   | 64.47708   | BAD        | MEDIUM     | 13.3       | HIGH       | 1.1        | MEDIUM     | \n",
       "| 126 | 2001-01-06 | 28079001   | 1.009167   | 64.47708   | 13.955417  | 17.03792   | 15.35417   | 64.47708   | 67.06125   | MEDIUM     | MEDIUM     |  0.0       | LOW        | 2.5        | HIGH       | \n",
       "| 162 | 2001-01-07 | 28079001   | 1.016250   | 67.06125   | 12.776250  | 20.45500   | 18.43042   | 67.06125   | 92.57000   | MEDIUM     | BAD        |  0.0       | LOW        | 2.2        | MEDIUM     | \n",
       "\n",
       "\n"
      ],
      "text/plain": [
       "    date       station  CO       NO_2     O_3       PM10     SO_2     AQ      \n",
       "35  2001-01-02 28079001 1.243333 84.53750 12.576667 36.92455 20.28083 84.53750\n",
       "63  2001-01-03 28079001 1.242917 79.75125 10.961250 37.21292 16.23917 79.75125\n",
       "95  2001-01-04 28079001 1.134167 75.39250 12.002917 35.03667 16.75125 75.39250\n",
       "106 2001-01-05 28079001 1.535833 77.14083  8.755833 34.27625 16.00958 77.14083\n",
       "126 2001-01-06 28079001 1.009167 64.47708 13.955417 17.03792 15.35417 64.47708\n",
       "162 2001-01-07 28079001 1.016250 67.06125 12.776250 20.45500 18.43042 67.06125\n",
       "    AQNextDay AIQ    AIQNextDay quantity rainfallVolume Speed WindIndexQuality\n",
       "35  79.75125  BAD    BAD         0.1     HIGH           3.6   HIGH            \n",
       "63  75.39250  BAD    BAD         2.2     HIGH           1.7   MEDIUM          \n",
       "95  77.14083  BAD    BAD         2.4     HIGH           3.3   HIGH            \n",
       "106 64.47708  BAD    MEDIUM     13.3     HIGH           1.1   MEDIUM          \n",
       "126 67.06125  MEDIUM MEDIUM      0.0     LOW            2.5   HIGH            \n",
       "162 92.57000  MEDIUM BAD         0.0     LOW            2.2   MEDIUM          "
      ]
     },
     "metadata": {},
     "output_type": "display_data"
    }
   ],
   "source": [
    "# Cruzamos los datos con el viento\n",
    "version03 <- merge ( x = version03, y = wind, by = \"date\",)\n",
    "version03 <- version03[order(version03$station),]\n",
    "head(version03)"
   ]
  },
  {
   "cell_type": "code",
   "execution_count": 286,
   "metadata": {},
   "outputs": [
    {
     "data": {
      "text/html": [
       "-0.103729235115194"
      ],
      "text/latex": [
       "-0.103729235115194"
      ],
      "text/markdown": [
       "-0.103729235115194"
      ],
      "text/plain": [
       "[1] -0.1037292"
      ]
     },
     "metadata": {},
     "output_type": "display_data"
    }
   ],
   "source": [
    "cor(x = version03$AQNextDay, y = version03$quantity, use=\"complete.obs\")"
   ]
  },
  {
   "cell_type": "markdown",
   "metadata": {},
   "source": [
    "## 4º FASE: MODEL"
   ]
  },
  {
   "cell_type": "markdown",
   "metadata": {},
   "source": [
    "Se entrenan y aplican distintos modelos para el procesamiento de los datos, seleccionando aquel cuya tecnología y/o parámetros produce unos resultados aparentemente más adecuados.\n",
    "\n",
    "En este estudio primero se aplicó un modelo de regresión con el obetivo de obtener la contaminación del día siguiente, el resultado no fue el esperado, por lo que se aplicó durante el resto del estudio el modelo árbol de decisiones"
   ]
  },
  {
   "cell_type": "markdown",
   "metadata": {},
   "source": [
    "### Árbol de decisiones version01"
   ]
  },
  {
   "cell_type": "markdown",
   "metadata": {},
   "source": [
    "Inicializamos el gestor de memoria"
   ]
  },
  {
   "cell_type": "code",
   "execution_count": 287,
   "metadata": {},
   "outputs": [
    {
     "data": {
      "text/html": [
       "<table>\n",
       "<thead><tr><th></th><th scope=col>used</th><th scope=col>(Mb)</th><th scope=col>gc trigger</th><th scope=col>(Mb)</th><th scope=col>max used</th><th scope=col>(Mb)</th></tr></thead>\n",
       "<tbody>\n",
       "\t<tr><th scope=row>Ncells</th><td> 2148742 </td><td>114.8    </td><td>  4215964</td><td> 225.2   </td><td>  4215964</td><td> 225.2   </td></tr>\n",
       "\t<tr><th scope=row>Vcells</th><td>11833625 </td><td> 90.3    </td><td>154770600</td><td>1180.9   </td><td>234018106</td><td>1785.5   </td></tr>\n",
       "</tbody>\n",
       "</table>\n"
      ],
      "text/latex": [
       "\\begin{tabular}{r|llllll}\n",
       "  & used & (Mb) & gc trigger & (Mb) & max used & (Mb)\\\\\n",
       "\\hline\n",
       "\tNcells &  2148742  & 114.8     &   4215964 &  225.2    &   4215964 &  225.2   \\\\\n",
       "\tVcells & 11833625  &  90.3     & 154770600 & 1180.9    & 234018106 & 1785.5   \\\\\n",
       "\\end{tabular}\n"
      ],
      "text/markdown": [
       "\n",
       "| <!--/--> | used | (Mb) | gc trigger | (Mb) | max used | (Mb) | \n",
       "|---|---|\n",
       "| Ncells |  2148742  | 114.8     |   4215964 |  225.2    |   4215964 |  225.2    | \n",
       "| Vcells | 11833625  |  90.3     | 154770600 | 1180.9    | 234018106 | 1785.5    | \n",
       "\n",
       "\n"
      ],
      "text/plain": [
       "       used     (Mb)  gc trigger (Mb)   max used  (Mb)  \n",
       "Ncells  2148742 114.8   4215964   225.2   4215964  225.2\n",
       "Vcells 11833625  90.3 154770600  1180.9 234018106 1785.5"
      ]
     },
     "metadata": {},
     "output_type": "display_data"
    }
   ],
   "source": [
    "#Gestor de memoria\n",
    "gc()"
   ]
  },
  {
   "cell_type": "code",
   "execution_count": 288,
   "metadata": {},
   "outputs": [
    {
     "data": {
      "text/html": [
       "<table>\n",
       "<thead><tr><th></th><th scope=col>date</th><th scope=col>station</th><th scope=col>CO</th><th scope=col>NO_2</th><th scope=col>O_3</th><th scope=col>PM10</th><th scope=col>SO_2</th><th scope=col>AQ</th><th scope=col>AIQ</th><th scope=col>AQNextDay</th><th scope=col>AIQNextDay</th><th scope=col>quantity</th><th scope=col>rainfallVolume</th><th scope=col>Speed</th><th scope=col>WindIndexQuality</th></tr></thead>\n",
       "<tbody>\n",
       "\t<tr><th scope=row>35</th><td>2001-01-02</td><td>28079001  </td><td>1.243333  </td><td>84.53750  </td><td>12.576667 </td><td>36.92455  </td><td>20.28083  </td><td>84.53750  </td><td>FAIR      </td><td>79.75125  </td><td>FAIR      </td><td> 0.1      </td><td>WEAK      </td><td>3.6       </td><td>LIGHT WIND</td></tr>\n",
       "\t<tr><th scope=row>63</th><td>2001-01-03</td><td>28079001  </td><td>1.242917  </td><td>79.75125  </td><td>10.961250 </td><td>37.21292  </td><td>16.23917  </td><td>79.75125  </td><td>FAIR      </td><td>75.39250  </td><td>FAIR      </td><td> 2.2      </td><td>MODERATE  </td><td>1.7       </td><td>LIGHT WIND</td></tr>\n",
       "\t<tr><th scope=row>95</th><td>2001-01-04</td><td>28079001  </td><td>1.134167  </td><td>75.39250  </td><td>12.002917 </td><td>35.03667  </td><td>16.75125  </td><td>75.39250  </td><td>FAIR      </td><td>77.14083  </td><td>FAIR      </td><td> 2.4      </td><td>MODERATE  </td><td>3.3       </td><td>LIGHT WIND</td></tr>\n",
       "\t<tr><th scope=row>106</th><td>2001-01-05</td><td>28079001  </td><td>1.535833  </td><td>77.14083  </td><td> 8.755833 </td><td>34.27625  </td><td>16.00958  </td><td>77.14083  </td><td>FAIR      </td><td>64.47708  </td><td>GOOD      </td><td>13.3      </td><td>MODERATE  </td><td>1.1       </td><td>LIGHT WIND</td></tr>\n",
       "\t<tr><th scope=row>126</th><td>2001-01-06</td><td>28079001  </td><td>1.009167  </td><td>64.47708  </td><td>13.955417 </td><td>17.03792  </td><td>15.35417  </td><td>64.47708  </td><td>GOOD      </td><td>67.06125  </td><td>FAIR      </td><td> 0.0      </td><td>WEAK      </td><td>2.5       </td><td>LIGHT WIND</td></tr>\n",
       "\t<tr><th scope=row>162</th><td>2001-01-07</td><td>28079001  </td><td>1.016250  </td><td>67.06125  </td><td>12.776250 </td><td>20.45500  </td><td>18.43042  </td><td>67.06125  </td><td>FAIR      </td><td>92.57000  </td><td>FAIR      </td><td> 0.0      </td><td>WEAK      </td><td>2.2       </td><td>LIGHT WIND</td></tr>\n",
       "</tbody>\n",
       "</table>\n"
      ],
      "text/latex": [
       "\\begin{tabular}{r|lllllllllllllll}\n",
       "  & date & station & CO & NO\\_2 & O\\_3 & PM10 & SO\\_2 & AQ & AIQ & AQNextDay & AIQNextDay & quantity & rainfallVolume & Speed & WindIndexQuality\\\\\n",
       "\\hline\n",
       "\t35 & 2001-01-02 & 28079001   & 1.243333   & 84.53750   & 12.576667  & 36.92455   & 20.28083   & 84.53750   & FAIR       & 79.75125   & FAIR       &  0.1       & WEAK       & 3.6        & LIGHT WIND\\\\\n",
       "\t63 & 2001-01-03 & 28079001   & 1.242917   & 79.75125   & 10.961250  & 37.21292   & 16.23917   & 79.75125   & FAIR       & 75.39250   & FAIR       &  2.2       & MODERATE   & 1.7        & LIGHT WIND\\\\\n",
       "\t95 & 2001-01-04 & 28079001   & 1.134167   & 75.39250   & 12.002917  & 35.03667   & 16.75125   & 75.39250   & FAIR       & 77.14083   & FAIR       &  2.4       & MODERATE   & 3.3        & LIGHT WIND\\\\\n",
       "\t106 & 2001-01-05 & 28079001   & 1.535833   & 77.14083   &  8.755833  & 34.27625   & 16.00958   & 77.14083   & FAIR       & 64.47708   & GOOD       & 13.3       & MODERATE   & 1.1        & LIGHT WIND\\\\\n",
       "\t126 & 2001-01-06 & 28079001   & 1.009167   & 64.47708   & 13.955417  & 17.03792   & 15.35417   & 64.47708   & GOOD       & 67.06125   & FAIR       &  0.0       & WEAK       & 2.5        & LIGHT WIND\\\\\n",
       "\t162 & 2001-01-07 & 28079001   & 1.016250   & 67.06125   & 12.776250  & 20.45500   & 18.43042   & 67.06125   & FAIR       & 92.57000   & FAIR       &  0.0       & WEAK       & 2.2        & LIGHT WIND\\\\\n",
       "\\end{tabular}\n"
      ],
      "text/markdown": [
       "\n",
       "| <!--/--> | date | station | CO | NO_2 | O_3 | PM10 | SO_2 | AQ | AIQ | AQNextDay | AIQNextDay | quantity | rainfallVolume | Speed | WindIndexQuality | \n",
       "|---|---|---|---|---|---|\n",
       "| 35 | 2001-01-02 | 28079001   | 1.243333   | 84.53750   | 12.576667  | 36.92455   | 20.28083   | 84.53750   | FAIR       | 79.75125   | FAIR       |  0.1       | WEAK       | 3.6        | LIGHT WIND | \n",
       "| 63 | 2001-01-03 | 28079001   | 1.242917   | 79.75125   | 10.961250  | 37.21292   | 16.23917   | 79.75125   | FAIR       | 75.39250   | FAIR       |  2.2       | MODERATE   | 1.7        | LIGHT WIND | \n",
       "| 95 | 2001-01-04 | 28079001   | 1.134167   | 75.39250   | 12.002917  | 35.03667   | 16.75125   | 75.39250   | FAIR       | 77.14083   | FAIR       |  2.4       | MODERATE   | 3.3        | LIGHT WIND | \n",
       "| 106 | 2001-01-05 | 28079001   | 1.535833   | 77.14083   |  8.755833  | 34.27625   | 16.00958   | 77.14083   | FAIR       | 64.47708   | GOOD       | 13.3       | MODERATE   | 1.1        | LIGHT WIND | \n",
       "| 126 | 2001-01-06 | 28079001   | 1.009167   | 64.47708   | 13.955417  | 17.03792   | 15.35417   | 64.47708   | GOOD       | 67.06125   | FAIR       |  0.0       | WEAK       | 2.5        | LIGHT WIND | \n",
       "| 162 | 2001-01-07 | 28079001   | 1.016250   | 67.06125   | 12.776250  | 20.45500   | 18.43042   | 67.06125   | FAIR       | 92.57000   | FAIR       |  0.0       | WEAK       | 2.2        | LIGHT WIND | \n",
       "\n",
       "\n"
      ],
      "text/plain": [
       "    date       station  CO       NO_2     O_3       PM10     SO_2     AQ      \n",
       "35  2001-01-02 28079001 1.243333 84.53750 12.576667 36.92455 20.28083 84.53750\n",
       "63  2001-01-03 28079001 1.242917 79.75125 10.961250 37.21292 16.23917 79.75125\n",
       "95  2001-01-04 28079001 1.134167 75.39250 12.002917 35.03667 16.75125 75.39250\n",
       "106 2001-01-05 28079001 1.535833 77.14083  8.755833 34.27625 16.00958 77.14083\n",
       "126 2001-01-06 28079001 1.009167 64.47708 13.955417 17.03792 15.35417 64.47708\n",
       "162 2001-01-07 28079001 1.016250 67.06125 12.776250 20.45500 18.43042 67.06125\n",
       "    AIQ  AQNextDay AIQNextDay quantity rainfallVolume Speed WindIndexQuality\n",
       "35  FAIR 79.75125  FAIR        0.1     WEAK           3.6   LIGHT WIND      \n",
       "63  FAIR 75.39250  FAIR        2.2     MODERATE       1.7   LIGHT WIND      \n",
       "95  FAIR 77.14083  FAIR        2.4     MODERATE       3.3   LIGHT WIND      \n",
       "106 FAIR 64.47708  GOOD       13.3     MODERATE       1.1   LIGHT WIND      \n",
       "126 GOOD 67.06125  FAIR        0.0     WEAK           2.5   LIGHT WIND      \n",
       "162 FAIR 92.57000  FAIR        0.0     WEAK           2.2   LIGHT WIND      "
      ]
     },
     "metadata": {},
     "output_type": "display_data"
    },
    {
     "data": {
      "text/html": [
       "<table>\n",
       "<thead><tr><th></th><th scope=col>date</th><th scope=col>station</th><th scope=col>CO</th><th scope=col>NO_2</th><th scope=col>O_3</th><th scope=col>PM10</th><th scope=col>SO_2</th><th scope=col>AQ</th><th scope=col>AIQ</th><th scope=col>AQNextDay</th><th scope=col>AIQNextDay</th><th scope=col>quantity</th><th scope=col>rainfallVolume</th><th scope=col>Speed</th><th scope=col>WindIndexQuality</th></tr></thead>\n",
       "<tbody>\n",
       "\t<tr><th scope=row>137042</th><td>2018-04-26</td><td>28079060  </td><td>0         </td><td>29.041667 </td><td>77.25000  </td><td>42.54167  </td><td>0         </td><td>77.25000  </td><td>FAIR      </td><td>81.83333  </td><td>FAIR      </td><td> 0.0      </td><td>WEAK      </td><td>1.4       </td><td>LIGHT WIND</td></tr>\n",
       "\t<tr><th scope=row>137065</th><td>2018-04-27</td><td>28079060  </td><td>0         </td><td>20.958333 </td><td>81.83333  </td><td>29.57143  </td><td>0         </td><td>81.83333  </td><td>FAIR      </td><td>87.20833  </td><td>FAIR      </td><td> 0.0      </td><td>WEAK      </td><td>3.1       </td><td>LIGHT WIND</td></tr>\n",
       "\t<tr><th scope=row>137084</th><td>2018-04-28</td><td>28079060  </td><td>0         </td><td> 8.375000 </td><td>87.20833  </td><td>10.33333  </td><td>0         </td><td>87.20833  </td><td>FAIR      </td><td>93.08333  </td><td>FAIR      </td><td> 0.0      </td><td>WEAK      </td><td>2.5       </td><td>LIGHT WIND</td></tr>\n",
       "\t<tr><th scope=row>137123</th><td>2018-04-29</td><td>28079060  </td><td>0         </td><td> 6.958333 </td><td>93.08333  </td><td>14.45833  </td><td>0         </td><td>93.08333  </td><td>FAIR      </td><td>83.33333  </td><td>FAIR      </td><td>13.0      </td><td>MODERATE  </td><td>4.2       </td><td>LIGHT WIND</td></tr>\n",
       "\t<tr><th scope=row>137147</th><td>2018-04-30</td><td>28079060  </td><td>0         </td><td>13.708333 </td><td>83.33333  </td><td>12.91667  </td><td>0         </td><td>83.33333  </td><td>FAIR      </td><td>81.00000  </td><td>FAIR      </td><td> 4.8      </td><td>MODERATE  </td><td>1.9       </td><td>LIGHT WIND</td></tr>\n",
       "\t<tr><th scope=row>137174</th><td>2018-05-01</td><td>28079060  </td><td>0         </td><td>14.000000 </td><td>81.00000  </td><td> 6.00000  </td><td>0         </td><td>81.00000  </td><td>FAIR      </td><td>      NA  </td><td>NA        </td><td> 0.2      </td><td>WEAK      </td><td>1.7       </td><td>LIGHT WIND</td></tr>\n",
       "</tbody>\n",
       "</table>\n"
      ],
      "text/latex": [
       "\\begin{tabular}{r|lllllllllllllll}\n",
       "  & date & station & CO & NO\\_2 & O\\_3 & PM10 & SO\\_2 & AQ & AIQ & AQNextDay & AIQNextDay & quantity & rainfallVolume & Speed & WindIndexQuality\\\\\n",
       "\\hline\n",
       "\t137042 & 2018-04-26 & 28079060   & 0          & 29.041667  & 77.25000   & 42.54167   & 0          & 77.25000   & FAIR       & 81.83333   & FAIR       &  0.0       & WEAK       & 1.4        & LIGHT WIND\\\\\n",
       "\t137065 & 2018-04-27 & 28079060   & 0          & 20.958333  & 81.83333   & 29.57143   & 0          & 81.83333   & FAIR       & 87.20833   & FAIR       &  0.0       & WEAK       & 3.1        & LIGHT WIND\\\\\n",
       "\t137084 & 2018-04-28 & 28079060   & 0          &  8.375000  & 87.20833   & 10.33333   & 0          & 87.20833   & FAIR       & 93.08333   & FAIR       &  0.0       & WEAK       & 2.5        & LIGHT WIND\\\\\n",
       "\t137123 & 2018-04-29 & 28079060   & 0          &  6.958333  & 93.08333   & 14.45833   & 0          & 93.08333   & FAIR       & 83.33333   & FAIR       & 13.0       & MODERATE   & 4.2        & LIGHT WIND\\\\\n",
       "\t137147 & 2018-04-30 & 28079060   & 0          & 13.708333  & 83.33333   & 12.91667   & 0          & 83.33333   & FAIR       & 81.00000   & FAIR       &  4.8       & MODERATE   & 1.9        & LIGHT WIND\\\\\n",
       "\t137174 & 2018-05-01 & 28079060   & 0          & 14.000000  & 81.00000   &  6.00000   & 0          & 81.00000   & FAIR       &       NA   & NA         &  0.2       & WEAK       & 1.7        & LIGHT WIND\\\\\n",
       "\\end{tabular}\n"
      ],
      "text/markdown": [
       "\n",
       "| <!--/--> | date | station | CO | NO_2 | O_3 | PM10 | SO_2 | AQ | AIQ | AQNextDay | AIQNextDay | quantity | rainfallVolume | Speed | WindIndexQuality | \n",
       "|---|---|---|---|---|---|\n",
       "| 137042 | 2018-04-26 | 28079060   | 0          | 29.041667  | 77.25000   | 42.54167   | 0          | 77.25000   | FAIR       | 81.83333   | FAIR       |  0.0       | WEAK       | 1.4        | LIGHT WIND | \n",
       "| 137065 | 2018-04-27 | 28079060   | 0          | 20.958333  | 81.83333   | 29.57143   | 0          | 81.83333   | FAIR       | 87.20833   | FAIR       |  0.0       | WEAK       | 3.1        | LIGHT WIND | \n",
       "| 137084 | 2018-04-28 | 28079060   | 0          |  8.375000  | 87.20833   | 10.33333   | 0          | 87.20833   | FAIR       | 93.08333   | FAIR       |  0.0       | WEAK       | 2.5        | LIGHT WIND | \n",
       "| 137123 | 2018-04-29 | 28079060   | 0          |  6.958333  | 93.08333   | 14.45833   | 0          | 93.08333   | FAIR       | 83.33333   | FAIR       | 13.0       | MODERATE   | 4.2        | LIGHT WIND | \n",
       "| 137147 | 2018-04-30 | 28079060   | 0          | 13.708333  | 83.33333   | 12.91667   | 0          | 83.33333   | FAIR       | 81.00000   | FAIR       |  4.8       | MODERATE   | 1.9        | LIGHT WIND | \n",
       "| 137174 | 2018-05-01 | 28079060   | 0          | 14.000000  | 81.00000   |  6.00000   | 0          | 81.00000   | FAIR       |       NA   | NA         |  0.2       | WEAK       | 1.7        | LIGHT WIND | \n",
       "\n",
       "\n"
      ],
      "text/plain": [
       "       date       station  CO NO_2      O_3      PM10     SO_2 AQ       AIQ \n",
       "137042 2018-04-26 28079060 0  29.041667 77.25000 42.54167 0    77.25000 FAIR\n",
       "137065 2018-04-27 28079060 0  20.958333 81.83333 29.57143 0    81.83333 FAIR\n",
       "137084 2018-04-28 28079060 0   8.375000 87.20833 10.33333 0    87.20833 FAIR\n",
       "137123 2018-04-29 28079060 0   6.958333 93.08333 14.45833 0    93.08333 FAIR\n",
       "137147 2018-04-30 28079060 0  13.708333 83.33333 12.91667 0    83.33333 FAIR\n",
       "137174 2018-05-01 28079060 0  14.000000 81.00000  6.00000 0    81.00000 FAIR\n",
       "       AQNextDay AIQNextDay quantity rainfallVolume Speed WindIndexQuality\n",
       "137042 81.83333  FAIR        0.0     WEAK           1.4   LIGHT WIND      \n",
       "137065 87.20833  FAIR        0.0     WEAK           3.1   LIGHT WIND      \n",
       "137084 93.08333  FAIR        0.0     WEAK           2.5   LIGHT WIND      \n",
       "137123 83.33333  FAIR       13.0     MODERATE       4.2   LIGHT WIND      \n",
       "137147 81.00000  FAIR        4.8     MODERATE       1.9   LIGHT WIND      \n",
       "137174       NA  NA          0.2     WEAK           1.7   LIGHT WIND      "
      ]
     },
     "metadata": {},
     "output_type": "display_data"
    },
    {
     "name": "stdout",
     "output_type": "stream",
     "text": [
      "'data.frame':\t137174 obs. of  15 variables:\n",
      " $ date            : Date, format: \"2001-01-02\" \"2001-01-03\" ...\n",
      " $ station         : int  28079001 28079001 28079001 28079001 28079001 28079001 28079001 28079001 28079001 28079001 ...\n",
      " $ CO              : num  1.24 1.24 1.13 1.54 1.01 ...\n",
      " $ NO_2            : num  84.5 79.8 75.4 77.1 64.5 ...\n",
      " $ O_3             : num  12.58 10.96 12 8.76 13.96 ...\n",
      " $ PM10            : num  36.9 37.2 35 34.3 17 ...\n",
      " $ SO_2            : num  20.3 16.2 16.8 16 15.4 ...\n",
      " $ AQ              : num  84.5 79.8 75.4 77.1 64.5 ...\n",
      " $ AIQ             : chr  \"FAIR\" \"FAIR\" \"FAIR\" \"FAIR\" ...\n",
      " $ AQNextDay       : num  79.8 75.4 77.1 64.5 67.1 ...\n",
      " $ AIQNextDay      : chr  \"FAIR\" \"FAIR\" \"FAIR\" \"GOOD\" ...\n",
      " $ quantity        : num  0.1 2.2 2.4 13.3 0 0 0 1.5 9.8 14.8 ...\n",
      " $ rainfallVolume  : chr  \"WEAK\" \"MODERATE\" \"MODERATE\" \"MODERATE\" ...\n",
      " $ Speed           : num  3.6 1.7 3.3 1.1 2.5 2.2 0.3 0.6 0.3 1.7 ...\n",
      " $ WindIndexQuality: chr  \"LIGHT WIND\" \"LIGHT WIND\" \"LIGHT WIND\" \"LIGHT WIND\" ...\n"
     ]
    }
   ],
   "source": [
    "# Establece una semilla fija para garantizar\n",
    "# la reproducibilidad del ejemplo\n",
    "head(version01)\n",
    "tail(version01)\n",
    "str(version01)\n",
    "set.seed(1234)"
   ]
  },
  {
   "cell_type": "code",
   "execution_count": 289,
   "metadata": {},
   "outputs": [],
   "source": [
    "#Preparamos validación simple\n",
    "separate <- as.integer(nrow(version01)*0.7)\n",
    "trainData <- version01[1:separate,]\n",
    "testData <- version01[separate:nrow(version01),]"
   ]
  },
  {
   "cell_type": "code",
   "execution_count": 290,
   "metadata": {},
   "outputs": [
    {
     "data": {
      "text/html": [
       "<table>\n",
       "<thead><tr><th></th><th scope=col>date</th><th scope=col>station</th><th scope=col>CO</th><th scope=col>NO_2</th><th scope=col>O_3</th><th scope=col>PM10</th><th scope=col>SO_2</th><th scope=col>AQ</th><th scope=col>AIQ</th><th scope=col>AQNextDay</th><th scope=col>AIQNextDay</th><th scope=col>quantity</th><th scope=col>rainfallVolume</th><th scope=col>Speed</th><th scope=col>WindIndexQuality</th></tr></thead>\n",
       "<tbody>\n",
       "\t<tr><th scope=row>35</th><td>2001-01-02</td><td>28079001  </td><td>1.243333  </td><td>84.53750  </td><td>12.576667 </td><td>36.92455  </td><td>20.28083  </td><td>84.53750  </td><td>FAIR      </td><td>79.75125  </td><td>FAIR      </td><td> 0.1      </td><td>WEAK      </td><td>3.6       </td><td>LIGHT WIND</td></tr>\n",
       "\t<tr><th scope=row>63</th><td>2001-01-03</td><td>28079001  </td><td>1.242917  </td><td>79.75125  </td><td>10.961250 </td><td>37.21292  </td><td>16.23917  </td><td>79.75125  </td><td>FAIR      </td><td>75.39250  </td><td>FAIR      </td><td> 2.2      </td><td>MODERATE  </td><td>1.7       </td><td>LIGHT WIND</td></tr>\n",
       "\t<tr><th scope=row>95</th><td>2001-01-04</td><td>28079001  </td><td>1.134167  </td><td>75.39250  </td><td>12.002917 </td><td>35.03667  </td><td>16.75125  </td><td>75.39250  </td><td>FAIR      </td><td>77.14083  </td><td>FAIR      </td><td> 2.4      </td><td>MODERATE  </td><td>3.3       </td><td>LIGHT WIND</td></tr>\n",
       "\t<tr><th scope=row>106</th><td>2001-01-05</td><td>28079001  </td><td>1.535833  </td><td>77.14083  </td><td> 8.755833 </td><td>34.27625  </td><td>16.00958  </td><td>77.14083  </td><td>FAIR      </td><td>64.47708  </td><td>GOOD      </td><td>13.3      </td><td>MODERATE  </td><td>1.1       </td><td>LIGHT WIND</td></tr>\n",
       "\t<tr><th scope=row>126</th><td>2001-01-06</td><td>28079001  </td><td>1.009167  </td><td>64.47708  </td><td>13.955417 </td><td>17.03792  </td><td>15.35417  </td><td>64.47708  </td><td>GOOD      </td><td>67.06125  </td><td>FAIR      </td><td> 0.0      </td><td>WEAK      </td><td>2.5       </td><td>LIGHT WIND</td></tr>\n",
       "\t<tr><th scope=row>162</th><td>2001-01-07</td><td>28079001  </td><td>1.016250  </td><td>67.06125  </td><td>12.776250 </td><td>20.45500  </td><td>18.43042  </td><td>67.06125  </td><td>FAIR      </td><td>92.57000  </td><td>FAIR      </td><td> 0.0      </td><td>WEAK      </td><td>2.2       </td><td>LIGHT WIND</td></tr>\n",
       "</tbody>\n",
       "</table>\n"
      ],
      "text/latex": [
       "\\begin{tabular}{r|lllllllllllllll}\n",
       "  & date & station & CO & NO\\_2 & O\\_3 & PM10 & SO\\_2 & AQ & AIQ & AQNextDay & AIQNextDay & quantity & rainfallVolume & Speed & WindIndexQuality\\\\\n",
       "\\hline\n",
       "\t35 & 2001-01-02 & 28079001   & 1.243333   & 84.53750   & 12.576667  & 36.92455   & 20.28083   & 84.53750   & FAIR       & 79.75125   & FAIR       &  0.1       & WEAK       & 3.6        & LIGHT WIND\\\\\n",
       "\t63 & 2001-01-03 & 28079001   & 1.242917   & 79.75125   & 10.961250  & 37.21292   & 16.23917   & 79.75125   & FAIR       & 75.39250   & FAIR       &  2.2       & MODERATE   & 1.7        & LIGHT WIND\\\\\n",
       "\t95 & 2001-01-04 & 28079001   & 1.134167   & 75.39250   & 12.002917  & 35.03667   & 16.75125   & 75.39250   & FAIR       & 77.14083   & FAIR       &  2.4       & MODERATE   & 3.3        & LIGHT WIND\\\\\n",
       "\t106 & 2001-01-05 & 28079001   & 1.535833   & 77.14083   &  8.755833  & 34.27625   & 16.00958   & 77.14083   & FAIR       & 64.47708   & GOOD       & 13.3       & MODERATE   & 1.1        & LIGHT WIND\\\\\n",
       "\t126 & 2001-01-06 & 28079001   & 1.009167   & 64.47708   & 13.955417  & 17.03792   & 15.35417   & 64.47708   & GOOD       & 67.06125   & FAIR       &  0.0       & WEAK       & 2.5        & LIGHT WIND\\\\\n",
       "\t162 & 2001-01-07 & 28079001   & 1.016250   & 67.06125   & 12.776250  & 20.45500   & 18.43042   & 67.06125   & FAIR       & 92.57000   & FAIR       &  0.0       & WEAK       & 2.2        & LIGHT WIND\\\\\n",
       "\\end{tabular}\n"
      ],
      "text/markdown": [
       "\n",
       "| <!--/--> | date | station | CO | NO_2 | O_3 | PM10 | SO_2 | AQ | AIQ | AQNextDay | AIQNextDay | quantity | rainfallVolume | Speed | WindIndexQuality | \n",
       "|---|---|---|---|---|---|\n",
       "| 35 | 2001-01-02 | 28079001   | 1.243333   | 84.53750   | 12.576667  | 36.92455   | 20.28083   | 84.53750   | FAIR       | 79.75125   | FAIR       |  0.1       | WEAK       | 3.6        | LIGHT WIND | \n",
       "| 63 | 2001-01-03 | 28079001   | 1.242917   | 79.75125   | 10.961250  | 37.21292   | 16.23917   | 79.75125   | FAIR       | 75.39250   | FAIR       |  2.2       | MODERATE   | 1.7        | LIGHT WIND | \n",
       "| 95 | 2001-01-04 | 28079001   | 1.134167   | 75.39250   | 12.002917  | 35.03667   | 16.75125   | 75.39250   | FAIR       | 77.14083   | FAIR       |  2.4       | MODERATE   | 3.3        | LIGHT WIND | \n",
       "| 106 | 2001-01-05 | 28079001   | 1.535833   | 77.14083   |  8.755833  | 34.27625   | 16.00958   | 77.14083   | FAIR       | 64.47708   | GOOD       | 13.3       | MODERATE   | 1.1        | LIGHT WIND | \n",
       "| 126 | 2001-01-06 | 28079001   | 1.009167   | 64.47708   | 13.955417  | 17.03792   | 15.35417   | 64.47708   | GOOD       | 67.06125   | FAIR       |  0.0       | WEAK       | 2.5        | LIGHT WIND | \n",
       "| 162 | 2001-01-07 | 28079001   | 1.016250   | 67.06125   | 12.776250  | 20.45500   | 18.43042   | 67.06125   | FAIR       | 92.57000   | FAIR       |  0.0       | WEAK       | 2.2        | LIGHT WIND | \n",
       "\n",
       "\n"
      ],
      "text/plain": [
       "    date       station  CO       NO_2     O_3       PM10     SO_2     AQ      \n",
       "35  2001-01-02 28079001 1.243333 84.53750 12.576667 36.92455 20.28083 84.53750\n",
       "63  2001-01-03 28079001 1.242917 79.75125 10.961250 37.21292 16.23917 79.75125\n",
       "95  2001-01-04 28079001 1.134167 75.39250 12.002917 35.03667 16.75125 75.39250\n",
       "106 2001-01-05 28079001 1.535833 77.14083  8.755833 34.27625 16.00958 77.14083\n",
       "126 2001-01-06 28079001 1.009167 64.47708 13.955417 17.03792 15.35417 64.47708\n",
       "162 2001-01-07 28079001 1.016250 67.06125 12.776250 20.45500 18.43042 67.06125\n",
       "    AIQ  AQNextDay AIQNextDay quantity rainfallVolume Speed WindIndexQuality\n",
       "35  FAIR 79.75125  FAIR        0.1     WEAK           3.6   LIGHT WIND      \n",
       "63  FAIR 75.39250  FAIR        2.2     MODERATE       1.7   LIGHT WIND      \n",
       "95  FAIR 77.14083  FAIR        2.4     MODERATE       3.3   LIGHT WIND      \n",
       "106 FAIR 64.47708  GOOD       13.3     MODERATE       1.1   LIGHT WIND      \n",
       "126 GOOD 67.06125  FAIR        0.0     WEAK           2.5   LIGHT WIND      \n",
       "162 FAIR 92.57000  FAIR        0.0     WEAK           2.2   LIGHT WIND      "
      ]
     },
     "metadata": {},
     "output_type": "display_data"
    },
    {
     "data": {
      "text/html": [
       "<table>\n",
       "<thead><tr><th></th><th scope=col>date</th><th scope=col>station</th><th scope=col>CO</th><th scope=col>NO_2</th><th scope=col>O_3</th><th scope=col>PM10</th><th scope=col>SO_2</th><th scope=col>AQ</th><th scope=col>AIQ</th><th scope=col>AQNextDay</th><th scope=col>AIQNextDay</th><th scope=col>quantity</th><th scope=col>rainfallVolume</th><th scope=col>Speed</th><th scope=col>WindIndexQuality</th></tr></thead>\n",
       "<tbody>\n",
       "\t<tr><th scope=row>36098</th><td>2005-09-01</td><td>28079039  </td><td>0.7016667 </td><td>72.20583  </td><td>35.91696  </td><td>11.42000  </td><td>7.513750  </td><td>72.20583  </td><td>FAIR      </td><td>86.23957  </td><td>FAIR      </td><td>0.0       </td><td>WEAK      </td><td>1.1       </td><td>LIGHT WIND</td></tr>\n",
       "\t<tr><th scope=row>36110</th><td>2005-09-02</td><td>28079039  </td><td>0.6775000 </td><td>76.58500  </td><td>43.05773  </td><td>86.23957  </td><td>8.038750  </td><td>86.23957  </td><td>FAIR      </td><td>60.24391  </td><td>GOOD      </td><td>0.0       </td><td>WEAK      </td><td>0.8       </td><td>LIGHT WIND</td></tr>\n",
       "\t<tr><th scope=row>36142</th><td>2005-09-03</td><td>28079039  </td><td>0.5225000 </td><td>48.17250  </td><td>60.24391  </td><td>44.47045  </td><td>6.763333  </td><td>60.24391  </td><td>GOOD      </td><td>81.37125  </td><td>FAIR      </td><td>0.0       </td><td>WEAK      </td><td>1.7       </td><td>LIGHT WIND</td></tr>\n",
       "\t<tr><th scope=row>36159</th><td>2005-09-04</td><td>28079039  </td><td>0.9395833 </td><td>81.37125  </td><td>33.38217  </td><td>31.92412  </td><td>8.664167  </td><td>81.37125  </td><td>FAIR      </td><td>48.32500  </td><td>GOOD      </td><td>0.0       </td><td>WEAK      </td><td>2.2       </td><td>LIGHT WIND</td></tr>\n",
       "\t<tr><th scope=row>36188</th><td>2005-09-05</td><td>28079039  </td><td>0.6212500 </td><td>39.21750  </td><td>42.94913  </td><td>48.32500  </td><td>6.352500  </td><td>48.32500  </td><td>GOOD      </td><td>45.98130  </td><td>GOOD      </td><td>0.0       </td><td>WEAK      </td><td>3.3       </td><td>LIGHT WIND</td></tr>\n",
       "\t<tr><th scope=row>36216</th><td>2005-09-06</td><td>28079039  </td><td>0.5654167 </td><td>31.01583  </td><td>45.98130  </td><td>35.21783  </td><td>6.028750  </td><td>45.98130  </td><td>GOOD      </td><td>44.74636  </td><td>GOOD      </td><td>2.5       </td><td>MODERATE  </td><td>3.1       </td><td>LIGHT WIND</td></tr>\n",
       "</tbody>\n",
       "</table>\n"
      ],
      "text/latex": [
       "\\begin{tabular}{r|lllllllllllllll}\n",
       "  & date & station & CO & NO\\_2 & O\\_3 & PM10 & SO\\_2 & AQ & AIQ & AQNextDay & AIQNextDay & quantity & rainfallVolume & Speed & WindIndexQuality\\\\\n",
       "\\hline\n",
       "\t36098 & 2005-09-01 & 28079039   & 0.7016667  & 72.20583   & 35.91696   & 11.42000   & 7.513750   & 72.20583   & FAIR       & 86.23957   & FAIR       & 0.0        & WEAK       & 1.1        & LIGHT WIND\\\\\n",
       "\t36110 & 2005-09-02 & 28079039   & 0.6775000  & 76.58500   & 43.05773   & 86.23957   & 8.038750   & 86.23957   & FAIR       & 60.24391   & GOOD       & 0.0        & WEAK       & 0.8        & LIGHT WIND\\\\\n",
       "\t36142 & 2005-09-03 & 28079039   & 0.5225000  & 48.17250   & 60.24391   & 44.47045   & 6.763333   & 60.24391   & GOOD       & 81.37125   & FAIR       & 0.0        & WEAK       & 1.7        & LIGHT WIND\\\\\n",
       "\t36159 & 2005-09-04 & 28079039   & 0.9395833  & 81.37125   & 33.38217   & 31.92412   & 8.664167   & 81.37125   & FAIR       & 48.32500   & GOOD       & 0.0        & WEAK       & 2.2        & LIGHT WIND\\\\\n",
       "\t36188 & 2005-09-05 & 28079039   & 0.6212500  & 39.21750   & 42.94913   & 48.32500   & 6.352500   & 48.32500   & GOOD       & 45.98130   & GOOD       & 0.0        & WEAK       & 3.3        & LIGHT WIND\\\\\n",
       "\t36216 & 2005-09-06 & 28079039   & 0.5654167  & 31.01583   & 45.98130   & 35.21783   & 6.028750   & 45.98130   & GOOD       & 44.74636   & GOOD       & 2.5        & MODERATE   & 3.1        & LIGHT WIND\\\\\n",
       "\\end{tabular}\n"
      ],
      "text/markdown": [
       "\n",
       "| <!--/--> | date | station | CO | NO_2 | O_3 | PM10 | SO_2 | AQ | AIQ | AQNextDay | AIQNextDay | quantity | rainfallVolume | Speed | WindIndexQuality | \n",
       "|---|---|---|---|---|---|\n",
       "| 36098 | 2005-09-01 | 28079039   | 0.7016667  | 72.20583   | 35.91696   | 11.42000   | 7.513750   | 72.20583   | FAIR       | 86.23957   | FAIR       | 0.0        | WEAK       | 1.1        | LIGHT WIND | \n",
       "| 36110 | 2005-09-02 | 28079039   | 0.6775000  | 76.58500   | 43.05773   | 86.23957   | 8.038750   | 86.23957   | FAIR       | 60.24391   | GOOD       | 0.0        | WEAK       | 0.8        | LIGHT WIND | \n",
       "| 36142 | 2005-09-03 | 28079039   | 0.5225000  | 48.17250   | 60.24391   | 44.47045   | 6.763333   | 60.24391   | GOOD       | 81.37125   | FAIR       | 0.0        | WEAK       | 1.7        | LIGHT WIND | \n",
       "| 36159 | 2005-09-04 | 28079039   | 0.9395833  | 81.37125   | 33.38217   | 31.92412   | 8.664167   | 81.37125   | FAIR       | 48.32500   | GOOD       | 0.0        | WEAK       | 2.2        | LIGHT WIND | \n",
       "| 36188 | 2005-09-05 | 28079039   | 0.6212500  | 39.21750   | 42.94913   | 48.32500   | 6.352500   | 48.32500   | GOOD       | 45.98130   | GOOD       | 0.0        | WEAK       | 3.3        | LIGHT WIND | \n",
       "| 36216 | 2005-09-06 | 28079039   | 0.5654167  | 31.01583   | 45.98130   | 35.21783   | 6.028750   | 45.98130   | GOOD       | 44.74636   | GOOD       | 2.5        | MODERATE   | 3.1        | LIGHT WIND | \n",
       "\n",
       "\n"
      ],
      "text/plain": [
       "      date       station  CO        NO_2     O_3      PM10     SO_2    \n",
       "36098 2005-09-01 28079039 0.7016667 72.20583 35.91696 11.42000 7.513750\n",
       "36110 2005-09-02 28079039 0.6775000 76.58500 43.05773 86.23957 8.038750\n",
       "36142 2005-09-03 28079039 0.5225000 48.17250 60.24391 44.47045 6.763333\n",
       "36159 2005-09-04 28079039 0.9395833 81.37125 33.38217 31.92412 8.664167\n",
       "36188 2005-09-05 28079039 0.6212500 39.21750 42.94913 48.32500 6.352500\n",
       "36216 2005-09-06 28079039 0.5654167 31.01583 45.98130 35.21783 6.028750\n",
       "      AQ       AIQ  AQNextDay AIQNextDay quantity rainfallVolume Speed\n",
       "36098 72.20583 FAIR 86.23957  FAIR       0.0      WEAK           1.1  \n",
       "36110 86.23957 FAIR 60.24391  GOOD       0.0      WEAK           0.8  \n",
       "36142 60.24391 GOOD 81.37125  FAIR       0.0      WEAK           1.7  \n",
       "36159 81.37125 FAIR 48.32500  GOOD       0.0      WEAK           2.2  \n",
       "36188 48.32500 GOOD 45.98130  GOOD       0.0      WEAK           3.3  \n",
       "36216 45.98130 GOOD 44.74636  GOOD       2.5      MODERATE       3.1  \n",
       "      WindIndexQuality\n",
       "36098 LIGHT WIND      \n",
       "36110 LIGHT WIND      \n",
       "36142 LIGHT WIND      \n",
       "36159 LIGHT WIND      \n",
       "36188 LIGHT WIND      \n",
       "36216 LIGHT WIND      "
      ]
     },
     "metadata": {},
     "output_type": "display_data"
    }
   ],
   "source": [
    "head(trainData)\n",
    "head(testData)"
   ]
  },
  {
   "cell_type": "code",
   "execution_count": 291,
   "metadata": {},
   "outputs": [],
   "source": [
    "myFormula <- AIQNextDay ~ rainfallVolume + WindIndexQuality + AIQ"
   ]
  },
  {
   "cell_type": "code",
   "execution_count": 292,
   "metadata": {},
   "outputs": [],
   "source": [
    "madrid_rpart <- rpart(myFormula,data=trainData, control = rpart.control(minsplit = 10))"
   ]
  },
  {
   "cell_type": "markdown",
   "metadata": {},
   "source": [
    "#### Comprobación de los datos de entrenamiento"
   ]
  },
  {
   "cell_type": "code",
   "execution_count": 293,
   "metadata": {},
   "outputs": [
    {
     "data": {
      "text/html": [
       "<dl>\n",
       "\t<dt>$names</dt>\n",
       "\t\t<dd><ol class=list-inline>\n",
       "\t<li>'frame'</li>\n",
       "\t<li>'where'</li>\n",
       "\t<li>'call'</li>\n",
       "\t<li>'terms'</li>\n",
       "\t<li>'cptable'</li>\n",
       "\t<li>'method'</li>\n",
       "\t<li>'parms'</li>\n",
       "\t<li>'control'</li>\n",
       "\t<li>'functions'</li>\n",
       "\t<li>'numresp'</li>\n",
       "\t<li>'splits'</li>\n",
       "\t<li>'csplit'</li>\n",
       "\t<li>'variable.importance'</li>\n",
       "\t<li>'y'</li>\n",
       "\t<li>'ordered'</li>\n",
       "</ol>\n",
       "</dd>\n",
       "\t<dt>$xlevels</dt>\n",
       "\t\t<dd><dl>\n",
       "\t<dt>$rainfallVolume</dt>\n",
       "\t\t<dd><ol class=list-inline>\n",
       "\t<li>'MODERATE'</li>\n",
       "\t<li>'STRONG'</li>\n",
       "\t<li>'TORRENTIAL RAIN'</li>\n",
       "\t<li>'VERY STRONG'</li>\n",
       "\t<li>'WEAK'</li>\n",
       "</ol>\n",
       "</dd>\n",
       "\t<dt>$WindIndexQuality</dt>\n",
       "\t\t<dd>'LIGHT WIND'</dd>\n",
       "\t<dt>$AIQ</dt>\n",
       "\t\t<dd><ol class=list-inline>\n",
       "\t<li>'FAIR'</li>\n",
       "\t<li>'GOOD'</li>\n",
       "\t<li>'NA'</li>\n",
       "\t<li>'POOR'</li>\n",
       "\t<li>'VERY GOOD'</li>\n",
       "\t<li>'VERY POOR'</li>\n",
       "</ol>\n",
       "</dd>\n",
       "</dl>\n",
       "</dd>\n",
       "\t<dt>$ylevels</dt>\n",
       "\t\t<dd><ol class=list-inline>\n",
       "\t<li>'FAIR'</li>\n",
       "\t<li>'GOOD'</li>\n",
       "\t<li>'NA'</li>\n",
       "\t<li>'POOR'</li>\n",
       "\t<li>'VERY GOOD'</li>\n",
       "\t<li>'VERY POOR'</li>\n",
       "</ol>\n",
       "</dd>\n",
       "\t<dt>$class</dt>\n",
       "\t\t<dd>'rpart'</dd>\n",
       "</dl>\n"
      ],
      "text/latex": [
       "\\begin{description}\n",
       "\\item[\\$names] \\begin{enumerate*}\n",
       "\\item 'frame'\n",
       "\\item 'where'\n",
       "\\item 'call'\n",
       "\\item 'terms'\n",
       "\\item 'cptable'\n",
       "\\item 'method'\n",
       "\\item 'parms'\n",
       "\\item 'control'\n",
       "\\item 'functions'\n",
       "\\item 'numresp'\n",
       "\\item 'splits'\n",
       "\\item 'csplit'\n",
       "\\item 'variable.importance'\n",
       "\\item 'y'\n",
       "\\item 'ordered'\n",
       "\\end{enumerate*}\n",
       "\n",
       "\\item[\\$xlevels] \\begin{description}\n",
       "\\item[\\$rainfallVolume] \\begin{enumerate*}\n",
       "\\item 'MODERATE'\n",
       "\\item 'STRONG'\n",
       "\\item 'TORRENTIAL RAIN'\n",
       "\\item 'VERY STRONG'\n",
       "\\item 'WEAK'\n",
       "\\end{enumerate*}\n",
       "\n",
       "\\item[\\$WindIndexQuality] 'LIGHT WIND'\n",
       "\\item[\\$AIQ] \\begin{enumerate*}\n",
       "\\item 'FAIR'\n",
       "\\item 'GOOD'\n",
       "\\item 'NA'\n",
       "\\item 'POOR'\n",
       "\\item 'VERY GOOD'\n",
       "\\item 'VERY POOR'\n",
       "\\end{enumerate*}\n",
       "\n",
       "\\end{description}\n",
       "\n",
       "\\item[\\$ylevels] \\begin{enumerate*}\n",
       "\\item 'FAIR'\n",
       "\\item 'GOOD'\n",
       "\\item 'NA'\n",
       "\\item 'POOR'\n",
       "\\item 'VERY GOOD'\n",
       "\\item 'VERY POOR'\n",
       "\\end{enumerate*}\n",
       "\n",
       "\\item[\\$class] 'rpart'\n",
       "\\end{description}\n"
      ],
      "text/markdown": [
       "$names\n",
       ":   1. 'frame'\n",
       "2. 'where'\n",
       "3. 'call'\n",
       "4. 'terms'\n",
       "5. 'cptable'\n",
       "6. 'method'\n",
       "7. 'parms'\n",
       "8. 'control'\n",
       "9. 'functions'\n",
       "10. 'numresp'\n",
       "11. 'splits'\n",
       "12. 'csplit'\n",
       "13. 'variable.importance'\n",
       "14. 'y'\n",
       "15. 'ordered'\n",
       "\n",
       "\n",
       "\n",
       "$xlevels\n",
       ":   $rainfallVolume\n",
       ":   1. 'MODERATE'\n",
       "2. 'STRONG'\n",
       "3. 'TORRENTIAL RAIN'\n",
       "4. 'VERY STRONG'\n",
       "5. 'WEAK'\n",
       "\n",
       "\n",
       "\n",
       "$WindIndexQuality\n",
       ":   'LIGHT WIND'\n",
       "$AIQ\n",
       ":   1. 'FAIR'\n",
       "2. 'GOOD'\n",
       "3. 'NA'\n",
       "4. 'POOR'\n",
       "5. 'VERY GOOD'\n",
       "6. 'VERY POOR'\n",
       "\n",
       "\n",
       "\n",
       "\n",
       "\n",
       "\n",
       "$ylevels\n",
       ":   1. 'FAIR'\n",
       "2. 'GOOD'\n",
       "3. 'NA'\n",
       "4. 'POOR'\n",
       "5. 'VERY GOOD'\n",
       "6. 'VERY POOR'\n",
       "\n",
       "\n",
       "\n",
       "$class\n",
       ":   'rpart'\n",
       "\n",
       "\n"
      ],
      "text/plain": [
       "$names\n",
       " [1] \"frame\"               \"where\"               \"call\"               \n",
       " [4] \"terms\"               \"cptable\"             \"method\"             \n",
       " [7] \"parms\"               \"control\"             \"functions\"          \n",
       "[10] \"numresp\"             \"splits\"              \"csplit\"             \n",
       "[13] \"variable.importance\" \"y\"                   \"ordered\"            \n",
       "\n",
       "$xlevels\n",
       "$xlevels$rainfallVolume\n",
       "[1] \"MODERATE\"        \"STRONG\"          \"TORRENTIAL RAIN\" \"VERY STRONG\"    \n",
       "[5] \"WEAK\"           \n",
       "\n",
       "$xlevels$WindIndexQuality\n",
       "[1] \"LIGHT WIND\"\n",
       "\n",
       "$xlevels$AIQ\n",
       "[1] \"FAIR\"      \"GOOD\"      \"NA\"        \"POOR\"      \"VERY GOOD\" \"VERY POOR\"\n",
       "\n",
       "\n",
       "$ylevels\n",
       "[1] \"FAIR\"      \"GOOD\"      \"NA\"        \"POOR\"      \"VERY GOOD\" \"VERY POOR\"\n",
       "\n",
       "$class\n",
       "[1] \"rpart\"\n"
      ]
     },
     "metadata": {},
     "output_type": "display_data"
    }
   ],
   "source": [
    "attributes(madrid_rpart)"
   ]
  },
  {
   "cell_type": "code",
   "execution_count": 294,
   "metadata": {},
   "outputs": [
    {
     "name": "stdout",
     "output_type": "stream",
     "text": [
      "Call:\n",
      "rpart(formula = myFormula, data = trainData, control = rpart.control(minsplit = 10))\n",
      "  n= 96021 \n",
      "\n",
      "         CP nsplit rel error    xerror        xstd\n",
      "1 0.2416426      0 1.0000000 1.0000000 0.003537517\n",
      "2 0.0100000      1 0.7583574 0.7583574 0.003376175\n",
      "\n",
      "Variable importance\n",
      "AIQ \n",
      "100 \n",
      "\n",
      "Node number 1: 96021 observations,    complexity param=0.2416426\n",
      "  predicted class=GOOD  expected loss=0.4542131  P(node) =1\n",
      "    class counts: 32495 52407   938  4772  5198   211\n",
      "   probabilities: 0.338 0.546 0.010 0.050 0.054 0.002 \n",
      "  left son=2 (37579 obs) right son=3 (58442 obs)\n",
      "  Primary splits:\n",
      "      AIQ            splits as  LRRLRL, improve=7799.7660, (0 missing)\n",
      "      rainfallVolume splits as  RRRLL,  improve= 491.2443, (0 missing)\n",
      "\n",
      "Node number 2: 37579 observations\n",
      "  predicted class=FAIR  expected loss=0.4271801  P(node) =0.3913623\n",
      "    class counts: 21526 10987   341  4405   121   199\n",
      "   probabilities: 0.573 0.292 0.009 0.117 0.003 0.005 \n",
      "\n",
      "Node number 3: 58442 observations\n",
      "  predicted class=GOOD  expected loss=0.2912631  P(node) =0.6086377\n",
      "    class counts: 10969 41420   597   367  5077    12\n",
      "   probabilities: 0.188 0.709 0.010 0.006 0.087 0.000 \n",
      "\n"
     ]
    }
   ],
   "source": [
    "summary(madrid_rpart)"
   ]
  },
  {
   "cell_type": "code",
   "execution_count": 295,
   "metadata": {},
   "outputs": [
    {
     "data": {
      "image/png": "[encoded data removed]",
      "text/plain": [
       "Plot with title \"\""
      ]
     },
     "metadata": {},
     "output_type": "display_data"
    }
   ],
   "source": [
    "fancyRpartPlot(madrid_rpart, caption = NULL)"
   ]
  },
  {
   "cell_type": "markdown",
   "metadata": {},
   "source": [
    "Las variables independientes son la calidad del aire(AIQ), las precipitaciones y la velocidad del viento del dia anterior. \n",
    "\n",
    "La unica variable independiente que sale representada en el arbol de decisiones es la calidad del aire del dia anterior(AIQ) al ser la que adquiere mayor importancia,\n",
    "aunque se tienen en cuenta el resto de variables independientes.\n",
    "\n",
    "La variable dependiente es la calidad del aire del dia siguiente.\n",
    "\n",
    "Si la calidad del aire del dia anterior(AIQ) es asumible(fair), pobre o muy pobre teniendo en cuenta el valor del resto de variables independientes, la calidad del aire al dia siguiente será asumible en un 39% de los casos, en caso contrario la calidad del aire al dia siguiente será buena en un 61% de los casos."
   ]
  },
  {
   "cell_type": "markdown",
   "metadata": {},
   "source": [
    "#### Predicción con los datos de test"
   ]
  },
  {
   "cell_type": "markdown",
   "metadata": {},
   "source": [
    "Se añadirá una nueva columna, en esta columna se encontrará el valor predicho por el árbol de decisión"
   ]
  },
  {
   "cell_type": "code",
   "execution_count": 296,
   "metadata": {},
   "outputs": [
    {
     "data": {
      "text/html": [
       "<table>\n",
       "<thead><tr><th></th><th scope=col>date</th><th scope=col>station</th><th scope=col>CO</th><th scope=col>NO_2</th><th scope=col>O_3</th><th scope=col>PM10</th><th scope=col>SO_2</th><th scope=col>AQ</th><th scope=col>AIQ</th><th scope=col>AQNextDay</th><th scope=col>AIQNextDay</th><th scope=col>quantity</th><th scope=col>rainfallVolume</th><th scope=col>Speed</th><th scope=col>WindIndexQuality</th><th scope=col>AIQExpected</th></tr></thead>\n",
       "<tbody>\n",
       "\t<tr><th scope=row>36098</th><td>2005-09-01</td><td>28079039  </td><td>0.7016667 </td><td>72.20583  </td><td>35.91696  </td><td>11.42000  </td><td>7.513750  </td><td>72.20583  </td><td>FAIR      </td><td>86.23957  </td><td>FAIR      </td><td>0.0       </td><td>WEAK      </td><td>1.1       </td><td>LIGHT WIND</td><td>FAIR      </td></tr>\n",
       "\t<tr><th scope=row>36110</th><td>2005-09-02</td><td>28079039  </td><td>0.6775000 </td><td>76.58500  </td><td>43.05773  </td><td>86.23957  </td><td>8.038750  </td><td>86.23957  </td><td>FAIR      </td><td>60.24391  </td><td>GOOD      </td><td>0.0       </td><td>WEAK      </td><td>0.8       </td><td>LIGHT WIND</td><td>FAIR      </td></tr>\n",
       "\t<tr><th scope=row>36142</th><td>2005-09-03</td><td>28079039  </td><td>0.5225000 </td><td>48.17250  </td><td>60.24391  </td><td>44.47045  </td><td>6.763333  </td><td>60.24391  </td><td>GOOD      </td><td>81.37125  </td><td>FAIR      </td><td>0.0       </td><td>WEAK      </td><td>1.7       </td><td>LIGHT WIND</td><td>GOOD      </td></tr>\n",
       "\t<tr><th scope=row>36159</th><td>2005-09-04</td><td>28079039  </td><td>0.9395833 </td><td>81.37125  </td><td>33.38217  </td><td>31.92412  </td><td>8.664167  </td><td>81.37125  </td><td>FAIR      </td><td>48.32500  </td><td>GOOD      </td><td>0.0       </td><td>WEAK      </td><td>2.2       </td><td>LIGHT WIND</td><td>FAIR      </td></tr>\n",
       "\t<tr><th scope=row>36188</th><td>2005-09-05</td><td>28079039  </td><td>0.6212500 </td><td>39.21750  </td><td>42.94913  </td><td>48.32500  </td><td>6.352500  </td><td>48.32500  </td><td>GOOD      </td><td>45.98130  </td><td>GOOD      </td><td>0.0       </td><td>WEAK      </td><td>3.3       </td><td>LIGHT WIND</td><td>GOOD      </td></tr>\n",
       "\t<tr><th scope=row>36216</th><td>2005-09-06</td><td>28079039  </td><td>0.5654167 </td><td>31.01583  </td><td>45.98130  </td><td>35.21783  </td><td>6.028750  </td><td>45.98130  </td><td>GOOD      </td><td>44.74636  </td><td>GOOD      </td><td>2.5       </td><td>MODERATE  </td><td>3.1       </td><td>LIGHT WIND</td><td>GOOD      </td></tr>\n",
       "</tbody>\n",
       "</table>\n"
      ],
      "text/latex": [
       "\\begin{tabular}{r|llllllllllllllll}\n",
       "  & date & station & CO & NO\\_2 & O\\_3 & PM10 & SO\\_2 & AQ & AIQ & AQNextDay & AIQNextDay & quantity & rainfallVolume & Speed & WindIndexQuality & AIQExpected\\\\\n",
       "\\hline\n",
       "\t36098 & 2005-09-01 & 28079039   & 0.7016667  & 72.20583   & 35.91696   & 11.42000   & 7.513750   & 72.20583   & FAIR       & 86.23957   & FAIR       & 0.0        & WEAK       & 1.1        & LIGHT WIND & FAIR      \\\\\n",
       "\t36110 & 2005-09-02 & 28079039   & 0.6775000  & 76.58500   & 43.05773   & 86.23957   & 8.038750   & 86.23957   & FAIR       & 60.24391   & GOOD       & 0.0        & WEAK       & 0.8        & LIGHT WIND & FAIR      \\\\\n",
       "\t36142 & 2005-09-03 & 28079039   & 0.5225000  & 48.17250   & 60.24391   & 44.47045   & 6.763333   & 60.24391   & GOOD       & 81.37125   & FAIR       & 0.0        & WEAK       & 1.7        & LIGHT WIND & GOOD      \\\\\n",
       "\t36159 & 2005-09-04 & 28079039   & 0.9395833  & 81.37125   & 33.38217   & 31.92412   & 8.664167   & 81.37125   & FAIR       & 48.32500   & GOOD       & 0.0        & WEAK       & 2.2        & LIGHT WIND & FAIR      \\\\\n",
       "\t36188 & 2005-09-05 & 28079039   & 0.6212500  & 39.21750   & 42.94913   & 48.32500   & 6.352500   & 48.32500   & GOOD       & 45.98130   & GOOD       & 0.0        & WEAK       & 3.3        & LIGHT WIND & GOOD      \\\\\n",
       "\t36216 & 2005-09-06 & 28079039   & 0.5654167  & 31.01583   & 45.98130   & 35.21783   & 6.028750   & 45.98130   & GOOD       & 44.74636   & GOOD       & 2.5        & MODERATE   & 3.1        & LIGHT WIND & GOOD      \\\\\n",
       "\\end{tabular}\n"
      ],
      "text/markdown": [
       "\n",
       "| <!--/--> | date | station | CO | NO_2 | O_3 | PM10 | SO_2 | AQ | AIQ | AQNextDay | AIQNextDay | quantity | rainfallVolume | Speed | WindIndexQuality | AIQExpected | \n",
       "|---|---|---|---|---|---|\n",
       "| 36098 | 2005-09-01 | 28079039   | 0.7016667  | 72.20583   | 35.91696   | 11.42000   | 7.513750   | 72.20583   | FAIR       | 86.23957   | FAIR       | 0.0        | WEAK       | 1.1        | LIGHT WIND | FAIR       | \n",
       "| 36110 | 2005-09-02 | 28079039   | 0.6775000  | 76.58500   | 43.05773   | 86.23957   | 8.038750   | 86.23957   | FAIR       | 60.24391   | GOOD       | 0.0        | WEAK       | 0.8        | LIGHT WIND | FAIR       | \n",
       "| 36142 | 2005-09-03 | 28079039   | 0.5225000  | 48.17250   | 60.24391   | 44.47045   | 6.763333   | 60.24391   | GOOD       | 81.37125   | FAIR       | 0.0        | WEAK       | 1.7        | LIGHT WIND | GOOD       | \n",
       "| 36159 | 2005-09-04 | 28079039   | 0.9395833  | 81.37125   | 33.38217   | 31.92412   | 8.664167   | 81.37125   | FAIR       | 48.32500   | GOOD       | 0.0        | WEAK       | 2.2        | LIGHT WIND | FAIR       | \n",
       "| 36188 | 2005-09-05 | 28079039   | 0.6212500  | 39.21750   | 42.94913   | 48.32500   | 6.352500   | 48.32500   | GOOD       | 45.98130   | GOOD       | 0.0        | WEAK       | 3.3        | LIGHT WIND | GOOD       | \n",
       "| 36216 | 2005-09-06 | 28079039   | 0.5654167  | 31.01583   | 45.98130   | 35.21783   | 6.028750   | 45.98130   | GOOD       | 44.74636   | GOOD       | 2.5        | MODERATE   | 3.1        | LIGHT WIND | GOOD       | \n",
       "\n",
       "\n"
      ],
      "text/plain": [
       "      date       station  CO        NO_2     O_3      PM10     SO_2    \n",
       "36098 2005-09-01 28079039 0.7016667 72.20583 35.91696 11.42000 7.513750\n",
       "36110 2005-09-02 28079039 0.6775000 76.58500 43.05773 86.23957 8.038750\n",
       "36142 2005-09-03 28079039 0.5225000 48.17250 60.24391 44.47045 6.763333\n",
       "36159 2005-09-04 28079039 0.9395833 81.37125 33.38217 31.92412 8.664167\n",
       "36188 2005-09-05 28079039 0.6212500 39.21750 42.94913 48.32500 6.352500\n",
       "36216 2005-09-06 28079039 0.5654167 31.01583 45.98130 35.21783 6.028750\n",
       "      AQ       AIQ  AQNextDay AIQNextDay quantity rainfallVolume Speed\n",
       "36098 72.20583 FAIR 86.23957  FAIR       0.0      WEAK           1.1  \n",
       "36110 86.23957 FAIR 60.24391  GOOD       0.0      WEAK           0.8  \n",
       "36142 60.24391 GOOD 81.37125  FAIR       0.0      WEAK           1.7  \n",
       "36159 81.37125 FAIR 48.32500  GOOD       0.0      WEAK           2.2  \n",
       "36188 48.32500 GOOD 45.98130  GOOD       0.0      WEAK           3.3  \n",
       "36216 45.98130 GOOD 44.74636  GOOD       2.5      MODERATE       3.1  \n",
       "      WindIndexQuality AIQExpected\n",
       "36098 LIGHT WIND       FAIR       \n",
       "36110 LIGHT WIND       FAIR       \n",
       "36142 LIGHT WIND       GOOD       \n",
       "36159 LIGHT WIND       FAIR       \n",
       "36188 LIGHT WIND       GOOD       \n",
       "36216 LIGHT WIND       GOOD       "
      ]
     },
     "metadata": {},
     "output_type": "display_data"
    }
   ],
   "source": [
    "testData$AIQExpected <- predict(madrid_rpart, newdata = testData, type = \"class\")\n",
    "head(testData)"
   ]
  },
  {
   "cell_type": "code",
   "execution_count": 297,
   "metadata": {},
   "outputs": [
    {
     "data": {
      "text/plain": [
       "           \n",
       "             FAIR  GOOD    NA  POOR VERY GOOD VERY POOR\n",
       "  FAIR       6431  3544    69   577       123        10\n",
       "  GOOD       3660 18814   522    64      7329        10\n",
       "  NA            0     0     0     0         0         0\n",
       "  POOR          0     0     0     0         0         0\n",
       "  VERY GOOD     0     0     0     0         0         0\n",
       "  VERY POOR     0     0     0     0         0         0"
      ]
     },
     "metadata": {},
     "output_type": "display_data"
    }
   ],
   "source": [
    "predictTable<- table(testData$AIQExpected,testData$AIQNextDay)\n",
    "predictTable"
   ]
  },
  {
   "cell_type": "code",
   "execution_count": 298,
   "metadata": {},
   "outputs": [
    {
     "data": {
      "text/html": [
       "0.613442519378903"
      ],
      "text/latex": [
       "0.613442519378903"
      ],
      "text/markdown": [
       "0.613442519378903"
      ],
      "text/plain": [
       "[1] 0.6134425"
      ]
     },
     "metadata": {},
     "output_type": "display_data"
    }
   ],
   "source": [
    "accuracy <- sum(diag(predictTable))/sum(predictTable)\n",
    "accuracy"
   ]
  },
  {
   "cell_type": "markdown",
   "metadata": {},
   "source": [
    "Observamos que obtenemos un nivel de confianza del 61 %, este es muy bajo por lo que se probará a utilizar otro modelo predictivo"
   ]
  },
  {
   "cell_type": "code",
   "execution_count": 299,
   "metadata": {},
   "outputs": [],
   "source": [
    "rm(madrid_rpart)\n",
    "rm(testData)\n",
    "rm(trainData)\n",
    "rm(predictTable)"
   ]
  },
  {
   "cell_type": "markdown",
   "metadata": {},
   "source": [
    "### Árbol de decisiones version02"
   ]
  },
  {
   "cell_type": "markdown",
   "metadata": {},
   "source": [
    "Inicializamos el gestor de memoria"
   ]
  },
  {
   "cell_type": "code",
   "execution_count": 300,
   "metadata": {},
   "outputs": [
    {
     "data": {
      "text/html": [
       "<table>\n",
       "<thead><tr><th></th><th scope=col>used</th><th scope=col>(Mb)</th><th scope=col>gc trigger</th><th scope=col>(Mb)</th><th scope=col>max used</th><th scope=col>(Mb)</th></tr></thead>\n",
       "<tbody>\n",
       "\t<tr><th scope=row>Ncells</th><td> 2148647 </td><td>114.8    </td><td>  4215964</td><td>225.2    </td><td>  4215964</td><td> 225.2   </td></tr>\n",
       "\t<tr><th scope=row>Vcells</th><td>11833442 </td><td> 90.3    </td><td>123816480</td><td>944.7    </td><td>234018106</td><td>1785.5   </td></tr>\n",
       "</tbody>\n",
       "</table>\n"
      ],
      "text/latex": [
       "\\begin{tabular}{r|llllll}\n",
       "  & used & (Mb) & gc trigger & (Mb) & max used & (Mb)\\\\\n",
       "\\hline\n",
       "\tNcells &  2148647  & 114.8     &   4215964 & 225.2     &   4215964 &  225.2   \\\\\n",
       "\tVcells & 11833442  &  90.3     & 123816480 & 944.7     & 234018106 & 1785.5   \\\\\n",
       "\\end{tabular}\n"
      ],
      "text/markdown": [
       "\n",
       "| <!--/--> | used | (Mb) | gc trigger | (Mb) | max used | (Mb) | \n",
       "|---|---|\n",
       "| Ncells |  2148647  | 114.8     |   4215964 | 225.2     |   4215964 |  225.2    | \n",
       "| Vcells | 11833442  |  90.3     | 123816480 | 944.7     | 234018106 | 1785.5    | \n",
       "\n",
       "\n"
      ],
      "text/plain": [
       "       used     (Mb)  gc trigger (Mb)  max used  (Mb)  \n",
       "Ncells  2148647 114.8   4215964  225.2   4215964  225.2\n",
       "Vcells 11833442  90.3 123816480  944.7 234018106 1785.5"
      ]
     },
     "metadata": {},
     "output_type": "display_data"
    }
   ],
   "source": [
    "#Gestor de memoria\n",
    "gc()"
   ]
  },
  {
   "cell_type": "code",
   "execution_count": 301,
   "metadata": {},
   "outputs": [
    {
     "data": {
      "text/html": [
       "<table>\n",
       "<thead><tr><th scope=col>date</th><th scope=col>CO</th><th scope=col>NO_2</th><th scope=col>O_3</th><th scope=col>PM10</th><th scope=col>SO_2</th><th scope=col>totalPollution</th><th scope=col>calidadAire</th><th scope=col>quantity</th><th scope=col>lluvia</th></tr></thead>\n",
       "<tbody>\n",
       "\t<tr><td>ene. 2001</td><td>1.1599895</td><td>57.09584 </td><td>19.48279 </td><td>28.36042 </td><td>25.03678 </td><td>131.1358 </td><td>BAJA     </td><td>2.1387097</td><td>FUERTE   </td></tr>\n",
       "\t<tr><td>feb. 2001</td><td>1.2319305</td><td>64.67620 </td><td>20.53339 </td><td>34.69526 </td><td>29.09892 </td><td>150.2357 </td><td>MUY BAJA </td><td>0.1214286</td><td>DEBIL    </td></tr>\n",
       "\t<tr><td>mar. 2001</td><td>0.8318802</td><td>49.26138 </td><td>28.89632 </td><td>23.20452 </td><td>18.42624 </td><td>120.6203 </td><td>BAJA     </td><td>2.0903226</td><td>FUERTE   </td></tr>\n",
       "\t<tr><td>abr. 2001</td><td>0.6788641</td><td>52.85142 </td><td>40.29320 </td><td>25.29923 </td><td>15.15104 </td><td>134.2738 </td><td>BAJA     </td><td>0.2034483</td><td>MODERADA </td></tr>\n",
       "\t<tr><td>may. 2001</td><td>0.7728507</td><td>64.12986 </td><td>41.05985 </td><td>28.86099 </td><td>14.71505 </td><td>149.5386 </td><td>MUY BAJA </td><td>2.0068966</td><td>FUERTE   </td></tr>\n",
       "\t<tr><td>jun. 2001</td><td>0.7225184</td><td>67.03988 </td><td>45.59141 </td><td>37.66015 </td><td>15.09062 </td><td>166.1046 </td><td>MUY BAJA </td><td>0.1700000</td><td>DEBIL    </td></tr>\n",
       "</tbody>\n",
       "</table>\n"
      ],
      "text/latex": [
       "\\begin{tabular}{r|llllllllll}\n",
       " date & CO & NO\\_2 & O\\_3 & PM10 & SO\\_2 & totalPollution & calidadAire & quantity & lluvia\\\\\n",
       "\\hline\n",
       "\t ene. 2001 & 1.1599895 & 57.09584  & 19.48279  & 28.36042  & 25.03678  & 131.1358  & BAJA      & 2.1387097 & FUERTE   \\\\\n",
       "\t feb. 2001 & 1.2319305 & 64.67620  & 20.53339  & 34.69526  & 29.09892  & 150.2357  & MUY BAJA  & 0.1214286 & DEBIL    \\\\\n",
       "\t mar. 2001 & 0.8318802 & 49.26138  & 28.89632  & 23.20452  & 18.42624  & 120.6203  & BAJA      & 2.0903226 & FUERTE   \\\\\n",
       "\t abr. 2001 & 0.6788641 & 52.85142  & 40.29320  & 25.29923  & 15.15104  & 134.2738  & BAJA      & 0.2034483 & MODERADA \\\\\n",
       "\t may. 2001 & 0.7728507 & 64.12986  & 41.05985  & 28.86099  & 14.71505  & 149.5386  & MUY BAJA  & 2.0068966 & FUERTE   \\\\\n",
       "\t jun. 2001 & 0.7225184 & 67.03988  & 45.59141  & 37.66015  & 15.09062  & 166.1046  & MUY BAJA  & 0.1700000 & DEBIL    \\\\\n",
       "\\end{tabular}\n"
      ],
      "text/markdown": [
       "\n",
       "date | CO | NO_2 | O_3 | PM10 | SO_2 | totalPollution | calidadAire | quantity | lluvia | \n",
       "|---|---|---|---|---|---|\n",
       "| ene. 2001 | 1.1599895 | 57.09584  | 19.48279  | 28.36042  | 25.03678  | 131.1358  | BAJA      | 2.1387097 | FUERTE    | \n",
       "| feb. 2001 | 1.2319305 | 64.67620  | 20.53339  | 34.69526  | 29.09892  | 150.2357  | MUY BAJA  | 0.1214286 | DEBIL     | \n",
       "| mar. 2001 | 0.8318802 | 49.26138  | 28.89632  | 23.20452  | 18.42624  | 120.6203  | BAJA      | 2.0903226 | FUERTE    | \n",
       "| abr. 2001 | 0.6788641 | 52.85142  | 40.29320  | 25.29923  | 15.15104  | 134.2738  | BAJA      | 0.2034483 | MODERADA  | \n",
       "| may. 2001 | 0.7728507 | 64.12986  | 41.05985  | 28.86099  | 14.71505  | 149.5386  | MUY BAJA  | 2.0068966 | FUERTE    | \n",
       "| jun. 2001 | 0.7225184 | 67.03988  | 45.59141  | 37.66015  | 15.09062  | 166.1046  | MUY BAJA  | 0.1700000 | DEBIL     | \n",
       "\n",
       "\n"
      ],
      "text/plain": [
       "  date      CO        NO_2     O_3      PM10     SO_2     totalPollution\n",
       "1 ene. 2001 1.1599895 57.09584 19.48279 28.36042 25.03678 131.1358      \n",
       "2 feb. 2001 1.2319305 64.67620 20.53339 34.69526 29.09892 150.2357      \n",
       "3 mar. 2001 0.8318802 49.26138 28.89632 23.20452 18.42624 120.6203      \n",
       "4 abr. 2001 0.6788641 52.85142 40.29320 25.29923 15.15104 134.2738      \n",
       "5 may. 2001 0.7728507 64.12986 41.05985 28.86099 14.71505 149.5386      \n",
       "6 jun. 2001 0.7225184 67.03988 45.59141 37.66015 15.09062 166.1046      \n",
       "  calidadAire quantity  lluvia  \n",
       "1 BAJA        2.1387097 FUERTE  \n",
       "2 MUY BAJA    0.1214286 DEBIL   \n",
       "3 BAJA        2.0903226 FUERTE  \n",
       "4 BAJA        0.2034483 MODERADA\n",
       "5 MUY BAJA    2.0068966 FUERTE  \n",
       "6 MUY BAJA    0.1700000 DEBIL   "
      ]
     },
     "metadata": {},
     "output_type": "display_data"
    },
    {
     "data": {
      "text/html": [
       "<table>\n",
       "<thead><tr><th></th><th scope=col>date</th><th scope=col>CO</th><th scope=col>NO_2</th><th scope=col>O_3</th><th scope=col>PM10</th><th scope=col>SO_2</th><th scope=col>totalPollution</th><th scope=col>calidadAire</th><th scope=col>quantity</th><th scope=col>lluvia</th></tr></thead>\n",
       "<tbody>\n",
       "\t<tr><th scope=row>197</th><td>nov. 2017 </td><td>0.2134110 </td><td>62.46472  </td><td>12.52191  </td><td>10.191579 </td><td>3.359910  </td><td>88.75153  </td><td>MEDIA     </td><td> 0.2966667</td><td>MODERADA  </td></tr>\n",
       "\t<tr><th scope=row>198</th><td>dic. 2017 </td><td>0.1916438 </td><td>53.39729  </td><td>13.58503  </td><td> 7.984253 </td><td>3.020341  </td><td>78.17855  </td><td>ALTA      </td><td> 0.6419355</td><td>MODERADA  </td></tr>\n",
       "\t<tr><th scope=row>199</th><td>feb. 2018 </td><td>0.1625285 </td><td>45.91508  </td><td>20.71621  </td><td> 7.437788 </td><td>2.586440  </td><td>76.81804  </td><td>ALTA      </td><td> 5.6785714</td><td>FUERTE    </td></tr>\n",
       "\t<tr><th scope=row>200</th><td>mar. 2018 </td><td>0.1214441 </td><td>29.51463  </td><td>34.40214  </td><td> 4.351181 </td><td>1.852738  </td><td>70.24213  </td><td>ALTA      </td><td>11.9225806</td><td>FUERTE    </td></tr>\n",
       "\t<tr><th scope=row>201</th><td>abr. 2018 </td><td>0.1180984 </td><td>30.99135  </td><td>34.43283  </td><td> 9.340042 </td><td>1.903440  </td><td>76.78576  </td><td>ALTA      </td><td> 5.0866667</td><td>FUERTE    </td></tr>\n",
       "\t<tr><th scope=row>202</th><td>may. 2018 </td><td>0.1041667 </td><td>29.12500  </td><td>32.87500  </td><td> 2.416667 </td><td>1.875000  </td><td>66.39583  </td><td>ALTA      </td><td> 4.0838710</td><td>FUERTE    </td></tr>\n",
       "</tbody>\n",
       "</table>\n"
      ],
      "text/latex": [
       "\\begin{tabular}{r|llllllllll}\n",
       "  & date & CO & NO\\_2 & O\\_3 & PM10 & SO\\_2 & totalPollution & calidadAire & quantity & lluvia\\\\\n",
       "\\hline\n",
       "\t197 & nov. 2017  & 0.2134110  & 62.46472   & 12.52191   & 10.191579  & 3.359910   & 88.75153   & MEDIA      &  0.2966667 & MODERADA  \\\\\n",
       "\t198 & dic. 2017  & 0.1916438  & 53.39729   & 13.58503   &  7.984253  & 3.020341   & 78.17855   & ALTA       &  0.6419355 & MODERADA  \\\\\n",
       "\t199 & feb. 2018  & 0.1625285  & 45.91508   & 20.71621   &  7.437788  & 2.586440   & 76.81804   & ALTA       &  5.6785714 & FUERTE    \\\\\n",
       "\t200 & mar. 2018  & 0.1214441  & 29.51463   & 34.40214   &  4.351181  & 1.852738   & 70.24213   & ALTA       & 11.9225806 & FUERTE    \\\\\n",
       "\t201 & abr. 2018  & 0.1180984  & 30.99135   & 34.43283   &  9.340042  & 1.903440   & 76.78576   & ALTA       &  5.0866667 & FUERTE    \\\\\n",
       "\t202 & may. 2018  & 0.1041667  & 29.12500   & 32.87500   &  2.416667  & 1.875000   & 66.39583   & ALTA       &  4.0838710 & FUERTE    \\\\\n",
       "\\end{tabular}\n"
      ],
      "text/markdown": [
       "\n",
       "| <!--/--> | date | CO | NO_2 | O_3 | PM10 | SO_2 | totalPollution | calidadAire | quantity | lluvia | \n",
       "|---|---|---|---|---|---|\n",
       "| 197 | nov. 2017  | 0.2134110  | 62.46472   | 12.52191   | 10.191579  | 3.359910   | 88.75153   | MEDIA      |  0.2966667 | MODERADA   | \n",
       "| 198 | dic. 2017  | 0.1916438  | 53.39729   | 13.58503   |  7.984253  | 3.020341   | 78.17855   | ALTA       |  0.6419355 | MODERADA   | \n",
       "| 199 | feb. 2018  | 0.1625285  | 45.91508   | 20.71621   |  7.437788  | 2.586440   | 76.81804   | ALTA       |  5.6785714 | FUERTE     | \n",
       "| 200 | mar. 2018  | 0.1214441  | 29.51463   | 34.40214   |  4.351181  | 1.852738   | 70.24213   | ALTA       | 11.9225806 | FUERTE     | \n",
       "| 201 | abr. 2018  | 0.1180984  | 30.99135   | 34.43283   |  9.340042  | 1.903440   | 76.78576   | ALTA       |  5.0866667 | FUERTE     | \n",
       "| 202 | may. 2018  | 0.1041667  | 29.12500   | 32.87500   |  2.416667  | 1.875000   | 66.39583   | ALTA       |  4.0838710 | FUERTE     | \n",
       "\n",
       "\n"
      ],
      "text/plain": [
       "    date      CO        NO_2     O_3      PM10      SO_2     totalPollution\n",
       "197 nov. 2017 0.2134110 62.46472 12.52191 10.191579 3.359910 88.75153      \n",
       "198 dic. 2017 0.1916438 53.39729 13.58503  7.984253 3.020341 78.17855      \n",
       "199 feb. 2018 0.1625285 45.91508 20.71621  7.437788 2.586440 76.81804      \n",
       "200 mar. 2018 0.1214441 29.51463 34.40214  4.351181 1.852738 70.24213      \n",
       "201 abr. 2018 0.1180984 30.99135 34.43283  9.340042 1.903440 76.78576      \n",
       "202 may. 2018 0.1041667 29.12500 32.87500  2.416667 1.875000 66.39583      \n",
       "    calidadAire quantity   lluvia  \n",
       "197 MEDIA        0.2966667 MODERADA\n",
       "198 ALTA         0.6419355 MODERADA\n",
       "199 ALTA         5.6785714 FUERTE  \n",
       "200 ALTA        11.9225806 FUERTE  \n",
       "201 ALTA         5.0866667 FUERTE  \n",
       "202 ALTA         4.0838710 FUERTE  "
      ]
     },
     "metadata": {},
     "output_type": "display_data"
    },
    {
     "name": "stdout",
     "output_type": "stream",
     "text": [
      "'data.frame':\t202 obs. of  10 variables:\n",
      " $ date          : 'yearmon' num  ene. 2001 feb. 2001 mar. 2001 abr. 2001 ...\n",
      " $ CO            : num  1.16 1.232 0.832 0.679 0.773 ...\n",
      " $ NO_2          : num  57.1 64.7 49.3 52.9 64.1 ...\n",
      " $ O_3           : num  19.5 20.5 28.9 40.3 41.1 ...\n",
      " $ PM10          : num  28.4 34.7 23.2 25.3 28.9 ...\n",
      " $ SO_2          : num  25 29.1 18.4 15.2 14.7 ...\n",
      " $ totalPollution: num  131 150 121 134 150 ...\n",
      " $ calidadAire   : chr  \"BAJA\" \"MUY BAJA\" \"BAJA\" \"BAJA\" ...\n",
      " $ quantity      : num  2.139 0.121 2.09 0.203 2.007 ...\n",
      " $ lluvia        : chr  \"FUERTE\" \"DEBIL\" \"FUERTE\" \"MODERADA\" ...\n"
     ]
    }
   ],
   "source": [
    "# Establece una semilla fija para garantizar\n",
    "# la reproducibilidad del ejemplo\n",
    "head(version02)\n",
    "tail(version02)\n",
    "str(version02)\n",
    "set.seed(1234)"
   ]
  },
  {
   "cell_type": "code",
   "execution_count": 302,
   "metadata": {},
   "outputs": [
    {
     "data": {
      "text/html": [
       "<table>\n",
       "<thead><tr><th scope=col>date</th><th scope=col>CO</th><th scope=col>NO_2</th><th scope=col>O_3</th><th scope=col>PM10</th><th scope=col>SO_2</th><th scope=col>totalPollution</th><th scope=col>calidadAire</th><th scope=col>quantity</th><th scope=col>lluvia</th></tr></thead>\n",
       "<tbody>\n",
       "\t<tr><td>ene. 2001</td><td>1.1599895</td><td>57.09584 </td><td>19.48279 </td><td>28.36042 </td><td>25.03678 </td><td>131.1358 </td><td>BAJA     </td><td>2.1387097</td><td>FUERTE   </td></tr>\n",
       "\t<tr><td>feb. 2001</td><td>1.2319305</td><td>64.67620 </td><td>20.53339 </td><td>34.69526 </td><td>29.09892 </td><td>150.2357 </td><td>MUY BAJA </td><td>0.1214286</td><td>DEBIL    </td></tr>\n",
       "\t<tr><td>mar. 2001</td><td>0.8318802</td><td>49.26138 </td><td>28.89632 </td><td>23.20452 </td><td>18.42624 </td><td>120.6203 </td><td>BAJA     </td><td>2.0903226</td><td>FUERTE   </td></tr>\n",
       "\t<tr><td>abr. 2001</td><td>0.6788641</td><td>52.85142 </td><td>40.29320 </td><td>25.29923 </td><td>15.15104 </td><td>134.2738 </td><td>BAJA     </td><td>0.2034483</td><td>MODERADA </td></tr>\n",
       "\t<tr><td>may. 2001</td><td>0.7728507</td><td>64.12986 </td><td>41.05985 </td><td>28.86099 </td><td>14.71505 </td><td>149.5386 </td><td>MUY BAJA </td><td>2.0068966</td><td>FUERTE   </td></tr>\n",
       "\t<tr><td>jun. 2001</td><td>0.7225184</td><td>67.03988 </td><td>45.59141 </td><td>37.66015 </td><td>15.09062 </td><td>166.1046 </td><td>MUY BAJA </td><td>0.1700000</td><td>DEBIL    </td></tr>\n",
       "</tbody>\n",
       "</table>\n"
      ],
      "text/latex": [
       "\\begin{tabular}{r|llllllllll}\n",
       " date & CO & NO\\_2 & O\\_3 & PM10 & SO\\_2 & totalPollution & calidadAire & quantity & lluvia\\\\\n",
       "\\hline\n",
       "\t ene. 2001 & 1.1599895 & 57.09584  & 19.48279  & 28.36042  & 25.03678  & 131.1358  & BAJA      & 2.1387097 & FUERTE   \\\\\n",
       "\t feb. 2001 & 1.2319305 & 64.67620  & 20.53339  & 34.69526  & 29.09892  & 150.2357  & MUY BAJA  & 0.1214286 & DEBIL    \\\\\n",
       "\t mar. 2001 & 0.8318802 & 49.26138  & 28.89632  & 23.20452  & 18.42624  & 120.6203  & BAJA      & 2.0903226 & FUERTE   \\\\\n",
       "\t abr. 2001 & 0.6788641 & 52.85142  & 40.29320  & 25.29923  & 15.15104  & 134.2738  & BAJA      & 0.2034483 & MODERADA \\\\\n",
       "\t may. 2001 & 0.7728507 & 64.12986  & 41.05985  & 28.86099  & 14.71505  & 149.5386  & MUY BAJA  & 2.0068966 & FUERTE   \\\\\n",
       "\t jun. 2001 & 0.7225184 & 67.03988  & 45.59141  & 37.66015  & 15.09062  & 166.1046  & MUY BAJA  & 0.1700000 & DEBIL    \\\\\n",
       "\\end{tabular}\n"
      ],
      "text/markdown": [
       "\n",
       "date | CO | NO_2 | O_3 | PM10 | SO_2 | totalPollution | calidadAire | quantity | lluvia | \n",
       "|---|---|---|---|---|---|\n",
       "| ene. 2001 | 1.1599895 | 57.09584  | 19.48279  | 28.36042  | 25.03678  | 131.1358  | BAJA      | 2.1387097 | FUERTE    | \n",
       "| feb. 2001 | 1.2319305 | 64.67620  | 20.53339  | 34.69526  | 29.09892  | 150.2357  | MUY BAJA  | 0.1214286 | DEBIL     | \n",
       "| mar. 2001 | 0.8318802 | 49.26138  | 28.89632  | 23.20452  | 18.42624  | 120.6203  | BAJA      | 2.0903226 | FUERTE    | \n",
       "| abr. 2001 | 0.6788641 | 52.85142  | 40.29320  | 25.29923  | 15.15104  | 134.2738  | BAJA      | 0.2034483 | MODERADA  | \n",
       "| may. 2001 | 0.7728507 | 64.12986  | 41.05985  | 28.86099  | 14.71505  | 149.5386  | MUY BAJA  | 2.0068966 | FUERTE    | \n",
       "| jun. 2001 | 0.7225184 | 67.03988  | 45.59141  | 37.66015  | 15.09062  | 166.1046  | MUY BAJA  | 0.1700000 | DEBIL     | \n",
       "\n",
       "\n"
      ],
      "text/plain": [
       "  date      CO        NO_2     O_3      PM10     SO_2     totalPollution\n",
       "1 ene. 2001 1.1599895 57.09584 19.48279 28.36042 25.03678 131.1358      \n",
       "2 feb. 2001 1.2319305 64.67620 20.53339 34.69526 29.09892 150.2357      \n",
       "3 mar. 2001 0.8318802 49.26138 28.89632 23.20452 18.42624 120.6203      \n",
       "4 abr. 2001 0.6788641 52.85142 40.29320 25.29923 15.15104 134.2738      \n",
       "5 may. 2001 0.7728507 64.12986 41.05985 28.86099 14.71505 149.5386      \n",
       "6 jun. 2001 0.7225184 67.03988 45.59141 37.66015 15.09062 166.1046      \n",
       "  calidadAire quantity  lluvia  \n",
       "1 BAJA        2.1387097 FUERTE  \n",
       "2 MUY BAJA    0.1214286 DEBIL   \n",
       "3 BAJA        2.0903226 FUERTE  \n",
       "4 BAJA        0.2034483 MODERADA\n",
       "5 MUY BAJA    2.0068966 FUERTE  \n",
       "6 MUY BAJA    0.1700000 DEBIL   "
      ]
     },
     "metadata": {},
     "output_type": "display_data"
    },
    {
     "data": {
      "text/html": [
       "<table>\n",
       "<thead><tr><th></th><th scope=col>date</th><th scope=col>CO</th><th scope=col>NO_2</th><th scope=col>O_3</th><th scope=col>PM10</th><th scope=col>SO_2</th><th scope=col>totalPollution</th><th scope=col>calidadAire</th><th scope=col>quantity</th><th scope=col>lluvia</th></tr></thead>\n",
       "<tbody>\n",
       "\t<tr><th scope=row>141</th><td>mar. 2013 </td><td>0.12770551</td><td>28.54309  </td><td>28.18160  </td><td> 5.893942 </td><td>1.661553  </td><td>64.40788  </td><td>ALTA      </td><td>2.45862069</td><td>FUERTE    </td></tr>\n",
       "\t<tr><th scope=row>142</th><td>abr. 2013 </td><td>0.11978010</td><td>26.61689  </td><td>34.32413  </td><td> 8.277799 </td><td>1.434130  </td><td>70.77274  </td><td>ALTA      </td><td>2.07692308</td><td>FUERTE    </td></tr>\n",
       "\t<tr><th scope=row>143</th><td>may. 2013 </td><td>0.10966471</td><td>25.68011  </td><td>37.88080  </td><td> 7.085345 </td><td>1.211944  </td><td>71.96786  </td><td>ALTA      </td><td>0.65357143</td><td>MODERADA  </td></tr>\n",
       "\t<tr><th scope=row>144</th><td>jun. 2013 </td><td>0.09731844</td><td>23.93293  </td><td>43.05476  </td><td>10.880020 </td><td>1.200282  </td><td>79.16531  </td><td>ALTA      </td><td>0.00000000</td><td>DEBIL     </td></tr>\n",
       "\t<tr><th scope=row>145</th><td>jul. 2013 </td><td>0.10185481</td><td>28.78661  </td><td>48.41675  </td><td>15.082626 </td><td>1.335035  </td><td>93.72288  </td><td>MEDIA     </td><td>0.29354839</td><td>MODERADA  </td></tr>\n",
       "\t<tr><th scope=row>146</th><td>ago. 2013 </td><td>0.09594107</td><td>25.51546  </td><td>43.15497  </td><td>14.183386 </td><td>1.395372  </td><td>84.34513  </td><td>MEDIA     </td><td>0.03225806</td><td>DEBIL     </td></tr>\n",
       "</tbody>\n",
       "</table>\n"
      ],
      "text/latex": [
       "\\begin{tabular}{r|llllllllll}\n",
       "  & date & CO & NO\\_2 & O\\_3 & PM10 & SO\\_2 & totalPollution & calidadAire & quantity & lluvia\\\\\n",
       "\\hline\n",
       "\t141 & mar. 2013  & 0.12770551 & 28.54309   & 28.18160   &  5.893942  & 1.661553   & 64.40788   & ALTA       & 2.45862069 & FUERTE    \\\\\n",
       "\t142 & abr. 2013  & 0.11978010 & 26.61689   & 34.32413   &  8.277799  & 1.434130   & 70.77274   & ALTA       & 2.07692308 & FUERTE    \\\\\n",
       "\t143 & may. 2013  & 0.10966471 & 25.68011   & 37.88080   &  7.085345  & 1.211944   & 71.96786   & ALTA       & 0.65357143 & MODERADA  \\\\\n",
       "\t144 & jun. 2013  & 0.09731844 & 23.93293   & 43.05476   & 10.880020  & 1.200282   & 79.16531   & ALTA       & 0.00000000 & DEBIL     \\\\\n",
       "\t145 & jul. 2013  & 0.10185481 & 28.78661   & 48.41675   & 15.082626  & 1.335035   & 93.72288   & MEDIA      & 0.29354839 & MODERADA  \\\\\n",
       "\t146 & ago. 2013  & 0.09594107 & 25.51546   & 43.15497   & 14.183386  & 1.395372   & 84.34513   & MEDIA      & 0.03225806 & DEBIL     \\\\\n",
       "\\end{tabular}\n"
      ],
      "text/markdown": [
       "\n",
       "| <!--/--> | date | CO | NO_2 | O_3 | PM10 | SO_2 | totalPollution | calidadAire | quantity | lluvia | \n",
       "|---|---|---|---|---|---|\n",
       "| 141 | mar. 2013  | 0.12770551 | 28.54309   | 28.18160   |  5.893942  | 1.661553   | 64.40788   | ALTA       | 2.45862069 | FUERTE     | \n",
       "| 142 | abr. 2013  | 0.11978010 | 26.61689   | 34.32413   |  8.277799  | 1.434130   | 70.77274   | ALTA       | 2.07692308 | FUERTE     | \n",
       "| 143 | may. 2013  | 0.10966471 | 25.68011   | 37.88080   |  7.085345  | 1.211944   | 71.96786   | ALTA       | 0.65357143 | MODERADA   | \n",
       "| 144 | jun. 2013  | 0.09731844 | 23.93293   | 43.05476   | 10.880020  | 1.200282   | 79.16531   | ALTA       | 0.00000000 | DEBIL      | \n",
       "| 145 | jul. 2013  | 0.10185481 | 28.78661   | 48.41675   | 15.082626  | 1.335035   | 93.72288   | MEDIA      | 0.29354839 | MODERADA   | \n",
       "| 146 | ago. 2013  | 0.09594107 | 25.51546   | 43.15497   | 14.183386  | 1.395372   | 84.34513   | MEDIA      | 0.03225806 | DEBIL      | \n",
       "\n",
       "\n"
      ],
      "text/plain": [
       "    date      CO         NO_2     O_3      PM10      SO_2     totalPollution\n",
       "141 mar. 2013 0.12770551 28.54309 28.18160  5.893942 1.661553 64.40788      \n",
       "142 abr. 2013 0.11978010 26.61689 34.32413  8.277799 1.434130 70.77274      \n",
       "143 may. 2013 0.10966471 25.68011 37.88080  7.085345 1.211944 71.96786      \n",
       "144 jun. 2013 0.09731844 23.93293 43.05476 10.880020 1.200282 79.16531      \n",
       "145 jul. 2013 0.10185481 28.78661 48.41675 15.082626 1.335035 93.72288      \n",
       "146 ago. 2013 0.09594107 25.51546 43.15497 14.183386 1.395372 84.34513      \n",
       "    calidadAire quantity   lluvia  \n",
       "141 ALTA        2.45862069 FUERTE  \n",
       "142 ALTA        2.07692308 FUERTE  \n",
       "143 ALTA        0.65357143 MODERADA\n",
       "144 ALTA        0.00000000 DEBIL   \n",
       "145 MEDIA       0.29354839 MODERADA\n",
       "146 MEDIA       0.03225806 DEBIL   "
      ]
     },
     "metadata": {},
     "output_type": "display_data"
    }
   ],
   "source": [
    "separate <- as.integer(nrow(version02)*0.7)\n",
    "trainData <- version02[1:separate,]\n",
    "testData <- version02[separate:nrow(version02),]\n",
    "head(trainData)\n",
    "head(testData)"
   ]
  },
  {
   "cell_type": "code",
   "execution_count": 303,
   "metadata": {},
   "outputs": [],
   "source": [
    "myFormula <- myFormula <- calidadAire ~ lluvia\n",
    "madrid_rpart <- rpart(myFormula,data=trainData, control = rpart.control(minsplit = 10))"
   ]
  },
  {
   "cell_type": "markdown",
   "metadata": {},
   "source": [
    "#### Comprobación de los datos de entrenamiento"
   ]
  },
  {
   "cell_type": "code",
   "execution_count": 304,
   "metadata": {},
   "outputs": [
    {
     "data": {
      "text/html": [
       "<dl>\n",
       "\t<dt>$names</dt>\n",
       "\t\t<dd><ol class=list-inline>\n",
       "\t<li>'frame'</li>\n",
       "\t<li>'where'</li>\n",
       "\t<li>'call'</li>\n",
       "\t<li>'terms'</li>\n",
       "\t<li>'cptable'</li>\n",
       "\t<li>'method'</li>\n",
       "\t<li>'parms'</li>\n",
       "\t<li>'control'</li>\n",
       "\t<li>'functions'</li>\n",
       "\t<li>'numresp'</li>\n",
       "\t<li>'splits'</li>\n",
       "\t<li>'csplit'</li>\n",
       "\t<li>'variable.importance'</li>\n",
       "\t<li>'y'</li>\n",
       "\t<li>'ordered'</li>\n",
       "</ol>\n",
       "</dd>\n",
       "\t<dt>$xlevels</dt>\n",
       "\t\t<dd><strong>$lluvia</strong> = <ol class=list-inline>\n",
       "\t<li>'DEBIL'</li>\n",
       "\t<li>'FUERTE'</li>\n",
       "\t<li>'MODERADA'</li>\n",
       "</ol>\n",
       "</dd>\n",
       "\t<dt>$ylevels</dt>\n",
       "\t\t<dd><ol class=list-inline>\n",
       "\t<li>'ALTA'</li>\n",
       "\t<li>'BAJA'</li>\n",
       "\t<li>'MEDIA'</li>\n",
       "\t<li>'MUY BAJA'</li>\n",
       "</ol>\n",
       "</dd>\n",
       "\t<dt>$class</dt>\n",
       "\t\t<dd>'rpart'</dd>\n",
       "</dl>\n"
      ],
      "text/latex": [
       "\\begin{description}\n",
       "\\item[\\$names] \\begin{enumerate*}\n",
       "\\item 'frame'\n",
       "\\item 'where'\n",
       "\\item 'call'\n",
       "\\item 'terms'\n",
       "\\item 'cptable'\n",
       "\\item 'method'\n",
       "\\item 'parms'\n",
       "\\item 'control'\n",
       "\\item 'functions'\n",
       "\\item 'numresp'\n",
       "\\item 'splits'\n",
       "\\item 'csplit'\n",
       "\\item 'variable.importance'\n",
       "\\item 'y'\n",
       "\\item 'ordered'\n",
       "\\end{enumerate*}\n",
       "\n",
       "\\item[\\$xlevels] \\textbf{\\$lluvia} = \\begin{enumerate*}\n",
       "\\item 'DEBIL'\n",
       "\\item 'FUERTE'\n",
       "\\item 'MODERADA'\n",
       "\\end{enumerate*}\n",
       "\n",
       "\\item[\\$ylevels] \\begin{enumerate*}\n",
       "\\item 'ALTA'\n",
       "\\item 'BAJA'\n",
       "\\item 'MEDIA'\n",
       "\\item 'MUY BAJA'\n",
       "\\end{enumerate*}\n",
       "\n",
       "\\item[\\$class] 'rpart'\n",
       "\\end{description}\n"
      ],
      "text/markdown": [
       "$names\n",
       ":   1. 'frame'\n",
       "2. 'where'\n",
       "3. 'call'\n",
       "4. 'terms'\n",
       "5. 'cptable'\n",
       "6. 'method'\n",
       "7. 'parms'\n",
       "8. 'control'\n",
       "9. 'functions'\n",
       "10. 'numresp'\n",
       "11. 'splits'\n",
       "12. 'csplit'\n",
       "13. 'variable.importance'\n",
       "14. 'y'\n",
       "15. 'ordered'\n",
       "\n",
       "\n",
       "\n",
       "$xlevels\n",
       ":   **$lluvia** = 1. 'DEBIL'\n",
       "2. 'FUERTE'\n",
       "3. 'MODERADA'\n",
       "\n",
       "\n",
       "\n",
       "$ylevels\n",
       ":   1. 'ALTA'\n",
       "2. 'BAJA'\n",
       "3. 'MEDIA'\n",
       "4. 'MUY BAJA'\n",
       "\n",
       "\n",
       "\n",
       "$class\n",
       ":   'rpart'\n",
       "\n",
       "\n"
      ],
      "text/plain": [
       "$names\n",
       " [1] \"frame\"               \"where\"               \"call\"               \n",
       " [4] \"terms\"               \"cptable\"             \"method\"             \n",
       " [7] \"parms\"               \"control\"             \"functions\"          \n",
       "[10] \"numresp\"             \"splits\"              \"csplit\"             \n",
       "[13] \"variable.importance\" \"y\"                   \"ordered\"            \n",
       "\n",
       "$xlevels\n",
       "$xlevels$lluvia\n",
       "[1] \"DEBIL\"    \"FUERTE\"   \"MODERADA\"\n",
       "\n",
       "\n",
       "$ylevels\n",
       "[1] \"ALTA\"     \"BAJA\"     \"MEDIA\"    \"MUY BAJA\"\n",
       "\n",
       "$class\n",
       "[1] \"rpart\"\n"
      ]
     },
     "metadata": {},
     "output_type": "display_data"
    }
   ],
   "source": [
    "attributes(madrid_rpart)"
   ]
  },
  {
   "cell_type": "code",
   "execution_count": 305,
   "metadata": {},
   "outputs": [
    {
     "name": "stdout",
     "output_type": "stream",
     "text": [
      "Call:\n",
      "rpart(formula = myFormula, data = trainData, control = rpart.control(minsplit = 10))\n",
      "  n= 141 \n",
      "\n",
      "         CP nsplit rel error   xerror       xstd\n",
      "1 0.1011236      0 1.0000000 1.179775 0.05817633\n",
      "2 0.0100000      1 0.8988764 0.988764 0.06462190\n",
      "\n",
      "Variable importance\n",
      "lluvia \n",
      "   100 \n",
      "\n",
      "Node number 1: 141 observations,    complexity param=0.1011236\n",
      "  predicted class=BAJA      expected loss=0.6312057  P(node) =1\n",
      "    class counts:    14    52    26    49\n",
      "   probabilities: 0.099 0.369 0.184 0.348 \n",
      "  left son=2 (36 obs) right son=3 (105 obs)\n",
      "  Primary splits:\n",
      "      lluvia splits as  RLR, improve=2.489294, (0 missing)\n",
      "\n",
      "Node number 2: 36 observations\n",
      "  predicted class=BAJA      expected loss=0.5  P(node) =0.2553191\n",
      "    class counts:     4    18     8     6\n",
      "   probabilities: 0.111 0.500 0.222 0.167 \n",
      "\n",
      "Node number 3: 105 observations\n",
      "  predicted class=MUY BAJA  expected loss=0.5904762  P(node) =0.7446809\n",
      "    class counts:    10    34    18    43\n",
      "   probabilities: 0.095 0.324 0.171 0.410 \n",
      "\n"
     ]
    }
   ],
   "source": [
    "summary(madrid_rpart)"
   ]
  },
  {
   "cell_type": "code",
   "execution_count": 306,
   "metadata": {},
   "outputs": [
    {
     "data": {
      "image/png": "[encoded data removed]",
      "text/plain": [
       "Plot with title \"\""
      ]
     },
     "metadata": {},
     "output_type": "display_data"
    }
   ],
   "source": [
    "fancyRpartPlot(madrid_rpart, caption = NULL)"
   ]
  },
  {
   "cell_type": "markdown",
   "metadata": {},
   "source": [
    "La variable independiente son las precipitaciones del dia anterior.\n",
    "\n",
    "La variable dependiente es la calidad del aire al dia siguiente.\n",
    "\n",
    "Si la lluvia del dia anterior es fuerte, la calidad del aire al dia siguiente sera baja en el 26% de los casos, en caso contrario la calidad del aire sera muy baja en el 74% de los casos."
   ]
  },
  {
   "cell_type": "markdown",
   "metadata": {},
   "source": [
    "#### Predicción con los datos de test"
   ]
  },
  {
   "cell_type": "markdown",
   "metadata": {},
   "source": [
    "Se añadirá una nueva columna, en esta columna se encontrará el valor predicho por el árbol de decisión"
   ]
  },
  {
   "cell_type": "code",
   "execution_count": 307,
   "metadata": {},
   "outputs": [
    {
     "data": {
      "text/html": [
       "<table>\n",
       "<thead><tr><th></th><th scope=col>date</th><th scope=col>CO</th><th scope=col>NO_2</th><th scope=col>O_3</th><th scope=col>PM10</th><th scope=col>SO_2</th><th scope=col>totalPollution</th><th scope=col>calidadAire</th><th scope=col>quantity</th><th scope=col>lluvia</th><th scope=col>AIQExpected</th></tr></thead>\n",
       "<tbody>\n",
       "\t<tr><th scope=row>141</th><td>mar. 2013 </td><td>0.12770551</td><td>28.54309  </td><td>28.18160  </td><td> 5.893942 </td><td>1.661553  </td><td>64.40788  </td><td>ALTA      </td><td>2.45862069</td><td>FUERTE    </td><td>BAJA      </td></tr>\n",
       "\t<tr><th scope=row>142</th><td>abr. 2013 </td><td>0.11978010</td><td>26.61689  </td><td>34.32413  </td><td> 8.277799 </td><td>1.434130  </td><td>70.77274  </td><td>ALTA      </td><td>2.07692308</td><td>FUERTE    </td><td>BAJA      </td></tr>\n",
       "\t<tr><th scope=row>143</th><td>may. 2013 </td><td>0.10966471</td><td>25.68011  </td><td>37.88080  </td><td> 7.085345 </td><td>1.211944  </td><td>71.96786  </td><td>ALTA      </td><td>0.65357143</td><td>MODERADA  </td><td>MUY BAJA  </td></tr>\n",
       "\t<tr><th scope=row>144</th><td>jun. 2013 </td><td>0.09731844</td><td>23.93293  </td><td>43.05476  </td><td>10.880020 </td><td>1.200282  </td><td>79.16531  </td><td>ALTA      </td><td>0.00000000</td><td>DEBIL     </td><td>MUY BAJA  </td></tr>\n",
       "\t<tr><th scope=row>145</th><td>jul. 2013 </td><td>0.10185481</td><td>28.78661  </td><td>48.41675  </td><td>15.082626 </td><td>1.335035  </td><td>93.72288  </td><td>MEDIA     </td><td>0.29354839</td><td>MODERADA  </td><td>MUY BAJA  </td></tr>\n",
       "\t<tr><th scope=row>146</th><td>ago. 2013 </td><td>0.09594107</td><td>25.51546  </td><td>43.15497  </td><td>14.183386 </td><td>1.395372  </td><td>84.34513  </td><td>MEDIA     </td><td>0.03225806</td><td>DEBIL     </td><td>MUY BAJA  </td></tr>\n",
       "</tbody>\n",
       "</table>\n"
      ],
      "text/latex": [
       "\\begin{tabular}{r|lllllllllll}\n",
       "  & date & CO & NO\\_2 & O\\_3 & PM10 & SO\\_2 & totalPollution & calidadAire & quantity & lluvia & AIQExpected\\\\\n",
       "\\hline\n",
       "\t141 & mar. 2013  & 0.12770551 & 28.54309   & 28.18160   &  5.893942  & 1.661553   & 64.40788   & ALTA       & 2.45862069 & FUERTE     & BAJA      \\\\\n",
       "\t142 & abr. 2013  & 0.11978010 & 26.61689   & 34.32413   &  8.277799  & 1.434130   & 70.77274   & ALTA       & 2.07692308 & FUERTE     & BAJA      \\\\\n",
       "\t143 & may. 2013  & 0.10966471 & 25.68011   & 37.88080   &  7.085345  & 1.211944   & 71.96786   & ALTA       & 0.65357143 & MODERADA   & MUY BAJA  \\\\\n",
       "\t144 & jun. 2013  & 0.09731844 & 23.93293   & 43.05476   & 10.880020  & 1.200282   & 79.16531   & ALTA       & 0.00000000 & DEBIL      & MUY BAJA  \\\\\n",
       "\t145 & jul. 2013  & 0.10185481 & 28.78661   & 48.41675   & 15.082626  & 1.335035   & 93.72288   & MEDIA      & 0.29354839 & MODERADA   & MUY BAJA  \\\\\n",
       "\t146 & ago. 2013  & 0.09594107 & 25.51546   & 43.15497   & 14.183386  & 1.395372   & 84.34513   & MEDIA      & 0.03225806 & DEBIL      & MUY BAJA  \\\\\n",
       "\\end{tabular}\n"
      ],
      "text/markdown": [
       "\n",
       "| <!--/--> | date | CO | NO_2 | O_3 | PM10 | SO_2 | totalPollution | calidadAire | quantity | lluvia | AIQExpected | \n",
       "|---|---|---|---|---|---|\n",
       "| 141 | mar. 2013  | 0.12770551 | 28.54309   | 28.18160   |  5.893942  | 1.661553   | 64.40788   | ALTA       | 2.45862069 | FUERTE     | BAJA       | \n",
       "| 142 | abr. 2013  | 0.11978010 | 26.61689   | 34.32413   |  8.277799  | 1.434130   | 70.77274   | ALTA       | 2.07692308 | FUERTE     | BAJA       | \n",
       "| 143 | may. 2013  | 0.10966471 | 25.68011   | 37.88080   |  7.085345  | 1.211944   | 71.96786   | ALTA       | 0.65357143 | MODERADA   | MUY BAJA   | \n",
       "| 144 | jun. 2013  | 0.09731844 | 23.93293   | 43.05476   | 10.880020  | 1.200282   | 79.16531   | ALTA       | 0.00000000 | DEBIL      | MUY BAJA   | \n",
       "| 145 | jul. 2013  | 0.10185481 | 28.78661   | 48.41675   | 15.082626  | 1.335035   | 93.72288   | MEDIA      | 0.29354839 | MODERADA   | MUY BAJA   | \n",
       "| 146 | ago. 2013  | 0.09594107 | 25.51546   | 43.15497   | 14.183386  | 1.395372   | 84.34513   | MEDIA      | 0.03225806 | DEBIL      | MUY BAJA   | \n",
       "\n",
       "\n"
      ],
      "text/plain": [
       "    date      CO         NO_2     O_3      PM10      SO_2     totalPollution\n",
       "141 mar. 2013 0.12770551 28.54309 28.18160  5.893942 1.661553 64.40788      \n",
       "142 abr. 2013 0.11978010 26.61689 34.32413  8.277799 1.434130 70.77274      \n",
       "143 may. 2013 0.10966471 25.68011 37.88080  7.085345 1.211944 71.96786      \n",
       "144 jun. 2013 0.09731844 23.93293 43.05476 10.880020 1.200282 79.16531      \n",
       "145 jul. 2013 0.10185481 28.78661 48.41675 15.082626 1.335035 93.72288      \n",
       "146 ago. 2013 0.09594107 25.51546 43.15497 14.183386 1.395372 84.34513      \n",
       "    calidadAire quantity   lluvia   AIQExpected\n",
       "141 ALTA        2.45862069 FUERTE   BAJA       \n",
       "142 ALTA        2.07692308 FUERTE   BAJA       \n",
       "143 ALTA        0.65357143 MODERADA MUY BAJA   \n",
       "144 ALTA        0.00000000 DEBIL    MUY BAJA   \n",
       "145 MEDIA       0.29354839 MODERADA MUY BAJA   \n",
       "146 MEDIA       0.03225806 DEBIL    MUY BAJA   "
      ]
     },
     "metadata": {},
     "output_type": "display_data"
    }
   ],
   "source": [
    "testData$AIQExpected <- predict(madrid_rpart, newdata = testData, type = \"class\")\n",
    "head(testData)"
   ]
  },
  {
   "cell_type": "code",
   "execution_count": 308,
   "metadata": {},
   "outputs": [
    {
     "data": {
      "text/plain": [
       "       \n",
       "        ALTA BAJA MEDIA MUY BAJA\n",
       "  ALTA     0   14     0       25\n",
       "  MEDIA    0    1     0       22"
      ]
     },
     "metadata": {},
     "output_type": "display_data"
    }
   ],
   "source": [
    "predictTable<- table(testData$calidadAire,testData$AIQExpected)\n",
    "predictTable"
   ]
  },
  {
   "cell_type": "code",
   "execution_count": 309,
   "metadata": {},
   "outputs": [
    {
     "data": {
      "text/html": [
       "0.0161290322580645"
      ],
      "text/latex": [
       "0.0161290322580645"
      ],
      "text/markdown": [
       "0.0161290322580645"
      ],
      "text/plain": [
       "[1] 0.01612903"
      ]
     },
     "metadata": {},
     "output_type": "display_data"
    }
   ],
   "source": [
    "accuracy <- sum(diag(predictTable))/sum(predictTable)\n",
    "accuracy"
   ]
  },
  {
   "cell_type": "code",
   "execution_count": 310,
   "metadata": {},
   "outputs": [],
   "source": [
    "rm(madrid_rpart)\n",
    "rm(testData)\n",
    "rm(trainData)\n",
    "rm(predictTable)"
   ]
  },
  {
   "cell_type": "markdown",
   "metadata": {
    "collapsed": true
   },
   "source": [
    "### Árbol de decisiones version03"
   ]
  },
  {
   "cell_type": "markdown",
   "metadata": {},
   "source": [
    "Inicializamos el gestor de memoria"
   ]
  },
  {
   "cell_type": "code",
   "execution_count": 311,
   "metadata": {},
   "outputs": [
    {
     "data": {
      "text/html": [
       "<table>\n",
       "<thead><tr><th></th><th scope=col>used</th><th scope=col>(Mb)</th><th scope=col>gc trigger</th><th scope=col>(Mb)</th><th scope=col>max used</th><th scope=col>(Mb)</th></tr></thead>\n",
       "<tbody>\n",
       "\t<tr><th scope=row>Ncells</th><td> 2148641 </td><td>114.8    </td><td> 4215964 </td><td>225.2    </td><td>  4215964</td><td> 225.2   </td></tr>\n",
       "\t<tr><th scope=row>Vcells</th><td>11833442 </td><td> 90.3    </td><td>99053184 </td><td>755.8    </td><td>234018106</td><td>1785.5   </td></tr>\n",
       "</tbody>\n",
       "</table>\n"
      ],
      "text/latex": [
       "\\begin{tabular}{r|llllll}\n",
       "  & used & (Mb) & gc trigger & (Mb) & max used & (Mb)\\\\\n",
       "\\hline\n",
       "\tNcells &  2148641  & 114.8     &  4215964  & 225.2     &   4215964 &  225.2   \\\\\n",
       "\tVcells & 11833442  &  90.3     & 99053184  & 755.8     & 234018106 & 1785.5   \\\\\n",
       "\\end{tabular}\n"
      ],
      "text/markdown": [
       "\n",
       "| <!--/--> | used | (Mb) | gc trigger | (Mb) | max used | (Mb) | \n",
       "|---|---|\n",
       "| Ncells |  2148641  | 114.8     |  4215964  | 225.2     |   4215964 |  225.2    | \n",
       "| Vcells | 11833442  |  90.3     | 99053184  | 755.8     | 234018106 | 1785.5    | \n",
       "\n",
       "\n"
      ],
      "text/plain": [
       "       used     (Mb)  gc trigger (Mb)  max used  (Mb)  \n",
       "Ncells  2148641 114.8  4215964   225.2   4215964  225.2\n",
       "Vcells 11833442  90.3 99053184   755.8 234018106 1785.5"
      ]
     },
     "metadata": {},
     "output_type": "display_data"
    }
   ],
   "source": [
    "#Gestor de memoria\n",
    "gc()"
   ]
  },
  {
   "cell_type": "code",
   "execution_count": 312,
   "metadata": {},
   "outputs": [
    {
     "data": {
      "text/html": [
       "<table>\n",
       "<thead><tr><th></th><th scope=col>date</th><th scope=col>station</th><th scope=col>CO</th><th scope=col>NO_2</th><th scope=col>O_3</th><th scope=col>PM10</th><th scope=col>SO_2</th><th scope=col>AQ</th><th scope=col>AQNextDay</th><th scope=col>AIQ</th><th scope=col>AIQNextDay</th><th scope=col>quantity</th><th scope=col>rainfallVolume</th><th scope=col>Speed</th><th scope=col>WindIndexQuality</th></tr></thead>\n",
       "<tbody>\n",
       "\t<tr><th scope=row>35</th><td>2001-01-02</td><td>28079001  </td><td>1.243333  </td><td>84.53750  </td><td>12.576667 </td><td>36.92455  </td><td>20.28083  </td><td>84.53750  </td><td>79.75125  </td><td>BAD       </td><td>BAD       </td><td> 0.1      </td><td>HIGH      </td><td>3.6       </td><td>HIGH      </td></tr>\n",
       "\t<tr><th scope=row>63</th><td>2001-01-03</td><td>28079001  </td><td>1.242917  </td><td>79.75125  </td><td>10.961250 </td><td>37.21292  </td><td>16.23917  </td><td>79.75125  </td><td>75.39250  </td><td>BAD       </td><td>BAD       </td><td> 2.2      </td><td>HIGH      </td><td>1.7       </td><td>MEDIUM    </td></tr>\n",
       "\t<tr><th scope=row>95</th><td>2001-01-04</td><td>28079001  </td><td>1.134167  </td><td>75.39250  </td><td>12.002917 </td><td>35.03667  </td><td>16.75125  </td><td>75.39250  </td><td>77.14083  </td><td>BAD       </td><td>BAD       </td><td> 2.4      </td><td>HIGH      </td><td>3.3       </td><td>HIGH      </td></tr>\n",
       "\t<tr><th scope=row>106</th><td>2001-01-05</td><td>28079001  </td><td>1.535833  </td><td>77.14083  </td><td> 8.755833 </td><td>34.27625  </td><td>16.00958  </td><td>77.14083  </td><td>64.47708  </td><td>BAD       </td><td>MEDIUM    </td><td>13.3      </td><td>HIGH      </td><td>1.1       </td><td>MEDIUM    </td></tr>\n",
       "\t<tr><th scope=row>126</th><td>2001-01-06</td><td>28079001  </td><td>1.009167  </td><td>64.47708  </td><td>13.955417 </td><td>17.03792  </td><td>15.35417  </td><td>64.47708  </td><td>67.06125  </td><td>MEDIUM    </td><td>MEDIUM    </td><td> 0.0      </td><td>LOW       </td><td>2.5       </td><td>HIGH      </td></tr>\n",
       "\t<tr><th scope=row>162</th><td>2001-01-07</td><td>28079001  </td><td>1.016250  </td><td>67.06125  </td><td>12.776250 </td><td>20.45500  </td><td>18.43042  </td><td>67.06125  </td><td>92.57000  </td><td>MEDIUM    </td><td>BAD       </td><td> 0.0      </td><td>LOW       </td><td>2.2       </td><td>MEDIUM    </td></tr>\n",
       "</tbody>\n",
       "</table>\n"
      ],
      "text/latex": [
       "\\begin{tabular}{r|lllllllllllllll}\n",
       "  & date & station & CO & NO\\_2 & O\\_3 & PM10 & SO\\_2 & AQ & AQNextDay & AIQ & AIQNextDay & quantity & rainfallVolume & Speed & WindIndexQuality\\\\\n",
       "\\hline\n",
       "\t35 & 2001-01-02 & 28079001   & 1.243333   & 84.53750   & 12.576667  & 36.92455   & 20.28083   & 84.53750   & 79.75125   & BAD        & BAD        &  0.1       & HIGH       & 3.6        & HIGH      \\\\\n",
       "\t63 & 2001-01-03 & 28079001   & 1.242917   & 79.75125   & 10.961250  & 37.21292   & 16.23917   & 79.75125   & 75.39250   & BAD        & BAD        &  2.2       & HIGH       & 1.7        & MEDIUM    \\\\\n",
       "\t95 & 2001-01-04 & 28079001   & 1.134167   & 75.39250   & 12.002917  & 35.03667   & 16.75125   & 75.39250   & 77.14083   & BAD        & BAD        &  2.4       & HIGH       & 3.3        & HIGH      \\\\\n",
       "\t106 & 2001-01-05 & 28079001   & 1.535833   & 77.14083   &  8.755833  & 34.27625   & 16.00958   & 77.14083   & 64.47708   & BAD        & MEDIUM     & 13.3       & HIGH       & 1.1        & MEDIUM    \\\\\n",
       "\t126 & 2001-01-06 & 28079001   & 1.009167   & 64.47708   & 13.955417  & 17.03792   & 15.35417   & 64.47708   & 67.06125   & MEDIUM     & MEDIUM     &  0.0       & LOW        & 2.5        & HIGH      \\\\\n",
       "\t162 & 2001-01-07 & 28079001   & 1.016250   & 67.06125   & 12.776250  & 20.45500   & 18.43042   & 67.06125   & 92.57000   & MEDIUM     & BAD        &  0.0       & LOW        & 2.2        & MEDIUM    \\\\\n",
       "\\end{tabular}\n"
      ],
      "text/markdown": [
       "\n",
       "| <!--/--> | date | station | CO | NO_2 | O_3 | PM10 | SO_2 | AQ | AQNextDay | AIQ | AIQNextDay | quantity | rainfallVolume | Speed | WindIndexQuality | \n",
       "|---|---|---|---|---|---|\n",
       "| 35 | 2001-01-02 | 28079001   | 1.243333   | 84.53750   | 12.576667  | 36.92455   | 20.28083   | 84.53750   | 79.75125   | BAD        | BAD        |  0.1       | HIGH       | 3.6        | HIGH       | \n",
       "| 63 | 2001-01-03 | 28079001   | 1.242917   | 79.75125   | 10.961250  | 37.21292   | 16.23917   | 79.75125   | 75.39250   | BAD        | BAD        |  2.2       | HIGH       | 1.7        | MEDIUM     | \n",
       "| 95 | 2001-01-04 | 28079001   | 1.134167   | 75.39250   | 12.002917  | 35.03667   | 16.75125   | 75.39250   | 77.14083   | BAD        | BAD        |  2.4       | HIGH       | 3.3        | HIGH       | \n",
       "| 106 | 2001-01-05 | 28079001   | 1.535833   | 77.14083   |  8.755833  | 34.27625   | 16.00958   | 77.14083   | 64.47708   | BAD        | MEDIUM     | 13.3       | HIGH       | 1.1        | MEDIUM     | \n",
       "| 126 | 2001-01-06 | 28079001   | 1.009167   | 64.47708   | 13.955417  | 17.03792   | 15.35417   | 64.47708   | 67.06125   | MEDIUM     | MEDIUM     |  0.0       | LOW        | 2.5        | HIGH       | \n",
       "| 162 | 2001-01-07 | 28079001   | 1.016250   | 67.06125   | 12.776250  | 20.45500   | 18.43042   | 67.06125   | 92.57000   | MEDIUM     | BAD        |  0.0       | LOW        | 2.2        | MEDIUM     | \n",
       "\n",
       "\n"
      ],
      "text/plain": [
       "    date       station  CO       NO_2     O_3       PM10     SO_2     AQ      \n",
       "35  2001-01-02 28079001 1.243333 84.53750 12.576667 36.92455 20.28083 84.53750\n",
       "63  2001-01-03 28079001 1.242917 79.75125 10.961250 37.21292 16.23917 79.75125\n",
       "95  2001-01-04 28079001 1.134167 75.39250 12.002917 35.03667 16.75125 75.39250\n",
       "106 2001-01-05 28079001 1.535833 77.14083  8.755833 34.27625 16.00958 77.14083\n",
       "126 2001-01-06 28079001 1.009167 64.47708 13.955417 17.03792 15.35417 64.47708\n",
       "162 2001-01-07 28079001 1.016250 67.06125 12.776250 20.45500 18.43042 67.06125\n",
       "    AQNextDay AIQ    AIQNextDay quantity rainfallVolume Speed WindIndexQuality\n",
       "35  79.75125  BAD    BAD         0.1     HIGH           3.6   HIGH            \n",
       "63  75.39250  BAD    BAD         2.2     HIGH           1.7   MEDIUM          \n",
       "95  77.14083  BAD    BAD         2.4     HIGH           3.3   HIGH            \n",
       "106 64.47708  BAD    MEDIUM     13.3     HIGH           1.1   MEDIUM          \n",
       "126 67.06125  MEDIUM MEDIUM      0.0     LOW            2.5   HIGH            \n",
       "162 92.57000  MEDIUM BAD         0.0     LOW            2.2   MEDIUM          "
      ]
     },
     "metadata": {},
     "output_type": "display_data"
    },
    {
     "data": {
      "text/html": [
       "<table>\n",
       "<thead><tr><th></th><th scope=col>date</th><th scope=col>station</th><th scope=col>CO</th><th scope=col>NO_2</th><th scope=col>O_3</th><th scope=col>PM10</th><th scope=col>SO_2</th><th scope=col>AQ</th><th scope=col>AQNextDay</th><th scope=col>AIQ</th><th scope=col>AIQNextDay</th><th scope=col>quantity</th><th scope=col>rainfallVolume</th><th scope=col>Speed</th><th scope=col>WindIndexQuality</th></tr></thead>\n",
       "<tbody>\n",
       "\t<tr><th scope=row>137042</th><td>2018-04-26</td><td>28079060  </td><td>0         </td><td>29.041667 </td><td>77.25000  </td><td>42.54167  </td><td>0         </td><td>77.25000  </td><td>81.83333  </td><td>BAD       </td><td>BAD       </td><td> 0.0      </td><td>LOW       </td><td>1.4       </td><td>MEDIUM    </td></tr>\n",
       "\t<tr><th scope=row>137065</th><td>2018-04-27</td><td>28079060  </td><td>0         </td><td>20.958333 </td><td>81.83333  </td><td>29.57143  </td><td>0         </td><td>81.83333  </td><td>87.20833  </td><td>BAD       </td><td>BAD       </td><td> 0.0      </td><td>LOW       </td><td>3.1       </td><td>HIGH      </td></tr>\n",
       "\t<tr><th scope=row>137084</th><td>2018-04-28</td><td>28079060  </td><td>0         </td><td> 8.375000 </td><td>87.20833  </td><td>10.33333  </td><td>0         </td><td>87.20833  </td><td>93.08333  </td><td>BAD       </td><td>BAD       </td><td> 0.0      </td><td>LOW       </td><td>2.5       </td><td>HIGH      </td></tr>\n",
       "\t<tr><th scope=row>137123</th><td>2018-04-29</td><td>28079060  </td><td>0         </td><td> 6.958333 </td><td>93.08333  </td><td>14.45833  </td><td>0         </td><td>93.08333  </td><td>83.33333  </td><td>BAD       </td><td>BAD       </td><td>13.0      </td><td>HIGH      </td><td>4.2       </td><td>HIGH      </td></tr>\n",
       "\t<tr><th scope=row>137147</th><td>2018-04-30</td><td>28079060  </td><td>0         </td><td>13.708333 </td><td>83.33333  </td><td>12.91667  </td><td>0         </td><td>83.33333  </td><td>81.00000  </td><td>BAD       </td><td>BAD       </td><td> 4.8      </td><td>HIGH      </td><td>1.9       </td><td>MEDIUM    </td></tr>\n",
       "\t<tr><th scope=row>137174</th><td>2018-05-01</td><td>28079060  </td><td>0         </td><td>14.000000 </td><td>81.00000  </td><td> 6.00000  </td><td>0         </td><td>81.00000  </td><td>      NA  </td><td>BAD       </td><td>NA        </td><td> 0.2      </td><td>HIGH      </td><td>1.7       </td><td>MEDIUM    </td></tr>\n",
       "</tbody>\n",
       "</table>\n"
      ],
      "text/latex": [
       "\\begin{tabular}{r|lllllllllllllll}\n",
       "  & date & station & CO & NO\\_2 & O\\_3 & PM10 & SO\\_2 & AQ & AQNextDay & AIQ & AIQNextDay & quantity & rainfallVolume & Speed & WindIndexQuality\\\\\n",
       "\\hline\n",
       "\t137042 & 2018-04-26 & 28079060   & 0          & 29.041667  & 77.25000   & 42.54167   & 0          & 77.25000   & 81.83333   & BAD        & BAD        &  0.0       & LOW        & 1.4        & MEDIUM    \\\\\n",
       "\t137065 & 2018-04-27 & 28079060   & 0          & 20.958333  & 81.83333   & 29.57143   & 0          & 81.83333   & 87.20833   & BAD        & BAD        &  0.0       & LOW        & 3.1        & HIGH      \\\\\n",
       "\t137084 & 2018-04-28 & 28079060   & 0          &  8.375000  & 87.20833   & 10.33333   & 0          & 87.20833   & 93.08333   & BAD        & BAD        &  0.0       & LOW        & 2.5        & HIGH      \\\\\n",
       "\t137123 & 2018-04-29 & 28079060   & 0          &  6.958333  & 93.08333   & 14.45833   & 0          & 93.08333   & 83.33333   & BAD        & BAD        & 13.0       & HIGH       & 4.2        & HIGH      \\\\\n",
       "\t137147 & 2018-04-30 & 28079060   & 0          & 13.708333  & 83.33333   & 12.91667   & 0          & 83.33333   & 81.00000   & BAD        & BAD        &  4.8       & HIGH       & 1.9        & MEDIUM    \\\\\n",
       "\t137174 & 2018-05-01 & 28079060   & 0          & 14.000000  & 81.00000   &  6.00000   & 0          & 81.00000   &       NA   & BAD        & NA         &  0.2       & HIGH       & 1.7        & MEDIUM    \\\\\n",
       "\\end{tabular}\n"
      ],
      "text/markdown": [
       "\n",
       "| <!--/--> | date | station | CO | NO_2 | O_3 | PM10 | SO_2 | AQ | AQNextDay | AIQ | AIQNextDay | quantity | rainfallVolume | Speed | WindIndexQuality | \n",
       "|---|---|---|---|---|---|\n",
       "| 137042 | 2018-04-26 | 28079060   | 0          | 29.041667  | 77.25000   | 42.54167   | 0          | 77.25000   | 81.83333   | BAD        | BAD        |  0.0       | LOW        | 1.4        | MEDIUM     | \n",
       "| 137065 | 2018-04-27 | 28079060   | 0          | 20.958333  | 81.83333   | 29.57143   | 0          | 81.83333   | 87.20833   | BAD        | BAD        |  0.0       | LOW        | 3.1        | HIGH       | \n",
       "| 137084 | 2018-04-28 | 28079060   | 0          |  8.375000  | 87.20833   | 10.33333   | 0          | 87.20833   | 93.08333   | BAD        | BAD        |  0.0       | LOW        | 2.5        | HIGH       | \n",
       "| 137123 | 2018-04-29 | 28079060   | 0          |  6.958333  | 93.08333   | 14.45833   | 0          | 93.08333   | 83.33333   | BAD        | BAD        | 13.0       | HIGH       | 4.2        | HIGH       | \n",
       "| 137147 | 2018-04-30 | 28079060   | 0          | 13.708333  | 83.33333   | 12.91667   | 0          | 83.33333   | 81.00000   | BAD        | BAD        |  4.8       | HIGH       | 1.9        | MEDIUM     | \n",
       "| 137174 | 2018-05-01 | 28079060   | 0          | 14.000000  | 81.00000   |  6.00000   | 0          | 81.00000   |       NA   | BAD        | NA         |  0.2       | HIGH       | 1.7        | MEDIUM     | \n",
       "\n",
       "\n"
      ],
      "text/plain": [
       "       date       station  CO NO_2      O_3      PM10     SO_2 AQ      \n",
       "137042 2018-04-26 28079060 0  29.041667 77.25000 42.54167 0    77.25000\n",
       "137065 2018-04-27 28079060 0  20.958333 81.83333 29.57143 0    81.83333\n",
       "137084 2018-04-28 28079060 0   8.375000 87.20833 10.33333 0    87.20833\n",
       "137123 2018-04-29 28079060 0   6.958333 93.08333 14.45833 0    93.08333\n",
       "137147 2018-04-30 28079060 0  13.708333 83.33333 12.91667 0    83.33333\n",
       "137174 2018-05-01 28079060 0  14.000000 81.00000  6.00000 0    81.00000\n",
       "       AQNextDay AIQ AIQNextDay quantity rainfallVolume Speed WindIndexQuality\n",
       "137042 81.83333  BAD BAD         0.0     LOW            1.4   MEDIUM          \n",
       "137065 87.20833  BAD BAD         0.0     LOW            3.1   HIGH            \n",
       "137084 93.08333  BAD BAD         0.0     LOW            2.5   HIGH            \n",
       "137123 83.33333  BAD BAD        13.0     HIGH           4.2   HIGH            \n",
       "137147 81.00000  BAD BAD         4.8     HIGH           1.9   MEDIUM          \n",
       "137174       NA  BAD NA          0.2     HIGH           1.7   MEDIUM          "
      ]
     },
     "metadata": {},
     "output_type": "display_data"
    },
    {
     "name": "stdout",
     "output_type": "stream",
     "text": [
      "'data.frame':\t137174 obs. of  15 variables:\n",
      " $ date            : Date, format: \"2001-01-02\" \"2001-01-03\" ...\n",
      " $ station         : int  28079001 28079001 28079001 28079001 28079001 28079001 28079001 28079001 28079001 28079001 ...\n",
      " $ CO              : num  1.24 1.24 1.13 1.54 1.01 ...\n",
      " $ NO_2            : num  84.5 79.8 75.4 77.1 64.5 ...\n",
      " $ O_3             : num  12.58 10.96 12 8.76 13.96 ...\n",
      " $ PM10            : num  36.9 37.2 35 34.3 17 ...\n",
      " $ SO_2            : num  20.3 16.2 16.8 16 15.4 ...\n",
      " $ AQ              : num  84.5 79.8 75.4 77.1 64.5 ...\n",
      " $ AQNextDay       : num  79.8 75.4 77.1 64.5 67.1 ...\n",
      " $ AIQ             : chr  \"BAD\" \"BAD\" \"BAD\" \"BAD\" ...\n",
      " $ AIQNextDay      : chr  \"BAD\" \"BAD\" \"BAD\" \"MEDIUM\" ...\n",
      " $ quantity        : num  0.1 2.2 2.4 13.3 0 0 0 1.5 9.8 14.8 ...\n",
      " $ rainfallVolume  : chr  \"HIGH\" \"HIGH\" \"HIGH\" \"HIGH\" ...\n",
      " $ Speed           : num  3.6 1.7 3.3 1.1 2.5 2.2 0.3 0.6 0.3 1.7 ...\n",
      " $ WindIndexQuality: chr  \"HIGH\" \"MEDIUM\" \"HIGH\" \"MEDIUM\" ...\n"
     ]
    }
   ],
   "source": [
    "# Establece una semilla fija para garantizar\n",
    "# la reproducibilidad del ejemplo\n",
    "\n",
    "head(version03)\n",
    "tail(version03)\n",
    "str(version03)\n",
    "set.seed(1234)"
   ]
  },
  {
   "cell_type": "code",
   "execution_count": 313,
   "metadata": {},
   "outputs": [
    {
     "data": {
      "text/html": [
       "<table>\n",
       "<thead><tr><th></th><th scope=col>date</th><th scope=col>station</th><th scope=col>CO</th><th scope=col>NO_2</th><th scope=col>O_3</th><th scope=col>PM10</th><th scope=col>SO_2</th><th scope=col>AQ</th><th scope=col>AQNextDay</th><th scope=col>AIQ</th><th scope=col>AIQNextDay</th><th scope=col>quantity</th><th scope=col>rainfallVolume</th><th scope=col>Speed</th><th scope=col>WindIndexQuality</th></tr></thead>\n",
       "<tbody>\n",
       "\t<tr><th scope=row>35</th><td>2001-01-02</td><td>28079001  </td><td>1.243333  </td><td>84.53750  </td><td>12.576667 </td><td>36.92455  </td><td>20.28083  </td><td>84.53750  </td><td>79.75125  </td><td>BAD       </td><td>BAD       </td><td> 0.1      </td><td>HIGH      </td><td>3.6       </td><td>HIGH      </td></tr>\n",
       "\t<tr><th scope=row>63</th><td>2001-01-03</td><td>28079001  </td><td>1.242917  </td><td>79.75125  </td><td>10.961250 </td><td>37.21292  </td><td>16.23917  </td><td>79.75125  </td><td>75.39250  </td><td>BAD       </td><td>BAD       </td><td> 2.2      </td><td>HIGH      </td><td>1.7       </td><td>MEDIUM    </td></tr>\n",
       "\t<tr><th scope=row>95</th><td>2001-01-04</td><td>28079001  </td><td>1.134167  </td><td>75.39250  </td><td>12.002917 </td><td>35.03667  </td><td>16.75125  </td><td>75.39250  </td><td>77.14083  </td><td>BAD       </td><td>BAD       </td><td> 2.4      </td><td>HIGH      </td><td>3.3       </td><td>HIGH      </td></tr>\n",
       "\t<tr><th scope=row>106</th><td>2001-01-05</td><td>28079001  </td><td>1.535833  </td><td>77.14083  </td><td> 8.755833 </td><td>34.27625  </td><td>16.00958  </td><td>77.14083  </td><td>64.47708  </td><td>BAD       </td><td>MEDIUM    </td><td>13.3      </td><td>HIGH      </td><td>1.1       </td><td>MEDIUM    </td></tr>\n",
       "\t<tr><th scope=row>126</th><td>2001-01-06</td><td>28079001  </td><td>1.009167  </td><td>64.47708  </td><td>13.955417 </td><td>17.03792  </td><td>15.35417  </td><td>64.47708  </td><td>67.06125  </td><td>MEDIUM    </td><td>MEDIUM    </td><td> 0.0      </td><td>LOW       </td><td>2.5       </td><td>HIGH      </td></tr>\n",
       "\t<tr><th scope=row>162</th><td>2001-01-07</td><td>28079001  </td><td>1.016250  </td><td>67.06125  </td><td>12.776250 </td><td>20.45500  </td><td>18.43042  </td><td>67.06125  </td><td>92.57000  </td><td>MEDIUM    </td><td>BAD       </td><td> 0.0      </td><td>LOW       </td><td>2.2       </td><td>MEDIUM    </td></tr>\n",
       "</tbody>\n",
       "</table>\n"
      ],
      "text/latex": [
       "\\begin{tabular}{r|lllllllllllllll}\n",
       "  & date & station & CO & NO\\_2 & O\\_3 & PM10 & SO\\_2 & AQ & AQNextDay & AIQ & AIQNextDay & quantity & rainfallVolume & Speed & WindIndexQuality\\\\\n",
       "\\hline\n",
       "\t35 & 2001-01-02 & 28079001   & 1.243333   & 84.53750   & 12.576667  & 36.92455   & 20.28083   & 84.53750   & 79.75125   & BAD        & BAD        &  0.1       & HIGH       & 3.6        & HIGH      \\\\\n",
       "\t63 & 2001-01-03 & 28079001   & 1.242917   & 79.75125   & 10.961250  & 37.21292   & 16.23917   & 79.75125   & 75.39250   & BAD        & BAD        &  2.2       & HIGH       & 1.7        & MEDIUM    \\\\\n",
       "\t95 & 2001-01-04 & 28079001   & 1.134167   & 75.39250   & 12.002917  & 35.03667   & 16.75125   & 75.39250   & 77.14083   & BAD        & BAD        &  2.4       & HIGH       & 3.3        & HIGH      \\\\\n",
       "\t106 & 2001-01-05 & 28079001   & 1.535833   & 77.14083   &  8.755833  & 34.27625   & 16.00958   & 77.14083   & 64.47708   & BAD        & MEDIUM     & 13.3       & HIGH       & 1.1        & MEDIUM    \\\\\n",
       "\t126 & 2001-01-06 & 28079001   & 1.009167   & 64.47708   & 13.955417  & 17.03792   & 15.35417   & 64.47708   & 67.06125   & MEDIUM     & MEDIUM     &  0.0       & LOW        & 2.5        & HIGH      \\\\\n",
       "\t162 & 2001-01-07 & 28079001   & 1.016250   & 67.06125   & 12.776250  & 20.45500   & 18.43042   & 67.06125   & 92.57000   & MEDIUM     & BAD        &  0.0       & LOW        & 2.2        & MEDIUM    \\\\\n",
       "\\end{tabular}\n"
      ],
      "text/markdown": [
       "\n",
       "| <!--/--> | date | station | CO | NO_2 | O_3 | PM10 | SO_2 | AQ | AQNextDay | AIQ | AIQNextDay | quantity | rainfallVolume | Speed | WindIndexQuality | \n",
       "|---|---|---|---|---|---|\n",
       "| 35 | 2001-01-02 | 28079001   | 1.243333   | 84.53750   | 12.576667  | 36.92455   | 20.28083   | 84.53750   | 79.75125   | BAD        | BAD        |  0.1       | HIGH       | 3.6        | HIGH       | \n",
       "| 63 | 2001-01-03 | 28079001   | 1.242917   | 79.75125   | 10.961250  | 37.21292   | 16.23917   | 79.75125   | 75.39250   | BAD        | BAD        |  2.2       | HIGH       | 1.7        | MEDIUM     | \n",
       "| 95 | 2001-01-04 | 28079001   | 1.134167   | 75.39250   | 12.002917  | 35.03667   | 16.75125   | 75.39250   | 77.14083   | BAD        | BAD        |  2.4       | HIGH       | 3.3        | HIGH       | \n",
       "| 106 | 2001-01-05 | 28079001   | 1.535833   | 77.14083   |  8.755833  | 34.27625   | 16.00958   | 77.14083   | 64.47708   | BAD        | MEDIUM     | 13.3       | HIGH       | 1.1        | MEDIUM     | \n",
       "| 126 | 2001-01-06 | 28079001   | 1.009167   | 64.47708   | 13.955417  | 17.03792   | 15.35417   | 64.47708   | 67.06125   | MEDIUM     | MEDIUM     |  0.0       | LOW        | 2.5        | HIGH       | \n",
       "| 162 | 2001-01-07 | 28079001   | 1.016250   | 67.06125   | 12.776250  | 20.45500   | 18.43042   | 67.06125   | 92.57000   | MEDIUM     | BAD        |  0.0       | LOW        | 2.2        | MEDIUM     | \n",
       "\n",
       "\n"
      ],
      "text/plain": [
       "    date       station  CO       NO_2     O_3       PM10     SO_2     AQ      \n",
       "35  2001-01-02 28079001 1.243333 84.53750 12.576667 36.92455 20.28083 84.53750\n",
       "63  2001-01-03 28079001 1.242917 79.75125 10.961250 37.21292 16.23917 79.75125\n",
       "95  2001-01-04 28079001 1.134167 75.39250 12.002917 35.03667 16.75125 75.39250\n",
       "106 2001-01-05 28079001 1.535833 77.14083  8.755833 34.27625 16.00958 77.14083\n",
       "126 2001-01-06 28079001 1.009167 64.47708 13.955417 17.03792 15.35417 64.47708\n",
       "162 2001-01-07 28079001 1.016250 67.06125 12.776250 20.45500 18.43042 67.06125\n",
       "    AQNextDay AIQ    AIQNextDay quantity rainfallVolume Speed WindIndexQuality\n",
       "35  79.75125  BAD    BAD         0.1     HIGH           3.6   HIGH            \n",
       "63  75.39250  BAD    BAD         2.2     HIGH           1.7   MEDIUM          \n",
       "95  77.14083  BAD    BAD         2.4     HIGH           3.3   HIGH            \n",
       "106 64.47708  BAD    MEDIUM     13.3     HIGH           1.1   MEDIUM          \n",
       "126 67.06125  MEDIUM MEDIUM      0.0     LOW            2.5   HIGH            \n",
       "162 92.57000  MEDIUM BAD         0.0     LOW            2.2   MEDIUM          "
      ]
     },
     "metadata": {},
     "output_type": "display_data"
    },
    {
     "data": {
      "text/html": [
       "<table>\n",
       "<thead><tr><th></th><th scope=col>date</th><th scope=col>station</th><th scope=col>CO</th><th scope=col>NO_2</th><th scope=col>O_3</th><th scope=col>PM10</th><th scope=col>SO_2</th><th scope=col>AQ</th><th scope=col>AQNextDay</th><th scope=col>AIQ</th><th scope=col>AIQNextDay</th><th scope=col>quantity</th><th scope=col>rainfallVolume</th><th scope=col>Speed</th><th scope=col>WindIndexQuality</th></tr></thead>\n",
       "<tbody>\n",
       "\t<tr><th scope=row>36098</th><td>2005-09-01</td><td>28079039  </td><td>0.7016667 </td><td>72.20583  </td><td>35.91696  </td><td>11.42000  </td><td>7.513750  </td><td>72.20583  </td><td>86.23957  </td><td>MEDIUM    </td><td>BAD       </td><td>0.0       </td><td>LOW       </td><td>1.1       </td><td>MEDIUM    </td></tr>\n",
       "\t<tr><th scope=row>36110</th><td>2005-09-02</td><td>28079039  </td><td>0.6775000 </td><td>76.58500  </td><td>43.05773  </td><td>86.23957  </td><td>8.038750  </td><td>86.23957  </td><td>60.24391  </td><td>BAD       </td><td>MEDIUM    </td><td>0.0       </td><td>LOW       </td><td>0.8       </td><td>MEDIUM    </td></tr>\n",
       "\t<tr><th scope=row>36142</th><td>2005-09-03</td><td>28079039  </td><td>0.5225000 </td><td>48.17250  </td><td>60.24391  </td><td>44.47045  </td><td>6.763333  </td><td>60.24391  </td><td>81.37125  </td><td>MEDIUM    </td><td>BAD       </td><td>0.0       </td><td>LOW       </td><td>1.7       </td><td>MEDIUM    </td></tr>\n",
       "\t<tr><th scope=row>36159</th><td>2005-09-04</td><td>28079039  </td><td>0.9395833 </td><td>81.37125  </td><td>33.38217  </td><td>31.92412  </td><td>8.664167  </td><td>81.37125  </td><td>48.32500  </td><td>BAD       </td><td>MEDIUM    </td><td>0.0       </td><td>LOW       </td><td>2.2       </td><td>MEDIUM    </td></tr>\n",
       "\t<tr><th scope=row>36188</th><td>2005-09-05</td><td>28079039  </td><td>0.6212500 </td><td>39.21750  </td><td>42.94913  </td><td>48.32500  </td><td>6.352500  </td><td>48.32500  </td><td>45.98130  </td><td>MEDIUM    </td><td>GOOD      </td><td>0.0       </td><td>LOW       </td><td>3.3       </td><td>HIGH      </td></tr>\n",
       "\t<tr><th scope=row>36216</th><td>2005-09-06</td><td>28079039  </td><td>0.5654167 </td><td>31.01583  </td><td>45.98130  </td><td>35.21783  </td><td>6.028750  </td><td>45.98130  </td><td>44.74636  </td><td>GOOD      </td><td>GOOD      </td><td>2.5       </td><td>HIGH      </td><td>3.1       </td><td>HIGH      </td></tr>\n",
       "</tbody>\n",
       "</table>\n"
      ],
      "text/latex": [
       "\\begin{tabular}{r|lllllllllllllll}\n",
       "  & date & station & CO & NO\\_2 & O\\_3 & PM10 & SO\\_2 & AQ & AQNextDay & AIQ & AIQNextDay & quantity & rainfallVolume & Speed & WindIndexQuality\\\\\n",
       "\\hline\n",
       "\t36098 & 2005-09-01 & 28079039   & 0.7016667  & 72.20583   & 35.91696   & 11.42000   & 7.513750   & 72.20583   & 86.23957   & MEDIUM     & BAD        & 0.0        & LOW        & 1.1        & MEDIUM    \\\\\n",
       "\t36110 & 2005-09-02 & 28079039   & 0.6775000  & 76.58500   & 43.05773   & 86.23957   & 8.038750   & 86.23957   & 60.24391   & BAD        & MEDIUM     & 0.0        & LOW        & 0.8        & MEDIUM    \\\\\n",
       "\t36142 & 2005-09-03 & 28079039   & 0.5225000  & 48.17250   & 60.24391   & 44.47045   & 6.763333   & 60.24391   & 81.37125   & MEDIUM     & BAD        & 0.0        & LOW        & 1.7        & MEDIUM    \\\\\n",
       "\t36159 & 2005-09-04 & 28079039   & 0.9395833  & 81.37125   & 33.38217   & 31.92412   & 8.664167   & 81.37125   & 48.32500   & BAD        & MEDIUM     & 0.0        & LOW        & 2.2        & MEDIUM    \\\\\n",
       "\t36188 & 2005-09-05 & 28079039   & 0.6212500  & 39.21750   & 42.94913   & 48.32500   & 6.352500   & 48.32500   & 45.98130   & MEDIUM     & GOOD       & 0.0        & LOW        & 3.3        & HIGH      \\\\\n",
       "\t36216 & 2005-09-06 & 28079039   & 0.5654167  & 31.01583   & 45.98130   & 35.21783   & 6.028750   & 45.98130   & 44.74636   & GOOD       & GOOD       & 2.5        & HIGH       & 3.1        & HIGH      \\\\\n",
       "\\end{tabular}\n"
      ],
      "text/markdown": [
       "\n",
       "| <!--/--> | date | station | CO | NO_2 | O_3 | PM10 | SO_2 | AQ | AQNextDay | AIQ | AIQNextDay | quantity | rainfallVolume | Speed | WindIndexQuality | \n",
       "|---|---|---|---|---|---|\n",
       "| 36098 | 2005-09-01 | 28079039   | 0.7016667  | 72.20583   | 35.91696   | 11.42000   | 7.513750   | 72.20583   | 86.23957   | MEDIUM     | BAD        | 0.0        | LOW        | 1.1        | MEDIUM     | \n",
       "| 36110 | 2005-09-02 | 28079039   | 0.6775000  | 76.58500   | 43.05773   | 86.23957   | 8.038750   | 86.23957   | 60.24391   | BAD        | MEDIUM     | 0.0        | LOW        | 0.8        | MEDIUM     | \n",
       "| 36142 | 2005-09-03 | 28079039   | 0.5225000  | 48.17250   | 60.24391   | 44.47045   | 6.763333   | 60.24391   | 81.37125   | MEDIUM     | BAD        | 0.0        | LOW        | 1.7        | MEDIUM     | \n",
       "| 36159 | 2005-09-04 | 28079039   | 0.9395833  | 81.37125   | 33.38217   | 31.92412   | 8.664167   | 81.37125   | 48.32500   | BAD        | MEDIUM     | 0.0        | LOW        | 2.2        | MEDIUM     | \n",
       "| 36188 | 2005-09-05 | 28079039   | 0.6212500  | 39.21750   | 42.94913   | 48.32500   | 6.352500   | 48.32500   | 45.98130   | MEDIUM     | GOOD       | 0.0        | LOW        | 3.3        | HIGH       | \n",
       "| 36216 | 2005-09-06 | 28079039   | 0.5654167  | 31.01583   | 45.98130   | 35.21783   | 6.028750   | 45.98130   | 44.74636   | GOOD       | GOOD       | 2.5        | HIGH       | 3.1        | HIGH       | \n",
       "\n",
       "\n"
      ],
      "text/plain": [
       "      date       station  CO        NO_2     O_3      PM10     SO_2    \n",
       "36098 2005-09-01 28079039 0.7016667 72.20583 35.91696 11.42000 7.513750\n",
       "36110 2005-09-02 28079039 0.6775000 76.58500 43.05773 86.23957 8.038750\n",
       "36142 2005-09-03 28079039 0.5225000 48.17250 60.24391 44.47045 6.763333\n",
       "36159 2005-09-04 28079039 0.9395833 81.37125 33.38217 31.92412 8.664167\n",
       "36188 2005-09-05 28079039 0.6212500 39.21750 42.94913 48.32500 6.352500\n",
       "36216 2005-09-06 28079039 0.5654167 31.01583 45.98130 35.21783 6.028750\n",
       "      AQ       AQNextDay AIQ    AIQNextDay quantity rainfallVolume Speed\n",
       "36098 72.20583 86.23957  MEDIUM BAD        0.0      LOW            1.1  \n",
       "36110 86.23957 60.24391  BAD    MEDIUM     0.0      LOW            0.8  \n",
       "36142 60.24391 81.37125  MEDIUM BAD        0.0      LOW            1.7  \n",
       "36159 81.37125 48.32500  BAD    MEDIUM     0.0      LOW            2.2  \n",
       "36188 48.32500 45.98130  MEDIUM GOOD       0.0      LOW            3.3  \n",
       "36216 45.98130 44.74636  GOOD   GOOD       2.5      HIGH           3.1  \n",
       "      WindIndexQuality\n",
       "36098 MEDIUM          \n",
       "36110 MEDIUM          \n",
       "36142 MEDIUM          \n",
       "36159 MEDIUM          \n",
       "36188 HIGH            \n",
       "36216 HIGH            "
      ]
     },
     "metadata": {},
     "output_type": "display_data"
    }
   ],
   "source": [
    "#Preparamos validación simple\n",
    "separate <- as.integer(nrow(version03)*0.7)\n",
    "trainData <- version03[1:separate,]\n",
    "testData <- version03[separate:nrow(version03),]\n",
    "head(trainData)\n",
    "head(testData)"
   ]
  },
  {
   "cell_type": "code",
   "execution_count": 314,
   "metadata": {},
   "outputs": [],
   "source": [
    "myFormula <- AIQNextDay ~ AIQ + rainfallVolume + WindIndexQuality"
   ]
  },
  {
   "cell_type": "code",
   "execution_count": 315,
   "metadata": {},
   "outputs": [],
   "source": [
    "madrid_rpart <- rpart(myFormula,data=trainData, control = rpart.control(minsplit = 10))"
   ]
  },
  {
   "cell_type": "markdown",
   "metadata": {},
   "source": [
    "#### Comprobación de los datos de entrenamiento"
   ]
  },
  {
   "cell_type": "code",
   "execution_count": 316,
   "metadata": {},
   "outputs": [
    {
     "data": {
      "text/html": [
       "<dl>\n",
       "\t<dt>$names</dt>\n",
       "\t\t<dd><ol class=list-inline>\n",
       "\t<li>'frame'</li>\n",
       "\t<li>'where'</li>\n",
       "\t<li>'call'</li>\n",
       "\t<li>'terms'</li>\n",
       "\t<li>'cptable'</li>\n",
       "\t<li>'method'</li>\n",
       "\t<li>'parms'</li>\n",
       "\t<li>'control'</li>\n",
       "\t<li>'functions'</li>\n",
       "\t<li>'numresp'</li>\n",
       "\t<li>'splits'</li>\n",
       "\t<li>'csplit'</li>\n",
       "\t<li>'variable.importance'</li>\n",
       "\t<li>'y'</li>\n",
       "\t<li>'ordered'</li>\n",
       "</ol>\n",
       "</dd>\n",
       "\t<dt>$xlevels</dt>\n",
       "\t\t<dd><dl>\n",
       "\t<dt>$AIQ</dt>\n",
       "\t\t<dd><ol class=list-inline>\n",
       "\t<li>'BAD'</li>\n",
       "\t<li>'GOOD'</li>\n",
       "\t<li>'MEDIUM'</li>\n",
       "</ol>\n",
       "</dd>\n",
       "\t<dt>$rainfallVolume</dt>\n",
       "\t\t<dd><ol class=list-inline>\n",
       "\t<li>'HIGH'</li>\n",
       "\t<li>'LOW'</li>\n",
       "</ol>\n",
       "</dd>\n",
       "\t<dt>$WindIndexQuality</dt>\n",
       "\t\t<dd><ol class=list-inline>\n",
       "\t<li>'HIGH'</li>\n",
       "\t<li>'LOW'</li>\n",
       "\t<li>'MEDIUM'</li>\n",
       "</ol>\n",
       "</dd>\n",
       "</dl>\n",
       "</dd>\n",
       "\t<dt>$ylevels</dt>\n",
       "\t\t<dd><ol class=list-inline>\n",
       "\t<li>'BAD'</li>\n",
       "\t<li>'GOOD'</li>\n",
       "\t<li>'MEDIUM'</li>\n",
       "</ol>\n",
       "</dd>\n",
       "\t<dt>$class</dt>\n",
       "\t\t<dd>'rpart'</dd>\n",
       "</dl>\n"
      ],
      "text/latex": [
       "\\begin{description}\n",
       "\\item[\\$names] \\begin{enumerate*}\n",
       "\\item 'frame'\n",
       "\\item 'where'\n",
       "\\item 'call'\n",
       "\\item 'terms'\n",
       "\\item 'cptable'\n",
       "\\item 'method'\n",
       "\\item 'parms'\n",
       "\\item 'control'\n",
       "\\item 'functions'\n",
       "\\item 'numresp'\n",
       "\\item 'splits'\n",
       "\\item 'csplit'\n",
       "\\item 'variable.importance'\n",
       "\\item 'y'\n",
       "\\item 'ordered'\n",
       "\\end{enumerate*}\n",
       "\n",
       "\\item[\\$xlevels] \\begin{description}\n",
       "\\item[\\$AIQ] \\begin{enumerate*}\n",
       "\\item 'BAD'\n",
       "\\item 'GOOD'\n",
       "\\item 'MEDIUM'\n",
       "\\end{enumerate*}\n",
       "\n",
       "\\item[\\$rainfallVolume] \\begin{enumerate*}\n",
       "\\item 'HIGH'\n",
       "\\item 'LOW'\n",
       "\\end{enumerate*}\n",
       "\n",
       "\\item[\\$WindIndexQuality] \\begin{enumerate*}\n",
       "\\item 'HIGH'\n",
       "\\item 'LOW'\n",
       "\\item 'MEDIUM'\n",
       "\\end{enumerate*}\n",
       "\n",
       "\\end{description}\n",
       "\n",
       "\\item[\\$ylevels] \\begin{enumerate*}\n",
       "\\item 'BAD'\n",
       "\\item 'GOOD'\n",
       "\\item 'MEDIUM'\n",
       "\\end{enumerate*}\n",
       "\n",
       "\\item[\\$class] 'rpart'\n",
       "\\end{description}\n"
      ],
      "text/markdown": [
       "$names\n",
       ":   1. 'frame'\n",
       "2. 'where'\n",
       "3. 'call'\n",
       "4. 'terms'\n",
       "5. 'cptable'\n",
       "6. 'method'\n",
       "7. 'parms'\n",
       "8. 'control'\n",
       "9. 'functions'\n",
       "10. 'numresp'\n",
       "11. 'splits'\n",
       "12. 'csplit'\n",
       "13. 'variable.importance'\n",
       "14. 'y'\n",
       "15. 'ordered'\n",
       "\n",
       "\n",
       "\n",
       "$xlevels\n",
       ":   $AIQ\n",
       ":   1. 'BAD'\n",
       "2. 'GOOD'\n",
       "3. 'MEDIUM'\n",
       "\n",
       "\n",
       "\n",
       "$rainfallVolume\n",
       ":   1. 'HIGH'\n",
       "2. 'LOW'\n",
       "\n",
       "\n",
       "\n",
       "$WindIndexQuality\n",
       ":   1. 'HIGH'\n",
       "2. 'LOW'\n",
       "3. 'MEDIUM'\n",
       "\n",
       "\n",
       "\n",
       "\n",
       "\n",
       "\n",
       "$ylevels\n",
       ":   1. 'BAD'\n",
       "2. 'GOOD'\n",
       "3. 'MEDIUM'\n",
       "\n",
       "\n",
       "\n",
       "$class\n",
       ":   'rpart'\n",
       "\n",
       "\n"
      ],
      "text/plain": [
       "$names\n",
       " [1] \"frame\"               \"where\"               \"call\"               \n",
       " [4] \"terms\"               \"cptable\"             \"method\"             \n",
       " [7] \"parms\"               \"control\"             \"functions\"          \n",
       "[10] \"numresp\"             \"splits\"              \"csplit\"             \n",
       "[13] \"variable.importance\" \"y\"                   \"ordered\"            \n",
       "\n",
       "$xlevels\n",
       "$xlevels$AIQ\n",
       "[1] \"BAD\"    \"GOOD\"   \"MEDIUM\"\n",
       "\n",
       "$xlevels$rainfallVolume\n",
       "[1] \"HIGH\" \"LOW\" \n",
       "\n",
       "$xlevels$WindIndexQuality\n",
       "[1] \"HIGH\"   \"LOW\"    \"MEDIUM\"\n",
       "\n",
       "\n",
       "$ylevels\n",
       "[1] \"BAD\"    \"GOOD\"   \"MEDIUM\"\n",
       "\n",
       "$class\n",
       "[1] \"rpart\"\n"
      ]
     },
     "metadata": {},
     "output_type": "display_data"
    }
   ],
   "source": [
    "attributes(madrid_rpart)"
   ]
  },
  {
   "cell_type": "code",
   "execution_count": 317,
   "metadata": {},
   "outputs": [
    {
     "name": "stdout",
     "output_type": "stream",
     "text": [
      "Call:\n",
      "rpart(formula = myFormula, data = trainData, control = rpart.control(minsplit = 10))\n",
      "  n= 96021 \n",
      "\n",
      "         CP nsplit rel error    xerror        xstd\n",
      "1 0.1860097      0 1.0000000 1.0000000 0.003355971\n",
      "2 0.1008844      1 0.8139903 0.8139903 0.003277871\n",
      "3 0.0100000      2 0.7131059 0.7131059 0.003187792\n",
      "\n",
      "Variable importance\n",
      "AIQ \n",
      "100 \n",
      "\n",
      "Node number 1: 96021 observations,    complexity param=0.1860097\n",
      "  predicted class=MEDIUM  expected loss=0.4804366  P(node) =1\n",
      "    class counts: 26508 19624 49889\n",
      "   probabilities: 0.276 0.204 0.520 \n",
      "  left son=2 (26593 obs) right son=3 (69428 obs)\n",
      "  Primary splits:\n",
      "      AIQ              splits as  LRR, improve=7742.668, (0 missing)\n",
      "      rainfallVolume   splits as  RL,  improve= 770.883, (0 missing)\n",
      "      WindIndexQuality splits as  RLL, improve= 502.584, (0 missing)\n",
      "\n",
      "Node number 2: 26593 observations\n",
      "  predicted class=BAD     expected loss=0.3493401  P(node) =0.2769498\n",
      "    class counts: 17303   568  8722\n",
      "   probabilities: 0.651 0.021 0.328 \n",
      "\n",
      "Node number 3: 69428 observations,    complexity param=0.1008844\n",
      "  predicted class=MEDIUM  expected loss=0.4070548  P(node) =0.7230502\n",
      "    class counts:  9205 19056 41167\n",
      "   probabilities: 0.133 0.274 0.593 \n",
      "  left son=6 (19531 obs) right son=7 (49897 obs)\n",
      "  Primary splits:\n",
      "      AIQ              splits as  -LR, improve=4639.7080, (0 missing)\n",
      "      rainfallVolume   splits as  RL,  improve= 374.5279, (0 missing)\n",
      "      WindIndexQuality splits as  RRL, improve= 235.2351, (0 missing)\n",
      "\n",
      "Node number 6: 19531 observations\n",
      "  predicted class=GOOD    expected loss=0.3959347  P(node) =0.2034034\n",
      "    class counts:   589 11798  7144\n",
      "   probabilities: 0.030 0.604 0.366 \n",
      "\n",
      "Node number 7: 49897 observations\n",
      "  predicted class=MEDIUM  expected loss=0.3181354  P(node) =0.5196467\n",
      "    class counts:  8616  7258 34023\n",
      "   probabilities: 0.173 0.145 0.682 \n",
      "\n"
     ]
    }
   ],
   "source": [
    "summary(madrid_rpart)"
   ]
  },
  {
   "cell_type": "code",
   "execution_count": 318,
   "metadata": {},
   "outputs": [
    {
     "data": {
      "image/png": "[encoded data removed]",
      "text/plain": [
       "Plot with title \"\""
      ]
     },
     "metadata": {},
     "output_type": "display_data"
    }
   ],
   "source": [
    "fancyRpartPlot(madrid_rpart, caption = NULL)"
   ]
  },
  {
   "cell_type": "markdown",
   "metadata": {},
   "source": [
    "Cada caja de nodo muestra la clasificación, la probabilidad de cada clase en ese nodo (es decir, la probabilidad de la clase condicionada en el nodo) y el porcentaje de observaciones utilizadas en ese nodo. "
   ]
  },
  {
   "cell_type": "markdown",
   "metadata": {},
   "source": [
    "Las variables independientes son la calidad del aire(AIQ), las precipitaciones y la velocidad del viento del dia anterior. \n",
    "\n",
    "La variable dependiente es la calidad del aire del dia siguiente.\n",
    "\n",
    "Si la calidad del aire del dia anterior(AIQ) es mala teniendo en cuenta el valor del resto de variables independientes, la calidad del aire al dia siguiente será mala en un 28% de los casos, en caso contrario la calidad del aire al dia siguiente será media en un 72% de los casos. \n",
    "\n",
    "Si ademas de no ser mala la calidad del aire del dia anterior es buena, la calidad del aire del dia siguiente sera buena en un 20% de los casos y media en un 52% de los casos."
   ]
  },
  {
   "cell_type": "markdown",
   "metadata": {},
   "source": [
    "#### Predicción con los datos de test"
   ]
  },
  {
   "cell_type": "markdown",
   "metadata": {},
   "source": [
    "Se añadirá una nueva columna, en esta columna se encontrará el valor predicho por el árbol de decisión"
   ]
  },
  {
   "cell_type": "code",
   "execution_count": 319,
   "metadata": {},
   "outputs": [
    {
     "data": {
      "text/html": [
       "<table>\n",
       "<thead><tr><th></th><th scope=col>date</th><th scope=col>station</th><th scope=col>CO</th><th scope=col>NO_2</th><th scope=col>O_3</th><th scope=col>PM10</th><th scope=col>SO_2</th><th scope=col>AQ</th><th scope=col>AQNextDay</th><th scope=col>AIQ</th><th scope=col>AIQNextDay</th><th scope=col>quantity</th><th scope=col>rainfallVolume</th><th scope=col>Speed</th><th scope=col>WindIndexQuality</th><th scope=col>AIQExpected</th></tr></thead>\n",
       "<tbody>\n",
       "\t<tr><th scope=row>36098</th><td>2005-09-01</td><td>28079039  </td><td>0.7016667 </td><td>72.20583  </td><td>35.91696  </td><td>11.42000  </td><td>7.513750  </td><td>72.20583  </td><td>86.23957  </td><td>MEDIUM    </td><td>BAD       </td><td>0.0       </td><td>LOW       </td><td>1.1       </td><td>MEDIUM    </td><td>MEDIUM    </td></tr>\n",
       "\t<tr><th scope=row>36110</th><td>2005-09-02</td><td>28079039  </td><td>0.6775000 </td><td>76.58500  </td><td>43.05773  </td><td>86.23957  </td><td>8.038750  </td><td>86.23957  </td><td>60.24391  </td><td>BAD       </td><td>MEDIUM    </td><td>0.0       </td><td>LOW       </td><td>0.8       </td><td>MEDIUM    </td><td>BAD       </td></tr>\n",
       "\t<tr><th scope=row>36142</th><td>2005-09-03</td><td>28079039  </td><td>0.5225000 </td><td>48.17250  </td><td>60.24391  </td><td>44.47045  </td><td>6.763333  </td><td>60.24391  </td><td>81.37125  </td><td>MEDIUM    </td><td>BAD       </td><td>0.0       </td><td>LOW       </td><td>1.7       </td><td>MEDIUM    </td><td>MEDIUM    </td></tr>\n",
       "\t<tr><th scope=row>36159</th><td>2005-09-04</td><td>28079039  </td><td>0.9395833 </td><td>81.37125  </td><td>33.38217  </td><td>31.92412  </td><td>8.664167  </td><td>81.37125  </td><td>48.32500  </td><td>BAD       </td><td>MEDIUM    </td><td>0.0       </td><td>LOW       </td><td>2.2       </td><td>MEDIUM    </td><td>BAD       </td></tr>\n",
       "\t<tr><th scope=row>36188</th><td>2005-09-05</td><td>28079039  </td><td>0.6212500 </td><td>39.21750  </td><td>42.94913  </td><td>48.32500  </td><td>6.352500  </td><td>48.32500  </td><td>45.98130  </td><td>MEDIUM    </td><td>GOOD      </td><td>0.0       </td><td>LOW       </td><td>3.3       </td><td>HIGH      </td><td>MEDIUM    </td></tr>\n",
       "\t<tr><th scope=row>36216</th><td>2005-09-06</td><td>28079039  </td><td>0.5654167 </td><td>31.01583  </td><td>45.98130  </td><td>35.21783  </td><td>6.028750  </td><td>45.98130  </td><td>44.74636  </td><td>GOOD      </td><td>GOOD      </td><td>2.5       </td><td>HIGH      </td><td>3.1       </td><td>HIGH      </td><td>GOOD      </td></tr>\n",
       "</tbody>\n",
       "</table>\n"
      ],
      "text/latex": [
       "\\begin{tabular}{r|llllllllllllllll}\n",
       "  & date & station & CO & NO\\_2 & O\\_3 & PM10 & SO\\_2 & AQ & AQNextDay & AIQ & AIQNextDay & quantity & rainfallVolume & Speed & WindIndexQuality & AIQExpected\\\\\n",
       "\\hline\n",
       "\t36098 & 2005-09-01 & 28079039   & 0.7016667  & 72.20583   & 35.91696   & 11.42000   & 7.513750   & 72.20583   & 86.23957   & MEDIUM     & BAD        & 0.0        & LOW        & 1.1        & MEDIUM     & MEDIUM    \\\\\n",
       "\t36110 & 2005-09-02 & 28079039   & 0.6775000  & 76.58500   & 43.05773   & 86.23957   & 8.038750   & 86.23957   & 60.24391   & BAD        & MEDIUM     & 0.0        & LOW        & 0.8        & MEDIUM     & BAD       \\\\\n",
       "\t36142 & 2005-09-03 & 28079039   & 0.5225000  & 48.17250   & 60.24391   & 44.47045   & 6.763333   & 60.24391   & 81.37125   & MEDIUM     & BAD        & 0.0        & LOW        & 1.7        & MEDIUM     & MEDIUM    \\\\\n",
       "\t36159 & 2005-09-04 & 28079039   & 0.9395833  & 81.37125   & 33.38217   & 31.92412   & 8.664167   & 81.37125   & 48.32500   & BAD        & MEDIUM     & 0.0        & LOW        & 2.2        & MEDIUM     & BAD       \\\\\n",
       "\t36188 & 2005-09-05 & 28079039   & 0.6212500  & 39.21750   & 42.94913   & 48.32500   & 6.352500   & 48.32500   & 45.98130   & MEDIUM     & GOOD       & 0.0        & LOW        & 3.3        & HIGH       & MEDIUM    \\\\\n",
       "\t36216 & 2005-09-06 & 28079039   & 0.5654167  & 31.01583   & 45.98130   & 35.21783   & 6.028750   & 45.98130   & 44.74636   & GOOD       & GOOD       & 2.5        & HIGH       & 3.1        & HIGH       & GOOD      \\\\\n",
       "\\end{tabular}\n"
      ],
      "text/markdown": [
       "\n",
       "| <!--/--> | date | station | CO | NO_2 | O_3 | PM10 | SO_2 | AQ | AQNextDay | AIQ | AIQNextDay | quantity | rainfallVolume | Speed | WindIndexQuality | AIQExpected | \n",
       "|---|---|---|---|---|---|\n",
       "| 36098 | 2005-09-01 | 28079039   | 0.7016667  | 72.20583   | 35.91696   | 11.42000   | 7.513750   | 72.20583   | 86.23957   | MEDIUM     | BAD        | 0.0        | LOW        | 1.1        | MEDIUM     | MEDIUM     | \n",
       "| 36110 | 2005-09-02 | 28079039   | 0.6775000  | 76.58500   | 43.05773   | 86.23957   | 8.038750   | 86.23957   | 60.24391   | BAD        | MEDIUM     | 0.0        | LOW        | 0.8        | MEDIUM     | BAD        | \n",
       "| 36142 | 2005-09-03 | 28079039   | 0.5225000  | 48.17250   | 60.24391   | 44.47045   | 6.763333   | 60.24391   | 81.37125   | MEDIUM     | BAD        | 0.0        | LOW        | 1.7        | MEDIUM     | MEDIUM     | \n",
       "| 36159 | 2005-09-04 | 28079039   | 0.9395833  | 81.37125   | 33.38217   | 31.92412   | 8.664167   | 81.37125   | 48.32500   | BAD        | MEDIUM     | 0.0        | LOW        | 2.2        | MEDIUM     | BAD        | \n",
       "| 36188 | 2005-09-05 | 28079039   | 0.6212500  | 39.21750   | 42.94913   | 48.32500   | 6.352500   | 48.32500   | 45.98130   | MEDIUM     | GOOD       | 0.0        | LOW        | 3.3        | HIGH       | MEDIUM     | \n",
       "| 36216 | 2005-09-06 | 28079039   | 0.5654167  | 31.01583   | 45.98130   | 35.21783   | 6.028750   | 45.98130   | 44.74636   | GOOD       | GOOD       | 2.5        | HIGH       | 3.1        | HIGH       | GOOD       | \n",
       "\n",
       "\n"
      ],
      "text/plain": [
       "      date       station  CO        NO_2     O_3      PM10     SO_2    \n",
       "36098 2005-09-01 28079039 0.7016667 72.20583 35.91696 11.42000 7.513750\n",
       "36110 2005-09-02 28079039 0.6775000 76.58500 43.05773 86.23957 8.038750\n",
       "36142 2005-09-03 28079039 0.5225000 48.17250 60.24391 44.47045 6.763333\n",
       "36159 2005-09-04 28079039 0.9395833 81.37125 33.38217 31.92412 8.664167\n",
       "36188 2005-09-05 28079039 0.6212500 39.21750 42.94913 48.32500 6.352500\n",
       "36216 2005-09-06 28079039 0.5654167 31.01583 45.98130 35.21783 6.028750\n",
       "      AQ       AQNextDay AIQ    AIQNextDay quantity rainfallVolume Speed\n",
       "36098 72.20583 86.23957  MEDIUM BAD        0.0      LOW            1.1  \n",
       "36110 86.23957 60.24391  BAD    MEDIUM     0.0      LOW            0.8  \n",
       "36142 60.24391 81.37125  MEDIUM BAD        0.0      LOW            1.7  \n",
       "36159 81.37125 48.32500  BAD    MEDIUM     0.0      LOW            2.2  \n",
       "36188 48.32500 45.98130  MEDIUM GOOD       0.0      LOW            3.3  \n",
       "36216 45.98130 44.74636  GOOD   GOOD       2.5      HIGH           3.1  \n",
       "      WindIndexQuality AIQExpected\n",
       "36098 MEDIUM           MEDIUM     \n",
       "36110 MEDIUM           BAD        \n",
       "36142 MEDIUM           MEDIUM     \n",
       "36159 MEDIUM           BAD        \n",
       "36188 HIGH             MEDIUM     \n",
       "36216 HIGH             GOOD       "
      ]
     },
     "metadata": {},
     "output_type": "display_data"
    }
   ],
   "source": [
    "testData$AIQExpected <- predict(madrid_rpart, newdata = testData, type = \"class\")\n",
    "head(testData)"
   ]
  },
  {
   "cell_type": "code",
   "execution_count": 320,
   "metadata": {},
   "outputs": [
    {
     "data": {
      "text/plain": [
       "        \n",
       "           BAD  GOOD MEDIUM\n",
       "  BAD     4266   282   2570\n",
       "  GOOD     242 11896   3937\n",
       "  MEDIUM  2588  3868  11504\n",
       "  NA         1     0      0"
      ]
     },
     "metadata": {},
     "output_type": "display_data"
    }
   ],
   "source": [
    "predictTable<- table(testData$AIQNextDay,testData$AIQExpected)\n",
    "predictTable"
   ]
  },
  {
   "cell_type": "code",
   "execution_count": 321,
   "metadata": {},
   "outputs": [
    {
     "data": {
      "text/html": [
       "0.672255430820819"
      ],
      "text/latex": [
       "0.672255430820819"
      ],
      "text/markdown": [
       "0.672255430820819"
      ],
      "text/plain": [
       "[1] 0.6722554"
      ]
     },
     "metadata": {},
     "output_type": "display_data"
    }
   ],
   "source": [
    "accuracy <- sum(diag(predictTable))/sum(predictTable)\n",
    "accuracy"
   ]
  },
  {
   "cell_type": "markdown",
   "metadata": {},
   "source": [
    "Liberamos memoria"
   ]
  },
  {
   "cell_type": "code",
   "execution_count": 322,
   "metadata": {},
   "outputs": [],
   "source": [
    "rm (list=ls())"
   ]
  },
  {
   "cell_type": "markdown",
   "metadata": {},
   "source": [
    "## 5º FASE: ASSESS (Resultados y Evaluaciones)"
   ]
  },
  {
   "cell_type": "markdown",
   "metadata": {},
   "source": [
    "Se evalúan los resultados del proceso de minería de datos, midiendo su utilidad y fiabilidad para cada uno de los modelos, se aplicará una **validación simple**.\n",
    "- Modelo aplicado para version01\n",
    "- Modelo aplciado para version02\n",
    "- Modelo aplicado para version03"
   ]
  },
  {
   "cell_type": "markdown",
   "metadata": {},
   "source": [
    "### Conclusiones sobre version01"
   ]
  },
  {
   "cell_type": "markdown",
   "metadata": {},
   "source": [
    "<p style=\"text-align: justify;\">\n",
    "Observamos que para el dataframe que contiene las variables categoricas según las fuentes expuestas anteriormente tiene una precisión de 61%, por lo que no es significativo.\n",
    "</p>"
   ]
  },
  {
   "cell_type": "markdown",
   "metadata": {},
   "source": [
    "### Conclusiones sobre dataversion02"
   ]
  },
  {
   "cell_type": "markdown",
   "metadata": {},
   "source": [
    "<p style=\"text-align: justify;\">\n",
    "Observamos que para el dataframe que contiene las variables categoricas según las fuentes expuestas anteriormente tiene una precisión que no llega al 1% por tanto hemos podido comprabar que relizar el estudio por meses no ha sido una buena opción.\n",
    "</p>"
   ]
  },
  {
   "cell_type": "markdown",
   "metadata": {},
   "source": [
    "### Conclusiones sobre dataversion03"
   ]
  },
  {
   "cell_type": "markdown",
   "metadata": {},
   "source": [
    "<p style=\"text-align: justify;\">\n",
    "Observamos que para el dataframe que contiene las variables categoricas según las fuentes expuestas anteriormente tiene una precisión casi del 70%, por lo que nos permite comprobar que obteniendo variables categoricas basadas solamente en los cuariles como corte, podemos probar que las precipitaciones tienen influencia directa en la contaminación.\n",
    "</p>"
   ]
  },
  {
   "cell_type": "markdown",
   "metadata": {},
   "source": [
    "## 6. Conclusiones"
   ]
  },
  {
   "cell_type": "markdown",
   "metadata": {},
   "source": [
    "<p style=\"text-align: justify;\">\n",
    "Tras el estudio realizado sobre el impacto de las precipitaciones y la velocidad del viento en la ciudad de Madrid, se ha podido comprobar que factores meteorológicos como la lluvia y el viento afectan de manera significativa a la contaminación al día siguiente, produciendo un descenso de la misma. \n",
    "</p>\n",
    "<p style=\"text-align: justify;\">\n",
    "El objetivo es ampliar el estudio aplicando nuevos modelos, por ejemplo, reglas de asociación estableciendo el consecuente en la contaminación del dia al siguiente y obtener los antecedetnes que lo provocan e  incluir nuevas ventanas temporales como estudiar el impacto a los dos días, a la semanas, nuevas variables como temperatura, densiodad del tráfico...\n",
    "</p>"
   ]
  },
  {
   "cell_type": "markdown",
   "metadata": {},
   "source": [
    "## 7. Bibliografía"
   ]
  },
  {
   "cell_type": "markdown",
   "metadata": {},
   "source": [
    "Además de todos los apuntes de la propia asignatura, a continuación se adjuntan las Fuentes utilizadas para la realización del proyecto:\n",
    "\n",
    "[Datos precipitaciones AEMET](https://datosclima.es/Aemet2013/Precipitacion2013.php)  \n",
    "[Datos viento AEMET](https://datosclima.es/Aemet2013/Viento2013.php)  \n",
    "[Página para consultar dudas durante realización del proyecto](https://stackoverflow.com/)  \n",
    "[Discretización de la contaminación](https://www.epa.vic.gov.au/your-environment/air/air-pollution/air-quality-index/calculating-a-station-air-quality-index)  \n",
    "[Discretización de la lluvia](http://apuntesdearquitecturadigital.blogspot.com/2017/05/analisis-climatico-precipitaciones.html)  \n",
    "[Discretización de la velocidad del viento](https://es.wikipedia.org/wiki/Escala_de_Beaufort)  \n",
    "[Utilización de árboles de decisión con r-part](https://www.gormanalysis.com/blog/decision-trees-in-r-using-rpart/)  \n",
    "[Utilización fancyRpartPlot -Dibujar árbol de decisión-](https://www.rdocumentation.org/packages/rattle/versions/5.2.0/topics/fancyRpartPlot)  \n",
    "[Utilización modelos generalizados de regresión](https://www.theanalysisfactor.com/generalized-linear-models-glm-r-part4/)  \n",
    "[Artículo sobre la relación de las precipitaciones y el descenso de la contaminación](https://www.sciencedirect.com/science/article/pii/S2352146517305951)  \n"
   ]
  }
 ],
 "metadata": {
  "kernelspec": {
   "display_name": "R",
   "language": "R",
   "name": "ir"
  },
  "language_info": {
   "codemirror_mode": "r",
   "file_extension": ".r",
   "mimetype": "text/x-r-source",
   "name": "R",
   "pygments_lexer": "r",
   "version": "3.5.1"
  }
 },
 "nbformat": 4,
 "nbformat_minor": 2
}
